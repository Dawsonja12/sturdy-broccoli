{
 "cells": [
  {
   "cell_type": "code",
   "execution_count": 30,
   "metadata": {},
   "outputs": [],
   "source": [
    "#Import the packages we will need \n",
    "#Requests to interact with the api, pandas for working with the data, numpy for data calcs\n",
    "\n",
    "import requests\n",
    "import pandas as pd\n",
    "import numpy as np\n",
    "import plotly.express as px\n",
    "import plotly.graph_objects as go\n",
    "from datetime import datetime\n",
    "import json"
   ]
  },
  {
   "cell_type": "code",
   "execution_count": 31,
   "metadata": {},
   "outputs": [
    {
     "data": {
      "text/plain": [
       "31.0"
      ]
     },
     "execution_count": 31,
     "metadata": {},
     "output_type": "execute_result"
    }
   ],
   "source": [
    "#This function retrieves the gameweek used later in the code for filtering of the data\n",
    "\n",
    "\n",
    "def get_recent_gameweek_id():\n",
    "    \"\"\"\n",
    "    Get's the most recent gameweek's ID.\n",
    "    \"\"\"\n",
    "\n",
    "    data = requests.get('https://fantasy.premierleague.com/api/bootstrap-static/')\n",
    "    data = json.loads(data.content)\n",
    "\n",
    "    gameweeks = data['events']\n",
    "    \n",
    "    now = datetime.utcnow()\n",
    "    for gameweek in gameweeks:\n",
    "        next_deadline_date = datetime.strptime(gameweek['deadline_time'], '%Y-%m-%dT%H:%M:%SZ')\n",
    "        if next_deadline_date > now:\n",
    "            return gameweek['id'] - 1\n",
    "\n",
    "\n",
    "if __name__ == '__main__':\n",
    "     GW = float(get_recent_gameweek_id())\n",
    "    \n",
    "GW\n",
    "    "
   ]
  },
  {
   "cell_type": "code",
   "execution_count": 53,
   "metadata": {},
   "outputs": [
    {
     "data": {
      "text/plain": [
       "dict_keys(['events', 'game_settings', 'phases', 'teams', 'total_players', 'elements', 'element_stats', 'element_types'])"
      ]
     },
     "execution_count": 53,
     "metadata": {},
     "output_type": "execute_result"
    }
   ],
   "source": [
    "#Initial download of all data from the fpl api\n",
    "\n",
    "url = 'https://fantasy.premierleague.com/api/bootstrap-static/'\n",
    "\n",
    "r = requests.get(url)\n",
    "\n",
    "json = r.json()\n",
    "\n",
    "#This lets us examine the JSON objext so we know what to do with it\n",
    "\n",
    "json.keys()"
   ]
  },
  {
   "cell_type": "code",
   "execution_count": 54,
   "metadata": {
    "scrolled": false
   },
   "outputs": [
    {
     "data": {
      "text/html": [
       "<div>\n",
       "<style scoped>\n",
       "    .dataframe tbody tr th:only-of-type {\n",
       "        vertical-align: middle;\n",
       "    }\n",
       "\n",
       "    .dataframe tbody tr th {\n",
       "        vertical-align: top;\n",
       "    }\n",
       "\n",
       "    .dataframe thead th {\n",
       "        text-align: right;\n",
       "    }\n",
       "</style>\n",
       "<table border=\"1\" class=\"dataframe\">\n",
       "  <thead>\n",
       "    <tr style=\"text-align: right;\">\n",
       "      <th></th>\n",
       "      <th>code</th>\n",
       "      <th>draw</th>\n",
       "      <th>form</th>\n",
       "      <th>id</th>\n",
       "      <th>loss</th>\n",
       "      <th>name</th>\n",
       "      <th>played</th>\n",
       "      <th>points</th>\n",
       "      <th>position</th>\n",
       "      <th>short_name</th>\n",
       "      <th>...</th>\n",
       "      <th>team_division</th>\n",
       "      <th>unavailable</th>\n",
       "      <th>win</th>\n",
       "      <th>strength_overall_away</th>\n",
       "      <th>strength_overall_home</th>\n",
       "      <th>strength_attack_home</th>\n",
       "      <th>strength_attack_away</th>\n",
       "      <th>strength_defence_home</th>\n",
       "      <th>strength_defence_away</th>\n",
       "      <th>pulse_id</th>\n",
       "    </tr>\n",
       "  </thead>\n",
       "  <tbody>\n",
       "    <tr>\n",
       "      <th>0</th>\n",
       "      <td>3</td>\n",
       "      <td>0</td>\n",
       "      <td>None</td>\n",
       "      <td>1</td>\n",
       "      <td>0</td>\n",
       "      <td>Arsenal</td>\n",
       "      <td>0</td>\n",
       "      <td>0</td>\n",
       "      <td>0</td>\n",
       "      <td>ARS</td>\n",
       "      <td>...</td>\n",
       "      <td>None</td>\n",
       "      <td>False</td>\n",
       "      <td>0</td>\n",
       "      <td>1200</td>\n",
       "      <td>1250</td>\n",
       "      <td>1130</td>\n",
       "      <td>1150</td>\n",
       "      <td>1220</td>\n",
       "      <td>1210</td>\n",
       "      <td>1</td>\n",
       "    </tr>\n",
       "    <tr>\n",
       "      <th>1</th>\n",
       "      <td>7</td>\n",
       "      <td>0</td>\n",
       "      <td>None</td>\n",
       "      <td>2</td>\n",
       "      <td>0</td>\n",
       "      <td>Aston Villa</td>\n",
       "      <td>0</td>\n",
       "      <td>0</td>\n",
       "      <td>0</td>\n",
       "      <td>AVL</td>\n",
       "      <td>...</td>\n",
       "      <td>None</td>\n",
       "      <td>False</td>\n",
       "      <td>0</td>\n",
       "      <td>1100</td>\n",
       "      <td>1160</td>\n",
       "      <td>1120</td>\n",
       "      <td>1140</td>\n",
       "      <td>1080</td>\n",
       "      <td>1100</td>\n",
       "      <td>2</td>\n",
       "    </tr>\n",
       "    <tr>\n",
       "      <th>2</th>\n",
       "      <td>36</td>\n",
       "      <td>0</td>\n",
       "      <td>None</td>\n",
       "      <td>3</td>\n",
       "      <td>0</td>\n",
       "      <td>Brighton</td>\n",
       "      <td>0</td>\n",
       "      <td>0</td>\n",
       "      <td>0</td>\n",
       "      <td>BHA</td>\n",
       "      <td>...</td>\n",
       "      <td>None</td>\n",
       "      <td>False</td>\n",
       "      <td>0</td>\n",
       "      <td>1130</td>\n",
       "      <td>1130</td>\n",
       "      <td>1150</td>\n",
       "      <td>1190</td>\n",
       "      <td>1100</td>\n",
       "      <td>1130</td>\n",
       "      <td>131</td>\n",
       "    </tr>\n",
       "    <tr>\n",
       "      <th>3</th>\n",
       "      <td>90</td>\n",
       "      <td>0</td>\n",
       "      <td>None</td>\n",
       "      <td>4</td>\n",
       "      <td>0</td>\n",
       "      <td>Burnley</td>\n",
       "      <td>0</td>\n",
       "      <td>0</td>\n",
       "      <td>0</td>\n",
       "      <td>BUR</td>\n",
       "      <td>...</td>\n",
       "      <td>None</td>\n",
       "      <td>False</td>\n",
       "      <td>0</td>\n",
       "      <td>1060</td>\n",
       "      <td>1070</td>\n",
       "      <td>1040</td>\n",
       "      <td>1090</td>\n",
       "      <td>1040</td>\n",
       "      <td>1080</td>\n",
       "      <td>43</td>\n",
       "    </tr>\n",
       "    <tr>\n",
       "      <th>4</th>\n",
       "      <td>8</td>\n",
       "      <td>0</td>\n",
       "      <td>None</td>\n",
       "      <td>5</td>\n",
       "      <td>0</td>\n",
       "      <td>Chelsea</td>\n",
       "      <td>0</td>\n",
       "      <td>0</td>\n",
       "      <td>0</td>\n",
       "      <td>CHE</td>\n",
       "      <td>...</td>\n",
       "      <td>None</td>\n",
       "      <td>False</td>\n",
       "      <td>0</td>\n",
       "      <td>1250</td>\n",
       "      <td>1280</td>\n",
       "      <td>1260</td>\n",
       "      <td>1300</td>\n",
       "      <td>1250</td>\n",
       "      <td>1310</td>\n",
       "      <td>4</td>\n",
       "    </tr>\n",
       "  </tbody>\n",
       "</table>\n",
       "<p>5 rows × 21 columns</p>\n",
       "</div>"
      ],
      "text/plain": [
       "   code  draw  form  id  loss         name  played  points  position  \\\n",
       "0     3     0  None   1     0      Arsenal       0       0         0   \n",
       "1     7     0  None   2     0  Aston Villa       0       0         0   \n",
       "2    36     0  None   3     0     Brighton       0       0         0   \n",
       "3    90     0  None   4     0      Burnley       0       0         0   \n",
       "4     8     0  None   5     0      Chelsea       0       0         0   \n",
       "\n",
       "  short_name  ...  team_division unavailable  win  strength_overall_away  \\\n",
       "0        ARS  ...           None       False    0                   1200   \n",
       "1        AVL  ...           None       False    0                   1100   \n",
       "2        BHA  ...           None       False    0                   1130   \n",
       "3        BUR  ...           None       False    0                   1060   \n",
       "4        CHE  ...           None       False    0                   1250   \n",
       "\n",
       "   strength_overall_home  strength_attack_home  strength_attack_away  \\\n",
       "0                   1250                  1130                  1150   \n",
       "1                   1160                  1120                  1140   \n",
       "2                   1130                  1150                  1190   \n",
       "3                   1070                  1040                  1090   \n",
       "4                   1280                  1260                  1300   \n",
       "\n",
       "   strength_defence_home  strength_defence_away  pulse_id  \n",
       "0                   1220                   1210         1  \n",
       "1                   1080                   1100         2  \n",
       "2                   1100                   1130       131  \n",
       "3                   1040                   1080        43  \n",
       "4                   1250                   1310         4  \n",
       "\n",
       "[5 rows x 21 columns]"
      ]
     },
     "execution_count": 54,
     "metadata": {},
     "output_type": "execute_result"
    }
   ],
   "source": [
    "#Create pandas data frames for each of the data keys\n",
    "\n",
    "elements_df = pd.DataFrame(json['elements'])\n",
    "elements_types_df = pd.DataFrame(json['element_types'])\n",
    "elements_stats_df = pd.DataFrame(json['element_stats'])\n",
    "teams_df = pd.DataFrame(json['teams'])\n",
    "events_df = pd.DataFrame(json['events'])\n",
    "phases_df = pd.DataFrame(json['phases'])\n",
    "\n",
    "#The columns for strength are misnamed so this funtion simply renames the columns.\n",
    "teams_df.rename(columns={'strength_overall_home': 'strength_overall_away', 'strength_overall_away': 'strength_overall_home'}, inplace=True)\n",
    "\n",
    "teams_df.head()"
   ]
  },
  {
   "cell_type": "code",
   "execution_count": 34,
   "metadata": {
    "scrolled": false
   },
   "outputs": [],
   "source": [
    "#some unused charts\n",
    "\n",
    "\n",
    "#fig = go.Figure([go.Bar(name=\"home\", x=teams_df[\"name\"], y= teams_df[\"strength_overall_home\"],offsetgroup=0,),\n",
    " #                go.Bar(name =\"away\", x=teams_df[\"name\"], y= teams_df[\"strength_overall_away\"],offsetgroup=1,),],layout=go.Layout(\n",
    "#        title=\"Overall strength\"))              \n",
    "\n",
    "#fig2 = go.Figure([go.Bar(name=\"home\", x=teams_df[\"name\"], y= teams_df[\"strength_attack_home\"],offsetgroup=0,),\n",
    "#                 go.Bar(name =\"away\", x=teams_df[\"name\"], y= teams_df[\"strength_attack_away\"],offsetgroup=1,),],layout=go.Layout(\n",
    "#       title=\"Attacking strength\"))\n",
    "\n",
    "#fig3 = go.Figure([go.Bar(name=\"home\", x=teams_df[\"name\"], y= teams_df[\"strength_defence_home\"],offsetgroup=0,),\n",
    " #                go.Bar(name =\"away\", x=teams_df[\"name\"], y= teams_df[\"strength_defence_away\"],offsetgroup=1,),],layout=go.Layout(\n",
    "  #      title=\"Defensive strength\"))\n",
    "\n",
    "#fig.show()\n",
    "\n",
    "#fig2.show()\n",
    "\n",
    "#fig3.show()"
   ]
  },
  {
   "cell_type": "code",
   "execution_count": 35,
   "metadata": {},
   "outputs": [],
   "source": [
    "\n",
    "#Filter out any columns we dont't need\n",
    "\n",
    "slim_elements_df = elements_df[['first_name','second_name','team','element_type','minutes',\n",
    "                                'now_cost','minutes','value_season','value_form','form','total_points','points_per_game',\n",
    "                               'threat','influence','creativity','news']].copy()\n",
    "\n",
    "\n",
    "#slim_elements_df.head(5)"
   ]
  },
  {
   "cell_type": "code",
   "execution_count": 36,
   "metadata": {},
   "outputs": [],
   "source": [
    "slim_elements_df.loc[:,'position'] = slim_elements_df.element_type.map(elements_types_df.set_index('id').singular_name)\n",
    "#slim_elements_df.head()"
   ]
  },
  {
   "cell_type": "code",
   "execution_count": 37,
   "metadata": {},
   "outputs": [
    {
     "data": {
      "text/html": [
       "<div>\n",
       "<style scoped>\n",
       "    .dataframe tbody tr th:only-of-type {\n",
       "        vertical-align: middle;\n",
       "    }\n",
       "\n",
       "    .dataframe tbody tr th {\n",
       "        vertical-align: top;\n",
       "    }\n",
       "\n",
       "    .dataframe thead th {\n",
       "        text-align: right;\n",
       "    }\n",
       "</style>\n",
       "<table border=\"1\" class=\"dataframe\">\n",
       "  <thead>\n",
       "    <tr style=\"text-align: right;\">\n",
       "      <th></th>\n",
       "      <th>first_name</th>\n",
       "      <th>second_name</th>\n",
       "      <th>team</th>\n",
       "      <th>element_type</th>\n",
       "      <th>minutes</th>\n",
       "      <th>now_cost</th>\n",
       "      <th>minutes</th>\n",
       "      <th>value_season</th>\n",
       "      <th>value_form</th>\n",
       "      <th>form</th>\n",
       "      <th>total_points</th>\n",
       "      <th>points_per_game</th>\n",
       "      <th>threat</th>\n",
       "      <th>influence</th>\n",
       "      <th>creativity</th>\n",
       "      <th>news</th>\n",
       "      <th>position</th>\n",
       "      <th>value</th>\n",
       "    </tr>\n",
       "  </thead>\n",
       "  <tbody>\n",
       "    <tr>\n",
       "      <th>33</th>\n",
       "      <td>Emiliano</td>\n",
       "      <td>Martínez</td>\n",
       "      <td>Aston Villa</td>\n",
       "      <td>1</td>\n",
       "      <td>2700</td>\n",
       "      <td>54</td>\n",
       "      <td>2700</td>\n",
       "      <td>29.6</td>\n",
       "      <td>0.5</td>\n",
       "      <td>29.6</td>\n",
       "      <td>160.0</td>\n",
       "      <td>5.3</td>\n",
       "      <td>0.0</td>\n",
       "      <td>784.0</td>\n",
       "      <td>20.0</td>\n",
       "      <td></td>\n",
       "      <td>Goalkeeper</td>\n",
       "      <td>29.6</td>\n",
       "    </tr>\n",
       "    <tr>\n",
       "      <th>324</th>\n",
       "      <td>Illan</td>\n",
       "      <td>Meslier</td>\n",
       "      <td>Leeds</td>\n",
       "      <td>1</td>\n",
       "      <td>2700</td>\n",
       "      <td>47</td>\n",
       "      <td>2700</td>\n",
       "      <td>27.9</td>\n",
       "      <td>1.1</td>\n",
       "      <td>27.9</td>\n",
       "      <td>131.0</td>\n",
       "      <td>4.4</td>\n",
       "      <td>0.0</td>\n",
       "      <td>852.4</td>\n",
       "      <td>10.0</td>\n",
       "      <td></td>\n",
       "      <td>Goalkeeper</td>\n",
       "      <td>27.9</td>\n",
       "    </tr>\n",
       "    <tr>\n",
       "      <th>311</th>\n",
       "      <td>Stuart</td>\n",
       "      <td>Dallas</td>\n",
       "      <td>Leeds</td>\n",
       "      <td>2</td>\n",
       "      <td>2780</td>\n",
       "      <td>51</td>\n",
       "      <td>2780</td>\n",
       "      <td>27.1</td>\n",
       "      <td>1.2</td>\n",
       "      <td>27.1</td>\n",
       "      <td>138.0</td>\n",
       "      <td>4.5</td>\n",
       "      <td>386.0</td>\n",
       "      <td>593.0</td>\n",
       "      <td>357.9</td>\n",
       "      <td></td>\n",
       "      <td>Defender</td>\n",
       "      <td>27.1</td>\n",
       "    </tr>\n",
       "    <tr>\n",
       "      <th>261</th>\n",
       "      <td>Alphonse</td>\n",
       "      <td>Areola</td>\n",
       "      <td>Fulham</td>\n",
       "      <td>1</td>\n",
       "      <td>2790</td>\n",
       "      <td>46</td>\n",
       "      <td>2790</td>\n",
       "      <td>24.6</td>\n",
       "      <td>0.3</td>\n",
       "      <td>24.6</td>\n",
       "      <td>113.0</td>\n",
       "      <td>3.6</td>\n",
       "      <td>0.0</td>\n",
       "      <td>723.0</td>\n",
       "      <td>0.0</td>\n",
       "      <td></td>\n",
       "      <td>Goalkeeper</td>\n",
       "      <td>24.6</td>\n",
       "    </tr>\n",
       "    <tr>\n",
       "      <th>313</th>\n",
       "      <td>Patrick</td>\n",
       "      <td>Bamford</td>\n",
       "      <td>Leeds</td>\n",
       "      <td>4</td>\n",
       "      <td>2544</td>\n",
       "      <td>66</td>\n",
       "      <td>2544</td>\n",
       "      <td>24.5</td>\n",
       "      <td>0.7</td>\n",
       "      <td>24.5</td>\n",
       "      <td>162.0</td>\n",
       "      <td>5.2</td>\n",
       "      <td>1252.0</td>\n",
       "      <td>699.0</td>\n",
       "      <td>293.2</td>\n",
       "      <td></td>\n",
       "      <td>Forward</td>\n",
       "      <td>24.5</td>\n",
       "    </tr>\n",
       "    <tr>\n",
       "      <th>...</th>\n",
       "      <td>...</td>\n",
       "      <td>...</td>\n",
       "      <td>...</td>\n",
       "      <td>...</td>\n",
       "      <td>...</td>\n",
       "      <td>...</td>\n",
       "      <td>...</td>\n",
       "      <td>...</td>\n",
       "      <td>...</td>\n",
       "      <td>...</td>\n",
       "      <td>...</td>\n",
       "      <td>...</td>\n",
       "      <td>...</td>\n",
       "      <td>...</td>\n",
       "      <td>...</td>\n",
       "      <td>...</td>\n",
       "      <td>...</td>\n",
       "      <td>...</td>\n",
       "    </tr>\n",
       "    <tr>\n",
       "      <th>1</th>\n",
       "      <td>Sokratis</td>\n",
       "      <td>Papastathopoulos</td>\n",
       "      <td>Arsenal</td>\n",
       "      <td>2</td>\n",
       "      <td>0</td>\n",
       "      <td>48</td>\n",
       "      <td>0</td>\n",
       "      <td>0.0</td>\n",
       "      <td>0.0</td>\n",
       "      <td>0.0</td>\n",
       "      <td>0.0</td>\n",
       "      <td>0.0</td>\n",
       "      <td>0.0</td>\n",
       "      <td>0.0</td>\n",
       "      <td>0.0</td>\n",
       "      <td>Left the club by mutual consent on 20/1</td>\n",
       "      <td>Defender</td>\n",
       "      <td>0.0</td>\n",
       "    </tr>\n",
       "    <tr>\n",
       "      <th>337</th>\n",
       "      <td>Gaetano</td>\n",
       "      <td>Berardi</td>\n",
       "      <td>Leeds</td>\n",
       "      <td>2</td>\n",
       "      <td>0</td>\n",
       "      <td>40</td>\n",
       "      <td>0</td>\n",
       "      <td>0.0</td>\n",
       "      <td>0.0</td>\n",
       "      <td>0.0</td>\n",
       "      <td>0.0</td>\n",
       "      <td>0.0</td>\n",
       "      <td>0.0</td>\n",
       "      <td>0.0</td>\n",
       "      <td>0.0</td>\n",
       "      <td></td>\n",
       "      <td>Defender</td>\n",
       "      <td>0.0</td>\n",
       "    </tr>\n",
       "    <tr>\n",
       "      <th>37</th>\n",
       "      <td>Neil</td>\n",
       "      <td>Taylor</td>\n",
       "      <td>Aston Villa</td>\n",
       "      <td>2</td>\n",
       "      <td>15</td>\n",
       "      <td>42</td>\n",
       "      <td>15</td>\n",
       "      <td>-0.2</td>\n",
       "      <td>0.0</td>\n",
       "      <td>-0.2</td>\n",
       "      <td>-1.0</td>\n",
       "      <td>-1.0</td>\n",
       "      <td>0.0</td>\n",
       "      <td>0.8</td>\n",
       "      <td>0.7</td>\n",
       "      <td></td>\n",
       "      <td>Defender</td>\n",
       "      <td>-0.2</td>\n",
       "    </tr>\n",
       "    <tr>\n",
       "      <th>544</th>\n",
       "      <td>Alexandre</td>\n",
       "      <td>Jankewitz</td>\n",
       "      <td>Southampton</td>\n",
       "      <td>3</td>\n",
       "      <td>2</td>\n",
       "      <td>45</td>\n",
       "      <td>2</td>\n",
       "      <td>-0.2</td>\n",
       "      <td>0.0</td>\n",
       "      <td>-0.2</td>\n",
       "      <td>-1.0</td>\n",
       "      <td>-0.5</td>\n",
       "      <td>0.0</td>\n",
       "      <td>4.4</td>\n",
       "      <td>0.3</td>\n",
       "      <td></td>\n",
       "      <td>Midfielder</td>\n",
       "      <td>-0.2</td>\n",
       "    </tr>\n",
       "    <tr>\n",
       "      <th>538</th>\n",
       "      <td>Kayne</td>\n",
       "      <td>Ramsay</td>\n",
       "      <td>Southampton</td>\n",
       "      <td>2</td>\n",
       "      <td>90</td>\n",
       "      <td>40</td>\n",
       "      <td>90</td>\n",
       "      <td>-0.8</td>\n",
       "      <td>0.0</td>\n",
       "      <td>-0.8</td>\n",
       "      <td>-3.0</td>\n",
       "      <td>-3.0</td>\n",
       "      <td>0.0</td>\n",
       "      <td>13.2</td>\n",
       "      <td>0.0</td>\n",
       "      <td></td>\n",
       "      <td>Defender</td>\n",
       "      <td>-0.8</td>\n",
       "    </tr>\n",
       "  </tbody>\n",
       "</table>\n",
       "<p>687 rows × 18 columns</p>\n",
       "</div>"
      ],
      "text/plain": [
       "    first_name       second_name         team  element_type  minutes  \\\n",
       "33    Emiliano          Martínez  Aston Villa             1     2700   \n",
       "324      Illan           Meslier        Leeds             1     2700   \n",
       "311     Stuart            Dallas        Leeds             2     2780   \n",
       "261   Alphonse            Areola       Fulham             1     2790   \n",
       "313    Patrick           Bamford        Leeds             4     2544   \n",
       "..         ...               ...          ...           ...      ...   \n",
       "1     Sokratis  Papastathopoulos      Arsenal             2        0   \n",
       "337    Gaetano           Berardi        Leeds             2        0   \n",
       "37        Neil            Taylor  Aston Villa             2       15   \n",
       "544  Alexandre         Jankewitz  Southampton             3        2   \n",
       "538      Kayne            Ramsay  Southampton             2       90   \n",
       "\n",
       "     now_cost  minutes value_season value_form  form  total_points  \\\n",
       "33         54     2700         29.6        0.5  29.6         160.0   \n",
       "324        47     2700         27.9        1.1  27.9         131.0   \n",
       "311        51     2780         27.1        1.2  27.1         138.0   \n",
       "261        46     2790         24.6        0.3  24.6         113.0   \n",
       "313        66     2544         24.5        0.7  24.5         162.0   \n",
       "..        ...      ...          ...        ...   ...           ...   \n",
       "1          48        0          0.0        0.0   0.0           0.0   \n",
       "337        40        0          0.0        0.0   0.0           0.0   \n",
       "37         42       15         -0.2        0.0  -0.2          -1.0   \n",
       "544        45        2         -0.2        0.0  -0.2          -1.0   \n",
       "538        40       90         -0.8        0.0  -0.8          -3.0   \n",
       "\n",
       "    points_per_game  threat influence creativity  \\\n",
       "33              5.3     0.0     784.0       20.0   \n",
       "324             4.4     0.0     852.4       10.0   \n",
       "311             4.5   386.0     593.0      357.9   \n",
       "261             3.6     0.0     723.0        0.0   \n",
       "313             5.2  1252.0     699.0      293.2   \n",
       "..              ...     ...       ...        ...   \n",
       "1               0.0     0.0       0.0        0.0   \n",
       "337             0.0     0.0       0.0        0.0   \n",
       "37             -1.0     0.0       0.8        0.7   \n",
       "544            -0.5     0.0       4.4        0.3   \n",
       "538            -3.0     0.0      13.2        0.0   \n",
       "\n",
       "                                        news    position  value  \n",
       "33                                            Goalkeeper   29.6  \n",
       "324                                           Goalkeeper   27.9  \n",
       "311                                             Defender   27.1  \n",
       "261                                           Goalkeeper   24.6  \n",
       "313                                              Forward   24.5  \n",
       "..                                       ...         ...    ...  \n",
       "1    Left the club by mutual consent on 20/1    Defender    0.0  \n",
       "337                                             Defender    0.0  \n",
       "37                                              Defender   -0.2  \n",
       "544                                           Midfielder   -0.2  \n",
       "538                                             Defender   -0.8  \n",
       "\n",
       "[687 rows x 18 columns]"
      ]
     },
     "execution_count": 37,
     "metadata": {},
     "output_type": "execute_result"
    }
   ],
   "source": [
    "#Rename the team from the numerical index to the actual name \n",
    "\n",
    "slim_elements_df['team'] = slim_elements_df.team.map(teams_df.set_index('id').name)\n",
    "\n",
    "#Change the data type from str to float to enable sorting \n",
    "\n",
    "slim_elements_df['value'] = slim_elements_df.value_season.astype(float)\n",
    "\n",
    "slim_elements_df['form'] = slim_elements_df.value_season.astype(float)\n",
    "\n",
    "#slim_elements_df['games'] = slim_elements_df.games.astype(float)\n",
    "\n",
    "slim_elements_df['total_points'] = slim_elements_df.total_points.astype(float)\n",
    "\n",
    "slim_elements_df.sort_values('value',ascending=False)"
   ]
  },
  {
   "cell_type": "code",
   "execution_count": 38,
   "metadata": {
    "scrolled": false
   },
   "outputs": [],
   "source": [
    "\n",
    "# Function for creating a column with whether the player is available or not\n",
    "def unavailable(row):\n",
    "    if row['news'] != '':\n",
    "        return True\n",
    "    else:\n",
    "        return False\n",
    "    \n",
    "\n",
    "# Using function to create new column:\n",
    "slim_elements_df['unavailable'] = slim_elements_df.apply(lambda row: unavailable(row), axis=1)\n",
    "\n",
    "#slim_elements_df.head()"
   ]
  },
  {
   "cell_type": "code",
   "execution_count": 39,
   "metadata": {},
   "outputs": [
    {
     "data": {
      "text/html": [
       "<div>\n",
       "<style scoped>\n",
       "    .dataframe tbody tr th:only-of-type {\n",
       "        vertical-align: middle;\n",
       "    }\n",
       "\n",
       "    .dataframe tbody tr th {\n",
       "        vertical-align: top;\n",
       "    }\n",
       "\n",
       "    .dataframe thead th {\n",
       "        text-align: right;\n",
       "    }\n",
       "</style>\n",
       "<table border=\"1\" class=\"dataframe\">\n",
       "  <thead>\n",
       "    <tr style=\"text-align: right;\">\n",
       "      <th></th>\n",
       "      <th>first_name</th>\n",
       "      <th>second_name</th>\n",
       "      <th>team</th>\n",
       "      <th>element_type</th>\n",
       "      <th>minutes</th>\n",
       "      <th>now_cost</th>\n",
       "      <th>minutes</th>\n",
       "      <th>value_season</th>\n",
       "      <th>value_form</th>\n",
       "      <th>form</th>\n",
       "      <th>...</th>\n",
       "      <th>points_per_game</th>\n",
       "      <th>threat</th>\n",
       "      <th>influence</th>\n",
       "      <th>creativity</th>\n",
       "      <th>news</th>\n",
       "      <th>position</th>\n",
       "      <th>value</th>\n",
       "      <th>unavailable</th>\n",
       "      <th>strength_overall_home</th>\n",
       "      <th>strength_overall_away</th>\n",
       "    </tr>\n",
       "  </thead>\n",
       "  <tbody>\n",
       "    <tr>\n",
       "      <th>0</th>\n",
       "      <td>Mesut</td>\n",
       "      <td>Özil</td>\n",
       "      <td>Arsenal</td>\n",
       "      <td>3</td>\n",
       "      <td>0</td>\n",
       "      <td>67</td>\n",
       "      <td>0</td>\n",
       "      <td>0.0</td>\n",
       "      <td>0.0</td>\n",
       "      <td>0.0</td>\n",
       "      <td>...</td>\n",
       "      <td>0.0</td>\n",
       "      <td>0.0</td>\n",
       "      <td>0.0</td>\n",
       "      <td>0.0</td>\n",
       "      <td>Not included in Arsenal's 25-man Premier Leagu...</td>\n",
       "      <td>Midfielder</td>\n",
       "      <td>0.0</td>\n",
       "      <td>True</td>\n",
       "      <td>1250</td>\n",
       "      <td>1200</td>\n",
       "    </tr>\n",
       "    <tr>\n",
       "      <th>1</th>\n",
       "      <td>Sokratis</td>\n",
       "      <td>Papastathopoulos</td>\n",
       "      <td>Arsenal</td>\n",
       "      <td>2</td>\n",
       "      <td>0</td>\n",
       "      <td>48</td>\n",
       "      <td>0</td>\n",
       "      <td>0.0</td>\n",
       "      <td>0.0</td>\n",
       "      <td>0.0</td>\n",
       "      <td>...</td>\n",
       "      <td>0.0</td>\n",
       "      <td>0.0</td>\n",
       "      <td>0.0</td>\n",
       "      <td>0.0</td>\n",
       "      <td>Left the club by mutual consent on 20/1</td>\n",
       "      <td>Defender</td>\n",
       "      <td>0.0</td>\n",
       "      <td>True</td>\n",
       "      <td>1250</td>\n",
       "      <td>1200</td>\n",
       "    </tr>\n",
       "    <tr>\n",
       "      <th>2</th>\n",
       "      <td>David</td>\n",
       "      <td>Luiz Moreira Marinho</td>\n",
       "      <td>Arsenal</td>\n",
       "      <td>2</td>\n",
       "      <td>1344</td>\n",
       "      <td>54</td>\n",
       "      <td>1344</td>\n",
       "      <td>7.4</td>\n",
       "      <td>0.1</td>\n",
       "      <td>7.4</td>\n",
       "      <td>...</td>\n",
       "      <td>2.1</td>\n",
       "      <td>123.0</td>\n",
       "      <td>244.6</td>\n",
       "      <td>45.2</td>\n",
       "      <td>Knee injury - Unknown return date</td>\n",
       "      <td>Defender</td>\n",
       "      <td>7.4</td>\n",
       "      <td>True</td>\n",
       "      <td>1250</td>\n",
       "      <td>1200</td>\n",
       "    </tr>\n",
       "    <tr>\n",
       "      <th>3</th>\n",
       "      <td>Pierre-Emerick</td>\n",
       "      <td>Aubameyang</td>\n",
       "      <td>Arsenal</td>\n",
       "      <td>3</td>\n",
       "      <td>2007</td>\n",
       "      <td>114</td>\n",
       "      <td>2007</td>\n",
       "      <td>9.5</td>\n",
       "      <td>0.1</td>\n",
       "      <td>9.5</td>\n",
       "      <td>...</td>\n",
       "      <td>4.3</td>\n",
       "      <td>731.0</td>\n",
       "      <td>428.2</td>\n",
       "      <td>292.4</td>\n",
       "      <td></td>\n",
       "      <td>Midfielder</td>\n",
       "      <td>9.5</td>\n",
       "      <td>False</td>\n",
       "      <td>1250</td>\n",
       "      <td>1200</td>\n",
       "    </tr>\n",
       "    <tr>\n",
       "      <th>4</th>\n",
       "      <td>Cédric</td>\n",
       "      <td>Soares</td>\n",
       "      <td>Arsenal</td>\n",
       "      <td>2</td>\n",
       "      <td>744</td>\n",
       "      <td>46</td>\n",
       "      <td>744</td>\n",
       "      <td>6.1</td>\n",
       "      <td>0.1</td>\n",
       "      <td>6.1</td>\n",
       "      <td>...</td>\n",
       "      <td>2.8</td>\n",
       "      <td>66.0</td>\n",
       "      <td>110.8</td>\n",
       "      <td>114.8</td>\n",
       "      <td></td>\n",
       "      <td>Defender</td>\n",
       "      <td>6.1</td>\n",
       "      <td>False</td>\n",
       "      <td>1250</td>\n",
       "      <td>1200</td>\n",
       "    </tr>\n",
       "  </tbody>\n",
       "</table>\n",
       "<p>5 rows × 21 columns</p>\n",
       "</div>"
      ],
      "text/plain": [
       "       first_name           second_name     team  element_type  minutes  \\\n",
       "0           Mesut                  Özil  Arsenal             3        0   \n",
       "1        Sokratis      Papastathopoulos  Arsenal             2        0   \n",
       "2           David  Luiz Moreira Marinho  Arsenal             2     1344   \n",
       "3  Pierre-Emerick            Aubameyang  Arsenal             3     2007   \n",
       "4          Cédric                Soares  Arsenal             2      744   \n",
       "\n",
       "   now_cost  minutes value_season value_form  form  ...  points_per_game  \\\n",
       "0        67        0          0.0        0.0   0.0  ...              0.0   \n",
       "1        48        0          0.0        0.0   0.0  ...              0.0   \n",
       "2        54     1344          7.4        0.1   7.4  ...              2.1   \n",
       "3       114     2007          9.5        0.1   9.5  ...              4.3   \n",
       "4        46      744          6.1        0.1   6.1  ...              2.8   \n",
       "\n",
       "  threat influence creativity  \\\n",
       "0    0.0       0.0        0.0   \n",
       "1    0.0       0.0        0.0   \n",
       "2  123.0     244.6       45.2   \n",
       "3  731.0     428.2      292.4   \n",
       "4   66.0     110.8      114.8   \n",
       "\n",
       "                                                news    position value  \\\n",
       "0  Not included in Arsenal's 25-man Premier Leagu...  Midfielder   0.0   \n",
       "1            Left the club by mutual consent on 20/1    Defender   0.0   \n",
       "2                  Knee injury - Unknown return date    Defender   7.4   \n",
       "3                                                     Midfielder   9.5   \n",
       "4                                                       Defender   6.1   \n",
       "\n",
       "   unavailable  strength_overall_home  strength_overall_away  \n",
       "0         True                   1250                   1200  \n",
       "1         True                   1250                   1200  \n",
       "2         True                   1250                   1200  \n",
       "3        False                   1250                   1200  \n",
       "4        False                   1250                   1200  \n",
       "\n",
       "[5 rows x 21 columns]"
      ]
     },
     "execution_count": 39,
     "metadata": {},
     "output_type": "execute_result"
    }
   ],
   "source": [
    "#Map the team strength from the teamd data frame to the elements data frame\n",
    "\n",
    "slim_elements_df['strength_overall_home'] = slim_elements_df.team.map(teams_df.set_index('name')['strength_overall_home'].to_dict())\n",
    "\n",
    "slim_elements_df['strength_overall_away'] = slim_elements_df.team.map(teams_df.set_index('name')['strength_overall_away'].to_dict())\n",
    "\n",
    "slim_elements_df.head()"
   ]
  },
  {
   "cell_type": "code",
   "execution_count": 40,
   "metadata": {
    "scrolled": false
   },
   "outputs": [
    {
     "data": {
      "application/vnd.plotly.v1+json": {
       "config": {
        "plotlyServerURL": "https://plot.ly"
       },
       "data": [
        {
         "customdata": [
          [
           "Özil"
          ],
          [
           "Papastathopoulos"
          ],
          [
           "Luiz Moreira Marinho"
          ],
          [
           "Aubameyang"
          ],
          [
           "Soares"
          ],
          [
           "Lacazette"
          ],
          [
           "Mustafi"
          ],
          [
           "Leno"
          ],
          [
           "Xhaka"
          ],
          [
           "Marí"
          ],
          [
           "Bellerín"
          ],
          [
           "Chambers"
          ],
          [
           "Kolasinac"
          ],
          [
           "Holding"
          ],
          [
           "Tierney"
          ],
          [
           "Pépé"
          ],
          [
           "Torreira"
          ],
          [
           "Nelson"
          ],
          [
           "Nketiah"
          ],
          [
           "Smith Rowe"
          ],
          [
           "Saka"
          ],
          [
           "Guendouzi"
          ],
          [
           "Martinelli Silva"
          ],
          [
           "Saliba"
          ],
          [
           "Ryan"
          ],
          [
           "Borges Da Silva"
          ],
          [
           "Magalhães"
          ],
          [
           "Ceballos Fernández"
          ],
          [
           "El Sayed Elneny"
          ],
          [
           "Macey"
          ],
          [
           "Rúnarsson"
          ],
          [
           "Partey"
          ],
          [
           "Ødegaard"
          ],
          [
           "Martínez"
          ],
          [
           "Heaton"
          ],
          [
           "El Mohamady"
          ],
          [
           "Lansbury"
          ],
          [
           "Taylor"
          ],
          [
           "Steer"
          ],
          [
           "Hourihane"
          ],
          [
           "Peleteiro Romallo"
          ],
          [
           "Nyland"
          ],
          [
           "Engels"
          ],
          [
           "Grealish"
          ],
          [
           "McGinn"
          ],
          [
           "Hause"
          ],
          [
           "Ibrahim Hassan"
          ],
          [
           "Mings"
          ],
          [
           "Targett"
          ],
          [
           "Bree"
          ],
          [
           "Nakamba"
          ],
          [
           "El Ghazi"
          ],
          [
           "Konsa Ngoyo"
          ],
          [
           "Guilbert"
          ],
          [
           "Moraes"
          ],
          [
           "Samatta"
          ],
          [
           "Davis"
          ],
          [
           "Vassilev"
          ],
          [
           "Soares de Paulo"
          ],
          [
           "Barkley"
          ],
          [
           "Cash"
          ],
          [
           "Watkins"
          ],
          [
           "Traoré"
          ],
          [
           "Ramsey"
          ],
          [
           "Sanson"
          ],
          [
           "Hayden"
          ],
          [
           "Chukwuemeka"
          ],
          [
           "Philogene-Bidace"
          ],
          [
           "Murray"
          ],
          [
           "Lallana"
          ],
          [
           "Groß"
          ],
          [
           "Duffy"
          ],
          [
           "Pröpper"
          ],
          [
           "Mooy"
          ],
          [
           "Burn"
          ],
          [
           "Dunk"
          ],
          [
           "Montoya"
          ],
          [
           "Andone"
          ],
          [
           "March"
          ],
          [
           "Webster"
          ],
          [
           "Veltman"
          ],
          [
           "Maupay"
          ],
          [
           "Trossard"
          ],
          [
           "Jahanbakhsh"
          ],
          [
           "Izquierdo"
          ],
          [
           "Clarke"
          ],
          [
           "White"
          ],
          [
           "Fernandes da Silva Junior"
          ],
          [
           "Bissouma"
          ],
          [
           "Lamptey"
          ],
          [
           "Connolly"
          ],
          [
           "Alzate"
          ],
          [
           "Mac Allister"
          ],
          [
           "Walton"
          ],
          [
           "Steele"
          ],
          [
           "Molumby"
          ],
          [
           "Zeqiri"
          ],
          [
           "Welbeck"
          ],
          [
           "Sánchez"
          ],
          [
           "Tau"
          ],
          [
           "Moder"
          ],
          [
           "Khadra"
          ],
          [
           "Jenks"
          ],
          [
           "Sanders"
          ],
          [
           "Weir"
          ],
          [
           "McGill"
          ],
          [
           "Karbownik"
          ],
          [
           "Caicedo"
          ],
          [
           "Stephens"
          ],
          [
           "Tarkowski"
          ],
          [
           "Bardsley"
          ],
          [
           "Pieters"
          ],
          [
           "Cork"
          ],
          [
           "Long"
          ],
          [
           "Rodriguez"
          ],
          [
           "Barnes"
          ],
          [
           "Mee"
          ],
          [
           "Westwood"
          ],
          [
           "Gudmundsson"
          ],
          [
           "Wood"
          ],
          [
           "Lowton"
          ],
          [
           "Vydra"
          ],
          [
           "Gibson"
          ],
          [
           "Brady"
          ],
          [
           "Pope"
          ],
          [
           "Taylor"
          ],
          [
           "Brownhill"
          ],
          [
           "Peacock-Farrell"
          ],
          [
           "McNeil"
          ],
          [
           "Dunne"
          ],
          [
           "Thomas"
          ],
          [
           "Benson"
          ],
          [
           "Driscoll-Glennon"
          ],
          [
           "Goodridge"
          ],
          [
           "Norris"
          ],
          [
           "Thompson"
          ],
          [
           "Richardson"
          ],
          [
           "Mancini"
          ],
          [
           "Mumbongo"
          ],
          [
           "Nartey"
          ],
          [
           "Caballero"
          ],
          [
           "Azpilicueta"
          ],
          [
           "Giroud"
          ],
          [
           "Alonso"
          ],
          [
           "Frello Filho"
          ],
          [
           "Kovacic"
          ],
          [
           "Rüdiger"
          ],
          [
           "Zouma"
          ],
          [
           "Palmieri dos Santos"
          ],
          [
           "Arrizabalaga"
          ],
          [
           "Kanté"
          ],
          [
           "Ziyech"
          ],
          [
           "Christensen"
          ],
          [
           "Werner"
          ],
          [
           "Abraham"
          ],
          [
           "Pulisic"
          ],
          [
           "Mount"
          ],
          [
           "Tomori"
          ],
          [
           "Hudson-Odoi"
          ],
          [
           "James"
          ],
          [
           "Gilmour"
          ],
          [
           "Chilwell"
          ],
          [
           "Thiago"
          ],
          [
           "Havertz"
          ],
          [
           "Mendy"
          ],
          [
           "Ziger"
          ],
          [
           "Anjorin"
          ],
          [
           "Batshuayi"
          ],
          [
           "Cahill"
          ],
          [
           "Hennessey"
          ],
          [
           "Sakho"
          ],
          [
           "Guaita"
          ],
          [
           "Tomkins"
          ],
          [
           "McArthur"
          ],
          [
           "McCarthy"
          ],
          [
           "Benteke"
          ],
          [
           "Kouyaté"
          ],
          [
           "Ward"
          ],
          [
           "Kelly"
          ],
          [
           "Wickham"
          ],
          [
           "Townsend"
          ],
          [
           "Milivojevic"
          ],
          [
           "van Aanholt"
          ],
          [
           "Ayew"
          ],
          [
           "Zaha"
          ],
          [
           "Schlupp"
          ],
          [
           "Meyer"
          ],
          [
           "Riedewald"
          ],
          [
           "Ferguson"
          ],
          [
           "Mitchell"
          ],
          [
           "Pierrick"
          ],
          [
           "Dann"
          ],
          [
           "Eze"
          ],
          [
           "Woods"
          ],
          [
           "Inniss"
          ],
          [
           "Clyne"
          ],
          [
           "Henderson"
          ],
          [
           "Butland"
          ],
          [
           "Mateta"
          ],
          [
           "Hannam"
          ],
          [
           "Delph"
          ],
          [
           "Sigurdsson"
          ],
          [
           "Lössl"
          ],
          [
           "Coleman"
          ],
          [
           "Tosun"
          ],
          [
           "Anício Caldeira Duarte"
          ],
          [
           "Digne"
          ],
          [
           "Keane"
          ],
          [
           "Pickford"
          ],
          [
           "Tavares Gomes"
          ],
          [
           "Iwobi"
          ],
          [
           "Kenny"
          ],
          [
           "Gbamin"
          ],
          [
           "Mina"
          ],
          [
           "Davies"
          ],
          [
           "Calvert-Lewin"
          ],
          [
           "Holgate"
          ],
          [
           "de Andrade"
          ],
          [
           "Virgínia"
          ],
          [
           "Gordon"
          ],
          [
           "Kean"
          ],
          [
           "Branthwaite"
          ],
          [
           "Marques Loureiro"
          ],
          [
           "Rodríguez"
          ],
          [
           "Doucouré"
          ],
          [
           "Nkounkou"
          ],
          [
           "Godfrey"
          ],
          [
           "Olsen"
          ],
          [
           "Simms"
          ],
          [
           "Onyango"
          ],
          [
           "King"
          ],
          [
           "John"
          ],
          [
           "Broadhead"
          ],
          [
           "Astley"
          ],
          [
           "Tyrer"
          ],
          [
           "Loftus-Cheek"
          ],
          [
           "Agosto Ramírez"
          ],
          [
           "McDonald"
          ],
          [
           "Le Marchand"
          ],
          [
           "Johansen"
          ],
          [
           "Cairney"
          ],
          [
           "Ream"
          ],
          [
           "Knockaert"
          ],
          [
           "Hector"
          ],
          [
           "Christie"
          ],
          [
           "Kebano"
          ],
          [
           "Decordova-Reid"
          ],
          [
           "Bryan"
          ],
          [
           "Bettinelli"
          ],
          [
           "Mitrović"
          ],
          [
           "Mawson"
          ],
          [
           "Rodák"
          ],
          [
           "Neves Abreu Cavaleiro"
          ],
          [
           "Onomah"
          ],
          [
           "Seri"
          ],
          [
           "Kamara"
          ],
          [
           "Zambo Anguissa"
          ],
          [
           "Sessegnon"
          ],
          [
           "Reed"
          ],
          [
           "Robinson"
          ],
          [
           "Lemina"
          ],
          [
           "Areola"
          ],
          [
           "Tete"
          ],
          [
           "Odoi"
          ],
          [
           "Lookman"
          ],
          [
           "Aina"
          ],
          [
           "Andersen"
          ],
          [
           "Adarabioyo"
          ],
          [
           "Kongolo"
          ],
          [
           "Maja"
          ],
          [
           "Morgan"
          ],
          [
           "Schmeichel"
          ],
          [
           "Fuchs"
          ],
          [
           "Evans"
          ],
          [
           "Silva"
          ],
          [
           "Albrighton"
          ],
          [
           "James"
          ],
          [
           "Ward"
          ],
          [
           "Vardy"
          ],
          [
           "Praet"
          ],
          [
           "Barbosa Pereira"
          ],
          [
           "Amartey"
          ],
          [
           "Tielemans"
          ],
          [
           "Pérez"
          ],
          [
           "Gray"
          ],
          [
           "Maddison"
          ],
          [
           "Iheanacho"
          ],
          [
           "Choudhury"
          ],
          [
           "Barnes"
          ],
          [
           "Ndidi"
          ],
          [
           "Benkovic"
          ],
          [
           "Söyüncü"
          ],
          [
           "Justin"
          ],
          [
           "Thomas"
          ],
          [
           "Castagne"
          ],
          [
           "Mendy"
          ],
          [
           "Ünder"
          ],
          [
           "Fofana"
          ],
          [
           "Slimani"
          ],
          [
           "Daley-Campbell"
          ],
          [
           "Leshabela"
          ],
          [
           "Tavares"
          ],
          [
           "Flynn"
          ],
          [
           "Suengchitthawon"
          ],
          [
           "Hernández Domínguez"
          ],
          [
           "Casilla Cortés"
          ],
          [
           "Cooper"
          ],
          [
           "Douglas"
          ],
          [
           "Ayling"
          ],
          [
           "Klich"
          ],
          [
           "Forshaw"
          ],
          [
           "Dallas"
          ],
          [
           "Alioski"
          ],
          [
           "Bamford"
          ],
          [
           "Harrison"
          ],
          [
           "Phillips"
          ],
          [
           "Sousa de Azevedo e Costa"
          ],
          [
           "Roberts"
          ],
          [
           "Grot"
          ],
          [
           "Miazek"
          ],
          [
           "Poveda-Ocampo"
          ],
          [
           "Shackleton"
          ],
          [
           "Struijk"
          ],
          [
           "Stevens"
          ],
          [
           "Meslier"
          ],
          [
           "Davis"
          ],
          [
           "Casey"
          ],
          [
           "Koch"
          ],
          [
           "Moreno"
          ],
          [
           "Caprile"
          ],
          [
           "Bogusz"
          ],
          [
           "Llorente"
          ],
          [
           "Dias Belloli"
          ],
          [
           "Jenkins"
          ],
          [
           "Huggins"
          ],
          [
           "Cresswell"
          ],
          [
           "Gelhardt"
          ],
          [
           "Berardi"
          ],
          [
           "Milner"
          ],
          [
           "Tsimikas"
          ],
          [
           "Wijnaldum"
          ],
          [
           "Henderson"
          ],
          [
           "San Miguel del Castillo"
          ],
          [
           "Matip"
          ],
          [
           "Shaqiri"
          ],
          [
           "Oxlade-Chamberlain"
          ],
          [
           "Firmino"
          ],
          [
           "van Dijk"
          ],
          [
           "Mané"
          ],
          [
           "Ramses Becker"
          ],
          [
           "Tavares"
          ],
          [
           "Salah"
          ],
          [
           "Robertson"
          ],
          [
           "Origi"
          ],
          [
           "Wilson"
          ],
          [
           "Alexander-Arnold"
          ],
          [
           "Gomez"
          ],
          [
           "Keita"
          ],
          [
           "Jones"
          ],
          [
           "Williams"
          ],
          [
           "Elliott"
          ],
          [
           "Jota"
          ],
          [
           "Alcántara do Nascimento"
          ],
          [
           "Kelleher"
          ],
          [
           "Phillips"
          ],
          [
           "Williams"
          ],
          [
           "Clarkson"
          ],
          [
           "Cain"
          ],
          [
           "Kabak"
          ],
          [
           "Davies"
          ],
          [
           "Hughes"
          ],
          [
           "Ojrzynski"
          ],
          [
           "Luiz Rosa"
          ],
          [
           "Bravo"
          ],
          [
           "Agüero"
          ],
          [
           "Otamendi"
          ],
          [
           "Walker"
          ],
          [
           "Gündogan"
          ],
          [
           "De Bruyne"
          ],
          [
           "Stones"
          ],
          [
           "Mendy"
          ],
          [
           "Mahrez"
          ],
          [
           "Sterling"
          ],
          [
           "Cancelo"
          ],
          [
           "Santana de Moraes"
          ],
          [
           "Aké"
          ],
          [
           "Laporte"
          ],
          [
           "Veiga de Carvalho e Silva"
          ],
          [
           "de Jesus"
          ],
          [
           "Zinchenko"
          ],
          [
           "Foden"
          ],
          [
           "Doyle"
          ],
          [
           "Hernandez"
          ],
          [
           "Torres"
          ],
          [
           "Garcia"
          ],
          [
           "Bernabé"
          ],
          [
           "Steffen"
          ],
          [
           "Delap"
          ],
          [
           "Palmer"
          ],
          [
           "Gato Alves Dias"
          ],
          [
           "Trafford"
          ],
          [
           "Carson"
          ],
          [
           "Nmecha"
          ],
          [
           "Mbete"
          ],
          [
           "Harwood-Bellis"
          ],
          [
           "Gomes"
          ],
          [
           "Romero"
          ],
          [
           "Mata"
          ],
          [
           "de Gea"
          ],
          [
           "Smalling"
          ],
          [
           "Ighalo"
          ],
          [
           "Rojo"
          ],
          [
           "Matic"
          ],
          [
           "Pogba"
          ],
          [
           "Jones"
          ],
          [
           "Maguire"
          ],
          [
           "Rodrigues de Paula Santos"
          ],
          [
           "Shaw"
          ],
          [
           "Borges Fernandes"
          ],
          [
           "Martial"
          ],
          [
           "Pereira"
          ],
          [
           "Henderson"
          ],
          [
           "Rashford"
          ],
          [
           "Tuanzebe"
          ],
          [
           "Lindelöf"
          ],
          [
           "McTominay"
          ],
          [
           "Bailly"
          ],
          [
           "James"
          ],
          [
           "Fosu-Mensah"
          ],
          [
           "Wan-Bissaka"
          ],
          [
           "Dalot Teixeira"
          ],
          [
           "Greenwood"
          ],
          [
           "Chong"
          ],
          [
           "Garner"
          ],
          [
           "Williams"
          ],
          [
           "Mengi"
          ],
          [
           "van de Beek"
          ],
          [
           "Telles"
          ],
          [
           "Cavani"
          ],
          [
           "Pellistri"
          ],
          [
           "Grant"
          ],
          [
           "Diallo"
          ],
          [
           "Shoretire"
          ],
          [
           "Bishop"
          ],
          [
           "Willock"
          ],
          [
           "Carroll"
          ],
          [
           "Shelvey"
          ],
          [
           "Ritchie"
          ],
          [
           "Fernández"
          ],
          [
           "Clark"
          ],
          [
           "Darlow"
          ],
          [
           "Dubravka"
          ],
          [
           "Lejeune"
          ],
          [
           "Lascelles"
          ],
          [
           "Gayle"
          ],
          [
           "Atsu"
          ],
          [
           "Dummett"
          ],
          [
           "Manquillo"
          ],
          [
           "Krafth"
          ],
          [
           "Schär"
          ],
          [
           "Yedlin"
          ],
          [
           "Hayden"
          ],
          [
           "Aarons"
          ],
          [
           "Saint-Maximin"
          ],
          [
           "Almirón"
          ],
          [
           "Apolinário de Lira"
          ],
          [
           "Muto"
          ],
          [
           "Watts"
          ],
          [
           "Longstaff"
          ],
          [
           "Hendrick"
          ],
          [
           "Longstaff"
          ],
          [
           "Gillespie"
          ],
          [
           "Murphy"
          ],
          [
           "Wilson"
          ],
          [
           "Fraser"
          ],
          [
           "Lewis"
          ],
          [
           "Anderson"
          ],
          [
           "Langley"
          ],
          [
           "Brewster"
          ],
          [
           "Sharp"
          ],
          [
           "McGoldrick"
          ],
          [
           "Basham"
          ],
          [
           "Fleck"
          ],
          [
           "Stevens"
          ],
          [
           "Moore"
          ],
          [
           "Norwood"
          ],
          [
           "Foderingham"
          ],
          [
           "Baldock"
          ],
          [
           "Robinson"
          ],
          [
           "Egan"
          ],
          [
           "O'Connell"
          ],
          [
           "Lundstram"
          ],
          [
           "Osborn"
          ],
          [
           "McBurnie"
          ],
          [
           "Mousset"
          ],
          [
           "Berge"
          ],
          [
           "Burke"
          ],
          [
           "Freeman"
          ],
          [
           "Ramsdale"
          ],
          [
           "Ampadu"
          ],
          [
           "Bogle"
          ],
          [
           "Lowe"
          ],
          [
           "Jagielka"
          ],
          [
           "Verrips"
          ],
          [
           "Bryan"
          ],
          [
           "Hackford"
          ],
          [
           "Gordon"
          ],
          [
           "Ndiaye"
          ],
          [
           "Brunt"
          ],
          [
           "Maguire"
          ],
          [
           "Walcott"
          ],
          [
           "Minamino"
          ],
          [
           "Long"
          ],
          [
           "Bertrand"
          ],
          [
           "McCarthy"
          ],
          [
           "Romeu Vidal"
          ],
          [
           "Redmond"
          ],
          [
           "Ings"
          ],
          [
           "Stephens"
          ],
          [
           "Armstrong"
          ],
          [
           "Vestergaard"
          ],
          [
           "Ward-Prowse"
          ],
          [
           "Gunn"
          ],
          [
           "Boufal"
          ],
          [
           "Sims"
          ],
          [
           "Walker-Peters"
          ],
          [
           "Bednarek"
          ],
          [
           "Adams"
          ],
          [
           "Valery"
          ],
          [
           "Smallbone"
          ],
          [
           "Vokins"
          ],
          [
           "Obafemi"
          ],
          [
           "Djenepo"
          ],
          [
           "Salisu"
          ],
          [
           "Forster"
          ],
          [
           "Tella"
          ],
          [
           "Diallo"
          ],
          [
           "N'Lundulu"
          ],
          [
           "Ramsay"
          ],
          [
           "Chauke"
          ],
          [
           "Lewis"
          ],
          [
           "Ferry"
          ],
          [
           "Tchaptchet"
          ],
          [
           "Watts"
          ],
          [
           "Jankewitz"
          ],
          [
           "Finnigan"
          ],
          [
           "Lloris"
          ],
          [
           "Rose"
          ],
          [
           "Sissoko"
          ],
          [
           "Alderweireld"
          ],
          [
           "Lamela"
          ],
          [
           "Kane"
          ],
          [
           "Aurier"
          ],
          [
           "Son"
          ],
          [
           "Dier"
          ],
          [
           "Rodrigues Moura da Silva"
          ],
          [
           "Gazzaniga"
          ],
          [
           "Alli"
          ],
          [
           "Davies"
          ],
          [
           "Højbjerg"
          ],
          [
           "Winks"
          ],
          [
           "Sánchez"
          ],
          [
           "Sessegnon"
          ],
          [
           "Bergwijn"
          ],
          [
           "Carvalho Fernandes"
          ],
          [
           "Tanganga"
          ],
          [
           "Lo Celso"
          ],
          [
           "Skipp"
          ],
          [
           "Ndombele"
          ],
          [
           "Foyth"
          ],
          [
           "Doherty"
          ],
          [
           "Hart"
          ],
          [
           "Carter-Vickers"
          ],
          [
           "Reguilón"
          ],
          [
           "Bale"
          ],
          [
           "Alves Morais"
          ],
          [
           "Rodon"
          ],
          [
           "Devine"
          ],
          [
           "Scarlett"
          ],
          [
           "Maitland-Niles"
          ],
          [
           "Button"
          ],
          [
           "Robinson"
          ],
          [
           "Gibbs"
          ],
          [
           "Robson-Kanu"
          ],
          [
           "Livermore"
          ],
          [
           "Grosicki"
          ],
          [
           "Phillips"
          ],
          [
           "Bartley"
          ],
          [
           "Sawyers"
          ],
          [
           "Hegazy"
          ],
          [
           "Austin"
          ],
          [
           "Zohore"
          ],
          [
           "Johnstone"
          ],
          [
           "Townsend"
          ],
          [
           "Ajayi"
          ],
          [
           "Leko"
          ],
          [
           "Edwards"
          ],
          [
           "Furlong"
          ],
          [
           "Field"
          ],
          [
           "O'Shea"
          ],
          [
           "Harper"
          ],
          [
           "Snodgrass"
          ],
          [
           "Diangana"
          ],
          [
           "Pereira"
          ],
          [
           "Kipre"
          ],
          [
           "Ivanovic"
          ],
          [
           "Gallagher"
          ],
          [
           "Krovinovic"
          ],
          [
           "Grant"
          ],
          [
           "Peltier"
          ],
          [
           "Diaby"
          ],
          [
           "Lonergan"
          ],
          [
           "Diagne"
          ],
          [
           "Yokuslu"
          ],
          [
           "Lingard"
          ],
          [
           "Noble"
          ],
          [
           "Martin"
          ],
          [
           "Randolph"
          ],
          [
           "Fabianski"
          ],
          [
           "Ogbonna"
          ],
          [
           "Jimenez Gago"
          ],
          [
           "Wilshere"
          ],
          [
           "Cresswell"
          ],
          [
           "Yarmolenko"
          ],
          [
           "Antonio"
          ],
          [
           "Fredericks"
          ],
          [
           "Lanzini"
          ],
          [
           "Pereira Gomes"
          ],
          [
           "Haller"
          ],
          [
           "Masuaku"
          ],
          [
           "Balbuena"
          ],
          [
           "Hugill"
          ],
          [
           "Bowen"
          ],
          [
           "Ajeti"
          ],
          [
           "Rice"
          ],
          [
           "Soucek"
          ],
          [
           "Fornals"
          ],
          [
           "Diop"
          ],
          [
           "Johnson"
          ],
          [
           "Coufal"
          ],
          [
           "Dawson"
          ],
          [
           "Benrahma"
          ],
          [
           "Alves"
          ],
          [
           "Odubeko"
          ],
          [
           "Coventry"
          ],
          [
           "Baptiste"
          ],
          [
           "Trott"
          ],
          [
           "Ruddy"
          ],
          [
           "Santos Moutinho"
          ],
          [
           "dos Santos Patrício"
          ],
          [
           "Bennett"
          ],
          [
           "Boly"
          ],
          [
           "Coady"
          ],
          [
           "Jiménez"
          ],
          [
           "Saïss"
          ],
          [
           "Castro Otto"
          ],
          [
           "Bonatini"
          ],
          [
           "Dendoncker"
          ],
          [
           "Traoré"
          ],
          [
           "da Silva Neves"
          ],
          [
           "Buur"
          ],
          [
           "Castelo Podence"
          ],
          [
           "Kilman"
          ],
          [
           "Silva Nascimento Vinagre"
          ],
          [
           "Sarkic"
          ],
          [
           "Gibbs-White"
          ],
          [
           "Lomba Neto"
          ],
          [
           "Cavaco Jordao"
          ],
          [
           "Campana"
          ],
          [
           "Silva"
          ],
          [
           "Marçal"
          ],
          [
           "Ferreira"
          ],
          [
           "Hoever"
          ],
          [
           "Cabral Semedo"
          ],
          [
           "Shabani"
          ],
          [
           "Ait Nouri"
          ],
          [
           "Otasowie"
          ],
          [
           "Corbeanu"
          ],
          [
           "Perry"
          ],
          [
           "Cundle"
          ],
          [
           "Richards"
          ],
          [
           "Marques"
          ],
          [
           "Söndergaard"
          ],
          [
           "Cutrone"
          ],
          [
           "Lonwijk"
          ],
          [
           "Da Silva"
          ],
          [
           "Bueno"
          ]
         ],
         "hovertemplate": "now_cost=%{x}<br>total_points=%{y}<br>second_name=%{customdata[0]}<extra></extra>",
         "legendgroup": "",
         "marker": {
          "color": "#636efa",
          "symbol": "circle"
         },
         "mode": "markers",
         "name": "",
         "orientation": "v",
         "showlegend": false,
         "type": "scatter",
         "x": [
          67,
          48,
          54,
          114,
          46,
          83,
          50,
          50,
          52,
          44,
          50,
          45,
          48,
          42,
          53,
          76,
          47,
          51,
          53,
          42,
          52,
          47,
          49,
          40,
          42,
          75,
          49,
          47,
          42,
          40,
          44,
          49,
          59,
          54,
          45,
          43,
          43,
          42,
          39,
          59,
          59,
          40,
          44,
          75,
          55,
          44,
          52,
          54,
          51,
          45,
          43,
          52,
          47,
          43,
          60,
          59,
          42,
          43,
          48,
          59,
          50,
          65,
          59,
          45,
          55,
          45,
          45,
          45,
          48,
          62,
          58,
          43,
          47,
          50,
          42,
          50,
          45,
          48,
          50,
          43,
          44,
          60,
          57,
          54,
          55,
          44,
          45,
          39,
          44,
          46,
          52,
          42,
          53,
          40,
          39,
          45,
          50,
          55,
          45,
          49,
          50,
          45,
          45,
          45,
          45,
          39,
          45,
          50,
          42,
          53,
          44,
          43,
          50,
          43,
          58,
          60,
          49,
          53,
          54,
          63,
          44,
          48,
          39,
          50,
          55,
          44,
          49,
          40,
          57,
          38,
          39,
          45,
          39,
          45,
          40,
          45,
          45,
          44,
          45,
          40,
          46,
          59,
          67,
          57,
          47,
          53,
          47,
          53,
          47,
          47,
          49,
          79,
          47,
          92,
          71,
          82,
          72,
          47,
          57,
          50,
          44,
          58,
          56,
          82,
          52,
          40,
          45,
          57,
          45,
          43,
          44,
          48,
          44,
          52,
          43,
          55,
          48,
          43,
          41,
          44,
          55,
          56,
          54,
          56,
          71,
          53,
          47,
          44,
          38,
          38,
          43,
          42,
          58,
          40,
          40,
          45,
          40,
          45,
          54,
          40,
          48,
          68,
          43,
          48,
          60,
          57,
          62,
          51,
          48,
          53,
          59,
          43,
          50,
          55,
          52,
          76,
          48,
          79,
          43,
          43,
          57,
          39,
          52,
          77,
          52,
          40,
          50,
          45,
          45,
          45,
          52,
          40,
          45,
          40,
          40,
          59,
          39,
          47,
          41,
          47,
          52,
          42,
          50,
          41,
          42,
          47,
          53,
          45,
          43,
          55,
          43,
          43,
          53,
          46,
          46,
          48,
          45,
          43,
          44,
          44,
          45,
          46,
          43,
          42,
          50,
          45,
          45,
          45,
          43,
          54,
          44,
          54,
          45,
          55,
          44,
          52,
          43,
          43,
          101,
          52,
          59,
          39,
          65,
          60,
          51,
          71,
          58,
          46,
          67,
          48,
          43,
          53,
          49,
          41,
          57,
          42,
          57,
          50,
          49,
          40,
          44,
          44,
          45,
          45,
          57,
          42,
          43,
          38,
          44,
          52,
          48,
          51,
          43,
          66,
          54,
          49,
          50,
          46,
          47,
          40,
          42,
          48,
          40,
          43,
          47,
          38,
          38,
          43,
          57,
          40,
          43,
          44,
          56,
          45,
          45,
          40,
          45,
          40,
          53,
          49,
          53,
          54,
          42,
          54,
          64,
          63,
          90,
          62,
          118,
          59,
          54,
          125,
          71,
          51,
          51,
          74,
          52,
          52,
          44,
          38,
          43,
          70,
          55,
          45,
          41,
          40,
          45,
          45,
          50,
          48,
          40,
          40,
          54,
          45,
          103,
          49,
          61,
          60,
          120,
          52,
          59,
          82,
          113,
          60,
          61,
          54,
          60,
          74,
          92,
          55,
          60,
          44,
          53,
          69,
          47,
          45,
          44,
          43,
          44,
          62,
          40,
          39,
          45,
          40,
          40,
          45,
          49,
          58,
          53,
          49,
          61,
          48,
          47,
          76,
          48,
          55,
          53,
          53,
          116,
          86,
          48,
          52,
          95,
          41,
          48,
          49,
          48,
          62,
          43,
          57,
          48,
          70,
          44,
          44,
          42,
          39,
          66,
          53,
          78,
          52,
          40,
          54,
          45,
          40,
          47,
          51,
          53,
          49,
          47,
          45,
          49,
          48,
          43,
          42,
          59,
          52,
          44,
          42,
          42,
          48,
          43,
          46,
          48,
          51,
          56,
          57,
          48,
          39,
          46,
          45,
          48,
          43,
          49,
          65,
          56,
          41,
          45,
          39,
          43,
          55,
          52,
          46,
          56,
          50,
          43,
          45,
          43,
          49,
          42,
          47,
          47,
          49,
          47,
          56,
          58,
          49,
          41,
          50,
          46,
          43,
          43,
          42,
          39,
          40,
          39,
          44,
          40,
          45,
          45,
          44,
          58,
          60,
          51,
          50,
          44,
          45,
          64,
          84,
          46,
          55,
          47,
          59,
          43,
          54,
          43,
          47,
          48,
          58,
          47,
          43,
          39,
          46,
          54,
          43,
          40,
          43,
          45,
          45,
          40,
          44,
          40,
          45,
          40,
          45,
          45,
          45,
          56,
          47,
          47,
          54,
          57,
          117,
          52,
          94,
          46,
          66,
          43,
          74,
          45,
          49,
          51,
          52,
          47,
          70,
          47,
          49,
          69,
          44,
          59,
          43,
          56,
          42,
          39,
          55,
          92,
          69,
          50,
          44,
          45,
          46,
          39,
          52,
          43,
          52,
          47,
          52,
          51,
          44,
          46,
          41,
          51,
          48,
          45,
          44,
          48,
          45,
          47,
          45,
          48,
          42,
          43,
          56,
          50,
          54,
          43,
          44,
          55,
          49,
          56,
          40,
          45,
          40,
          60,
          45,
          64,
          45,
          39,
          43,
          50,
          47,
          45,
          49,
          59,
          55,
          66,
          42,
          64,
          61,
          61,
          43,
          41,
          55,
          59,
          55,
          47,
          53,
          58,
          43,
          39,
          46,
          45,
          60,
          40,
          45,
          45,
          40,
          40,
          43,
          51,
          53,
          44,
          54,
          48,
          81,
          49,
          54,
          48,
          46,
          60,
          51,
          39,
          53,
          39,
          41,
          44,
          49,
          57,
          43,
          48,
          52,
          47,
          47,
          44,
          52,
          44,
          50,
          45,
          45,
          45,
          45,
          40,
          39,
          40,
          59,
          40,
          68,
          40
         ],
         "xaxis": "x",
         "y": [
          0,
          0,
          40,
          108,
          28,
          111,
          3,
          104,
          57,
          21,
          83,
          8,
          2,
          75,
          78,
          63,
          0,
          2,
          27,
          46,
          96,
          0,
          11,
          0,
          29,
          63,
          53,
          41,
          30,
          0,
          1,
          30,
          23,
          160,
          0,
          30,
          0,
          -1,
          0,
          20,
          0,
          0,
          0,
          129,
          92,
          28,
          56,
          115,
          118,
          0,
          18,
          72,
          102,
          0,
          0,
          0,
          12,
          0,
          59,
          63,
          88,
          132,
          97,
          20,
          10,
          0,
          0,
          0,
          0,
          49,
          85,
          0,
          9,
          0,
          39,
          102,
          0,
          0,
          69,
          61,
          76,
          99,
          109,
          16,
          0,
          0,
          81,
          5,
          60,
          35,
          36,
          29,
          39,
          0,
          0,
          1,
          6,
          59,
          73,
          3,
          7,
          1,
          0,
          0,
          0,
          0,
          0,
          0,
          8,
          84,
          2,
          49,
          18,
          14,
          48,
          48,
          87,
          79,
          41,
          93,
          83,
          41,
          0,
          44,
          130,
          64,
          55,
          0,
          87,
          8,
          0,
          10,
          0,
          0,
          0,
          0,
          2,
          0,
          2,
          0,
          1,
          98,
          44,
          42,
          94,
          51,
          65,
          87,
          7,
          15,
          55,
          51,
          40,
          106,
          67,
          56,
          124,
          0,
          55,
          87,
          2,
          105,
          73,
          68,
          114,
          0,
          0,
          40,
          39,
          0,
          4,
          109,
          15,
          45,
          18,
          67,
          70,
          56,
          0,
          0,
          76,
          56,
          52,
          62,
          112,
          51,
          0,
          57,
          0,
          35,
          0,
          33,
          90,
          0,
          0,
          28,
          0,
          0,
          13,
          0,
          6,
          88,
          0,
          43,
          4,
          18,
          76,
          100,
          79,
          40,
          58,
          5,
          1,
          63,
          36,
          138,
          60,
          96,
          2,
          3,
          2,
          0,
          29,
          88,
          71,
          1,
          57,
          15,
          0,
          0,
          8,
          0,
          0,
          0,
          0,
          62,
          0,
          0,
          1,
          0,
          27,
          7,
          0,
          0,
          0,
          6,
          71,
          13,
          0,
          60,
          0,
          1,
          72,
          7,
          0,
          8,
          66,
          0,
          65,
          53,
          46,
          113,
          48,
          1,
          96,
          99,
          89,
          92,
          2,
          27,
          3,
          115,
          24,
          78,
          0,
          52,
          0,
          0,
          149,
          35,
          23,
          20,
          113,
          47,
          1,
          120,
          57,
          13,
          126,
          59,
          0,
          37,
          101,
          5,
          68,
          38,
          16,
          59,
          1,
          0,
          1,
          3,
          0,
          0,
          20,
          2,
          52,
          0,
          76,
          85,
          0,
          138,
          80,
          162,
          124,
          53,
          58,
          34,
          0,
          0,
          10,
          17,
          53,
          0,
          131,
          2,
          0,
          35,
          56,
          0,
          0,
          22,
          115,
          0,
          1,
          0,
          0,
          0,
          40,
          1,
          81,
          56,
          11,
          42,
          25,
          12,
          106,
          15,
          127,
          98,
          55,
          189,
          124,
          10,
          0,
          114,
          10,
          15,
          43,
          10,
          0,
          71,
          31,
          10,
          37,
          6,
          0,
          0,
          23,
          0,
          0,
          0,
          44,
          0,
          17,
          0,
          82,
          143,
          128,
          123,
          48,
          132,
          138,
          123,
          135,
          21,
          50,
          78,
          99,
          57,
          109,
          0,
          72,
          62,
          4,
          0,
          2,
          1,
          0,
          133,
          0,
          0,
          0,
          0,
          0,
          0,
          0,
          20,
          87,
          0,
          1,
          0,
          29,
          72,
          0,
          115,
          52,
          110,
          214,
          75,
          0,
          27,
          148,
          2,
          88,
          79,
          27,
          35,
          0,
          122,
          0,
          56,
          0,
          0,
          2,
          0,
          19,
          22,
          61,
          0,
          0,
          0,
          1,
          0,
          35,
          28,
          51,
          15,
          34,
          40,
          80,
          18,
          0,
          44,
          22,
          0,
          13,
          28,
          27,
          25,
          13,
          40,
          0,
          53,
          79,
          54,
          0,
          0,
          27,
          49,
          10,
          0,
          42,
          116,
          39,
          43,
          1,
          0,
          27,
          39,
          71,
          38,
          52,
          30,
          0,
          37,
          0,
          44,
          13,
          33,
          3,
          44,
          33,
          43,
          10,
          29,
          39,
          0,
          83,
          42,
          29,
          9,
          4,
          0,
          19,
          1,
          0,
          1,
          0,
          0,
          62,
          41,
          12,
          77,
          82,
          51,
          51,
          106,
          33,
          93,
          80,
          128,
          0,
          0,
          0,
          80,
          89,
          109,
          3,
          5,
          1,
          1,
          42,
          7,
          18,
          15,
          23,
          12,
          -3,
          0,
          0,
          0,
          0,
          2,
          -1,
          0,
          121,
          0,
          41,
          70,
          23,
          204,
          61,
          180,
          59,
          68,
          0,
          14,
          52,
          81,
          13,
          42,
          0,
          40,
          0,
          8,
          23,
          0,
          88,
          0,
          45,
          0,
          0,
          67,
          59,
          13,
          24,
          0,
          1,
          51,
          2,
          63,
          5,
          12,
          24,
          8,
          49,
          66,
          33,
          6,
          5,
          0,
          101,
          54,
          42,
          0,
          5,
          66,
          3,
          32,
          2,
          14,
          34,
          111,
          0,
          20,
          61,
          17,
          37,
          2,
          0,
          0,
          35,
          17,
          68,
          20,
          0,
          7,
          112,
          82,
          0,
          0,
          136,
          16,
          90,
          24,
          23,
          2,
          41,
          42,
          40,
          0,
          110,
          0,
          76,
          123,
          92,
          28,
          22,
          95,
          65,
          47,
          0,
          0,
          0,
          0,
          0,
          1,
          62,
          115,
          0,
          60,
          92,
          43,
          87,
          16,
          0,
          66,
          72,
          94,
          1,
          68,
          54,
          1,
          0,
          6,
          124,
          0,
          0,
          48,
          18,
          17,
          10,
          85,
          0,
          42,
          7,
          0,
          0,
          0,
          0,
          0,
          0,
          2,
          0,
          24,
          0
         ],
         "yaxis": "y"
        }
       ],
       "layout": {
        "legend": {
         "tracegroupgap": 0
        },
        "margin": {
         "t": 60
        },
        "template": {
         "data": {
          "bar": [
           {
            "error_x": {
             "color": "#2a3f5f"
            },
            "error_y": {
             "color": "#2a3f5f"
            },
            "marker": {
             "line": {
              "color": "#E5ECF6",
              "width": 0.5
             }
            },
            "type": "bar"
           }
          ],
          "barpolar": [
           {
            "marker": {
             "line": {
              "color": "#E5ECF6",
              "width": 0.5
             }
            },
            "type": "barpolar"
           }
          ],
          "carpet": [
           {
            "aaxis": {
             "endlinecolor": "#2a3f5f",
             "gridcolor": "white",
             "linecolor": "white",
             "minorgridcolor": "white",
             "startlinecolor": "#2a3f5f"
            },
            "baxis": {
             "endlinecolor": "#2a3f5f",
             "gridcolor": "white",
             "linecolor": "white",
             "minorgridcolor": "white",
             "startlinecolor": "#2a3f5f"
            },
            "type": "carpet"
           }
          ],
          "choropleth": [
           {
            "colorbar": {
             "outlinewidth": 0,
             "ticks": ""
            },
            "type": "choropleth"
           }
          ],
          "contour": [
           {
            "colorbar": {
             "outlinewidth": 0,
             "ticks": ""
            },
            "colorscale": [
             [
              0,
              "#0d0887"
             ],
             [
              0.1111111111111111,
              "#46039f"
             ],
             [
              0.2222222222222222,
              "#7201a8"
             ],
             [
              0.3333333333333333,
              "#9c179e"
             ],
             [
              0.4444444444444444,
              "#bd3786"
             ],
             [
              0.5555555555555556,
              "#d8576b"
             ],
             [
              0.6666666666666666,
              "#ed7953"
             ],
             [
              0.7777777777777778,
              "#fb9f3a"
             ],
             [
              0.8888888888888888,
              "#fdca26"
             ],
             [
              1,
              "#f0f921"
             ]
            ],
            "type": "contour"
           }
          ],
          "contourcarpet": [
           {
            "colorbar": {
             "outlinewidth": 0,
             "ticks": ""
            },
            "type": "contourcarpet"
           }
          ],
          "heatmap": [
           {
            "colorbar": {
             "outlinewidth": 0,
             "ticks": ""
            },
            "colorscale": [
             [
              0,
              "#0d0887"
             ],
             [
              0.1111111111111111,
              "#46039f"
             ],
             [
              0.2222222222222222,
              "#7201a8"
             ],
             [
              0.3333333333333333,
              "#9c179e"
             ],
             [
              0.4444444444444444,
              "#bd3786"
             ],
             [
              0.5555555555555556,
              "#d8576b"
             ],
             [
              0.6666666666666666,
              "#ed7953"
             ],
             [
              0.7777777777777778,
              "#fb9f3a"
             ],
             [
              0.8888888888888888,
              "#fdca26"
             ],
             [
              1,
              "#f0f921"
             ]
            ],
            "type": "heatmap"
           }
          ],
          "heatmapgl": [
           {
            "colorbar": {
             "outlinewidth": 0,
             "ticks": ""
            },
            "colorscale": [
             [
              0,
              "#0d0887"
             ],
             [
              0.1111111111111111,
              "#46039f"
             ],
             [
              0.2222222222222222,
              "#7201a8"
             ],
             [
              0.3333333333333333,
              "#9c179e"
             ],
             [
              0.4444444444444444,
              "#bd3786"
             ],
             [
              0.5555555555555556,
              "#d8576b"
             ],
             [
              0.6666666666666666,
              "#ed7953"
             ],
             [
              0.7777777777777778,
              "#fb9f3a"
             ],
             [
              0.8888888888888888,
              "#fdca26"
             ],
             [
              1,
              "#f0f921"
             ]
            ],
            "type": "heatmapgl"
           }
          ],
          "histogram": [
           {
            "marker": {
             "colorbar": {
              "outlinewidth": 0,
              "ticks": ""
             }
            },
            "type": "histogram"
           }
          ],
          "histogram2d": [
           {
            "colorbar": {
             "outlinewidth": 0,
             "ticks": ""
            },
            "colorscale": [
             [
              0,
              "#0d0887"
             ],
             [
              0.1111111111111111,
              "#46039f"
             ],
             [
              0.2222222222222222,
              "#7201a8"
             ],
             [
              0.3333333333333333,
              "#9c179e"
             ],
             [
              0.4444444444444444,
              "#bd3786"
             ],
             [
              0.5555555555555556,
              "#d8576b"
             ],
             [
              0.6666666666666666,
              "#ed7953"
             ],
             [
              0.7777777777777778,
              "#fb9f3a"
             ],
             [
              0.8888888888888888,
              "#fdca26"
             ],
             [
              1,
              "#f0f921"
             ]
            ],
            "type": "histogram2d"
           }
          ],
          "histogram2dcontour": [
           {
            "colorbar": {
             "outlinewidth": 0,
             "ticks": ""
            },
            "colorscale": [
             [
              0,
              "#0d0887"
             ],
             [
              0.1111111111111111,
              "#46039f"
             ],
             [
              0.2222222222222222,
              "#7201a8"
             ],
             [
              0.3333333333333333,
              "#9c179e"
             ],
             [
              0.4444444444444444,
              "#bd3786"
             ],
             [
              0.5555555555555556,
              "#d8576b"
             ],
             [
              0.6666666666666666,
              "#ed7953"
             ],
             [
              0.7777777777777778,
              "#fb9f3a"
             ],
             [
              0.8888888888888888,
              "#fdca26"
             ],
             [
              1,
              "#f0f921"
             ]
            ],
            "type": "histogram2dcontour"
           }
          ],
          "mesh3d": [
           {
            "colorbar": {
             "outlinewidth": 0,
             "ticks": ""
            },
            "type": "mesh3d"
           }
          ],
          "parcoords": [
           {
            "line": {
             "colorbar": {
              "outlinewidth": 0,
              "ticks": ""
             }
            },
            "type": "parcoords"
           }
          ],
          "pie": [
           {
            "automargin": true,
            "type": "pie"
           }
          ],
          "scatter": [
           {
            "marker": {
             "colorbar": {
              "outlinewidth": 0,
              "ticks": ""
             }
            },
            "type": "scatter"
           }
          ],
          "scatter3d": [
           {
            "line": {
             "colorbar": {
              "outlinewidth": 0,
              "ticks": ""
             }
            },
            "marker": {
             "colorbar": {
              "outlinewidth": 0,
              "ticks": ""
             }
            },
            "type": "scatter3d"
           }
          ],
          "scattercarpet": [
           {
            "marker": {
             "colorbar": {
              "outlinewidth": 0,
              "ticks": ""
             }
            },
            "type": "scattercarpet"
           }
          ],
          "scattergeo": [
           {
            "marker": {
             "colorbar": {
              "outlinewidth": 0,
              "ticks": ""
             }
            },
            "type": "scattergeo"
           }
          ],
          "scattergl": [
           {
            "marker": {
             "colorbar": {
              "outlinewidth": 0,
              "ticks": ""
             }
            },
            "type": "scattergl"
           }
          ],
          "scattermapbox": [
           {
            "marker": {
             "colorbar": {
              "outlinewidth": 0,
              "ticks": ""
             }
            },
            "type": "scattermapbox"
           }
          ],
          "scatterpolar": [
           {
            "marker": {
             "colorbar": {
              "outlinewidth": 0,
              "ticks": ""
             }
            },
            "type": "scatterpolar"
           }
          ],
          "scatterpolargl": [
           {
            "marker": {
             "colorbar": {
              "outlinewidth": 0,
              "ticks": ""
             }
            },
            "type": "scatterpolargl"
           }
          ],
          "scatterternary": [
           {
            "marker": {
             "colorbar": {
              "outlinewidth": 0,
              "ticks": ""
             }
            },
            "type": "scatterternary"
           }
          ],
          "surface": [
           {
            "colorbar": {
             "outlinewidth": 0,
             "ticks": ""
            },
            "colorscale": [
             [
              0,
              "#0d0887"
             ],
             [
              0.1111111111111111,
              "#46039f"
             ],
             [
              0.2222222222222222,
              "#7201a8"
             ],
             [
              0.3333333333333333,
              "#9c179e"
             ],
             [
              0.4444444444444444,
              "#bd3786"
             ],
             [
              0.5555555555555556,
              "#d8576b"
             ],
             [
              0.6666666666666666,
              "#ed7953"
             ],
             [
              0.7777777777777778,
              "#fb9f3a"
             ],
             [
              0.8888888888888888,
              "#fdca26"
             ],
             [
              1,
              "#f0f921"
             ]
            ],
            "type": "surface"
           }
          ],
          "table": [
           {
            "cells": {
             "fill": {
              "color": "#EBF0F8"
             },
             "line": {
              "color": "white"
             }
            },
            "header": {
             "fill": {
              "color": "#C8D4E3"
             },
             "line": {
              "color": "white"
             }
            },
            "type": "table"
           }
          ]
         },
         "layout": {
          "annotationdefaults": {
           "arrowcolor": "#2a3f5f",
           "arrowhead": 0,
           "arrowwidth": 1
          },
          "autotypenumbers": "strict",
          "coloraxis": {
           "colorbar": {
            "outlinewidth": 0,
            "ticks": ""
           }
          },
          "colorscale": {
           "diverging": [
            [
             0,
             "#8e0152"
            ],
            [
             0.1,
             "#c51b7d"
            ],
            [
             0.2,
             "#de77ae"
            ],
            [
             0.3,
             "#f1b6da"
            ],
            [
             0.4,
             "#fde0ef"
            ],
            [
             0.5,
             "#f7f7f7"
            ],
            [
             0.6,
             "#e6f5d0"
            ],
            [
             0.7,
             "#b8e186"
            ],
            [
             0.8,
             "#7fbc41"
            ],
            [
             0.9,
             "#4d9221"
            ],
            [
             1,
             "#276419"
            ]
           ],
           "sequential": [
            [
             0,
             "#0d0887"
            ],
            [
             0.1111111111111111,
             "#46039f"
            ],
            [
             0.2222222222222222,
             "#7201a8"
            ],
            [
             0.3333333333333333,
             "#9c179e"
            ],
            [
             0.4444444444444444,
             "#bd3786"
            ],
            [
             0.5555555555555556,
             "#d8576b"
            ],
            [
             0.6666666666666666,
             "#ed7953"
            ],
            [
             0.7777777777777778,
             "#fb9f3a"
            ],
            [
             0.8888888888888888,
             "#fdca26"
            ],
            [
             1,
             "#f0f921"
            ]
           ],
           "sequentialminus": [
            [
             0,
             "#0d0887"
            ],
            [
             0.1111111111111111,
             "#46039f"
            ],
            [
             0.2222222222222222,
             "#7201a8"
            ],
            [
             0.3333333333333333,
             "#9c179e"
            ],
            [
             0.4444444444444444,
             "#bd3786"
            ],
            [
             0.5555555555555556,
             "#d8576b"
            ],
            [
             0.6666666666666666,
             "#ed7953"
            ],
            [
             0.7777777777777778,
             "#fb9f3a"
            ],
            [
             0.8888888888888888,
             "#fdca26"
            ],
            [
             1,
             "#f0f921"
            ]
           ]
          },
          "colorway": [
           "#636efa",
           "#EF553B",
           "#00cc96",
           "#ab63fa",
           "#FFA15A",
           "#19d3f3",
           "#FF6692",
           "#B6E880",
           "#FF97FF",
           "#FECB52"
          ],
          "font": {
           "color": "#2a3f5f"
          },
          "geo": {
           "bgcolor": "white",
           "lakecolor": "white",
           "landcolor": "#E5ECF6",
           "showlakes": true,
           "showland": true,
           "subunitcolor": "white"
          },
          "hoverlabel": {
           "align": "left"
          },
          "hovermode": "closest",
          "mapbox": {
           "style": "light"
          },
          "paper_bgcolor": "white",
          "plot_bgcolor": "#E5ECF6",
          "polar": {
           "angularaxis": {
            "gridcolor": "white",
            "linecolor": "white",
            "ticks": ""
           },
           "bgcolor": "#E5ECF6",
           "radialaxis": {
            "gridcolor": "white",
            "linecolor": "white",
            "ticks": ""
           }
          },
          "scene": {
           "xaxis": {
            "backgroundcolor": "#E5ECF6",
            "gridcolor": "white",
            "gridwidth": 2,
            "linecolor": "white",
            "showbackground": true,
            "ticks": "",
            "zerolinecolor": "white"
           },
           "yaxis": {
            "backgroundcolor": "#E5ECF6",
            "gridcolor": "white",
            "gridwidth": 2,
            "linecolor": "white",
            "showbackground": true,
            "ticks": "",
            "zerolinecolor": "white"
           },
           "zaxis": {
            "backgroundcolor": "#E5ECF6",
            "gridcolor": "white",
            "gridwidth": 2,
            "linecolor": "white",
            "showbackground": true,
            "ticks": "",
            "zerolinecolor": "white"
           }
          },
          "shapedefaults": {
           "line": {
            "color": "#2a3f5f"
           }
          },
          "ternary": {
           "aaxis": {
            "gridcolor": "white",
            "linecolor": "white",
            "ticks": ""
           },
           "baxis": {
            "gridcolor": "white",
            "linecolor": "white",
            "ticks": ""
           },
           "bgcolor": "#E5ECF6",
           "caxis": {
            "gridcolor": "white",
            "linecolor": "white",
            "ticks": ""
           }
          },
          "title": {
           "x": 0.05
          },
          "xaxis": {
           "automargin": true,
           "gridcolor": "white",
           "linecolor": "white",
           "ticks": "",
           "title": {
            "standoff": 15
           },
           "zerolinecolor": "white",
           "zerolinewidth": 2
          },
          "yaxis": {
           "automargin": true,
           "gridcolor": "white",
           "linecolor": "white",
           "ticks": "",
           "title": {
            "standoff": 15
           },
           "zerolinecolor": "white",
           "zerolinewidth": 2
          }
         }
        },
        "xaxis": {
         "anchor": "y",
         "domain": [
          0,
          1
         ],
         "title": {
          "text": "now_cost"
         }
        },
        "yaxis": {
         "anchor": "x",
         "domain": [
          0,
          1
         ],
         "title": {
          "text": "total_points"
         }
        }
       }
      },
      "text/html": [
       "<div>                            <div id=\"dcbce18e-bf79-44bd-a116-79a52bb9011f\" class=\"plotly-graph-div\" style=\"height:525px; width:100%;\"></div>            <script type=\"text/javascript\">                require([\"plotly\"], function(Plotly) {                    window.PLOTLYENV=window.PLOTLYENV || {};                                    if (document.getElementById(\"dcbce18e-bf79-44bd-a116-79a52bb9011f\")) {                    Plotly.newPlot(                        \"dcbce18e-bf79-44bd-a116-79a52bb9011f\",                        [{\"customdata\": [[\"\\u00d6zil\"], [\"Papastathopoulos\"], [\"Luiz Moreira Marinho\"], [\"Aubameyang\"], [\"Soares\"], [\"Lacazette\"], [\"Mustafi\"], [\"Leno\"], [\"Xhaka\"], [\"Mar\\u00ed\"], [\"Beller\\u00edn\"], [\"Chambers\"], [\"Kolasinac\"], [\"Holding\"], [\"Tierney\"], [\"P\\u00e9p\\u00e9\"], [\"Torreira\"], [\"Nelson\"], [\"Nketiah\"], [\"Smith Rowe\"], [\"Saka\"], [\"Guendouzi\"], [\"Martinelli Silva\"], [\"Saliba\"], [\"Ryan\"], [\"Borges Da Silva\"], [\"Magalh\\u00e3es\"], [\"Ceballos Fern\\u00e1ndez\"], [\"El Sayed Elneny\"], [\"Macey\"], [\"R\\u00fanarsson\"], [\"Partey\"], [\"\\u00d8degaard\"], [\"Mart\\u00ednez\"], [\"Heaton\"], [\"El Mohamady\"], [\"Lansbury\"], [\"Taylor\"], [\"Steer\"], [\"Hourihane\"], [\"Peleteiro Romallo\"], [\"Nyland\"], [\"Engels\"], [\"Grealish\"], [\"McGinn\"], [\"Hause\"], [\"Ibrahim Hassan\"], [\"Mings\"], [\"Targett\"], [\"Bree\"], [\"Nakamba\"], [\"El Ghazi\"], [\"Konsa Ngoyo\"], [\"Guilbert\"], [\"Moraes\"], [\"Samatta\"], [\"Davis\"], [\"Vassilev\"], [\"Soares de Paulo\"], [\"Barkley\"], [\"Cash\"], [\"Watkins\"], [\"Traor\\u00e9\"], [\"Ramsey\"], [\"Sanson\"], [\"Hayden\"], [\"Chukwuemeka\"], [\"Philogene-Bidace\"], [\"Murray\"], [\"Lallana\"], [\"Gro\\u00df\"], [\"Duffy\"], [\"Pr\\u00f6pper\"], [\"Mooy\"], [\"Burn\"], [\"Dunk\"], [\"Montoya\"], [\"Andone\"], [\"March\"], [\"Webster\"], [\"Veltman\"], [\"Maupay\"], [\"Trossard\"], [\"Jahanbakhsh\"], [\"Izquierdo\"], [\"Clarke\"], [\"White\"], [\"Fernandes da Silva Junior\"], [\"Bissouma\"], [\"Lamptey\"], [\"Connolly\"], [\"Alzate\"], [\"Mac Allister\"], [\"Walton\"], [\"Steele\"], [\"Molumby\"], [\"Zeqiri\"], [\"Welbeck\"], [\"S\\u00e1nchez\"], [\"Tau\"], [\"Moder\"], [\"Khadra\"], [\"Jenks\"], [\"Sanders\"], [\"Weir\"], [\"McGill\"], [\"Karbownik\"], [\"Caicedo\"], [\"Stephens\"], [\"Tarkowski\"], [\"Bardsley\"], [\"Pieters\"], [\"Cork\"], [\"Long\"], [\"Rodriguez\"], [\"Barnes\"], [\"Mee\"], [\"Westwood\"], [\"Gudmundsson\"], [\"Wood\"], [\"Lowton\"], [\"Vydra\"], [\"Gibson\"], [\"Brady\"], [\"Pope\"], [\"Taylor\"], [\"Brownhill\"], [\"Peacock-Farrell\"], [\"McNeil\"], [\"Dunne\"], [\"Thomas\"], [\"Benson\"], [\"Driscoll-Glennon\"], [\"Goodridge\"], [\"Norris\"], [\"Thompson\"], [\"Richardson\"], [\"Mancini\"], [\"Mumbongo\"], [\"Nartey\"], [\"Caballero\"], [\"Azpilicueta\"], [\"Giroud\"], [\"Alonso\"], [\"Frello Filho\"], [\"Kovacic\"], [\"R\\u00fcdiger\"], [\"Zouma\"], [\"Palmieri dos Santos\"], [\"Arrizabalaga\"], [\"Kant\\u00e9\"], [\"Ziyech\"], [\"Christensen\"], [\"Werner\"], [\"Abraham\"], [\"Pulisic\"], [\"Mount\"], [\"Tomori\"], [\"Hudson-Odoi\"], [\"James\"], [\"Gilmour\"], [\"Chilwell\"], [\"Thiago\"], [\"Havertz\"], [\"Mendy\"], [\"Ziger\"], [\"Anjorin\"], [\"Batshuayi\"], [\"Cahill\"], [\"Hennessey\"], [\"Sakho\"], [\"Guaita\"], [\"Tomkins\"], [\"McArthur\"], [\"McCarthy\"], [\"Benteke\"], [\"Kouyat\\u00e9\"], [\"Ward\"], [\"Kelly\"], [\"Wickham\"], [\"Townsend\"], [\"Milivojevic\"], [\"van Aanholt\"], [\"Ayew\"], [\"Zaha\"], [\"Schlupp\"], [\"Meyer\"], [\"Riedewald\"], [\"Ferguson\"], [\"Mitchell\"], [\"Pierrick\"], [\"Dann\"], [\"Eze\"], [\"Woods\"], [\"Inniss\"], [\"Clyne\"], [\"Henderson\"], [\"Butland\"], [\"Mateta\"], [\"Hannam\"], [\"Delph\"], [\"Sigurdsson\"], [\"L\\u00f6ssl\"], [\"Coleman\"], [\"Tosun\"], [\"An\\u00edcio Caldeira Duarte\"], [\"Digne\"], [\"Keane\"], [\"Pickford\"], [\"Tavares Gomes\"], [\"Iwobi\"], [\"Kenny\"], [\"Gbamin\"], [\"Mina\"], [\"Davies\"], [\"Calvert-Lewin\"], [\"Holgate\"], [\"de Andrade\"], [\"Virg\\u00ednia\"], [\"Gordon\"], [\"Kean\"], [\"Branthwaite\"], [\"Marques Loureiro\"], [\"Rodr\\u00edguez\"], [\"Doucour\\u00e9\"], [\"Nkounkou\"], [\"Godfrey\"], [\"Olsen\"], [\"Simms\"], [\"Onyango\"], [\"King\"], [\"John\"], [\"Broadhead\"], [\"Astley\"], [\"Tyrer\"], [\"Loftus-Cheek\"], [\"Agosto Ram\\u00edrez\"], [\"McDonald\"], [\"Le Marchand\"], [\"Johansen\"], [\"Cairney\"], [\"Ream\"], [\"Knockaert\"], [\"Hector\"], [\"Christie\"], [\"Kebano\"], [\"Decordova-Reid\"], [\"Bryan\"], [\"Bettinelli\"], [\"Mitrovi\\u0107\"], [\"Mawson\"], [\"Rod\\u00e1k\"], [\"Neves Abreu Cavaleiro\"], [\"Onomah\"], [\"Seri\"], [\"Kamara\"], [\"Zambo Anguissa\"], [\"Sessegnon\"], [\"Reed\"], [\"Robinson\"], [\"Lemina\"], [\"Areola\"], [\"Tete\"], [\"Odoi\"], [\"Lookman\"], [\"Aina\"], [\"Andersen\"], [\"Adarabioyo\"], [\"Kongolo\"], [\"Maja\"], [\"Morgan\"], [\"Schmeichel\"], [\"Fuchs\"], [\"Evans\"], [\"Silva\"], [\"Albrighton\"], [\"James\"], [\"Ward\"], [\"Vardy\"], [\"Praet\"], [\"Barbosa Pereira\"], [\"Amartey\"], [\"Tielemans\"], [\"P\\u00e9rez\"], [\"Gray\"], [\"Maddison\"], [\"Iheanacho\"], [\"Choudhury\"], [\"Barnes\"], [\"Ndidi\"], [\"Benkovic\"], [\"S\\u00f6y\\u00fcnc\\u00fc\"], [\"Justin\"], [\"Thomas\"], [\"Castagne\"], [\"Mendy\"], [\"\\u00dcnder\"], [\"Fofana\"], [\"Slimani\"], [\"Daley-Campbell\"], [\"Leshabela\"], [\"Tavares\"], [\"Flynn\"], [\"Suengchitthawon\"], [\"Hern\\u00e1ndez Dom\\u00ednguez\"], [\"Casilla Cort\\u00e9s\"], [\"Cooper\"], [\"Douglas\"], [\"Ayling\"], [\"Klich\"], [\"Forshaw\"], [\"Dallas\"], [\"Alioski\"], [\"Bamford\"], [\"Harrison\"], [\"Phillips\"], [\"Sousa de Azevedo e Costa\"], [\"Roberts\"], [\"Grot\"], [\"Miazek\"], [\"Poveda-Ocampo\"], [\"Shackleton\"], [\"Struijk\"], [\"Stevens\"], [\"Meslier\"], [\"Davis\"], [\"Casey\"], [\"Koch\"], [\"Moreno\"], [\"Caprile\"], [\"Bogusz\"], [\"Llorente\"], [\"Dias Belloli\"], [\"Jenkins\"], [\"Huggins\"], [\"Cresswell\"], [\"Gelhardt\"], [\"Berardi\"], [\"Milner\"], [\"Tsimikas\"], [\"Wijnaldum\"], [\"Henderson\"], [\"San Miguel del Castillo\"], [\"Matip\"], [\"Shaqiri\"], [\"Oxlade-Chamberlain\"], [\"Firmino\"], [\"van Dijk\"], [\"Man\\u00e9\"], [\"Ramses Becker\"], [\"Tavares\"], [\"Salah\"], [\"Robertson\"], [\"Origi\"], [\"Wilson\"], [\"Alexander-Arnold\"], [\"Gomez\"], [\"Keita\"], [\"Jones\"], [\"Williams\"], [\"Elliott\"], [\"Jota\"], [\"Alc\\u00e1ntara do Nascimento\"], [\"Kelleher\"], [\"Phillips\"], [\"Williams\"], [\"Clarkson\"], [\"Cain\"], [\"Kabak\"], [\"Davies\"], [\"Hughes\"], [\"Ojrzynski\"], [\"Luiz Rosa\"], [\"Bravo\"], [\"Ag\\u00fcero\"], [\"Otamendi\"], [\"Walker\"], [\"G\\u00fcndogan\"], [\"De Bruyne\"], [\"Stones\"], [\"Mendy\"], [\"Mahrez\"], [\"Sterling\"], [\"Cancelo\"], [\"Santana de Moraes\"], [\"Ak\\u00e9\"], [\"Laporte\"], [\"Veiga de Carvalho e Silva\"], [\"de Jesus\"], [\"Zinchenko\"], [\"Foden\"], [\"Doyle\"], [\"Hernandez\"], [\"Torres\"], [\"Garcia\"], [\"Bernab\\u00e9\"], [\"Steffen\"], [\"Delap\"], [\"Palmer\"], [\"Gato Alves Dias\"], [\"Trafford\"], [\"Carson\"], [\"Nmecha\"], [\"Mbete\"], [\"Harwood-Bellis\"], [\"Gomes\"], [\"Romero\"], [\"Mata\"], [\"de Gea\"], [\"Smalling\"], [\"Ighalo\"], [\"Rojo\"], [\"Matic\"], [\"Pogba\"], [\"Jones\"], [\"Maguire\"], [\"Rodrigues de Paula Santos\"], [\"Shaw\"], [\"Borges Fernandes\"], [\"Martial\"], [\"Pereira\"], [\"Henderson\"], [\"Rashford\"], [\"Tuanzebe\"], [\"Lindel\\u00f6f\"], [\"McTominay\"], [\"Bailly\"], [\"James\"], [\"Fosu-Mensah\"], [\"Wan-Bissaka\"], [\"Dalot Teixeira\"], [\"Greenwood\"], [\"Chong\"], [\"Garner\"], [\"Williams\"], [\"Mengi\"], [\"van de Beek\"], [\"Telles\"], [\"Cavani\"], [\"Pellistri\"], [\"Grant\"], [\"Diallo\"], [\"Shoretire\"], [\"Bishop\"], [\"Willock\"], [\"Carroll\"], [\"Shelvey\"], [\"Ritchie\"], [\"Fern\\u00e1ndez\"], [\"Clark\"], [\"Darlow\"], [\"Dubravka\"], [\"Lejeune\"], [\"Lascelles\"], [\"Gayle\"], [\"Atsu\"], [\"Dummett\"], [\"Manquillo\"], [\"Krafth\"], [\"Sch\\u00e4r\"], [\"Yedlin\"], [\"Hayden\"], [\"Aarons\"], [\"Saint-Maximin\"], [\"Almir\\u00f3n\"], [\"Apolin\\u00e1rio de Lira\"], [\"Muto\"], [\"Watts\"], [\"Longstaff\"], [\"Hendrick\"], [\"Longstaff\"], [\"Gillespie\"], [\"Murphy\"], [\"Wilson\"], [\"Fraser\"], [\"Lewis\"], [\"Anderson\"], [\"Langley\"], [\"Brewster\"], [\"Sharp\"], [\"McGoldrick\"], [\"Basham\"], [\"Fleck\"], [\"Stevens\"], [\"Moore\"], [\"Norwood\"], [\"Foderingham\"], [\"Baldock\"], [\"Robinson\"], [\"Egan\"], [\"O'Connell\"], [\"Lundstram\"], [\"Osborn\"], [\"McBurnie\"], [\"Mousset\"], [\"Berge\"], [\"Burke\"], [\"Freeman\"], [\"Ramsdale\"], [\"Ampadu\"], [\"Bogle\"], [\"Lowe\"], [\"Jagielka\"], [\"Verrips\"], [\"Bryan\"], [\"Hackford\"], [\"Gordon\"], [\"Ndiaye\"], [\"Brunt\"], [\"Maguire\"], [\"Walcott\"], [\"Minamino\"], [\"Long\"], [\"Bertrand\"], [\"McCarthy\"], [\"Romeu Vidal\"], [\"Redmond\"], [\"Ings\"], [\"Stephens\"], [\"Armstrong\"], [\"Vestergaard\"], [\"Ward-Prowse\"], [\"Gunn\"], [\"Boufal\"], [\"Sims\"], [\"Walker-Peters\"], [\"Bednarek\"], [\"Adams\"], [\"Valery\"], [\"Smallbone\"], [\"Vokins\"], [\"Obafemi\"], [\"Djenepo\"], [\"Salisu\"], [\"Forster\"], [\"Tella\"], [\"Diallo\"], [\"N'Lundulu\"], [\"Ramsay\"], [\"Chauke\"], [\"Lewis\"], [\"Ferry\"], [\"Tchaptchet\"], [\"Watts\"], [\"Jankewitz\"], [\"Finnigan\"], [\"Lloris\"], [\"Rose\"], [\"Sissoko\"], [\"Alderweireld\"], [\"Lamela\"], [\"Kane\"], [\"Aurier\"], [\"Son\"], [\"Dier\"], [\"Rodrigues Moura da Silva\"], [\"Gazzaniga\"], [\"Alli\"], [\"Davies\"], [\"H\\u00f8jbjerg\"], [\"Winks\"], [\"S\\u00e1nchez\"], [\"Sessegnon\"], [\"Bergwijn\"], [\"Carvalho Fernandes\"], [\"Tanganga\"], [\"Lo Celso\"], [\"Skipp\"], [\"Ndombele\"], [\"Foyth\"], [\"Doherty\"], [\"Hart\"], [\"Carter-Vickers\"], [\"Reguil\\u00f3n\"], [\"Bale\"], [\"Alves Morais\"], [\"Rodon\"], [\"Devine\"], [\"Scarlett\"], [\"Maitland-Niles\"], [\"Button\"], [\"Robinson\"], [\"Gibbs\"], [\"Robson-Kanu\"], [\"Livermore\"], [\"Grosicki\"], [\"Phillips\"], [\"Bartley\"], [\"Sawyers\"], [\"Hegazy\"], [\"Austin\"], [\"Zohore\"], [\"Johnstone\"], [\"Townsend\"], [\"Ajayi\"], [\"Leko\"], [\"Edwards\"], [\"Furlong\"], [\"Field\"], [\"O'Shea\"], [\"Harper\"], [\"Snodgrass\"], [\"Diangana\"], [\"Pereira\"], [\"Kipre\"], [\"Ivanovic\"], [\"Gallagher\"], [\"Krovinovic\"], [\"Grant\"], [\"Peltier\"], [\"Diaby\"], [\"Lonergan\"], [\"Diagne\"], [\"Yokuslu\"], [\"Lingard\"], [\"Noble\"], [\"Martin\"], [\"Randolph\"], [\"Fabianski\"], [\"Ogbonna\"], [\"Jimenez Gago\"], [\"Wilshere\"], [\"Cresswell\"], [\"Yarmolenko\"], [\"Antonio\"], [\"Fredericks\"], [\"Lanzini\"], [\"Pereira Gomes\"], [\"Haller\"], [\"Masuaku\"], [\"Balbuena\"], [\"Hugill\"], [\"Bowen\"], [\"Ajeti\"], [\"Rice\"], [\"Soucek\"], [\"Fornals\"], [\"Diop\"], [\"Johnson\"], [\"Coufal\"], [\"Dawson\"], [\"Benrahma\"], [\"Alves\"], [\"Odubeko\"], [\"Coventry\"], [\"Baptiste\"], [\"Trott\"], [\"Ruddy\"], [\"Santos Moutinho\"], [\"dos Santos Patr\\u00edcio\"], [\"Bennett\"], [\"Boly\"], [\"Coady\"], [\"Jim\\u00e9nez\"], [\"Sa\\u00efss\"], [\"Castro Otto\"], [\"Bonatini\"], [\"Dendoncker\"], [\"Traor\\u00e9\"], [\"da Silva Neves\"], [\"Buur\"], [\"Castelo Podence\"], [\"Kilman\"], [\"Silva Nascimento Vinagre\"], [\"Sarkic\"], [\"Gibbs-White\"], [\"Lomba Neto\"], [\"Cavaco Jordao\"], [\"Campana\"], [\"Silva\"], [\"Mar\\u00e7al\"], [\"Ferreira\"], [\"Hoever\"], [\"Cabral Semedo\"], [\"Shabani\"], [\"Ait Nouri\"], [\"Otasowie\"], [\"Corbeanu\"], [\"Perry\"], [\"Cundle\"], [\"Richards\"], [\"Marques\"], [\"S\\u00f6ndergaard\"], [\"Cutrone\"], [\"Lonwijk\"], [\"Da Silva\"], [\"Bueno\"]], \"hovertemplate\": \"now_cost=%{x}<br>total_points=%{y}<br>second_name=%{customdata[0]}<extra></extra>\", \"legendgroup\": \"\", \"marker\": {\"color\": \"#636efa\", \"symbol\": \"circle\"}, \"mode\": \"markers\", \"name\": \"\", \"orientation\": \"v\", \"showlegend\": false, \"type\": \"scatter\", \"x\": [67, 48, 54, 114, 46, 83, 50, 50, 52, 44, 50, 45, 48, 42, 53, 76, 47, 51, 53, 42, 52, 47, 49, 40, 42, 75, 49, 47, 42, 40, 44, 49, 59, 54, 45, 43, 43, 42, 39, 59, 59, 40, 44, 75, 55, 44, 52, 54, 51, 45, 43, 52, 47, 43, 60, 59, 42, 43, 48, 59, 50, 65, 59, 45, 55, 45, 45, 45, 48, 62, 58, 43, 47, 50, 42, 50, 45, 48, 50, 43, 44, 60, 57, 54, 55, 44, 45, 39, 44, 46, 52, 42, 53, 40, 39, 45, 50, 55, 45, 49, 50, 45, 45, 45, 45, 39, 45, 50, 42, 53, 44, 43, 50, 43, 58, 60, 49, 53, 54, 63, 44, 48, 39, 50, 55, 44, 49, 40, 57, 38, 39, 45, 39, 45, 40, 45, 45, 44, 45, 40, 46, 59, 67, 57, 47, 53, 47, 53, 47, 47, 49, 79, 47, 92, 71, 82, 72, 47, 57, 50, 44, 58, 56, 82, 52, 40, 45, 57, 45, 43, 44, 48, 44, 52, 43, 55, 48, 43, 41, 44, 55, 56, 54, 56, 71, 53, 47, 44, 38, 38, 43, 42, 58, 40, 40, 45, 40, 45, 54, 40, 48, 68, 43, 48, 60, 57, 62, 51, 48, 53, 59, 43, 50, 55, 52, 76, 48, 79, 43, 43, 57, 39, 52, 77, 52, 40, 50, 45, 45, 45, 52, 40, 45, 40, 40, 59, 39, 47, 41, 47, 52, 42, 50, 41, 42, 47, 53, 45, 43, 55, 43, 43, 53, 46, 46, 48, 45, 43, 44, 44, 45, 46, 43, 42, 50, 45, 45, 45, 43, 54, 44, 54, 45, 55, 44, 52, 43, 43, 101, 52, 59, 39, 65, 60, 51, 71, 58, 46, 67, 48, 43, 53, 49, 41, 57, 42, 57, 50, 49, 40, 44, 44, 45, 45, 57, 42, 43, 38, 44, 52, 48, 51, 43, 66, 54, 49, 50, 46, 47, 40, 42, 48, 40, 43, 47, 38, 38, 43, 57, 40, 43, 44, 56, 45, 45, 40, 45, 40, 53, 49, 53, 54, 42, 54, 64, 63, 90, 62, 118, 59, 54, 125, 71, 51, 51, 74, 52, 52, 44, 38, 43, 70, 55, 45, 41, 40, 45, 45, 50, 48, 40, 40, 54, 45, 103, 49, 61, 60, 120, 52, 59, 82, 113, 60, 61, 54, 60, 74, 92, 55, 60, 44, 53, 69, 47, 45, 44, 43, 44, 62, 40, 39, 45, 40, 40, 45, 49, 58, 53, 49, 61, 48, 47, 76, 48, 55, 53, 53, 116, 86, 48, 52, 95, 41, 48, 49, 48, 62, 43, 57, 48, 70, 44, 44, 42, 39, 66, 53, 78, 52, 40, 54, 45, 40, 47, 51, 53, 49, 47, 45, 49, 48, 43, 42, 59, 52, 44, 42, 42, 48, 43, 46, 48, 51, 56, 57, 48, 39, 46, 45, 48, 43, 49, 65, 56, 41, 45, 39, 43, 55, 52, 46, 56, 50, 43, 45, 43, 49, 42, 47, 47, 49, 47, 56, 58, 49, 41, 50, 46, 43, 43, 42, 39, 40, 39, 44, 40, 45, 45, 44, 58, 60, 51, 50, 44, 45, 64, 84, 46, 55, 47, 59, 43, 54, 43, 47, 48, 58, 47, 43, 39, 46, 54, 43, 40, 43, 45, 45, 40, 44, 40, 45, 40, 45, 45, 45, 56, 47, 47, 54, 57, 117, 52, 94, 46, 66, 43, 74, 45, 49, 51, 52, 47, 70, 47, 49, 69, 44, 59, 43, 56, 42, 39, 55, 92, 69, 50, 44, 45, 46, 39, 52, 43, 52, 47, 52, 51, 44, 46, 41, 51, 48, 45, 44, 48, 45, 47, 45, 48, 42, 43, 56, 50, 54, 43, 44, 55, 49, 56, 40, 45, 40, 60, 45, 64, 45, 39, 43, 50, 47, 45, 49, 59, 55, 66, 42, 64, 61, 61, 43, 41, 55, 59, 55, 47, 53, 58, 43, 39, 46, 45, 60, 40, 45, 45, 40, 40, 43, 51, 53, 44, 54, 48, 81, 49, 54, 48, 46, 60, 51, 39, 53, 39, 41, 44, 49, 57, 43, 48, 52, 47, 47, 44, 52, 44, 50, 45, 45, 45, 45, 40, 39, 40, 59, 40, 68, 40], \"xaxis\": \"x\", \"y\": [0.0, 0.0, 40.0, 108.0, 28.0, 111.0, 3.0, 104.0, 57.0, 21.0, 83.0, 8.0, 2.0, 75.0, 78.0, 63.0, 0.0, 2.0, 27.0, 46.0, 96.0, 0.0, 11.0, 0.0, 29.0, 63.0, 53.0, 41.0, 30.0, 0.0, 1.0, 30.0, 23.0, 160.0, 0.0, 30.0, 0.0, -1.0, 0.0, 20.0, 0.0, 0.0, 0.0, 129.0, 92.0, 28.0, 56.0, 115.0, 118.0, 0.0, 18.0, 72.0, 102.0, 0.0, 0.0, 0.0, 12.0, 0.0, 59.0, 63.0, 88.0, 132.0, 97.0, 20.0, 10.0, 0.0, 0.0, 0.0, 0.0, 49.0, 85.0, 0.0, 9.0, 0.0, 39.0, 102.0, 0.0, 0.0, 69.0, 61.0, 76.0, 99.0, 109.0, 16.0, 0.0, 0.0, 81.0, 5.0, 60.0, 35.0, 36.0, 29.0, 39.0, 0.0, 0.0, 1.0, 6.0, 59.0, 73.0, 3.0, 7.0, 1.0, 0.0, 0.0, 0.0, 0.0, 0.0, 0.0, 8.0, 84.0, 2.0, 49.0, 18.0, 14.0, 48.0, 48.0, 87.0, 79.0, 41.0, 93.0, 83.0, 41.0, 0.0, 44.0, 130.0, 64.0, 55.0, 0.0, 87.0, 8.0, 0.0, 10.0, 0.0, 0.0, 0.0, 0.0, 2.0, 0.0, 2.0, 0.0, 1.0, 98.0, 44.0, 42.0, 94.0, 51.0, 65.0, 87.0, 7.0, 15.0, 55.0, 51.0, 40.0, 106.0, 67.0, 56.0, 124.0, 0.0, 55.0, 87.0, 2.0, 105.0, 73.0, 68.0, 114.0, 0.0, 0.0, 40.0, 39.0, 0.0, 4.0, 109.0, 15.0, 45.0, 18.0, 67.0, 70.0, 56.0, 0.0, 0.0, 76.0, 56.0, 52.0, 62.0, 112.0, 51.0, 0.0, 57.0, 0.0, 35.0, 0.0, 33.0, 90.0, 0.0, 0.0, 28.0, 0.0, 0.0, 13.0, 0.0, 6.0, 88.0, 0.0, 43.0, 4.0, 18.0, 76.0, 100.0, 79.0, 40.0, 58.0, 5.0, 1.0, 63.0, 36.0, 138.0, 60.0, 96.0, 2.0, 3.0, 2.0, 0.0, 29.0, 88.0, 71.0, 1.0, 57.0, 15.0, 0.0, 0.0, 8.0, 0.0, 0.0, 0.0, 0.0, 62.0, 0.0, 0.0, 1.0, 0.0, 27.0, 7.0, 0.0, 0.0, 0.0, 6.0, 71.0, 13.0, 0.0, 60.0, 0.0, 1.0, 72.0, 7.0, 0.0, 8.0, 66.0, 0.0, 65.0, 53.0, 46.0, 113.0, 48.0, 1.0, 96.0, 99.0, 89.0, 92.0, 2.0, 27.0, 3.0, 115.0, 24.0, 78.0, 0.0, 52.0, 0.0, 0.0, 149.0, 35.0, 23.0, 20.0, 113.0, 47.0, 1.0, 120.0, 57.0, 13.0, 126.0, 59.0, 0.0, 37.0, 101.0, 5.0, 68.0, 38.0, 16.0, 59.0, 1.0, 0.0, 1.0, 3.0, 0.0, 0.0, 20.0, 2.0, 52.0, 0.0, 76.0, 85.0, 0.0, 138.0, 80.0, 162.0, 124.0, 53.0, 58.0, 34.0, 0.0, 0.0, 10.0, 17.0, 53.0, 0.0, 131.0, 2.0, 0.0, 35.0, 56.0, 0.0, 0.0, 22.0, 115.0, 0.0, 1.0, 0.0, 0.0, 0.0, 40.0, 1.0, 81.0, 56.0, 11.0, 42.0, 25.0, 12.0, 106.0, 15.0, 127.0, 98.0, 55.0, 189.0, 124.0, 10.0, 0.0, 114.0, 10.0, 15.0, 43.0, 10.0, 0.0, 71.0, 31.0, 10.0, 37.0, 6.0, 0.0, 0.0, 23.0, 0.0, 0.0, 0.0, 44.0, 0.0, 17.0, 0.0, 82.0, 143.0, 128.0, 123.0, 48.0, 132.0, 138.0, 123.0, 135.0, 21.0, 50.0, 78.0, 99.0, 57.0, 109.0, 0.0, 72.0, 62.0, 4.0, 0.0, 2.0, 1.0, 0.0, 133.0, 0.0, 0.0, 0.0, 0.0, 0.0, 0.0, 0.0, 20.0, 87.0, 0.0, 1.0, 0.0, 29.0, 72.0, 0.0, 115.0, 52.0, 110.0, 214.0, 75.0, 0.0, 27.0, 148.0, 2.0, 88.0, 79.0, 27.0, 35.0, 0.0, 122.0, 0.0, 56.0, 0.0, 0.0, 2.0, 0.0, 19.0, 22.0, 61.0, 0.0, 0.0, 0.0, 1.0, 0.0, 35.0, 28.0, 51.0, 15.0, 34.0, 40.0, 80.0, 18.0, 0.0, 44.0, 22.0, 0.0, 13.0, 28.0, 27.0, 25.0, 13.0, 40.0, 0.0, 53.0, 79.0, 54.0, 0.0, 0.0, 27.0, 49.0, 10.0, 0.0, 42.0, 116.0, 39.0, 43.0, 1.0, 0.0, 27.0, 39.0, 71.0, 38.0, 52.0, 30.0, 0.0, 37.0, 0.0, 44.0, 13.0, 33.0, 3.0, 44.0, 33.0, 43.0, 10.0, 29.0, 39.0, 0.0, 83.0, 42.0, 29.0, 9.0, 4.0, 0.0, 19.0, 1.0, 0.0, 1.0, 0.0, 0.0, 62.0, 41.0, 12.0, 77.0, 82.0, 51.0, 51.0, 106.0, 33.0, 93.0, 80.0, 128.0, 0.0, 0.0, 0.0, 80.0, 89.0, 109.0, 3.0, 5.0, 1.0, 1.0, 42.0, 7.0, 18.0, 15.0, 23.0, 12.0, -3.0, 0.0, 0.0, 0.0, 0.0, 2.0, -1.0, 0.0, 121.0, 0.0, 41.0, 70.0, 23.0, 204.0, 61.0, 180.0, 59.0, 68.0, 0.0, 14.0, 52.0, 81.0, 13.0, 42.0, 0.0, 40.0, 0.0, 8.0, 23.0, 0.0, 88.0, 0.0, 45.0, 0.0, 0.0, 67.0, 59.0, 13.0, 24.0, 0.0, 1.0, 51.0, 2.0, 63.0, 5.0, 12.0, 24.0, 8.0, 49.0, 66.0, 33.0, 6.0, 5.0, 0.0, 101.0, 54.0, 42.0, 0.0, 5.0, 66.0, 3.0, 32.0, 2.0, 14.0, 34.0, 111.0, 0.0, 20.0, 61.0, 17.0, 37.0, 2.0, 0.0, 0.0, 35.0, 17.0, 68.0, 20.0, 0.0, 7.0, 112.0, 82.0, 0.0, 0.0, 136.0, 16.0, 90.0, 24.0, 23.0, 2.0, 41.0, 42.0, 40.0, 0.0, 110.0, 0.0, 76.0, 123.0, 92.0, 28.0, 22.0, 95.0, 65.0, 47.0, 0.0, 0.0, 0.0, 0.0, 0.0, 1.0, 62.0, 115.0, 0.0, 60.0, 92.0, 43.0, 87.0, 16.0, 0.0, 66.0, 72.0, 94.0, 1.0, 68.0, 54.0, 1.0, 0.0, 6.0, 124.0, 0.0, 0.0, 48.0, 18.0, 17.0, 10.0, 85.0, 0.0, 42.0, 7.0, 0.0, 0.0, 0.0, 0.0, 0.0, 0.0, 2.0, 0.0, 24.0, 0.0], \"yaxis\": \"y\"}],                        {\"legend\": {\"tracegroupgap\": 0}, \"margin\": {\"t\": 60}, \"template\": {\"data\": {\"bar\": [{\"error_x\": {\"color\": \"#2a3f5f\"}, \"error_y\": {\"color\": \"#2a3f5f\"}, \"marker\": {\"line\": {\"color\": \"#E5ECF6\", \"width\": 0.5}}, \"type\": \"bar\"}], \"barpolar\": [{\"marker\": {\"line\": {\"color\": \"#E5ECF6\", \"width\": 0.5}}, \"type\": \"barpolar\"}], \"carpet\": [{\"aaxis\": {\"endlinecolor\": \"#2a3f5f\", \"gridcolor\": \"white\", \"linecolor\": \"white\", \"minorgridcolor\": \"white\", \"startlinecolor\": \"#2a3f5f\"}, \"baxis\": {\"endlinecolor\": \"#2a3f5f\", \"gridcolor\": \"white\", \"linecolor\": \"white\", \"minorgridcolor\": \"white\", \"startlinecolor\": \"#2a3f5f\"}, \"type\": \"carpet\"}], \"choropleth\": [{\"colorbar\": {\"outlinewidth\": 0, \"ticks\": \"\"}, \"type\": \"choropleth\"}], \"contour\": [{\"colorbar\": {\"outlinewidth\": 0, \"ticks\": \"\"}, \"colorscale\": [[0.0, \"#0d0887\"], [0.1111111111111111, \"#46039f\"], [0.2222222222222222, \"#7201a8\"], [0.3333333333333333, \"#9c179e\"], [0.4444444444444444, \"#bd3786\"], [0.5555555555555556, \"#d8576b\"], [0.6666666666666666, \"#ed7953\"], [0.7777777777777778, \"#fb9f3a\"], [0.8888888888888888, \"#fdca26\"], [1.0, \"#f0f921\"]], \"type\": \"contour\"}], \"contourcarpet\": [{\"colorbar\": {\"outlinewidth\": 0, \"ticks\": \"\"}, \"type\": \"contourcarpet\"}], \"heatmap\": [{\"colorbar\": {\"outlinewidth\": 0, \"ticks\": \"\"}, \"colorscale\": [[0.0, \"#0d0887\"], [0.1111111111111111, \"#46039f\"], [0.2222222222222222, \"#7201a8\"], [0.3333333333333333, \"#9c179e\"], [0.4444444444444444, \"#bd3786\"], [0.5555555555555556, \"#d8576b\"], [0.6666666666666666, \"#ed7953\"], [0.7777777777777778, \"#fb9f3a\"], [0.8888888888888888, \"#fdca26\"], [1.0, \"#f0f921\"]], \"type\": \"heatmap\"}], \"heatmapgl\": [{\"colorbar\": {\"outlinewidth\": 0, \"ticks\": \"\"}, \"colorscale\": [[0.0, \"#0d0887\"], [0.1111111111111111, \"#46039f\"], [0.2222222222222222, \"#7201a8\"], [0.3333333333333333, \"#9c179e\"], [0.4444444444444444, \"#bd3786\"], [0.5555555555555556, \"#d8576b\"], [0.6666666666666666, \"#ed7953\"], [0.7777777777777778, \"#fb9f3a\"], [0.8888888888888888, \"#fdca26\"], [1.0, \"#f0f921\"]], \"type\": \"heatmapgl\"}], \"histogram\": [{\"marker\": {\"colorbar\": {\"outlinewidth\": 0, \"ticks\": \"\"}}, \"type\": \"histogram\"}], \"histogram2d\": [{\"colorbar\": {\"outlinewidth\": 0, \"ticks\": \"\"}, \"colorscale\": [[0.0, \"#0d0887\"], [0.1111111111111111, \"#46039f\"], [0.2222222222222222, \"#7201a8\"], [0.3333333333333333, \"#9c179e\"], [0.4444444444444444, \"#bd3786\"], [0.5555555555555556, \"#d8576b\"], [0.6666666666666666, \"#ed7953\"], [0.7777777777777778, \"#fb9f3a\"], [0.8888888888888888, \"#fdca26\"], [1.0, \"#f0f921\"]], \"type\": \"histogram2d\"}], \"histogram2dcontour\": [{\"colorbar\": {\"outlinewidth\": 0, \"ticks\": \"\"}, \"colorscale\": [[0.0, \"#0d0887\"], [0.1111111111111111, \"#46039f\"], [0.2222222222222222, \"#7201a8\"], [0.3333333333333333, \"#9c179e\"], [0.4444444444444444, \"#bd3786\"], [0.5555555555555556, \"#d8576b\"], [0.6666666666666666, \"#ed7953\"], [0.7777777777777778, \"#fb9f3a\"], [0.8888888888888888, \"#fdca26\"], [1.0, \"#f0f921\"]], \"type\": \"histogram2dcontour\"}], \"mesh3d\": [{\"colorbar\": {\"outlinewidth\": 0, \"ticks\": \"\"}, \"type\": \"mesh3d\"}], \"parcoords\": [{\"line\": {\"colorbar\": {\"outlinewidth\": 0, \"ticks\": \"\"}}, \"type\": \"parcoords\"}], \"pie\": [{\"automargin\": true, \"type\": \"pie\"}], \"scatter\": [{\"marker\": {\"colorbar\": {\"outlinewidth\": 0, \"ticks\": \"\"}}, \"type\": \"scatter\"}], \"scatter3d\": [{\"line\": {\"colorbar\": {\"outlinewidth\": 0, \"ticks\": \"\"}}, \"marker\": {\"colorbar\": {\"outlinewidth\": 0, \"ticks\": \"\"}}, \"type\": \"scatter3d\"}], \"scattercarpet\": [{\"marker\": {\"colorbar\": {\"outlinewidth\": 0, \"ticks\": \"\"}}, \"type\": \"scattercarpet\"}], \"scattergeo\": [{\"marker\": {\"colorbar\": {\"outlinewidth\": 0, \"ticks\": \"\"}}, \"type\": \"scattergeo\"}], \"scattergl\": [{\"marker\": {\"colorbar\": {\"outlinewidth\": 0, \"ticks\": \"\"}}, \"type\": \"scattergl\"}], \"scattermapbox\": [{\"marker\": {\"colorbar\": {\"outlinewidth\": 0, \"ticks\": \"\"}}, \"type\": \"scattermapbox\"}], \"scatterpolar\": [{\"marker\": {\"colorbar\": {\"outlinewidth\": 0, \"ticks\": \"\"}}, \"type\": \"scatterpolar\"}], \"scatterpolargl\": [{\"marker\": {\"colorbar\": {\"outlinewidth\": 0, \"ticks\": \"\"}}, \"type\": \"scatterpolargl\"}], \"scatterternary\": [{\"marker\": {\"colorbar\": {\"outlinewidth\": 0, \"ticks\": \"\"}}, \"type\": \"scatterternary\"}], \"surface\": [{\"colorbar\": {\"outlinewidth\": 0, \"ticks\": \"\"}, \"colorscale\": [[0.0, \"#0d0887\"], [0.1111111111111111, \"#46039f\"], [0.2222222222222222, \"#7201a8\"], [0.3333333333333333, \"#9c179e\"], [0.4444444444444444, \"#bd3786\"], [0.5555555555555556, \"#d8576b\"], [0.6666666666666666, \"#ed7953\"], [0.7777777777777778, \"#fb9f3a\"], [0.8888888888888888, \"#fdca26\"], [1.0, \"#f0f921\"]], \"type\": \"surface\"}], \"table\": [{\"cells\": {\"fill\": {\"color\": \"#EBF0F8\"}, \"line\": {\"color\": \"white\"}}, \"header\": {\"fill\": {\"color\": \"#C8D4E3\"}, \"line\": {\"color\": \"white\"}}, \"type\": \"table\"}]}, \"layout\": {\"annotationdefaults\": {\"arrowcolor\": \"#2a3f5f\", \"arrowhead\": 0, \"arrowwidth\": 1}, \"autotypenumbers\": \"strict\", \"coloraxis\": {\"colorbar\": {\"outlinewidth\": 0, \"ticks\": \"\"}}, \"colorscale\": {\"diverging\": [[0, \"#8e0152\"], [0.1, \"#c51b7d\"], [0.2, \"#de77ae\"], [0.3, \"#f1b6da\"], [0.4, \"#fde0ef\"], [0.5, \"#f7f7f7\"], [0.6, \"#e6f5d0\"], [0.7, \"#b8e186\"], [0.8, \"#7fbc41\"], [0.9, \"#4d9221\"], [1, \"#276419\"]], \"sequential\": [[0.0, \"#0d0887\"], [0.1111111111111111, \"#46039f\"], [0.2222222222222222, \"#7201a8\"], [0.3333333333333333, \"#9c179e\"], [0.4444444444444444, \"#bd3786\"], [0.5555555555555556, \"#d8576b\"], [0.6666666666666666, \"#ed7953\"], [0.7777777777777778, \"#fb9f3a\"], [0.8888888888888888, \"#fdca26\"], [1.0, \"#f0f921\"]], \"sequentialminus\": [[0.0, \"#0d0887\"], [0.1111111111111111, \"#46039f\"], [0.2222222222222222, \"#7201a8\"], [0.3333333333333333, \"#9c179e\"], [0.4444444444444444, \"#bd3786\"], [0.5555555555555556, \"#d8576b\"], [0.6666666666666666, \"#ed7953\"], [0.7777777777777778, \"#fb9f3a\"], [0.8888888888888888, \"#fdca26\"], [1.0, \"#f0f921\"]]}, \"colorway\": [\"#636efa\", \"#EF553B\", \"#00cc96\", \"#ab63fa\", \"#FFA15A\", \"#19d3f3\", \"#FF6692\", \"#B6E880\", \"#FF97FF\", \"#FECB52\"], \"font\": {\"color\": \"#2a3f5f\"}, \"geo\": {\"bgcolor\": \"white\", \"lakecolor\": \"white\", \"landcolor\": \"#E5ECF6\", \"showlakes\": true, \"showland\": true, \"subunitcolor\": \"white\"}, \"hoverlabel\": {\"align\": \"left\"}, \"hovermode\": \"closest\", \"mapbox\": {\"style\": \"light\"}, \"paper_bgcolor\": \"white\", \"plot_bgcolor\": \"#E5ECF6\", \"polar\": {\"angularaxis\": {\"gridcolor\": \"white\", \"linecolor\": \"white\", \"ticks\": \"\"}, \"bgcolor\": \"#E5ECF6\", \"radialaxis\": {\"gridcolor\": \"white\", \"linecolor\": \"white\", \"ticks\": \"\"}}, \"scene\": {\"xaxis\": {\"backgroundcolor\": \"#E5ECF6\", \"gridcolor\": \"white\", \"gridwidth\": 2, \"linecolor\": \"white\", \"showbackground\": true, \"ticks\": \"\", \"zerolinecolor\": \"white\"}, \"yaxis\": {\"backgroundcolor\": \"#E5ECF6\", \"gridcolor\": \"white\", \"gridwidth\": 2, \"linecolor\": \"white\", \"showbackground\": true, \"ticks\": \"\", \"zerolinecolor\": \"white\"}, \"zaxis\": {\"backgroundcolor\": \"#E5ECF6\", \"gridcolor\": \"white\", \"gridwidth\": 2, \"linecolor\": \"white\", \"showbackground\": true, \"ticks\": \"\", \"zerolinecolor\": \"white\"}}, \"shapedefaults\": {\"line\": {\"color\": \"#2a3f5f\"}}, \"ternary\": {\"aaxis\": {\"gridcolor\": \"white\", \"linecolor\": \"white\", \"ticks\": \"\"}, \"baxis\": {\"gridcolor\": \"white\", \"linecolor\": \"white\", \"ticks\": \"\"}, \"bgcolor\": \"#E5ECF6\", \"caxis\": {\"gridcolor\": \"white\", \"linecolor\": \"white\", \"ticks\": \"\"}}, \"title\": {\"x\": 0.05}, \"xaxis\": {\"automargin\": true, \"gridcolor\": \"white\", \"linecolor\": \"white\", \"ticks\": \"\", \"title\": {\"standoff\": 15}, \"zerolinecolor\": \"white\", \"zerolinewidth\": 2}, \"yaxis\": {\"automargin\": true, \"gridcolor\": \"white\", \"linecolor\": \"white\", \"ticks\": \"\", \"title\": {\"standoff\": 15}, \"zerolinecolor\": \"white\", \"zerolinewidth\": 2}}}, \"xaxis\": {\"anchor\": \"y\", \"domain\": [0.0, 1.0], \"title\": {\"text\": \"now_cost\"}}, \"yaxis\": {\"anchor\": \"x\", \"domain\": [0.0, 1.0], \"title\": {\"text\": \"total_points\"}}},                        {\"responsive\": true}                    ).then(function(){\n",
       "                            \n",
       "var gd = document.getElementById('dcbce18e-bf79-44bd-a116-79a52bb9011f');\n",
       "var x = new MutationObserver(function (mutations, observer) {{\n",
       "        var display = window.getComputedStyle(gd).display;\n",
       "        if (!display || display === 'none') {{\n",
       "            console.log([gd, 'removed!']);\n",
       "            Plotly.purge(gd);\n",
       "            observer.disconnect();\n",
       "        }}\n",
       "}});\n",
       "\n",
       "// Listen for the removal of the full notebook cells\n",
       "var notebookContainer = gd.closest('#notebook-container');\n",
       "if (notebookContainer) {{\n",
       "    x.observe(notebookContainer, {childList: true});\n",
       "}}\n",
       "\n",
       "// Listen for the clearing of the current output cell\n",
       "var outputEl = gd.closest('.output');\n",
       "if (outputEl) {{\n",
       "    x.observe(outputEl, {childList: true});\n",
       "}}\n",
       "\n",
       "                        })                };                });            </script>        </div>"
      ]
     },
     "metadata": {},
     "output_type": "display_data"
    },
    {
     "data": {
      "application/vnd.plotly.v1+json": {
       "config": {
        "plotlyServerURL": "https://plot.ly"
       },
       "data": [
        {
         "alignmentgroup": "True",
         "customdata": [
          [
           "Wolves"
          ],
          [
           "Fulham"
          ],
          [
           "Southampton"
          ],
          [
           "West Brom"
          ],
          [
           "Leicester"
          ],
          [
           "Leeds"
          ],
          [
           "Leeds"
          ],
          [
           "Wolves"
          ],
          [
           "Liverpool"
          ],
          [
           "Liverpool"
          ],
          [
           "Man City"
          ],
          [
           "Spurs"
          ],
          [
           "Man City"
          ],
          [
           "Man City"
          ],
          [
           "Man Utd"
          ],
          [
           "Man Utd"
          ],
          [
           "Man Utd"
          ],
          [
           "Newcastle"
          ],
          [
           "Newcastle"
          ],
          [
           "Sheffield Utd"
          ],
          [
           "Sheffield Utd"
          ],
          [
           "Spurs"
          ],
          [
           "Sheffield Utd"
          ],
          [
           "Southampton"
          ],
          [
           "Fulham"
          ],
          [
           "Everton"
          ],
          [
           "West Ham"
          ],
          [
           "Chelsea"
          ],
          [
           "Brighton"
          ],
          [
           "Burnley"
          ],
          [
           "Burnley"
          ],
          [
           "Brighton"
          ],
          [
           "Aston Villa"
          ],
          [
           "West Ham"
          ],
          [
           "Aston Villa"
          ],
          [
           "West Ham"
          ],
          [
           "Brighton"
          ],
          [
           "Crystal Palace"
          ],
          [
           "Crystal Palace"
          ],
          [
           "Crystal Palace"
          ],
          [
           "Everton"
          ],
          [
           "Arsenal"
          ],
          [
           "Aston Villa"
          ],
          [
           "Wolves"
          ],
          [
           "Arsenal"
          ],
          [
           "Chelsea"
          ],
          [
           "Fulham"
          ],
          [
           "Everton"
          ],
          [
           "Man City"
          ],
          [
           "West Brom"
          ],
          [
           "Leeds"
          ],
          [
           "West Ham"
          ],
          [
           "Liverpool"
          ],
          [
           "Liverpool"
          ],
          [
           "Chelsea"
          ],
          [
           "Everton"
          ],
          [
           "Newcastle"
          ],
          [
           "Southampton"
          ],
          [
           "Man Utd"
          ],
          [
           "Arsenal"
          ],
          [
           "Brighton"
          ],
          [
           "Newcastle"
          ],
          [
           "Man Utd"
          ],
          [
           "Everton"
          ],
          [
           "Liverpool"
          ],
          [
           "Sheffield Utd"
          ],
          [
           "Southampton"
          ],
          [
           "Arsenal"
          ],
          [
           "Leicester"
          ],
          [
           "Spurs"
          ],
          [
           "Wolves"
          ],
          [
           "Chelsea"
          ],
          [
           "Man City"
          ],
          [
           "West Brom"
          ],
          [
           "West Ham"
          ],
          [
           "Crystal Palace"
          ],
          [
           "Burnley"
          ],
          [
           "Fulham"
          ],
          [
           "Leeds"
          ],
          [
           "Aston Villa"
          ]
         ],
         "hovertemplate": "second_name=%{x}<br>value=%{y}<br>team=%{customdata[0]}<extra></extra>",
         "legendgroup": "",
         "marker": {
          "color": "#636efa"
         },
         "name": "",
         "offsetgroup": "",
         "orientation": "v",
         "showlegend": false,
         "textposition": "auto",
         "type": "bar",
         "x": [
          "Söndergaard",
          "Bettinelli",
          "Gunn",
          "Lonergan",
          "Ward",
          "Miazek",
          "Caprile",
          "Sarkic",
          "Hughes",
          "Ojrzynski",
          "Bravo",
          "Hart",
          "Trafford",
          "Carson",
          "Romero",
          "Grant",
          "Bishop",
          "Gillespie",
          "Langley",
          "Moore",
          "Foderingham",
          "Gazzaniga",
          "Verrips",
          "Lewis",
          "Agosto Ramírez",
          "Tyrer",
          "Martin",
          "Ziger",
          "Steele",
          "Peacock-Farrell",
          "Norris",
          "Walton",
          "Nyland",
          "Jimenez Gago",
          "Steer",
          "Trott",
          "McGill",
          "Hennessey",
          "Henderson",
          "Butland",
          "Lössl",
          "Macey",
          "Heaton",
          "Ruddy",
          "Rúnarsson",
          "Caballero",
          "Rodák",
          "Virgínia",
          "Steffen",
          "Button",
          "Casilla Cortés",
          "Randolph",
          "Kelleher",
          "San Miguel del Castillo",
          "Arrizabalaga",
          "Olsen",
          "Dubravka",
          "Forster",
          "Henderson",
          "Ryan",
          "Sánchez",
          "Darlow",
          "de Gea",
          "Pickford",
          "Ramses Becker",
          "Ramsdale",
          "McCarthy",
          "Leno",
          "Schmeichel",
          "Lloris",
          "dos Santos Patrício",
          "Mendy",
          "Santana de Moraes",
          "Johnstone",
          "Fabianski",
          "Guaita",
          "Pope",
          "Areola",
          "Meslier",
          "Martínez"
         ],
         "xaxis": "x",
         "y": [
          0,
          0,
          0,
          0,
          0,
          0,
          0,
          0,
          0,
          0,
          0,
          0,
          0,
          0,
          0,
          0,
          0,
          0,
          0,
          0,
          0,
          0,
          0,
          0,
          0,
          0,
          0,
          0,
          0,
          0,
          0,
          0,
          0,
          0,
          0,
          0,
          0,
          0,
          0,
          0,
          0,
          0,
          0,
          0.2,
          0.2,
          0.2,
          0.2,
          0.5,
          0.5,
          0.5,
          0.5,
          1.6,
          2.2,
          2.6,
          3.2,
          3.3,
          3.8,
          4.5,
          5.2,
          6.9,
          16.2,
          16.3,
          16.4,
          16.5,
          16.6,
          18,
          18.6,
          20.8,
          21.3,
          21.6,
          21.7,
          21.9,
          22.1,
          22.4,
          22.4,
          22.7,
          23.6,
          24.6,
          27.9,
          29.6
         ],
         "yaxis": "y"
        },
        {
         "customdata": [
          [
           40
          ],
          [
           43
          ],
          [
           43
          ],
          [
           40
          ],
          [
           43
          ],
          [
           40
          ],
          [
           40
          ],
          [
           44
          ],
          [
           40
          ],
          [
           40
          ],
          [
           45
          ],
          [
           42
          ],
          [
           40
          ],
          [
           39
          ],
          [
           49
          ],
          [
           40
          ],
          [
           40
          ],
          [
           43
          ],
          [
           39
          ],
          [
           43
          ],
          [
           43
          ],
          [
           43
          ],
          [
           40
          ],
          [
           40
          ],
          [
           39
          ],
          [
           40
          ],
          [
           39
          ],
          [
           40
          ],
          [
           39
          ],
          [
           40
          ],
          [
           40
          ],
          [
           40
          ],
          [
           40
          ],
          [
           45
          ],
          [
           39
          ],
          [
           40
          ],
          [
           39
          ],
          [
           43
          ],
          [
           40
          ],
          [
           45
          ],
          [
           43
          ],
          [
           40
          ],
          [
           45
          ],
          [
           43
          ],
          [
           44
          ],
          [
           46
          ],
          [
           43
          ],
          [
           43
          ],
          [
           44
          ],
          [
           39
          ],
          [
           42
          ],
          [
           43
          ],
          [
           45
          ],
          [
           42
          ],
          [
           47
          ],
          [
           45
          ],
          [
           48
          ],
          [
           40
          ],
          [
           52
          ],
          [
           42
          ],
          [
           45
          ],
          [
           49
          ],
          [
           53
          ],
          [
           48
          ],
          [
           59
          ],
          [
           46
          ],
          [
           44
          ],
          [
           50
          ],
          [
           54
          ],
          [
           56
          ],
          [
           53
          ],
          [
           52
          ],
          [
           61
          ],
          [
           45
          ],
          [
           50
          ],
          [
           48
          ],
          [
           55
          ],
          [
           46
          ],
          [
           47
          ],
          [
           54
          ]
         ],
         "hovertemplate": "second_name=%{x}<br>total_points=%{y}<br>now_cost=%{customdata[0]}<extra></extra>",
         "legendgroup": "",
         "marker": {
          "color": "#636efa",
          "symbol": "circle"
         },
         "mode": "markers",
         "name": "",
         "orientation": "v",
         "showlegend": false,
         "type": "scatter",
         "x": [
          "Söndergaard",
          "Bettinelli",
          "Gunn",
          "Lonergan",
          "Ward",
          "Miazek",
          "Caprile",
          "Sarkic",
          "Hughes",
          "Ojrzynski",
          "Bravo",
          "Hart",
          "Trafford",
          "Carson",
          "Romero",
          "Grant",
          "Bishop",
          "Gillespie",
          "Langley",
          "Moore",
          "Foderingham",
          "Gazzaniga",
          "Verrips",
          "Lewis",
          "Agosto Ramírez",
          "Tyrer",
          "Martin",
          "Ziger",
          "Steele",
          "Peacock-Farrell",
          "Norris",
          "Walton",
          "Nyland",
          "Jimenez Gago",
          "Steer",
          "Trott",
          "McGill",
          "Hennessey",
          "Henderson",
          "Butland",
          "Lössl",
          "Macey",
          "Heaton",
          "Ruddy",
          "Rúnarsson",
          "Caballero",
          "Rodák",
          "Virgínia",
          "Steffen",
          "Button",
          "Casilla Cortés",
          "Randolph",
          "Kelleher",
          "San Miguel del Castillo",
          "Arrizabalaga",
          "Olsen",
          "Dubravka",
          "Forster",
          "Henderson",
          "Ryan",
          "Sánchez",
          "Darlow",
          "de Gea",
          "Pickford",
          "Ramses Becker",
          "Ramsdale",
          "McCarthy",
          "Leno",
          "Schmeichel",
          "Lloris",
          "dos Santos Patrício",
          "Mendy",
          "Santana de Moraes",
          "Johnstone",
          "Fabianski",
          "Guaita",
          "Pope",
          "Areola",
          "Meslier",
          "Martínez"
         ],
         "xaxis": "x",
         "y": [
          0,
          0,
          0,
          0,
          0,
          0,
          0,
          0,
          0,
          0,
          0,
          0,
          0,
          0,
          0,
          0,
          0,
          0,
          0,
          0,
          0,
          0,
          0,
          0,
          0,
          0,
          0,
          0,
          0,
          0,
          0,
          0,
          0,
          0,
          0,
          0,
          0,
          0,
          0,
          0,
          0,
          0,
          0,
          1,
          1,
          1,
          1,
          2,
          2,
          2,
          2,
          7,
          10,
          11,
          15,
          15,
          18,
          18,
          27,
          29,
          73,
          80,
          87,
          79,
          98,
          83,
          82,
          104,
          115,
          121,
          115,
          114,
          135,
          101,
          112,
          109,
          130,
          113,
          131,
          160
         ],
         "yaxis": "y"
        }
       ],
       "layout": {
        "barmode": "relative",
        "legend": {
         "tracegroupgap": 0
        },
        "margin": {
         "t": 60
        },
        "template": {
         "data": {
          "bar": [
           {
            "error_x": {
             "color": "#2a3f5f"
            },
            "error_y": {
             "color": "#2a3f5f"
            },
            "marker": {
             "line": {
              "color": "#E5ECF6",
              "width": 0.5
             }
            },
            "type": "bar"
           }
          ],
          "barpolar": [
           {
            "marker": {
             "line": {
              "color": "#E5ECF6",
              "width": 0.5
             }
            },
            "type": "barpolar"
           }
          ],
          "carpet": [
           {
            "aaxis": {
             "endlinecolor": "#2a3f5f",
             "gridcolor": "white",
             "linecolor": "white",
             "minorgridcolor": "white",
             "startlinecolor": "#2a3f5f"
            },
            "baxis": {
             "endlinecolor": "#2a3f5f",
             "gridcolor": "white",
             "linecolor": "white",
             "minorgridcolor": "white",
             "startlinecolor": "#2a3f5f"
            },
            "type": "carpet"
           }
          ],
          "choropleth": [
           {
            "colorbar": {
             "outlinewidth": 0,
             "ticks": ""
            },
            "type": "choropleth"
           }
          ],
          "contour": [
           {
            "colorbar": {
             "outlinewidth": 0,
             "ticks": ""
            },
            "colorscale": [
             [
              0,
              "#0d0887"
             ],
             [
              0.1111111111111111,
              "#46039f"
             ],
             [
              0.2222222222222222,
              "#7201a8"
             ],
             [
              0.3333333333333333,
              "#9c179e"
             ],
             [
              0.4444444444444444,
              "#bd3786"
             ],
             [
              0.5555555555555556,
              "#d8576b"
             ],
             [
              0.6666666666666666,
              "#ed7953"
             ],
             [
              0.7777777777777778,
              "#fb9f3a"
             ],
             [
              0.8888888888888888,
              "#fdca26"
             ],
             [
              1,
              "#f0f921"
             ]
            ],
            "type": "contour"
           }
          ],
          "contourcarpet": [
           {
            "colorbar": {
             "outlinewidth": 0,
             "ticks": ""
            },
            "type": "contourcarpet"
           }
          ],
          "heatmap": [
           {
            "colorbar": {
             "outlinewidth": 0,
             "ticks": ""
            },
            "colorscale": [
             [
              0,
              "#0d0887"
             ],
             [
              0.1111111111111111,
              "#46039f"
             ],
             [
              0.2222222222222222,
              "#7201a8"
             ],
             [
              0.3333333333333333,
              "#9c179e"
             ],
             [
              0.4444444444444444,
              "#bd3786"
             ],
             [
              0.5555555555555556,
              "#d8576b"
             ],
             [
              0.6666666666666666,
              "#ed7953"
             ],
             [
              0.7777777777777778,
              "#fb9f3a"
             ],
             [
              0.8888888888888888,
              "#fdca26"
             ],
             [
              1,
              "#f0f921"
             ]
            ],
            "type": "heatmap"
           }
          ],
          "heatmapgl": [
           {
            "colorbar": {
             "outlinewidth": 0,
             "ticks": ""
            },
            "colorscale": [
             [
              0,
              "#0d0887"
             ],
             [
              0.1111111111111111,
              "#46039f"
             ],
             [
              0.2222222222222222,
              "#7201a8"
             ],
             [
              0.3333333333333333,
              "#9c179e"
             ],
             [
              0.4444444444444444,
              "#bd3786"
             ],
             [
              0.5555555555555556,
              "#d8576b"
             ],
             [
              0.6666666666666666,
              "#ed7953"
             ],
             [
              0.7777777777777778,
              "#fb9f3a"
             ],
             [
              0.8888888888888888,
              "#fdca26"
             ],
             [
              1,
              "#f0f921"
             ]
            ],
            "type": "heatmapgl"
           }
          ],
          "histogram": [
           {
            "marker": {
             "colorbar": {
              "outlinewidth": 0,
              "ticks": ""
             }
            },
            "type": "histogram"
           }
          ],
          "histogram2d": [
           {
            "colorbar": {
             "outlinewidth": 0,
             "ticks": ""
            },
            "colorscale": [
             [
              0,
              "#0d0887"
             ],
             [
              0.1111111111111111,
              "#46039f"
             ],
             [
              0.2222222222222222,
              "#7201a8"
             ],
             [
              0.3333333333333333,
              "#9c179e"
             ],
             [
              0.4444444444444444,
              "#bd3786"
             ],
             [
              0.5555555555555556,
              "#d8576b"
             ],
             [
              0.6666666666666666,
              "#ed7953"
             ],
             [
              0.7777777777777778,
              "#fb9f3a"
             ],
             [
              0.8888888888888888,
              "#fdca26"
             ],
             [
              1,
              "#f0f921"
             ]
            ],
            "type": "histogram2d"
           }
          ],
          "histogram2dcontour": [
           {
            "colorbar": {
             "outlinewidth": 0,
             "ticks": ""
            },
            "colorscale": [
             [
              0,
              "#0d0887"
             ],
             [
              0.1111111111111111,
              "#46039f"
             ],
             [
              0.2222222222222222,
              "#7201a8"
             ],
             [
              0.3333333333333333,
              "#9c179e"
             ],
             [
              0.4444444444444444,
              "#bd3786"
             ],
             [
              0.5555555555555556,
              "#d8576b"
             ],
             [
              0.6666666666666666,
              "#ed7953"
             ],
             [
              0.7777777777777778,
              "#fb9f3a"
             ],
             [
              0.8888888888888888,
              "#fdca26"
             ],
             [
              1,
              "#f0f921"
             ]
            ],
            "type": "histogram2dcontour"
           }
          ],
          "mesh3d": [
           {
            "colorbar": {
             "outlinewidth": 0,
             "ticks": ""
            },
            "type": "mesh3d"
           }
          ],
          "parcoords": [
           {
            "line": {
             "colorbar": {
              "outlinewidth": 0,
              "ticks": ""
             }
            },
            "type": "parcoords"
           }
          ],
          "pie": [
           {
            "automargin": true,
            "type": "pie"
           }
          ],
          "scatter": [
           {
            "marker": {
             "colorbar": {
              "outlinewidth": 0,
              "ticks": ""
             }
            },
            "type": "scatter"
           }
          ],
          "scatter3d": [
           {
            "line": {
             "colorbar": {
              "outlinewidth": 0,
              "ticks": ""
             }
            },
            "marker": {
             "colorbar": {
              "outlinewidth": 0,
              "ticks": ""
             }
            },
            "type": "scatter3d"
           }
          ],
          "scattercarpet": [
           {
            "marker": {
             "colorbar": {
              "outlinewidth": 0,
              "ticks": ""
             }
            },
            "type": "scattercarpet"
           }
          ],
          "scattergeo": [
           {
            "marker": {
             "colorbar": {
              "outlinewidth": 0,
              "ticks": ""
             }
            },
            "type": "scattergeo"
           }
          ],
          "scattergl": [
           {
            "marker": {
             "colorbar": {
              "outlinewidth": 0,
              "ticks": ""
             }
            },
            "type": "scattergl"
           }
          ],
          "scattermapbox": [
           {
            "marker": {
             "colorbar": {
              "outlinewidth": 0,
              "ticks": ""
             }
            },
            "type": "scattermapbox"
           }
          ],
          "scatterpolar": [
           {
            "marker": {
             "colorbar": {
              "outlinewidth": 0,
              "ticks": ""
             }
            },
            "type": "scatterpolar"
           }
          ],
          "scatterpolargl": [
           {
            "marker": {
             "colorbar": {
              "outlinewidth": 0,
              "ticks": ""
             }
            },
            "type": "scatterpolargl"
           }
          ],
          "scatterternary": [
           {
            "marker": {
             "colorbar": {
              "outlinewidth": 0,
              "ticks": ""
             }
            },
            "type": "scatterternary"
           }
          ],
          "surface": [
           {
            "colorbar": {
             "outlinewidth": 0,
             "ticks": ""
            },
            "colorscale": [
             [
              0,
              "#0d0887"
             ],
             [
              0.1111111111111111,
              "#46039f"
             ],
             [
              0.2222222222222222,
              "#7201a8"
             ],
             [
              0.3333333333333333,
              "#9c179e"
             ],
             [
              0.4444444444444444,
              "#bd3786"
             ],
             [
              0.5555555555555556,
              "#d8576b"
             ],
             [
              0.6666666666666666,
              "#ed7953"
             ],
             [
              0.7777777777777778,
              "#fb9f3a"
             ],
             [
              0.8888888888888888,
              "#fdca26"
             ],
             [
              1,
              "#f0f921"
             ]
            ],
            "type": "surface"
           }
          ],
          "table": [
           {
            "cells": {
             "fill": {
              "color": "#EBF0F8"
             },
             "line": {
              "color": "white"
             }
            },
            "header": {
             "fill": {
              "color": "#C8D4E3"
             },
             "line": {
              "color": "white"
             }
            },
            "type": "table"
           }
          ]
         },
         "layout": {
          "annotationdefaults": {
           "arrowcolor": "#2a3f5f",
           "arrowhead": 0,
           "arrowwidth": 1
          },
          "autotypenumbers": "strict",
          "coloraxis": {
           "colorbar": {
            "outlinewidth": 0,
            "ticks": ""
           }
          },
          "colorscale": {
           "diverging": [
            [
             0,
             "#8e0152"
            ],
            [
             0.1,
             "#c51b7d"
            ],
            [
             0.2,
             "#de77ae"
            ],
            [
             0.3,
             "#f1b6da"
            ],
            [
             0.4,
             "#fde0ef"
            ],
            [
             0.5,
             "#f7f7f7"
            ],
            [
             0.6,
             "#e6f5d0"
            ],
            [
             0.7,
             "#b8e186"
            ],
            [
             0.8,
             "#7fbc41"
            ],
            [
             0.9,
             "#4d9221"
            ],
            [
             1,
             "#276419"
            ]
           ],
           "sequential": [
            [
             0,
             "#0d0887"
            ],
            [
             0.1111111111111111,
             "#46039f"
            ],
            [
             0.2222222222222222,
             "#7201a8"
            ],
            [
             0.3333333333333333,
             "#9c179e"
            ],
            [
             0.4444444444444444,
             "#bd3786"
            ],
            [
             0.5555555555555556,
             "#d8576b"
            ],
            [
             0.6666666666666666,
             "#ed7953"
            ],
            [
             0.7777777777777778,
             "#fb9f3a"
            ],
            [
             0.8888888888888888,
             "#fdca26"
            ],
            [
             1,
             "#f0f921"
            ]
           ],
           "sequentialminus": [
            [
             0,
             "#0d0887"
            ],
            [
             0.1111111111111111,
             "#46039f"
            ],
            [
             0.2222222222222222,
             "#7201a8"
            ],
            [
             0.3333333333333333,
             "#9c179e"
            ],
            [
             0.4444444444444444,
             "#bd3786"
            ],
            [
             0.5555555555555556,
             "#d8576b"
            ],
            [
             0.6666666666666666,
             "#ed7953"
            ],
            [
             0.7777777777777778,
             "#fb9f3a"
            ],
            [
             0.8888888888888888,
             "#fdca26"
            ],
            [
             1,
             "#f0f921"
            ]
           ]
          },
          "colorway": [
           "#636efa",
           "#EF553B",
           "#00cc96",
           "#ab63fa",
           "#FFA15A",
           "#19d3f3",
           "#FF6692",
           "#B6E880",
           "#FF97FF",
           "#FECB52"
          ],
          "font": {
           "color": "#2a3f5f"
          },
          "geo": {
           "bgcolor": "white",
           "lakecolor": "white",
           "landcolor": "#E5ECF6",
           "showlakes": true,
           "showland": true,
           "subunitcolor": "white"
          },
          "hoverlabel": {
           "align": "left"
          },
          "hovermode": "closest",
          "mapbox": {
           "style": "light"
          },
          "paper_bgcolor": "white",
          "plot_bgcolor": "#E5ECF6",
          "polar": {
           "angularaxis": {
            "gridcolor": "white",
            "linecolor": "white",
            "ticks": ""
           },
           "bgcolor": "#E5ECF6",
           "radialaxis": {
            "gridcolor": "white",
            "linecolor": "white",
            "ticks": ""
           }
          },
          "scene": {
           "xaxis": {
            "backgroundcolor": "#E5ECF6",
            "gridcolor": "white",
            "gridwidth": 2,
            "linecolor": "white",
            "showbackground": true,
            "ticks": "",
            "zerolinecolor": "white"
           },
           "yaxis": {
            "backgroundcolor": "#E5ECF6",
            "gridcolor": "white",
            "gridwidth": 2,
            "linecolor": "white",
            "showbackground": true,
            "ticks": "",
            "zerolinecolor": "white"
           },
           "zaxis": {
            "backgroundcolor": "#E5ECF6",
            "gridcolor": "white",
            "gridwidth": 2,
            "linecolor": "white",
            "showbackground": true,
            "ticks": "",
            "zerolinecolor": "white"
           }
          },
          "shapedefaults": {
           "line": {
            "color": "#2a3f5f"
           }
          },
          "ternary": {
           "aaxis": {
            "gridcolor": "white",
            "linecolor": "white",
            "ticks": ""
           },
           "baxis": {
            "gridcolor": "white",
            "linecolor": "white",
            "ticks": ""
           },
           "bgcolor": "#E5ECF6",
           "caxis": {
            "gridcolor": "white",
            "linecolor": "white",
            "ticks": ""
           }
          },
          "title": {
           "x": 0.05
          },
          "xaxis": {
           "automargin": true,
           "gridcolor": "white",
           "linecolor": "white",
           "ticks": "",
           "title": {
            "standoff": 15
           },
           "zerolinecolor": "white",
           "zerolinewidth": 2
          },
          "yaxis": {
           "automargin": true,
           "gridcolor": "white",
           "linecolor": "white",
           "ticks": "",
           "title": {
            "standoff": 15
           },
           "zerolinecolor": "white",
           "zerolinewidth": 2
          }
         }
        },
        "xaxis": {
         "anchor": "y",
         "domain": [
          0,
          1
         ],
         "title": {
          "text": "second_name"
         }
        },
        "yaxis": {
         "anchor": "x",
         "domain": [
          0,
          1
         ],
         "title": {
          "text": "value"
         }
        }
       }
      },
      "text/html": [
       "<div>                            <div id=\"fe928607-5876-4e39-8018-41aeb4bf25bd\" class=\"plotly-graph-div\" style=\"height:525px; width:100%;\"></div>            <script type=\"text/javascript\">                require([\"plotly\"], function(Plotly) {                    window.PLOTLYENV=window.PLOTLYENV || {};                                    if (document.getElementById(\"fe928607-5876-4e39-8018-41aeb4bf25bd\")) {                    Plotly.newPlot(                        \"fe928607-5876-4e39-8018-41aeb4bf25bd\",                        [{\"alignmentgroup\": \"True\", \"customdata\": [[\"Wolves\"], [\"Fulham\"], [\"Southampton\"], [\"West Brom\"], [\"Leicester\"], [\"Leeds\"], [\"Leeds\"], [\"Wolves\"], [\"Liverpool\"], [\"Liverpool\"], [\"Man City\"], [\"Spurs\"], [\"Man City\"], [\"Man City\"], [\"Man Utd\"], [\"Man Utd\"], [\"Man Utd\"], [\"Newcastle\"], [\"Newcastle\"], [\"Sheffield Utd\"], [\"Sheffield Utd\"], [\"Spurs\"], [\"Sheffield Utd\"], [\"Southampton\"], [\"Fulham\"], [\"Everton\"], [\"West Ham\"], [\"Chelsea\"], [\"Brighton\"], [\"Burnley\"], [\"Burnley\"], [\"Brighton\"], [\"Aston Villa\"], [\"West Ham\"], [\"Aston Villa\"], [\"West Ham\"], [\"Brighton\"], [\"Crystal Palace\"], [\"Crystal Palace\"], [\"Crystal Palace\"], [\"Everton\"], [\"Arsenal\"], [\"Aston Villa\"], [\"Wolves\"], [\"Arsenal\"], [\"Chelsea\"], [\"Fulham\"], [\"Everton\"], [\"Man City\"], [\"West Brom\"], [\"Leeds\"], [\"West Ham\"], [\"Liverpool\"], [\"Liverpool\"], [\"Chelsea\"], [\"Everton\"], [\"Newcastle\"], [\"Southampton\"], [\"Man Utd\"], [\"Arsenal\"], [\"Brighton\"], [\"Newcastle\"], [\"Man Utd\"], [\"Everton\"], [\"Liverpool\"], [\"Sheffield Utd\"], [\"Southampton\"], [\"Arsenal\"], [\"Leicester\"], [\"Spurs\"], [\"Wolves\"], [\"Chelsea\"], [\"Man City\"], [\"West Brom\"], [\"West Ham\"], [\"Crystal Palace\"], [\"Burnley\"], [\"Fulham\"], [\"Leeds\"], [\"Aston Villa\"]], \"hovertemplate\": \"second_name=%{x}<br>value=%{y}<br>team=%{customdata[0]}<extra></extra>\", \"legendgroup\": \"\", \"marker\": {\"color\": \"#636efa\"}, \"name\": \"\", \"offsetgroup\": \"\", \"orientation\": \"v\", \"showlegend\": false, \"textposition\": \"auto\", \"type\": \"bar\", \"x\": [\"S\\u00f6ndergaard\", \"Bettinelli\", \"Gunn\", \"Lonergan\", \"Ward\", \"Miazek\", \"Caprile\", \"Sarkic\", \"Hughes\", \"Ojrzynski\", \"Bravo\", \"Hart\", \"Trafford\", \"Carson\", \"Romero\", \"Grant\", \"Bishop\", \"Gillespie\", \"Langley\", \"Moore\", \"Foderingham\", \"Gazzaniga\", \"Verrips\", \"Lewis\", \"Agosto Ram\\u00edrez\", \"Tyrer\", \"Martin\", \"Ziger\", \"Steele\", \"Peacock-Farrell\", \"Norris\", \"Walton\", \"Nyland\", \"Jimenez Gago\", \"Steer\", \"Trott\", \"McGill\", \"Hennessey\", \"Henderson\", \"Butland\", \"L\\u00f6ssl\", \"Macey\", \"Heaton\", \"Ruddy\", \"R\\u00fanarsson\", \"Caballero\", \"Rod\\u00e1k\", \"Virg\\u00ednia\", \"Steffen\", \"Button\", \"Casilla Cort\\u00e9s\", \"Randolph\", \"Kelleher\", \"San Miguel del Castillo\", \"Arrizabalaga\", \"Olsen\", \"Dubravka\", \"Forster\", \"Henderson\", \"Ryan\", \"S\\u00e1nchez\", \"Darlow\", \"de Gea\", \"Pickford\", \"Ramses Becker\", \"Ramsdale\", \"McCarthy\", \"Leno\", \"Schmeichel\", \"Lloris\", \"dos Santos Patr\\u00edcio\", \"Mendy\", \"Santana de Moraes\", \"Johnstone\", \"Fabianski\", \"Guaita\", \"Pope\", \"Areola\", \"Meslier\", \"Mart\\u00ednez\"], \"xaxis\": \"x\", \"y\": [0.0, 0.0, 0.0, 0.0, 0.0, 0.0, 0.0, 0.0, 0.0, 0.0, 0.0, 0.0, 0.0, 0.0, 0.0, 0.0, 0.0, 0.0, 0.0, 0.0, 0.0, 0.0, 0.0, 0.0, 0.0, 0.0, 0.0, 0.0, 0.0, 0.0, 0.0, 0.0, 0.0, 0.0, 0.0, 0.0, 0.0, 0.0, 0.0, 0.0, 0.0, 0.0, 0.0, 0.2, 0.2, 0.2, 0.2, 0.5, 0.5, 0.5, 0.5, 1.6, 2.2, 2.6, 3.2, 3.3, 3.8, 4.5, 5.2, 6.9, 16.2, 16.3, 16.4, 16.5, 16.6, 18.0, 18.6, 20.8, 21.3, 21.6, 21.7, 21.9, 22.1, 22.4, 22.4, 22.7, 23.6, 24.6, 27.9, 29.6], \"yaxis\": \"y\"}, {\"customdata\": [[40], [43], [43], [40], [43], [40], [40], [44], [40], [40], [45], [42], [40], [39], [49], [40], [40], [43], [39], [43], [43], [43], [40], [40], [39], [40], [39], [40], [39], [40], [40], [40], [40], [45], [39], [40], [39], [43], [40], [45], [43], [40], [45], [43], [44], [46], [43], [43], [44], [39], [42], [43], [45], [42], [47], [45], [48], [40], [52], [42], [45], [49], [53], [48], [59], [46], [44], [50], [54], [56], [53], [52], [61], [45], [50], [48], [55], [46], [47], [54]], \"hovertemplate\": \"second_name=%{x}<br>total_points=%{y}<br>now_cost=%{customdata[0]}<extra></extra>\", \"legendgroup\": \"\", \"marker\": {\"color\": \"#636efa\", \"symbol\": \"circle\"}, \"mode\": \"markers\", \"name\": \"\", \"orientation\": \"v\", \"showlegend\": false, \"type\": \"scatter\", \"x\": [\"S\\u00f6ndergaard\", \"Bettinelli\", \"Gunn\", \"Lonergan\", \"Ward\", \"Miazek\", \"Caprile\", \"Sarkic\", \"Hughes\", \"Ojrzynski\", \"Bravo\", \"Hart\", \"Trafford\", \"Carson\", \"Romero\", \"Grant\", \"Bishop\", \"Gillespie\", \"Langley\", \"Moore\", \"Foderingham\", \"Gazzaniga\", \"Verrips\", \"Lewis\", \"Agosto Ram\\u00edrez\", \"Tyrer\", \"Martin\", \"Ziger\", \"Steele\", \"Peacock-Farrell\", \"Norris\", \"Walton\", \"Nyland\", \"Jimenez Gago\", \"Steer\", \"Trott\", \"McGill\", \"Hennessey\", \"Henderson\", \"Butland\", \"L\\u00f6ssl\", \"Macey\", \"Heaton\", \"Ruddy\", \"R\\u00fanarsson\", \"Caballero\", \"Rod\\u00e1k\", \"Virg\\u00ednia\", \"Steffen\", \"Button\", \"Casilla Cort\\u00e9s\", \"Randolph\", \"Kelleher\", \"San Miguel del Castillo\", \"Arrizabalaga\", \"Olsen\", \"Dubravka\", \"Forster\", \"Henderson\", \"Ryan\", \"S\\u00e1nchez\", \"Darlow\", \"de Gea\", \"Pickford\", \"Ramses Becker\", \"Ramsdale\", \"McCarthy\", \"Leno\", \"Schmeichel\", \"Lloris\", \"dos Santos Patr\\u00edcio\", \"Mendy\", \"Santana de Moraes\", \"Johnstone\", \"Fabianski\", \"Guaita\", \"Pope\", \"Areola\", \"Meslier\", \"Mart\\u00ednez\"], \"xaxis\": \"x\", \"y\": [0.0, 0.0, 0.0, 0.0, 0.0, 0.0, 0.0, 0.0, 0.0, 0.0, 0.0, 0.0, 0.0, 0.0, 0.0, 0.0, 0.0, 0.0, 0.0, 0.0, 0.0, 0.0, 0.0, 0.0, 0.0, 0.0, 0.0, 0.0, 0.0, 0.0, 0.0, 0.0, 0.0, 0.0, 0.0, 0.0, 0.0, 0.0, 0.0, 0.0, 0.0, 0.0, 0.0, 1.0, 1.0, 1.0, 1.0, 2.0, 2.0, 2.0, 2.0, 7.0, 10.0, 11.0, 15.0, 15.0, 18.0, 18.0, 27.0, 29.0, 73.0, 80.0, 87.0, 79.0, 98.0, 83.0, 82.0, 104.0, 115.0, 121.0, 115.0, 114.0, 135.0, 101.0, 112.0, 109.0, 130.0, 113.0, 131.0, 160.0], \"yaxis\": \"y\"}],                        {\"barmode\": \"relative\", \"legend\": {\"tracegroupgap\": 0}, \"margin\": {\"t\": 60}, \"template\": {\"data\": {\"bar\": [{\"error_x\": {\"color\": \"#2a3f5f\"}, \"error_y\": {\"color\": \"#2a3f5f\"}, \"marker\": {\"line\": {\"color\": \"#E5ECF6\", \"width\": 0.5}}, \"type\": \"bar\"}], \"barpolar\": [{\"marker\": {\"line\": {\"color\": \"#E5ECF6\", \"width\": 0.5}}, \"type\": \"barpolar\"}], \"carpet\": [{\"aaxis\": {\"endlinecolor\": \"#2a3f5f\", \"gridcolor\": \"white\", \"linecolor\": \"white\", \"minorgridcolor\": \"white\", \"startlinecolor\": \"#2a3f5f\"}, \"baxis\": {\"endlinecolor\": \"#2a3f5f\", \"gridcolor\": \"white\", \"linecolor\": \"white\", \"minorgridcolor\": \"white\", \"startlinecolor\": \"#2a3f5f\"}, \"type\": \"carpet\"}], \"choropleth\": [{\"colorbar\": {\"outlinewidth\": 0, \"ticks\": \"\"}, \"type\": \"choropleth\"}], \"contour\": [{\"colorbar\": {\"outlinewidth\": 0, \"ticks\": \"\"}, \"colorscale\": [[0.0, \"#0d0887\"], [0.1111111111111111, \"#46039f\"], [0.2222222222222222, \"#7201a8\"], [0.3333333333333333, \"#9c179e\"], [0.4444444444444444, \"#bd3786\"], [0.5555555555555556, \"#d8576b\"], [0.6666666666666666, \"#ed7953\"], [0.7777777777777778, \"#fb9f3a\"], [0.8888888888888888, \"#fdca26\"], [1.0, \"#f0f921\"]], \"type\": \"contour\"}], \"contourcarpet\": [{\"colorbar\": {\"outlinewidth\": 0, \"ticks\": \"\"}, \"type\": \"contourcarpet\"}], \"heatmap\": [{\"colorbar\": {\"outlinewidth\": 0, \"ticks\": \"\"}, \"colorscale\": [[0.0, \"#0d0887\"], [0.1111111111111111, \"#46039f\"], [0.2222222222222222, \"#7201a8\"], [0.3333333333333333, \"#9c179e\"], [0.4444444444444444, \"#bd3786\"], [0.5555555555555556, \"#d8576b\"], [0.6666666666666666, \"#ed7953\"], [0.7777777777777778, \"#fb9f3a\"], [0.8888888888888888, \"#fdca26\"], [1.0, \"#f0f921\"]], \"type\": \"heatmap\"}], \"heatmapgl\": [{\"colorbar\": {\"outlinewidth\": 0, \"ticks\": \"\"}, \"colorscale\": [[0.0, \"#0d0887\"], [0.1111111111111111, \"#46039f\"], [0.2222222222222222, \"#7201a8\"], [0.3333333333333333, \"#9c179e\"], [0.4444444444444444, \"#bd3786\"], [0.5555555555555556, \"#d8576b\"], [0.6666666666666666, \"#ed7953\"], [0.7777777777777778, \"#fb9f3a\"], [0.8888888888888888, \"#fdca26\"], [1.0, \"#f0f921\"]], \"type\": \"heatmapgl\"}], \"histogram\": [{\"marker\": {\"colorbar\": {\"outlinewidth\": 0, \"ticks\": \"\"}}, \"type\": \"histogram\"}], \"histogram2d\": [{\"colorbar\": {\"outlinewidth\": 0, \"ticks\": \"\"}, \"colorscale\": [[0.0, \"#0d0887\"], [0.1111111111111111, \"#46039f\"], [0.2222222222222222, \"#7201a8\"], [0.3333333333333333, \"#9c179e\"], [0.4444444444444444, \"#bd3786\"], [0.5555555555555556, \"#d8576b\"], [0.6666666666666666, \"#ed7953\"], [0.7777777777777778, \"#fb9f3a\"], [0.8888888888888888, \"#fdca26\"], [1.0, \"#f0f921\"]], \"type\": \"histogram2d\"}], \"histogram2dcontour\": [{\"colorbar\": {\"outlinewidth\": 0, \"ticks\": \"\"}, \"colorscale\": [[0.0, \"#0d0887\"], [0.1111111111111111, \"#46039f\"], [0.2222222222222222, \"#7201a8\"], [0.3333333333333333, \"#9c179e\"], [0.4444444444444444, \"#bd3786\"], [0.5555555555555556, \"#d8576b\"], [0.6666666666666666, \"#ed7953\"], [0.7777777777777778, \"#fb9f3a\"], [0.8888888888888888, \"#fdca26\"], [1.0, \"#f0f921\"]], \"type\": \"histogram2dcontour\"}], \"mesh3d\": [{\"colorbar\": {\"outlinewidth\": 0, \"ticks\": \"\"}, \"type\": \"mesh3d\"}], \"parcoords\": [{\"line\": {\"colorbar\": {\"outlinewidth\": 0, \"ticks\": \"\"}}, \"type\": \"parcoords\"}], \"pie\": [{\"automargin\": true, \"type\": \"pie\"}], \"scatter\": [{\"marker\": {\"colorbar\": {\"outlinewidth\": 0, \"ticks\": \"\"}}, \"type\": \"scatter\"}], \"scatter3d\": [{\"line\": {\"colorbar\": {\"outlinewidth\": 0, \"ticks\": \"\"}}, \"marker\": {\"colorbar\": {\"outlinewidth\": 0, \"ticks\": \"\"}}, \"type\": \"scatter3d\"}], \"scattercarpet\": [{\"marker\": {\"colorbar\": {\"outlinewidth\": 0, \"ticks\": \"\"}}, \"type\": \"scattercarpet\"}], \"scattergeo\": [{\"marker\": {\"colorbar\": {\"outlinewidth\": 0, \"ticks\": \"\"}}, \"type\": \"scattergeo\"}], \"scattergl\": [{\"marker\": {\"colorbar\": {\"outlinewidth\": 0, \"ticks\": \"\"}}, \"type\": \"scattergl\"}], \"scattermapbox\": [{\"marker\": {\"colorbar\": {\"outlinewidth\": 0, \"ticks\": \"\"}}, \"type\": \"scattermapbox\"}], \"scatterpolar\": [{\"marker\": {\"colorbar\": {\"outlinewidth\": 0, \"ticks\": \"\"}}, \"type\": \"scatterpolar\"}], \"scatterpolargl\": [{\"marker\": {\"colorbar\": {\"outlinewidth\": 0, \"ticks\": \"\"}}, \"type\": \"scatterpolargl\"}], \"scatterternary\": [{\"marker\": {\"colorbar\": {\"outlinewidth\": 0, \"ticks\": \"\"}}, \"type\": \"scatterternary\"}], \"surface\": [{\"colorbar\": {\"outlinewidth\": 0, \"ticks\": \"\"}, \"colorscale\": [[0.0, \"#0d0887\"], [0.1111111111111111, \"#46039f\"], [0.2222222222222222, \"#7201a8\"], [0.3333333333333333, \"#9c179e\"], [0.4444444444444444, \"#bd3786\"], [0.5555555555555556, \"#d8576b\"], [0.6666666666666666, \"#ed7953\"], [0.7777777777777778, \"#fb9f3a\"], [0.8888888888888888, \"#fdca26\"], [1.0, \"#f0f921\"]], \"type\": \"surface\"}], \"table\": [{\"cells\": {\"fill\": {\"color\": \"#EBF0F8\"}, \"line\": {\"color\": \"white\"}}, \"header\": {\"fill\": {\"color\": \"#C8D4E3\"}, \"line\": {\"color\": \"white\"}}, \"type\": \"table\"}]}, \"layout\": {\"annotationdefaults\": {\"arrowcolor\": \"#2a3f5f\", \"arrowhead\": 0, \"arrowwidth\": 1}, \"autotypenumbers\": \"strict\", \"coloraxis\": {\"colorbar\": {\"outlinewidth\": 0, \"ticks\": \"\"}}, \"colorscale\": {\"diverging\": [[0, \"#8e0152\"], [0.1, \"#c51b7d\"], [0.2, \"#de77ae\"], [0.3, \"#f1b6da\"], [0.4, \"#fde0ef\"], [0.5, \"#f7f7f7\"], [0.6, \"#e6f5d0\"], [0.7, \"#b8e186\"], [0.8, \"#7fbc41\"], [0.9, \"#4d9221\"], [1, \"#276419\"]], \"sequential\": [[0.0, \"#0d0887\"], [0.1111111111111111, \"#46039f\"], [0.2222222222222222, \"#7201a8\"], [0.3333333333333333, \"#9c179e\"], [0.4444444444444444, \"#bd3786\"], [0.5555555555555556, \"#d8576b\"], [0.6666666666666666, \"#ed7953\"], [0.7777777777777778, \"#fb9f3a\"], [0.8888888888888888, \"#fdca26\"], [1.0, \"#f0f921\"]], \"sequentialminus\": [[0.0, \"#0d0887\"], [0.1111111111111111, \"#46039f\"], [0.2222222222222222, \"#7201a8\"], [0.3333333333333333, \"#9c179e\"], [0.4444444444444444, \"#bd3786\"], [0.5555555555555556, \"#d8576b\"], [0.6666666666666666, \"#ed7953\"], [0.7777777777777778, \"#fb9f3a\"], [0.8888888888888888, \"#fdca26\"], [1.0, \"#f0f921\"]]}, \"colorway\": [\"#636efa\", \"#EF553B\", \"#00cc96\", \"#ab63fa\", \"#FFA15A\", \"#19d3f3\", \"#FF6692\", \"#B6E880\", \"#FF97FF\", \"#FECB52\"], \"font\": {\"color\": \"#2a3f5f\"}, \"geo\": {\"bgcolor\": \"white\", \"lakecolor\": \"white\", \"landcolor\": \"#E5ECF6\", \"showlakes\": true, \"showland\": true, \"subunitcolor\": \"white\"}, \"hoverlabel\": {\"align\": \"left\"}, \"hovermode\": \"closest\", \"mapbox\": {\"style\": \"light\"}, \"paper_bgcolor\": \"white\", \"plot_bgcolor\": \"#E5ECF6\", \"polar\": {\"angularaxis\": {\"gridcolor\": \"white\", \"linecolor\": \"white\", \"ticks\": \"\"}, \"bgcolor\": \"#E5ECF6\", \"radialaxis\": {\"gridcolor\": \"white\", \"linecolor\": \"white\", \"ticks\": \"\"}}, \"scene\": {\"xaxis\": {\"backgroundcolor\": \"#E5ECF6\", \"gridcolor\": \"white\", \"gridwidth\": 2, \"linecolor\": \"white\", \"showbackground\": true, \"ticks\": \"\", \"zerolinecolor\": \"white\"}, \"yaxis\": {\"backgroundcolor\": \"#E5ECF6\", \"gridcolor\": \"white\", \"gridwidth\": 2, \"linecolor\": \"white\", \"showbackground\": true, \"ticks\": \"\", \"zerolinecolor\": \"white\"}, \"zaxis\": {\"backgroundcolor\": \"#E5ECF6\", \"gridcolor\": \"white\", \"gridwidth\": 2, \"linecolor\": \"white\", \"showbackground\": true, \"ticks\": \"\", \"zerolinecolor\": \"white\"}}, \"shapedefaults\": {\"line\": {\"color\": \"#2a3f5f\"}}, \"ternary\": {\"aaxis\": {\"gridcolor\": \"white\", \"linecolor\": \"white\", \"ticks\": \"\"}, \"baxis\": {\"gridcolor\": \"white\", \"linecolor\": \"white\", \"ticks\": \"\"}, \"bgcolor\": \"#E5ECF6\", \"caxis\": {\"gridcolor\": \"white\", \"linecolor\": \"white\", \"ticks\": \"\"}}, \"title\": {\"x\": 0.05}, \"xaxis\": {\"automargin\": true, \"gridcolor\": \"white\", \"linecolor\": \"white\", \"ticks\": \"\", \"title\": {\"standoff\": 15}, \"zerolinecolor\": \"white\", \"zerolinewidth\": 2}, \"yaxis\": {\"automargin\": true, \"gridcolor\": \"white\", \"linecolor\": \"white\", \"ticks\": \"\", \"title\": {\"standoff\": 15}, \"zerolinecolor\": \"white\", \"zerolinewidth\": 2}}}, \"xaxis\": {\"anchor\": \"y\", \"domain\": [0.0, 1.0], \"title\": {\"text\": \"second_name\"}}, \"yaxis\": {\"anchor\": \"x\", \"domain\": [0.0, 1.0], \"title\": {\"text\": \"value\"}}},                        {\"responsive\": true}                    ).then(function(){\n",
       "                            \n",
       "var gd = document.getElementById('fe928607-5876-4e39-8018-41aeb4bf25bd');\n",
       "var x = new MutationObserver(function (mutations, observer) {{\n",
       "        var display = window.getComputedStyle(gd).display;\n",
       "        if (!display || display === 'none') {{\n",
       "            console.log([gd, 'removed!']);\n",
       "            Plotly.purge(gd);\n",
       "            observer.disconnect();\n",
       "        }}\n",
       "}});\n",
       "\n",
       "// Listen for the removal of the full notebook cells\n",
       "var notebookContainer = gd.closest('#notebook-container');\n",
       "if (notebookContainer) {{\n",
       "    x.observe(notebookContainer, {childList: true});\n",
       "}}\n",
       "\n",
       "// Listen for the clearing of the current output cell\n",
       "var outputEl = gd.closest('.output');\n",
       "if (outputEl) {{\n",
       "    x.observe(outputEl, {childList: true});\n",
       "}}\n",
       "\n",
       "                        })                };                });            </script>        </div>"
      ]
     },
     "metadata": {},
     "output_type": "display_data"
    },
    {
     "data": {
      "application/vnd.plotly.v1+json": {
       "config": {
        "plotlyServerURL": "https://plot.ly"
       },
       "data": [
        {
         "alignmentgroup": "True",
         "customdata": [
          [
           "Southampton"
          ],
          [
           "Aston Villa"
          ],
          [
           "Arsenal"
          ],
          [
           "Liverpool"
          ],
          [
           "Wolves"
          ],
          [
           "Leeds"
          ],
          [
           "Leeds"
          ],
          [
           "Leeds"
          ],
          [
           "Leeds"
          ],
          [
           "Leicester"
          ],
          [
           "Leicester"
          ],
          [
           "Fulham"
          ],
          [
           "Fulham"
          ],
          [
           "Fulham"
          ],
          [
           "Fulham"
          ],
          [
           "Everton"
          ],
          [
           "Everton"
          ],
          [
           "Everton"
          ],
          [
           "Crystal Palace"
          ],
          [
           "Crystal Palace"
          ],
          [
           "Crystal Palace"
          ],
          [
           "Crystal Palace"
          ],
          [
           "Man City"
          ],
          [
           "Man City"
          ],
          [
           "Man City"
          ],
          [
           "Man Utd"
          ],
          [
           "Wolves"
          ],
          [
           "Wolves"
          ],
          [
           "Wolves"
          ],
          [
           "West Ham"
          ],
          [
           "West Ham"
          ],
          [
           "West Brom"
          ],
          [
           "Spurs"
          ],
          [
           "Spurs"
          ],
          [
           "Spurs"
          ],
          [
           "Spurs"
          ],
          [
           "Southampton"
          ],
          [
           "Sheffield Utd"
          ],
          [
           "Newcastle"
          ],
          [
           "Newcastle"
          ],
          [
           "Man Utd"
          ],
          [
           "Man Utd"
          ],
          [
           "Man Utd"
          ],
          [
           "Man Utd"
          ],
          [
           "Man Utd"
          ],
          [
           "Crystal Palace"
          ],
          [
           "Chelsea"
          ],
          [
           "Wolves"
          ],
          [
           "Aston Villa"
          ],
          [
           "Burnley"
          ],
          [
           "Aston Villa"
          ],
          [
           "Brighton"
          ],
          [
           "Aston Villa"
          ],
          [
           "Brighton"
          ],
          [
           "Burnley"
          ],
          [
           "Arsenal"
          ],
          [
           "Burnley"
          ],
          [
           "Burnley"
          ],
          [
           "Brighton"
          ],
          [
           "Brighton"
          ],
          [
           "Everton"
          ],
          [
           "Wolves"
          ],
          [
           "Fulham"
          ],
          [
           "Fulham"
          ],
          [
           "Liverpool"
          ],
          [
           "Wolves"
          ],
          [
           "Southampton"
          ],
          [
           "Arsenal"
          ],
          [
           "Man Utd"
          ],
          [
           "Fulham"
          ],
          [
           "Man Utd"
          ],
          [
           "Burnley"
          ],
          [
           "Leeds"
          ],
          [
           "West Brom"
          ],
          [
           "Sheffield Utd"
          ],
          [
           "Southampton"
          ],
          [
           "Arsenal"
          ],
          [
           "Leicester"
          ],
          [
           "Crystal Palace"
          ],
          [
           "Man City"
          ],
          [
           "Sheffield Utd"
          ],
          [
           "Everton"
          ],
          [
           "West Brom"
          ],
          [
           "Leicester"
          ],
          [
           "Brighton"
          ],
          [
           "Liverpool"
          ],
          [
           "West Brom"
          ],
          [
           "Chelsea"
          ],
          [
           "Southampton"
          ],
          [
           "Spurs"
          ],
          [
           "Fulham"
          ],
          [
           "Arsenal"
          ],
          [
           "Liverpool"
          ],
          [
           "Sheffield Utd"
          ],
          [
           "Burnley"
          ],
          [
           "Wolves"
          ],
          [
           "Liverpool"
          ],
          [
           "Liverpool"
          ],
          [
           "Fulham"
          ],
          [
           "Wolves"
          ],
          [
           "Newcastle"
          ],
          [
           "Newcastle"
          ],
          [
           "Sheffield Utd"
          ],
          [
           "Burnley"
          ],
          [
           "Crystal Palace"
          ],
          [
           "Wolves"
          ],
          [
           "Leicester"
          ],
          [
           "Man City"
          ],
          [
           "Man Utd"
          ],
          [
           "West Brom"
          ],
          [
           "Liverpool"
          ],
          [
           "Spurs"
          ],
          [
           "Arsenal"
          ],
          [
           "Sheffield Utd"
          ],
          [
           "Leeds"
          ],
          [
           "Leicester"
          ],
          [
           "Newcastle"
          ],
          [
           "Leicester"
          ],
          [
           "West Ham"
          ],
          [
           "Man Utd"
          ],
          [
           "West Ham"
          ],
          [
           "Sheffield Utd"
          ],
          [
           "Arsenal"
          ],
          [
           "Crystal Palace"
          ],
          [
           "Aston Villa"
          ],
          [
           "Newcastle"
          ],
          [
           "West Ham"
          ],
          [
           "Newcastle"
          ],
          [
           "Sheffield Utd"
          ],
          [
           "Sheffield Utd"
          ],
          [
           "Aston Villa"
          ],
          [
           "Leicester"
          ],
          [
           "Southampton"
          ],
          [
           "Newcastle"
          ],
          [
           "Arsenal"
          ],
          [
           "Chelsea"
          ],
          [
           "West Brom"
          ],
          [
           "Brighton"
          ],
          [
           "Liverpool"
          ],
          [
           "Crystal Palace"
          ],
          [
           "Spurs"
          ],
          [
           "Spurs"
          ],
          [
           "Man City"
          ],
          [
           "Man City"
          ],
          [
           "Leeds"
          ],
          [
           "Sheffield Utd"
          ],
          [
           "Man City"
          ],
          [
           "Wolves"
          ],
          [
           "Chelsea"
          ],
          [
           "Crystal Palace"
          ],
          [
           "West Brom"
          ],
          [
           "Newcastle"
          ],
          [
           "Everton"
          ],
          [
           "Sheffield Utd"
          ],
          [
           "Liverpool"
          ],
          [
           "Crystal Palace"
          ],
          [
           "Brighton"
          ],
          [
           "Crystal Palace"
          ],
          [
           "Sheffield Utd"
          ],
          [
           "West Ham"
          ],
          [
           "West Ham"
          ],
          [
           "Man City"
          ],
          [
           "Newcastle"
          ],
          [
           "Newcastle"
          ],
          [
           "Arsenal"
          ],
          [
           "Wolves"
          ],
          [
           "West Brom"
          ],
          [
           "Fulham"
          ],
          [
           "Everton"
          ],
          [
           "Burnley"
          ],
          [
           "Everton"
          ],
          [
           "Spurs"
          ],
          [
           "Spurs"
          ],
          [
           "Leicester"
          ],
          [
           "Leicester"
          ],
          [
           "Fulham"
          ],
          [
           "Leeds"
          ],
          [
           "Spurs"
          ],
          [
           "West Brom"
          ],
          [
           "Everton"
          ],
          [
           "Everton"
          ],
          [
           "Spurs"
          ],
          [
           "Crystal Palace"
          ],
          [
           "Chelsea"
          ],
          [
           "Spurs"
          ],
          [
           "Leeds"
          ],
          [
           "Man City"
          ],
          [
           "Wolves"
          ],
          [
           "Chelsea"
          ],
          [
           "Leicester"
          ],
          [
           "Brighton"
          ],
          [
           "West Ham"
          ],
          [
           "Burnley"
          ],
          [
           "West Brom"
          ],
          [
           "Arsenal"
          ],
          [
           "West Brom"
          ],
          [
           "Liverpool"
          ],
          [
           "Southampton"
          ],
          [
           "Burnley"
          ],
          [
           "Wolves"
          ],
          [
           "Chelsea"
          ],
          [
           "Arsenal"
          ],
          [
           "Chelsea"
          ],
          [
           "Southampton"
          ],
          [
           "Southampton"
          ],
          [
           "Leeds"
          ],
          [
           "Brighton"
          ],
          [
           "Chelsea"
          ],
          [
           "West Ham"
          ],
          [
           "Liverpool"
          ],
          [
           "Aston Villa"
          ],
          [
           "Burnley"
          ],
          [
           "Wolves"
          ],
          [
           "Arsenal"
          ],
          [
           "Brighton"
          ],
          [
           "Chelsea"
          ],
          [
           "Man Utd"
          ],
          [
           "Southampton"
          ],
          [
           "Leeds"
          ],
          [
           "Burnley"
          ],
          [
           "Wolves"
          ],
          [
           "Everton"
          ],
          [
           "Fulham"
          ],
          [
           "Brighton"
          ],
          [
           "Fulham"
          ],
          [
           "Man City"
          ],
          [
           "Leicester"
          ],
          [
           "West Ham"
          ],
          [
           "Man Utd"
          ],
          [
           "Man Utd"
          ],
          [
           "Aston Villa"
          ],
          [
           "Man Utd"
          ],
          [
           "Man City"
          ],
          [
           "Aston Villa"
          ],
          [
           "Fulham"
          ],
          [
           "Aston Villa"
          ],
          [
           "West Ham"
          ],
          [
           "Man City"
          ],
          [
           "Leeds"
          ]
         ],
         "hovertemplate": "second_name=%{x}<br>value=%{y}<br>team=%{customdata[0]}<extra></extra>",
         "legendgroup": "",
         "marker": {
          "color": "#636efa"
         },
         "name": "",
         "offsetgroup": "",
         "orientation": "v",
         "showlegend": false,
         "textposition": "auto",
         "type": "bar",
         "x": [
          "Ramsay",
          "Taylor",
          "Papastathopoulos",
          "Davies",
          "Lonwijk",
          "Berardi",
          "Cresswell",
          "Casey",
          "Douglas",
          "Daley-Campbell",
          "Benkovic",
          "Sessegnon",
          "Mawson",
          "Christie",
          "Hector",
          "Astley",
          "John",
          "Branthwaite",
          "Hannam",
          "Inniss",
          "Woods",
          "Ferguson",
          "Otamendi",
          "Mbete",
          "Harwood-Bellis",
          "Smalling",
          "Marques",
          "Richards",
          "Bennett",
          "Baptiste",
          "Alves",
          "Kipre",
          "Carter-Vickers",
          "Foyth",
          "Sessegnon",
          "Rose",
          "Tchaptchet",
          "Gordon",
          "Watts",
          "Lejeune",
          "Mengi",
          "Dalot Teixeira",
          "Fosu-Mensah",
          "Jones",
          "Rojo",
          "Kelly",
          "Tomori",
          "Bueno",
          "Guilbert",
          "Gibson",
          "Bree",
          "Karbownik",
          "Engels",
          "Montoya",
          "Thomas",
          "Saliba",
          "Nartey",
          "Driscoll-Glennon",
          "Duffy",
          "Clarke",
          "Nkounkou",
          "Silva Nascimento Vinagre",
          "Le Marchand",
          "Odoi",
          "Tsimikas",
          "Buur",
          "Vokins",
          "Kolasinac",
          "Tuanzebe",
          "Kongolo",
          "Williams",
          "Bardsley",
          "Davis",
          "Peltier",
          "O'Connell",
          "Valery",
          "Mustafi",
          "Morgan",
          "Sakho",
          "Garcia",
          "Jagielka",
          "Kenny",
          "Gibbs",
          "Thomas",
          "Fernandes da Silva Junior",
          "Williams",
          "Hegazy",
          "Palmieri dos Santos",
          "Salisu",
          "Tanganga",
          "Ream",
          "Chambers",
          "Gomez",
          "Lowe",
          "Dunne",
          "Hoever",
          "van Dijk",
          "Williams",
          "Bryan",
          "Castro Otto",
          "Dummett",
          "Yedlin",
          "Robinson",
          "Long",
          "Tomkins",
          "Marçal",
          "Barbosa Pereira",
          "Aké",
          "Telles",
          "Ivanovic",
          "Kabak",
          "Rodon",
          "Marí",
          "Bryan",
          "Llorente",
          "Amartey",
          "Schär",
          "Fuchs",
          "Johnson",
          "Bailly",
          "Fredericks",
          "Stevens",
          "Soares",
          "Clyne",
          "Hause",
          "Krafth",
          "Diop",
          "Manquillo",
          "Bogle",
          "Egan",
          "El Mohamady",
          "Söyüncü",
          "Stephens",
          "Fernández",
          "Luiz Moreira Marinho",
          "Alonso",
          "O'Shea",
          "Lamptey",
          "Matip",
          "Dann",
          "Doherty",
          "Sánchez",
          "Luiz Rosa",
          "Mendy",
          "Koch",
          "Basham",
          "Laporte",
          "Ait Nouri",
          "Christensen",
          "Cahill",
          "Ajayi",
          "Clark",
          "Coleman",
          "Baldock",
          "Phillips",
          "Mitchell",
          "Burn",
          "van Aanholt",
          "Ampadu",
          "Balbuena",
          "Masuaku",
          "Zinchenko",
          "Lewis",
          "Lascelles",
          "Magalhães",
          "Boly",
          "Maitland-Niles",
          "Tete",
          "Godfrey",
          "Pieters",
          "Mina",
          "Davies",
          "Aurier",
          "Fofana",
          "Castagne",
          "Robinson",
          "Cooper",
          "Reguilón",
          "Townsend",
          "Digne",
          "Holgate",
          "Dier",
          "Ward",
          "Thiago",
          "Alderweireld",
          "Struijk",
          "Walker",
          "Kilman",
          "Rüdiger",
          "Evans",
          "Webster",
          "Dawson",
          "Taylor",
          "Furlong",
          "Tierney",
          "Bartley",
          "Alexander-Arnold",
          "Bertrand",
          "Tarkowski",
          "Cabral Semedo",
          "Zouma",
          "Bellerín",
          "Azpilicueta",
          "Vestergaard",
          "Walker-Peters",
          "Ayling",
          "Veltman",
          "James",
          "Ogbonna",
          "Robertson",
          "Cash",
          "Mee",
          "Saïss",
          "Holding",
          "White",
          "Chilwell",
          "Lindelöf",
          "Bednarek",
          "Alioski",
          "Lowton",
          "Coady",
          "Keane",
          "Andersen",
          "Dunk",
          "Adarabioyo",
          "Cancelo",
          "Justin",
          "Coufal",
          "Shaw",
          "Maguire",
          "Mings",
          "Wan-Bissaka",
          "Gato Alves Dias",
          "Konsa Ngoyo",
          "Aina",
          "Targett",
          "Cresswell",
          "Stones",
          "Dallas"
         ],
         "xaxis": "x",
         "y": [
          -0.8,
          -0.2,
          0,
          0,
          0,
          0,
          0,
          0,
          0,
          0,
          0,
          0,
          0,
          0,
          0,
          0,
          0,
          0,
          0,
          0,
          0,
          0,
          0,
          0,
          0,
          0,
          0,
          0,
          0,
          0,
          0,
          0,
          0,
          0,
          0,
          0,
          0,
          0,
          0,
          0,
          0,
          0,
          0,
          0,
          0,
          0,
          0,
          0,
          0,
          0,
          0,
          0,
          0,
          0,
          0,
          0,
          0,
          0,
          0,
          0,
          0.2,
          0.2,
          0.2,
          0.2,
          0.2,
          0.3,
          0.3,
          0.4,
          0.5,
          0.5,
          0.5,
          0.5,
          0.5,
          0.5,
          0.6,
          0.6,
          0.6,
          0.7,
          0.9,
          0.9,
          1,
          1.2,
          1.2,
          1.2,
          1.3,
          1.5,
          1.5,
          1.5,
          1.6,
          1.6,
          1.7,
          1.8,
          1.9,
          2.1,
          2.1,
          2.3,
          2.4,
          2.6,
          2.9,
          3,
          3,
          3,
          3.1,
          3.3,
          3.4,
          3.8,
          3.9,
          3.9,
          4.2,
          4.5,
          4.6,
          4.8,
          4.8,
          4.9,
          5,
          5.1,
          5.2,
          5.3,
          5.6,
          5.6,
          5.7,
          6,
          6.1,
          6.2,
          6.4,
          6.4,
          6.5,
          6.7,
          6.7,
          7,
          7,
          7,
          7.2,
          7.2,
          7.4,
          7.4,
          7.6,
          7.6,
          7.8,
          7.9,
          8,
          8.1,
          8.1,
          8.1,
          8.1,
          8.3,
          8.3,
          8.4,
          8.5,
          8.7,
          8.8,
          8.9,
          9,
          9,
          9,
          9.2,
          9.3,
          9.6,
          9.8,
          9.8,
          9.8,
          10.4,
          10.5,
          10.5,
          10.8,
          11.1,
          11.1,
          11.2,
          11.4,
          11.4,
          11.5,
          11.6,
          11.7,
          11.8,
          11.9,
          12,
          12.1,
          12.2,
          12.3,
          12.3,
          12.5,
          12.8,
          13,
          13,
          13,
          13.2,
          13.4,
          13.8,
          13.8,
          14.2,
          14.2,
          14.4,
          14.5,
          14.7,
          14.7,
          15,
          15.4,
          15.4,
          15.8,
          16.3,
          16.4,
          16.6,
          16.6,
          17,
          17,
          17.3,
          17.3,
          17.4,
          17.4,
          17.5,
          17.6,
          17.8,
          17.8,
          17.9,
          18,
          18.1,
          18.3,
          18.5,
          18.6,
          18.9,
          19.2,
          19.6,
          19.8,
          20.4,
          20.4,
          20.5,
          20.6,
          20.7,
          20.8,
          20.9,
          21.3,
          21.4,
          21.5,
          21.7,
          22,
          23.1,
          23.1,
          23.7,
          27.1
         ],
         "yaxis": "y"
        },
        {
         "customdata": [
          [
           40
          ],
          [
           42
          ],
          [
           48
          ],
          [
           48
          ],
          [
           40
          ],
          [
           40
          ],
          [
           40
          ],
          [
           38
          ],
          [
           38
          ],
          [
           40
          ],
          [
           43
          ],
          [
           43
          ],
          [
           43
          ],
          [
           42
          ],
          [
           41
          ],
          [
           40
          ],
          [
           40
          ],
          [
           39
          ],
          [
           40
          ],
          [
           40
          ],
          [
           40
          ],
          [
           38
          ],
          [
           49
          ],
          [
           40
          ],
          [
           40
          ],
          [
           49
          ],
          [
           39
          ],
          [
           40
          ],
          [
           44
          ],
          [
           40
          ],
          [
           40
          ],
          [
           43
          ],
          [
           39
          ],
          [
           43
          ],
          [
           47
          ],
          [
           47
          ],
          [
           40
          ],
          [
           40
          ],
          [
           39
          ],
          [
           43
          ],
          [
           39
          ],
          [
           48
          ],
          [
           43
          ],
          [
           48
          ],
          [
           48
          ],
          [
           41
          ],
          [
           47
          ],
          [
           40
          ],
          [
           43
          ],
          [
           39
          ],
          [
           45
          ],
          [
           45
          ],
          [
           44
          ],
          [
           45
          ],
          [
           39
          ],
          [
           40
          ],
          [
           40
          ],
          [
           39
          ],
          [
           43
          ],
          [
           44
          ],
          [
           40
          ],
          [
           41
          ],
          [
           41
          ],
          [
           42
          ],
          [
           49
          ],
          [
           39
          ],
          [
           39
          ],
          [
           48
          ],
          [
           41
          ],
          [
           43
          ],
          [
           42
          ],
          [
           44
          ],
          [
           38
          ],
          [
           40
          ],
          [
           47
          ],
          [
           47
          ],
          [
           50
          ],
          [
           44
          ],
          [
           44
          ],
          [
           47
          ],
          [
           39
          ],
          [
           43
          ],
          [
           43
          ],
          [
           41
          ],
          [
           39
          ],
          [
           40
          ],
          [
           41
          ],
          [
           47
          ],
          [
           43
          ],
          [
           49
          ],
          [
           42
          ],
          [
           45
          ],
          [
           52
          ],
          [
           42
          ],
          [
           38
          ],
          [
           44
          ],
          [
           62
          ],
          [
           38
          ],
          [
           45
          ],
          [
           54
          ],
          [
           44
          ],
          [
           43
          ],
          [
           42
          ],
          [
           43
          ],
          [
           44
          ],
          [
           47
          ],
          [
           59
          ],
          [
           54
          ],
          [
           53
          ],
          [
           44
          ],
          [
           50
          ],
          [
           50
          ],
          [
           44
          ],
          [
           39
          ],
          [
           44
          ],
          [
           39
          ],
          [
           48
          ],
          [
           45
          ],
          [
           39
          ],
          [
           48
          ],
          [
           42
          ],
          [
           50
          ],
          [
           46
          ],
          [
           45
          ],
          [
           44
          ],
          [
           42
          ],
          [
           43
          ],
          [
           42
          ],
          [
           43
          ],
          [
           47
          ],
          [
           43
          ],
          [
           53
          ],
          [
           46
          ],
          [
           47
          ],
          [
           54
          ],
          [
           57
          ],
          [
           42
          ],
          [
           46
          ],
          [
           54
          ],
          [
           42
          ],
          [
           56
          ],
          [
           52
          ],
          [
           54
          ],
          [
           59
          ],
          [
           43
          ],
          [
           46
          ],
          [
           60
          ],
          [
           50
          ],
          [
           47
          ],
          [
           45
          ],
          [
           48
          ],
          [
           45
          ],
          [
           48
          ],
          [
           49
          ],
          [
           41
          ],
          [
           38
          ],
          [
           42
          ],
          [
           54
          ],
          [
           43
          ],
          [
           41
          ],
          [
           43
          ],
          [
           55
          ],
          [
           41
          ],
          [
           42
          ],
          [
           49
          ],
          [
           54
          ],
          [
           46
          ],
          [
           43
          ],
          [
           50
          ],
          [
           43
          ],
          [
           55
          ],
          [
           45
          ],
          [
           52
          ],
          [
           50
          ],
          [
           57
          ],
          [
           44
          ],
          [
           43
          ],
          [
           55
          ],
          [
           44
          ],
          [
           62
          ],
          [
           48
          ],
          [
           46
          ],
          [
           43
          ],
          [
           56
          ],
          [
           54
          ],
          [
           40
          ],
          [
           61
          ],
          [
           39
          ],
          [
           47
          ],
          [
           55
          ],
          [
           43
          ],
          [
           45
          ],
          [
           44
          ],
          [
           45
          ],
          [
           53
          ],
          [
           44
          ],
          [
           74
          ],
          [
           50
          ],
          [
           53
          ],
          [
           52
          ],
          [
           53
          ],
          [
           50
          ],
          [
           59
          ],
          [
           47
          ],
          [
           47
          ],
          [
           44
          ],
          [
           44
          ],
          [
           50
          ],
          [
           47
          ],
          [
           71
          ],
          [
           50
          ],
          [
           49
          ],
          [
           49
          ],
          [
           42
          ],
          [
           45
          ],
          [
           58
          ],
          [
           48
          ],
          [
           48
          ],
          [
           43
          ],
          [
           44
          ],
          [
           48
          ],
          [
           51
          ],
          [
           45
          ],
          [
           50
          ],
          [
           45
          ],
          [
           60
          ],
          [
           49
          ],
          [
           46
          ],
          [
           53
          ],
          [
           55
          ],
          [
           54
          ],
          [
           57
          ],
          [
           62
          ],
          [
           47
          ],
          [
           45
          ],
          [
           51
          ],
          [
           59
          ],
          [
           52
          ],
          [
           51
          ]
         ],
         "hovertemplate": "second_name=%{x}<br>total_points=%{y}<br>now_cost=%{customdata[0]}<extra></extra>",
         "legendgroup": "",
         "marker": {
          "color": "#636efa",
          "symbol": "circle"
         },
         "mode": "markers",
         "name": "",
         "orientation": "v",
         "showlegend": false,
         "type": "scatter",
         "x": [
          "Ramsay",
          "Taylor",
          "Papastathopoulos",
          "Davies",
          "Lonwijk",
          "Berardi",
          "Cresswell",
          "Casey",
          "Douglas",
          "Daley-Campbell",
          "Benkovic",
          "Sessegnon",
          "Mawson",
          "Christie",
          "Hector",
          "Astley",
          "John",
          "Branthwaite",
          "Hannam",
          "Inniss",
          "Woods",
          "Ferguson",
          "Otamendi",
          "Mbete",
          "Harwood-Bellis",
          "Smalling",
          "Marques",
          "Richards",
          "Bennett",
          "Baptiste",
          "Alves",
          "Kipre",
          "Carter-Vickers",
          "Foyth",
          "Sessegnon",
          "Rose",
          "Tchaptchet",
          "Gordon",
          "Watts",
          "Lejeune",
          "Mengi",
          "Dalot Teixeira",
          "Fosu-Mensah",
          "Jones",
          "Rojo",
          "Kelly",
          "Tomori",
          "Bueno",
          "Guilbert",
          "Gibson",
          "Bree",
          "Karbownik",
          "Engels",
          "Montoya",
          "Thomas",
          "Saliba",
          "Nartey",
          "Driscoll-Glennon",
          "Duffy",
          "Clarke",
          "Nkounkou",
          "Silva Nascimento Vinagre",
          "Le Marchand",
          "Odoi",
          "Tsimikas",
          "Buur",
          "Vokins",
          "Kolasinac",
          "Tuanzebe",
          "Kongolo",
          "Williams",
          "Bardsley",
          "Davis",
          "Peltier",
          "O'Connell",
          "Valery",
          "Mustafi",
          "Morgan",
          "Sakho",
          "Garcia",
          "Jagielka",
          "Kenny",
          "Gibbs",
          "Thomas",
          "Fernandes da Silva Junior",
          "Williams",
          "Hegazy",
          "Palmieri dos Santos",
          "Salisu",
          "Tanganga",
          "Ream",
          "Chambers",
          "Gomez",
          "Lowe",
          "Dunne",
          "Hoever",
          "van Dijk",
          "Williams",
          "Bryan",
          "Castro Otto",
          "Dummett",
          "Yedlin",
          "Robinson",
          "Long",
          "Tomkins",
          "Marçal",
          "Barbosa Pereira",
          "Aké",
          "Telles",
          "Ivanovic",
          "Kabak",
          "Rodon",
          "Marí",
          "Bryan",
          "Llorente",
          "Amartey",
          "Schär",
          "Fuchs",
          "Johnson",
          "Bailly",
          "Fredericks",
          "Stevens",
          "Soares",
          "Clyne",
          "Hause",
          "Krafth",
          "Diop",
          "Manquillo",
          "Bogle",
          "Egan",
          "El Mohamady",
          "Söyüncü",
          "Stephens",
          "Fernández",
          "Luiz Moreira Marinho",
          "Alonso",
          "O'Shea",
          "Lamptey",
          "Matip",
          "Dann",
          "Doherty",
          "Sánchez",
          "Luiz Rosa",
          "Mendy",
          "Koch",
          "Basham",
          "Laporte",
          "Ait Nouri",
          "Christensen",
          "Cahill",
          "Ajayi",
          "Clark",
          "Coleman",
          "Baldock",
          "Phillips",
          "Mitchell",
          "Burn",
          "van Aanholt",
          "Ampadu",
          "Balbuena",
          "Masuaku",
          "Zinchenko",
          "Lewis",
          "Lascelles",
          "Magalhães",
          "Boly",
          "Maitland-Niles",
          "Tete",
          "Godfrey",
          "Pieters",
          "Mina",
          "Davies",
          "Aurier",
          "Fofana",
          "Castagne",
          "Robinson",
          "Cooper",
          "Reguilón",
          "Townsend",
          "Digne",
          "Holgate",
          "Dier",
          "Ward",
          "Thiago",
          "Alderweireld",
          "Struijk",
          "Walker",
          "Kilman",
          "Rüdiger",
          "Evans",
          "Webster",
          "Dawson",
          "Taylor",
          "Furlong",
          "Tierney",
          "Bartley",
          "Alexander-Arnold",
          "Bertrand",
          "Tarkowski",
          "Cabral Semedo",
          "Zouma",
          "Bellerín",
          "Azpilicueta",
          "Vestergaard",
          "Walker-Peters",
          "Ayling",
          "Veltman",
          "James",
          "Ogbonna",
          "Robertson",
          "Cash",
          "Mee",
          "Saïss",
          "Holding",
          "White",
          "Chilwell",
          "Lindelöf",
          "Bednarek",
          "Alioski",
          "Lowton",
          "Coady",
          "Keane",
          "Andersen",
          "Dunk",
          "Adarabioyo",
          "Cancelo",
          "Justin",
          "Coufal",
          "Shaw",
          "Maguire",
          "Mings",
          "Wan-Bissaka",
          "Gato Alves Dias",
          "Konsa Ngoyo",
          "Aina",
          "Targett",
          "Cresswell",
          "Stones",
          "Dallas"
         ],
         "xaxis": "x",
         "y": [
          -3,
          -1,
          0,
          0,
          0,
          0,
          0,
          0,
          0,
          0,
          0,
          0,
          0,
          0,
          0,
          0,
          0,
          0,
          0,
          0,
          0,
          0,
          0,
          0,
          0,
          0,
          0,
          0,
          0,
          0,
          0,
          0,
          0,
          0,
          0,
          0,
          0,
          0,
          0,
          0,
          0,
          0,
          0,
          0,
          0,
          0,
          0,
          0,
          0,
          0,
          0,
          0,
          0,
          0,
          0,
          0,
          0,
          0,
          0,
          0,
          1,
          1,
          1,
          1,
          1,
          1,
          1,
          2,
          2,
          2,
          2,
          2,
          2,
          2,
          3,
          3,
          3,
          3,
          4,
          4,
          4,
          5,
          5,
          5,
          5,
          6,
          6,
          7,
          7,
          8,
          7,
          8,
          10,
          9,
          8,
          10,
          15,
          10,
          13,
          16,
          13,
          13,
          13,
          14,
          15,
          18,
          23,
          21,
          22,
          20,
          23,
          24,
          21,
          19,
          22,
          20,
          25,
          24,
          22,
          27,
          24,
          30,
          28,
          28,
          28,
          27,
          28,
          28,
          29,
          33,
          30,
          37,
          33,
          34,
          40,
          42,
          32,
          35,
          42,
          33,
          45,
          42,
          44,
          48,
          35,
          38,
          50,
          42,
          40,
          39,
          42,
          40,
          43,
          44,
          37,
          35,
          39,
          52,
          42,
          40,
          42,
          57,
          43,
          44,
          53,
          60,
          51,
          48,
          57,
          49,
          63,
          52,
          61,
          59,
          68,
          53,
          52,
          67,
          54,
          76,
          60,
          59,
          56,
          73,
          70,
          53,
          82,
          54,
          65,
          78,
          61,
          65,
          64,
          66,
          78,
          66,
          114,
          77,
          84,
          85,
          87,
          83,
          98,
          80,
          80,
          76,
          76,
          87,
          82,
          124,
          88,
          87,
          87,
          75,
          81,
          105,
          88,
          89,
          80,
          83,
          92,
          100,
          89,
          102,
          92,
          123,
          101,
          95,
          110,
          115,
          115,
          122,
          133,
          102,
          99,
          118,
          136,
          123,
          138
         ],
         "yaxis": "y"
        }
       ],
       "layout": {
        "barmode": "relative",
        "legend": {
         "tracegroupgap": 0
        },
        "margin": {
         "t": 60
        },
        "template": {
         "data": {
          "bar": [
           {
            "error_x": {
             "color": "#2a3f5f"
            },
            "error_y": {
             "color": "#2a3f5f"
            },
            "marker": {
             "line": {
              "color": "#E5ECF6",
              "width": 0.5
             }
            },
            "type": "bar"
           }
          ],
          "barpolar": [
           {
            "marker": {
             "line": {
              "color": "#E5ECF6",
              "width": 0.5
             }
            },
            "type": "barpolar"
           }
          ],
          "carpet": [
           {
            "aaxis": {
             "endlinecolor": "#2a3f5f",
             "gridcolor": "white",
             "linecolor": "white",
             "minorgridcolor": "white",
             "startlinecolor": "#2a3f5f"
            },
            "baxis": {
             "endlinecolor": "#2a3f5f",
             "gridcolor": "white",
             "linecolor": "white",
             "minorgridcolor": "white",
             "startlinecolor": "#2a3f5f"
            },
            "type": "carpet"
           }
          ],
          "choropleth": [
           {
            "colorbar": {
             "outlinewidth": 0,
             "ticks": ""
            },
            "type": "choropleth"
           }
          ],
          "contour": [
           {
            "colorbar": {
             "outlinewidth": 0,
             "ticks": ""
            },
            "colorscale": [
             [
              0,
              "#0d0887"
             ],
             [
              0.1111111111111111,
              "#46039f"
             ],
             [
              0.2222222222222222,
              "#7201a8"
             ],
             [
              0.3333333333333333,
              "#9c179e"
             ],
             [
              0.4444444444444444,
              "#bd3786"
             ],
             [
              0.5555555555555556,
              "#d8576b"
             ],
             [
              0.6666666666666666,
              "#ed7953"
             ],
             [
              0.7777777777777778,
              "#fb9f3a"
             ],
             [
              0.8888888888888888,
              "#fdca26"
             ],
             [
              1,
              "#f0f921"
             ]
            ],
            "type": "contour"
           }
          ],
          "contourcarpet": [
           {
            "colorbar": {
             "outlinewidth": 0,
             "ticks": ""
            },
            "type": "contourcarpet"
           }
          ],
          "heatmap": [
           {
            "colorbar": {
             "outlinewidth": 0,
             "ticks": ""
            },
            "colorscale": [
             [
              0,
              "#0d0887"
             ],
             [
              0.1111111111111111,
              "#46039f"
             ],
             [
              0.2222222222222222,
              "#7201a8"
             ],
             [
              0.3333333333333333,
              "#9c179e"
             ],
             [
              0.4444444444444444,
              "#bd3786"
             ],
             [
              0.5555555555555556,
              "#d8576b"
             ],
             [
              0.6666666666666666,
              "#ed7953"
             ],
             [
              0.7777777777777778,
              "#fb9f3a"
             ],
             [
              0.8888888888888888,
              "#fdca26"
             ],
             [
              1,
              "#f0f921"
             ]
            ],
            "type": "heatmap"
           }
          ],
          "heatmapgl": [
           {
            "colorbar": {
             "outlinewidth": 0,
             "ticks": ""
            },
            "colorscale": [
             [
              0,
              "#0d0887"
             ],
             [
              0.1111111111111111,
              "#46039f"
             ],
             [
              0.2222222222222222,
              "#7201a8"
             ],
             [
              0.3333333333333333,
              "#9c179e"
             ],
             [
              0.4444444444444444,
              "#bd3786"
             ],
             [
              0.5555555555555556,
              "#d8576b"
             ],
             [
              0.6666666666666666,
              "#ed7953"
             ],
             [
              0.7777777777777778,
              "#fb9f3a"
             ],
             [
              0.8888888888888888,
              "#fdca26"
             ],
             [
              1,
              "#f0f921"
             ]
            ],
            "type": "heatmapgl"
           }
          ],
          "histogram": [
           {
            "marker": {
             "colorbar": {
              "outlinewidth": 0,
              "ticks": ""
             }
            },
            "type": "histogram"
           }
          ],
          "histogram2d": [
           {
            "colorbar": {
             "outlinewidth": 0,
             "ticks": ""
            },
            "colorscale": [
             [
              0,
              "#0d0887"
             ],
             [
              0.1111111111111111,
              "#46039f"
             ],
             [
              0.2222222222222222,
              "#7201a8"
             ],
             [
              0.3333333333333333,
              "#9c179e"
             ],
             [
              0.4444444444444444,
              "#bd3786"
             ],
             [
              0.5555555555555556,
              "#d8576b"
             ],
             [
              0.6666666666666666,
              "#ed7953"
             ],
             [
              0.7777777777777778,
              "#fb9f3a"
             ],
             [
              0.8888888888888888,
              "#fdca26"
             ],
             [
              1,
              "#f0f921"
             ]
            ],
            "type": "histogram2d"
           }
          ],
          "histogram2dcontour": [
           {
            "colorbar": {
             "outlinewidth": 0,
             "ticks": ""
            },
            "colorscale": [
             [
              0,
              "#0d0887"
             ],
             [
              0.1111111111111111,
              "#46039f"
             ],
             [
              0.2222222222222222,
              "#7201a8"
             ],
             [
              0.3333333333333333,
              "#9c179e"
             ],
             [
              0.4444444444444444,
              "#bd3786"
             ],
             [
              0.5555555555555556,
              "#d8576b"
             ],
             [
              0.6666666666666666,
              "#ed7953"
             ],
             [
              0.7777777777777778,
              "#fb9f3a"
             ],
             [
              0.8888888888888888,
              "#fdca26"
             ],
             [
              1,
              "#f0f921"
             ]
            ],
            "type": "histogram2dcontour"
           }
          ],
          "mesh3d": [
           {
            "colorbar": {
             "outlinewidth": 0,
             "ticks": ""
            },
            "type": "mesh3d"
           }
          ],
          "parcoords": [
           {
            "line": {
             "colorbar": {
              "outlinewidth": 0,
              "ticks": ""
             }
            },
            "type": "parcoords"
           }
          ],
          "pie": [
           {
            "automargin": true,
            "type": "pie"
           }
          ],
          "scatter": [
           {
            "marker": {
             "colorbar": {
              "outlinewidth": 0,
              "ticks": ""
             }
            },
            "type": "scatter"
           }
          ],
          "scatter3d": [
           {
            "line": {
             "colorbar": {
              "outlinewidth": 0,
              "ticks": ""
             }
            },
            "marker": {
             "colorbar": {
              "outlinewidth": 0,
              "ticks": ""
             }
            },
            "type": "scatter3d"
           }
          ],
          "scattercarpet": [
           {
            "marker": {
             "colorbar": {
              "outlinewidth": 0,
              "ticks": ""
             }
            },
            "type": "scattercarpet"
           }
          ],
          "scattergeo": [
           {
            "marker": {
             "colorbar": {
              "outlinewidth": 0,
              "ticks": ""
             }
            },
            "type": "scattergeo"
           }
          ],
          "scattergl": [
           {
            "marker": {
             "colorbar": {
              "outlinewidth": 0,
              "ticks": ""
             }
            },
            "type": "scattergl"
           }
          ],
          "scattermapbox": [
           {
            "marker": {
             "colorbar": {
              "outlinewidth": 0,
              "ticks": ""
             }
            },
            "type": "scattermapbox"
           }
          ],
          "scatterpolar": [
           {
            "marker": {
             "colorbar": {
              "outlinewidth": 0,
              "ticks": ""
             }
            },
            "type": "scatterpolar"
           }
          ],
          "scatterpolargl": [
           {
            "marker": {
             "colorbar": {
              "outlinewidth": 0,
              "ticks": ""
             }
            },
            "type": "scatterpolargl"
           }
          ],
          "scatterternary": [
           {
            "marker": {
             "colorbar": {
              "outlinewidth": 0,
              "ticks": ""
             }
            },
            "type": "scatterternary"
           }
          ],
          "surface": [
           {
            "colorbar": {
             "outlinewidth": 0,
             "ticks": ""
            },
            "colorscale": [
             [
              0,
              "#0d0887"
             ],
             [
              0.1111111111111111,
              "#46039f"
             ],
             [
              0.2222222222222222,
              "#7201a8"
             ],
             [
              0.3333333333333333,
              "#9c179e"
             ],
             [
              0.4444444444444444,
              "#bd3786"
             ],
             [
              0.5555555555555556,
              "#d8576b"
             ],
             [
              0.6666666666666666,
              "#ed7953"
             ],
             [
              0.7777777777777778,
              "#fb9f3a"
             ],
             [
              0.8888888888888888,
              "#fdca26"
             ],
             [
              1,
              "#f0f921"
             ]
            ],
            "type": "surface"
           }
          ],
          "table": [
           {
            "cells": {
             "fill": {
              "color": "#EBF0F8"
             },
             "line": {
              "color": "white"
             }
            },
            "header": {
             "fill": {
              "color": "#C8D4E3"
             },
             "line": {
              "color": "white"
             }
            },
            "type": "table"
           }
          ]
         },
         "layout": {
          "annotationdefaults": {
           "arrowcolor": "#2a3f5f",
           "arrowhead": 0,
           "arrowwidth": 1
          },
          "autotypenumbers": "strict",
          "coloraxis": {
           "colorbar": {
            "outlinewidth": 0,
            "ticks": ""
           }
          },
          "colorscale": {
           "diverging": [
            [
             0,
             "#8e0152"
            ],
            [
             0.1,
             "#c51b7d"
            ],
            [
             0.2,
             "#de77ae"
            ],
            [
             0.3,
             "#f1b6da"
            ],
            [
             0.4,
             "#fde0ef"
            ],
            [
             0.5,
             "#f7f7f7"
            ],
            [
             0.6,
             "#e6f5d0"
            ],
            [
             0.7,
             "#b8e186"
            ],
            [
             0.8,
             "#7fbc41"
            ],
            [
             0.9,
             "#4d9221"
            ],
            [
             1,
             "#276419"
            ]
           ],
           "sequential": [
            [
             0,
             "#0d0887"
            ],
            [
             0.1111111111111111,
             "#46039f"
            ],
            [
             0.2222222222222222,
             "#7201a8"
            ],
            [
             0.3333333333333333,
             "#9c179e"
            ],
            [
             0.4444444444444444,
             "#bd3786"
            ],
            [
             0.5555555555555556,
             "#d8576b"
            ],
            [
             0.6666666666666666,
             "#ed7953"
            ],
            [
             0.7777777777777778,
             "#fb9f3a"
            ],
            [
             0.8888888888888888,
             "#fdca26"
            ],
            [
             1,
             "#f0f921"
            ]
           ],
           "sequentialminus": [
            [
             0,
             "#0d0887"
            ],
            [
             0.1111111111111111,
             "#46039f"
            ],
            [
             0.2222222222222222,
             "#7201a8"
            ],
            [
             0.3333333333333333,
             "#9c179e"
            ],
            [
             0.4444444444444444,
             "#bd3786"
            ],
            [
             0.5555555555555556,
             "#d8576b"
            ],
            [
             0.6666666666666666,
             "#ed7953"
            ],
            [
             0.7777777777777778,
             "#fb9f3a"
            ],
            [
             0.8888888888888888,
             "#fdca26"
            ],
            [
             1,
             "#f0f921"
            ]
           ]
          },
          "colorway": [
           "#636efa",
           "#EF553B",
           "#00cc96",
           "#ab63fa",
           "#FFA15A",
           "#19d3f3",
           "#FF6692",
           "#B6E880",
           "#FF97FF",
           "#FECB52"
          ],
          "font": {
           "color": "#2a3f5f"
          },
          "geo": {
           "bgcolor": "white",
           "lakecolor": "white",
           "landcolor": "#E5ECF6",
           "showlakes": true,
           "showland": true,
           "subunitcolor": "white"
          },
          "hoverlabel": {
           "align": "left"
          },
          "hovermode": "closest",
          "mapbox": {
           "style": "light"
          },
          "paper_bgcolor": "white",
          "plot_bgcolor": "#E5ECF6",
          "polar": {
           "angularaxis": {
            "gridcolor": "white",
            "linecolor": "white",
            "ticks": ""
           },
           "bgcolor": "#E5ECF6",
           "radialaxis": {
            "gridcolor": "white",
            "linecolor": "white",
            "ticks": ""
           }
          },
          "scene": {
           "xaxis": {
            "backgroundcolor": "#E5ECF6",
            "gridcolor": "white",
            "gridwidth": 2,
            "linecolor": "white",
            "showbackground": true,
            "ticks": "",
            "zerolinecolor": "white"
           },
           "yaxis": {
            "backgroundcolor": "#E5ECF6",
            "gridcolor": "white",
            "gridwidth": 2,
            "linecolor": "white",
            "showbackground": true,
            "ticks": "",
            "zerolinecolor": "white"
           },
           "zaxis": {
            "backgroundcolor": "#E5ECF6",
            "gridcolor": "white",
            "gridwidth": 2,
            "linecolor": "white",
            "showbackground": true,
            "ticks": "",
            "zerolinecolor": "white"
           }
          },
          "shapedefaults": {
           "line": {
            "color": "#2a3f5f"
           }
          },
          "ternary": {
           "aaxis": {
            "gridcolor": "white",
            "linecolor": "white",
            "ticks": ""
           },
           "baxis": {
            "gridcolor": "white",
            "linecolor": "white",
            "ticks": ""
           },
           "bgcolor": "#E5ECF6",
           "caxis": {
            "gridcolor": "white",
            "linecolor": "white",
            "ticks": ""
           }
          },
          "title": {
           "x": 0.05
          },
          "xaxis": {
           "automargin": true,
           "gridcolor": "white",
           "linecolor": "white",
           "ticks": "",
           "title": {
            "standoff": 15
           },
           "zerolinecolor": "white",
           "zerolinewidth": 2
          },
          "yaxis": {
           "automargin": true,
           "gridcolor": "white",
           "linecolor": "white",
           "ticks": "",
           "title": {
            "standoff": 15
           },
           "zerolinecolor": "white",
           "zerolinewidth": 2
          }
         }
        },
        "xaxis": {
         "anchor": "y",
         "domain": [
          0,
          1
         ],
         "title": {
          "text": "second_name"
         }
        },
        "yaxis": {
         "anchor": "x",
         "domain": [
          0,
          1
         ],
         "title": {
          "text": "value"
         }
        }
       }
      },
      "text/html": [
       "<div>                            <div id=\"054122ae-25c3-401b-a932-b80b16dce659\" class=\"plotly-graph-div\" style=\"height:525px; width:100%;\"></div>            <script type=\"text/javascript\">                require([\"plotly\"], function(Plotly) {                    window.PLOTLYENV=window.PLOTLYENV || {};                                    if (document.getElementById(\"054122ae-25c3-401b-a932-b80b16dce659\")) {                    Plotly.newPlot(                        \"054122ae-25c3-401b-a932-b80b16dce659\",                        [{\"alignmentgroup\": \"True\", \"customdata\": [[\"Southampton\"], [\"Aston Villa\"], [\"Arsenal\"], [\"Liverpool\"], [\"Wolves\"], [\"Leeds\"], [\"Leeds\"], [\"Leeds\"], [\"Leeds\"], [\"Leicester\"], [\"Leicester\"], [\"Fulham\"], [\"Fulham\"], [\"Fulham\"], [\"Fulham\"], [\"Everton\"], [\"Everton\"], [\"Everton\"], [\"Crystal Palace\"], [\"Crystal Palace\"], [\"Crystal Palace\"], [\"Crystal Palace\"], [\"Man City\"], [\"Man City\"], [\"Man City\"], [\"Man Utd\"], [\"Wolves\"], [\"Wolves\"], [\"Wolves\"], [\"West Ham\"], [\"West Ham\"], [\"West Brom\"], [\"Spurs\"], [\"Spurs\"], [\"Spurs\"], [\"Spurs\"], [\"Southampton\"], [\"Sheffield Utd\"], [\"Newcastle\"], [\"Newcastle\"], [\"Man Utd\"], [\"Man Utd\"], [\"Man Utd\"], [\"Man Utd\"], [\"Man Utd\"], [\"Crystal Palace\"], [\"Chelsea\"], [\"Wolves\"], [\"Aston Villa\"], [\"Burnley\"], [\"Aston Villa\"], [\"Brighton\"], [\"Aston Villa\"], [\"Brighton\"], [\"Burnley\"], [\"Arsenal\"], [\"Burnley\"], [\"Burnley\"], [\"Brighton\"], [\"Brighton\"], [\"Everton\"], [\"Wolves\"], [\"Fulham\"], [\"Fulham\"], [\"Liverpool\"], [\"Wolves\"], [\"Southampton\"], [\"Arsenal\"], [\"Man Utd\"], [\"Fulham\"], [\"Man Utd\"], [\"Burnley\"], [\"Leeds\"], [\"West Brom\"], [\"Sheffield Utd\"], [\"Southampton\"], [\"Arsenal\"], [\"Leicester\"], [\"Crystal Palace\"], [\"Man City\"], [\"Sheffield Utd\"], [\"Everton\"], [\"West Brom\"], [\"Leicester\"], [\"Brighton\"], [\"Liverpool\"], [\"West Brom\"], [\"Chelsea\"], [\"Southampton\"], [\"Spurs\"], [\"Fulham\"], [\"Arsenal\"], [\"Liverpool\"], [\"Sheffield Utd\"], [\"Burnley\"], [\"Wolves\"], [\"Liverpool\"], [\"Liverpool\"], [\"Fulham\"], [\"Wolves\"], [\"Newcastle\"], [\"Newcastle\"], [\"Sheffield Utd\"], [\"Burnley\"], [\"Crystal Palace\"], [\"Wolves\"], [\"Leicester\"], [\"Man City\"], [\"Man Utd\"], [\"West Brom\"], [\"Liverpool\"], [\"Spurs\"], [\"Arsenal\"], [\"Sheffield Utd\"], [\"Leeds\"], [\"Leicester\"], [\"Newcastle\"], [\"Leicester\"], [\"West Ham\"], [\"Man Utd\"], [\"West Ham\"], [\"Sheffield Utd\"], [\"Arsenal\"], [\"Crystal Palace\"], [\"Aston Villa\"], [\"Newcastle\"], [\"West Ham\"], [\"Newcastle\"], [\"Sheffield Utd\"], [\"Sheffield Utd\"], [\"Aston Villa\"], [\"Leicester\"], [\"Southampton\"], [\"Newcastle\"], [\"Arsenal\"], [\"Chelsea\"], [\"West Brom\"], [\"Brighton\"], [\"Liverpool\"], [\"Crystal Palace\"], [\"Spurs\"], [\"Spurs\"], [\"Man City\"], [\"Man City\"], [\"Leeds\"], [\"Sheffield Utd\"], [\"Man City\"], [\"Wolves\"], [\"Chelsea\"], [\"Crystal Palace\"], [\"West Brom\"], [\"Newcastle\"], [\"Everton\"], [\"Sheffield Utd\"], [\"Liverpool\"], [\"Crystal Palace\"], [\"Brighton\"], [\"Crystal Palace\"], [\"Sheffield Utd\"], [\"West Ham\"], [\"West Ham\"], [\"Man City\"], [\"Newcastle\"], [\"Newcastle\"], [\"Arsenal\"], [\"Wolves\"], [\"West Brom\"], [\"Fulham\"], [\"Everton\"], [\"Burnley\"], [\"Everton\"], [\"Spurs\"], [\"Spurs\"], [\"Leicester\"], [\"Leicester\"], [\"Fulham\"], [\"Leeds\"], [\"Spurs\"], [\"West Brom\"], [\"Everton\"], [\"Everton\"], [\"Spurs\"], [\"Crystal Palace\"], [\"Chelsea\"], [\"Spurs\"], [\"Leeds\"], [\"Man City\"], [\"Wolves\"], [\"Chelsea\"], [\"Leicester\"], [\"Brighton\"], [\"West Ham\"], [\"Burnley\"], [\"West Brom\"], [\"Arsenal\"], [\"West Brom\"], [\"Liverpool\"], [\"Southampton\"], [\"Burnley\"], [\"Wolves\"], [\"Chelsea\"], [\"Arsenal\"], [\"Chelsea\"], [\"Southampton\"], [\"Southampton\"], [\"Leeds\"], [\"Brighton\"], [\"Chelsea\"], [\"West Ham\"], [\"Liverpool\"], [\"Aston Villa\"], [\"Burnley\"], [\"Wolves\"], [\"Arsenal\"], [\"Brighton\"], [\"Chelsea\"], [\"Man Utd\"], [\"Southampton\"], [\"Leeds\"], [\"Burnley\"], [\"Wolves\"], [\"Everton\"], [\"Fulham\"], [\"Brighton\"], [\"Fulham\"], [\"Man City\"], [\"Leicester\"], [\"West Ham\"], [\"Man Utd\"], [\"Man Utd\"], [\"Aston Villa\"], [\"Man Utd\"], [\"Man City\"], [\"Aston Villa\"], [\"Fulham\"], [\"Aston Villa\"], [\"West Ham\"], [\"Man City\"], [\"Leeds\"]], \"hovertemplate\": \"second_name=%{x}<br>value=%{y}<br>team=%{customdata[0]}<extra></extra>\", \"legendgroup\": \"\", \"marker\": {\"color\": \"#636efa\"}, \"name\": \"\", \"offsetgroup\": \"\", \"orientation\": \"v\", \"showlegend\": false, \"textposition\": \"auto\", \"type\": \"bar\", \"x\": [\"Ramsay\", \"Taylor\", \"Papastathopoulos\", \"Davies\", \"Lonwijk\", \"Berardi\", \"Cresswell\", \"Casey\", \"Douglas\", \"Daley-Campbell\", \"Benkovic\", \"Sessegnon\", \"Mawson\", \"Christie\", \"Hector\", \"Astley\", \"John\", \"Branthwaite\", \"Hannam\", \"Inniss\", \"Woods\", \"Ferguson\", \"Otamendi\", \"Mbete\", \"Harwood-Bellis\", \"Smalling\", \"Marques\", \"Richards\", \"Bennett\", \"Baptiste\", \"Alves\", \"Kipre\", \"Carter-Vickers\", \"Foyth\", \"Sessegnon\", \"Rose\", \"Tchaptchet\", \"Gordon\", \"Watts\", \"Lejeune\", \"Mengi\", \"Dalot Teixeira\", \"Fosu-Mensah\", \"Jones\", \"Rojo\", \"Kelly\", \"Tomori\", \"Bueno\", \"Guilbert\", \"Gibson\", \"Bree\", \"Karbownik\", \"Engels\", \"Montoya\", \"Thomas\", \"Saliba\", \"Nartey\", \"Driscoll-Glennon\", \"Duffy\", \"Clarke\", \"Nkounkou\", \"Silva Nascimento Vinagre\", \"Le Marchand\", \"Odoi\", \"Tsimikas\", \"Buur\", \"Vokins\", \"Kolasinac\", \"Tuanzebe\", \"Kongolo\", \"Williams\", \"Bardsley\", \"Davis\", \"Peltier\", \"O'Connell\", \"Valery\", \"Mustafi\", \"Morgan\", \"Sakho\", \"Garcia\", \"Jagielka\", \"Kenny\", \"Gibbs\", \"Thomas\", \"Fernandes da Silva Junior\", \"Williams\", \"Hegazy\", \"Palmieri dos Santos\", \"Salisu\", \"Tanganga\", \"Ream\", \"Chambers\", \"Gomez\", \"Lowe\", \"Dunne\", \"Hoever\", \"van Dijk\", \"Williams\", \"Bryan\", \"Castro Otto\", \"Dummett\", \"Yedlin\", \"Robinson\", \"Long\", \"Tomkins\", \"Mar\\u00e7al\", \"Barbosa Pereira\", \"Ak\\u00e9\", \"Telles\", \"Ivanovic\", \"Kabak\", \"Rodon\", \"Mar\\u00ed\", \"Bryan\", \"Llorente\", \"Amartey\", \"Sch\\u00e4r\", \"Fuchs\", \"Johnson\", \"Bailly\", \"Fredericks\", \"Stevens\", \"Soares\", \"Clyne\", \"Hause\", \"Krafth\", \"Diop\", \"Manquillo\", \"Bogle\", \"Egan\", \"El Mohamady\", \"S\\u00f6y\\u00fcnc\\u00fc\", \"Stephens\", \"Fern\\u00e1ndez\", \"Luiz Moreira Marinho\", \"Alonso\", \"O'Shea\", \"Lamptey\", \"Matip\", \"Dann\", \"Doherty\", \"S\\u00e1nchez\", \"Luiz Rosa\", \"Mendy\", \"Koch\", \"Basham\", \"Laporte\", \"Ait Nouri\", \"Christensen\", \"Cahill\", \"Ajayi\", \"Clark\", \"Coleman\", \"Baldock\", \"Phillips\", \"Mitchell\", \"Burn\", \"van Aanholt\", \"Ampadu\", \"Balbuena\", \"Masuaku\", \"Zinchenko\", \"Lewis\", \"Lascelles\", \"Magalh\\u00e3es\", \"Boly\", \"Maitland-Niles\", \"Tete\", \"Godfrey\", \"Pieters\", \"Mina\", \"Davies\", \"Aurier\", \"Fofana\", \"Castagne\", \"Robinson\", \"Cooper\", \"Reguil\\u00f3n\", \"Townsend\", \"Digne\", \"Holgate\", \"Dier\", \"Ward\", \"Thiago\", \"Alderweireld\", \"Struijk\", \"Walker\", \"Kilman\", \"R\\u00fcdiger\", \"Evans\", \"Webster\", \"Dawson\", \"Taylor\", \"Furlong\", \"Tierney\", \"Bartley\", \"Alexander-Arnold\", \"Bertrand\", \"Tarkowski\", \"Cabral Semedo\", \"Zouma\", \"Beller\\u00edn\", \"Azpilicueta\", \"Vestergaard\", \"Walker-Peters\", \"Ayling\", \"Veltman\", \"James\", \"Ogbonna\", \"Robertson\", \"Cash\", \"Mee\", \"Sa\\u00efss\", \"Holding\", \"White\", \"Chilwell\", \"Lindel\\u00f6f\", \"Bednarek\", \"Alioski\", \"Lowton\", \"Coady\", \"Keane\", \"Andersen\", \"Dunk\", \"Adarabioyo\", \"Cancelo\", \"Justin\", \"Coufal\", \"Shaw\", \"Maguire\", \"Mings\", \"Wan-Bissaka\", \"Gato Alves Dias\", \"Konsa Ngoyo\", \"Aina\", \"Targett\", \"Cresswell\", \"Stones\", \"Dallas\"], \"xaxis\": \"x\", \"y\": [-0.8, -0.2, 0.0, 0.0, 0.0, 0.0, 0.0, 0.0, 0.0, 0.0, 0.0, 0.0, 0.0, 0.0, 0.0, 0.0, 0.0, 0.0, 0.0, 0.0, 0.0, 0.0, 0.0, 0.0, 0.0, 0.0, 0.0, 0.0, 0.0, 0.0, 0.0, 0.0, 0.0, 0.0, 0.0, 0.0, 0.0, 0.0, 0.0, 0.0, 0.0, 0.0, 0.0, 0.0, 0.0, 0.0, 0.0, 0.0, 0.0, 0.0, 0.0, 0.0, 0.0, 0.0, 0.0, 0.0, 0.0, 0.0, 0.0, 0.0, 0.2, 0.2, 0.2, 0.2, 0.2, 0.3, 0.3, 0.4, 0.5, 0.5, 0.5, 0.5, 0.5, 0.5, 0.6, 0.6, 0.6, 0.7, 0.9, 0.9, 1.0, 1.2, 1.2, 1.2, 1.3, 1.5, 1.5, 1.5, 1.6, 1.6, 1.7, 1.8, 1.9, 2.1, 2.1, 2.3, 2.4, 2.6, 2.9, 3.0, 3.0, 3.0, 3.1, 3.3, 3.4, 3.8, 3.9, 3.9, 4.2, 4.5, 4.6, 4.8, 4.8, 4.9, 5.0, 5.1, 5.2, 5.3, 5.6, 5.6, 5.7, 6.0, 6.1, 6.2, 6.4, 6.4, 6.5, 6.7, 6.7, 7.0, 7.0, 7.0, 7.2, 7.2, 7.4, 7.4, 7.6, 7.6, 7.8, 7.9, 8.0, 8.1, 8.1, 8.1, 8.1, 8.3, 8.3, 8.4, 8.5, 8.7, 8.8, 8.9, 9.0, 9.0, 9.0, 9.2, 9.3, 9.6, 9.8, 9.8, 9.8, 10.4, 10.5, 10.5, 10.8, 11.1, 11.1, 11.2, 11.4, 11.4, 11.5, 11.6, 11.7, 11.8, 11.9, 12.0, 12.1, 12.2, 12.3, 12.3, 12.5, 12.8, 13.0, 13.0, 13.0, 13.2, 13.4, 13.8, 13.8, 14.2, 14.2, 14.4, 14.5, 14.7, 14.7, 15.0, 15.4, 15.4, 15.8, 16.3, 16.4, 16.6, 16.6, 17.0, 17.0, 17.3, 17.3, 17.4, 17.4, 17.5, 17.6, 17.8, 17.8, 17.9, 18.0, 18.1, 18.3, 18.5, 18.6, 18.9, 19.2, 19.6, 19.8, 20.4, 20.4, 20.5, 20.6, 20.7, 20.8, 20.9, 21.3, 21.4, 21.5, 21.7, 22.0, 23.1, 23.1, 23.7, 27.1], \"yaxis\": \"y\"}, {\"customdata\": [[40], [42], [48], [48], [40], [40], [40], [38], [38], [40], [43], [43], [43], [42], [41], [40], [40], [39], [40], [40], [40], [38], [49], [40], [40], [49], [39], [40], [44], [40], [40], [43], [39], [43], [47], [47], [40], [40], [39], [43], [39], [48], [43], [48], [48], [41], [47], [40], [43], [39], [45], [45], [44], [45], [39], [40], [40], [39], [43], [44], [40], [41], [41], [42], [49], [39], [39], [48], [41], [43], [42], [44], [38], [40], [47], [47], [50], [44], [44], [47], [39], [43], [43], [41], [39], [40], [41], [47], [43], [49], [42], [45], [52], [42], [38], [44], [62], [38], [45], [54], [44], [43], [42], [43], [44], [47], [59], [54], [53], [44], [50], [50], [44], [39], [44], [39], [48], [45], [39], [48], [42], [50], [46], [45], [44], [42], [43], [42], [43], [47], [43], [53], [46], [47], [54], [57], [42], [46], [54], [42], [56], [52], [54], [59], [43], [46], [60], [50], [47], [45], [48], [45], [48], [49], [41], [38], [42], [54], [43], [41], [43], [55], [41], [42], [49], [54], [46], [43], [50], [43], [55], [45], [52], [50], [57], [44], [43], [55], [44], [62], [48], [46], [43], [56], [54], [40], [61], [39], [47], [55], [43], [45], [44], [45], [53], [44], [74], [50], [53], [52], [53], [50], [59], [47], [47], [44], [44], [50], [47], [71], [50], [49], [49], [42], [45], [58], [48], [48], [43], [44], [48], [51], [45], [50], [45], [60], [49], [46], [53], [55], [54], [57], [62], [47], [45], [51], [59], [52], [51]], \"hovertemplate\": \"second_name=%{x}<br>total_points=%{y}<br>now_cost=%{customdata[0]}<extra></extra>\", \"legendgroup\": \"\", \"marker\": {\"color\": \"#636efa\", \"symbol\": \"circle\"}, \"mode\": \"markers\", \"name\": \"\", \"orientation\": \"v\", \"showlegend\": false, \"type\": \"scatter\", \"x\": [\"Ramsay\", \"Taylor\", \"Papastathopoulos\", \"Davies\", \"Lonwijk\", \"Berardi\", \"Cresswell\", \"Casey\", \"Douglas\", \"Daley-Campbell\", \"Benkovic\", \"Sessegnon\", \"Mawson\", \"Christie\", \"Hector\", \"Astley\", \"John\", \"Branthwaite\", \"Hannam\", \"Inniss\", \"Woods\", \"Ferguson\", \"Otamendi\", \"Mbete\", \"Harwood-Bellis\", \"Smalling\", \"Marques\", \"Richards\", \"Bennett\", \"Baptiste\", \"Alves\", \"Kipre\", \"Carter-Vickers\", \"Foyth\", \"Sessegnon\", \"Rose\", \"Tchaptchet\", \"Gordon\", \"Watts\", \"Lejeune\", \"Mengi\", \"Dalot Teixeira\", \"Fosu-Mensah\", \"Jones\", \"Rojo\", \"Kelly\", \"Tomori\", \"Bueno\", \"Guilbert\", \"Gibson\", \"Bree\", \"Karbownik\", \"Engels\", \"Montoya\", \"Thomas\", \"Saliba\", \"Nartey\", \"Driscoll-Glennon\", \"Duffy\", \"Clarke\", \"Nkounkou\", \"Silva Nascimento Vinagre\", \"Le Marchand\", \"Odoi\", \"Tsimikas\", \"Buur\", \"Vokins\", \"Kolasinac\", \"Tuanzebe\", \"Kongolo\", \"Williams\", \"Bardsley\", \"Davis\", \"Peltier\", \"O'Connell\", \"Valery\", \"Mustafi\", \"Morgan\", \"Sakho\", \"Garcia\", \"Jagielka\", \"Kenny\", \"Gibbs\", \"Thomas\", \"Fernandes da Silva Junior\", \"Williams\", \"Hegazy\", \"Palmieri dos Santos\", \"Salisu\", \"Tanganga\", \"Ream\", \"Chambers\", \"Gomez\", \"Lowe\", \"Dunne\", \"Hoever\", \"van Dijk\", \"Williams\", \"Bryan\", \"Castro Otto\", \"Dummett\", \"Yedlin\", \"Robinson\", \"Long\", \"Tomkins\", \"Mar\\u00e7al\", \"Barbosa Pereira\", \"Ak\\u00e9\", \"Telles\", \"Ivanovic\", \"Kabak\", \"Rodon\", \"Mar\\u00ed\", \"Bryan\", \"Llorente\", \"Amartey\", \"Sch\\u00e4r\", \"Fuchs\", \"Johnson\", \"Bailly\", \"Fredericks\", \"Stevens\", \"Soares\", \"Clyne\", \"Hause\", \"Krafth\", \"Diop\", \"Manquillo\", \"Bogle\", \"Egan\", \"El Mohamady\", \"S\\u00f6y\\u00fcnc\\u00fc\", \"Stephens\", \"Fern\\u00e1ndez\", \"Luiz Moreira Marinho\", \"Alonso\", \"O'Shea\", \"Lamptey\", \"Matip\", \"Dann\", \"Doherty\", \"S\\u00e1nchez\", \"Luiz Rosa\", \"Mendy\", \"Koch\", \"Basham\", \"Laporte\", \"Ait Nouri\", \"Christensen\", \"Cahill\", \"Ajayi\", \"Clark\", \"Coleman\", \"Baldock\", \"Phillips\", \"Mitchell\", \"Burn\", \"van Aanholt\", \"Ampadu\", \"Balbuena\", \"Masuaku\", \"Zinchenko\", \"Lewis\", \"Lascelles\", \"Magalh\\u00e3es\", \"Boly\", \"Maitland-Niles\", \"Tete\", \"Godfrey\", \"Pieters\", \"Mina\", \"Davies\", \"Aurier\", \"Fofana\", \"Castagne\", \"Robinson\", \"Cooper\", \"Reguil\\u00f3n\", \"Townsend\", \"Digne\", \"Holgate\", \"Dier\", \"Ward\", \"Thiago\", \"Alderweireld\", \"Struijk\", \"Walker\", \"Kilman\", \"R\\u00fcdiger\", \"Evans\", \"Webster\", \"Dawson\", \"Taylor\", \"Furlong\", \"Tierney\", \"Bartley\", \"Alexander-Arnold\", \"Bertrand\", \"Tarkowski\", \"Cabral Semedo\", \"Zouma\", \"Beller\\u00edn\", \"Azpilicueta\", \"Vestergaard\", \"Walker-Peters\", \"Ayling\", \"Veltman\", \"James\", \"Ogbonna\", \"Robertson\", \"Cash\", \"Mee\", \"Sa\\u00efss\", \"Holding\", \"White\", \"Chilwell\", \"Lindel\\u00f6f\", \"Bednarek\", \"Alioski\", \"Lowton\", \"Coady\", \"Keane\", \"Andersen\", \"Dunk\", \"Adarabioyo\", \"Cancelo\", \"Justin\", \"Coufal\", \"Shaw\", \"Maguire\", \"Mings\", \"Wan-Bissaka\", \"Gato Alves Dias\", \"Konsa Ngoyo\", \"Aina\", \"Targett\", \"Cresswell\", \"Stones\", \"Dallas\"], \"xaxis\": \"x\", \"y\": [-3.0, -1.0, 0.0, 0.0, 0.0, 0.0, 0.0, 0.0, 0.0, 0.0, 0.0, 0.0, 0.0, 0.0, 0.0, 0.0, 0.0, 0.0, 0.0, 0.0, 0.0, 0.0, 0.0, 0.0, 0.0, 0.0, 0.0, 0.0, 0.0, 0.0, 0.0, 0.0, 0.0, 0.0, 0.0, 0.0, 0.0, 0.0, 0.0, 0.0, 0.0, 0.0, 0.0, 0.0, 0.0, 0.0, 0.0, 0.0, 0.0, 0.0, 0.0, 0.0, 0.0, 0.0, 0.0, 0.0, 0.0, 0.0, 0.0, 0.0, 1.0, 1.0, 1.0, 1.0, 1.0, 1.0, 1.0, 2.0, 2.0, 2.0, 2.0, 2.0, 2.0, 2.0, 3.0, 3.0, 3.0, 3.0, 4.0, 4.0, 4.0, 5.0, 5.0, 5.0, 5.0, 6.0, 6.0, 7.0, 7.0, 8.0, 7.0, 8.0, 10.0, 9.0, 8.0, 10.0, 15.0, 10.0, 13.0, 16.0, 13.0, 13.0, 13.0, 14.0, 15.0, 18.0, 23.0, 21.0, 22.0, 20.0, 23.0, 24.0, 21.0, 19.0, 22.0, 20.0, 25.0, 24.0, 22.0, 27.0, 24.0, 30.0, 28.0, 28.0, 28.0, 27.0, 28.0, 28.0, 29.0, 33.0, 30.0, 37.0, 33.0, 34.0, 40.0, 42.0, 32.0, 35.0, 42.0, 33.0, 45.0, 42.0, 44.0, 48.0, 35.0, 38.0, 50.0, 42.0, 40.0, 39.0, 42.0, 40.0, 43.0, 44.0, 37.0, 35.0, 39.0, 52.0, 42.0, 40.0, 42.0, 57.0, 43.0, 44.0, 53.0, 60.0, 51.0, 48.0, 57.0, 49.0, 63.0, 52.0, 61.0, 59.0, 68.0, 53.0, 52.0, 67.0, 54.0, 76.0, 60.0, 59.0, 56.0, 73.0, 70.0, 53.0, 82.0, 54.0, 65.0, 78.0, 61.0, 65.0, 64.0, 66.0, 78.0, 66.0, 114.0, 77.0, 84.0, 85.0, 87.0, 83.0, 98.0, 80.0, 80.0, 76.0, 76.0, 87.0, 82.0, 124.0, 88.0, 87.0, 87.0, 75.0, 81.0, 105.0, 88.0, 89.0, 80.0, 83.0, 92.0, 100.0, 89.0, 102.0, 92.0, 123.0, 101.0, 95.0, 110.0, 115.0, 115.0, 122.0, 133.0, 102.0, 99.0, 118.0, 136.0, 123.0, 138.0], \"yaxis\": \"y\"}],                        {\"barmode\": \"relative\", \"legend\": {\"tracegroupgap\": 0}, \"margin\": {\"t\": 60}, \"template\": {\"data\": {\"bar\": [{\"error_x\": {\"color\": \"#2a3f5f\"}, \"error_y\": {\"color\": \"#2a3f5f\"}, \"marker\": {\"line\": {\"color\": \"#E5ECF6\", \"width\": 0.5}}, \"type\": \"bar\"}], \"barpolar\": [{\"marker\": {\"line\": {\"color\": \"#E5ECF6\", \"width\": 0.5}}, \"type\": \"barpolar\"}], \"carpet\": [{\"aaxis\": {\"endlinecolor\": \"#2a3f5f\", \"gridcolor\": \"white\", \"linecolor\": \"white\", \"minorgridcolor\": \"white\", \"startlinecolor\": \"#2a3f5f\"}, \"baxis\": {\"endlinecolor\": \"#2a3f5f\", \"gridcolor\": \"white\", \"linecolor\": \"white\", \"minorgridcolor\": \"white\", \"startlinecolor\": \"#2a3f5f\"}, \"type\": \"carpet\"}], \"choropleth\": [{\"colorbar\": {\"outlinewidth\": 0, \"ticks\": \"\"}, \"type\": \"choropleth\"}], \"contour\": [{\"colorbar\": {\"outlinewidth\": 0, \"ticks\": \"\"}, \"colorscale\": [[0.0, \"#0d0887\"], [0.1111111111111111, \"#46039f\"], [0.2222222222222222, \"#7201a8\"], [0.3333333333333333, \"#9c179e\"], [0.4444444444444444, \"#bd3786\"], [0.5555555555555556, \"#d8576b\"], [0.6666666666666666, \"#ed7953\"], [0.7777777777777778, \"#fb9f3a\"], [0.8888888888888888, \"#fdca26\"], [1.0, \"#f0f921\"]], \"type\": \"contour\"}], \"contourcarpet\": [{\"colorbar\": {\"outlinewidth\": 0, \"ticks\": \"\"}, \"type\": \"contourcarpet\"}], \"heatmap\": [{\"colorbar\": {\"outlinewidth\": 0, \"ticks\": \"\"}, \"colorscale\": [[0.0, \"#0d0887\"], [0.1111111111111111, \"#46039f\"], [0.2222222222222222, \"#7201a8\"], [0.3333333333333333, \"#9c179e\"], [0.4444444444444444, \"#bd3786\"], [0.5555555555555556, \"#d8576b\"], [0.6666666666666666, \"#ed7953\"], [0.7777777777777778, \"#fb9f3a\"], [0.8888888888888888, \"#fdca26\"], [1.0, \"#f0f921\"]], \"type\": \"heatmap\"}], \"heatmapgl\": [{\"colorbar\": {\"outlinewidth\": 0, \"ticks\": \"\"}, \"colorscale\": [[0.0, \"#0d0887\"], [0.1111111111111111, \"#46039f\"], [0.2222222222222222, \"#7201a8\"], [0.3333333333333333, \"#9c179e\"], [0.4444444444444444, \"#bd3786\"], [0.5555555555555556, \"#d8576b\"], [0.6666666666666666, \"#ed7953\"], [0.7777777777777778, \"#fb9f3a\"], [0.8888888888888888, \"#fdca26\"], [1.0, \"#f0f921\"]], \"type\": \"heatmapgl\"}], \"histogram\": [{\"marker\": {\"colorbar\": {\"outlinewidth\": 0, \"ticks\": \"\"}}, \"type\": \"histogram\"}], \"histogram2d\": [{\"colorbar\": {\"outlinewidth\": 0, \"ticks\": \"\"}, \"colorscale\": [[0.0, \"#0d0887\"], [0.1111111111111111, \"#46039f\"], [0.2222222222222222, \"#7201a8\"], [0.3333333333333333, \"#9c179e\"], [0.4444444444444444, \"#bd3786\"], [0.5555555555555556, \"#d8576b\"], [0.6666666666666666, \"#ed7953\"], [0.7777777777777778, \"#fb9f3a\"], [0.8888888888888888, \"#fdca26\"], [1.0, \"#f0f921\"]], \"type\": \"histogram2d\"}], \"histogram2dcontour\": [{\"colorbar\": {\"outlinewidth\": 0, \"ticks\": \"\"}, \"colorscale\": [[0.0, \"#0d0887\"], [0.1111111111111111, \"#46039f\"], [0.2222222222222222, \"#7201a8\"], [0.3333333333333333, \"#9c179e\"], [0.4444444444444444, \"#bd3786\"], [0.5555555555555556, \"#d8576b\"], [0.6666666666666666, \"#ed7953\"], [0.7777777777777778, \"#fb9f3a\"], [0.8888888888888888, \"#fdca26\"], [1.0, \"#f0f921\"]], \"type\": \"histogram2dcontour\"}], \"mesh3d\": [{\"colorbar\": {\"outlinewidth\": 0, \"ticks\": \"\"}, \"type\": \"mesh3d\"}], \"parcoords\": [{\"line\": {\"colorbar\": {\"outlinewidth\": 0, \"ticks\": \"\"}}, \"type\": \"parcoords\"}], \"pie\": [{\"automargin\": true, \"type\": \"pie\"}], \"scatter\": [{\"marker\": {\"colorbar\": {\"outlinewidth\": 0, \"ticks\": \"\"}}, \"type\": \"scatter\"}], \"scatter3d\": [{\"line\": {\"colorbar\": {\"outlinewidth\": 0, \"ticks\": \"\"}}, \"marker\": {\"colorbar\": {\"outlinewidth\": 0, \"ticks\": \"\"}}, \"type\": \"scatter3d\"}], \"scattercarpet\": [{\"marker\": {\"colorbar\": {\"outlinewidth\": 0, \"ticks\": \"\"}}, \"type\": \"scattercarpet\"}], \"scattergeo\": [{\"marker\": {\"colorbar\": {\"outlinewidth\": 0, \"ticks\": \"\"}}, \"type\": \"scattergeo\"}], \"scattergl\": [{\"marker\": {\"colorbar\": {\"outlinewidth\": 0, \"ticks\": \"\"}}, \"type\": \"scattergl\"}], \"scattermapbox\": [{\"marker\": {\"colorbar\": {\"outlinewidth\": 0, \"ticks\": \"\"}}, \"type\": \"scattermapbox\"}], \"scatterpolar\": [{\"marker\": {\"colorbar\": {\"outlinewidth\": 0, \"ticks\": \"\"}}, \"type\": \"scatterpolar\"}], \"scatterpolargl\": [{\"marker\": {\"colorbar\": {\"outlinewidth\": 0, \"ticks\": \"\"}}, \"type\": \"scatterpolargl\"}], \"scatterternary\": [{\"marker\": {\"colorbar\": {\"outlinewidth\": 0, \"ticks\": \"\"}}, \"type\": \"scatterternary\"}], \"surface\": [{\"colorbar\": {\"outlinewidth\": 0, \"ticks\": \"\"}, \"colorscale\": [[0.0, \"#0d0887\"], [0.1111111111111111, \"#46039f\"], [0.2222222222222222, \"#7201a8\"], [0.3333333333333333, \"#9c179e\"], [0.4444444444444444, \"#bd3786\"], [0.5555555555555556, \"#d8576b\"], [0.6666666666666666, \"#ed7953\"], [0.7777777777777778, \"#fb9f3a\"], [0.8888888888888888, \"#fdca26\"], [1.0, \"#f0f921\"]], \"type\": \"surface\"}], \"table\": [{\"cells\": {\"fill\": {\"color\": \"#EBF0F8\"}, \"line\": {\"color\": \"white\"}}, \"header\": {\"fill\": {\"color\": \"#C8D4E3\"}, \"line\": {\"color\": \"white\"}}, \"type\": \"table\"}]}, \"layout\": {\"annotationdefaults\": {\"arrowcolor\": \"#2a3f5f\", \"arrowhead\": 0, \"arrowwidth\": 1}, \"autotypenumbers\": \"strict\", \"coloraxis\": {\"colorbar\": {\"outlinewidth\": 0, \"ticks\": \"\"}}, \"colorscale\": {\"diverging\": [[0, \"#8e0152\"], [0.1, \"#c51b7d\"], [0.2, \"#de77ae\"], [0.3, \"#f1b6da\"], [0.4, \"#fde0ef\"], [0.5, \"#f7f7f7\"], [0.6, \"#e6f5d0\"], [0.7, \"#b8e186\"], [0.8, \"#7fbc41\"], [0.9, \"#4d9221\"], [1, \"#276419\"]], \"sequential\": [[0.0, \"#0d0887\"], [0.1111111111111111, \"#46039f\"], [0.2222222222222222, \"#7201a8\"], [0.3333333333333333, \"#9c179e\"], [0.4444444444444444, \"#bd3786\"], [0.5555555555555556, \"#d8576b\"], [0.6666666666666666, \"#ed7953\"], [0.7777777777777778, \"#fb9f3a\"], [0.8888888888888888, \"#fdca26\"], [1.0, \"#f0f921\"]], \"sequentialminus\": [[0.0, \"#0d0887\"], [0.1111111111111111, \"#46039f\"], [0.2222222222222222, \"#7201a8\"], [0.3333333333333333, \"#9c179e\"], [0.4444444444444444, \"#bd3786\"], [0.5555555555555556, \"#d8576b\"], [0.6666666666666666, \"#ed7953\"], [0.7777777777777778, \"#fb9f3a\"], [0.8888888888888888, \"#fdca26\"], [1.0, \"#f0f921\"]]}, \"colorway\": [\"#636efa\", \"#EF553B\", \"#00cc96\", \"#ab63fa\", \"#FFA15A\", \"#19d3f3\", \"#FF6692\", \"#B6E880\", \"#FF97FF\", \"#FECB52\"], \"font\": {\"color\": \"#2a3f5f\"}, \"geo\": {\"bgcolor\": \"white\", \"lakecolor\": \"white\", \"landcolor\": \"#E5ECF6\", \"showlakes\": true, \"showland\": true, \"subunitcolor\": \"white\"}, \"hoverlabel\": {\"align\": \"left\"}, \"hovermode\": \"closest\", \"mapbox\": {\"style\": \"light\"}, \"paper_bgcolor\": \"white\", \"plot_bgcolor\": \"#E5ECF6\", \"polar\": {\"angularaxis\": {\"gridcolor\": \"white\", \"linecolor\": \"white\", \"ticks\": \"\"}, \"bgcolor\": \"#E5ECF6\", \"radialaxis\": {\"gridcolor\": \"white\", \"linecolor\": \"white\", \"ticks\": \"\"}}, \"scene\": {\"xaxis\": {\"backgroundcolor\": \"#E5ECF6\", \"gridcolor\": \"white\", \"gridwidth\": 2, \"linecolor\": \"white\", \"showbackground\": true, \"ticks\": \"\", \"zerolinecolor\": \"white\"}, \"yaxis\": {\"backgroundcolor\": \"#E5ECF6\", \"gridcolor\": \"white\", \"gridwidth\": 2, \"linecolor\": \"white\", \"showbackground\": true, \"ticks\": \"\", \"zerolinecolor\": \"white\"}, \"zaxis\": {\"backgroundcolor\": \"#E5ECF6\", \"gridcolor\": \"white\", \"gridwidth\": 2, \"linecolor\": \"white\", \"showbackground\": true, \"ticks\": \"\", \"zerolinecolor\": \"white\"}}, \"shapedefaults\": {\"line\": {\"color\": \"#2a3f5f\"}}, \"ternary\": {\"aaxis\": {\"gridcolor\": \"white\", \"linecolor\": \"white\", \"ticks\": \"\"}, \"baxis\": {\"gridcolor\": \"white\", \"linecolor\": \"white\", \"ticks\": \"\"}, \"bgcolor\": \"#E5ECF6\", \"caxis\": {\"gridcolor\": \"white\", \"linecolor\": \"white\", \"ticks\": \"\"}}, \"title\": {\"x\": 0.05}, \"xaxis\": {\"automargin\": true, \"gridcolor\": \"white\", \"linecolor\": \"white\", \"ticks\": \"\", \"title\": {\"standoff\": 15}, \"zerolinecolor\": \"white\", \"zerolinewidth\": 2}, \"yaxis\": {\"automargin\": true, \"gridcolor\": \"white\", \"linecolor\": \"white\", \"ticks\": \"\", \"title\": {\"standoff\": 15}, \"zerolinecolor\": \"white\", \"zerolinewidth\": 2}}}, \"xaxis\": {\"anchor\": \"y\", \"domain\": [0.0, 1.0], \"title\": {\"text\": \"second_name\"}}, \"yaxis\": {\"anchor\": \"x\", \"domain\": [0.0, 1.0], \"title\": {\"text\": \"value\"}}},                        {\"responsive\": true}                    ).then(function(){\n",
       "                            \n",
       "var gd = document.getElementById('054122ae-25c3-401b-a932-b80b16dce659');\n",
       "var x = new MutationObserver(function (mutations, observer) {{\n",
       "        var display = window.getComputedStyle(gd).display;\n",
       "        if (!display || display === 'none') {{\n",
       "            console.log([gd, 'removed!']);\n",
       "            Plotly.purge(gd);\n",
       "            observer.disconnect();\n",
       "        }}\n",
       "}});\n",
       "\n",
       "// Listen for the removal of the full notebook cells\n",
       "var notebookContainer = gd.closest('#notebook-container');\n",
       "if (notebookContainer) {{\n",
       "    x.observe(notebookContainer, {childList: true});\n",
       "}}\n",
       "\n",
       "// Listen for the clearing of the current output cell\n",
       "var outputEl = gd.closest('.output');\n",
       "if (outputEl) {{\n",
       "    x.observe(outputEl, {childList: true});\n",
       "}}\n",
       "\n",
       "                        })                };                });            </script>        </div>"
      ]
     },
     "metadata": {},
     "output_type": "display_data"
    },
    {
     "data": {
      "application/vnd.plotly.v1+json": {
       "config": {
        "plotlyServerURL": "https://plot.ly"
       },
       "data": [
        {
         "alignmentgroup": "True",
         "customdata": [
          [
           "Southampton"
          ],
          [
           "Arsenal"
          ],
          [
           "Man City"
          ],
          [
           "Liverpool"
          ],
          [
           "Liverpool"
          ],
          [
           "Liverpool"
          ],
          [
           "Liverpool"
          ],
          [
           "Wolves"
          ],
          [
           "Leeds"
          ],
          [
           "Leeds"
          ],
          [
           "Leeds"
          ],
          [
           "Leeds"
          ],
          [
           "Leeds"
          ],
          [
           "Leicester"
          ],
          [
           "Leicester"
          ],
          [
           "Leicester"
          ],
          [
           "Leicester"
          ],
          [
           "Fulham"
          ],
          [
           "Fulham"
          ],
          [
           "Fulham"
          ],
          [
           "Fulham"
          ],
          [
           "Everton"
          ],
          [
           "Everton"
          ],
          [
           "Crystal Palace"
          ],
          [
           "Crystal Palace"
          ],
          [
           "Chelsea"
          ],
          [
           "Man City"
          ],
          [
           "Man City"
          ],
          [
           "Man City"
          ],
          [
           "Man City"
          ],
          [
           "Wolves"
          ],
          [
           "Wolves"
          ],
          [
           "Wolves"
          ],
          [
           "West Ham"
          ],
          [
           "West Ham"
          ],
          [
           "West Brom"
          ],
          [
           "Spurs"
          ],
          [
           "Spurs"
          ],
          [
           "Spurs"
          ],
          [
           "Southampton"
          ],
          [
           "Southampton"
          ],
          [
           "Burnley"
          ],
          [
           "Southampton"
          ],
          [
           "Southampton"
          ],
          [
           "Sheffield Utd"
          ],
          [
           "Sheffield Utd"
          ],
          [
           "Sheffield Utd"
          ],
          [
           "Newcastle"
          ],
          [
           "Newcastle"
          ],
          [
           "Man Utd"
          ],
          [
           "Man Utd"
          ],
          [
           "Man Utd"
          ],
          [
           "Man Utd"
          ],
          [
           "Man Utd"
          ],
          [
           "Southampton"
          ],
          [
           "Burnley"
          ],
          [
           "Wolves"
          ],
          [
           "Brighton"
          ],
          [
           "Aston Villa"
          ],
          [
           "Aston Villa"
          ],
          [
           "Aston Villa"
          ],
          [
           "Brighton"
          ],
          [
           "Brighton"
          ],
          [
           "Aston Villa"
          ],
          [
           "Arsenal"
          ],
          [
           "Aston Villa"
          ],
          [
           "Brighton"
          ],
          [
           "Arsenal"
          ],
          [
           "Brighton"
          ],
          [
           "Brighton"
          ],
          [
           "Sheffield Utd"
          ],
          [
           "Man Utd"
          ],
          [
           "Everton"
          ],
          [
           "Brighton"
          ],
          [
           "Leicester"
          ],
          [
           "Newcastle"
          ],
          [
           "Leicester"
          ],
          [
           "Brighton"
          ],
          [
           "West Ham"
          ],
          [
           "Arsenal"
          ],
          [
           "Southampton"
          ],
          [
           "West Brom"
          ],
          [
           "Chelsea"
          ],
          [
           "West Brom"
          ],
          [
           "Brighton"
          ],
          [
           "Leicester"
          ],
          [
           "Everton"
          ],
          [
           "West Brom"
          ],
          [
           "Southampton"
          ],
          [
           "Wolves"
          ],
          [
           "Everton"
          ],
          [
           "Fulham"
          ],
          [
           "Brighton"
          ],
          [
           "West Brom"
          ],
          [
           "Fulham"
          ],
          [
           "Wolves"
          ],
          [
           "Fulham"
          ],
          [
           "Aston Villa"
          ],
          [
           "Brighton"
          ],
          [
           "Liverpool"
          ],
          [
           "Spurs"
          ],
          [
           "Burnley"
          ],
          [
           "Newcastle"
          ],
          [
           "Arsenal"
          ],
          [
           "Burnley"
          ],
          [
           "Leeds"
          ],
          [
           "West Brom"
          ],
          [
           "Spurs"
          ],
          [
           "Leicester"
          ],
          [
           "Leicester"
          ],
          [
           "West Ham"
          ],
          [
           "Liverpool"
          ],
          [
           "Man Utd"
          ],
          [
           "Brighton"
          ],
          [
           "Newcastle"
          ],
          [
           "Everton"
          ],
          [
           "Spurs"
          ],
          [
           "Aston Villa"
          ],
          [
           "Man Utd"
          ],
          [
           "Leeds"
          ],
          [
           "West Brom"
          ],
          [
           "Southampton"
          ],
          [
           "Leeds"
          ],
          [
           "Wolves"
          ],
          [
           "West Ham"
          ],
          [
           "Burnley"
          ],
          [
           "West Brom"
          ],
          [
           "Liverpool"
          ],
          [
           "Arsenal"
          ],
          [
           "Spurs"
          ],
          [
           "Crystal Palace"
          ],
          [
           "Aston Villa"
          ],
          [
           "West Ham"
          ],
          [
           "Aston Villa"
          ],
          [
           "Southampton"
          ],
          [
           "West Brom"
          ],
          [
           "Fulham"
          ],
          [
           "Everton"
          ],
          [
           "Liverpool"
          ],
          [
           "Man Utd"
          ],
          [
           "Spurs"
          ],
          [
           "Newcastle"
          ],
          [
           "Sheffield Utd"
          ],
          [
           "Arsenal"
          ],
          [
           "Man Utd"
          ],
          [
           "Spurs"
          ],
          [
           "Chelsea"
          ],
          [
           "Leicester"
          ],
          [
           "Chelsea"
          ],
          [
           "Southampton"
          ],
          [
           "West Brom"
          ],
          [
           "Everton"
          ],
          [
           "Brighton"
          ],
          [
           "Sheffield Utd"
          ],
          [
           "Newcastle"
          ],
          [
           "Arsenal"
          ],
          [
           "West Brom"
          ],
          [
           "Newcastle"
          ],
          [
           "Leeds"
          ],
          [
           "Brighton"
          ],
          [
           "Liverpool"
          ],
          [
           "Everton"
          ],
          [
           "Burnley"
          ],
          [
           "Leicester"
          ],
          [
           "West Ham"
          ],
          [
           "Southampton"
          ],
          [
           "Brighton"
          ],
          [
           "Southampton"
          ],
          [
           "Man Utd"
          ],
          [
           "Sheffield Utd"
          ],
          [
           "Arsenal"
          ],
          [
           "Chelsea"
          ],
          [
           "Arsenal"
          ],
          [
           "Newcastle"
          ],
          [
           "Newcastle"
          ],
          [
           "Arsenal"
          ],
          [
           "Spurs"
          ],
          [
           "Crystal Palace"
          ],
          [
           "Burnley"
          ],
          [
           "Sheffield Utd"
          ],
          [
           "Leicester"
          ],
          [
           "Man City"
          ],
          [
           "Sheffield Utd"
          ],
          [
           "Arsenal"
          ],
          [
           "Sheffield Utd"
          ],
          [
           "Man Utd"
          ],
          [
           "Crystal Palace"
          ],
          [
           "West Brom"
          ],
          [
           "Newcastle"
          ],
          [
           "Chelsea"
          ],
          [
           "Chelsea"
          ],
          [
           "Liverpool"
          ],
          [
           "Everton"
          ],
          [
           "Man Utd"
          ],
          [
           "Leicester"
          ],
          [
           "Crystal Palace"
          ],
          [
           "Liverpool"
          ],
          [
           "Fulham"
          ],
          [
           "Liverpool"
          ],
          [
           "Spurs"
          ],
          [
           "Liverpool"
          ],
          [
           "Newcastle"
          ],
          [
           "Fulham"
          ],
          [
           "Man City"
          ],
          [
           "West Ham"
          ],
          [
           "Man City"
          ],
          [
           "Aston Villa"
          ],
          [
           "Southampton"
          ],
          [
           "Liverpool"
          ],
          [
           "Aston Villa"
          ],
          [
           "Leeds"
          ],
          [
           "Newcastle"
          ],
          [
           "Arsenal"
          ],
          [
           "Arsenal"
          ],
          [
           "West Brom"
          ],
          [
           "Burnley"
          ],
          [
           "Chelsea"
          ],
          [
           "Southampton"
          ],
          [
           "Everton"
          ],
          [
           "Leeds"
          ],
          [
           "Wolves"
          ],
          [
           "Man City"
          ],
          [
           "Wolves"
          ],
          [
           "Aston Villa"
          ],
          [
           "Leicester"
          ],
          [
           "Wolves"
          ],
          [
           "Everton"
          ],
          [
           "Crystal Palace"
          ],
          [
           "Brighton"
          ],
          [
           "Fulham"
          ],
          [
           "Man City"
          ],
          [
           "Everton"
          ],
          [
           "Aston Villa"
          ],
          [
           "Crystal Palace"
          ],
          [
           "Brighton"
          ],
          [
           "Newcastle"
          ],
          [
           "Wolves"
          ],
          [
           "Crystal Palace"
          ],
          [
           "Fulham"
          ],
          [
           "Brighton"
          ],
          [
           "Fulham"
          ],
          [
           "Spurs"
          ],
          [
           "Burnley"
          ],
          [
           "Liverpool"
          ],
          [
           "Burnley"
          ],
          [
           "Liverpool"
          ],
          [
           "Crystal Palace"
          ],
          [
           "Man Utd"
          ],
          [
           "Crystal Palace"
          ],
          [
           "West Ham"
          ],
          [
           "Man City"
          ],
          [
           "Man Utd"
          ],
          [
           "West Ham"
          ],
          [
           "Leeds"
          ],
          [
           "Aston Villa"
          ],
          [
           "Spurs"
          ],
          [
           "Aston Villa"
          ],
          [
           "Leicester"
          ],
          [
           "Southampton"
          ],
          [
           "Aston Villa"
          ],
          [
           "Chelsea"
          ],
          [
           "Leicester"
          ],
          [
           "Man City"
          ],
          [
           "Man Utd"
          ],
          [
           "Wolves"
          ],
          [
           "Arsenal"
          ],
          [
           "West Ham"
          ],
          [
           "Leicester"
          ],
          [
           "Spurs"
          ],
          [
           "Brighton"
          ],
          [
           "Fulham"
          ],
          [
           "Chelsea"
          ],
          [
           "Leeds"
          ],
          [
           "West Brom"
          ],
          [
           "Southampton"
          ],
          [
           "Wolves"
          ],
          [
           "Leeds"
          ],
          [
           "West Ham"
          ],
          [
           "Man City"
          ]
         ],
         "hovertemplate": "second_name=%{x}<br>value=%{y}<br>team=%{customdata[0]}<extra></extra>",
         "legendgroup": "",
         "marker": {
          "color": "#636efa"
         },
         "name": "",
         "offsetgroup": "",
         "orientation": "v",
         "showlegend": false,
         "textposition": "auto",
         "type": "bar",
         "x": [
          "Jankewitz",
          "Özil",
          "Doyle",
          "Cain",
          "Clarkson",
          "Elliott",
          "Wilson",
          "Perry",
          "Jenkins",
          "Bogusz",
          "Stevens",
          "Grot",
          "Forshaw",
          "Suengchitthawon",
          "Flynn",
          "James",
          "Silva",
          "Seri",
          "Knockaert",
          "Johansen",
          "McDonald",
          "Broadhead",
          "Onyango",
          "Pierrick",
          "Meyer",
          "Anjorin",
          "Bernabé",
          "Palmer",
          "Nmecha",
          "Gomes",
          "Corbeanu",
          "Shabani",
          "Cavaco Jordao",
          "Coventry",
          "Wilshere",
          "Leko",
          "Devine",
          "Skipp",
          "Carvalho Fernandes",
          "Finnigan",
          "Ferry",
          "Mancini",
          "Chauke",
          "Boufal",
          "Maguire",
          "Brunt",
          "Freeman",
          "Aarons",
          "Atsu",
          "Diallo",
          "Pellistri",
          "Garner",
          "Chong",
          "Pereira",
          "Sims",
          "Goodridge",
          "Cundle",
          "Sanders",
          "Hayden",
          "Philogene-Bidace",
          "Lansbury",
          "Caicedo",
          "Weir",
          "Chukwuemeka",
          "Guendouzi",
          "Peleteiro Romallo",
          "Jenks",
          "Torreira",
          "Izquierdo",
          "Mooy",
          "Ndiaye",
          "Shoretire",
          "Gbamin",
          "Khadra",
          "Gray",
          "Anderson",
          "Leshabela",
          "Molumby",
          "Pereira Gomes",
          "Nelson",
          "Watts",
          "Harper",
          "Gilmour",
          "Field",
          "Tau",
          "Tavares",
          "Gordon",
          "Edwards",
          "Smallbone",
          "Gibbs-White",
          "Delph",
          "Kebano",
          "Moder",
          "Grosicki",
          "Onomah",
          "Otasowie",
          "Kamara",
          "Sanson",
          "Pröpper",
          "Oxlade-Chamberlain",
          "Alli",
          "Stephens",
          "Longstaff",
          "Martinelli Silva",
          "Benson",
          "Poveda-Ocampo",
          "Snodgrass",
          "Winks",
          "Ünder",
          "Choudhury",
          "Yarmolenko",
          "Keita",
          "van de Beek",
          "Jahanbakhsh",
          "Ritchie",
          "Anício Caldeira Duarte",
          "Lo Celso",
          "Hourihane",
          "Mata",
          "Shackleton",
          "Krovinovic",
          "Tella",
          "Hernández Domínguez",
          "Ferreira",
          "Lanzini",
          "Cork",
          "Yokuslu",
          "Shaqiri",
          "Ødegaard",
          "Lamela",
          "McCarthy",
          "Nakamba",
          "Noble",
          "Ramsey",
          "Diallo",
          "Livermore",
          "Cairney",
          "Marques Loureiro",
          "Alcántara do Nascimento",
          "James",
          "Bergwijn",
          "Longstaff",
          "Berge",
          "Partey",
          "Matic",
          "Bale",
          "Ziyech",
          "Praet",
          "Pulisic",
          "Minamino",
          "Diangana",
          "Davies",
          "Alzate",
          "Osborn",
          "Fraser",
          "El Sayed Elneny",
          "Sawyers",
          "Willock",
          "Roberts",
          "Mac Allister",
          "Milner",
          "Tavares Gomes",
          "Gudmundsson",
          "Pérez",
          "Benrahma",
          "Djenepo",
          "Lallana",
          "Redmond",
          "Greenwood",
          "Norwood",
          "Pépé",
          "Havertz",
          "Borges Da Silva",
          "Murphy",
          "Hayden",
          "Ceballos Fernández",
          "Sissoko",
          "McArthur",
          "Brady",
          "Lundstram",
          "Mendy",
          "Torres",
          "Fleck",
          "Aubameyang",
          "Burke",
          "Pogba",
          "Schlupp",
          "Phillips",
          "Shelvey",
          "Kovacic",
          "Hudson-Odoi",
          "Jones",
          "Iwobi",
          "Rodrigues de Paula Santos",
          "Albrighton",
          "Milivojevic",
          "Jota",
          "Lemina",
          "Tavares",
          "Rodrigues Moura da Silva",
          "Henderson",
          "Saint-Maximin",
          "Loftus-Cheek",
          "Veiga de Carvalho e Silva",
          "Lingard",
          "De Bruyne",
          "Barkley",
          "Walcott",
          "Mané",
          "Ibrahim Hassan",
          "Phillips",
          "Hendrick",
          "Smith Rowe",
          "Xhaka",
          "Gallagher",
          "Brownhill",
          "Kanté",
          "Romeu Vidal",
          "Rodríguez",
          "Sousa de Azevedo e Costa",
          "Traoré",
          "Sterling",
          "Santos Moutinho",
          "Soares de Paulo",
          "Ndidi",
          "Castelo Podence",
          "Sigurdsson",
          "Riedewald",
          "Bissouma",
          "Neves Abreu Cavaleiro",
          "Hernandez",
          "Doucouré",
          "El Ghazi",
          "Townsend",
          "March",
          "Almirón",
          "Dendoncker",
          "Kouyaté",
          "Zambo Anguissa",
          "Groß",
          "Reed",
          "Ndombele",
          "Westwood",
          "Salah",
          "McNeil",
          "Wijnaldum",
          "Eze",
          "Rashford",
          "Zaha",
          "Fornals",
          "Mahrez",
          "McTominay",
          "Rice",
          "Klich",
          "Traoré",
          "Højbjerg",
          "McGinn",
          "Maddison",
          "Armstrong",
          "Grealish",
          "Mount",
          "Tielemans",
          "Foden",
          "Borges Fernandes",
          "da Silva Neves",
          "Saka",
          "Bowen",
          "Barnes",
          "Son",
          "Trossard",
          "Lookman",
          "Frello Filho",
          "Dias Belloli",
          "Pereira",
          "Ward-Prowse",
          "Lomba Neto",
          "Harrison",
          "Soucek",
          "Gündogan"
         ],
         "xaxis": "x",
         "y": [
          -0.2,
          0,
          0,
          0,
          0,
          0,
          0,
          0,
          0,
          0,
          0,
          0,
          0,
          0,
          0,
          0,
          0,
          0,
          0,
          0,
          0,
          0,
          0,
          0,
          0,
          0,
          0,
          0,
          0,
          0,
          0,
          0,
          0,
          0,
          0,
          0,
          0,
          0,
          0,
          0,
          0,
          0,
          0,
          0,
          0,
          0,
          0,
          0,
          0,
          0,
          0,
          0,
          0,
          0,
          0,
          0,
          0,
          0,
          0,
          0,
          0,
          0,
          0,
          0,
          0,
          0,
          0,
          0,
          0,
          0,
          0.2,
          0.2,
          0.2,
          0.2,
          0.2,
          0.2,
          0.2,
          0.2,
          0.3,
          0.4,
          0.4,
          0.5,
          0.5,
          0.6,
          0.6,
          0.7,
          0.7,
          1.1,
          1.2,
          1.2,
          1.2,
          1.3,
          1.4,
          1.5,
          1.5,
          1.6,
          1.7,
          1.8,
          1.9,
          1.9,
          1.9,
          1.9,
          2.1,
          2.2,
          2.2,
          2.4,
          2.5,
          2.5,
          2.8,
          2.8,
          2.9,
          2.9,
          2.9,
          3,
          3.1,
          3.2,
          3.3,
          3.4,
          3.4,
          3.5,
          3.5,
          3.5,
          3.5,
          3.6,
          3.6,
          3.6,
          3.8,
          3.9,
          3.9,
          4,
          4.2,
          4.2,
          4.4,
          4.4,
          5.1,
          5.1,
          5.2,
          5.6,
          5.6,
          5.6,
          5.7,
          5.9,
          5.9,
          6.1,
          6.2,
          6.4,
          6.5,
          6.7,
          6.8,
          6.8,
          6.8,
          6.9,
          6.9,
          7,
          7,
          7.1,
          7.2,
          7.4,
          7.4,
          7.4,
          7.5,
          7.5,
          7.6,
          7.8,
          7.8,
          7.8,
          7.9,
          8,
          8,
          8.2,
          8.3,
          8.3,
          8.4,
          8.6,
          8.7,
          8.7,
          8.7,
          8.7,
          8.8,
          9,
          9,
          9,
          9.3,
          9.5,
          9.5,
          9.5,
          9.6,
          9.6,
          9.6,
          9.6,
          9.6,
          9.8,
          9.8,
          9.8,
          10,
          10,
          10.1,
          10.2,
          10.2,
          10.3,
          10.4,
          10.4,
          10.5,
          10.5,
          10.6,
          10.7,
          10.7,
          10.7,
          10.8,
          10.8,
          10.8,
          10.9,
          11,
          11,
          11.1,
          11.2,
          11.2,
          11.3,
          11.4,
          11.6,
          12,
          12.2,
          12.2,
          12.3,
          12.3,
          12.8,
          12.9,
          13,
          13.6,
          13.6,
          13.6,
          13.7,
          13.8,
          13.8,
          13.8,
          14.1,
          14.3,
          14.6,
          14.7,
          14.7,
          14.8,
          14.9,
          14.9,
          15.1,
          15.3,
          15.3,
          15.5,
          15.6,
          15.8,
          15.9,
          16.1,
          16.1,
          16.2,
          16.3,
          16.4,
          16.5,
          16.7,
          16.9,
          16.9,
          17.2,
          17.2,
          17.4,
          18.2,
          18.4,
          18.4,
          18.5,
          18.6,
          18.8,
          19.1,
          19.1,
          19.2,
          20,
          20.5,
          20.6,
          21.7,
          21.8,
          23,
          23.2,
          23.8
         ],
         "yaxis": "y"
        },
        {
         "customdata": [
          [
           45
          ],
          [
           67
          ],
          [
           44
          ],
          [
           45
          ],
          [
           45
          ],
          [
           43
          ],
          [
           51
          ],
          [
           45
          ],
          [
           45
          ],
          [
           43
          ],
          [
           43
          ],
          [
           47
          ],
          [
           48
          ],
          [
           45
          ],
          [
           45
          ],
          [
           43
          ],
          [
           44
          ],
          [
           46
          ],
          [
           50
          ],
          [
           47
          ],
          [
           47
          ],
          [
           45
          ],
          [
           45
          ],
          [
           43
          ],
          [
           47
          ],
          [
           45
          ],
          [
           45
          ],
          [
           44
          ],
          [
           45
          ],
          [
           45
          ],
          [
           45
          ],
          [
           44
          ],
          [
           43
          ],
          [
           45
          ],
          [
           49
          ],
          [
           45
          ],
          [
           44
          ],
          [
           44
          ],
          [
           47
          ],
          [
           45
          ],
          [
           45
          ],
          [
           44
          ],
          [
           44
          ],
          [
           54
          ],
          [
           44
          ],
          [
           45
          ],
          [
           50
          ],
          [
           48
          ],
          [
           52
          ],
          [
           54
          ],
          [
           52
          ],
          [
           44
          ],
          [
           44
          ],
          [
           48
          ],
          [
           43
          ],
          [
           45
          ],
          [
           45
          ],
          [
           45
          ],
          [
           45
          ],
          [
           45
          ],
          [
           43
          ],
          [
           50
          ],
          [
           45
          ],
          [
           45
          ],
          [
           47
          ],
          [
           59
          ],
          [
           45
          ],
          [
           47
          ],
          [
           55
          ],
          [
           50
          ],
          [
           45
          ],
          [
           45
          ],
          [
           50
          ],
          [
           45
          ],
          [
           51
          ],
          [
           45
          ],
          [
           44
          ],
          [
           45
          ],
          [
           61
          ],
          [
           51
          ],
          [
           45
          ],
          [
           43
          ],
          [
           44
          ],
          [
           48
          ],
          [
           49
          ],
          [
           44
          ],
          [
           43
          ],
          [
           47
          ],
          [
           43
          ],
          [
           49
          ],
          [
           48
          ],
          [
           47
          ],
          [
           50
          ],
          [
           52
          ],
          [
           46
          ],
          [
           45
          ],
          [
           48
          ],
          [
           55
          ],
          [
           47
          ],
          [
           63
          ],
          [
           74
          ],
          [
           42
          ],
          [
           48
          ],
          [
           49
          ],
          [
           45
          ],
          [
           42
          ],
          [
           56
          ],
          [
           51
          ],
          [
           57
          ],
          [
           46
          ],
          [
           55
          ],
          [
           52
          ],
          [
           66
          ],
          [
           54
          ],
          [
           49
          ],
          [
           57
          ],
          [
           69
          ],
          [
           59
          ],
          [
           58
          ],
          [
           48
          ],
          [
           49
          ],
          [
           43
          ],
          [
           57
          ],
          [
           47
          ],
          [
           64
          ],
          [
           50
          ],
          [
           45
          ],
          [
           64
          ],
          [
           59
          ],
          [
           57
          ],
          [
           43
          ],
          [
           43
          ],
          [
           45
          ],
          [
           45
          ],
          [
           45
          ],
          [
           47
          ],
          [
           52
          ],
          [
           52
          ],
          [
           55
          ],
          [
           62
          ],
          [
           70
          ],
          [
           46
          ],
          [
           49
          ],
          [
           49
          ],
          [
           47
          ],
          [
           92
          ],
          [
           79
          ],
          [
           52
          ],
          [
           82
          ],
          [
           60
          ],
          [
           50
          ],
          [
           52
          ],
          [
           42
          ],
          [
           47
          ],
          [
           56
          ],
          [
           42
          ],
          [
           46
          ],
          [
           47
          ],
          [
           46
          ],
          [
           53
          ],
          [
           53
          ],
          [
           53
          ],
          [
           54
          ],
          [
           60
          ],
          [
           60
          ],
          [
           54
          ],
          [
           62
          ],
          [
           64
          ],
          [
           70
          ],
          [
           45
          ],
          [
           76
          ],
          [
           82
          ],
          [
           75
          ],
          [
           49
          ],
          [
           46
          ],
          [
           47
          ],
          [
           47
          ],
          [
           52
          ],
          [
           50
          ],
          [
           49
          ],
          [
           42
          ],
          [
           69
          ],
          [
           56
          ],
          [
           114
          ],
          [
           41
          ],
          [
           76
          ],
          [
           53
          ],
          [
           51
          ],
          [
           53
          ],
          [
           53
          ],
          [
           57
          ],
          [
           44
          ],
          [
           59
          ],
          [
           53
          ],
          [
           52
          ],
          [
           56
          ],
          [
           70
          ],
          [
           45
          ],
          [
           54
          ],
          [
           66
          ],
          [
           54
          ],
          [
           51
          ],
          [
           59
          ],
          [
           74
          ],
          [
           64
          ],
          [
           120
          ],
          [
           59
          ],
          [
           58
          ],
          [
           118
          ],
          [
           52
          ],
          [
           49
          ],
          [
           45
          ],
          [
           42
          ],
          [
           52
          ],
          [
           55
          ],
          [
           49
          ],
          [
           49
          ],
          [
           45
          ],
          [
           77
          ],
          [
           50
          ],
          [
           60
          ],
          [
           113
          ],
          [
           51
          ],
          [
           48
          ],
          [
           48
          ],
          [
           53
          ],
          [
           68
          ],
          [
           44
          ],
          [
           44
          ],
          [
           53
          ],
          [
           53
          ],
          [
           52
          ],
          [
           52
          ],
          [
           55
          ],
          [
           50
          ],
          [
           56
          ],
          [
           46
          ],
          [
           48
          ],
          [
           45
          ],
          [
           58
          ],
          [
           44
          ],
          [
           59
          ],
          [
           53
          ],
          [
           125
          ],
          [
           57
          ],
          [
           53
          ],
          [
           58
          ],
          [
           95
          ],
          [
           71
          ],
          [
           58
          ],
          [
           82
          ],
          [
           49
          ],
          [
           47
          ],
          [
           52
          ],
          [
           59
          ],
          [
           49
          ],
          [
           55
          ],
          [
           71
          ],
          [
           55
          ],
          [
           75
          ],
          [
           72
          ],
          [
           65
          ],
          [
           60
          ],
          [
           116
          ],
          [
           51
          ],
          [
           52
          ],
          [
           59
          ],
          [
           67
          ],
          [
           94
          ],
          [
           57
          ],
          [
           50
          ],
          [
           47
          ],
          [
           56
          ],
          [
           54
          ],
          [
           59
          ],
          [
           57
          ],
          [
           54
          ],
          [
           53
          ],
          [
           60
          ]
         ],
         "hovertemplate": "second_name=%{x}<br>total_points=%{y}<br>now_cost=%{customdata[0]}<extra></extra>",
         "legendgroup": "",
         "marker": {
          "color": "#636efa",
          "symbol": "circle"
         },
         "mode": "markers",
         "name": "",
         "orientation": "v",
         "showlegend": false,
         "type": "scatter",
         "x": [
          "Jankewitz",
          "Özil",
          "Doyle",
          "Cain",
          "Clarkson",
          "Elliott",
          "Wilson",
          "Perry",
          "Jenkins",
          "Bogusz",
          "Stevens",
          "Grot",
          "Forshaw",
          "Suengchitthawon",
          "Flynn",
          "James",
          "Silva",
          "Seri",
          "Knockaert",
          "Johansen",
          "McDonald",
          "Broadhead",
          "Onyango",
          "Pierrick",
          "Meyer",
          "Anjorin",
          "Bernabé",
          "Palmer",
          "Nmecha",
          "Gomes",
          "Corbeanu",
          "Shabani",
          "Cavaco Jordao",
          "Coventry",
          "Wilshere",
          "Leko",
          "Devine",
          "Skipp",
          "Carvalho Fernandes",
          "Finnigan",
          "Ferry",
          "Mancini",
          "Chauke",
          "Boufal",
          "Maguire",
          "Brunt",
          "Freeman",
          "Aarons",
          "Atsu",
          "Diallo",
          "Pellistri",
          "Garner",
          "Chong",
          "Pereira",
          "Sims",
          "Goodridge",
          "Cundle",
          "Sanders",
          "Hayden",
          "Philogene-Bidace",
          "Lansbury",
          "Caicedo",
          "Weir",
          "Chukwuemeka",
          "Guendouzi",
          "Peleteiro Romallo",
          "Jenks",
          "Torreira",
          "Izquierdo",
          "Mooy",
          "Ndiaye",
          "Shoretire",
          "Gbamin",
          "Khadra",
          "Gray",
          "Anderson",
          "Leshabela",
          "Molumby",
          "Pereira Gomes",
          "Nelson",
          "Watts",
          "Harper",
          "Gilmour",
          "Field",
          "Tau",
          "Tavares",
          "Gordon",
          "Edwards",
          "Smallbone",
          "Gibbs-White",
          "Delph",
          "Kebano",
          "Moder",
          "Grosicki",
          "Onomah",
          "Otasowie",
          "Kamara",
          "Sanson",
          "Pröpper",
          "Oxlade-Chamberlain",
          "Alli",
          "Stephens",
          "Longstaff",
          "Martinelli Silva",
          "Benson",
          "Poveda-Ocampo",
          "Snodgrass",
          "Winks",
          "Ünder",
          "Choudhury",
          "Yarmolenko",
          "Keita",
          "van de Beek",
          "Jahanbakhsh",
          "Ritchie",
          "Anício Caldeira Duarte",
          "Lo Celso",
          "Hourihane",
          "Mata",
          "Shackleton",
          "Krovinovic",
          "Tella",
          "Hernández Domínguez",
          "Ferreira",
          "Lanzini",
          "Cork",
          "Yokuslu",
          "Shaqiri",
          "Ødegaard",
          "Lamela",
          "McCarthy",
          "Nakamba",
          "Noble",
          "Ramsey",
          "Diallo",
          "Livermore",
          "Cairney",
          "Marques Loureiro",
          "Alcántara do Nascimento",
          "James",
          "Bergwijn",
          "Longstaff",
          "Berge",
          "Partey",
          "Matic",
          "Bale",
          "Ziyech",
          "Praet",
          "Pulisic",
          "Minamino",
          "Diangana",
          "Davies",
          "Alzate",
          "Osborn",
          "Fraser",
          "El Sayed Elneny",
          "Sawyers",
          "Willock",
          "Roberts",
          "Mac Allister",
          "Milner",
          "Tavares Gomes",
          "Gudmundsson",
          "Pérez",
          "Benrahma",
          "Djenepo",
          "Lallana",
          "Redmond",
          "Greenwood",
          "Norwood",
          "Pépé",
          "Havertz",
          "Borges Da Silva",
          "Murphy",
          "Hayden",
          "Ceballos Fernández",
          "Sissoko",
          "McArthur",
          "Brady",
          "Lundstram",
          "Mendy",
          "Torres",
          "Fleck",
          "Aubameyang",
          "Burke",
          "Pogba",
          "Schlupp",
          "Phillips",
          "Shelvey",
          "Kovacic",
          "Hudson-Odoi",
          "Jones",
          "Iwobi",
          "Rodrigues de Paula Santos",
          "Albrighton",
          "Milivojevic",
          "Jota",
          "Lemina",
          "Tavares",
          "Rodrigues Moura da Silva",
          "Henderson",
          "Saint-Maximin",
          "Loftus-Cheek",
          "Veiga de Carvalho e Silva",
          "Lingard",
          "De Bruyne",
          "Barkley",
          "Walcott",
          "Mané",
          "Ibrahim Hassan",
          "Phillips",
          "Hendrick",
          "Smith Rowe",
          "Xhaka",
          "Gallagher",
          "Brownhill",
          "Kanté",
          "Romeu Vidal",
          "Rodríguez",
          "Sousa de Azevedo e Costa",
          "Traoré",
          "Sterling",
          "Santos Moutinho",
          "Soares de Paulo",
          "Ndidi",
          "Castelo Podence",
          "Sigurdsson",
          "Riedewald",
          "Bissouma",
          "Neves Abreu Cavaleiro",
          "Hernandez",
          "Doucouré",
          "El Ghazi",
          "Townsend",
          "March",
          "Almirón",
          "Dendoncker",
          "Kouyaté",
          "Zambo Anguissa",
          "Groß",
          "Reed",
          "Ndombele",
          "Westwood",
          "Salah",
          "McNeil",
          "Wijnaldum",
          "Eze",
          "Rashford",
          "Zaha",
          "Fornals",
          "Mahrez",
          "McTominay",
          "Rice",
          "Klich",
          "Traoré",
          "Højbjerg",
          "McGinn",
          "Maddison",
          "Armstrong",
          "Grealish",
          "Mount",
          "Tielemans",
          "Foden",
          "Borges Fernandes",
          "da Silva Neves",
          "Saka",
          "Bowen",
          "Barnes",
          "Son",
          "Trossard",
          "Lookman",
          "Frello Filho",
          "Dias Belloli",
          "Pereira",
          "Ward-Prowse",
          "Lomba Neto",
          "Harrison",
          "Soucek",
          "Gündogan"
         ],
         "xaxis": "x",
         "y": [
          -1,
          0,
          0,
          0,
          0,
          0,
          0,
          0,
          0,
          0,
          0,
          0,
          0,
          0,
          0,
          0,
          0,
          0,
          0,
          0,
          0,
          0,
          0,
          0,
          0,
          0,
          0,
          0,
          0,
          0,
          0,
          0,
          0,
          0,
          0,
          0,
          0,
          0,
          0,
          0,
          0,
          0,
          0,
          0,
          0,
          0,
          0,
          0,
          0,
          0,
          0,
          0,
          0,
          0,
          0,
          0,
          0,
          0,
          0,
          0,
          0,
          0,
          0,
          0,
          0,
          0,
          0,
          0,
          0,
          0,
          1,
          1,
          1,
          1,
          1,
          1,
          1,
          1,
          2,
          2,
          2,
          2,
          2,
          3,
          3,
          3,
          3,
          5,
          5,
          6,
          6,
          6,
          7,
          8,
          7,
          7,
          8,
          10,
          9,
          12,
          14,
          8,
          10,
          11,
          10,
          10,
          14,
          13,
          16,
          13,
          16,
          15,
          19,
          16,
          15,
          18,
          23,
          20,
          20,
          17,
          17,
          15,
          20,
          17,
          23,
          18,
          17,
          25,
          23,
          23,
          18,
          18,
          20,
          20,
          23,
          24,
          27,
          29,
          31,
          35,
          40,
          27,
          29,
          30,
          29,
          59,
          51,
          35,
          56,
          41,
          34,
          36,
          29,
          33,
          39,
          30,
          33,
          35,
          34,
          39,
          40,
          40,
          41,
          47,
          47,
          42,
          49,
          51,
          56,
          37,
          63,
          68,
          63,
          42,
          40,
          41,
          41,
          45,
          44,
          44,
          38,
          62,
          52,
          108,
          39,
          72,
          51,
          49,
          51,
          51,
          55,
          43,
          58,
          52,
          52,
          56,
          71,
          46,
          55,
          68,
          56,
          53,
          62,
          78,
          68,
          128,
          63,
          62,
          127,
          56,
          53,
          49,
          46,
          57,
          61,
          55,
          55,
          51,
          88,
          58,
          72,
          138,
          62,
          59,
          59,
          68,
          88,
          57,
          60,
          72,
          72,
          71,
          72,
          76,
          69,
          79,
          66,
          70,
          66,
          85,
          65,
          88,
          79,
          189,
          87,
          81,
          90,
          148,
          112,
          92,
          132,
          79,
          76,
          85,
          97,
          81,
          92,
          120,
          93,
          129,
          124,
          113,
          109,
          214,
          94,
          96,
          110,
          126,
          180,
          109,
          96,
          94,
          115,
          111,
          128,
          124,
          124,
          123,
          143
         ],
         "yaxis": "y"
        }
       ],
       "layout": {
        "barmode": "relative",
        "legend": {
         "tracegroupgap": 0
        },
        "margin": {
         "t": 60
        },
        "template": {
         "data": {
          "bar": [
           {
            "error_x": {
             "color": "#2a3f5f"
            },
            "error_y": {
             "color": "#2a3f5f"
            },
            "marker": {
             "line": {
              "color": "#E5ECF6",
              "width": 0.5
             }
            },
            "type": "bar"
           }
          ],
          "barpolar": [
           {
            "marker": {
             "line": {
              "color": "#E5ECF6",
              "width": 0.5
             }
            },
            "type": "barpolar"
           }
          ],
          "carpet": [
           {
            "aaxis": {
             "endlinecolor": "#2a3f5f",
             "gridcolor": "white",
             "linecolor": "white",
             "minorgridcolor": "white",
             "startlinecolor": "#2a3f5f"
            },
            "baxis": {
             "endlinecolor": "#2a3f5f",
             "gridcolor": "white",
             "linecolor": "white",
             "minorgridcolor": "white",
             "startlinecolor": "#2a3f5f"
            },
            "type": "carpet"
           }
          ],
          "choropleth": [
           {
            "colorbar": {
             "outlinewidth": 0,
             "ticks": ""
            },
            "type": "choropleth"
           }
          ],
          "contour": [
           {
            "colorbar": {
             "outlinewidth": 0,
             "ticks": ""
            },
            "colorscale": [
             [
              0,
              "#0d0887"
             ],
             [
              0.1111111111111111,
              "#46039f"
             ],
             [
              0.2222222222222222,
              "#7201a8"
             ],
             [
              0.3333333333333333,
              "#9c179e"
             ],
             [
              0.4444444444444444,
              "#bd3786"
             ],
             [
              0.5555555555555556,
              "#d8576b"
             ],
             [
              0.6666666666666666,
              "#ed7953"
             ],
             [
              0.7777777777777778,
              "#fb9f3a"
             ],
             [
              0.8888888888888888,
              "#fdca26"
             ],
             [
              1,
              "#f0f921"
             ]
            ],
            "type": "contour"
           }
          ],
          "contourcarpet": [
           {
            "colorbar": {
             "outlinewidth": 0,
             "ticks": ""
            },
            "type": "contourcarpet"
           }
          ],
          "heatmap": [
           {
            "colorbar": {
             "outlinewidth": 0,
             "ticks": ""
            },
            "colorscale": [
             [
              0,
              "#0d0887"
             ],
             [
              0.1111111111111111,
              "#46039f"
             ],
             [
              0.2222222222222222,
              "#7201a8"
             ],
             [
              0.3333333333333333,
              "#9c179e"
             ],
             [
              0.4444444444444444,
              "#bd3786"
             ],
             [
              0.5555555555555556,
              "#d8576b"
             ],
             [
              0.6666666666666666,
              "#ed7953"
             ],
             [
              0.7777777777777778,
              "#fb9f3a"
             ],
             [
              0.8888888888888888,
              "#fdca26"
             ],
             [
              1,
              "#f0f921"
             ]
            ],
            "type": "heatmap"
           }
          ],
          "heatmapgl": [
           {
            "colorbar": {
             "outlinewidth": 0,
             "ticks": ""
            },
            "colorscale": [
             [
              0,
              "#0d0887"
             ],
             [
              0.1111111111111111,
              "#46039f"
             ],
             [
              0.2222222222222222,
              "#7201a8"
             ],
             [
              0.3333333333333333,
              "#9c179e"
             ],
             [
              0.4444444444444444,
              "#bd3786"
             ],
             [
              0.5555555555555556,
              "#d8576b"
             ],
             [
              0.6666666666666666,
              "#ed7953"
             ],
             [
              0.7777777777777778,
              "#fb9f3a"
             ],
             [
              0.8888888888888888,
              "#fdca26"
             ],
             [
              1,
              "#f0f921"
             ]
            ],
            "type": "heatmapgl"
           }
          ],
          "histogram": [
           {
            "marker": {
             "colorbar": {
              "outlinewidth": 0,
              "ticks": ""
             }
            },
            "type": "histogram"
           }
          ],
          "histogram2d": [
           {
            "colorbar": {
             "outlinewidth": 0,
             "ticks": ""
            },
            "colorscale": [
             [
              0,
              "#0d0887"
             ],
             [
              0.1111111111111111,
              "#46039f"
             ],
             [
              0.2222222222222222,
              "#7201a8"
             ],
             [
              0.3333333333333333,
              "#9c179e"
             ],
             [
              0.4444444444444444,
              "#bd3786"
             ],
             [
              0.5555555555555556,
              "#d8576b"
             ],
             [
              0.6666666666666666,
              "#ed7953"
             ],
             [
              0.7777777777777778,
              "#fb9f3a"
             ],
             [
              0.8888888888888888,
              "#fdca26"
             ],
             [
              1,
              "#f0f921"
             ]
            ],
            "type": "histogram2d"
           }
          ],
          "histogram2dcontour": [
           {
            "colorbar": {
             "outlinewidth": 0,
             "ticks": ""
            },
            "colorscale": [
             [
              0,
              "#0d0887"
             ],
             [
              0.1111111111111111,
              "#46039f"
             ],
             [
              0.2222222222222222,
              "#7201a8"
             ],
             [
              0.3333333333333333,
              "#9c179e"
             ],
             [
              0.4444444444444444,
              "#bd3786"
             ],
             [
              0.5555555555555556,
              "#d8576b"
             ],
             [
              0.6666666666666666,
              "#ed7953"
             ],
             [
              0.7777777777777778,
              "#fb9f3a"
             ],
             [
              0.8888888888888888,
              "#fdca26"
             ],
             [
              1,
              "#f0f921"
             ]
            ],
            "type": "histogram2dcontour"
           }
          ],
          "mesh3d": [
           {
            "colorbar": {
             "outlinewidth": 0,
             "ticks": ""
            },
            "type": "mesh3d"
           }
          ],
          "parcoords": [
           {
            "line": {
             "colorbar": {
              "outlinewidth": 0,
              "ticks": ""
             }
            },
            "type": "parcoords"
           }
          ],
          "pie": [
           {
            "automargin": true,
            "type": "pie"
           }
          ],
          "scatter": [
           {
            "marker": {
             "colorbar": {
              "outlinewidth": 0,
              "ticks": ""
             }
            },
            "type": "scatter"
           }
          ],
          "scatter3d": [
           {
            "line": {
             "colorbar": {
              "outlinewidth": 0,
              "ticks": ""
             }
            },
            "marker": {
             "colorbar": {
              "outlinewidth": 0,
              "ticks": ""
             }
            },
            "type": "scatter3d"
           }
          ],
          "scattercarpet": [
           {
            "marker": {
             "colorbar": {
              "outlinewidth": 0,
              "ticks": ""
             }
            },
            "type": "scattercarpet"
           }
          ],
          "scattergeo": [
           {
            "marker": {
             "colorbar": {
              "outlinewidth": 0,
              "ticks": ""
             }
            },
            "type": "scattergeo"
           }
          ],
          "scattergl": [
           {
            "marker": {
             "colorbar": {
              "outlinewidth": 0,
              "ticks": ""
             }
            },
            "type": "scattergl"
           }
          ],
          "scattermapbox": [
           {
            "marker": {
             "colorbar": {
              "outlinewidth": 0,
              "ticks": ""
             }
            },
            "type": "scattermapbox"
           }
          ],
          "scatterpolar": [
           {
            "marker": {
             "colorbar": {
              "outlinewidth": 0,
              "ticks": ""
             }
            },
            "type": "scatterpolar"
           }
          ],
          "scatterpolargl": [
           {
            "marker": {
             "colorbar": {
              "outlinewidth": 0,
              "ticks": ""
             }
            },
            "type": "scatterpolargl"
           }
          ],
          "scatterternary": [
           {
            "marker": {
             "colorbar": {
              "outlinewidth": 0,
              "ticks": ""
             }
            },
            "type": "scatterternary"
           }
          ],
          "surface": [
           {
            "colorbar": {
             "outlinewidth": 0,
             "ticks": ""
            },
            "colorscale": [
             [
              0,
              "#0d0887"
             ],
             [
              0.1111111111111111,
              "#46039f"
             ],
             [
              0.2222222222222222,
              "#7201a8"
             ],
             [
              0.3333333333333333,
              "#9c179e"
             ],
             [
              0.4444444444444444,
              "#bd3786"
             ],
             [
              0.5555555555555556,
              "#d8576b"
             ],
             [
              0.6666666666666666,
              "#ed7953"
             ],
             [
              0.7777777777777778,
              "#fb9f3a"
             ],
             [
              0.8888888888888888,
              "#fdca26"
             ],
             [
              1,
              "#f0f921"
             ]
            ],
            "type": "surface"
           }
          ],
          "table": [
           {
            "cells": {
             "fill": {
              "color": "#EBF0F8"
             },
             "line": {
              "color": "white"
             }
            },
            "header": {
             "fill": {
              "color": "#C8D4E3"
             },
             "line": {
              "color": "white"
             }
            },
            "type": "table"
           }
          ]
         },
         "layout": {
          "annotationdefaults": {
           "arrowcolor": "#2a3f5f",
           "arrowhead": 0,
           "arrowwidth": 1
          },
          "autotypenumbers": "strict",
          "coloraxis": {
           "colorbar": {
            "outlinewidth": 0,
            "ticks": ""
           }
          },
          "colorscale": {
           "diverging": [
            [
             0,
             "#8e0152"
            ],
            [
             0.1,
             "#c51b7d"
            ],
            [
             0.2,
             "#de77ae"
            ],
            [
             0.3,
             "#f1b6da"
            ],
            [
             0.4,
             "#fde0ef"
            ],
            [
             0.5,
             "#f7f7f7"
            ],
            [
             0.6,
             "#e6f5d0"
            ],
            [
             0.7,
             "#b8e186"
            ],
            [
             0.8,
             "#7fbc41"
            ],
            [
             0.9,
             "#4d9221"
            ],
            [
             1,
             "#276419"
            ]
           ],
           "sequential": [
            [
             0,
             "#0d0887"
            ],
            [
             0.1111111111111111,
             "#46039f"
            ],
            [
             0.2222222222222222,
             "#7201a8"
            ],
            [
             0.3333333333333333,
             "#9c179e"
            ],
            [
             0.4444444444444444,
             "#bd3786"
            ],
            [
             0.5555555555555556,
             "#d8576b"
            ],
            [
             0.6666666666666666,
             "#ed7953"
            ],
            [
             0.7777777777777778,
             "#fb9f3a"
            ],
            [
             0.8888888888888888,
             "#fdca26"
            ],
            [
             1,
             "#f0f921"
            ]
           ],
           "sequentialminus": [
            [
             0,
             "#0d0887"
            ],
            [
             0.1111111111111111,
             "#46039f"
            ],
            [
             0.2222222222222222,
             "#7201a8"
            ],
            [
             0.3333333333333333,
             "#9c179e"
            ],
            [
             0.4444444444444444,
             "#bd3786"
            ],
            [
             0.5555555555555556,
             "#d8576b"
            ],
            [
             0.6666666666666666,
             "#ed7953"
            ],
            [
             0.7777777777777778,
             "#fb9f3a"
            ],
            [
             0.8888888888888888,
             "#fdca26"
            ],
            [
             1,
             "#f0f921"
            ]
           ]
          },
          "colorway": [
           "#636efa",
           "#EF553B",
           "#00cc96",
           "#ab63fa",
           "#FFA15A",
           "#19d3f3",
           "#FF6692",
           "#B6E880",
           "#FF97FF",
           "#FECB52"
          ],
          "font": {
           "color": "#2a3f5f"
          },
          "geo": {
           "bgcolor": "white",
           "lakecolor": "white",
           "landcolor": "#E5ECF6",
           "showlakes": true,
           "showland": true,
           "subunitcolor": "white"
          },
          "hoverlabel": {
           "align": "left"
          },
          "hovermode": "closest",
          "mapbox": {
           "style": "light"
          },
          "paper_bgcolor": "white",
          "plot_bgcolor": "#E5ECF6",
          "polar": {
           "angularaxis": {
            "gridcolor": "white",
            "linecolor": "white",
            "ticks": ""
           },
           "bgcolor": "#E5ECF6",
           "radialaxis": {
            "gridcolor": "white",
            "linecolor": "white",
            "ticks": ""
           }
          },
          "scene": {
           "xaxis": {
            "backgroundcolor": "#E5ECF6",
            "gridcolor": "white",
            "gridwidth": 2,
            "linecolor": "white",
            "showbackground": true,
            "ticks": "",
            "zerolinecolor": "white"
           },
           "yaxis": {
            "backgroundcolor": "#E5ECF6",
            "gridcolor": "white",
            "gridwidth": 2,
            "linecolor": "white",
            "showbackground": true,
            "ticks": "",
            "zerolinecolor": "white"
           },
           "zaxis": {
            "backgroundcolor": "#E5ECF6",
            "gridcolor": "white",
            "gridwidth": 2,
            "linecolor": "white",
            "showbackground": true,
            "ticks": "",
            "zerolinecolor": "white"
           }
          },
          "shapedefaults": {
           "line": {
            "color": "#2a3f5f"
           }
          },
          "ternary": {
           "aaxis": {
            "gridcolor": "white",
            "linecolor": "white",
            "ticks": ""
           },
           "baxis": {
            "gridcolor": "white",
            "linecolor": "white",
            "ticks": ""
           },
           "bgcolor": "#E5ECF6",
           "caxis": {
            "gridcolor": "white",
            "linecolor": "white",
            "ticks": ""
           }
          },
          "title": {
           "x": 0.05
          },
          "xaxis": {
           "automargin": true,
           "gridcolor": "white",
           "linecolor": "white",
           "ticks": "",
           "title": {
            "standoff": 15
           },
           "zerolinecolor": "white",
           "zerolinewidth": 2
          },
          "yaxis": {
           "automargin": true,
           "gridcolor": "white",
           "linecolor": "white",
           "ticks": "",
           "title": {
            "standoff": 15
           },
           "zerolinecolor": "white",
           "zerolinewidth": 2
          }
         }
        },
        "xaxis": {
         "anchor": "y",
         "domain": [
          0,
          1
         ],
         "title": {
          "text": "second_name"
         }
        },
        "yaxis": {
         "anchor": "x",
         "domain": [
          0,
          1
         ],
         "title": {
          "text": "value"
         }
        }
       }
      },
      "text/html": [
       "<div>                            <div id=\"820af752-24fb-4af3-98df-14c34c6bbdbf\" class=\"plotly-graph-div\" style=\"height:525px; width:100%;\"></div>            <script type=\"text/javascript\">                require([\"plotly\"], function(Plotly) {                    window.PLOTLYENV=window.PLOTLYENV || {};                                    if (document.getElementById(\"820af752-24fb-4af3-98df-14c34c6bbdbf\")) {                    Plotly.newPlot(                        \"820af752-24fb-4af3-98df-14c34c6bbdbf\",                        [{\"alignmentgroup\": \"True\", \"customdata\": [[\"Southampton\"], [\"Arsenal\"], [\"Man City\"], [\"Liverpool\"], [\"Liverpool\"], [\"Liverpool\"], [\"Liverpool\"], [\"Wolves\"], [\"Leeds\"], [\"Leeds\"], [\"Leeds\"], [\"Leeds\"], [\"Leeds\"], [\"Leicester\"], [\"Leicester\"], [\"Leicester\"], [\"Leicester\"], [\"Fulham\"], [\"Fulham\"], [\"Fulham\"], [\"Fulham\"], [\"Everton\"], [\"Everton\"], [\"Crystal Palace\"], [\"Crystal Palace\"], [\"Chelsea\"], [\"Man City\"], [\"Man City\"], [\"Man City\"], [\"Man City\"], [\"Wolves\"], [\"Wolves\"], [\"Wolves\"], [\"West Ham\"], [\"West Ham\"], [\"West Brom\"], [\"Spurs\"], [\"Spurs\"], [\"Spurs\"], [\"Southampton\"], [\"Southampton\"], [\"Burnley\"], [\"Southampton\"], [\"Southampton\"], [\"Sheffield Utd\"], [\"Sheffield Utd\"], [\"Sheffield Utd\"], [\"Newcastle\"], [\"Newcastle\"], [\"Man Utd\"], [\"Man Utd\"], [\"Man Utd\"], [\"Man Utd\"], [\"Man Utd\"], [\"Southampton\"], [\"Burnley\"], [\"Wolves\"], [\"Brighton\"], [\"Aston Villa\"], [\"Aston Villa\"], [\"Aston Villa\"], [\"Brighton\"], [\"Brighton\"], [\"Aston Villa\"], [\"Arsenal\"], [\"Aston Villa\"], [\"Brighton\"], [\"Arsenal\"], [\"Brighton\"], [\"Brighton\"], [\"Sheffield Utd\"], [\"Man Utd\"], [\"Everton\"], [\"Brighton\"], [\"Leicester\"], [\"Newcastle\"], [\"Leicester\"], [\"Brighton\"], [\"West Ham\"], [\"Arsenal\"], [\"Southampton\"], [\"West Brom\"], [\"Chelsea\"], [\"West Brom\"], [\"Brighton\"], [\"Leicester\"], [\"Everton\"], [\"West Brom\"], [\"Southampton\"], [\"Wolves\"], [\"Everton\"], [\"Fulham\"], [\"Brighton\"], [\"West Brom\"], [\"Fulham\"], [\"Wolves\"], [\"Fulham\"], [\"Aston Villa\"], [\"Brighton\"], [\"Liverpool\"], [\"Spurs\"], [\"Burnley\"], [\"Newcastle\"], [\"Arsenal\"], [\"Burnley\"], [\"Leeds\"], [\"West Brom\"], [\"Spurs\"], [\"Leicester\"], [\"Leicester\"], [\"West Ham\"], [\"Liverpool\"], [\"Man Utd\"], [\"Brighton\"], [\"Newcastle\"], [\"Everton\"], [\"Spurs\"], [\"Aston Villa\"], [\"Man Utd\"], [\"Leeds\"], [\"West Brom\"], [\"Southampton\"], [\"Leeds\"], [\"Wolves\"], [\"West Ham\"], [\"Burnley\"], [\"West Brom\"], [\"Liverpool\"], [\"Arsenal\"], [\"Spurs\"], [\"Crystal Palace\"], [\"Aston Villa\"], [\"West Ham\"], [\"Aston Villa\"], [\"Southampton\"], [\"West Brom\"], [\"Fulham\"], [\"Everton\"], [\"Liverpool\"], [\"Man Utd\"], [\"Spurs\"], [\"Newcastle\"], [\"Sheffield Utd\"], [\"Arsenal\"], [\"Man Utd\"], [\"Spurs\"], [\"Chelsea\"], [\"Leicester\"], [\"Chelsea\"], [\"Southampton\"], [\"West Brom\"], [\"Everton\"], [\"Brighton\"], [\"Sheffield Utd\"], [\"Newcastle\"], [\"Arsenal\"], [\"West Brom\"], [\"Newcastle\"], [\"Leeds\"], [\"Brighton\"], [\"Liverpool\"], [\"Everton\"], [\"Burnley\"], [\"Leicester\"], [\"West Ham\"], [\"Southampton\"], [\"Brighton\"], [\"Southampton\"], [\"Man Utd\"], [\"Sheffield Utd\"], [\"Arsenal\"], [\"Chelsea\"], [\"Arsenal\"], [\"Newcastle\"], [\"Newcastle\"], [\"Arsenal\"], [\"Spurs\"], [\"Crystal Palace\"], [\"Burnley\"], [\"Sheffield Utd\"], [\"Leicester\"], [\"Man City\"], [\"Sheffield Utd\"], [\"Arsenal\"], [\"Sheffield Utd\"], [\"Man Utd\"], [\"Crystal Palace\"], [\"West Brom\"], [\"Newcastle\"], [\"Chelsea\"], [\"Chelsea\"], [\"Liverpool\"], [\"Everton\"], [\"Man Utd\"], [\"Leicester\"], [\"Crystal Palace\"], [\"Liverpool\"], [\"Fulham\"], [\"Liverpool\"], [\"Spurs\"], [\"Liverpool\"], [\"Newcastle\"], [\"Fulham\"], [\"Man City\"], [\"West Ham\"], [\"Man City\"], [\"Aston Villa\"], [\"Southampton\"], [\"Liverpool\"], [\"Aston Villa\"], [\"Leeds\"], [\"Newcastle\"], [\"Arsenal\"], [\"Arsenal\"], [\"West Brom\"], [\"Burnley\"], [\"Chelsea\"], [\"Southampton\"], [\"Everton\"], [\"Leeds\"], [\"Wolves\"], [\"Man City\"], [\"Wolves\"], [\"Aston Villa\"], [\"Leicester\"], [\"Wolves\"], [\"Everton\"], [\"Crystal Palace\"], [\"Brighton\"], [\"Fulham\"], [\"Man City\"], [\"Everton\"], [\"Aston Villa\"], [\"Crystal Palace\"], [\"Brighton\"], [\"Newcastle\"], [\"Wolves\"], [\"Crystal Palace\"], [\"Fulham\"], [\"Brighton\"], [\"Fulham\"], [\"Spurs\"], [\"Burnley\"], [\"Liverpool\"], [\"Burnley\"], [\"Liverpool\"], [\"Crystal Palace\"], [\"Man Utd\"], [\"Crystal Palace\"], [\"West Ham\"], [\"Man City\"], [\"Man Utd\"], [\"West Ham\"], [\"Leeds\"], [\"Aston Villa\"], [\"Spurs\"], [\"Aston Villa\"], [\"Leicester\"], [\"Southampton\"], [\"Aston Villa\"], [\"Chelsea\"], [\"Leicester\"], [\"Man City\"], [\"Man Utd\"], [\"Wolves\"], [\"Arsenal\"], [\"West Ham\"], [\"Leicester\"], [\"Spurs\"], [\"Brighton\"], [\"Fulham\"], [\"Chelsea\"], [\"Leeds\"], [\"West Brom\"], [\"Southampton\"], [\"Wolves\"], [\"Leeds\"], [\"West Ham\"], [\"Man City\"]], \"hovertemplate\": \"second_name=%{x}<br>value=%{y}<br>team=%{customdata[0]}<extra></extra>\", \"legendgroup\": \"\", \"marker\": {\"color\": \"#636efa\"}, \"name\": \"\", \"offsetgroup\": \"\", \"orientation\": \"v\", \"showlegend\": false, \"textposition\": \"auto\", \"type\": \"bar\", \"x\": [\"Jankewitz\", \"\\u00d6zil\", \"Doyle\", \"Cain\", \"Clarkson\", \"Elliott\", \"Wilson\", \"Perry\", \"Jenkins\", \"Bogusz\", \"Stevens\", \"Grot\", \"Forshaw\", \"Suengchitthawon\", \"Flynn\", \"James\", \"Silva\", \"Seri\", \"Knockaert\", \"Johansen\", \"McDonald\", \"Broadhead\", \"Onyango\", \"Pierrick\", \"Meyer\", \"Anjorin\", \"Bernab\\u00e9\", \"Palmer\", \"Nmecha\", \"Gomes\", \"Corbeanu\", \"Shabani\", \"Cavaco Jordao\", \"Coventry\", \"Wilshere\", \"Leko\", \"Devine\", \"Skipp\", \"Carvalho Fernandes\", \"Finnigan\", \"Ferry\", \"Mancini\", \"Chauke\", \"Boufal\", \"Maguire\", \"Brunt\", \"Freeman\", \"Aarons\", \"Atsu\", \"Diallo\", \"Pellistri\", \"Garner\", \"Chong\", \"Pereira\", \"Sims\", \"Goodridge\", \"Cundle\", \"Sanders\", \"Hayden\", \"Philogene-Bidace\", \"Lansbury\", \"Caicedo\", \"Weir\", \"Chukwuemeka\", \"Guendouzi\", \"Peleteiro Romallo\", \"Jenks\", \"Torreira\", \"Izquierdo\", \"Mooy\", \"Ndiaye\", \"Shoretire\", \"Gbamin\", \"Khadra\", \"Gray\", \"Anderson\", \"Leshabela\", \"Molumby\", \"Pereira Gomes\", \"Nelson\", \"Watts\", \"Harper\", \"Gilmour\", \"Field\", \"Tau\", \"Tavares\", \"Gordon\", \"Edwards\", \"Smallbone\", \"Gibbs-White\", \"Delph\", \"Kebano\", \"Moder\", \"Grosicki\", \"Onomah\", \"Otasowie\", \"Kamara\", \"Sanson\", \"Pr\\u00f6pper\", \"Oxlade-Chamberlain\", \"Alli\", \"Stephens\", \"Longstaff\", \"Martinelli Silva\", \"Benson\", \"Poveda-Ocampo\", \"Snodgrass\", \"Winks\", \"\\u00dcnder\", \"Choudhury\", \"Yarmolenko\", \"Keita\", \"van de Beek\", \"Jahanbakhsh\", \"Ritchie\", \"An\\u00edcio Caldeira Duarte\", \"Lo Celso\", \"Hourihane\", \"Mata\", \"Shackleton\", \"Krovinovic\", \"Tella\", \"Hern\\u00e1ndez Dom\\u00ednguez\", \"Ferreira\", \"Lanzini\", \"Cork\", \"Yokuslu\", \"Shaqiri\", \"\\u00d8degaard\", \"Lamela\", \"McCarthy\", \"Nakamba\", \"Noble\", \"Ramsey\", \"Diallo\", \"Livermore\", \"Cairney\", \"Marques Loureiro\", \"Alc\\u00e1ntara do Nascimento\", \"James\", \"Bergwijn\", \"Longstaff\", \"Berge\", \"Partey\", \"Matic\", \"Bale\", \"Ziyech\", \"Praet\", \"Pulisic\", \"Minamino\", \"Diangana\", \"Davies\", \"Alzate\", \"Osborn\", \"Fraser\", \"El Sayed Elneny\", \"Sawyers\", \"Willock\", \"Roberts\", \"Mac Allister\", \"Milner\", \"Tavares Gomes\", \"Gudmundsson\", \"P\\u00e9rez\", \"Benrahma\", \"Djenepo\", \"Lallana\", \"Redmond\", \"Greenwood\", \"Norwood\", \"P\\u00e9p\\u00e9\", \"Havertz\", \"Borges Da Silva\", \"Murphy\", \"Hayden\", \"Ceballos Fern\\u00e1ndez\", \"Sissoko\", \"McArthur\", \"Brady\", \"Lundstram\", \"Mendy\", \"Torres\", \"Fleck\", \"Aubameyang\", \"Burke\", \"Pogba\", \"Schlupp\", \"Phillips\", \"Shelvey\", \"Kovacic\", \"Hudson-Odoi\", \"Jones\", \"Iwobi\", \"Rodrigues de Paula Santos\", \"Albrighton\", \"Milivojevic\", \"Jota\", \"Lemina\", \"Tavares\", \"Rodrigues Moura da Silva\", \"Henderson\", \"Saint-Maximin\", \"Loftus-Cheek\", \"Veiga de Carvalho e Silva\", \"Lingard\", \"De Bruyne\", \"Barkley\", \"Walcott\", \"Man\\u00e9\", \"Ibrahim Hassan\", \"Phillips\", \"Hendrick\", \"Smith Rowe\", \"Xhaka\", \"Gallagher\", \"Brownhill\", \"Kant\\u00e9\", \"Romeu Vidal\", \"Rodr\\u00edguez\", \"Sousa de Azevedo e Costa\", \"Traor\\u00e9\", \"Sterling\", \"Santos Moutinho\", \"Soares de Paulo\", \"Ndidi\", \"Castelo Podence\", \"Sigurdsson\", \"Riedewald\", \"Bissouma\", \"Neves Abreu Cavaleiro\", \"Hernandez\", \"Doucour\\u00e9\", \"El Ghazi\", \"Townsend\", \"March\", \"Almir\\u00f3n\", \"Dendoncker\", \"Kouyat\\u00e9\", \"Zambo Anguissa\", \"Gro\\u00df\", \"Reed\", \"Ndombele\", \"Westwood\", \"Salah\", \"McNeil\", \"Wijnaldum\", \"Eze\", \"Rashford\", \"Zaha\", \"Fornals\", \"Mahrez\", \"McTominay\", \"Rice\", \"Klich\", \"Traor\\u00e9\", \"H\\u00f8jbjerg\", \"McGinn\", \"Maddison\", \"Armstrong\", \"Grealish\", \"Mount\", \"Tielemans\", \"Foden\", \"Borges Fernandes\", \"da Silva Neves\", \"Saka\", \"Bowen\", \"Barnes\", \"Son\", \"Trossard\", \"Lookman\", \"Frello Filho\", \"Dias Belloli\", \"Pereira\", \"Ward-Prowse\", \"Lomba Neto\", \"Harrison\", \"Soucek\", \"G\\u00fcndogan\"], \"xaxis\": \"x\", \"y\": [-0.2, 0.0, 0.0, 0.0, 0.0, 0.0, 0.0, 0.0, 0.0, 0.0, 0.0, 0.0, 0.0, 0.0, 0.0, 0.0, 0.0, 0.0, 0.0, 0.0, 0.0, 0.0, 0.0, 0.0, 0.0, 0.0, 0.0, 0.0, 0.0, 0.0, 0.0, 0.0, 0.0, 0.0, 0.0, 0.0, 0.0, 0.0, 0.0, 0.0, 0.0, 0.0, 0.0, 0.0, 0.0, 0.0, 0.0, 0.0, 0.0, 0.0, 0.0, 0.0, 0.0, 0.0, 0.0, 0.0, 0.0, 0.0, 0.0, 0.0, 0.0, 0.0, 0.0, 0.0, 0.0, 0.0, 0.0, 0.0, 0.0, 0.0, 0.2, 0.2, 0.2, 0.2, 0.2, 0.2, 0.2, 0.2, 0.3, 0.4, 0.4, 0.5, 0.5, 0.6, 0.6, 0.7, 0.7, 1.1, 1.2, 1.2, 1.2, 1.3, 1.4, 1.5, 1.5, 1.6, 1.7, 1.8, 1.9, 1.9, 1.9, 1.9, 2.1, 2.2, 2.2, 2.4, 2.5, 2.5, 2.8, 2.8, 2.9, 2.9, 2.9, 3.0, 3.1, 3.2, 3.3, 3.4, 3.4, 3.5, 3.5, 3.5, 3.5, 3.6, 3.6, 3.6, 3.8, 3.9, 3.9, 4.0, 4.2, 4.2, 4.4, 4.4, 5.1, 5.1, 5.2, 5.6, 5.6, 5.6, 5.7, 5.9, 5.9, 6.1, 6.2, 6.4, 6.5, 6.7, 6.8, 6.8, 6.8, 6.9, 6.9, 7.0, 7.0, 7.1, 7.2, 7.4, 7.4, 7.4, 7.5, 7.5, 7.6, 7.8, 7.8, 7.8, 7.9, 8.0, 8.0, 8.2, 8.3, 8.3, 8.4, 8.6, 8.7, 8.7, 8.7, 8.7, 8.8, 9.0, 9.0, 9.0, 9.3, 9.5, 9.5, 9.5, 9.6, 9.6, 9.6, 9.6, 9.6, 9.8, 9.8, 9.8, 10.0, 10.0, 10.1, 10.2, 10.2, 10.3, 10.4, 10.4, 10.5, 10.5, 10.6, 10.7, 10.7, 10.7, 10.8, 10.8, 10.8, 10.9, 11.0, 11.0, 11.1, 11.2, 11.2, 11.3, 11.4, 11.6, 12.0, 12.2, 12.2, 12.3, 12.3, 12.8, 12.9, 13.0, 13.6, 13.6, 13.6, 13.7, 13.8, 13.8, 13.8, 14.1, 14.3, 14.6, 14.7, 14.7, 14.8, 14.9, 14.9, 15.1, 15.3, 15.3, 15.5, 15.6, 15.8, 15.9, 16.1, 16.1, 16.2, 16.3, 16.4, 16.5, 16.7, 16.9, 16.9, 17.2, 17.2, 17.4, 18.2, 18.4, 18.4, 18.5, 18.6, 18.8, 19.1, 19.1, 19.2, 20.0, 20.5, 20.6, 21.7, 21.8, 23.0, 23.2, 23.8], \"yaxis\": \"y\"}, {\"customdata\": [[45], [67], [44], [45], [45], [43], [51], [45], [45], [43], [43], [47], [48], [45], [45], [43], [44], [46], [50], [47], [47], [45], [45], [43], [47], [45], [45], [44], [45], [45], [45], [44], [43], [45], [49], [45], [44], [44], [47], [45], [45], [44], [44], [54], [44], [45], [50], [48], [52], [54], [52], [44], [44], [48], [43], [45], [45], [45], [45], [45], [43], [50], [45], [45], [47], [59], [45], [47], [55], [50], [45], [45], [50], [45], [51], [45], [44], [45], [61], [51], [45], [43], [44], [48], [49], [44], [43], [47], [43], [49], [48], [47], [50], [52], [46], [45], [48], [55], [47], [63], [74], [42], [48], [49], [45], [42], [56], [51], [57], [46], [55], [52], [66], [54], [49], [57], [69], [59], [58], [48], [49], [43], [57], [47], [64], [50], [45], [64], [59], [57], [43], [43], [45], [45], [45], [47], [52], [52], [55], [62], [70], [46], [49], [49], [47], [92], [79], [52], [82], [60], [50], [52], [42], [47], [56], [42], [46], [47], [46], [53], [53], [53], [54], [60], [60], [54], [62], [64], [70], [45], [76], [82], [75], [49], [46], [47], [47], [52], [50], [49], [42], [69], [56], [114], [41], [76], [53], [51], [53], [53], [57], [44], [59], [53], [52], [56], [70], [45], [54], [66], [54], [51], [59], [74], [64], [120], [59], [58], [118], [52], [49], [45], [42], [52], [55], [49], [49], [45], [77], [50], [60], [113], [51], [48], [48], [53], [68], [44], [44], [53], [53], [52], [52], [55], [50], [56], [46], [48], [45], [58], [44], [59], [53], [125], [57], [53], [58], [95], [71], [58], [82], [49], [47], [52], [59], [49], [55], [71], [55], [75], [72], [65], [60], [116], [51], [52], [59], [67], [94], [57], [50], [47], [56], [54], [59], [57], [54], [53], [60]], \"hovertemplate\": \"second_name=%{x}<br>total_points=%{y}<br>now_cost=%{customdata[0]}<extra></extra>\", \"legendgroup\": \"\", \"marker\": {\"color\": \"#636efa\", \"symbol\": \"circle\"}, \"mode\": \"markers\", \"name\": \"\", \"orientation\": \"v\", \"showlegend\": false, \"type\": \"scatter\", \"x\": [\"Jankewitz\", \"\\u00d6zil\", \"Doyle\", \"Cain\", \"Clarkson\", \"Elliott\", \"Wilson\", \"Perry\", \"Jenkins\", \"Bogusz\", \"Stevens\", \"Grot\", \"Forshaw\", \"Suengchitthawon\", \"Flynn\", \"James\", \"Silva\", \"Seri\", \"Knockaert\", \"Johansen\", \"McDonald\", \"Broadhead\", \"Onyango\", \"Pierrick\", \"Meyer\", \"Anjorin\", \"Bernab\\u00e9\", \"Palmer\", \"Nmecha\", \"Gomes\", \"Corbeanu\", \"Shabani\", \"Cavaco Jordao\", \"Coventry\", \"Wilshere\", \"Leko\", \"Devine\", \"Skipp\", \"Carvalho Fernandes\", \"Finnigan\", \"Ferry\", \"Mancini\", \"Chauke\", \"Boufal\", \"Maguire\", \"Brunt\", \"Freeman\", \"Aarons\", \"Atsu\", \"Diallo\", \"Pellistri\", \"Garner\", \"Chong\", \"Pereira\", \"Sims\", \"Goodridge\", \"Cundle\", \"Sanders\", \"Hayden\", \"Philogene-Bidace\", \"Lansbury\", \"Caicedo\", \"Weir\", \"Chukwuemeka\", \"Guendouzi\", \"Peleteiro Romallo\", \"Jenks\", \"Torreira\", \"Izquierdo\", \"Mooy\", \"Ndiaye\", \"Shoretire\", \"Gbamin\", \"Khadra\", \"Gray\", \"Anderson\", \"Leshabela\", \"Molumby\", \"Pereira Gomes\", \"Nelson\", \"Watts\", \"Harper\", \"Gilmour\", \"Field\", \"Tau\", \"Tavares\", \"Gordon\", \"Edwards\", \"Smallbone\", \"Gibbs-White\", \"Delph\", \"Kebano\", \"Moder\", \"Grosicki\", \"Onomah\", \"Otasowie\", \"Kamara\", \"Sanson\", \"Pr\\u00f6pper\", \"Oxlade-Chamberlain\", \"Alli\", \"Stephens\", \"Longstaff\", \"Martinelli Silva\", \"Benson\", \"Poveda-Ocampo\", \"Snodgrass\", \"Winks\", \"\\u00dcnder\", \"Choudhury\", \"Yarmolenko\", \"Keita\", \"van de Beek\", \"Jahanbakhsh\", \"Ritchie\", \"An\\u00edcio Caldeira Duarte\", \"Lo Celso\", \"Hourihane\", \"Mata\", \"Shackleton\", \"Krovinovic\", \"Tella\", \"Hern\\u00e1ndez Dom\\u00ednguez\", \"Ferreira\", \"Lanzini\", \"Cork\", \"Yokuslu\", \"Shaqiri\", \"\\u00d8degaard\", \"Lamela\", \"McCarthy\", \"Nakamba\", \"Noble\", \"Ramsey\", \"Diallo\", \"Livermore\", \"Cairney\", \"Marques Loureiro\", \"Alc\\u00e1ntara do Nascimento\", \"James\", \"Bergwijn\", \"Longstaff\", \"Berge\", \"Partey\", \"Matic\", \"Bale\", \"Ziyech\", \"Praet\", \"Pulisic\", \"Minamino\", \"Diangana\", \"Davies\", \"Alzate\", \"Osborn\", \"Fraser\", \"El Sayed Elneny\", \"Sawyers\", \"Willock\", \"Roberts\", \"Mac Allister\", \"Milner\", \"Tavares Gomes\", \"Gudmundsson\", \"P\\u00e9rez\", \"Benrahma\", \"Djenepo\", \"Lallana\", \"Redmond\", \"Greenwood\", \"Norwood\", \"P\\u00e9p\\u00e9\", \"Havertz\", \"Borges Da Silva\", \"Murphy\", \"Hayden\", \"Ceballos Fern\\u00e1ndez\", \"Sissoko\", \"McArthur\", \"Brady\", \"Lundstram\", \"Mendy\", \"Torres\", \"Fleck\", \"Aubameyang\", \"Burke\", \"Pogba\", \"Schlupp\", \"Phillips\", \"Shelvey\", \"Kovacic\", \"Hudson-Odoi\", \"Jones\", \"Iwobi\", \"Rodrigues de Paula Santos\", \"Albrighton\", \"Milivojevic\", \"Jota\", \"Lemina\", \"Tavares\", \"Rodrigues Moura da Silva\", \"Henderson\", \"Saint-Maximin\", \"Loftus-Cheek\", \"Veiga de Carvalho e Silva\", \"Lingard\", \"De Bruyne\", \"Barkley\", \"Walcott\", \"Man\\u00e9\", \"Ibrahim Hassan\", \"Phillips\", \"Hendrick\", \"Smith Rowe\", \"Xhaka\", \"Gallagher\", \"Brownhill\", \"Kant\\u00e9\", \"Romeu Vidal\", \"Rodr\\u00edguez\", \"Sousa de Azevedo e Costa\", \"Traor\\u00e9\", \"Sterling\", \"Santos Moutinho\", \"Soares de Paulo\", \"Ndidi\", \"Castelo Podence\", \"Sigurdsson\", \"Riedewald\", \"Bissouma\", \"Neves Abreu Cavaleiro\", \"Hernandez\", \"Doucour\\u00e9\", \"El Ghazi\", \"Townsend\", \"March\", \"Almir\\u00f3n\", \"Dendoncker\", \"Kouyat\\u00e9\", \"Zambo Anguissa\", \"Gro\\u00df\", \"Reed\", \"Ndombele\", \"Westwood\", \"Salah\", \"McNeil\", \"Wijnaldum\", \"Eze\", \"Rashford\", \"Zaha\", \"Fornals\", \"Mahrez\", \"McTominay\", \"Rice\", \"Klich\", \"Traor\\u00e9\", \"H\\u00f8jbjerg\", \"McGinn\", \"Maddison\", \"Armstrong\", \"Grealish\", \"Mount\", \"Tielemans\", \"Foden\", \"Borges Fernandes\", \"da Silva Neves\", \"Saka\", \"Bowen\", \"Barnes\", \"Son\", \"Trossard\", \"Lookman\", \"Frello Filho\", \"Dias Belloli\", \"Pereira\", \"Ward-Prowse\", \"Lomba Neto\", \"Harrison\", \"Soucek\", \"G\\u00fcndogan\"], \"xaxis\": \"x\", \"y\": [-1.0, 0.0, 0.0, 0.0, 0.0, 0.0, 0.0, 0.0, 0.0, 0.0, 0.0, 0.0, 0.0, 0.0, 0.0, 0.0, 0.0, 0.0, 0.0, 0.0, 0.0, 0.0, 0.0, 0.0, 0.0, 0.0, 0.0, 0.0, 0.0, 0.0, 0.0, 0.0, 0.0, 0.0, 0.0, 0.0, 0.0, 0.0, 0.0, 0.0, 0.0, 0.0, 0.0, 0.0, 0.0, 0.0, 0.0, 0.0, 0.0, 0.0, 0.0, 0.0, 0.0, 0.0, 0.0, 0.0, 0.0, 0.0, 0.0, 0.0, 0.0, 0.0, 0.0, 0.0, 0.0, 0.0, 0.0, 0.0, 0.0, 0.0, 1.0, 1.0, 1.0, 1.0, 1.0, 1.0, 1.0, 1.0, 2.0, 2.0, 2.0, 2.0, 2.0, 3.0, 3.0, 3.0, 3.0, 5.0, 5.0, 6.0, 6.0, 6.0, 7.0, 8.0, 7.0, 7.0, 8.0, 10.0, 9.0, 12.0, 14.0, 8.0, 10.0, 11.0, 10.0, 10.0, 14.0, 13.0, 16.0, 13.0, 16.0, 15.0, 19.0, 16.0, 15.0, 18.0, 23.0, 20.0, 20.0, 17.0, 17.0, 15.0, 20.0, 17.0, 23.0, 18.0, 17.0, 25.0, 23.0, 23.0, 18.0, 18.0, 20.0, 20.0, 23.0, 24.0, 27.0, 29.0, 31.0, 35.0, 40.0, 27.0, 29.0, 30.0, 29.0, 59.0, 51.0, 35.0, 56.0, 41.0, 34.0, 36.0, 29.0, 33.0, 39.0, 30.0, 33.0, 35.0, 34.0, 39.0, 40.0, 40.0, 41.0, 47.0, 47.0, 42.0, 49.0, 51.0, 56.0, 37.0, 63.0, 68.0, 63.0, 42.0, 40.0, 41.0, 41.0, 45.0, 44.0, 44.0, 38.0, 62.0, 52.0, 108.0, 39.0, 72.0, 51.0, 49.0, 51.0, 51.0, 55.0, 43.0, 58.0, 52.0, 52.0, 56.0, 71.0, 46.0, 55.0, 68.0, 56.0, 53.0, 62.0, 78.0, 68.0, 128.0, 63.0, 62.0, 127.0, 56.0, 53.0, 49.0, 46.0, 57.0, 61.0, 55.0, 55.0, 51.0, 88.0, 58.0, 72.0, 138.0, 62.0, 59.0, 59.0, 68.0, 88.0, 57.0, 60.0, 72.0, 72.0, 71.0, 72.0, 76.0, 69.0, 79.0, 66.0, 70.0, 66.0, 85.0, 65.0, 88.0, 79.0, 189.0, 87.0, 81.0, 90.0, 148.0, 112.0, 92.0, 132.0, 79.0, 76.0, 85.0, 97.0, 81.0, 92.0, 120.0, 93.0, 129.0, 124.0, 113.0, 109.0, 214.0, 94.0, 96.0, 110.0, 126.0, 180.0, 109.0, 96.0, 94.0, 115.0, 111.0, 128.0, 124.0, 124.0, 123.0, 143.0], \"yaxis\": \"y\"}],                        {\"barmode\": \"relative\", \"legend\": {\"tracegroupgap\": 0}, \"margin\": {\"t\": 60}, \"template\": {\"data\": {\"bar\": [{\"error_x\": {\"color\": \"#2a3f5f\"}, \"error_y\": {\"color\": \"#2a3f5f\"}, \"marker\": {\"line\": {\"color\": \"#E5ECF6\", \"width\": 0.5}}, \"type\": \"bar\"}], \"barpolar\": [{\"marker\": {\"line\": {\"color\": \"#E5ECF6\", \"width\": 0.5}}, \"type\": \"barpolar\"}], \"carpet\": [{\"aaxis\": {\"endlinecolor\": \"#2a3f5f\", \"gridcolor\": \"white\", \"linecolor\": \"white\", \"minorgridcolor\": \"white\", \"startlinecolor\": \"#2a3f5f\"}, \"baxis\": {\"endlinecolor\": \"#2a3f5f\", \"gridcolor\": \"white\", \"linecolor\": \"white\", \"minorgridcolor\": \"white\", \"startlinecolor\": \"#2a3f5f\"}, \"type\": \"carpet\"}], \"choropleth\": [{\"colorbar\": {\"outlinewidth\": 0, \"ticks\": \"\"}, \"type\": \"choropleth\"}], \"contour\": [{\"colorbar\": {\"outlinewidth\": 0, \"ticks\": \"\"}, \"colorscale\": [[0.0, \"#0d0887\"], [0.1111111111111111, \"#46039f\"], [0.2222222222222222, \"#7201a8\"], [0.3333333333333333, \"#9c179e\"], [0.4444444444444444, \"#bd3786\"], [0.5555555555555556, \"#d8576b\"], [0.6666666666666666, \"#ed7953\"], [0.7777777777777778, \"#fb9f3a\"], [0.8888888888888888, \"#fdca26\"], [1.0, \"#f0f921\"]], \"type\": \"contour\"}], \"contourcarpet\": [{\"colorbar\": {\"outlinewidth\": 0, \"ticks\": \"\"}, \"type\": \"contourcarpet\"}], \"heatmap\": [{\"colorbar\": {\"outlinewidth\": 0, \"ticks\": \"\"}, \"colorscale\": [[0.0, \"#0d0887\"], [0.1111111111111111, \"#46039f\"], [0.2222222222222222, \"#7201a8\"], [0.3333333333333333, \"#9c179e\"], [0.4444444444444444, \"#bd3786\"], [0.5555555555555556, \"#d8576b\"], [0.6666666666666666, \"#ed7953\"], [0.7777777777777778, \"#fb9f3a\"], [0.8888888888888888, \"#fdca26\"], [1.0, \"#f0f921\"]], \"type\": \"heatmap\"}], \"heatmapgl\": [{\"colorbar\": {\"outlinewidth\": 0, \"ticks\": \"\"}, \"colorscale\": [[0.0, \"#0d0887\"], [0.1111111111111111, \"#46039f\"], [0.2222222222222222, \"#7201a8\"], [0.3333333333333333, \"#9c179e\"], [0.4444444444444444, \"#bd3786\"], [0.5555555555555556, \"#d8576b\"], [0.6666666666666666, \"#ed7953\"], [0.7777777777777778, \"#fb9f3a\"], [0.8888888888888888, \"#fdca26\"], [1.0, \"#f0f921\"]], \"type\": \"heatmapgl\"}], \"histogram\": [{\"marker\": {\"colorbar\": {\"outlinewidth\": 0, \"ticks\": \"\"}}, \"type\": \"histogram\"}], \"histogram2d\": [{\"colorbar\": {\"outlinewidth\": 0, \"ticks\": \"\"}, \"colorscale\": [[0.0, \"#0d0887\"], [0.1111111111111111, \"#46039f\"], [0.2222222222222222, \"#7201a8\"], [0.3333333333333333, \"#9c179e\"], [0.4444444444444444, \"#bd3786\"], [0.5555555555555556, \"#d8576b\"], [0.6666666666666666, \"#ed7953\"], [0.7777777777777778, \"#fb9f3a\"], [0.8888888888888888, \"#fdca26\"], [1.0, \"#f0f921\"]], \"type\": \"histogram2d\"}], \"histogram2dcontour\": [{\"colorbar\": {\"outlinewidth\": 0, \"ticks\": \"\"}, \"colorscale\": [[0.0, \"#0d0887\"], [0.1111111111111111, \"#46039f\"], [0.2222222222222222, \"#7201a8\"], [0.3333333333333333, \"#9c179e\"], [0.4444444444444444, \"#bd3786\"], [0.5555555555555556, \"#d8576b\"], [0.6666666666666666, \"#ed7953\"], [0.7777777777777778, \"#fb9f3a\"], [0.8888888888888888, \"#fdca26\"], [1.0, \"#f0f921\"]], \"type\": \"histogram2dcontour\"}], \"mesh3d\": [{\"colorbar\": {\"outlinewidth\": 0, \"ticks\": \"\"}, \"type\": \"mesh3d\"}], \"parcoords\": [{\"line\": {\"colorbar\": {\"outlinewidth\": 0, \"ticks\": \"\"}}, \"type\": \"parcoords\"}], \"pie\": [{\"automargin\": true, \"type\": \"pie\"}], \"scatter\": [{\"marker\": {\"colorbar\": {\"outlinewidth\": 0, \"ticks\": \"\"}}, \"type\": \"scatter\"}], \"scatter3d\": [{\"line\": {\"colorbar\": {\"outlinewidth\": 0, \"ticks\": \"\"}}, \"marker\": {\"colorbar\": {\"outlinewidth\": 0, \"ticks\": \"\"}}, \"type\": \"scatter3d\"}], \"scattercarpet\": [{\"marker\": {\"colorbar\": {\"outlinewidth\": 0, \"ticks\": \"\"}}, \"type\": \"scattercarpet\"}], \"scattergeo\": [{\"marker\": {\"colorbar\": {\"outlinewidth\": 0, \"ticks\": \"\"}}, \"type\": \"scattergeo\"}], \"scattergl\": [{\"marker\": {\"colorbar\": {\"outlinewidth\": 0, \"ticks\": \"\"}}, \"type\": \"scattergl\"}], \"scattermapbox\": [{\"marker\": {\"colorbar\": {\"outlinewidth\": 0, \"ticks\": \"\"}}, \"type\": \"scattermapbox\"}], \"scatterpolar\": [{\"marker\": {\"colorbar\": {\"outlinewidth\": 0, \"ticks\": \"\"}}, \"type\": \"scatterpolar\"}], \"scatterpolargl\": [{\"marker\": {\"colorbar\": {\"outlinewidth\": 0, \"ticks\": \"\"}}, \"type\": \"scatterpolargl\"}], \"scatterternary\": [{\"marker\": {\"colorbar\": {\"outlinewidth\": 0, \"ticks\": \"\"}}, \"type\": \"scatterternary\"}], \"surface\": [{\"colorbar\": {\"outlinewidth\": 0, \"ticks\": \"\"}, \"colorscale\": [[0.0, \"#0d0887\"], [0.1111111111111111, \"#46039f\"], [0.2222222222222222, \"#7201a8\"], [0.3333333333333333, \"#9c179e\"], [0.4444444444444444, \"#bd3786\"], [0.5555555555555556, \"#d8576b\"], [0.6666666666666666, \"#ed7953\"], [0.7777777777777778, \"#fb9f3a\"], [0.8888888888888888, \"#fdca26\"], [1.0, \"#f0f921\"]], \"type\": \"surface\"}], \"table\": [{\"cells\": {\"fill\": {\"color\": \"#EBF0F8\"}, \"line\": {\"color\": \"white\"}}, \"header\": {\"fill\": {\"color\": \"#C8D4E3\"}, \"line\": {\"color\": \"white\"}}, \"type\": \"table\"}]}, \"layout\": {\"annotationdefaults\": {\"arrowcolor\": \"#2a3f5f\", \"arrowhead\": 0, \"arrowwidth\": 1}, \"autotypenumbers\": \"strict\", \"coloraxis\": {\"colorbar\": {\"outlinewidth\": 0, \"ticks\": \"\"}}, \"colorscale\": {\"diverging\": [[0, \"#8e0152\"], [0.1, \"#c51b7d\"], [0.2, \"#de77ae\"], [0.3, \"#f1b6da\"], [0.4, \"#fde0ef\"], [0.5, \"#f7f7f7\"], [0.6, \"#e6f5d0\"], [0.7, \"#b8e186\"], [0.8, \"#7fbc41\"], [0.9, \"#4d9221\"], [1, \"#276419\"]], \"sequential\": [[0.0, \"#0d0887\"], [0.1111111111111111, \"#46039f\"], [0.2222222222222222, \"#7201a8\"], [0.3333333333333333, \"#9c179e\"], [0.4444444444444444, \"#bd3786\"], [0.5555555555555556, \"#d8576b\"], [0.6666666666666666, \"#ed7953\"], [0.7777777777777778, \"#fb9f3a\"], [0.8888888888888888, \"#fdca26\"], [1.0, \"#f0f921\"]], \"sequentialminus\": [[0.0, \"#0d0887\"], [0.1111111111111111, \"#46039f\"], [0.2222222222222222, \"#7201a8\"], [0.3333333333333333, \"#9c179e\"], [0.4444444444444444, \"#bd3786\"], [0.5555555555555556, \"#d8576b\"], [0.6666666666666666, \"#ed7953\"], [0.7777777777777778, \"#fb9f3a\"], [0.8888888888888888, \"#fdca26\"], [1.0, \"#f0f921\"]]}, \"colorway\": [\"#636efa\", \"#EF553B\", \"#00cc96\", \"#ab63fa\", \"#FFA15A\", \"#19d3f3\", \"#FF6692\", \"#B6E880\", \"#FF97FF\", \"#FECB52\"], \"font\": {\"color\": \"#2a3f5f\"}, \"geo\": {\"bgcolor\": \"white\", \"lakecolor\": \"white\", \"landcolor\": \"#E5ECF6\", \"showlakes\": true, \"showland\": true, \"subunitcolor\": \"white\"}, \"hoverlabel\": {\"align\": \"left\"}, \"hovermode\": \"closest\", \"mapbox\": {\"style\": \"light\"}, \"paper_bgcolor\": \"white\", \"plot_bgcolor\": \"#E5ECF6\", \"polar\": {\"angularaxis\": {\"gridcolor\": \"white\", \"linecolor\": \"white\", \"ticks\": \"\"}, \"bgcolor\": \"#E5ECF6\", \"radialaxis\": {\"gridcolor\": \"white\", \"linecolor\": \"white\", \"ticks\": \"\"}}, \"scene\": {\"xaxis\": {\"backgroundcolor\": \"#E5ECF6\", \"gridcolor\": \"white\", \"gridwidth\": 2, \"linecolor\": \"white\", \"showbackground\": true, \"ticks\": \"\", \"zerolinecolor\": \"white\"}, \"yaxis\": {\"backgroundcolor\": \"#E5ECF6\", \"gridcolor\": \"white\", \"gridwidth\": 2, \"linecolor\": \"white\", \"showbackground\": true, \"ticks\": \"\", \"zerolinecolor\": \"white\"}, \"zaxis\": {\"backgroundcolor\": \"#E5ECF6\", \"gridcolor\": \"white\", \"gridwidth\": 2, \"linecolor\": \"white\", \"showbackground\": true, \"ticks\": \"\", \"zerolinecolor\": \"white\"}}, \"shapedefaults\": {\"line\": {\"color\": \"#2a3f5f\"}}, \"ternary\": {\"aaxis\": {\"gridcolor\": \"white\", \"linecolor\": \"white\", \"ticks\": \"\"}, \"baxis\": {\"gridcolor\": \"white\", \"linecolor\": \"white\", \"ticks\": \"\"}, \"bgcolor\": \"#E5ECF6\", \"caxis\": {\"gridcolor\": \"white\", \"linecolor\": \"white\", \"ticks\": \"\"}}, \"title\": {\"x\": 0.05}, \"xaxis\": {\"automargin\": true, \"gridcolor\": \"white\", \"linecolor\": \"white\", \"ticks\": \"\", \"title\": {\"standoff\": 15}, \"zerolinecolor\": \"white\", \"zerolinewidth\": 2}, \"yaxis\": {\"automargin\": true, \"gridcolor\": \"white\", \"linecolor\": \"white\", \"ticks\": \"\", \"title\": {\"standoff\": 15}, \"zerolinecolor\": \"white\", \"zerolinewidth\": 2}}}, \"xaxis\": {\"anchor\": \"y\", \"domain\": [0.0, 1.0], \"title\": {\"text\": \"second_name\"}}, \"yaxis\": {\"anchor\": \"x\", \"domain\": [0.0, 1.0], \"title\": {\"text\": \"value\"}}},                        {\"responsive\": true}                    ).then(function(){\n",
       "                            \n",
       "var gd = document.getElementById('820af752-24fb-4af3-98df-14c34c6bbdbf');\n",
       "var x = new MutationObserver(function (mutations, observer) {{\n",
       "        var display = window.getComputedStyle(gd).display;\n",
       "        if (!display || display === 'none') {{\n",
       "            console.log([gd, 'removed!']);\n",
       "            Plotly.purge(gd);\n",
       "            observer.disconnect();\n",
       "        }}\n",
       "}});\n",
       "\n",
       "// Listen for the removal of the full notebook cells\n",
       "var notebookContainer = gd.closest('#notebook-container');\n",
       "if (notebookContainer) {{\n",
       "    x.observe(notebookContainer, {childList: true});\n",
       "}}\n",
       "\n",
       "// Listen for the clearing of the current output cell\n",
       "var outputEl = gd.closest('.output');\n",
       "if (outputEl) {{\n",
       "    x.observe(outputEl, {childList: true});\n",
       "}}\n",
       "\n",
       "                        })                };                });            </script>        </div>"
      ]
     },
     "metadata": {},
     "output_type": "display_data"
    },
    {
     "data": {
      "application/vnd.plotly.v1+json": {
       "config": {
        "plotlyServerURL": "https://plot.ly"
       },
       "data": [
        {
         "alignmentgroup": "True",
         "customdata": [
          [
           "Wolves"
          ],
          [
           "Burnley"
          ],
          [
           "Wolves"
          ],
          [
           "West Brom"
          ],
          [
           "Crystal Palace"
          ],
          [
           "West Ham"
          ],
          [
           "West Ham"
          ],
          [
           "Newcastle"
          ],
          [
           "West Brom"
          ],
          [
           "Brighton"
          ],
          [
           "Everton"
          ],
          [
           "Aston Villa"
          ],
          [
           "West Ham"
          ],
          [
           "Aston Villa"
          ],
          [
           "Aston Villa"
          ],
          [
           "Leeds"
          ],
          [
           "Brighton"
          ],
          [
           "Man City"
          ],
          [
           "Man Utd"
          ],
          [
           "Spurs"
          ],
          [
           "Leeds"
          ],
          [
           "Southampton"
          ],
          [
           "Sheffield Utd"
          ],
          [
           "Leicester"
          ],
          [
           "Wolves"
          ],
          [
           "Everton"
          ],
          [
           "Burnley"
          ],
          [
           "Burnley"
          ],
          [
           "Everton"
          ],
          [
           "West Brom"
          ],
          [
           "Brighton"
          ],
          [
           "Everton"
          ],
          [
           "Man City"
          ],
          [
           "Sheffield Utd"
          ],
          [
           "Spurs"
          ],
          [
           "Liverpool"
          ],
          [
           "West Brom"
          ],
          [
           "Crystal Palace"
          ],
          [
           "Southampton"
          ],
          [
           "Southampton"
          ],
          [
           "Aston Villa"
          ],
          [
           "Wolves"
          ],
          [
           "Newcastle"
          ],
          [
           "Fulham"
          ],
          [
           "Arsenal"
          ],
          [
           "Wolves"
          ],
          [
           "Newcastle"
          ],
          [
           "West Brom"
          ],
          [
           "Sheffield Utd"
          ],
          [
           "Chelsea"
          ],
          [
           "West Brom"
          ],
          [
           "West Ham"
          ],
          [
           "Brighton"
          ],
          [
           "Crystal Palace"
          ],
          [
           "Sheffield Utd"
          ],
          [
           "Sheffield Utd"
          ],
          [
           "Man Utd"
          ],
          [
           "Burnley"
          ],
          [
           "Burnley"
          ],
          [
           "Burnley"
          ],
          [
           "Man Utd"
          ],
          [
           "Wolves"
          ],
          [
           "Chelsea"
          ],
          [
           "Newcastle"
          ],
          [
           "Leicester"
          ],
          [
           "Leeds"
          ],
          [
           "Brighton"
          ],
          [
           "Man City"
          ],
          [
           "Fulham"
          ],
          [
           "Crystal Palace"
          ],
          [
           "Chelsea"
          ],
          [
           "Liverpool"
          ],
          [
           "West Brom"
          ],
          [
           "Crystal Palace"
          ],
          [
           "Everton"
          ],
          [
           "Southampton"
          ],
          [
           "Fulham"
          ],
          [
           "Arsenal"
          ],
          [
           "West Ham"
          ],
          [
           "Sheffield Utd"
          ],
          [
           "Leicester"
          ],
          [
           "Burnley"
          ],
          [
           "Brighton"
          ],
          [
           "Spurs"
          ],
          [
           "Newcastle"
          ],
          [
           "Everton"
          ],
          [
           "Southampton"
          ],
          [
           "Aston Villa"
          ],
          [
           "Leeds"
          ]
         ],
         "hovertemplate": "second_name=%{x}<br>value=%{y}<br>team=%{customdata[0]}<extra></extra>",
         "legendgroup": "",
         "marker": {
          "color": "#636efa"
         },
         "name": "",
         "offsetgroup": "",
         "orientation": "v",
         "showlegend": false,
         "textposition": "auto",
         "type": "bar",
         "x": [
          "Campana",
          "Thompson",
          "Bonatini",
          "Zohore",
          "Wickham",
          "Odubeko",
          "Ajeti",
          "Muto",
          "Diaby",
          "Murray",
          "Simms",
          "Vassilev",
          "Hugill",
          "Samatta",
          "Moraes",
          "Gelhardt",
          "Andone",
          "Delap",
          "Ighalo",
          "Scarlett",
          "Huggins",
          "Obafemi",
          "Hackford",
          "Slimani",
          "Cutrone",
          "Kean",
          "Mumbongo",
          "Richardson",
          "Tosun",
          "Austin",
          "Zeqiri",
          "King",
          "Agüero",
          "Mousset",
          "Alves Morais",
          "Origi",
          "Robson-Kanu",
          "Mateta",
          "Long",
          "N'Lundulu",
          "Davis",
          "Da Silva",
          "Gayle",
          "Maja",
          "Nketiah",
          "Jiménez",
          "Carroll",
          "Diagne",
          "Brewster",
          "Giroud",
          "Grant",
          "Haller",
          "Connolly",
          "Batshuayi",
          "Sharp",
          "McBurnie",
          "Cavani",
          "Barnes",
          "Rodriguez",
          "Vydra",
          "Martial",
          "Silva",
          "Abraham",
          "Apolinário de Lira",
          "Iheanacho",
          "Moreno",
          "Welbeck",
          "de Jesus",
          "Mitrović",
          "Ayew",
          "Werner",
          "Firmino",
          "Robinson",
          "Benteke",
          "de Andrade",
          "Ings",
          "Decordova-Reid",
          "Lacazette",
          "Antonio",
          "McGoldrick",
          "Vardy",
          "Wood",
          "Maupay",
          "Kane",
          "Wilson",
          "Calvert-Lewin",
          "Adams",
          "Watkins",
          "Bamford"
         ],
         "xaxis": "x",
         "y": [
          0,
          0,
          0,
          0,
          0,
          0,
          0,
          0,
          0,
          0,
          0,
          0,
          0,
          0,
          0,
          0,
          0,
          0.2,
          0.2,
          0.2,
          0.2,
          0.2,
          0.2,
          0.2,
          0.3,
          0.4,
          0.4,
          0.4,
          0.7,
          1,
          1.2,
          1.5,
          1.7,
          1.7,
          1.9,
          2,
          2.3,
          2.4,
          2.4,
          2.7,
          2.9,
          3.5,
          3.7,
          5,
          5.1,
          5.3,
          5.5,
          5.8,
          6.3,
          6.6,
          6.6,
          6.7,
          6.9,
          7,
          7.1,
          7.7,
          7.8,
          8,
          8.3,
          8.5,
          8.7,
          9.2,
          9.4,
          9.5,
          9.8,
          9.8,
          10.7,
          10.8,
          10.9,
          11.1,
          11.5,
          11.8,
          12.1,
          12.2,
          12.2,
          12.6,
          13.4,
          13.4,
          13.6,
          13.7,
          14.8,
          14.8,
          16.5,
          17.4,
          17.8,
          18.2,
          18.8,
          20.3,
          24.5
         ],
         "yaxis": "y"
        },
        {
         "customdata": [
          [
           48
          ],
          [
           45
          ],
          [
           48
          ],
          [
           48
          ],
          [
           44
          ],
          [
           45
          ],
          [
           55
          ],
          [
           48
          ],
          [
           45
          ],
          [
           48
          ],
          [
           45
          ],
          [
           43
          ],
          [
           55
          ],
          [
           59
          ],
          [
           60
          ],
          [
           45
          ],
          [
           48
          ],
          [
           43
          ],
          [
           61
          ],
          [
           45
          ],
          [
           45
          ],
          [
           46
          ],
          [
           44
          ],
          [
           49
          ],
          [
           59
          ],
          [
           57
          ],
          [
           45
          ],
          [
           45
          ],
          [
           60
          ],
          [
           51
          ],
          [
           50
          ],
          [
           52
          ],
          [
           103
          ],
          [
           58
          ],
          [
           69
          ],
          [
           51
          ],
          [
           52
          ],
          [
           54
          ],
          [
           51
          ],
          [
           45
          ],
          [
           42
          ],
          [
           68
          ],
          [
           59
          ],
          [
           54
          ],
          [
           53
          ],
          [
           81
          ],
          [
           51
          ],
          [
           60
          ],
          [
           43
          ],
          [
           67
          ],
          [
           56
          ],
          [
           61
          ],
          [
           52
          ],
          [
           57
          ],
          [
           55
          ],
          [
           56
          ],
          [
           78
          ],
          [
           60
          ],
          [
           58
          ],
          [
           48
          ],
          [
           86
          ],
          [
           52
          ],
          [
           71
          ],
          [
           57
          ],
          [
           58
          ],
          [
           57
          ],
          [
           55
          ],
          [
           92
          ],
          [
           55
          ],
          [
           56
          ],
          [
           92
          ],
          [
           90
          ],
          [
           52
          ],
          [
           55
          ],
          [
           79
          ],
          [
           84
          ],
          [
           53
          ],
          [
           83
          ],
          [
           66
          ],
          [
           52
          ],
          [
           101
          ],
          [
           63
          ],
          [
           60
          ],
          [
           117
          ],
          [
           65
          ],
          [
           76
          ],
          [
           58
          ],
          [
           65
          ],
          [
           66
          ]
         ],
         "hovertemplate": "second_name=%{x}<br>total_points=%{y}<br>now_cost=%{customdata[0]}<extra></extra>",
         "legendgroup": "",
         "marker": {
          "color": "#636efa",
          "symbol": "circle"
         },
         "mode": "markers",
         "name": "",
         "orientation": "v",
         "showlegend": false,
         "type": "scatter",
         "x": [
          "Campana",
          "Thompson",
          "Bonatini",
          "Zohore",
          "Wickham",
          "Odubeko",
          "Ajeti",
          "Muto",
          "Diaby",
          "Murray",
          "Simms",
          "Vassilev",
          "Hugill",
          "Samatta",
          "Moraes",
          "Gelhardt",
          "Andone",
          "Delap",
          "Ighalo",
          "Scarlett",
          "Huggins",
          "Obafemi",
          "Hackford",
          "Slimani",
          "Cutrone",
          "Kean",
          "Mumbongo",
          "Richardson",
          "Tosun",
          "Austin",
          "Zeqiri",
          "King",
          "Agüero",
          "Mousset",
          "Alves Morais",
          "Origi",
          "Robson-Kanu",
          "Mateta",
          "Long",
          "N'Lundulu",
          "Davis",
          "Da Silva",
          "Gayle",
          "Maja",
          "Nketiah",
          "Jiménez",
          "Carroll",
          "Diagne",
          "Brewster",
          "Giroud",
          "Grant",
          "Haller",
          "Connolly",
          "Batshuayi",
          "Sharp",
          "McBurnie",
          "Cavani",
          "Barnes",
          "Rodriguez",
          "Vydra",
          "Martial",
          "Silva",
          "Abraham",
          "Apolinário de Lira",
          "Iheanacho",
          "Moreno",
          "Welbeck",
          "de Jesus",
          "Mitrović",
          "Ayew",
          "Werner",
          "Firmino",
          "Robinson",
          "Benteke",
          "de Andrade",
          "Ings",
          "Decordova-Reid",
          "Lacazette",
          "Antonio",
          "McGoldrick",
          "Vardy",
          "Wood",
          "Maupay",
          "Kane",
          "Wilson",
          "Calvert-Lewin",
          "Adams",
          "Watkins",
          "Bamford"
         ],
         "xaxis": "x",
         "y": [
          0,
          0,
          0,
          0,
          0,
          0,
          0,
          0,
          0,
          0,
          0,
          0,
          0,
          0,
          0,
          0,
          0,
          1,
          1,
          1,
          1,
          1,
          1,
          1,
          2,
          2,
          2,
          2,
          4,
          5,
          6,
          8,
          17,
          10,
          13,
          10,
          12,
          13,
          12,
          12,
          12,
          24,
          22,
          27,
          27,
          43,
          28,
          35,
          27,
          44,
          37,
          41,
          36,
          40,
          39,
          43,
          61,
          48,
          48,
          41,
          75,
          48,
          67,
          54,
          57,
          56,
          59,
          99,
          60,
          62,
          106,
          106,
          63,
          67,
          96,
          106,
          71,
          111,
          90,
          71,
          149,
          93,
          99,
          204,
          116,
          138,
          109,
          132,
          162
         ],
         "yaxis": "y"
        }
       ],
       "layout": {
        "barmode": "relative",
        "legend": {
         "tracegroupgap": 0
        },
        "margin": {
         "t": 60
        },
        "template": {
         "data": {
          "bar": [
           {
            "error_x": {
             "color": "#2a3f5f"
            },
            "error_y": {
             "color": "#2a3f5f"
            },
            "marker": {
             "line": {
              "color": "#E5ECF6",
              "width": 0.5
             }
            },
            "type": "bar"
           }
          ],
          "barpolar": [
           {
            "marker": {
             "line": {
              "color": "#E5ECF6",
              "width": 0.5
             }
            },
            "type": "barpolar"
           }
          ],
          "carpet": [
           {
            "aaxis": {
             "endlinecolor": "#2a3f5f",
             "gridcolor": "white",
             "linecolor": "white",
             "minorgridcolor": "white",
             "startlinecolor": "#2a3f5f"
            },
            "baxis": {
             "endlinecolor": "#2a3f5f",
             "gridcolor": "white",
             "linecolor": "white",
             "minorgridcolor": "white",
             "startlinecolor": "#2a3f5f"
            },
            "type": "carpet"
           }
          ],
          "choropleth": [
           {
            "colorbar": {
             "outlinewidth": 0,
             "ticks": ""
            },
            "type": "choropleth"
           }
          ],
          "contour": [
           {
            "colorbar": {
             "outlinewidth": 0,
             "ticks": ""
            },
            "colorscale": [
             [
              0,
              "#0d0887"
             ],
             [
              0.1111111111111111,
              "#46039f"
             ],
             [
              0.2222222222222222,
              "#7201a8"
             ],
             [
              0.3333333333333333,
              "#9c179e"
             ],
             [
              0.4444444444444444,
              "#bd3786"
             ],
             [
              0.5555555555555556,
              "#d8576b"
             ],
             [
              0.6666666666666666,
              "#ed7953"
             ],
             [
              0.7777777777777778,
              "#fb9f3a"
             ],
             [
              0.8888888888888888,
              "#fdca26"
             ],
             [
              1,
              "#f0f921"
             ]
            ],
            "type": "contour"
           }
          ],
          "contourcarpet": [
           {
            "colorbar": {
             "outlinewidth": 0,
             "ticks": ""
            },
            "type": "contourcarpet"
           }
          ],
          "heatmap": [
           {
            "colorbar": {
             "outlinewidth": 0,
             "ticks": ""
            },
            "colorscale": [
             [
              0,
              "#0d0887"
             ],
             [
              0.1111111111111111,
              "#46039f"
             ],
             [
              0.2222222222222222,
              "#7201a8"
             ],
             [
              0.3333333333333333,
              "#9c179e"
             ],
             [
              0.4444444444444444,
              "#bd3786"
             ],
             [
              0.5555555555555556,
              "#d8576b"
             ],
             [
              0.6666666666666666,
              "#ed7953"
             ],
             [
              0.7777777777777778,
              "#fb9f3a"
             ],
             [
              0.8888888888888888,
              "#fdca26"
             ],
             [
              1,
              "#f0f921"
             ]
            ],
            "type": "heatmap"
           }
          ],
          "heatmapgl": [
           {
            "colorbar": {
             "outlinewidth": 0,
             "ticks": ""
            },
            "colorscale": [
             [
              0,
              "#0d0887"
             ],
             [
              0.1111111111111111,
              "#46039f"
             ],
             [
              0.2222222222222222,
              "#7201a8"
             ],
             [
              0.3333333333333333,
              "#9c179e"
             ],
             [
              0.4444444444444444,
              "#bd3786"
             ],
             [
              0.5555555555555556,
              "#d8576b"
             ],
             [
              0.6666666666666666,
              "#ed7953"
             ],
             [
              0.7777777777777778,
              "#fb9f3a"
             ],
             [
              0.8888888888888888,
              "#fdca26"
             ],
             [
              1,
              "#f0f921"
             ]
            ],
            "type": "heatmapgl"
           }
          ],
          "histogram": [
           {
            "marker": {
             "colorbar": {
              "outlinewidth": 0,
              "ticks": ""
             }
            },
            "type": "histogram"
           }
          ],
          "histogram2d": [
           {
            "colorbar": {
             "outlinewidth": 0,
             "ticks": ""
            },
            "colorscale": [
             [
              0,
              "#0d0887"
             ],
             [
              0.1111111111111111,
              "#46039f"
             ],
             [
              0.2222222222222222,
              "#7201a8"
             ],
             [
              0.3333333333333333,
              "#9c179e"
             ],
             [
              0.4444444444444444,
              "#bd3786"
             ],
             [
              0.5555555555555556,
              "#d8576b"
             ],
             [
              0.6666666666666666,
              "#ed7953"
             ],
             [
              0.7777777777777778,
              "#fb9f3a"
             ],
             [
              0.8888888888888888,
              "#fdca26"
             ],
             [
              1,
              "#f0f921"
             ]
            ],
            "type": "histogram2d"
           }
          ],
          "histogram2dcontour": [
           {
            "colorbar": {
             "outlinewidth": 0,
             "ticks": ""
            },
            "colorscale": [
             [
              0,
              "#0d0887"
             ],
             [
              0.1111111111111111,
              "#46039f"
             ],
             [
              0.2222222222222222,
              "#7201a8"
             ],
             [
              0.3333333333333333,
              "#9c179e"
             ],
             [
              0.4444444444444444,
              "#bd3786"
             ],
             [
              0.5555555555555556,
              "#d8576b"
             ],
             [
              0.6666666666666666,
              "#ed7953"
             ],
             [
              0.7777777777777778,
              "#fb9f3a"
             ],
             [
              0.8888888888888888,
              "#fdca26"
             ],
             [
              1,
              "#f0f921"
             ]
            ],
            "type": "histogram2dcontour"
           }
          ],
          "mesh3d": [
           {
            "colorbar": {
             "outlinewidth": 0,
             "ticks": ""
            },
            "type": "mesh3d"
           }
          ],
          "parcoords": [
           {
            "line": {
             "colorbar": {
              "outlinewidth": 0,
              "ticks": ""
             }
            },
            "type": "parcoords"
           }
          ],
          "pie": [
           {
            "automargin": true,
            "type": "pie"
           }
          ],
          "scatter": [
           {
            "marker": {
             "colorbar": {
              "outlinewidth": 0,
              "ticks": ""
             }
            },
            "type": "scatter"
           }
          ],
          "scatter3d": [
           {
            "line": {
             "colorbar": {
              "outlinewidth": 0,
              "ticks": ""
             }
            },
            "marker": {
             "colorbar": {
              "outlinewidth": 0,
              "ticks": ""
             }
            },
            "type": "scatter3d"
           }
          ],
          "scattercarpet": [
           {
            "marker": {
             "colorbar": {
              "outlinewidth": 0,
              "ticks": ""
             }
            },
            "type": "scattercarpet"
           }
          ],
          "scattergeo": [
           {
            "marker": {
             "colorbar": {
              "outlinewidth": 0,
              "ticks": ""
             }
            },
            "type": "scattergeo"
           }
          ],
          "scattergl": [
           {
            "marker": {
             "colorbar": {
              "outlinewidth": 0,
              "ticks": ""
             }
            },
            "type": "scattergl"
           }
          ],
          "scattermapbox": [
           {
            "marker": {
             "colorbar": {
              "outlinewidth": 0,
              "ticks": ""
             }
            },
            "type": "scattermapbox"
           }
          ],
          "scatterpolar": [
           {
            "marker": {
             "colorbar": {
              "outlinewidth": 0,
              "ticks": ""
             }
            },
            "type": "scatterpolar"
           }
          ],
          "scatterpolargl": [
           {
            "marker": {
             "colorbar": {
              "outlinewidth": 0,
              "ticks": ""
             }
            },
            "type": "scatterpolargl"
           }
          ],
          "scatterternary": [
           {
            "marker": {
             "colorbar": {
              "outlinewidth": 0,
              "ticks": ""
             }
            },
            "type": "scatterternary"
           }
          ],
          "surface": [
           {
            "colorbar": {
             "outlinewidth": 0,
             "ticks": ""
            },
            "colorscale": [
             [
              0,
              "#0d0887"
             ],
             [
              0.1111111111111111,
              "#46039f"
             ],
             [
              0.2222222222222222,
              "#7201a8"
             ],
             [
              0.3333333333333333,
              "#9c179e"
             ],
             [
              0.4444444444444444,
              "#bd3786"
             ],
             [
              0.5555555555555556,
              "#d8576b"
             ],
             [
              0.6666666666666666,
              "#ed7953"
             ],
             [
              0.7777777777777778,
              "#fb9f3a"
             ],
             [
              0.8888888888888888,
              "#fdca26"
             ],
             [
              1,
              "#f0f921"
             ]
            ],
            "type": "surface"
           }
          ],
          "table": [
           {
            "cells": {
             "fill": {
              "color": "#EBF0F8"
             },
             "line": {
              "color": "white"
             }
            },
            "header": {
             "fill": {
              "color": "#C8D4E3"
             },
             "line": {
              "color": "white"
             }
            },
            "type": "table"
           }
          ]
         },
         "layout": {
          "annotationdefaults": {
           "arrowcolor": "#2a3f5f",
           "arrowhead": 0,
           "arrowwidth": 1
          },
          "autotypenumbers": "strict",
          "coloraxis": {
           "colorbar": {
            "outlinewidth": 0,
            "ticks": ""
           }
          },
          "colorscale": {
           "diverging": [
            [
             0,
             "#8e0152"
            ],
            [
             0.1,
             "#c51b7d"
            ],
            [
             0.2,
             "#de77ae"
            ],
            [
             0.3,
             "#f1b6da"
            ],
            [
             0.4,
             "#fde0ef"
            ],
            [
             0.5,
             "#f7f7f7"
            ],
            [
             0.6,
             "#e6f5d0"
            ],
            [
             0.7,
             "#b8e186"
            ],
            [
             0.8,
             "#7fbc41"
            ],
            [
             0.9,
             "#4d9221"
            ],
            [
             1,
             "#276419"
            ]
           ],
           "sequential": [
            [
             0,
             "#0d0887"
            ],
            [
             0.1111111111111111,
             "#46039f"
            ],
            [
             0.2222222222222222,
             "#7201a8"
            ],
            [
             0.3333333333333333,
             "#9c179e"
            ],
            [
             0.4444444444444444,
             "#bd3786"
            ],
            [
             0.5555555555555556,
             "#d8576b"
            ],
            [
             0.6666666666666666,
             "#ed7953"
            ],
            [
             0.7777777777777778,
             "#fb9f3a"
            ],
            [
             0.8888888888888888,
             "#fdca26"
            ],
            [
             1,
             "#f0f921"
            ]
           ],
           "sequentialminus": [
            [
             0,
             "#0d0887"
            ],
            [
             0.1111111111111111,
             "#46039f"
            ],
            [
             0.2222222222222222,
             "#7201a8"
            ],
            [
             0.3333333333333333,
             "#9c179e"
            ],
            [
             0.4444444444444444,
             "#bd3786"
            ],
            [
             0.5555555555555556,
             "#d8576b"
            ],
            [
             0.6666666666666666,
             "#ed7953"
            ],
            [
             0.7777777777777778,
             "#fb9f3a"
            ],
            [
             0.8888888888888888,
             "#fdca26"
            ],
            [
             1,
             "#f0f921"
            ]
           ]
          },
          "colorway": [
           "#636efa",
           "#EF553B",
           "#00cc96",
           "#ab63fa",
           "#FFA15A",
           "#19d3f3",
           "#FF6692",
           "#B6E880",
           "#FF97FF",
           "#FECB52"
          ],
          "font": {
           "color": "#2a3f5f"
          },
          "geo": {
           "bgcolor": "white",
           "lakecolor": "white",
           "landcolor": "#E5ECF6",
           "showlakes": true,
           "showland": true,
           "subunitcolor": "white"
          },
          "hoverlabel": {
           "align": "left"
          },
          "hovermode": "closest",
          "mapbox": {
           "style": "light"
          },
          "paper_bgcolor": "white",
          "plot_bgcolor": "#E5ECF6",
          "polar": {
           "angularaxis": {
            "gridcolor": "white",
            "linecolor": "white",
            "ticks": ""
           },
           "bgcolor": "#E5ECF6",
           "radialaxis": {
            "gridcolor": "white",
            "linecolor": "white",
            "ticks": ""
           }
          },
          "scene": {
           "xaxis": {
            "backgroundcolor": "#E5ECF6",
            "gridcolor": "white",
            "gridwidth": 2,
            "linecolor": "white",
            "showbackground": true,
            "ticks": "",
            "zerolinecolor": "white"
           },
           "yaxis": {
            "backgroundcolor": "#E5ECF6",
            "gridcolor": "white",
            "gridwidth": 2,
            "linecolor": "white",
            "showbackground": true,
            "ticks": "",
            "zerolinecolor": "white"
           },
           "zaxis": {
            "backgroundcolor": "#E5ECF6",
            "gridcolor": "white",
            "gridwidth": 2,
            "linecolor": "white",
            "showbackground": true,
            "ticks": "",
            "zerolinecolor": "white"
           }
          },
          "shapedefaults": {
           "line": {
            "color": "#2a3f5f"
           }
          },
          "ternary": {
           "aaxis": {
            "gridcolor": "white",
            "linecolor": "white",
            "ticks": ""
           },
           "baxis": {
            "gridcolor": "white",
            "linecolor": "white",
            "ticks": ""
           },
           "bgcolor": "#E5ECF6",
           "caxis": {
            "gridcolor": "white",
            "linecolor": "white",
            "ticks": ""
           }
          },
          "title": {
           "x": 0.05
          },
          "xaxis": {
           "automargin": true,
           "gridcolor": "white",
           "linecolor": "white",
           "ticks": "",
           "title": {
            "standoff": 15
           },
           "zerolinecolor": "white",
           "zerolinewidth": 2
          },
          "yaxis": {
           "automargin": true,
           "gridcolor": "white",
           "linecolor": "white",
           "ticks": "",
           "title": {
            "standoff": 15
           },
           "zerolinecolor": "white",
           "zerolinewidth": 2
          }
         }
        },
        "xaxis": {
         "anchor": "y",
         "domain": [
          0,
          1
         ],
         "title": {
          "text": "second_name"
         }
        },
        "yaxis": {
         "anchor": "x",
         "domain": [
          0,
          1
         ],
         "title": {
          "text": "value"
         }
        }
       }
      },
      "text/html": [
       "<div>                            <div id=\"6e80a036-a11d-4de9-97a3-c8660dab4669\" class=\"plotly-graph-div\" style=\"height:525px; width:100%;\"></div>            <script type=\"text/javascript\">                require([\"plotly\"], function(Plotly) {                    window.PLOTLYENV=window.PLOTLYENV || {};                                    if (document.getElementById(\"6e80a036-a11d-4de9-97a3-c8660dab4669\")) {                    Plotly.newPlot(                        \"6e80a036-a11d-4de9-97a3-c8660dab4669\",                        [{\"alignmentgroup\": \"True\", \"customdata\": [[\"Wolves\"], [\"Burnley\"], [\"Wolves\"], [\"West Brom\"], [\"Crystal Palace\"], [\"West Ham\"], [\"West Ham\"], [\"Newcastle\"], [\"West Brom\"], [\"Brighton\"], [\"Everton\"], [\"Aston Villa\"], [\"West Ham\"], [\"Aston Villa\"], [\"Aston Villa\"], [\"Leeds\"], [\"Brighton\"], [\"Man City\"], [\"Man Utd\"], [\"Spurs\"], [\"Leeds\"], [\"Southampton\"], [\"Sheffield Utd\"], [\"Leicester\"], [\"Wolves\"], [\"Everton\"], [\"Burnley\"], [\"Burnley\"], [\"Everton\"], [\"West Brom\"], [\"Brighton\"], [\"Everton\"], [\"Man City\"], [\"Sheffield Utd\"], [\"Spurs\"], [\"Liverpool\"], [\"West Brom\"], [\"Crystal Palace\"], [\"Southampton\"], [\"Southampton\"], [\"Aston Villa\"], [\"Wolves\"], [\"Newcastle\"], [\"Fulham\"], [\"Arsenal\"], [\"Wolves\"], [\"Newcastle\"], [\"West Brom\"], [\"Sheffield Utd\"], [\"Chelsea\"], [\"West Brom\"], [\"West Ham\"], [\"Brighton\"], [\"Crystal Palace\"], [\"Sheffield Utd\"], [\"Sheffield Utd\"], [\"Man Utd\"], [\"Burnley\"], [\"Burnley\"], [\"Burnley\"], [\"Man Utd\"], [\"Wolves\"], [\"Chelsea\"], [\"Newcastle\"], [\"Leicester\"], [\"Leeds\"], [\"Brighton\"], [\"Man City\"], [\"Fulham\"], [\"Crystal Palace\"], [\"Chelsea\"], [\"Liverpool\"], [\"West Brom\"], [\"Crystal Palace\"], [\"Everton\"], [\"Southampton\"], [\"Fulham\"], [\"Arsenal\"], [\"West Ham\"], [\"Sheffield Utd\"], [\"Leicester\"], [\"Burnley\"], [\"Brighton\"], [\"Spurs\"], [\"Newcastle\"], [\"Everton\"], [\"Southampton\"], [\"Aston Villa\"], [\"Leeds\"]], \"hovertemplate\": \"second_name=%{x}<br>value=%{y}<br>team=%{customdata[0]}<extra></extra>\", \"legendgroup\": \"\", \"marker\": {\"color\": \"#636efa\"}, \"name\": \"\", \"offsetgroup\": \"\", \"orientation\": \"v\", \"showlegend\": false, \"textposition\": \"auto\", \"type\": \"bar\", \"x\": [\"Campana\", \"Thompson\", \"Bonatini\", \"Zohore\", \"Wickham\", \"Odubeko\", \"Ajeti\", \"Muto\", \"Diaby\", \"Murray\", \"Simms\", \"Vassilev\", \"Hugill\", \"Samatta\", \"Moraes\", \"Gelhardt\", \"Andone\", \"Delap\", \"Ighalo\", \"Scarlett\", \"Huggins\", \"Obafemi\", \"Hackford\", \"Slimani\", \"Cutrone\", \"Kean\", \"Mumbongo\", \"Richardson\", \"Tosun\", \"Austin\", \"Zeqiri\", \"King\", \"Ag\\u00fcero\", \"Mousset\", \"Alves Morais\", \"Origi\", \"Robson-Kanu\", \"Mateta\", \"Long\", \"N'Lundulu\", \"Davis\", \"Da Silva\", \"Gayle\", \"Maja\", \"Nketiah\", \"Jim\\u00e9nez\", \"Carroll\", \"Diagne\", \"Brewster\", \"Giroud\", \"Grant\", \"Haller\", \"Connolly\", \"Batshuayi\", \"Sharp\", \"McBurnie\", \"Cavani\", \"Barnes\", \"Rodriguez\", \"Vydra\", \"Martial\", \"Silva\", \"Abraham\", \"Apolin\\u00e1rio de Lira\", \"Iheanacho\", \"Moreno\", \"Welbeck\", \"de Jesus\", \"Mitrovi\\u0107\", \"Ayew\", \"Werner\", \"Firmino\", \"Robinson\", \"Benteke\", \"de Andrade\", \"Ings\", \"Decordova-Reid\", \"Lacazette\", \"Antonio\", \"McGoldrick\", \"Vardy\", \"Wood\", \"Maupay\", \"Kane\", \"Wilson\", \"Calvert-Lewin\", \"Adams\", \"Watkins\", \"Bamford\"], \"xaxis\": \"x\", \"y\": [0.0, 0.0, 0.0, 0.0, 0.0, 0.0, 0.0, 0.0, 0.0, 0.0, 0.0, 0.0, 0.0, 0.0, 0.0, 0.0, 0.0, 0.2, 0.2, 0.2, 0.2, 0.2, 0.2, 0.2, 0.3, 0.4, 0.4, 0.4, 0.7, 1.0, 1.2, 1.5, 1.7, 1.7, 1.9, 2.0, 2.3, 2.4, 2.4, 2.7, 2.9, 3.5, 3.7, 5.0, 5.1, 5.3, 5.5, 5.8, 6.3, 6.6, 6.6, 6.7, 6.9, 7.0, 7.1, 7.7, 7.8, 8.0, 8.3, 8.5, 8.7, 9.2, 9.4, 9.5, 9.8, 9.8, 10.7, 10.8, 10.9, 11.1, 11.5, 11.8, 12.1, 12.2, 12.2, 12.6, 13.4, 13.4, 13.6, 13.7, 14.8, 14.8, 16.5, 17.4, 17.8, 18.2, 18.8, 20.3, 24.5], \"yaxis\": \"y\"}, {\"customdata\": [[48], [45], [48], [48], [44], [45], [55], [48], [45], [48], [45], [43], [55], [59], [60], [45], [48], [43], [61], [45], [45], [46], [44], [49], [59], [57], [45], [45], [60], [51], [50], [52], [103], [58], [69], [51], [52], [54], [51], [45], [42], [68], [59], [54], [53], [81], [51], [60], [43], [67], [56], [61], [52], [57], [55], [56], [78], [60], [58], [48], [86], [52], [71], [57], [58], [57], [55], [92], [55], [56], [92], [90], [52], [55], [79], [84], [53], [83], [66], [52], [101], [63], [60], [117], [65], [76], [58], [65], [66]], \"hovertemplate\": \"second_name=%{x}<br>total_points=%{y}<br>now_cost=%{customdata[0]}<extra></extra>\", \"legendgroup\": \"\", \"marker\": {\"color\": \"#636efa\", \"symbol\": \"circle\"}, \"mode\": \"markers\", \"name\": \"\", \"orientation\": \"v\", \"showlegend\": false, \"type\": \"scatter\", \"x\": [\"Campana\", \"Thompson\", \"Bonatini\", \"Zohore\", \"Wickham\", \"Odubeko\", \"Ajeti\", \"Muto\", \"Diaby\", \"Murray\", \"Simms\", \"Vassilev\", \"Hugill\", \"Samatta\", \"Moraes\", \"Gelhardt\", \"Andone\", \"Delap\", \"Ighalo\", \"Scarlett\", \"Huggins\", \"Obafemi\", \"Hackford\", \"Slimani\", \"Cutrone\", \"Kean\", \"Mumbongo\", \"Richardson\", \"Tosun\", \"Austin\", \"Zeqiri\", \"King\", \"Ag\\u00fcero\", \"Mousset\", \"Alves Morais\", \"Origi\", \"Robson-Kanu\", \"Mateta\", \"Long\", \"N'Lundulu\", \"Davis\", \"Da Silva\", \"Gayle\", \"Maja\", \"Nketiah\", \"Jim\\u00e9nez\", \"Carroll\", \"Diagne\", \"Brewster\", \"Giroud\", \"Grant\", \"Haller\", \"Connolly\", \"Batshuayi\", \"Sharp\", \"McBurnie\", \"Cavani\", \"Barnes\", \"Rodriguez\", \"Vydra\", \"Martial\", \"Silva\", \"Abraham\", \"Apolin\\u00e1rio de Lira\", \"Iheanacho\", \"Moreno\", \"Welbeck\", \"de Jesus\", \"Mitrovi\\u0107\", \"Ayew\", \"Werner\", \"Firmino\", \"Robinson\", \"Benteke\", \"de Andrade\", \"Ings\", \"Decordova-Reid\", \"Lacazette\", \"Antonio\", \"McGoldrick\", \"Vardy\", \"Wood\", \"Maupay\", \"Kane\", \"Wilson\", \"Calvert-Lewin\", \"Adams\", \"Watkins\", \"Bamford\"], \"xaxis\": \"x\", \"y\": [0.0, 0.0, 0.0, 0.0, 0.0, 0.0, 0.0, 0.0, 0.0, 0.0, 0.0, 0.0, 0.0, 0.0, 0.0, 0.0, 0.0, 1.0, 1.0, 1.0, 1.0, 1.0, 1.0, 1.0, 2.0, 2.0, 2.0, 2.0, 4.0, 5.0, 6.0, 8.0, 17.0, 10.0, 13.0, 10.0, 12.0, 13.0, 12.0, 12.0, 12.0, 24.0, 22.0, 27.0, 27.0, 43.0, 28.0, 35.0, 27.0, 44.0, 37.0, 41.0, 36.0, 40.0, 39.0, 43.0, 61.0, 48.0, 48.0, 41.0, 75.0, 48.0, 67.0, 54.0, 57.0, 56.0, 59.0, 99.0, 60.0, 62.0, 106.0, 106.0, 63.0, 67.0, 96.0, 106.0, 71.0, 111.0, 90.0, 71.0, 149.0, 93.0, 99.0, 204.0, 116.0, 138.0, 109.0, 132.0, 162.0], \"yaxis\": \"y\"}],                        {\"barmode\": \"relative\", \"legend\": {\"tracegroupgap\": 0}, \"margin\": {\"t\": 60}, \"template\": {\"data\": {\"bar\": [{\"error_x\": {\"color\": \"#2a3f5f\"}, \"error_y\": {\"color\": \"#2a3f5f\"}, \"marker\": {\"line\": {\"color\": \"#E5ECF6\", \"width\": 0.5}}, \"type\": \"bar\"}], \"barpolar\": [{\"marker\": {\"line\": {\"color\": \"#E5ECF6\", \"width\": 0.5}}, \"type\": \"barpolar\"}], \"carpet\": [{\"aaxis\": {\"endlinecolor\": \"#2a3f5f\", \"gridcolor\": \"white\", \"linecolor\": \"white\", \"minorgridcolor\": \"white\", \"startlinecolor\": \"#2a3f5f\"}, \"baxis\": {\"endlinecolor\": \"#2a3f5f\", \"gridcolor\": \"white\", \"linecolor\": \"white\", \"minorgridcolor\": \"white\", \"startlinecolor\": \"#2a3f5f\"}, \"type\": \"carpet\"}], \"choropleth\": [{\"colorbar\": {\"outlinewidth\": 0, \"ticks\": \"\"}, \"type\": \"choropleth\"}], \"contour\": [{\"colorbar\": {\"outlinewidth\": 0, \"ticks\": \"\"}, \"colorscale\": [[0.0, \"#0d0887\"], [0.1111111111111111, \"#46039f\"], [0.2222222222222222, \"#7201a8\"], [0.3333333333333333, \"#9c179e\"], [0.4444444444444444, \"#bd3786\"], [0.5555555555555556, \"#d8576b\"], [0.6666666666666666, \"#ed7953\"], [0.7777777777777778, \"#fb9f3a\"], [0.8888888888888888, \"#fdca26\"], [1.0, \"#f0f921\"]], \"type\": \"contour\"}], \"contourcarpet\": [{\"colorbar\": {\"outlinewidth\": 0, \"ticks\": \"\"}, \"type\": \"contourcarpet\"}], \"heatmap\": [{\"colorbar\": {\"outlinewidth\": 0, \"ticks\": \"\"}, \"colorscale\": [[0.0, \"#0d0887\"], [0.1111111111111111, \"#46039f\"], [0.2222222222222222, \"#7201a8\"], [0.3333333333333333, \"#9c179e\"], [0.4444444444444444, \"#bd3786\"], [0.5555555555555556, \"#d8576b\"], [0.6666666666666666, \"#ed7953\"], [0.7777777777777778, \"#fb9f3a\"], [0.8888888888888888, \"#fdca26\"], [1.0, \"#f0f921\"]], \"type\": \"heatmap\"}], \"heatmapgl\": [{\"colorbar\": {\"outlinewidth\": 0, \"ticks\": \"\"}, \"colorscale\": [[0.0, \"#0d0887\"], [0.1111111111111111, \"#46039f\"], [0.2222222222222222, \"#7201a8\"], [0.3333333333333333, \"#9c179e\"], [0.4444444444444444, \"#bd3786\"], [0.5555555555555556, \"#d8576b\"], [0.6666666666666666, \"#ed7953\"], [0.7777777777777778, \"#fb9f3a\"], [0.8888888888888888, \"#fdca26\"], [1.0, \"#f0f921\"]], \"type\": \"heatmapgl\"}], \"histogram\": [{\"marker\": {\"colorbar\": {\"outlinewidth\": 0, \"ticks\": \"\"}}, \"type\": \"histogram\"}], \"histogram2d\": [{\"colorbar\": {\"outlinewidth\": 0, \"ticks\": \"\"}, \"colorscale\": [[0.0, \"#0d0887\"], [0.1111111111111111, \"#46039f\"], [0.2222222222222222, \"#7201a8\"], [0.3333333333333333, \"#9c179e\"], [0.4444444444444444, \"#bd3786\"], [0.5555555555555556, \"#d8576b\"], [0.6666666666666666, \"#ed7953\"], [0.7777777777777778, \"#fb9f3a\"], [0.8888888888888888, \"#fdca26\"], [1.0, \"#f0f921\"]], \"type\": \"histogram2d\"}], \"histogram2dcontour\": [{\"colorbar\": {\"outlinewidth\": 0, \"ticks\": \"\"}, \"colorscale\": [[0.0, \"#0d0887\"], [0.1111111111111111, \"#46039f\"], [0.2222222222222222, \"#7201a8\"], [0.3333333333333333, \"#9c179e\"], [0.4444444444444444, \"#bd3786\"], [0.5555555555555556, \"#d8576b\"], [0.6666666666666666, \"#ed7953\"], [0.7777777777777778, \"#fb9f3a\"], [0.8888888888888888, \"#fdca26\"], [1.0, \"#f0f921\"]], \"type\": \"histogram2dcontour\"}], \"mesh3d\": [{\"colorbar\": {\"outlinewidth\": 0, \"ticks\": \"\"}, \"type\": \"mesh3d\"}], \"parcoords\": [{\"line\": {\"colorbar\": {\"outlinewidth\": 0, \"ticks\": \"\"}}, \"type\": \"parcoords\"}], \"pie\": [{\"automargin\": true, \"type\": \"pie\"}], \"scatter\": [{\"marker\": {\"colorbar\": {\"outlinewidth\": 0, \"ticks\": \"\"}}, \"type\": \"scatter\"}], \"scatter3d\": [{\"line\": {\"colorbar\": {\"outlinewidth\": 0, \"ticks\": \"\"}}, \"marker\": {\"colorbar\": {\"outlinewidth\": 0, \"ticks\": \"\"}}, \"type\": \"scatter3d\"}], \"scattercarpet\": [{\"marker\": {\"colorbar\": {\"outlinewidth\": 0, \"ticks\": \"\"}}, \"type\": \"scattercarpet\"}], \"scattergeo\": [{\"marker\": {\"colorbar\": {\"outlinewidth\": 0, \"ticks\": \"\"}}, \"type\": \"scattergeo\"}], \"scattergl\": [{\"marker\": {\"colorbar\": {\"outlinewidth\": 0, \"ticks\": \"\"}}, \"type\": \"scattergl\"}], \"scattermapbox\": [{\"marker\": {\"colorbar\": {\"outlinewidth\": 0, \"ticks\": \"\"}}, \"type\": \"scattermapbox\"}], \"scatterpolar\": [{\"marker\": {\"colorbar\": {\"outlinewidth\": 0, \"ticks\": \"\"}}, \"type\": \"scatterpolar\"}], \"scatterpolargl\": [{\"marker\": {\"colorbar\": {\"outlinewidth\": 0, \"ticks\": \"\"}}, \"type\": \"scatterpolargl\"}], \"scatterternary\": [{\"marker\": {\"colorbar\": {\"outlinewidth\": 0, \"ticks\": \"\"}}, \"type\": \"scatterternary\"}], \"surface\": [{\"colorbar\": {\"outlinewidth\": 0, \"ticks\": \"\"}, \"colorscale\": [[0.0, \"#0d0887\"], [0.1111111111111111, \"#46039f\"], [0.2222222222222222, \"#7201a8\"], [0.3333333333333333, \"#9c179e\"], [0.4444444444444444, \"#bd3786\"], [0.5555555555555556, \"#d8576b\"], [0.6666666666666666, \"#ed7953\"], [0.7777777777777778, \"#fb9f3a\"], [0.8888888888888888, \"#fdca26\"], [1.0, \"#f0f921\"]], \"type\": \"surface\"}], \"table\": [{\"cells\": {\"fill\": {\"color\": \"#EBF0F8\"}, \"line\": {\"color\": \"white\"}}, \"header\": {\"fill\": {\"color\": \"#C8D4E3\"}, \"line\": {\"color\": \"white\"}}, \"type\": \"table\"}]}, \"layout\": {\"annotationdefaults\": {\"arrowcolor\": \"#2a3f5f\", \"arrowhead\": 0, \"arrowwidth\": 1}, \"autotypenumbers\": \"strict\", \"coloraxis\": {\"colorbar\": {\"outlinewidth\": 0, \"ticks\": \"\"}}, \"colorscale\": {\"diverging\": [[0, \"#8e0152\"], [0.1, \"#c51b7d\"], [0.2, \"#de77ae\"], [0.3, \"#f1b6da\"], [0.4, \"#fde0ef\"], [0.5, \"#f7f7f7\"], [0.6, \"#e6f5d0\"], [0.7, \"#b8e186\"], [0.8, \"#7fbc41\"], [0.9, \"#4d9221\"], [1, \"#276419\"]], \"sequential\": [[0.0, \"#0d0887\"], [0.1111111111111111, \"#46039f\"], [0.2222222222222222, \"#7201a8\"], [0.3333333333333333, \"#9c179e\"], [0.4444444444444444, \"#bd3786\"], [0.5555555555555556, \"#d8576b\"], [0.6666666666666666, \"#ed7953\"], [0.7777777777777778, \"#fb9f3a\"], [0.8888888888888888, \"#fdca26\"], [1.0, \"#f0f921\"]], \"sequentialminus\": [[0.0, \"#0d0887\"], [0.1111111111111111, \"#46039f\"], [0.2222222222222222, \"#7201a8\"], [0.3333333333333333, \"#9c179e\"], [0.4444444444444444, \"#bd3786\"], [0.5555555555555556, \"#d8576b\"], [0.6666666666666666, \"#ed7953\"], [0.7777777777777778, \"#fb9f3a\"], [0.8888888888888888, \"#fdca26\"], [1.0, \"#f0f921\"]]}, \"colorway\": [\"#636efa\", \"#EF553B\", \"#00cc96\", \"#ab63fa\", \"#FFA15A\", \"#19d3f3\", \"#FF6692\", \"#B6E880\", \"#FF97FF\", \"#FECB52\"], \"font\": {\"color\": \"#2a3f5f\"}, \"geo\": {\"bgcolor\": \"white\", \"lakecolor\": \"white\", \"landcolor\": \"#E5ECF6\", \"showlakes\": true, \"showland\": true, \"subunitcolor\": \"white\"}, \"hoverlabel\": {\"align\": \"left\"}, \"hovermode\": \"closest\", \"mapbox\": {\"style\": \"light\"}, \"paper_bgcolor\": \"white\", \"plot_bgcolor\": \"#E5ECF6\", \"polar\": {\"angularaxis\": {\"gridcolor\": \"white\", \"linecolor\": \"white\", \"ticks\": \"\"}, \"bgcolor\": \"#E5ECF6\", \"radialaxis\": {\"gridcolor\": \"white\", \"linecolor\": \"white\", \"ticks\": \"\"}}, \"scene\": {\"xaxis\": {\"backgroundcolor\": \"#E5ECF6\", \"gridcolor\": \"white\", \"gridwidth\": 2, \"linecolor\": \"white\", \"showbackground\": true, \"ticks\": \"\", \"zerolinecolor\": \"white\"}, \"yaxis\": {\"backgroundcolor\": \"#E5ECF6\", \"gridcolor\": \"white\", \"gridwidth\": 2, \"linecolor\": \"white\", \"showbackground\": true, \"ticks\": \"\", \"zerolinecolor\": \"white\"}, \"zaxis\": {\"backgroundcolor\": \"#E5ECF6\", \"gridcolor\": \"white\", \"gridwidth\": 2, \"linecolor\": \"white\", \"showbackground\": true, \"ticks\": \"\", \"zerolinecolor\": \"white\"}}, \"shapedefaults\": {\"line\": {\"color\": \"#2a3f5f\"}}, \"ternary\": {\"aaxis\": {\"gridcolor\": \"white\", \"linecolor\": \"white\", \"ticks\": \"\"}, \"baxis\": {\"gridcolor\": \"white\", \"linecolor\": \"white\", \"ticks\": \"\"}, \"bgcolor\": \"#E5ECF6\", \"caxis\": {\"gridcolor\": \"white\", \"linecolor\": \"white\", \"ticks\": \"\"}}, \"title\": {\"x\": 0.05}, \"xaxis\": {\"automargin\": true, \"gridcolor\": \"white\", \"linecolor\": \"white\", \"ticks\": \"\", \"title\": {\"standoff\": 15}, \"zerolinecolor\": \"white\", \"zerolinewidth\": 2}, \"yaxis\": {\"automargin\": true, \"gridcolor\": \"white\", \"linecolor\": \"white\", \"ticks\": \"\", \"title\": {\"standoff\": 15}, \"zerolinecolor\": \"white\", \"zerolinewidth\": 2}}}, \"xaxis\": {\"anchor\": \"y\", \"domain\": [0.0, 1.0], \"title\": {\"text\": \"second_name\"}}, \"yaxis\": {\"anchor\": \"x\", \"domain\": [0.0, 1.0], \"title\": {\"text\": \"value\"}}},                        {\"responsive\": true}                    ).then(function(){\n",
       "                            \n",
       "var gd = document.getElementById('6e80a036-a11d-4de9-97a3-c8660dab4669');\n",
       "var x = new MutationObserver(function (mutations, observer) {{\n",
       "        var display = window.getComputedStyle(gd).display;\n",
       "        if (!display || display === 'none') {{\n",
       "            console.log([gd, 'removed!']);\n",
       "            Plotly.purge(gd);\n",
       "            observer.disconnect();\n",
       "        }}\n",
       "}});\n",
       "\n",
       "// Listen for the removal of the full notebook cells\n",
       "var notebookContainer = gd.closest('#notebook-container');\n",
       "if (notebookContainer) {{\n",
       "    x.observe(notebookContainer, {childList: true});\n",
       "}}\n",
       "\n",
       "// Listen for the clearing of the current output cell\n",
       "var outputEl = gd.closest('.output');\n",
       "if (outputEl) {{\n",
       "    x.observe(outputEl, {childList: true});\n",
       "}}\n",
       "\n",
       "                        })                };                });            </script>        </div>"
      ]
     },
     "metadata": {},
     "output_type": "display_data"
    }
   ],
   "source": [
    "\n",
    "#Code block for grouping data into positional data frames and plotting them for visual analysis \n",
    "\n",
    "\n",
    "grouped_se_df = slim_elements_df.groupby(slim_elements_df.position)\n",
    "\n",
    "df_gk = grouped_se_df.get_group(\"Goalkeeper\").copy()\n",
    "df_df = grouped_se_df.get_group(\"Defender\").copy()\n",
    "df_mfd = grouped_se_df.get_group(\"Midfielder\").copy()\n",
    "df_fwd = grouped_se_df.get_group(\"Forward\").copy()\n",
    "\n",
    "df_gk.sort_values(['value'],inplace =True)\n",
    "df_df.sort_values(['value'],inplace =True)\n",
    "df_mfd.sort_values(['value'],inplace =True)\n",
    "df_fwd.sort_values(['value'],inplace =True)\n",
    "\n",
    "\n",
    "fig_ovr_val = px.scatter(slim_elements_df, x=\"now_cost\", y=\"total_points\", hover_data=['second_name'])\n",
    "\n",
    "\n",
    "fig_gk = px.bar(df_gk, x = 'second_name', y = 'value',hover_data = ['team'])\n",
    "fig_df = px.bar(df_df, x = 'second_name', y = 'value',hover_data = ['team'])\n",
    "fig_mfd = px.bar(df_mfd, x = 'second_name', y = 'value',hover_data = ['team'])\n",
    "fig_fwd = px.bar(df_fwd, x = 'second_name', y = 'value',hover_data = ['team'])\n",
    "\n",
    "fig_gk_tp = px.scatter(df_gk, x=\"second_name\", y=\"total_points\", hover_data=['now_cost'])\n",
    "fig_df_tp = px.scatter(df_df, x=\"second_name\", y=\"total_points\", hover_data=['now_cost'])\n",
    "fig_mfd_tp = px.scatter(df_mfd, x=\"second_name\", y=\"total_points\", hover_data=['now_cost'])\n",
    "fig_fwd_tp = px.scatter(df_fwd, x=\"second_name\", y=\"total_points\", hover_data=['now_cost'])\n",
    "\n",
    "fig_gk.add_trace(fig_gk_tp.data[0])\n",
    "fig_df.add_trace(fig_df_tp.data[0])\n",
    "fig_mfd.add_trace(fig_mfd_tp.data[0])\n",
    "fig_fwd.add_trace(fig_fwd_tp.data[0])\n",
    "\n",
    "fig_ovr_val.show()\n",
    "\n",
    "fig_gk.show()\n",
    "fig_df.show()\n",
    "fig_mfd.show()\n",
    "fig_fwd.show()"
   ]
  },
  {
   "cell_type": "code",
   "execution_count": 41,
   "metadata": {},
   "outputs": [],
   "source": [
    "\n",
    "#Defining a dict to allow us to determine the home or away team \n",
    "\n",
    "Venues = {'Team':  ['West Brom','Sheffield Utd','Burnley','Southampton',\n",
    "             'Fulham','Newcastle','Brighton','Crystal Palace',\n",
    "            'Leeds','Wolves','Aston Villa','Arsenal',\n",
    "             'Spurs','West Ham','Leicester','Everton',\n",
    "            'Liverpool','Chelsea','Man Utd','Man City'],\n",
    "        'Ground': ['The Hawthorns','Bramall Lane','Turf Moor',\"St. Mary's Stadium\",\n",
    "                  'Craven Cottage',\"St James' Park\", 'Amex Stadium', 'Selhurst Park',\n",
    "                   'Elland Road','Molineux Stadium','Villa Park','Emirates Stadium',\n",
    "                  'Tottenham Hotspur Stadium','London Stadium','King Power Stadium',\n",
    "                  'Goodison Park','Anfield','Stamford Bridge','Old Trafford','Etihad Stadium']}\n",
    "\n",
    "Venues_df = pd.DataFrame (Venues, columns = ['Team','Ground']) #Converting the dict to a pd data frame\n",
    "\n",
    "#Venues_df.head()"
   ]
  },
  {
   "cell_type": "code",
   "execution_count": 51,
   "metadata": {},
   "outputs": [
    {
     "data": {
      "text/html": [
       "<div>\n",
       "<style scoped>\n",
       "    .dataframe tbody tr th:only-of-type {\n",
       "        vertical-align: middle;\n",
       "    }\n",
       "\n",
       "    .dataframe tbody tr th {\n",
       "        vertical-align: top;\n",
       "    }\n",
       "\n",
       "    .dataframe thead th {\n",
       "        text-align: right;\n",
       "    }\n",
       "</style>\n",
       "<table border=\"1\" class=\"dataframe\">\n",
       "  <thead>\n",
       "    <tr style=\"text-align: right;\">\n",
       "      <th></th>\n",
       "      <th>Round Number</th>\n",
       "      <th>Date</th>\n",
       "      <th>Location</th>\n",
       "      <th>Home Team</th>\n",
       "      <th>Away Team</th>\n",
       "      <th>Result</th>\n",
       "    </tr>\n",
       "  </thead>\n",
       "  <tbody>\n",
       "    <tr>\n",
       "      <th>301</th>\n",
       "      <td>31</td>\n",
       "      <td>09/04/2021 20:00</td>\n",
       "      <td>Craven Cottage</td>\n",
       "      <td>Fulham</td>\n",
       "      <td>Wolves</td>\n",
       "      <td>NaN</td>\n",
       "    </tr>\n",
       "    <tr>\n",
       "      <th>302</th>\n",
       "      <td>31</td>\n",
       "      <td>10/04/2021 12:30</td>\n",
       "      <td>Etihad Stadium</td>\n",
       "      <td>Man City</td>\n",
       "      <td>Leeds</td>\n",
       "      <td>NaN</td>\n",
       "    </tr>\n",
       "    <tr>\n",
       "      <th>303</th>\n",
       "      <td>31</td>\n",
       "      <td>10/04/2021 15:00</td>\n",
       "      <td>Anfield</td>\n",
       "      <td>Liverpool</td>\n",
       "      <td>Aston Villa</td>\n",
       "      <td>NaN</td>\n",
       "    </tr>\n",
       "    <tr>\n",
       "      <th>304</th>\n",
       "      <td>31</td>\n",
       "      <td>10/04/2021 17:30</td>\n",
       "      <td>Selhurst Park</td>\n",
       "      <td>Crystal Palace</td>\n",
       "      <td>Chelsea</td>\n",
       "      <td>NaN</td>\n",
       "    </tr>\n",
       "    <tr>\n",
       "      <th>305</th>\n",
       "      <td>31</td>\n",
       "      <td>11/04/2021 12:00</td>\n",
       "      <td>Turf Moor</td>\n",
       "      <td>Burnley</td>\n",
       "      <td>Newcastle</td>\n",
       "      <td>NaN</td>\n",
       "    </tr>\n",
       "  </tbody>\n",
       "</table>\n",
       "</div>"
      ],
      "text/plain": [
       "     Round Number              Date        Location       Home Team  \\\n",
       "301            31  09/04/2021 20:00  Craven Cottage          Fulham   \n",
       "302            31  10/04/2021 12:30  Etihad Stadium        Man City   \n",
       "303            31  10/04/2021 15:00         Anfield       Liverpool   \n",
       "304            31  10/04/2021 17:30   Selhurst Park  Crystal Palace   \n",
       "305            31  11/04/2021 12:00       Turf Moor         Burnley   \n",
       "\n",
       "       Away Team Result  \n",
       "301       Wolves    NaN  \n",
       "302        Leeds    NaN  \n",
       "303  Aston Villa    NaN  \n",
       "304      Chelsea    NaN  \n",
       "305    Newcastle    NaN  "
      ]
     },
     "execution_count": 51,
     "metadata": {},
     "output_type": "execute_result"
    }
   ],
   "source": [
    "#Importing fixtures and filtering for just the game week at hand using the predefined gameweek variable\n",
    "\n",
    "\n",
    "filename = \"epl-2020-GMTStandardTime.csv\"\n",
    "\n",
    "fixtures = pd.read_csv(\"/Users/jamesdawson/Desktop/Data analysis /Python/\" + filename) \n",
    "\n",
    "fixtures_filtered = fixtures.loc[fixtures['Round Number'] == (GW)].copy()\n",
    "\n",
    "fixtures_filtered.head()\n",
    "\n"
   ]
  },
  {
   "cell_type": "code",
   "execution_count": 43,
   "metadata": {},
   "outputs": [],
   "source": [
    "#A slightly convoluted block but essentially just takes the fixtures, duplicates the table and flips the home and away team\n",
    "#then does an if the team in column a matches column b then the team is home if not away. In essence transform the \n",
    "#team home/away colum into a value in each row.\n",
    "\n",
    "\n",
    "\n",
    "fixtures_flipped = fixtures.copy()\n",
    "\n",
    "fixtures_flipped.rename(columns={'Home Team': 'Away Team', 'Away Team': 'Home Team'}, inplace=True)\n",
    "\n",
    "fixtures_flipped_filtered = fixtures_flipped.loc[fixtures_flipped['Round Number'] == (GW)].copy()\n",
    "\n",
    "\n",
    "combined_fixtures = fixtures_filtered.append(fixtures_flipped_filtered, ignore_index=True)\n",
    "\n",
    "\n",
    "combined_fixtures['Ground'] = combined_fixtures['Home Team'].map(Venues_df.set_index('Team')['Ground'].to_dict())\n",
    "\n",
    "\n",
    "def f(row):\n",
    "    if row['Location'] == row['Ground']:\n",
    "        val = 'Home'\n",
    "    else:\n",
    "        val = 'Away'\n",
    "    return val\n",
    "\n",
    "\n",
    "combined_fixtures['Home/Away'] = combined_fixtures.apply(f, axis=1)\n"
   ]
  },
  {
   "cell_type": "code",
   "execution_count": 44,
   "metadata": {},
   "outputs": [
    {
     "data": {
      "text/html": [
       "<div>\n",
       "<style scoped>\n",
       "    .dataframe tbody tr th:only-of-type {\n",
       "        vertical-align: middle;\n",
       "    }\n",
       "\n",
       "    .dataframe tbody tr th {\n",
       "        vertical-align: top;\n",
       "    }\n",
       "\n",
       "    .dataframe thead th {\n",
       "        text-align: right;\n",
       "    }\n",
       "</style>\n",
       "<table border=\"1\" class=\"dataframe\">\n",
       "  <thead>\n",
       "    <tr style=\"text-align: right;\">\n",
       "      <th></th>\n",
       "      <th>first_name</th>\n",
       "      <th>second_name</th>\n",
       "      <th>team</th>\n",
       "      <th>element_type</th>\n",
       "      <th>minutes</th>\n",
       "      <th>now_cost</th>\n",
       "      <th>minutes</th>\n",
       "      <th>value_season</th>\n",
       "      <th>value_form</th>\n",
       "      <th>form</th>\n",
       "      <th>...</th>\n",
       "      <th>unavailable</th>\n",
       "      <th>strength_overall_home</th>\n",
       "      <th>strength_overall_away</th>\n",
       "      <th>opponent</th>\n",
       "      <th>HomeAway</th>\n",
       "      <th>opponent_hso</th>\n",
       "      <th>opponent_aso</th>\n",
       "      <th>HomeAdv</th>\n",
       "      <th>form_adj</th>\n",
       "      <th>Value_Adjusted</th>\n",
       "    </tr>\n",
       "  </thead>\n",
       "  <tbody>\n",
       "    <tr>\n",
       "      <th>200</th>\n",
       "      <td>Fabian</td>\n",
       "      <td>Delph</td>\n",
       "      <td>Everton</td>\n",
       "      <td>3</td>\n",
       "      <td>211</td>\n",
       "      <td>48</td>\n",
       "      <td>211</td>\n",
       "      <td>1.2</td>\n",
       "      <td>0.0</td>\n",
       "      <td>1.2</td>\n",
       "      <td>...</td>\n",
       "      <td>True</td>\n",
       "      <td>1130</td>\n",
       "      <td>1250</td>\n",
       "      <td>Brighton</td>\n",
       "      <td>Away</td>\n",
       "      <td>1130</td>\n",
       "      <td>1130</td>\n",
       "      <td>1.106195</td>\n",
       "      <td>1.010121</td>\n",
       "      <td>1.340869</td>\n",
       "    </tr>\n",
       "    <tr>\n",
       "      <th>201</th>\n",
       "      <td>Gylfi</td>\n",
       "      <td>Sigurdsson</td>\n",
       "      <td>Everton</td>\n",
       "      <td>3</td>\n",
       "      <td>1555</td>\n",
       "      <td>68</td>\n",
       "      <td>1555</td>\n",
       "      <td>12.9</td>\n",
       "      <td>0.0</td>\n",
       "      <td>12.9</td>\n",
       "      <td>...</td>\n",
       "      <td>False</td>\n",
       "      <td>1130</td>\n",
       "      <td>1250</td>\n",
       "      <td>Brighton</td>\n",
       "      <td>Away</td>\n",
       "      <td>1130</td>\n",
       "      <td>1130</td>\n",
       "      <td>1.106195</td>\n",
       "      <td>1.011481</td>\n",
       "      <td>14.433745</td>\n",
       "    </tr>\n",
       "    <tr>\n",
       "      <th>202</th>\n",
       "      <td>Jonas</td>\n",
       "      <td>Lössl</td>\n",
       "      <td>Everton</td>\n",
       "      <td>1</td>\n",
       "      <td>0</td>\n",
       "      <td>43</td>\n",
       "      <td>0</td>\n",
       "      <td>0.0</td>\n",
       "      <td>0.0</td>\n",
       "      <td>0.0</td>\n",
       "      <td>...</td>\n",
       "      <td>True</td>\n",
       "      <td>1130</td>\n",
       "      <td>1250</td>\n",
       "      <td>Brighton</td>\n",
       "      <td>Away</td>\n",
       "      <td>1130</td>\n",
       "      <td>1130</td>\n",
       "      <td>1.106195</td>\n",
       "      <td>1.010000</td>\n",
       "      <td>0.000000</td>\n",
       "    </tr>\n",
       "    <tr>\n",
       "      <th>203</th>\n",
       "      <td>Seamus</td>\n",
       "      <td>Coleman</td>\n",
       "      <td>Everton</td>\n",
       "      <td>2</td>\n",
       "      <td>973</td>\n",
       "      <td>48</td>\n",
       "      <td>973</td>\n",
       "      <td>9.0</td>\n",
       "      <td>0.8</td>\n",
       "      <td>9.0</td>\n",
       "      <td>...</td>\n",
       "      <td>False</td>\n",
       "      <td>1130</td>\n",
       "      <td>1250</td>\n",
       "      <td>Brighton</td>\n",
       "      <td>Away</td>\n",
       "      <td>1130</td>\n",
       "      <td>1130</td>\n",
       "      <td>1.106195</td>\n",
       "      <td>1.010989</td>\n",
       "      <td>10.065156</td>\n",
       "    </tr>\n",
       "    <tr>\n",
       "      <th>204</th>\n",
       "      <td>Cenk</td>\n",
       "      <td>Tosun</td>\n",
       "      <td>Everton</td>\n",
       "      <td>4</td>\n",
       "      <td>44</td>\n",
       "      <td>60</td>\n",
       "      <td>44</td>\n",
       "      <td>0.7</td>\n",
       "      <td>0.0</td>\n",
       "      <td>0.7</td>\n",
       "      <td>...</td>\n",
       "      <td>True</td>\n",
       "      <td>1130</td>\n",
       "      <td>1250</td>\n",
       "      <td>Brighton</td>\n",
       "      <td>Away</td>\n",
       "      <td>1130</td>\n",
       "      <td>1130</td>\n",
       "      <td>1.106195</td>\n",
       "      <td>1.010070</td>\n",
       "      <td>0.782134</td>\n",
       "    </tr>\n",
       "    <tr>\n",
       "      <th>205</th>\n",
       "      <td>Bernard</td>\n",
       "      <td>Anício Caldeira Duarte</td>\n",
       "      <td>Everton</td>\n",
       "      <td>3</td>\n",
       "      <td>390</td>\n",
       "      <td>57</td>\n",
       "      <td>390</td>\n",
       "      <td>3.2</td>\n",
       "      <td>0.0</td>\n",
       "      <td>3.2</td>\n",
       "      <td>...</td>\n",
       "      <td>True</td>\n",
       "      <td>1130</td>\n",
       "      <td>1250</td>\n",
       "      <td>Brighton</td>\n",
       "      <td>Away</td>\n",
       "      <td>1130</td>\n",
       "      <td>1130</td>\n",
       "      <td>1.106195</td>\n",
       "      <td>1.010331</td>\n",
       "      <td>3.576391</td>\n",
       "    </tr>\n",
       "    <tr>\n",
       "      <th>206</th>\n",
       "      <td>Lucas</td>\n",
       "      <td>Digne</td>\n",
       "      <td>Everton</td>\n",
       "      <td>2</td>\n",
       "      <td>1871</td>\n",
       "      <td>62</td>\n",
       "      <td>1871</td>\n",
       "      <td>12.3</td>\n",
       "      <td>0.1</td>\n",
       "      <td>12.3</td>\n",
       "      <td>...</td>\n",
       "      <td>False</td>\n",
       "      <td>1130</td>\n",
       "      <td>1250</td>\n",
       "      <td>Brighton</td>\n",
       "      <td>Away</td>\n",
       "      <td>1130</td>\n",
       "      <td>1130</td>\n",
       "      <td>1.106195</td>\n",
       "      <td>1.011403</td>\n",
       "      <td>13.761339</td>\n",
       "    </tr>\n",
       "    <tr>\n",
       "      <th>207</th>\n",
       "      <td>Michael</td>\n",
       "      <td>Keane</td>\n",
       "      <td>Everton</td>\n",
       "      <td>2</td>\n",
       "      <td>2359</td>\n",
       "      <td>51</td>\n",
       "      <td>2359</td>\n",
       "      <td>19.6</td>\n",
       "      <td>0.2</td>\n",
       "      <td>19.6</td>\n",
       "      <td>...</td>\n",
       "      <td>False</td>\n",
       "      <td>1130</td>\n",
       "      <td>1250</td>\n",
       "      <td>Brighton</td>\n",
       "      <td>Away</td>\n",
       "      <td>1130</td>\n",
       "      <td>1130</td>\n",
       "      <td>1.106195</td>\n",
       "      <td>1.012438</td>\n",
       "      <td>21.951085</td>\n",
       "    </tr>\n",
       "    <tr>\n",
       "      <th>208</th>\n",
       "      <td>Jordan</td>\n",
       "      <td>Pickford</td>\n",
       "      <td>Everton</td>\n",
       "      <td>1</td>\n",
       "      <td>2022</td>\n",
       "      <td>48</td>\n",
       "      <td>2022</td>\n",
       "      <td>16.5</td>\n",
       "      <td>0.0</td>\n",
       "      <td>16.5</td>\n",
       "      <td>...</td>\n",
       "      <td>True</td>\n",
       "      <td>1130</td>\n",
       "      <td>1250</td>\n",
       "      <td>Brighton</td>\n",
       "      <td>Away</td>\n",
       "      <td>1130</td>\n",
       "      <td>1130</td>\n",
       "      <td>1.106195</td>\n",
       "      <td>1.011976</td>\n",
       "      <td>18.470802</td>\n",
       "    </tr>\n",
       "    <tr>\n",
       "      <th>209</th>\n",
       "      <td>André Filipe</td>\n",
       "      <td>Tavares Gomes</td>\n",
       "      <td>Everton</td>\n",
       "      <td>3</td>\n",
       "      <td>1386</td>\n",
       "      <td>53</td>\n",
       "      <td>1386</td>\n",
       "      <td>7.5</td>\n",
       "      <td>0.2</td>\n",
       "      <td>7.5</td>\n",
       "      <td>...</td>\n",
       "      <td>True</td>\n",
       "      <td>1130</td>\n",
       "      <td>1250</td>\n",
       "      <td>Brighton</td>\n",
       "      <td>Away</td>\n",
       "      <td>1130</td>\n",
       "      <td>1130</td>\n",
       "      <td>1.106195</td>\n",
       "      <td>1.010811</td>\n",
       "      <td>8.386152</td>\n",
       "    </tr>\n",
       "  </tbody>\n",
       "</table>\n",
       "<p>10 rows × 28 columns</p>\n",
       "</div>"
      ],
      "text/plain": [
       "       first_name             second_name     team  element_type  minutes  \\\n",
       "200        Fabian                   Delph  Everton             3      211   \n",
       "201         Gylfi              Sigurdsson  Everton             3     1555   \n",
       "202         Jonas                   Lössl  Everton             1        0   \n",
       "203        Seamus                 Coleman  Everton             2      973   \n",
       "204          Cenk                   Tosun  Everton             4       44   \n",
       "205       Bernard  Anício Caldeira Duarte  Everton             3      390   \n",
       "206         Lucas                   Digne  Everton             2     1871   \n",
       "207       Michael                   Keane  Everton             2     2359   \n",
       "208        Jordan                Pickford  Everton             1     2022   \n",
       "209  André Filipe           Tavares Gomes  Everton             3     1386   \n",
       "\n",
       "     now_cost  minutes value_season value_form  form  ...  unavailable  \\\n",
       "200        48      211          1.2        0.0   1.2  ...         True   \n",
       "201        68     1555         12.9        0.0  12.9  ...        False   \n",
       "202        43        0          0.0        0.0   0.0  ...         True   \n",
       "203        48      973          9.0        0.8   9.0  ...        False   \n",
       "204        60       44          0.7        0.0   0.7  ...         True   \n",
       "205        57      390          3.2        0.0   3.2  ...         True   \n",
       "206        62     1871         12.3        0.1  12.3  ...        False   \n",
       "207        51     2359         19.6        0.2  19.6  ...        False   \n",
       "208        48     2022         16.5        0.0  16.5  ...         True   \n",
       "209        53     1386          7.5        0.2   7.5  ...         True   \n",
       "\n",
       "    strength_overall_home strength_overall_away  opponent HomeAway  \\\n",
       "200                  1130                  1250  Brighton     Away   \n",
       "201                  1130                  1250  Brighton     Away   \n",
       "202                  1130                  1250  Brighton     Away   \n",
       "203                  1130                  1250  Brighton     Away   \n",
       "204                  1130                  1250  Brighton     Away   \n",
       "205                  1130                  1250  Brighton     Away   \n",
       "206                  1130                  1250  Brighton     Away   \n",
       "207                  1130                  1250  Brighton     Away   \n",
       "208                  1130                  1250  Brighton     Away   \n",
       "209                  1130                  1250  Brighton     Away   \n",
       "\n",
       "    opponent_hso opponent_aso   HomeAdv  form_adj  Value_Adjusted  \n",
       "200         1130         1130  1.106195  1.010121        1.340869  \n",
       "201         1130         1130  1.106195  1.011481       14.433745  \n",
       "202         1130         1130  1.106195  1.010000        0.000000  \n",
       "203         1130         1130  1.106195  1.010989       10.065156  \n",
       "204         1130         1130  1.106195  1.010070        0.782134  \n",
       "205         1130         1130  1.106195  1.010331        3.576391  \n",
       "206         1130         1130  1.106195  1.011403       13.761339  \n",
       "207         1130         1130  1.106195  1.012438       21.951085  \n",
       "208         1130         1130  1.106195  1.011976       18.470802  \n",
       "209         1130         1130  1.106195  1.010811        8.386152  \n",
       "\n",
       "[10 rows x 28 columns]"
      ]
     },
     "execution_count": 44,
     "metadata": {},
     "output_type": "execute_result"
    }
   ],
   "source": [
    "#Maps on opponent, home/away strength anf calcs the home advantage\n",
    "\n",
    "\n",
    "slim_elements_df['opponent'] = slim_elements_df.team.map(combined_fixtures.set_index('Home Team')['Away Team'].to_dict())\n",
    "\n",
    "slim_elements_df['HomeAway'] = slim_elements_df.team.map(combined_fixtures.set_index('Home Team')['Home/Away'].to_dict())\n",
    "\n",
    "slim_elements_df['opponent_hso'] = slim_elements_df.opponent.map(teams_df.set_index('name')['strength_overall_home'].to_dict())\n",
    "\n",
    "slim_elements_df['opponent_aso'] = slim_elements_df.opponent.map(teams_df.set_index('name')['strength_overall_away'].to_dict())\n",
    "\n",
    "\n",
    "slim_elements_df['HomeAdv'] = np.where(slim_elements_df['HomeAway'] == 'Home',\n",
    "                                        slim_elements_df['strength_overall_home']/slim_elements_df['opponent_aso'],\n",
    "                                        slim_elements_df['strength_overall_away']/slim_elements_df['opponent_hso'])\n",
    "\n",
    "\n",
    "#turn the form into a factor\n",
    "\n",
    "slim_elements_df['form_adj'] = (1 / (100 -(slim_elements_df['form'])) +1)\n",
    "\n",
    "#define adjusted value\n",
    "\n",
    "slim_elements_df['Value_Adjusted'] = slim_elements_df['value'] * slim_elements_df['HomeAdv'] * slim_elements_df['form_adj']\n",
    "\n",
    "slim_elements_df[200:210]"
   ]
  },
  {
   "cell_type": "code",
   "execution_count": 45,
   "metadata": {},
   "outputs": [],
   "source": [
    "#Split the df for stars and sort by total points\n",
    "\n",
    "slim_elements_df_stars = slim_elements_df.copy()\n",
    "\n",
    "slim_elements_df_stars.sort_values(['total_points'],inplace = True, ascending = False)"
   ]
  },
  {
   "cell_type": "code",
   "execution_count": 46,
   "metadata": {},
   "outputs": [],
   "source": [
    "#slim_elements_df_stars.head(5)"
   ]
  },
  {
   "cell_type": "code",
   "execution_count": 47,
   "metadata": {},
   "outputs": [
    {
     "data": {
      "text/html": [
       "<div>\n",
       "<style scoped>\n",
       "    .dataframe tbody tr th:only-of-type {\n",
       "        vertical-align: middle;\n",
       "    }\n",
       "\n",
       "    .dataframe tbody tr th {\n",
       "        vertical-align: top;\n",
       "    }\n",
       "\n",
       "    .dataframe thead th {\n",
       "        text-align: right;\n",
       "    }\n",
       "</style>\n",
       "<table border=\"1\" class=\"dataframe\">\n",
       "  <thead>\n",
       "    <tr style=\"text-align: right;\">\n",
       "      <th></th>\n",
       "      <th>first_name</th>\n",
       "      <th>second_name</th>\n",
       "      <th>team</th>\n",
       "      <th>element_type</th>\n",
       "      <th>minutes</th>\n",
       "      <th>now_cost</th>\n",
       "      <th>minutes</th>\n",
       "      <th>value_season</th>\n",
       "      <th>value_form</th>\n",
       "      <th>form</th>\n",
       "      <th>...</th>\n",
       "      <th>unavailable</th>\n",
       "      <th>strength_overall_home</th>\n",
       "      <th>strength_overall_away</th>\n",
       "      <th>opponent</th>\n",
       "      <th>HomeAway</th>\n",
       "      <th>opponent_hso</th>\n",
       "      <th>opponent_aso</th>\n",
       "      <th>HomeAdv</th>\n",
       "      <th>form_adj</th>\n",
       "      <th>Value_Adjusted</th>\n",
       "    </tr>\n",
       "  </thead>\n",
       "  <tbody>\n",
       "    <tr>\n",
       "      <th>33</th>\n",
       "      <td>Emiliano</td>\n",
       "      <td>Martínez</td>\n",
       "      <td>Aston Villa</td>\n",
       "      <td>1</td>\n",
       "      <td>2700</td>\n",
       "      <td>54</td>\n",
       "      <td>2700</td>\n",
       "      <td>29.6</td>\n",
       "      <td>0.5</td>\n",
       "      <td>29.6</td>\n",
       "      <td>...</td>\n",
       "      <td>False</td>\n",
       "      <td>1160</td>\n",
       "      <td>1100</td>\n",
       "      <td>Liverpool</td>\n",
       "      <td>Away</td>\n",
       "      <td>1210</td>\n",
       "      <td>1250</td>\n",
       "      <td>0.909091</td>\n",
       "      <td>1.014205</td>\n",
       "      <td>27.291322</td>\n",
       "    </tr>\n",
       "    <tr>\n",
       "      <th>324</th>\n",
       "      <td>Illan</td>\n",
       "      <td>Meslier</td>\n",
       "      <td>Leeds</td>\n",
       "      <td>1</td>\n",
       "      <td>2700</td>\n",
       "      <td>47</td>\n",
       "      <td>2700</td>\n",
       "      <td>27.9</td>\n",
       "      <td>1.1</td>\n",
       "      <td>27.9</td>\n",
       "      <td>...</td>\n",
       "      <td>False</td>\n",
       "      <td>1170</td>\n",
       "      <td>1160</td>\n",
       "      <td>Man City</td>\n",
       "      <td>Away</td>\n",
       "      <td>1360</td>\n",
       "      <td>1340</td>\n",
       "      <td>0.852941</td>\n",
       "      <td>1.013870</td>\n",
       "      <td>24.127115</td>\n",
       "    </tr>\n",
       "    <tr>\n",
       "      <th>311</th>\n",
       "      <td>Stuart</td>\n",
       "      <td>Dallas</td>\n",
       "      <td>Leeds</td>\n",
       "      <td>2</td>\n",
       "      <td>2780</td>\n",
       "      <td>51</td>\n",
       "      <td>2780</td>\n",
       "      <td>27.1</td>\n",
       "      <td>1.2</td>\n",
       "      <td>27.1</td>\n",
       "      <td>...</td>\n",
       "      <td>False</td>\n",
       "      <td>1170</td>\n",
       "      <td>1160</td>\n",
       "      <td>Man City</td>\n",
       "      <td>Away</td>\n",
       "      <td>1360</td>\n",
       "      <td>1340</td>\n",
       "      <td>0.852941</td>\n",
       "      <td>1.013717</td>\n",
       "      <td>23.431780</td>\n",
       "    </tr>\n",
       "    <tr>\n",
       "      <th>261</th>\n",
       "      <td>Alphonse</td>\n",
       "      <td>Areola</td>\n",
       "      <td>Fulham</td>\n",
       "      <td>1</td>\n",
       "      <td>2790</td>\n",
       "      <td>46</td>\n",
       "      <td>2790</td>\n",
       "      <td>24.6</td>\n",
       "      <td>0.3</td>\n",
       "      <td>24.6</td>\n",
       "      <td>...</td>\n",
       "      <td>False</td>\n",
       "      <td>1100</td>\n",
       "      <td>1090</td>\n",
       "      <td>Wolves</td>\n",
       "      <td>Home</td>\n",
       "      <td>1110</td>\n",
       "      <td>1080</td>\n",
       "      <td>1.018519</td>\n",
       "      <td>1.013263</td>\n",
       "      <td>25.387857</td>\n",
       "    </tr>\n",
       "    <tr>\n",
       "      <th>313</th>\n",
       "      <td>Patrick</td>\n",
       "      <td>Bamford</td>\n",
       "      <td>Leeds</td>\n",
       "      <td>4</td>\n",
       "      <td>2544</td>\n",
       "      <td>66</td>\n",
       "      <td>2544</td>\n",
       "      <td>24.5</td>\n",
       "      <td>0.7</td>\n",
       "      <td>24.5</td>\n",
       "      <td>...</td>\n",
       "      <td>False</td>\n",
       "      <td>1170</td>\n",
       "      <td>1160</td>\n",
       "      <td>Man City</td>\n",
       "      <td>Away</td>\n",
       "      <td>1360</td>\n",
       "      <td>1340</td>\n",
       "      <td>0.852941</td>\n",
       "      <td>1.013245</td>\n",
       "      <td>21.173841</td>\n",
       "    </tr>\n",
       "  </tbody>\n",
       "</table>\n",
       "<p>5 rows × 28 columns</p>\n",
       "</div>"
      ],
      "text/plain": [
       "    first_name second_name         team  element_type  minutes  now_cost  \\\n",
       "33    Emiliano    Martínez  Aston Villa             1     2700        54   \n",
       "324      Illan     Meslier        Leeds             1     2700        47   \n",
       "311     Stuart      Dallas        Leeds             2     2780        51   \n",
       "261   Alphonse      Areola       Fulham             1     2790        46   \n",
       "313    Patrick     Bamford        Leeds             4     2544        66   \n",
       "\n",
       "     minutes value_season value_form  form  ...  unavailable  \\\n",
       "33      2700         29.6        0.5  29.6  ...        False   \n",
       "324     2700         27.9        1.1  27.9  ...        False   \n",
       "311     2780         27.1        1.2  27.1  ...        False   \n",
       "261     2790         24.6        0.3  24.6  ...        False   \n",
       "313     2544         24.5        0.7  24.5  ...        False   \n",
       "\n",
       "    strength_overall_home strength_overall_away   opponent HomeAway  \\\n",
       "33                   1160                  1100  Liverpool     Away   \n",
       "324                  1170                  1160   Man City     Away   \n",
       "311                  1170                  1160   Man City     Away   \n",
       "261                  1100                  1090     Wolves     Home   \n",
       "313                  1170                  1160   Man City     Away   \n",
       "\n",
       "    opponent_hso opponent_aso   HomeAdv  form_adj  Value_Adjusted  \n",
       "33          1210         1250  0.909091  1.014205       27.291322  \n",
       "324         1360         1340  0.852941  1.013870       24.127115  \n",
       "311         1360         1340  0.852941  1.013717       23.431780  \n",
       "261         1110         1080  1.018519  1.013263       25.387857  \n",
       "313         1360         1340  0.852941  1.013245       21.173841  \n",
       "\n",
       "[5 rows x 28 columns]"
      ]
     },
     "execution_count": 47,
     "metadata": {},
     "output_type": "execute_result"
    }
   ],
   "source": [
    "#split the df for best value adjusted players\n",
    "\n",
    "slim_elements_df_roi = slim_elements_df.copy()\n",
    "\n",
    "slim_elements_df_roi.sort_values(['Value_Adjusted'], inplace = True, ascending = False)\n",
    "\n",
    "slim_elements_df_roi.head()"
   ]
  },
  {
   "cell_type": "code",
   "execution_count": 48,
   "metadata": {},
   "outputs": [],
   "source": [
    "#Theoretical best team \n",
    "\n",
    "\n",
    "def team_selecter():\n",
    "    \n",
    "    budget = 1000\n",
    "\n",
    "    position_dict = {\"Goalkeeper\":2,\"Defender\":5,\"Midfielder\": 5, \"Forward\": 3}\n",
    "\n",
    "    team_dict = {'West Brom':3,'Sheffield Utd':3,'Burnley':3,'Southampton':3,\n",
    "             'Fulham':3,'Newcastle':3,'Brighton':3,'Crystal Palace':3,\n",
    "            'Leeds':3,'Wolves':3,'Aston Villa':3,'Arsenal':3,\n",
    "             'Spurs':3,'West Ham':3,'Leicester':3,'Everton':3,\n",
    "            'Liverpool':3,'Chelsea':3,'Man Utd':3,'Man City':3}\n",
    "\n",
    "    roi_team = [] #form an empty tuple for the team\n",
    "    \n",
    "    total_points = 0\n",
    "    \n",
    "    top_performer_limit = 3\n",
    "    \n",
    "    # Choosing 3 top performers from the \"top players\"-dataframe\n",
    "    for idx, row in slim_elements_df_stars.iterrows():\n",
    "        if budget >= row.now_cost and len(roi_team) < top_performer_limit and row.unavailable == False and position_dict[row.position] != 0 and team_dict[row.team] != 0:\n",
    "            roi_team.append(row.second_name)\n",
    "            budget -= row.now_cost #Deducting cost from budget\n",
    "            position_dict[row.position] -= 1 # Deducting position from position dictionary\n",
    "            team_dict[row.team] -= 1 # Deducting player from team dictionary\n",
    "            total_points += row.total_points # adding to point score\n",
    "            print(\"Player choosen from 'top players' \" + str(row.second_name))\n",
    "            \n",
    "                   \n",
    "        else:\n",
    "            for idx, row in slim_elements_df_roi.iterrows():\n",
    "                if row.second_name not in roi_team and budget >= row.now_cost and row.unavailable == False and position_dict[row.position] != 0 and team_dict[row.team] != 0:\n",
    "                    roi_team.append(row.second_name)\n",
    "                    budget -= row.now_cost\n",
    "                    position_dict[row.position] -= 1 # Deducting position from position dictionary\n",
    "                    team_dict[row.team] -= 1 # Deducting player from team dictionary\n",
    "                    total_points += row.total_points # adding to point score\n",
    "    \n",
    "                   \n",
    "    print(\"\\nTeam chosen: \" + str(roi_team))\n",
    "    print(\"Remaining budget: \" + str((budget/10)) + \"M.\")\n",
    "    print(\"Total points from choosen team: \" + str(total_points) + \".\")\n",
    "    print(position_dict)"
   ]
  },
  {
   "cell_type": "code",
   "execution_count": 55,
   "metadata": {},
   "outputs": [],
   "source": [
    "#team_selecter()"
   ]
  }
 ],
 "metadata": {
  "kernelspec": {
   "display_name": "Python 3",
   "language": "python",
   "name": "python3"
  },
  "language_info": {
   "codemirror_mode": {
    "name": "ipython",
    "version": 3
   },
   "file_extension": ".py",
   "mimetype": "text/x-python",
   "name": "python",
   "nbconvert_exporter": "python",
   "pygments_lexer": "ipython3",
   "version": "3.8.5"
  }
 },
 "nbformat": 4,
 "nbformat_minor": 4
}
