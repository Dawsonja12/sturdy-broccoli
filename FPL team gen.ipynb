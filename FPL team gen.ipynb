{
 "cells": [
  {
   "cell_type": "code",
   "execution_count": 241,
   "metadata": {},
   "outputs": [],
   "source": [
    "#Import the packages we will need \n",
    "#Requests to interact with the api, pandas for working with the data, numpy for data calcs\n",
    "\n",
    "import requests\n",
    "import pandas as pd\n",
    "import numpy as np\n",
    "import plotly.express as px\n",
    "import plotly.graph_objects as go\n",
    "from datetime import datetime\n",
    "import json"
   ]
  },
  {
   "cell_type": "code",
   "execution_count": 242,
   "metadata": {},
   "outputs": [
    {
     "data": {
      "text/plain": [
       "31.0"
      ]
     },
     "execution_count": 242,
     "metadata": {},
     "output_type": "execute_result"
    }
   ],
   "source": [
    "def get_recent_gameweek_id():\n",
    "    \"\"\"\n",
    "    Get's the most recent gameweek's ID.\n",
    "    \"\"\"\n",
    "\n",
    "    data = requests.get(url)\n",
    "    data = json.loads(data.content)\n",
    "\n",
    "    gameweeks = data['events']\n",
    "    \n",
    "    now = datetime.utcnow()\n",
    "    for gameweek in gameweeks:\n",
    "        next_deadline_date = datetime.strptime(gameweek['deadline_time'], '%Y-%m-%dT%H:%M:%SZ')\n",
    "        if next_deadline_date > now:\n",
    "            return gameweek['id'] \n",
    "\n",
    "\n",
    "if __name__ == '__main__':\n",
    "     GW = float(get_recent_gameweek_id())\n",
    "    \n",
    "GW\n",
    "    "
   ]
  },
  {
   "cell_type": "code",
   "execution_count": 243,
   "metadata": {},
   "outputs": [],
   "source": [
    "url = 'https://fantasy.premierleague.com/api/bootstrap-static/'\n",
    "\n",
    "r = requests.get(url)\n",
    "\n",
    "json = r.json()\n",
    "\n",
    "#This lets us examine the JSON objext so we know what to do with it\n"
   ]
  },
  {
   "cell_type": "code",
   "execution_count": 244,
   "metadata": {
    "scrolled": true
   },
   "outputs": [],
   "source": [
    "elements_df = pd.DataFrame(json['elements'])\n",
    "elements_types_df = pd.DataFrame(json['element_types'])\n",
    "elements_stats_df = pd.DataFrame(json['element_stats'])\n",
    "teams_df = pd.DataFrame(json['teams'])\n",
    "events_df = pd.DataFrame(json['events'])\n",
    "phases_df = pd.DataFrame(json['phases'])\n",
    "\n",
    "\n",
    "teams_df.rename(columns={'strength_overall_home': 'strength_overall_away', 'strength_overall_away': 'strength_overall_home'}, inplace=True)\n",
    "\n"
   ]
  },
  {
   "cell_type": "code",
   "execution_count": 245,
   "metadata": {
    "scrolled": false
   },
   "outputs": [],
   "source": [
    "fig = go.Figure([go.Bar(name=\"home\", x=teams_df[\"name\"], y= teams_df[\"strength_overall_home\"],offsetgroup=0,),\n",
    "                 go.Bar(name =\"away\", x=teams_df[\"name\"], y= teams_df[\"strength_overall_away\"],offsetgroup=1,),],layout=go.Layout(\n",
    "        title=\"Overall strength\"))              \n",
    "\n",
    "fig2 = go.Figure([go.Bar(name=\"home\", x=teams_df[\"name\"], y= teams_df[\"strength_attack_home\"],offsetgroup=0,),\n",
    "                 go.Bar(name =\"away\", x=teams_df[\"name\"], y= teams_df[\"strength_attack_away\"],offsetgroup=1,),],layout=go.Layout(\n",
    "        title=\"Attacking strength\"))\n",
    "\n",
    "fig3 = go.Figure([go.Bar(name=\"home\", x=teams_df[\"name\"], y= teams_df[\"strength_defence_home\"],offsetgroup=0,),\n",
    "                 go.Bar(name =\"away\", x=teams_df[\"name\"], y= teams_df[\"strength_defence_away\"],offsetgroup=1,),],layout=go.Layout(\n",
    "        title=\"Defensive strength\"))\n",
    "\n",
    "#fig.show()\n",
    "\n",
    "#fig2.show()\n",
    "\n",
    "#fig3.show()"
   ]
  },
  {
   "cell_type": "code",
   "execution_count": 246,
   "metadata": {},
   "outputs": [
    {
     "data": {
      "text/html": [
       "<div>\n",
       "<style scoped>\n",
       "    .dataframe tbody tr th:only-of-type {\n",
       "        vertical-align: middle;\n",
       "    }\n",
       "\n",
       "    .dataframe tbody tr th {\n",
       "        vertical-align: top;\n",
       "    }\n",
       "\n",
       "    .dataframe thead th {\n",
       "        text-align: right;\n",
       "    }\n",
       "</style>\n",
       "<table border=\"1\" class=\"dataframe\">\n",
       "  <thead>\n",
       "    <tr style=\"text-align: right;\">\n",
       "      <th></th>\n",
       "      <th>first_name</th>\n",
       "      <th>second_name</th>\n",
       "      <th>team</th>\n",
       "      <th>element_type</th>\n",
       "      <th>minutes</th>\n",
       "      <th>selected_by_percent</th>\n",
       "      <th>now_cost</th>\n",
       "      <th>minutes</th>\n",
       "      <th>transfers_in</th>\n",
       "      <th>transfers_out</th>\n",
       "      <th>value_season</th>\n",
       "      <th>value_form</th>\n",
       "      <th>form</th>\n",
       "      <th>total_points</th>\n",
       "      <th>points_per_game</th>\n",
       "      <th>threat</th>\n",
       "      <th>influence</th>\n",
       "      <th>creativity</th>\n",
       "      <th>news</th>\n",
       "    </tr>\n",
       "  </thead>\n",
       "  <tbody>\n",
       "    <tr>\n",
       "      <th>0</th>\n",
       "      <td>Mesut</td>\n",
       "      <td>Özil</td>\n",
       "      <td>1</td>\n",
       "      <td>3</td>\n",
       "      <td>0</td>\n",
       "      <td>0.5</td>\n",
       "      <td>67</td>\n",
       "      <td>0</td>\n",
       "      <td>3441</td>\n",
       "      <td>54723</td>\n",
       "      <td>0.0</td>\n",
       "      <td>0.0</td>\n",
       "      <td>0.0</td>\n",
       "      <td>0</td>\n",
       "      <td>0.0</td>\n",
       "      <td>0.0</td>\n",
       "      <td>0.0</td>\n",
       "      <td>0.0</td>\n",
       "      <td>Not included in Arsenal's 25-man Premier Leagu...</td>\n",
       "    </tr>\n",
       "    <tr>\n",
       "      <th>1</th>\n",
       "      <td>Sokratis</td>\n",
       "      <td>Papastathopoulos</td>\n",
       "      <td>1</td>\n",
       "      <td>2</td>\n",
       "      <td>0</td>\n",
       "      <td>0.1</td>\n",
       "      <td>48</td>\n",
       "      <td>0</td>\n",
       "      <td>10266</td>\n",
       "      <td>19117</td>\n",
       "      <td>0.0</td>\n",
       "      <td>0.0</td>\n",
       "      <td>0.0</td>\n",
       "      <td>0</td>\n",
       "      <td>0.0</td>\n",
       "      <td>0.0</td>\n",
       "      <td>0.0</td>\n",
       "      <td>0.0</td>\n",
       "      <td>Left the club by mutual consent on 20/1</td>\n",
       "    </tr>\n",
       "    <tr>\n",
       "      <th>2</th>\n",
       "      <td>David</td>\n",
       "      <td>Luiz Moreira Marinho</td>\n",
       "      <td>1</td>\n",
       "      <td>2</td>\n",
       "      <td>1344</td>\n",
       "      <td>0.8</td>\n",
       "      <td>54</td>\n",
       "      <td>1344</td>\n",
       "      <td>76497</td>\n",
       "      <td>123486</td>\n",
       "      <td>7.4</td>\n",
       "      <td>0.2</td>\n",
       "      <td>1.0</td>\n",
       "      <td>40</td>\n",
       "      <td>2.1</td>\n",
       "      <td>123.0</td>\n",
       "      <td>244.6</td>\n",
       "      <td>45.2</td>\n",
       "      <td>Knee injury - Unknown return date</td>\n",
       "    </tr>\n",
       "    <tr>\n",
       "      <th>3</th>\n",
       "      <td>Pierre-Emerick</td>\n",
       "      <td>Aubameyang</td>\n",
       "      <td>1</td>\n",
       "      <td>3</td>\n",
       "      <td>2007</td>\n",
       "      <td>9.0</td>\n",
       "      <td>114</td>\n",
       "      <td>2007</td>\n",
       "      <td>1131009</td>\n",
       "      <td>3620784</td>\n",
       "      <td>9.5</td>\n",
       "      <td>0.1</td>\n",
       "      <td>1.3</td>\n",
       "      <td>108</td>\n",
       "      <td>4.3</td>\n",
       "      <td>731.0</td>\n",
       "      <td>428.2</td>\n",
       "      <td>292.4</td>\n",
       "      <td></td>\n",
       "    </tr>\n",
       "    <tr>\n",
       "      <th>4</th>\n",
       "      <td>Cédric</td>\n",
       "      <td>Soares</td>\n",
       "      <td>1</td>\n",
       "      <td>2</td>\n",
       "      <td>744</td>\n",
       "      <td>0.3</td>\n",
       "      <td>46</td>\n",
       "      <td>744</td>\n",
       "      <td>35648</td>\n",
       "      <td>53674</td>\n",
       "      <td>6.1</td>\n",
       "      <td>0.2</td>\n",
       "      <td>0.7</td>\n",
       "      <td>28</td>\n",
       "      <td>2.8</td>\n",
       "      <td>66.0</td>\n",
       "      <td>110.8</td>\n",
       "      <td>114.8</td>\n",
       "      <td></td>\n",
       "    </tr>\n",
       "  </tbody>\n",
       "</table>\n",
       "</div>"
      ],
      "text/plain": [
       "       first_name           second_name  team  element_type  minutes  \\\n",
       "0           Mesut                  Özil     1             3        0   \n",
       "1        Sokratis      Papastathopoulos     1             2        0   \n",
       "2           David  Luiz Moreira Marinho     1             2     1344   \n",
       "3  Pierre-Emerick            Aubameyang     1             3     2007   \n",
       "4          Cédric                Soares     1             2      744   \n",
       "\n",
       "  selected_by_percent  now_cost  minutes  transfers_in  transfers_out  \\\n",
       "0                 0.5        67        0          3441          54723   \n",
       "1                 0.1        48        0         10266          19117   \n",
       "2                 0.8        54     1344         76497         123486   \n",
       "3                 9.0       114     2007       1131009        3620784   \n",
       "4                 0.3        46      744         35648          53674   \n",
       "\n",
       "  value_season value_form form  total_points points_per_game threat influence  \\\n",
       "0          0.0        0.0  0.0             0             0.0    0.0       0.0   \n",
       "1          0.0        0.0  0.0             0             0.0    0.0       0.0   \n",
       "2          7.4        0.2  1.0            40             2.1  123.0     244.6   \n",
       "3          9.5        0.1  1.3           108             4.3  731.0     428.2   \n",
       "4          6.1        0.2  0.7            28             2.8   66.0     110.8   \n",
       "\n",
       "  creativity                                               news  \n",
       "0        0.0  Not included in Arsenal's 25-man Premier Leagu...  \n",
       "1        0.0            Left the club by mutual consent on 20/1  \n",
       "2       45.2                  Knee injury - Unknown return date  \n",
       "3      292.4                                                     \n",
       "4      114.8                                                     "
      ]
     },
     "execution_count": 246,
     "metadata": {},
     "output_type": "execute_result"
    }
   ],
   "source": [
    "\n",
    "slim_elements_df = elements_df[['first_name','second_name','team','element_type','minutes','selected_by_percent',\n",
    "                                'now_cost','minutes','transfers_in','transfers_out','value_season','value_form','form','total_points','points_per_game',\n",
    "                               'threat','influence','creativity','news']].copy()\n",
    "\n",
    "\n",
    "slim_elements_df.head(5)"
   ]
  },
  {
   "cell_type": "code",
   "execution_count": 247,
   "metadata": {},
   "outputs": [
    {
     "data": {
      "text/html": [
       "<div>\n",
       "<style scoped>\n",
       "    .dataframe tbody tr th:only-of-type {\n",
       "        vertical-align: middle;\n",
       "    }\n",
       "\n",
       "    .dataframe tbody tr th {\n",
       "        vertical-align: top;\n",
       "    }\n",
       "\n",
       "    .dataframe thead th {\n",
       "        text-align: right;\n",
       "    }\n",
       "</style>\n",
       "<table border=\"1\" class=\"dataframe\">\n",
       "  <thead>\n",
       "    <tr style=\"text-align: right;\">\n",
       "      <th></th>\n",
       "      <th>first_name</th>\n",
       "      <th>second_name</th>\n",
       "      <th>team</th>\n",
       "      <th>element_type</th>\n",
       "      <th>minutes</th>\n",
       "      <th>selected_by_percent</th>\n",
       "      <th>now_cost</th>\n",
       "      <th>minutes</th>\n",
       "      <th>transfers_in</th>\n",
       "      <th>transfers_out</th>\n",
       "      <th>value_season</th>\n",
       "      <th>value_form</th>\n",
       "      <th>form</th>\n",
       "      <th>total_points</th>\n",
       "      <th>points_per_game</th>\n",
       "      <th>threat</th>\n",
       "      <th>influence</th>\n",
       "      <th>creativity</th>\n",
       "      <th>news</th>\n",
       "      <th>position</th>\n",
       "    </tr>\n",
       "  </thead>\n",
       "  <tbody>\n",
       "    <tr>\n",
       "      <th>0</th>\n",
       "      <td>Mesut</td>\n",
       "      <td>Özil</td>\n",
       "      <td>1</td>\n",
       "      <td>3</td>\n",
       "      <td>0</td>\n",
       "      <td>0.5</td>\n",
       "      <td>67</td>\n",
       "      <td>0</td>\n",
       "      <td>3441</td>\n",
       "      <td>54723</td>\n",
       "      <td>0.0</td>\n",
       "      <td>0.0</td>\n",
       "      <td>0.0</td>\n",
       "      <td>0</td>\n",
       "      <td>0.0</td>\n",
       "      <td>0.0</td>\n",
       "      <td>0.0</td>\n",
       "      <td>0.0</td>\n",
       "      <td>Not included in Arsenal's 25-man Premier Leagu...</td>\n",
       "      <td>Midfielder</td>\n",
       "    </tr>\n",
       "    <tr>\n",
       "      <th>1</th>\n",
       "      <td>Sokratis</td>\n",
       "      <td>Papastathopoulos</td>\n",
       "      <td>1</td>\n",
       "      <td>2</td>\n",
       "      <td>0</td>\n",
       "      <td>0.1</td>\n",
       "      <td>48</td>\n",
       "      <td>0</td>\n",
       "      <td>10266</td>\n",
       "      <td>19117</td>\n",
       "      <td>0.0</td>\n",
       "      <td>0.0</td>\n",
       "      <td>0.0</td>\n",
       "      <td>0</td>\n",
       "      <td>0.0</td>\n",
       "      <td>0.0</td>\n",
       "      <td>0.0</td>\n",
       "      <td>0.0</td>\n",
       "      <td>Left the club by mutual consent on 20/1</td>\n",
       "      <td>Defender</td>\n",
       "    </tr>\n",
       "    <tr>\n",
       "      <th>2</th>\n",
       "      <td>David</td>\n",
       "      <td>Luiz Moreira Marinho</td>\n",
       "      <td>1</td>\n",
       "      <td>2</td>\n",
       "      <td>1344</td>\n",
       "      <td>0.8</td>\n",
       "      <td>54</td>\n",
       "      <td>1344</td>\n",
       "      <td>76497</td>\n",
       "      <td>123486</td>\n",
       "      <td>7.4</td>\n",
       "      <td>0.2</td>\n",
       "      <td>1.0</td>\n",
       "      <td>40</td>\n",
       "      <td>2.1</td>\n",
       "      <td>123.0</td>\n",
       "      <td>244.6</td>\n",
       "      <td>45.2</td>\n",
       "      <td>Knee injury - Unknown return date</td>\n",
       "      <td>Defender</td>\n",
       "    </tr>\n",
       "    <tr>\n",
       "      <th>3</th>\n",
       "      <td>Pierre-Emerick</td>\n",
       "      <td>Aubameyang</td>\n",
       "      <td>1</td>\n",
       "      <td>3</td>\n",
       "      <td>2007</td>\n",
       "      <td>9.0</td>\n",
       "      <td>114</td>\n",
       "      <td>2007</td>\n",
       "      <td>1131009</td>\n",
       "      <td>3620784</td>\n",
       "      <td>9.5</td>\n",
       "      <td>0.1</td>\n",
       "      <td>1.3</td>\n",
       "      <td>108</td>\n",
       "      <td>4.3</td>\n",
       "      <td>731.0</td>\n",
       "      <td>428.2</td>\n",
       "      <td>292.4</td>\n",
       "      <td></td>\n",
       "      <td>Midfielder</td>\n",
       "    </tr>\n",
       "    <tr>\n",
       "      <th>4</th>\n",
       "      <td>Cédric</td>\n",
       "      <td>Soares</td>\n",
       "      <td>1</td>\n",
       "      <td>2</td>\n",
       "      <td>744</td>\n",
       "      <td>0.3</td>\n",
       "      <td>46</td>\n",
       "      <td>744</td>\n",
       "      <td>35648</td>\n",
       "      <td>53674</td>\n",
       "      <td>6.1</td>\n",
       "      <td>0.2</td>\n",
       "      <td>0.7</td>\n",
       "      <td>28</td>\n",
       "      <td>2.8</td>\n",
       "      <td>66.0</td>\n",
       "      <td>110.8</td>\n",
       "      <td>114.8</td>\n",
       "      <td></td>\n",
       "      <td>Defender</td>\n",
       "    </tr>\n",
       "  </tbody>\n",
       "</table>\n",
       "</div>"
      ],
      "text/plain": [
       "       first_name           second_name  team  element_type  minutes  \\\n",
       "0           Mesut                  Özil     1             3        0   \n",
       "1        Sokratis      Papastathopoulos     1             2        0   \n",
       "2           David  Luiz Moreira Marinho     1             2     1344   \n",
       "3  Pierre-Emerick            Aubameyang     1             3     2007   \n",
       "4          Cédric                Soares     1             2      744   \n",
       "\n",
       "  selected_by_percent  now_cost  minutes  transfers_in  transfers_out  \\\n",
       "0                 0.5        67        0          3441          54723   \n",
       "1                 0.1        48        0         10266          19117   \n",
       "2                 0.8        54     1344         76497         123486   \n",
       "3                 9.0       114     2007       1131009        3620784   \n",
       "4                 0.3        46      744         35648          53674   \n",
       "\n",
       "  value_season value_form form  total_points points_per_game threat influence  \\\n",
       "0          0.0        0.0  0.0             0             0.0    0.0       0.0   \n",
       "1          0.0        0.0  0.0             0             0.0    0.0       0.0   \n",
       "2          7.4        0.2  1.0            40             2.1  123.0     244.6   \n",
       "3          9.5        0.1  1.3           108             4.3  731.0     428.2   \n",
       "4          6.1        0.2  0.7            28             2.8   66.0     110.8   \n",
       "\n",
       "  creativity                                               news    position  \n",
       "0        0.0  Not included in Arsenal's 25-man Premier Leagu...  Midfielder  \n",
       "1        0.0            Left the club by mutual consent on 20/1    Defender  \n",
       "2       45.2                  Knee injury - Unknown return date    Defender  \n",
       "3      292.4                                                     Midfielder  \n",
       "4      114.8                                                       Defender  "
      ]
     },
     "execution_count": 247,
     "metadata": {},
     "output_type": "execute_result"
    }
   ],
   "source": [
    "slim_elements_df.loc[:,'position'] = slim_elements_df.element_type.map(elements_types_df.set_index('id').singular_name)\n",
    "slim_elements_df.head()"
   ]
  },
  {
   "cell_type": "code",
   "execution_count": 248,
   "metadata": {},
   "outputs": [
    {
     "data": {
      "text/html": [
       "<div>\n",
       "<style scoped>\n",
       "    .dataframe tbody tr th:only-of-type {\n",
       "        vertical-align: middle;\n",
       "    }\n",
       "\n",
       "    .dataframe tbody tr th {\n",
       "        vertical-align: top;\n",
       "    }\n",
       "\n",
       "    .dataframe thead th {\n",
       "        text-align: right;\n",
       "    }\n",
       "</style>\n",
       "<table border=\"1\" class=\"dataframe\">\n",
       "  <thead>\n",
       "    <tr style=\"text-align: right;\">\n",
       "      <th></th>\n",
       "      <th>first_name</th>\n",
       "      <th>second_name</th>\n",
       "      <th>team</th>\n",
       "      <th>element_type</th>\n",
       "      <th>minutes</th>\n",
       "      <th>selected_by_percent</th>\n",
       "      <th>now_cost</th>\n",
       "      <th>minutes</th>\n",
       "      <th>transfers_in</th>\n",
       "      <th>transfers_out</th>\n",
       "      <th>...</th>\n",
       "      <th>value_form</th>\n",
       "      <th>form</th>\n",
       "      <th>total_points</th>\n",
       "      <th>points_per_game</th>\n",
       "      <th>threat</th>\n",
       "      <th>influence</th>\n",
       "      <th>creativity</th>\n",
       "      <th>news</th>\n",
       "      <th>position</th>\n",
       "      <th>value</th>\n",
       "    </tr>\n",
       "  </thead>\n",
       "  <tbody>\n",
       "    <tr>\n",
       "      <th>33</th>\n",
       "      <td>Emiliano</td>\n",
       "      <td>Martínez</td>\n",
       "      <td>Aston Villa</td>\n",
       "      <td>1</td>\n",
       "      <td>2610</td>\n",
       "      <td>40.5</td>\n",
       "      <td>54</td>\n",
       "      <td>2610</td>\n",
       "      <td>3859323</td>\n",
       "      <td>1386101</td>\n",
       "      <td>...</td>\n",
       "      <td>0.5</td>\n",
       "      <td>2.7</td>\n",
       "      <td>157.0</td>\n",
       "      <td>5.4</td>\n",
       "      <td>0.0</td>\n",
       "      <td>784.0</td>\n",
       "      <td>20.0</td>\n",
       "      <td></td>\n",
       "      <td>Goalkeeper</td>\n",
       "      <td>29.1</td>\n",
       "    </tr>\n",
       "    <tr>\n",
       "      <th>324</th>\n",
       "      <td>Illan</td>\n",
       "      <td>Meslier</td>\n",
       "      <td>Leeds</td>\n",
       "      <td>1</td>\n",
       "      <td>2610</td>\n",
       "      <td>6.8</td>\n",
       "      <td>47</td>\n",
       "      <td>2610</td>\n",
       "      <td>979940</td>\n",
       "      <td>588709</td>\n",
       "      <td>...</td>\n",
       "      <td>1.1</td>\n",
       "      <td>5.3</td>\n",
       "      <td>127.0</td>\n",
       "      <td>4.4</td>\n",
       "      <td>0.0</td>\n",
       "      <td>852.4</td>\n",
       "      <td>10.0</td>\n",
       "      <td></td>\n",
       "      <td>Goalkeeper</td>\n",
       "      <td>27.0</td>\n",
       "    </tr>\n",
       "    <tr>\n",
       "      <th>311</th>\n",
       "      <td>Stuart</td>\n",
       "      <td>Dallas</td>\n",
       "      <td>Leeds</td>\n",
       "      <td>2</td>\n",
       "      <td>2690</td>\n",
       "      <td>23.6</td>\n",
       "      <td>51</td>\n",
       "      <td>2690</td>\n",
       "      <td>2972969</td>\n",
       "      <td>1457063</td>\n",
       "      <td>...</td>\n",
       "      <td>0.6</td>\n",
       "      <td>3.3</td>\n",
       "      <td>124.0</td>\n",
       "      <td>4.1</td>\n",
       "      <td>386.0</td>\n",
       "      <td>593.0</td>\n",
       "      <td>357.9</td>\n",
       "      <td></td>\n",
       "      <td>Defender</td>\n",
       "      <td>24.3</td>\n",
       "    </tr>\n",
       "    <tr>\n",
       "      <th>261</th>\n",
       "      <td>Alphonse</td>\n",
       "      <td>Areola</td>\n",
       "      <td>Fulham</td>\n",
       "      <td>1</td>\n",
       "      <td>2700</td>\n",
       "      <td>5.2</td>\n",
       "      <td>46</td>\n",
       "      <td>2700</td>\n",
       "      <td>573363</td>\n",
       "      <td>301915</td>\n",
       "      <td>...</td>\n",
       "      <td>0.3</td>\n",
       "      <td>1.3</td>\n",
       "      <td>111.0</td>\n",
       "      <td>3.7</td>\n",
       "      <td>0.0</td>\n",
       "      <td>723.0</td>\n",
       "      <td>0.0</td>\n",
       "      <td></td>\n",
       "      <td>Goalkeeper</td>\n",
       "      <td>24.1</td>\n",
       "    </tr>\n",
       "    <tr>\n",
       "      <th>313</th>\n",
       "      <td>Patrick</td>\n",
       "      <td>Bamford</td>\n",
       "      <td>Leeds</td>\n",
       "      <td>4</td>\n",
       "      <td>2499</td>\n",
       "      <td>46.1</td>\n",
       "      <td>66</td>\n",
       "      <td>2499</td>\n",
       "      <td>7194011</td>\n",
       "      <td>4339000</td>\n",
       "      <td>...</td>\n",
       "      <td>0.7</td>\n",
       "      <td>4.7</td>\n",
       "      <td>158.0</td>\n",
       "      <td>5.3</td>\n",
       "      <td>1252.0</td>\n",
       "      <td>699.0</td>\n",
       "      <td>293.2</td>\n",
       "      <td></td>\n",
       "      <td>Forward</td>\n",
       "      <td>23.9</td>\n",
       "    </tr>\n",
       "    <tr>\n",
       "      <th>377</th>\n",
       "      <td>Ilkay</td>\n",
       "      <td>Gündogan</td>\n",
       "      <td>Man City</td>\n",
       "      <td>3</td>\n",
       "      <td>1739</td>\n",
       "      <td>31.7</td>\n",
       "      <td>60</td>\n",
       "      <td>1739</td>\n",
       "      <td>4081340</td>\n",
       "      <td>1629291</td>\n",
       "      <td>...</td>\n",
       "      <td>0.4</td>\n",
       "      <td>2.7</td>\n",
       "      <td>142.0</td>\n",
       "      <td>6.2</td>\n",
       "      <td>609.0</td>\n",
       "      <td>656.6</td>\n",
       "      <td>544.0</td>\n",
       "      <td></td>\n",
       "      <td>Midfielder</td>\n",
       "      <td>23.7</td>\n",
       "    </tr>\n",
       "    <tr>\n",
       "      <th>124</th>\n",
       "      <td>Nick</td>\n",
       "      <td>Pope</td>\n",
       "      <td>Burnley</td>\n",
       "      <td>1</td>\n",
       "      <td>2610</td>\n",
       "      <td>12.8</td>\n",
       "      <td>55</td>\n",
       "      <td>2610</td>\n",
       "      <td>1033036</td>\n",
       "      <td>1221560</td>\n",
       "      <td>...</td>\n",
       "      <td>0.4</td>\n",
       "      <td>2.0</td>\n",
       "      <td>130.0</td>\n",
       "      <td>4.5</td>\n",
       "      <td>0.0</td>\n",
       "      <td>786.6</td>\n",
       "      <td>20.0</td>\n",
       "      <td></td>\n",
       "      <td>Goalkeeper</td>\n",
       "      <td>23.6</td>\n",
       "    </tr>\n",
       "    <tr>\n",
       "      <th>379</th>\n",
       "      <td>John</td>\n",
       "      <td>Stones</td>\n",
       "      <td>Man City</td>\n",
       "      <td>2</td>\n",
       "      <td>1620</td>\n",
       "      <td>21.9</td>\n",
       "      <td>52</td>\n",
       "      <td>1620</td>\n",
       "      <td>2673109</td>\n",
       "      <td>1026394</td>\n",
       "      <td>...</td>\n",
       "      <td>0.9</td>\n",
       "      <td>4.7</td>\n",
       "      <td>122.0</td>\n",
       "      <td>6.8</td>\n",
       "      <td>164.0</td>\n",
       "      <td>454.8</td>\n",
       "      <td>56.7</td>\n",
       "      <td></td>\n",
       "      <td>Defender</td>\n",
       "      <td>23.5</td>\n",
       "    </tr>\n",
       "    <tr>\n",
       "      <th>635</th>\n",
       "      <td>Tomas</td>\n",
       "      <td>Soucek</td>\n",
       "      <td>West Ham</td>\n",
       "      <td>3</td>\n",
       "      <td>2700</td>\n",
       "      <td>13.3</td>\n",
       "      <td>53</td>\n",
       "      <td>2700</td>\n",
       "      <td>2817050</td>\n",
       "      <td>2169461</td>\n",
       "      <td>...</td>\n",
       "      <td>0.5</td>\n",
       "      <td>2.7</td>\n",
       "      <td>123.0</td>\n",
       "      <td>4.1</td>\n",
       "      <td>778.0</td>\n",
       "      <td>713.6</td>\n",
       "      <td>193.0</td>\n",
       "      <td></td>\n",
       "      <td>Midfielder</td>\n",
       "      <td>23.2</td>\n",
       "    </tr>\n",
       "    <tr>\n",
       "      <th>48</th>\n",
       "      <td>Matt</td>\n",
       "      <td>Targett</td>\n",
       "      <td>Aston Villa</td>\n",
       "      <td>2</td>\n",
       "      <td>2594</td>\n",
       "      <td>14.1</td>\n",
       "      <td>51</td>\n",
       "      <td>2594</td>\n",
       "      <td>1700043</td>\n",
       "      <td>683837</td>\n",
       "      <td>...</td>\n",
       "      <td>0.4</td>\n",
       "      <td>2.0</td>\n",
       "      <td>118.0</td>\n",
       "      <td>4.1</td>\n",
       "      <td>96.0</td>\n",
       "      <td>489.2</td>\n",
       "      <td>388.3</td>\n",
       "      <td></td>\n",
       "      <td>Defender</td>\n",
       "      <td>23.1</td>\n",
       "    </tr>\n",
       "  </tbody>\n",
       "</table>\n",
       "<p>10 rows × 21 columns</p>\n",
       "</div>"
      ],
      "text/plain": [
       "    first_name second_name         team  element_type  minutes  \\\n",
       "33    Emiliano    Martínez  Aston Villa             1     2610   \n",
       "324      Illan     Meslier        Leeds             1     2610   \n",
       "311     Stuart      Dallas        Leeds             2     2690   \n",
       "261   Alphonse      Areola       Fulham             1     2700   \n",
       "313    Patrick     Bamford        Leeds             4     2499   \n",
       "377      Ilkay    Gündogan     Man City             3     1739   \n",
       "124       Nick        Pope      Burnley             1     2610   \n",
       "379       John      Stones     Man City             2     1620   \n",
       "635      Tomas      Soucek     West Ham             3     2700   \n",
       "48        Matt     Targett  Aston Villa             2     2594   \n",
       "\n",
       "    selected_by_percent  now_cost  minutes  transfers_in  transfers_out  ...  \\\n",
       "33                 40.5        54     2610       3859323        1386101  ...   \n",
       "324                 6.8        47     2610        979940         588709  ...   \n",
       "311                23.6        51     2690       2972969        1457063  ...   \n",
       "261                 5.2        46     2700        573363         301915  ...   \n",
       "313                46.1        66     2499       7194011        4339000  ...   \n",
       "377                31.7        60     1739       4081340        1629291  ...   \n",
       "124                12.8        55     2610       1033036        1221560  ...   \n",
       "379                21.9        52     1620       2673109        1026394  ...   \n",
       "635                13.3        53     2700       2817050        2169461  ...   \n",
       "48                 14.1        51     2594       1700043         683837  ...   \n",
       "\n",
       "    value_form form total_points  points_per_game  threat influence  \\\n",
       "33         0.5  2.7        157.0              5.4     0.0     784.0   \n",
       "324        1.1  5.3        127.0              4.4     0.0     852.4   \n",
       "311        0.6  3.3        124.0              4.1   386.0     593.0   \n",
       "261        0.3  1.3        111.0              3.7     0.0     723.0   \n",
       "313        0.7  4.7        158.0              5.3  1252.0     699.0   \n",
       "377        0.4  2.7        142.0              6.2   609.0     656.6   \n",
       "124        0.4  2.0        130.0              4.5     0.0     786.6   \n",
       "379        0.9  4.7        122.0              6.8   164.0     454.8   \n",
       "635        0.5  2.7        123.0              4.1   778.0     713.6   \n",
       "48         0.4  2.0        118.0              4.1    96.0     489.2   \n",
       "\n",
       "    creativity news    position value  \n",
       "33        20.0       Goalkeeper  29.1  \n",
       "324       10.0       Goalkeeper  27.0  \n",
       "311      357.9         Defender  24.3  \n",
       "261        0.0       Goalkeeper  24.1  \n",
       "313      293.2          Forward  23.9  \n",
       "377      544.0       Midfielder  23.7  \n",
       "124       20.0       Goalkeeper  23.6  \n",
       "379       56.7         Defender  23.5  \n",
       "635      193.0       Midfielder  23.2  \n",
       "48       388.3         Defender  23.1  \n",
       "\n",
       "[10 rows x 21 columns]"
      ]
     },
     "execution_count": 248,
     "metadata": {},
     "output_type": "execute_result"
    }
   ],
   "source": [
    "slim_elements_df['team'] = slim_elements_df.team.map(teams_df.set_index('id').name)\n",
    "\n",
    "slim_elements_df['value'] = slim_elements_df.value_season.astype(float)\n",
    "\n",
    "#slim_elements_df['games'] = slim_elements_df.games.astype(float)\n",
    "\n",
    "slim_elements_df['total_points'] = slim_elements_df.total_points.astype(float)\n",
    "\n",
    "slim_elements_df.sort_values('value',ascending=False).head(10)"
   ]
  },
  {
   "cell_type": "code",
   "execution_count": 249,
   "metadata": {
    "scrolled": false
   },
   "outputs": [
    {
     "data": {
      "text/html": [
       "<div>\n",
       "<style scoped>\n",
       "    .dataframe tbody tr th:only-of-type {\n",
       "        vertical-align: middle;\n",
       "    }\n",
       "\n",
       "    .dataframe tbody tr th {\n",
       "        vertical-align: top;\n",
       "    }\n",
       "\n",
       "    .dataframe thead th {\n",
       "        text-align: right;\n",
       "    }\n",
       "</style>\n",
       "<table border=\"1\" class=\"dataframe\">\n",
       "  <thead>\n",
       "    <tr style=\"text-align: right;\">\n",
       "      <th></th>\n",
       "      <th>first_name</th>\n",
       "      <th>second_name</th>\n",
       "      <th>team</th>\n",
       "      <th>element_type</th>\n",
       "      <th>minutes</th>\n",
       "      <th>selected_by_percent</th>\n",
       "      <th>now_cost</th>\n",
       "      <th>minutes</th>\n",
       "      <th>transfers_in</th>\n",
       "      <th>transfers_out</th>\n",
       "      <th>...</th>\n",
       "      <th>form</th>\n",
       "      <th>total_points</th>\n",
       "      <th>points_per_game</th>\n",
       "      <th>threat</th>\n",
       "      <th>influence</th>\n",
       "      <th>creativity</th>\n",
       "      <th>news</th>\n",
       "      <th>position</th>\n",
       "      <th>value</th>\n",
       "      <th>unavailable</th>\n",
       "    </tr>\n",
       "  </thead>\n",
       "  <tbody>\n",
       "    <tr>\n",
       "      <th>0</th>\n",
       "      <td>Mesut</td>\n",
       "      <td>Özil</td>\n",
       "      <td>Arsenal</td>\n",
       "      <td>3</td>\n",
       "      <td>0</td>\n",
       "      <td>0.5</td>\n",
       "      <td>67</td>\n",
       "      <td>0</td>\n",
       "      <td>3441</td>\n",
       "      <td>54723</td>\n",
       "      <td>...</td>\n",
       "      <td>0.0</td>\n",
       "      <td>0.0</td>\n",
       "      <td>0.0</td>\n",
       "      <td>0.0</td>\n",
       "      <td>0.0</td>\n",
       "      <td>0.0</td>\n",
       "      <td>Not included in Arsenal's 25-man Premier Leagu...</td>\n",
       "      <td>Midfielder</td>\n",
       "      <td>0.0</td>\n",
       "      <td>True</td>\n",
       "    </tr>\n",
       "    <tr>\n",
       "      <th>1</th>\n",
       "      <td>Sokratis</td>\n",
       "      <td>Papastathopoulos</td>\n",
       "      <td>Arsenal</td>\n",
       "      <td>2</td>\n",
       "      <td>0</td>\n",
       "      <td>0.1</td>\n",
       "      <td>48</td>\n",
       "      <td>0</td>\n",
       "      <td>10266</td>\n",
       "      <td>19117</td>\n",
       "      <td>...</td>\n",
       "      <td>0.0</td>\n",
       "      <td>0.0</td>\n",
       "      <td>0.0</td>\n",
       "      <td>0.0</td>\n",
       "      <td>0.0</td>\n",
       "      <td>0.0</td>\n",
       "      <td>Left the club by mutual consent on 20/1</td>\n",
       "      <td>Defender</td>\n",
       "      <td>0.0</td>\n",
       "      <td>True</td>\n",
       "    </tr>\n",
       "    <tr>\n",
       "      <th>2</th>\n",
       "      <td>David</td>\n",
       "      <td>Luiz Moreira Marinho</td>\n",
       "      <td>Arsenal</td>\n",
       "      <td>2</td>\n",
       "      <td>1344</td>\n",
       "      <td>0.8</td>\n",
       "      <td>54</td>\n",
       "      <td>1344</td>\n",
       "      <td>76497</td>\n",
       "      <td>123486</td>\n",
       "      <td>...</td>\n",
       "      <td>1.0</td>\n",
       "      <td>40.0</td>\n",
       "      <td>2.1</td>\n",
       "      <td>123.0</td>\n",
       "      <td>244.6</td>\n",
       "      <td>45.2</td>\n",
       "      <td>Knee injury - Unknown return date</td>\n",
       "      <td>Defender</td>\n",
       "      <td>7.4</td>\n",
       "      <td>True</td>\n",
       "    </tr>\n",
       "    <tr>\n",
       "      <th>3</th>\n",
       "      <td>Pierre-Emerick</td>\n",
       "      <td>Aubameyang</td>\n",
       "      <td>Arsenal</td>\n",
       "      <td>3</td>\n",
       "      <td>2007</td>\n",
       "      <td>9.0</td>\n",
       "      <td>114</td>\n",
       "      <td>2007</td>\n",
       "      <td>1131009</td>\n",
       "      <td>3620784</td>\n",
       "      <td>...</td>\n",
       "      <td>1.3</td>\n",
       "      <td>108.0</td>\n",
       "      <td>4.3</td>\n",
       "      <td>731.0</td>\n",
       "      <td>428.2</td>\n",
       "      <td>292.4</td>\n",
       "      <td></td>\n",
       "      <td>Midfielder</td>\n",
       "      <td>9.5</td>\n",
       "      <td>False</td>\n",
       "    </tr>\n",
       "    <tr>\n",
       "      <th>4</th>\n",
       "      <td>Cédric</td>\n",
       "      <td>Soares</td>\n",
       "      <td>Arsenal</td>\n",
       "      <td>2</td>\n",
       "      <td>744</td>\n",
       "      <td>0.3</td>\n",
       "      <td>46</td>\n",
       "      <td>744</td>\n",
       "      <td>35648</td>\n",
       "      <td>53674</td>\n",
       "      <td>...</td>\n",
       "      <td>0.7</td>\n",
       "      <td>28.0</td>\n",
       "      <td>2.8</td>\n",
       "      <td>66.0</td>\n",
       "      <td>110.8</td>\n",
       "      <td>114.8</td>\n",
       "      <td></td>\n",
       "      <td>Defender</td>\n",
       "      <td>6.1</td>\n",
       "      <td>False</td>\n",
       "    </tr>\n",
       "  </tbody>\n",
       "</table>\n",
       "<p>5 rows × 22 columns</p>\n",
       "</div>"
      ],
      "text/plain": [
       "       first_name           second_name     team  element_type  minutes  \\\n",
       "0           Mesut                  Özil  Arsenal             3        0   \n",
       "1        Sokratis      Papastathopoulos  Arsenal             2        0   \n",
       "2           David  Luiz Moreira Marinho  Arsenal             2     1344   \n",
       "3  Pierre-Emerick            Aubameyang  Arsenal             3     2007   \n",
       "4          Cédric                Soares  Arsenal             2      744   \n",
       "\n",
       "  selected_by_percent  now_cost  minutes  transfers_in  transfers_out  ...  \\\n",
       "0                 0.5        67        0          3441          54723  ...   \n",
       "1                 0.1        48        0         10266          19117  ...   \n",
       "2                 0.8        54     1344         76497         123486  ...   \n",
       "3                 9.0       114     2007       1131009        3620784  ...   \n",
       "4                 0.3        46      744         35648          53674  ...   \n",
       "\n",
       "  form total_points points_per_game  threat influence creativity  \\\n",
       "0  0.0          0.0             0.0     0.0       0.0        0.0   \n",
       "1  0.0          0.0             0.0     0.0       0.0        0.0   \n",
       "2  1.0         40.0             2.1   123.0     244.6       45.2   \n",
       "3  1.3        108.0             4.3   731.0     428.2      292.4   \n",
       "4  0.7         28.0             2.8    66.0     110.8      114.8   \n",
       "\n",
       "                                                news    position value  \\\n",
       "0  Not included in Arsenal's 25-man Premier Leagu...  Midfielder   0.0   \n",
       "1            Left the club by mutual consent on 20/1    Defender   0.0   \n",
       "2                  Knee injury - Unknown return date    Defender   7.4   \n",
       "3                                                     Midfielder   9.5   \n",
       "4                                                       Defender   6.1   \n",
       "\n",
       "  unavailable  \n",
       "0        True  \n",
       "1        True  \n",
       "2        True  \n",
       "3       False  \n",
       "4       False  \n",
       "\n",
       "[5 rows x 22 columns]"
      ]
     },
     "execution_count": 249,
     "metadata": {},
     "output_type": "execute_result"
    }
   ],
   "source": [
    "\n",
    "# Function for creating cell-values\n",
    "def unavailable(row):\n",
    "    if row['news'] != '':\n",
    "        return True\n",
    "    else:\n",
    "        return False\n",
    "    \n",
    "\n",
    "\n",
    "# Using function to create new column:\n",
    "slim_elements_df['unavailable'] = slim_elements_df.apply(lambda row: unavailable(row), axis=1)\n",
    "\n",
    "slim_elements_df.head()"
   ]
  },
  {
   "cell_type": "code",
   "execution_count": 250,
   "metadata": {},
   "outputs": [
    {
     "data": {
      "text/html": [
       "<div>\n",
       "<style scoped>\n",
       "    .dataframe tbody tr th:only-of-type {\n",
       "        vertical-align: middle;\n",
       "    }\n",
       "\n",
       "    .dataframe tbody tr th {\n",
       "        vertical-align: top;\n",
       "    }\n",
       "\n",
       "    .dataframe thead th {\n",
       "        text-align: right;\n",
       "    }\n",
       "</style>\n",
       "<table border=\"1\" class=\"dataframe\">\n",
       "  <thead>\n",
       "    <tr style=\"text-align: right;\">\n",
       "      <th></th>\n",
       "      <th>first_name</th>\n",
       "      <th>second_name</th>\n",
       "      <th>team</th>\n",
       "      <th>element_type</th>\n",
       "      <th>minutes</th>\n",
       "      <th>selected_by_percent</th>\n",
       "      <th>now_cost</th>\n",
       "      <th>minutes</th>\n",
       "      <th>transfers_in</th>\n",
       "      <th>transfers_out</th>\n",
       "      <th>...</th>\n",
       "      <th>points_per_game</th>\n",
       "      <th>threat</th>\n",
       "      <th>influence</th>\n",
       "      <th>creativity</th>\n",
       "      <th>news</th>\n",
       "      <th>position</th>\n",
       "      <th>value</th>\n",
       "      <th>unavailable</th>\n",
       "      <th>strength_overall_home</th>\n",
       "      <th>strength_overall_away</th>\n",
       "    </tr>\n",
       "  </thead>\n",
       "  <tbody>\n",
       "    <tr>\n",
       "      <th>0</th>\n",
       "      <td>Mesut</td>\n",
       "      <td>Özil</td>\n",
       "      <td>Arsenal</td>\n",
       "      <td>3</td>\n",
       "      <td>0</td>\n",
       "      <td>0.5</td>\n",
       "      <td>67</td>\n",
       "      <td>0</td>\n",
       "      <td>3441</td>\n",
       "      <td>54723</td>\n",
       "      <td>...</td>\n",
       "      <td>0.0</td>\n",
       "      <td>0.0</td>\n",
       "      <td>0.0</td>\n",
       "      <td>0.0</td>\n",
       "      <td>Not included in Arsenal's 25-man Premier Leagu...</td>\n",
       "      <td>Midfielder</td>\n",
       "      <td>0.0</td>\n",
       "      <td>True</td>\n",
       "      <td>1250</td>\n",
       "      <td>1200</td>\n",
       "    </tr>\n",
       "    <tr>\n",
       "      <th>1</th>\n",
       "      <td>Sokratis</td>\n",
       "      <td>Papastathopoulos</td>\n",
       "      <td>Arsenal</td>\n",
       "      <td>2</td>\n",
       "      <td>0</td>\n",
       "      <td>0.1</td>\n",
       "      <td>48</td>\n",
       "      <td>0</td>\n",
       "      <td>10266</td>\n",
       "      <td>19117</td>\n",
       "      <td>...</td>\n",
       "      <td>0.0</td>\n",
       "      <td>0.0</td>\n",
       "      <td>0.0</td>\n",
       "      <td>0.0</td>\n",
       "      <td>Left the club by mutual consent on 20/1</td>\n",
       "      <td>Defender</td>\n",
       "      <td>0.0</td>\n",
       "      <td>True</td>\n",
       "      <td>1250</td>\n",
       "      <td>1200</td>\n",
       "    </tr>\n",
       "    <tr>\n",
       "      <th>2</th>\n",
       "      <td>David</td>\n",
       "      <td>Luiz Moreira Marinho</td>\n",
       "      <td>Arsenal</td>\n",
       "      <td>2</td>\n",
       "      <td>1344</td>\n",
       "      <td>0.8</td>\n",
       "      <td>54</td>\n",
       "      <td>1344</td>\n",
       "      <td>76497</td>\n",
       "      <td>123486</td>\n",
       "      <td>...</td>\n",
       "      <td>2.1</td>\n",
       "      <td>123.0</td>\n",
       "      <td>244.6</td>\n",
       "      <td>45.2</td>\n",
       "      <td>Knee injury - Unknown return date</td>\n",
       "      <td>Defender</td>\n",
       "      <td>7.4</td>\n",
       "      <td>True</td>\n",
       "      <td>1250</td>\n",
       "      <td>1200</td>\n",
       "    </tr>\n",
       "    <tr>\n",
       "      <th>3</th>\n",
       "      <td>Pierre-Emerick</td>\n",
       "      <td>Aubameyang</td>\n",
       "      <td>Arsenal</td>\n",
       "      <td>3</td>\n",
       "      <td>2007</td>\n",
       "      <td>9.0</td>\n",
       "      <td>114</td>\n",
       "      <td>2007</td>\n",
       "      <td>1131009</td>\n",
       "      <td>3620784</td>\n",
       "      <td>...</td>\n",
       "      <td>4.3</td>\n",
       "      <td>731.0</td>\n",
       "      <td>428.2</td>\n",
       "      <td>292.4</td>\n",
       "      <td></td>\n",
       "      <td>Midfielder</td>\n",
       "      <td>9.5</td>\n",
       "      <td>False</td>\n",
       "      <td>1250</td>\n",
       "      <td>1200</td>\n",
       "    </tr>\n",
       "    <tr>\n",
       "      <th>4</th>\n",
       "      <td>Cédric</td>\n",
       "      <td>Soares</td>\n",
       "      <td>Arsenal</td>\n",
       "      <td>2</td>\n",
       "      <td>744</td>\n",
       "      <td>0.3</td>\n",
       "      <td>46</td>\n",
       "      <td>744</td>\n",
       "      <td>35648</td>\n",
       "      <td>53674</td>\n",
       "      <td>...</td>\n",
       "      <td>2.8</td>\n",
       "      <td>66.0</td>\n",
       "      <td>110.8</td>\n",
       "      <td>114.8</td>\n",
       "      <td></td>\n",
       "      <td>Defender</td>\n",
       "      <td>6.1</td>\n",
       "      <td>False</td>\n",
       "      <td>1250</td>\n",
       "      <td>1200</td>\n",
       "    </tr>\n",
       "  </tbody>\n",
       "</table>\n",
       "<p>5 rows × 24 columns</p>\n",
       "</div>"
      ],
      "text/plain": [
       "       first_name           second_name     team  element_type  minutes  \\\n",
       "0           Mesut                  Özil  Arsenal             3        0   \n",
       "1        Sokratis      Papastathopoulos  Arsenal             2        0   \n",
       "2           David  Luiz Moreira Marinho  Arsenal             2     1344   \n",
       "3  Pierre-Emerick            Aubameyang  Arsenal             3     2007   \n",
       "4          Cédric                Soares  Arsenal             2      744   \n",
       "\n",
       "  selected_by_percent  now_cost  minutes  transfers_in  transfers_out  ...  \\\n",
       "0                 0.5        67        0          3441          54723  ...   \n",
       "1                 0.1        48        0         10266          19117  ...   \n",
       "2                 0.8        54     1344         76497         123486  ...   \n",
       "3                 9.0       114     2007       1131009        3620784  ...   \n",
       "4                 0.3        46      744         35648          53674  ...   \n",
       "\n",
       "  points_per_game threat influence  creativity  \\\n",
       "0             0.0    0.0       0.0         0.0   \n",
       "1             0.0    0.0       0.0         0.0   \n",
       "2             2.1  123.0     244.6        45.2   \n",
       "3             4.3  731.0     428.2       292.4   \n",
       "4             2.8   66.0     110.8       114.8   \n",
       "\n",
       "                                                news    position value  \\\n",
       "0  Not included in Arsenal's 25-man Premier Leagu...  Midfielder   0.0   \n",
       "1            Left the club by mutual consent on 20/1    Defender   0.0   \n",
       "2                  Knee injury - Unknown return date    Defender   7.4   \n",
       "3                                                     Midfielder   9.5   \n",
       "4                                                       Defender   6.1   \n",
       "\n",
       "  unavailable strength_overall_home strength_overall_away  \n",
       "0        True                  1250                  1200  \n",
       "1        True                  1250                  1200  \n",
       "2        True                  1250                  1200  \n",
       "3       False                  1250                  1200  \n",
       "4       False                  1250                  1200  \n",
       "\n",
       "[5 rows x 24 columns]"
      ]
     },
     "execution_count": 250,
     "metadata": {},
     "output_type": "execute_result"
    }
   ],
   "source": [
    "\n",
    "\n",
    "slim_elements_df['strength_overall_home'] = slim_elements_df.team.map(teams_df.set_index('name')['strength_overall_home'].to_dict())\n",
    "\n",
    "slim_elements_df['strength_overall_away'] = slim_elements_df.team.map(teams_df.set_index('name')['strength_overall_away'].to_dict())\n",
    "\n",
    "slim_elements_df.head()"
   ]
  },
  {
   "cell_type": "code",
   "execution_count": 251,
   "metadata": {
    "scrolled": false
   },
   "outputs": [
    {
     "data": {
      "application/vnd.plotly.v1+json": {
       "config": {
        "plotlyServerURL": "https://plot.ly"
       },
       "data": [
        {
         "customdata": [
          [
           "Özil"
          ],
          [
           "Papastathopoulos"
          ],
          [
           "Luiz Moreira Marinho"
          ],
          [
           "Aubameyang"
          ],
          [
           "Soares"
          ],
          [
           "Lacazette"
          ],
          [
           "Mustafi"
          ],
          [
           "Leno"
          ],
          [
           "Xhaka"
          ],
          [
           "Marí"
          ],
          [
           "Bellerín"
          ],
          [
           "Chambers"
          ],
          [
           "Kolasinac"
          ],
          [
           "Holding"
          ],
          [
           "Tierney"
          ],
          [
           "Pépé"
          ],
          [
           "Torreira"
          ],
          [
           "Nelson"
          ],
          [
           "Nketiah"
          ],
          [
           "Smith Rowe"
          ],
          [
           "Saka"
          ],
          [
           "Guendouzi"
          ],
          [
           "Martinelli Silva"
          ],
          [
           "Saliba"
          ],
          [
           "Ryan"
          ],
          [
           "Borges Da Silva"
          ],
          [
           "Magalhães"
          ],
          [
           "Ceballos Fernández"
          ],
          [
           "El Sayed Elneny"
          ],
          [
           "Macey"
          ],
          [
           "Rúnarsson"
          ],
          [
           "Partey"
          ],
          [
           "Ødegaard"
          ],
          [
           "Martínez"
          ],
          [
           "Heaton"
          ],
          [
           "El Mohamady"
          ],
          [
           "Lansbury"
          ],
          [
           "Taylor"
          ],
          [
           "Steer"
          ],
          [
           "Hourihane"
          ],
          [
           "Peleteiro Romallo"
          ],
          [
           "Nyland"
          ],
          [
           "Engels"
          ],
          [
           "Grealish"
          ],
          [
           "McGinn"
          ],
          [
           "Hause"
          ],
          [
           "Ibrahim Hassan"
          ],
          [
           "Mings"
          ],
          [
           "Targett"
          ],
          [
           "Bree"
          ],
          [
           "Nakamba"
          ],
          [
           "El Ghazi"
          ],
          [
           "Konsa Ngoyo"
          ],
          [
           "Guilbert"
          ],
          [
           "Moraes"
          ],
          [
           "Samatta"
          ],
          [
           "Davis"
          ],
          [
           "Vassilev"
          ],
          [
           "Soares de Paulo"
          ],
          [
           "Barkley"
          ],
          [
           "Cash"
          ],
          [
           "Watkins"
          ],
          [
           "Traoré"
          ],
          [
           "Ramsey"
          ],
          [
           "Sanson"
          ],
          [
           "Hayden"
          ],
          [
           "Chukwuemeka"
          ],
          [
           "Philogene-Bidace"
          ],
          [
           "Murray"
          ],
          [
           "Lallana"
          ],
          [
           "Groß"
          ],
          [
           "Duffy"
          ],
          [
           "Pröpper"
          ],
          [
           "Mooy"
          ],
          [
           "Burn"
          ],
          [
           "Dunk"
          ],
          [
           "Montoya"
          ],
          [
           "Andone"
          ],
          [
           "March"
          ],
          [
           "Webster"
          ],
          [
           "Veltman"
          ],
          [
           "Maupay"
          ],
          [
           "Trossard"
          ],
          [
           "Jahanbakhsh"
          ],
          [
           "Izquierdo"
          ],
          [
           "Clarke"
          ],
          [
           "White"
          ],
          [
           "Fernandes da Silva Junior"
          ],
          [
           "Bissouma"
          ],
          [
           "Lamptey"
          ],
          [
           "Connolly"
          ],
          [
           "Alzate"
          ],
          [
           "Mac Allister"
          ],
          [
           "Walton"
          ],
          [
           "Steele"
          ],
          [
           "Molumby"
          ],
          [
           "Zeqiri"
          ],
          [
           "Welbeck"
          ],
          [
           "Sánchez"
          ],
          [
           "Tau"
          ],
          [
           "Moder"
          ],
          [
           "Khadra"
          ],
          [
           "Jenks"
          ],
          [
           "Sanders"
          ],
          [
           "Weir"
          ],
          [
           "McGill"
          ],
          [
           "Karbownik"
          ],
          [
           "Caicedo"
          ],
          [
           "Stephens"
          ],
          [
           "Tarkowski"
          ],
          [
           "Bardsley"
          ],
          [
           "Pieters"
          ],
          [
           "Cork"
          ],
          [
           "Long"
          ],
          [
           "Rodriguez"
          ],
          [
           "Barnes"
          ],
          [
           "Mee"
          ],
          [
           "Westwood"
          ],
          [
           "Gudmundsson"
          ],
          [
           "Wood"
          ],
          [
           "Lowton"
          ],
          [
           "Vydra"
          ],
          [
           "Gibson"
          ],
          [
           "Brady"
          ],
          [
           "Pope"
          ],
          [
           "Taylor"
          ],
          [
           "Brownhill"
          ],
          [
           "Peacock-Farrell"
          ],
          [
           "McNeil"
          ],
          [
           "Dunne"
          ],
          [
           "Thomas"
          ],
          [
           "Benson"
          ],
          [
           "Driscoll-Glennon"
          ],
          [
           "Goodridge"
          ],
          [
           "Norris"
          ],
          [
           "Thompson"
          ],
          [
           "Richardson"
          ],
          [
           "Mancini"
          ],
          [
           "Mumbongo"
          ],
          [
           "Nartey"
          ],
          [
           "Caballero"
          ],
          [
           "Azpilicueta"
          ],
          [
           "Giroud"
          ],
          [
           "Alonso"
          ],
          [
           "Frello Filho"
          ],
          [
           "Kovacic"
          ],
          [
           "Rüdiger"
          ],
          [
           "Zouma"
          ],
          [
           "Palmieri dos Santos"
          ],
          [
           "Arrizabalaga"
          ],
          [
           "Kanté"
          ],
          [
           "Ziyech"
          ],
          [
           "Christensen"
          ],
          [
           "Werner"
          ],
          [
           "Abraham"
          ],
          [
           "Pulisic"
          ],
          [
           "Mount"
          ],
          [
           "Tomori"
          ],
          [
           "Hudson-Odoi"
          ],
          [
           "James"
          ],
          [
           "Gilmour"
          ],
          [
           "Chilwell"
          ],
          [
           "Thiago"
          ],
          [
           "Havertz"
          ],
          [
           "Mendy"
          ],
          [
           "Ziger"
          ],
          [
           "Anjorin"
          ],
          [
           "Batshuayi"
          ],
          [
           "Cahill"
          ],
          [
           "Hennessey"
          ],
          [
           "Sakho"
          ],
          [
           "Guaita"
          ],
          [
           "Tomkins"
          ],
          [
           "McArthur"
          ],
          [
           "McCarthy"
          ],
          [
           "Benteke"
          ],
          [
           "Kouyaté"
          ],
          [
           "Ward"
          ],
          [
           "Kelly"
          ],
          [
           "Wickham"
          ],
          [
           "Townsend"
          ],
          [
           "Milivojevic"
          ],
          [
           "van Aanholt"
          ],
          [
           "Ayew"
          ],
          [
           "Zaha"
          ],
          [
           "Schlupp"
          ],
          [
           "Meyer"
          ],
          [
           "Riedewald"
          ],
          [
           "Ferguson"
          ],
          [
           "Mitchell"
          ],
          [
           "Pierrick"
          ],
          [
           "Dann"
          ],
          [
           "Eze"
          ],
          [
           "Woods"
          ],
          [
           "Inniss"
          ],
          [
           "Clyne"
          ],
          [
           "Henderson"
          ],
          [
           "Butland"
          ],
          [
           "Mateta"
          ],
          [
           "Hannam"
          ],
          [
           "Delph"
          ],
          [
           "Sigurdsson"
          ],
          [
           "Lössl"
          ],
          [
           "Coleman"
          ],
          [
           "Tosun"
          ],
          [
           "Anício Caldeira Duarte"
          ],
          [
           "Digne"
          ],
          [
           "Keane"
          ],
          [
           "Pickford"
          ],
          [
           "Tavares Gomes"
          ],
          [
           "Iwobi"
          ],
          [
           "Kenny"
          ],
          [
           "Gbamin"
          ],
          [
           "Mina"
          ],
          [
           "Davies"
          ],
          [
           "Calvert-Lewin"
          ],
          [
           "Holgate"
          ],
          [
           "de Andrade"
          ],
          [
           "Virgínia"
          ],
          [
           "Gordon"
          ],
          [
           "Kean"
          ],
          [
           "Branthwaite"
          ],
          [
           "Marques Loureiro"
          ],
          [
           "Rodríguez"
          ],
          [
           "Doucouré"
          ],
          [
           "Nkounkou"
          ],
          [
           "Godfrey"
          ],
          [
           "Olsen"
          ],
          [
           "Simms"
          ],
          [
           "Onyango"
          ],
          [
           "King"
          ],
          [
           "John"
          ],
          [
           "Broadhead"
          ],
          [
           "Astley"
          ],
          [
           "Tyrer"
          ],
          [
           "Loftus-Cheek"
          ],
          [
           "Agosto Ramírez"
          ],
          [
           "McDonald"
          ],
          [
           "Le Marchand"
          ],
          [
           "Johansen"
          ],
          [
           "Cairney"
          ],
          [
           "Ream"
          ],
          [
           "Knockaert"
          ],
          [
           "Hector"
          ],
          [
           "Christie"
          ],
          [
           "Kebano"
          ],
          [
           "Decordova-Reid"
          ],
          [
           "Bryan"
          ],
          [
           "Bettinelli"
          ],
          [
           "Mitrović"
          ],
          [
           "Mawson"
          ],
          [
           "Rodák"
          ],
          [
           "Neves Abreu Cavaleiro"
          ],
          [
           "Onomah"
          ],
          [
           "Seri"
          ],
          [
           "Kamara"
          ],
          [
           "Zambo Anguissa"
          ],
          [
           "Sessegnon"
          ],
          [
           "Reed"
          ],
          [
           "Robinson"
          ],
          [
           "Lemina"
          ],
          [
           "Areola"
          ],
          [
           "Tete"
          ],
          [
           "Odoi"
          ],
          [
           "Lookman"
          ],
          [
           "Aina"
          ],
          [
           "Andersen"
          ],
          [
           "Adarabioyo"
          ],
          [
           "Kongolo"
          ],
          [
           "Maja"
          ],
          [
           "Morgan"
          ],
          [
           "Schmeichel"
          ],
          [
           "Fuchs"
          ],
          [
           "Evans"
          ],
          [
           "Silva"
          ],
          [
           "Albrighton"
          ],
          [
           "James"
          ],
          [
           "Ward"
          ],
          [
           "Vardy"
          ],
          [
           "Praet"
          ],
          [
           "Barbosa Pereira"
          ],
          [
           "Amartey"
          ],
          [
           "Tielemans"
          ],
          [
           "Pérez"
          ],
          [
           "Gray"
          ],
          [
           "Maddison"
          ],
          [
           "Iheanacho"
          ],
          [
           "Choudhury"
          ],
          [
           "Barnes"
          ],
          [
           "Ndidi"
          ],
          [
           "Benkovic"
          ],
          [
           "Söyüncü"
          ],
          [
           "Justin"
          ],
          [
           "Thomas"
          ],
          [
           "Castagne"
          ],
          [
           "Mendy"
          ],
          [
           "Ünder"
          ],
          [
           "Fofana"
          ],
          [
           "Slimani"
          ],
          [
           "Daley-Campbell"
          ],
          [
           "Leshabela"
          ],
          [
           "Tavares"
          ],
          [
           "Flynn"
          ],
          [
           "Suengchitthawon"
          ],
          [
           "Hernández Domínguez"
          ],
          [
           "Casilla Cortés"
          ],
          [
           "Cooper"
          ],
          [
           "Douglas"
          ],
          [
           "Ayling"
          ],
          [
           "Klich"
          ],
          [
           "Forshaw"
          ],
          [
           "Dallas"
          ],
          [
           "Alioski"
          ],
          [
           "Bamford"
          ],
          [
           "Harrison"
          ],
          [
           "Phillips"
          ],
          [
           "Sousa de Azevedo e Costa"
          ],
          [
           "Roberts"
          ],
          [
           "Grot"
          ],
          [
           "Miazek"
          ],
          [
           "Poveda-Ocampo"
          ],
          [
           "Shackleton"
          ],
          [
           "Struijk"
          ],
          [
           "Stevens"
          ],
          [
           "Meslier"
          ],
          [
           "Davis"
          ],
          [
           "Casey"
          ],
          [
           "Koch"
          ],
          [
           "Moreno"
          ],
          [
           "Caprile"
          ],
          [
           "Bogusz"
          ],
          [
           "Llorente"
          ],
          [
           "Dias Belloli"
          ],
          [
           "Jenkins"
          ],
          [
           "Huggins"
          ],
          [
           "Cresswell"
          ],
          [
           "Gelhardt"
          ],
          [
           "Berardi"
          ],
          [
           "Milner"
          ],
          [
           "Tsimikas"
          ],
          [
           "Wijnaldum"
          ],
          [
           "Henderson"
          ],
          [
           "San Miguel del Castillo"
          ],
          [
           "Matip"
          ],
          [
           "Shaqiri"
          ],
          [
           "Oxlade-Chamberlain"
          ],
          [
           "Firmino"
          ],
          [
           "van Dijk"
          ],
          [
           "Mané"
          ],
          [
           "Ramses Becker"
          ],
          [
           "Tavares"
          ],
          [
           "Salah"
          ],
          [
           "Robertson"
          ],
          [
           "Origi"
          ],
          [
           "Wilson"
          ],
          [
           "Alexander-Arnold"
          ],
          [
           "Gomez"
          ],
          [
           "Keita"
          ],
          [
           "Jones"
          ],
          [
           "Williams"
          ],
          [
           "Elliott"
          ],
          [
           "Jota"
          ],
          [
           "Alcántara do Nascimento"
          ],
          [
           "Kelleher"
          ],
          [
           "Phillips"
          ],
          [
           "Williams"
          ],
          [
           "Clarkson"
          ],
          [
           "Cain"
          ],
          [
           "Kabak"
          ],
          [
           "Davies"
          ],
          [
           "Hughes"
          ],
          [
           "Ojrzynski"
          ],
          [
           "Luiz Rosa"
          ],
          [
           "Bravo"
          ],
          [
           "Agüero"
          ],
          [
           "Otamendi"
          ],
          [
           "Walker"
          ],
          [
           "Gündogan"
          ],
          [
           "De Bruyne"
          ],
          [
           "Stones"
          ],
          [
           "Mendy"
          ],
          [
           "Mahrez"
          ],
          [
           "Sterling"
          ],
          [
           "Cancelo"
          ],
          [
           "Santana de Moraes"
          ],
          [
           "Aké"
          ],
          [
           "Laporte"
          ],
          [
           "Veiga de Carvalho e Silva"
          ],
          [
           "de Jesus"
          ],
          [
           "Zinchenko"
          ],
          [
           "Foden"
          ],
          [
           "Doyle"
          ],
          [
           "Hernandez"
          ],
          [
           "Torres"
          ],
          [
           "Garcia"
          ],
          [
           "Bernabé"
          ],
          [
           "Steffen"
          ],
          [
           "Delap"
          ],
          [
           "Palmer"
          ],
          [
           "Gato Alves Dias"
          ],
          [
           "Trafford"
          ],
          [
           "Carson"
          ],
          [
           "Nmecha"
          ],
          [
           "Mbete"
          ],
          [
           "Harwood-Bellis"
          ],
          [
           "Gomes"
          ],
          [
           "Romero"
          ],
          [
           "Mata"
          ],
          [
           "de Gea"
          ],
          [
           "Smalling"
          ],
          [
           "Ighalo"
          ],
          [
           "Rojo"
          ],
          [
           "Matic"
          ],
          [
           "Pogba"
          ],
          [
           "Jones"
          ],
          [
           "Maguire"
          ],
          [
           "Rodrigues de Paula Santos"
          ],
          [
           "Shaw"
          ],
          [
           "Borges Fernandes"
          ],
          [
           "Martial"
          ],
          [
           "Pereira"
          ],
          [
           "Henderson"
          ],
          [
           "Rashford"
          ],
          [
           "Tuanzebe"
          ],
          [
           "Lindelöf"
          ],
          [
           "McTominay"
          ],
          [
           "Bailly"
          ],
          [
           "James"
          ],
          [
           "Fosu-Mensah"
          ],
          [
           "Wan-Bissaka"
          ],
          [
           "Dalot Teixeira"
          ],
          [
           "Greenwood"
          ],
          [
           "Chong"
          ],
          [
           "Garner"
          ],
          [
           "Williams"
          ],
          [
           "Mengi"
          ],
          [
           "van de Beek"
          ],
          [
           "Telles"
          ],
          [
           "Cavani"
          ],
          [
           "Pellistri"
          ],
          [
           "Grant"
          ],
          [
           "Diallo"
          ],
          [
           "Shoretire"
          ],
          [
           "Bishop"
          ],
          [
           "Willock"
          ],
          [
           "Carroll"
          ],
          [
           "Shelvey"
          ],
          [
           "Ritchie"
          ],
          [
           "Fernández"
          ],
          [
           "Clark"
          ],
          [
           "Darlow"
          ],
          [
           "Dubravka"
          ],
          [
           "Lejeune"
          ],
          [
           "Lascelles"
          ],
          [
           "Gayle"
          ],
          [
           "Atsu"
          ],
          [
           "Dummett"
          ],
          [
           "Manquillo"
          ],
          [
           "Krafth"
          ],
          [
           "Schär"
          ],
          [
           "Yedlin"
          ],
          [
           "Hayden"
          ],
          [
           "Aarons"
          ],
          [
           "Saint-Maximin"
          ],
          [
           "Almirón"
          ],
          [
           "Apolinário de Lira"
          ],
          [
           "Muto"
          ],
          [
           "Watts"
          ],
          [
           "Longstaff"
          ],
          [
           "Hendrick"
          ],
          [
           "Longstaff"
          ],
          [
           "Gillespie"
          ],
          [
           "Murphy"
          ],
          [
           "Wilson"
          ],
          [
           "Fraser"
          ],
          [
           "Lewis"
          ],
          [
           "Anderson"
          ],
          [
           "Langley"
          ],
          [
           "Brewster"
          ],
          [
           "Sharp"
          ],
          [
           "McGoldrick"
          ],
          [
           "Basham"
          ],
          [
           "Fleck"
          ],
          [
           "Stevens"
          ],
          [
           "Moore"
          ],
          [
           "Norwood"
          ],
          [
           "Foderingham"
          ],
          [
           "Baldock"
          ],
          [
           "Robinson"
          ],
          [
           "Egan"
          ],
          [
           "O'Connell"
          ],
          [
           "Lundstram"
          ],
          [
           "Osborn"
          ],
          [
           "McBurnie"
          ],
          [
           "Mousset"
          ],
          [
           "Berge"
          ],
          [
           "Burke"
          ],
          [
           "Freeman"
          ],
          [
           "Ramsdale"
          ],
          [
           "Ampadu"
          ],
          [
           "Bogle"
          ],
          [
           "Lowe"
          ],
          [
           "Jagielka"
          ],
          [
           "Verrips"
          ],
          [
           "Bryan"
          ],
          [
           "Hackford"
          ],
          [
           "Gordon"
          ],
          [
           "Ndiaye"
          ],
          [
           "Brunt"
          ],
          [
           "Maguire"
          ],
          [
           "Walcott"
          ],
          [
           "Minamino"
          ],
          [
           "Long"
          ],
          [
           "Bertrand"
          ],
          [
           "McCarthy"
          ],
          [
           "Romeu Vidal"
          ],
          [
           "Redmond"
          ],
          [
           "Ings"
          ],
          [
           "Stephens"
          ],
          [
           "Armstrong"
          ],
          [
           "Vestergaard"
          ],
          [
           "Ward-Prowse"
          ],
          [
           "Gunn"
          ],
          [
           "Boufal"
          ],
          [
           "Sims"
          ],
          [
           "Walker-Peters"
          ],
          [
           "Bednarek"
          ],
          [
           "Adams"
          ],
          [
           "Valery"
          ],
          [
           "Smallbone"
          ],
          [
           "Vokins"
          ],
          [
           "Obafemi"
          ],
          [
           "Djenepo"
          ],
          [
           "Salisu"
          ],
          [
           "Forster"
          ],
          [
           "Tella"
          ],
          [
           "Diallo"
          ],
          [
           "N'Lundulu"
          ],
          [
           "Ramsay"
          ],
          [
           "Chauke"
          ],
          [
           "Lewis"
          ],
          [
           "Ferry"
          ],
          [
           "Tchaptchet"
          ],
          [
           "Watts"
          ],
          [
           "Jankewitz"
          ],
          [
           "Finnigan"
          ],
          [
           "Lloris"
          ],
          [
           "Rose"
          ],
          [
           "Sissoko"
          ],
          [
           "Alderweireld"
          ],
          [
           "Lamela"
          ],
          [
           "Kane"
          ],
          [
           "Aurier"
          ],
          [
           "Son"
          ],
          [
           "Dier"
          ],
          [
           "Rodrigues Moura da Silva"
          ],
          [
           "Gazzaniga"
          ],
          [
           "Alli"
          ],
          [
           "Davies"
          ],
          [
           "Højbjerg"
          ],
          [
           "Winks"
          ],
          [
           "Sánchez"
          ],
          [
           "Sessegnon"
          ],
          [
           "Bergwijn"
          ],
          [
           "Carvalho Fernandes"
          ],
          [
           "Tanganga"
          ],
          [
           "Lo Celso"
          ],
          [
           "Skipp"
          ],
          [
           "Ndombele"
          ],
          [
           "Foyth"
          ],
          [
           "Doherty"
          ],
          [
           "Hart"
          ],
          [
           "Carter-Vickers"
          ],
          [
           "Reguilón"
          ],
          [
           "Bale"
          ],
          [
           "Alves Morais"
          ],
          [
           "Rodon"
          ],
          [
           "Devine"
          ],
          [
           "Scarlett"
          ],
          [
           "Maitland-Niles"
          ],
          [
           "Button"
          ],
          [
           "Robinson"
          ],
          [
           "Gibbs"
          ],
          [
           "Robson-Kanu"
          ],
          [
           "Livermore"
          ],
          [
           "Grosicki"
          ],
          [
           "Phillips"
          ],
          [
           "Bartley"
          ],
          [
           "Sawyers"
          ],
          [
           "Hegazy"
          ],
          [
           "Austin"
          ],
          [
           "Zohore"
          ],
          [
           "Johnstone"
          ],
          [
           "Townsend"
          ],
          [
           "Ajayi"
          ],
          [
           "Leko"
          ],
          [
           "Edwards"
          ],
          [
           "Furlong"
          ],
          [
           "Field"
          ],
          [
           "O'Shea"
          ],
          [
           "Harper"
          ],
          [
           "Snodgrass"
          ],
          [
           "Diangana"
          ],
          [
           "Pereira"
          ],
          [
           "Kipre"
          ],
          [
           "Ivanovic"
          ],
          [
           "Gallagher"
          ],
          [
           "Krovinovic"
          ],
          [
           "Grant"
          ],
          [
           "Peltier"
          ],
          [
           "Diaby"
          ],
          [
           "Lonergan"
          ],
          [
           "Diagne"
          ],
          [
           "Yokuslu"
          ],
          [
           "Lingard"
          ],
          [
           "Noble"
          ],
          [
           "Martin"
          ],
          [
           "Randolph"
          ],
          [
           "Fabianski"
          ],
          [
           "Ogbonna"
          ],
          [
           "Jimenez Gago"
          ],
          [
           "Wilshere"
          ],
          [
           "Cresswell"
          ],
          [
           "Yarmolenko"
          ],
          [
           "Antonio"
          ],
          [
           "Fredericks"
          ],
          [
           "Lanzini"
          ],
          [
           "Pereira Gomes"
          ],
          [
           "Haller"
          ],
          [
           "Masuaku"
          ],
          [
           "Balbuena"
          ],
          [
           "Hugill"
          ],
          [
           "Bowen"
          ],
          [
           "Ajeti"
          ],
          [
           "Rice"
          ],
          [
           "Soucek"
          ],
          [
           "Fornals"
          ],
          [
           "Diop"
          ],
          [
           "Johnson"
          ],
          [
           "Coufal"
          ],
          [
           "Dawson"
          ],
          [
           "Benrahma"
          ],
          [
           "Alves"
          ],
          [
           "Odubeko"
          ],
          [
           "Coventry"
          ],
          [
           "Baptiste"
          ],
          [
           "Trott"
          ],
          [
           "Ruddy"
          ],
          [
           "Santos Moutinho"
          ],
          [
           "dos Santos Patrício"
          ],
          [
           "Bennett"
          ],
          [
           "Boly"
          ],
          [
           "Coady"
          ],
          [
           "Jiménez"
          ],
          [
           "Saïss"
          ],
          [
           "Castro Otto"
          ],
          [
           "Bonatini"
          ],
          [
           "Dendoncker"
          ],
          [
           "Traoré"
          ],
          [
           "da Silva Neves"
          ],
          [
           "Buur"
          ],
          [
           "Castelo Podence"
          ],
          [
           "Kilman"
          ],
          [
           "Silva Nascimento Vinagre"
          ],
          [
           "Sarkic"
          ],
          [
           "Gibbs-White"
          ],
          [
           "Lomba Neto"
          ],
          [
           "Cavaco Jordao"
          ],
          [
           "Campana"
          ],
          [
           "Silva"
          ],
          [
           "Marçal"
          ],
          [
           "Ferreira"
          ],
          [
           "Hoever"
          ],
          [
           "Cabral Semedo"
          ],
          [
           "Shabani"
          ],
          [
           "Ait Nouri"
          ],
          [
           "Otasowie"
          ],
          [
           "Corbeanu"
          ],
          [
           "Perry"
          ],
          [
           "Cundle"
          ],
          [
           "Richards"
          ],
          [
           "Marques"
          ],
          [
           "Söndergaard"
          ],
          [
           "Cutrone"
          ],
          [
           "Lonwijk"
          ],
          [
           "Da Silva"
          ],
          [
           "Bueno"
          ]
         ],
         "hovertemplate": "now_cost=%{x}<br>total_points=%{y}<br>second_name=%{customdata[0]}<extra></extra>",
         "legendgroup": "",
         "marker": {
          "color": "#636efa",
          "symbol": "circle"
         },
         "mode": "markers",
         "name": "",
         "orientation": "v",
         "showlegend": false,
         "type": "scatter",
         "x": [
          67,
          48,
          54,
          114,
          46,
          82,
          50,
          50,
          52,
          44,
          50,
          45,
          48,
          42,
          53,
          76,
          47,
          51,
          53,
          42,
          52,
          47,
          49,
          40,
          42,
          75,
          49,
          47,
          42,
          40,
          44,
          49,
          60,
          54,
          45,
          43,
          43,
          42,
          39,
          59,
          59,
          40,
          44,
          75,
          55,
          44,
          52,
          54,
          51,
          45,
          43,
          53,
          47,
          43,
          60,
          59,
          42,
          43,
          48,
          59,
          50,
          66,
          59,
          45,
          55,
          45,
          45,
          45,
          48,
          62,
          58,
          43,
          47,
          50,
          42,
          50,
          45,
          48,
          50,
          43,
          44,
          61,
          58,
          54,
          55,
          44,
          45,
          39,
          44,
          46,
          52,
          42,
          53,
          40,
          39,
          45,
          50,
          55,
          45,
          49,
          50,
          45,
          45,
          45,
          45,
          39,
          45,
          50,
          42,
          53,
          44,
          43,
          50,
          43,
          58,
          60,
          49,
          53,
          54,
          62,
          44,
          48,
          39,
          50,
          55,
          44,
          49,
          40,
          57,
          38,
          39,
          45,
          39,
          45,
          40,
          45,
          45,
          44,
          45,
          40,
          46,
          59,
          67,
          57,
          47,
          53,
          47,
          53,
          47,
          47,
          49,
          79,
          47,
          92,
          71,
          82,
          71,
          47,
          57,
          50,
          44,
          58,
          56,
          82,
          52,
          40,
          45,
          57,
          45,
          43,
          44,
          48,
          44,
          52,
          43,
          55,
          48,
          43,
          41,
          44,
          55,
          56,
          54,
          56,
          71,
          53,
          47,
          44,
          38,
          38,
          43,
          42,
          58,
          40,
          40,
          45,
          40,
          45,
          55,
          40,
          48,
          68,
          43,
          48,
          60,
          57,
          62,
          51,
          48,
          53,
          59,
          43,
          50,
          55,
          52,
          76,
          48,
          79,
          43,
          43,
          57,
          39,
          52,
          77,
          52,
          40,
          50,
          45,
          45,
          45,
          52,
          40,
          45,
          40,
          40,
          59,
          39,
          47,
          41,
          47,
          52,
          42,
          50,
          41,
          42,
          47,
          53,
          45,
          43,
          55,
          43,
          43,
          53,
          46,
          46,
          48,
          45,
          43,
          44,
          44,
          45,
          46,
          43,
          42,
          50,
          45,
          45,
          45,
          43,
          54,
          44,
          54,
          45,
          55,
          44,
          52,
          43,
          43,
          101,
          52,
          59,
          39,
          65,
          60,
          51,
          71,
          58,
          46,
          67,
          48,
          43,
          53,
          49,
          41,
          57,
          42,
          57,
          50,
          49,
          40,
          44,
          44,
          45,
          45,
          57,
          42,
          43,
          38,
          44,
          52,
          48,
          51,
          43,
          66,
          54,
          49,
          50,
          46,
          47,
          40,
          42,
          48,
          40,
          43,
          47,
          38,
          38,
          43,
          57,
          40,
          43,
          44,
          56,
          45,
          45,
          40,
          45,
          40,
          53,
          49,
          53,
          54,
          42,
          54,
          64,
          63,
          90,
          62,
          118,
          59,
          54,
          124,
          71,
          51,
          51,
          73,
          52,
          52,
          44,
          38,
          43,
          69,
          55,
          45,
          40,
          40,
          45,
          45,
          50,
          48,
          40,
          40,
          54,
          45,
          103,
          49,
          61,
          60,
          119,
          52,
          59,
          82,
          113,
          60,
          61,
          54,
          60,
          74,
          92,
          55,
          60,
          44,
          53,
          69,
          47,
          45,
          44,
          43,
          44,
          62,
          40,
          39,
          45,
          40,
          40,
          45,
          49,
          58,
          53,
          49,
          61,
          48,
          47,
          76,
          48,
          55,
          53,
          53,
          116,
          86,
          48,
          52,
          95,
          41,
          48,
          49,
          48,
          62,
          43,
          57,
          48,
          70,
          44,
          44,
          42,
          39,
          66,
          53,
          78,
          52,
          40,
          54,
          45,
          40,
          47,
          51,
          53,
          49,
          47,
          45,
          49,
          48,
          43,
          42,
          59,
          52,
          44,
          42,
          42,
          49,
          43,
          46,
          48,
          51,
          56,
          57,
          48,
          39,
          46,
          45,
          48,
          43,
          49,
          65,
          56,
          42,
          45,
          39,
          43,
          55,
          52,
          46,
          56,
          50,
          43,
          45,
          43,
          49,
          42,
          47,
          47,
          49,
          47,
          56,
          58,
          49,
          41,
          50,
          46,
          43,
          43,
          42,
          39,
          40,
          39,
          44,
          40,
          45,
          45,
          44,
          58,
          60,
          51,
          50,
          44,
          45,
          64,
          84,
          46,
          55,
          47,
          59,
          43,
          54,
          43,
          47,
          48,
          58,
          47,
          43,
          39,
          46,
          54,
          43,
          40,
          43,
          45,
          45,
          40,
          44,
          40,
          45,
          40,
          45,
          45,
          45,
          56,
          47,
          47,
          54,
          57,
          117,
          52,
          94,
          47,
          66,
          43,
          74,
          46,
          49,
          51,
          52,
          47,
          70,
          47,
          49,
          69,
          44,
          59,
          43,
          56,
          43,
          39,
          55,
          93,
          69,
          50,
          44,
          45,
          46,
          39,
          52,
          43,
          52,
          47,
          52,
          51,
          44,
          46,
          41,
          51,
          48,
          45,
          44,
          48,
          45,
          47,
          45,
          48,
          42,
          43,
          56,
          50,
          53,
          43,
          44,
          55,
          49,
          56,
          40,
          45,
          40,
          60,
          45,
          63,
          45,
          39,
          43,
          50,
          47,
          45,
          49,
          59,
          55,
          67,
          42,
          64,
          61,
          61,
          43,
          41,
          55,
          59,
          55,
          47,
          53,
          58,
          43,
          39,
          46,
          45,
          60,
          40,
          45,
          45,
          40,
          40,
          43,
          52,
          53,
          44,
          54,
          48,
          81,
          49,
          54,
          48,
          46,
          60,
          51,
          39,
          53,
          39,
          41,
          44,
          49,
          57,
          43,
          48,
          52,
          47,
          47,
          44,
          52,
          44,
          50,
          45,
          45,
          45,
          45,
          40,
          39,
          40,
          59,
          40,
          68,
          40
         ],
         "xaxis": "x",
         "y": [
          0,
          0,
          40,
          108,
          28,
          111,
          3,
          104,
          57,
          21,
          83,
          8,
          2,
          75,
          78,
          63,
          0,
          2,
          27,
          46,
          96,
          0,
          11,
          0,
          29,
          63,
          53,
          41,
          30,
          0,
          1,
          30,
          23,
          157,
          0,
          30,
          0,
          -1,
          0,
          20,
          0,
          0,
          0,
          129,
          87,
          28,
          54,
          114,
          118,
          0,
          16,
          71,
          102,
          0,
          0,
          0,
          12,
          0,
          58,
          62,
          87,
          127,
          95,
          19,
          10,
          0,
          0,
          0,
          0,
          49,
          85,
          0,
          9,
          0,
          39,
          102,
          0,
          0,
          69,
          61,
          76,
          99,
          109,
          16,
          0,
          0,
          81,
          5,
          60,
          35,
          36,
          29,
          39,
          0,
          0,
          1,
          6,
          59,
          73,
          3,
          7,
          1,
          0,
          0,
          0,
          0,
          0,
          0,
          8,
          84,
          2,
          49,
          18,
          14,
          48,
          48,
          87,
          79,
          41,
          93,
          83,
          41,
          0,
          44,
          130,
          64,
          55,
          0,
          87,
          8,
          0,
          10,
          0,
          0,
          0,
          0,
          2,
          0,
          2,
          0,
          1,
          97,
          44,
          42,
          93,
          50,
          64,
          86,
          7,
          15,
          55,
          51,
          40,
          106,
          67,
          50,
          123,
          0,
          51,
          87,
          2,
          104,
          73,
          59,
          113,
          0,
          0,
          40,
          39,
          0,
          4,
          109,
          15,
          45,
          18,
          66,
          69,
          56,
          0,
          0,
          76,
          55,
          52,
          61,
          111,
          51,
          0,
          56,
          0,
          35,
          0,
          33,
          89,
          0,
          0,
          28,
          0,
          0,
          13,
          0,
          6,
          88,
          0,
          43,
          4,
          18,
          76,
          100,
          79,
          40,
          58,
          5,
          1,
          63,
          36,
          138,
          60,
          96,
          2,
          3,
          2,
          0,
          29,
          88,
          71,
          1,
          57,
          15,
          0,
          0,
          8,
          0,
          0,
          0,
          0,
          59,
          0,
          0,
          1,
          0,
          27,
          7,
          0,
          0,
          0,
          6,
          69,
          13,
          0,
          58,
          0,
          1,
          71,
          7,
          0,
          8,
          65,
          0,
          62,
          51,
          44,
          111,
          46,
          1,
          96,
          93,
          87,
          92,
          0,
          26,
          3,
          115,
          24,
          78,
          0,
          52,
          0,
          0,
          149,
          35,
          23,
          20,
          113,
          47,
          1,
          120,
          57,
          13,
          126,
          59,
          0,
          37,
          101,
          5,
          68,
          38,
          16,
          59,
          1,
          0,
          1,
          3,
          0,
          0,
          20,
          2,
          54,
          0,
          74,
          85,
          0,
          124,
          76,
          158,
          124,
          51,
          56,
          31,
          0,
          0,
          10,
          16,
          52,
          0,
          127,
          2,
          0,
          34,
          56,
          0,
          0,
          20,
          113,
          0,
          1,
          0,
          0,
          0,
          39,
          1,
          79,
          56,
          11,
          42,
          24,
          12,
          104,
          15,
          126,
          95,
          53,
          182,
          120,
          10,
          0,
          106,
          10,
          15,
          43,
          10,
          0,
          69,
          30,
          10,
          35,
          6,
          0,
          0,
          21,
          0,
          0,
          0,
          44,
          0,
          17,
          0,
          82,
          142,
          128,
          122,
          46,
          132,
          136,
          122,
          134,
          21,
          50,
          74,
          97,
          56,
          108,
          0,
          72,
          55,
          4,
          0,
          2,
          1,
          0,
          133,
          0,
          0,
          0,
          0,
          0,
          0,
          0,
          20,
          87,
          0,
          1,
          0,
          29,
          72,
          0,
          115,
          52,
          110,
          214,
          75,
          0,
          27,
          148,
          2,
          88,
          79,
          27,
          35,
          0,
          122,
          0,
          56,
          0,
          0,
          2,
          0,
          19,
          22,
          61,
          0,
          0,
          0,
          1,
          0,
          35,
          28,
          51,
          15,
          34,
          40,
          80,
          18,
          0,
          44,
          22,
          0,
          13,
          28,
          27,
          25,
          13,
          40,
          0,
          53,
          79,
          54,
          0,
          0,
          27,
          49,
          10,
          0,
          42,
          116,
          39,
          43,
          1,
          0,
          27,
          39,
          71,
          38,
          52,
          30,
          0,
          37,
          0,
          44,
          13,
          33,
          3,
          44,
          33,
          43,
          10,
          29,
          39,
          0,
          83,
          42,
          29,
          9,
          4,
          0,
          19,
          1,
          0,
          1,
          0,
          0,
          62,
          41,
          12,
          77,
          82,
          51,
          51,
          106,
          33,
          93,
          80,
          128,
          0,
          0,
          0,
          80,
          89,
          109,
          3,
          5,
          1,
          1,
          42,
          7,
          18,
          15,
          23,
          12,
          -3,
          0,
          0,
          0,
          0,
          2,
          -1,
          0,
          121,
          0,
          41,
          70,
          23,
          204,
          61,
          180,
          59,
          68,
          0,
          14,
          52,
          81,
          13,
          42,
          0,
          40,
          0,
          8,
          23,
          0,
          88,
          0,
          45,
          0,
          0,
          67,
          59,
          13,
          24,
          0,
          1,
          51,
          2,
          63,
          5,
          12,
          24,
          8,
          49,
          66,
          33,
          6,
          5,
          0,
          101,
          54,
          42,
          0,
          5,
          66,
          3,
          32,
          2,
          14,
          34,
          111,
          0,
          20,
          61,
          17,
          37,
          2,
          0,
          0,
          35,
          17,
          68,
          20,
          0,
          7,
          112,
          82,
          0,
          0,
          136,
          16,
          90,
          24,
          23,
          2,
          41,
          42,
          40,
          0,
          110,
          0,
          76,
          123,
          92,
          28,
          22,
          95,
          65,
          47,
          0,
          0,
          0,
          0,
          0,
          1,
          61,
          106,
          0,
          60,
          86,
          43,
          81,
          16,
          0,
          63,
          64,
          91,
          1,
          65,
          54,
          1,
          0,
          5,
          123,
          0,
          0,
          44,
          18,
          17,
          10,
          76,
          0,
          35,
          7,
          0,
          0,
          0,
          0,
          0,
          0,
          2,
          0,
          22,
          0
         ],
         "yaxis": "y"
        }
       ],
       "layout": {
        "legend": {
         "tracegroupgap": 0
        },
        "margin": {
         "t": 60
        },
        "template": {
         "data": {
          "bar": [
           {
            "error_x": {
             "color": "#2a3f5f"
            },
            "error_y": {
             "color": "#2a3f5f"
            },
            "marker": {
             "line": {
              "color": "#E5ECF6",
              "width": 0.5
             }
            },
            "type": "bar"
           }
          ],
          "barpolar": [
           {
            "marker": {
             "line": {
              "color": "#E5ECF6",
              "width": 0.5
             }
            },
            "type": "barpolar"
           }
          ],
          "carpet": [
           {
            "aaxis": {
             "endlinecolor": "#2a3f5f",
             "gridcolor": "white",
             "linecolor": "white",
             "minorgridcolor": "white",
             "startlinecolor": "#2a3f5f"
            },
            "baxis": {
             "endlinecolor": "#2a3f5f",
             "gridcolor": "white",
             "linecolor": "white",
             "minorgridcolor": "white",
             "startlinecolor": "#2a3f5f"
            },
            "type": "carpet"
           }
          ],
          "choropleth": [
           {
            "colorbar": {
             "outlinewidth": 0,
             "ticks": ""
            },
            "type": "choropleth"
           }
          ],
          "contour": [
           {
            "colorbar": {
             "outlinewidth": 0,
             "ticks": ""
            },
            "colorscale": [
             [
              0,
              "#0d0887"
             ],
             [
              0.1111111111111111,
              "#46039f"
             ],
             [
              0.2222222222222222,
              "#7201a8"
             ],
             [
              0.3333333333333333,
              "#9c179e"
             ],
             [
              0.4444444444444444,
              "#bd3786"
             ],
             [
              0.5555555555555556,
              "#d8576b"
             ],
             [
              0.6666666666666666,
              "#ed7953"
             ],
             [
              0.7777777777777778,
              "#fb9f3a"
             ],
             [
              0.8888888888888888,
              "#fdca26"
             ],
             [
              1,
              "#f0f921"
             ]
            ],
            "type": "contour"
           }
          ],
          "contourcarpet": [
           {
            "colorbar": {
             "outlinewidth": 0,
             "ticks": ""
            },
            "type": "contourcarpet"
           }
          ],
          "heatmap": [
           {
            "colorbar": {
             "outlinewidth": 0,
             "ticks": ""
            },
            "colorscale": [
             [
              0,
              "#0d0887"
             ],
             [
              0.1111111111111111,
              "#46039f"
             ],
             [
              0.2222222222222222,
              "#7201a8"
             ],
             [
              0.3333333333333333,
              "#9c179e"
             ],
             [
              0.4444444444444444,
              "#bd3786"
             ],
             [
              0.5555555555555556,
              "#d8576b"
             ],
             [
              0.6666666666666666,
              "#ed7953"
             ],
             [
              0.7777777777777778,
              "#fb9f3a"
             ],
             [
              0.8888888888888888,
              "#fdca26"
             ],
             [
              1,
              "#f0f921"
             ]
            ],
            "type": "heatmap"
           }
          ],
          "heatmapgl": [
           {
            "colorbar": {
             "outlinewidth": 0,
             "ticks": ""
            },
            "colorscale": [
             [
              0,
              "#0d0887"
             ],
             [
              0.1111111111111111,
              "#46039f"
             ],
             [
              0.2222222222222222,
              "#7201a8"
             ],
             [
              0.3333333333333333,
              "#9c179e"
             ],
             [
              0.4444444444444444,
              "#bd3786"
             ],
             [
              0.5555555555555556,
              "#d8576b"
             ],
             [
              0.6666666666666666,
              "#ed7953"
             ],
             [
              0.7777777777777778,
              "#fb9f3a"
             ],
             [
              0.8888888888888888,
              "#fdca26"
             ],
             [
              1,
              "#f0f921"
             ]
            ],
            "type": "heatmapgl"
           }
          ],
          "histogram": [
           {
            "marker": {
             "colorbar": {
              "outlinewidth": 0,
              "ticks": ""
             }
            },
            "type": "histogram"
           }
          ],
          "histogram2d": [
           {
            "colorbar": {
             "outlinewidth": 0,
             "ticks": ""
            },
            "colorscale": [
             [
              0,
              "#0d0887"
             ],
             [
              0.1111111111111111,
              "#46039f"
             ],
             [
              0.2222222222222222,
              "#7201a8"
             ],
             [
              0.3333333333333333,
              "#9c179e"
             ],
             [
              0.4444444444444444,
              "#bd3786"
             ],
             [
              0.5555555555555556,
              "#d8576b"
             ],
             [
              0.6666666666666666,
              "#ed7953"
             ],
             [
              0.7777777777777778,
              "#fb9f3a"
             ],
             [
              0.8888888888888888,
              "#fdca26"
             ],
             [
              1,
              "#f0f921"
             ]
            ],
            "type": "histogram2d"
           }
          ],
          "histogram2dcontour": [
           {
            "colorbar": {
             "outlinewidth": 0,
             "ticks": ""
            },
            "colorscale": [
             [
              0,
              "#0d0887"
             ],
             [
              0.1111111111111111,
              "#46039f"
             ],
             [
              0.2222222222222222,
              "#7201a8"
             ],
             [
              0.3333333333333333,
              "#9c179e"
             ],
             [
              0.4444444444444444,
              "#bd3786"
             ],
             [
              0.5555555555555556,
              "#d8576b"
             ],
             [
              0.6666666666666666,
              "#ed7953"
             ],
             [
              0.7777777777777778,
              "#fb9f3a"
             ],
             [
              0.8888888888888888,
              "#fdca26"
             ],
             [
              1,
              "#f0f921"
             ]
            ],
            "type": "histogram2dcontour"
           }
          ],
          "mesh3d": [
           {
            "colorbar": {
             "outlinewidth": 0,
             "ticks": ""
            },
            "type": "mesh3d"
           }
          ],
          "parcoords": [
           {
            "line": {
             "colorbar": {
              "outlinewidth": 0,
              "ticks": ""
             }
            },
            "type": "parcoords"
           }
          ],
          "pie": [
           {
            "automargin": true,
            "type": "pie"
           }
          ],
          "scatter": [
           {
            "marker": {
             "colorbar": {
              "outlinewidth": 0,
              "ticks": ""
             }
            },
            "type": "scatter"
           }
          ],
          "scatter3d": [
           {
            "line": {
             "colorbar": {
              "outlinewidth": 0,
              "ticks": ""
             }
            },
            "marker": {
             "colorbar": {
              "outlinewidth": 0,
              "ticks": ""
             }
            },
            "type": "scatter3d"
           }
          ],
          "scattercarpet": [
           {
            "marker": {
             "colorbar": {
              "outlinewidth": 0,
              "ticks": ""
             }
            },
            "type": "scattercarpet"
           }
          ],
          "scattergeo": [
           {
            "marker": {
             "colorbar": {
              "outlinewidth": 0,
              "ticks": ""
             }
            },
            "type": "scattergeo"
           }
          ],
          "scattergl": [
           {
            "marker": {
             "colorbar": {
              "outlinewidth": 0,
              "ticks": ""
             }
            },
            "type": "scattergl"
           }
          ],
          "scattermapbox": [
           {
            "marker": {
             "colorbar": {
              "outlinewidth": 0,
              "ticks": ""
             }
            },
            "type": "scattermapbox"
           }
          ],
          "scatterpolar": [
           {
            "marker": {
             "colorbar": {
              "outlinewidth": 0,
              "ticks": ""
             }
            },
            "type": "scatterpolar"
           }
          ],
          "scatterpolargl": [
           {
            "marker": {
             "colorbar": {
              "outlinewidth": 0,
              "ticks": ""
             }
            },
            "type": "scatterpolargl"
           }
          ],
          "scatterternary": [
           {
            "marker": {
             "colorbar": {
              "outlinewidth": 0,
              "ticks": ""
             }
            },
            "type": "scatterternary"
           }
          ],
          "surface": [
           {
            "colorbar": {
             "outlinewidth": 0,
             "ticks": ""
            },
            "colorscale": [
             [
              0,
              "#0d0887"
             ],
             [
              0.1111111111111111,
              "#46039f"
             ],
             [
              0.2222222222222222,
              "#7201a8"
             ],
             [
              0.3333333333333333,
              "#9c179e"
             ],
             [
              0.4444444444444444,
              "#bd3786"
             ],
             [
              0.5555555555555556,
              "#d8576b"
             ],
             [
              0.6666666666666666,
              "#ed7953"
             ],
             [
              0.7777777777777778,
              "#fb9f3a"
             ],
             [
              0.8888888888888888,
              "#fdca26"
             ],
             [
              1,
              "#f0f921"
             ]
            ],
            "type": "surface"
           }
          ],
          "table": [
           {
            "cells": {
             "fill": {
              "color": "#EBF0F8"
             },
             "line": {
              "color": "white"
             }
            },
            "header": {
             "fill": {
              "color": "#C8D4E3"
             },
             "line": {
              "color": "white"
             }
            },
            "type": "table"
           }
          ]
         },
         "layout": {
          "annotationdefaults": {
           "arrowcolor": "#2a3f5f",
           "arrowhead": 0,
           "arrowwidth": 1
          },
          "autotypenumbers": "strict",
          "coloraxis": {
           "colorbar": {
            "outlinewidth": 0,
            "ticks": ""
           }
          },
          "colorscale": {
           "diverging": [
            [
             0,
             "#8e0152"
            ],
            [
             0.1,
             "#c51b7d"
            ],
            [
             0.2,
             "#de77ae"
            ],
            [
             0.3,
             "#f1b6da"
            ],
            [
             0.4,
             "#fde0ef"
            ],
            [
             0.5,
             "#f7f7f7"
            ],
            [
             0.6,
             "#e6f5d0"
            ],
            [
             0.7,
             "#b8e186"
            ],
            [
             0.8,
             "#7fbc41"
            ],
            [
             0.9,
             "#4d9221"
            ],
            [
             1,
             "#276419"
            ]
           ],
           "sequential": [
            [
             0,
             "#0d0887"
            ],
            [
             0.1111111111111111,
             "#46039f"
            ],
            [
             0.2222222222222222,
             "#7201a8"
            ],
            [
             0.3333333333333333,
             "#9c179e"
            ],
            [
             0.4444444444444444,
             "#bd3786"
            ],
            [
             0.5555555555555556,
             "#d8576b"
            ],
            [
             0.6666666666666666,
             "#ed7953"
            ],
            [
             0.7777777777777778,
             "#fb9f3a"
            ],
            [
             0.8888888888888888,
             "#fdca26"
            ],
            [
             1,
             "#f0f921"
            ]
           ],
           "sequentialminus": [
            [
             0,
             "#0d0887"
            ],
            [
             0.1111111111111111,
             "#46039f"
            ],
            [
             0.2222222222222222,
             "#7201a8"
            ],
            [
             0.3333333333333333,
             "#9c179e"
            ],
            [
             0.4444444444444444,
             "#bd3786"
            ],
            [
             0.5555555555555556,
             "#d8576b"
            ],
            [
             0.6666666666666666,
             "#ed7953"
            ],
            [
             0.7777777777777778,
             "#fb9f3a"
            ],
            [
             0.8888888888888888,
             "#fdca26"
            ],
            [
             1,
             "#f0f921"
            ]
           ]
          },
          "colorway": [
           "#636efa",
           "#EF553B",
           "#00cc96",
           "#ab63fa",
           "#FFA15A",
           "#19d3f3",
           "#FF6692",
           "#B6E880",
           "#FF97FF",
           "#FECB52"
          ],
          "font": {
           "color": "#2a3f5f"
          },
          "geo": {
           "bgcolor": "white",
           "lakecolor": "white",
           "landcolor": "#E5ECF6",
           "showlakes": true,
           "showland": true,
           "subunitcolor": "white"
          },
          "hoverlabel": {
           "align": "left"
          },
          "hovermode": "closest",
          "mapbox": {
           "style": "light"
          },
          "paper_bgcolor": "white",
          "plot_bgcolor": "#E5ECF6",
          "polar": {
           "angularaxis": {
            "gridcolor": "white",
            "linecolor": "white",
            "ticks": ""
           },
           "bgcolor": "#E5ECF6",
           "radialaxis": {
            "gridcolor": "white",
            "linecolor": "white",
            "ticks": ""
           }
          },
          "scene": {
           "xaxis": {
            "backgroundcolor": "#E5ECF6",
            "gridcolor": "white",
            "gridwidth": 2,
            "linecolor": "white",
            "showbackground": true,
            "ticks": "",
            "zerolinecolor": "white"
           },
           "yaxis": {
            "backgroundcolor": "#E5ECF6",
            "gridcolor": "white",
            "gridwidth": 2,
            "linecolor": "white",
            "showbackground": true,
            "ticks": "",
            "zerolinecolor": "white"
           },
           "zaxis": {
            "backgroundcolor": "#E5ECF6",
            "gridcolor": "white",
            "gridwidth": 2,
            "linecolor": "white",
            "showbackground": true,
            "ticks": "",
            "zerolinecolor": "white"
           }
          },
          "shapedefaults": {
           "line": {
            "color": "#2a3f5f"
           }
          },
          "ternary": {
           "aaxis": {
            "gridcolor": "white",
            "linecolor": "white",
            "ticks": ""
           },
           "baxis": {
            "gridcolor": "white",
            "linecolor": "white",
            "ticks": ""
           },
           "bgcolor": "#E5ECF6",
           "caxis": {
            "gridcolor": "white",
            "linecolor": "white",
            "ticks": ""
           }
          },
          "title": {
           "x": 0.05
          },
          "xaxis": {
           "automargin": true,
           "gridcolor": "white",
           "linecolor": "white",
           "ticks": "",
           "title": {
            "standoff": 15
           },
           "zerolinecolor": "white",
           "zerolinewidth": 2
          },
          "yaxis": {
           "automargin": true,
           "gridcolor": "white",
           "linecolor": "white",
           "ticks": "",
           "title": {
            "standoff": 15
           },
           "zerolinecolor": "white",
           "zerolinewidth": 2
          }
         }
        },
        "xaxis": {
         "anchor": "y",
         "domain": [
          0,
          1
         ],
         "title": {
          "text": "now_cost"
         }
        },
        "yaxis": {
         "anchor": "x",
         "domain": [
          0,
          1
         ],
         "title": {
          "text": "total_points"
         }
        }
       }
      },
      "text/html": [
       "<div>                            <div id=\"c7a00980-8ad8-42fb-bdd9-80a00aff9922\" class=\"plotly-graph-div\" style=\"height:525px; width:100%;\"></div>            <script type=\"text/javascript\">                require([\"plotly\"], function(Plotly) {                    window.PLOTLYENV=window.PLOTLYENV || {};                                    if (document.getElementById(\"c7a00980-8ad8-42fb-bdd9-80a00aff9922\")) {                    Plotly.newPlot(                        \"c7a00980-8ad8-42fb-bdd9-80a00aff9922\",                        [{\"customdata\": [[\"\\u00d6zil\"], [\"Papastathopoulos\"], [\"Luiz Moreira Marinho\"], [\"Aubameyang\"], [\"Soares\"], [\"Lacazette\"], [\"Mustafi\"], [\"Leno\"], [\"Xhaka\"], [\"Mar\\u00ed\"], [\"Beller\\u00edn\"], [\"Chambers\"], [\"Kolasinac\"], [\"Holding\"], [\"Tierney\"], [\"P\\u00e9p\\u00e9\"], [\"Torreira\"], [\"Nelson\"], [\"Nketiah\"], [\"Smith Rowe\"], [\"Saka\"], [\"Guendouzi\"], [\"Martinelli Silva\"], [\"Saliba\"], [\"Ryan\"], [\"Borges Da Silva\"], [\"Magalh\\u00e3es\"], [\"Ceballos Fern\\u00e1ndez\"], [\"El Sayed Elneny\"], [\"Macey\"], [\"R\\u00fanarsson\"], [\"Partey\"], [\"\\u00d8degaard\"], [\"Mart\\u00ednez\"], [\"Heaton\"], [\"El Mohamady\"], [\"Lansbury\"], [\"Taylor\"], [\"Steer\"], [\"Hourihane\"], [\"Peleteiro Romallo\"], [\"Nyland\"], [\"Engels\"], [\"Grealish\"], [\"McGinn\"], [\"Hause\"], [\"Ibrahim Hassan\"], [\"Mings\"], [\"Targett\"], [\"Bree\"], [\"Nakamba\"], [\"El Ghazi\"], [\"Konsa Ngoyo\"], [\"Guilbert\"], [\"Moraes\"], [\"Samatta\"], [\"Davis\"], [\"Vassilev\"], [\"Soares de Paulo\"], [\"Barkley\"], [\"Cash\"], [\"Watkins\"], [\"Traor\\u00e9\"], [\"Ramsey\"], [\"Sanson\"], [\"Hayden\"], [\"Chukwuemeka\"], [\"Philogene-Bidace\"], [\"Murray\"], [\"Lallana\"], [\"Gro\\u00df\"], [\"Duffy\"], [\"Pr\\u00f6pper\"], [\"Mooy\"], [\"Burn\"], [\"Dunk\"], [\"Montoya\"], [\"Andone\"], [\"March\"], [\"Webster\"], [\"Veltman\"], [\"Maupay\"], [\"Trossard\"], [\"Jahanbakhsh\"], [\"Izquierdo\"], [\"Clarke\"], [\"White\"], [\"Fernandes da Silva Junior\"], [\"Bissouma\"], [\"Lamptey\"], [\"Connolly\"], [\"Alzate\"], [\"Mac Allister\"], [\"Walton\"], [\"Steele\"], [\"Molumby\"], [\"Zeqiri\"], [\"Welbeck\"], [\"S\\u00e1nchez\"], [\"Tau\"], [\"Moder\"], [\"Khadra\"], [\"Jenks\"], [\"Sanders\"], [\"Weir\"], [\"McGill\"], [\"Karbownik\"], [\"Caicedo\"], [\"Stephens\"], [\"Tarkowski\"], [\"Bardsley\"], [\"Pieters\"], [\"Cork\"], [\"Long\"], [\"Rodriguez\"], [\"Barnes\"], [\"Mee\"], [\"Westwood\"], [\"Gudmundsson\"], [\"Wood\"], [\"Lowton\"], [\"Vydra\"], [\"Gibson\"], [\"Brady\"], [\"Pope\"], [\"Taylor\"], [\"Brownhill\"], [\"Peacock-Farrell\"], [\"McNeil\"], [\"Dunne\"], [\"Thomas\"], [\"Benson\"], [\"Driscoll-Glennon\"], [\"Goodridge\"], [\"Norris\"], [\"Thompson\"], [\"Richardson\"], [\"Mancini\"], [\"Mumbongo\"], [\"Nartey\"], [\"Caballero\"], [\"Azpilicueta\"], [\"Giroud\"], [\"Alonso\"], [\"Frello Filho\"], [\"Kovacic\"], [\"R\\u00fcdiger\"], [\"Zouma\"], [\"Palmieri dos Santos\"], [\"Arrizabalaga\"], [\"Kant\\u00e9\"], [\"Ziyech\"], [\"Christensen\"], [\"Werner\"], [\"Abraham\"], [\"Pulisic\"], [\"Mount\"], [\"Tomori\"], [\"Hudson-Odoi\"], [\"James\"], [\"Gilmour\"], [\"Chilwell\"], [\"Thiago\"], [\"Havertz\"], [\"Mendy\"], [\"Ziger\"], [\"Anjorin\"], [\"Batshuayi\"], [\"Cahill\"], [\"Hennessey\"], [\"Sakho\"], [\"Guaita\"], [\"Tomkins\"], [\"McArthur\"], [\"McCarthy\"], [\"Benteke\"], [\"Kouyat\\u00e9\"], [\"Ward\"], [\"Kelly\"], [\"Wickham\"], [\"Townsend\"], [\"Milivojevic\"], [\"van Aanholt\"], [\"Ayew\"], [\"Zaha\"], [\"Schlupp\"], [\"Meyer\"], [\"Riedewald\"], [\"Ferguson\"], [\"Mitchell\"], [\"Pierrick\"], [\"Dann\"], [\"Eze\"], [\"Woods\"], [\"Inniss\"], [\"Clyne\"], [\"Henderson\"], [\"Butland\"], [\"Mateta\"], [\"Hannam\"], [\"Delph\"], [\"Sigurdsson\"], [\"L\\u00f6ssl\"], [\"Coleman\"], [\"Tosun\"], [\"An\\u00edcio Caldeira Duarte\"], [\"Digne\"], [\"Keane\"], [\"Pickford\"], [\"Tavares Gomes\"], [\"Iwobi\"], [\"Kenny\"], [\"Gbamin\"], [\"Mina\"], [\"Davies\"], [\"Calvert-Lewin\"], [\"Holgate\"], [\"de Andrade\"], [\"Virg\\u00ednia\"], [\"Gordon\"], [\"Kean\"], [\"Branthwaite\"], [\"Marques Loureiro\"], [\"Rodr\\u00edguez\"], [\"Doucour\\u00e9\"], [\"Nkounkou\"], [\"Godfrey\"], [\"Olsen\"], [\"Simms\"], [\"Onyango\"], [\"King\"], [\"John\"], [\"Broadhead\"], [\"Astley\"], [\"Tyrer\"], [\"Loftus-Cheek\"], [\"Agosto Ram\\u00edrez\"], [\"McDonald\"], [\"Le Marchand\"], [\"Johansen\"], [\"Cairney\"], [\"Ream\"], [\"Knockaert\"], [\"Hector\"], [\"Christie\"], [\"Kebano\"], [\"Decordova-Reid\"], [\"Bryan\"], [\"Bettinelli\"], [\"Mitrovi\\u0107\"], [\"Mawson\"], [\"Rod\\u00e1k\"], [\"Neves Abreu Cavaleiro\"], [\"Onomah\"], [\"Seri\"], [\"Kamara\"], [\"Zambo Anguissa\"], [\"Sessegnon\"], [\"Reed\"], [\"Robinson\"], [\"Lemina\"], [\"Areola\"], [\"Tete\"], [\"Odoi\"], [\"Lookman\"], [\"Aina\"], [\"Andersen\"], [\"Adarabioyo\"], [\"Kongolo\"], [\"Maja\"], [\"Morgan\"], [\"Schmeichel\"], [\"Fuchs\"], [\"Evans\"], [\"Silva\"], [\"Albrighton\"], [\"James\"], [\"Ward\"], [\"Vardy\"], [\"Praet\"], [\"Barbosa Pereira\"], [\"Amartey\"], [\"Tielemans\"], [\"P\\u00e9rez\"], [\"Gray\"], [\"Maddison\"], [\"Iheanacho\"], [\"Choudhury\"], [\"Barnes\"], [\"Ndidi\"], [\"Benkovic\"], [\"S\\u00f6y\\u00fcnc\\u00fc\"], [\"Justin\"], [\"Thomas\"], [\"Castagne\"], [\"Mendy\"], [\"\\u00dcnder\"], [\"Fofana\"], [\"Slimani\"], [\"Daley-Campbell\"], [\"Leshabela\"], [\"Tavares\"], [\"Flynn\"], [\"Suengchitthawon\"], [\"Hern\\u00e1ndez Dom\\u00ednguez\"], [\"Casilla Cort\\u00e9s\"], [\"Cooper\"], [\"Douglas\"], [\"Ayling\"], [\"Klich\"], [\"Forshaw\"], [\"Dallas\"], [\"Alioski\"], [\"Bamford\"], [\"Harrison\"], [\"Phillips\"], [\"Sousa de Azevedo e Costa\"], [\"Roberts\"], [\"Grot\"], [\"Miazek\"], [\"Poveda-Ocampo\"], [\"Shackleton\"], [\"Struijk\"], [\"Stevens\"], [\"Meslier\"], [\"Davis\"], [\"Casey\"], [\"Koch\"], [\"Moreno\"], [\"Caprile\"], [\"Bogusz\"], [\"Llorente\"], [\"Dias Belloli\"], [\"Jenkins\"], [\"Huggins\"], [\"Cresswell\"], [\"Gelhardt\"], [\"Berardi\"], [\"Milner\"], [\"Tsimikas\"], [\"Wijnaldum\"], [\"Henderson\"], [\"San Miguel del Castillo\"], [\"Matip\"], [\"Shaqiri\"], [\"Oxlade-Chamberlain\"], [\"Firmino\"], [\"van Dijk\"], [\"Man\\u00e9\"], [\"Ramses Becker\"], [\"Tavares\"], [\"Salah\"], [\"Robertson\"], [\"Origi\"], [\"Wilson\"], [\"Alexander-Arnold\"], [\"Gomez\"], [\"Keita\"], [\"Jones\"], [\"Williams\"], [\"Elliott\"], [\"Jota\"], [\"Alc\\u00e1ntara do Nascimento\"], [\"Kelleher\"], [\"Phillips\"], [\"Williams\"], [\"Clarkson\"], [\"Cain\"], [\"Kabak\"], [\"Davies\"], [\"Hughes\"], [\"Ojrzynski\"], [\"Luiz Rosa\"], [\"Bravo\"], [\"Ag\\u00fcero\"], [\"Otamendi\"], [\"Walker\"], [\"G\\u00fcndogan\"], [\"De Bruyne\"], [\"Stones\"], [\"Mendy\"], [\"Mahrez\"], [\"Sterling\"], [\"Cancelo\"], [\"Santana de Moraes\"], [\"Ak\\u00e9\"], [\"Laporte\"], [\"Veiga de Carvalho e Silva\"], [\"de Jesus\"], [\"Zinchenko\"], [\"Foden\"], [\"Doyle\"], [\"Hernandez\"], [\"Torres\"], [\"Garcia\"], [\"Bernab\\u00e9\"], [\"Steffen\"], [\"Delap\"], [\"Palmer\"], [\"Gato Alves Dias\"], [\"Trafford\"], [\"Carson\"], [\"Nmecha\"], [\"Mbete\"], [\"Harwood-Bellis\"], [\"Gomes\"], [\"Romero\"], [\"Mata\"], [\"de Gea\"], [\"Smalling\"], [\"Ighalo\"], [\"Rojo\"], [\"Matic\"], [\"Pogba\"], [\"Jones\"], [\"Maguire\"], [\"Rodrigues de Paula Santos\"], [\"Shaw\"], [\"Borges Fernandes\"], [\"Martial\"], [\"Pereira\"], [\"Henderson\"], [\"Rashford\"], [\"Tuanzebe\"], [\"Lindel\\u00f6f\"], [\"McTominay\"], [\"Bailly\"], [\"James\"], [\"Fosu-Mensah\"], [\"Wan-Bissaka\"], [\"Dalot Teixeira\"], [\"Greenwood\"], [\"Chong\"], [\"Garner\"], [\"Williams\"], [\"Mengi\"], [\"van de Beek\"], [\"Telles\"], [\"Cavani\"], [\"Pellistri\"], [\"Grant\"], [\"Diallo\"], [\"Shoretire\"], [\"Bishop\"], [\"Willock\"], [\"Carroll\"], [\"Shelvey\"], [\"Ritchie\"], [\"Fern\\u00e1ndez\"], [\"Clark\"], [\"Darlow\"], [\"Dubravka\"], [\"Lejeune\"], [\"Lascelles\"], [\"Gayle\"], [\"Atsu\"], [\"Dummett\"], [\"Manquillo\"], [\"Krafth\"], [\"Sch\\u00e4r\"], [\"Yedlin\"], [\"Hayden\"], [\"Aarons\"], [\"Saint-Maximin\"], [\"Almir\\u00f3n\"], [\"Apolin\\u00e1rio de Lira\"], [\"Muto\"], [\"Watts\"], [\"Longstaff\"], [\"Hendrick\"], [\"Longstaff\"], [\"Gillespie\"], [\"Murphy\"], [\"Wilson\"], [\"Fraser\"], [\"Lewis\"], [\"Anderson\"], [\"Langley\"], [\"Brewster\"], [\"Sharp\"], [\"McGoldrick\"], [\"Basham\"], [\"Fleck\"], [\"Stevens\"], [\"Moore\"], [\"Norwood\"], [\"Foderingham\"], [\"Baldock\"], [\"Robinson\"], [\"Egan\"], [\"O'Connell\"], [\"Lundstram\"], [\"Osborn\"], [\"McBurnie\"], [\"Mousset\"], [\"Berge\"], [\"Burke\"], [\"Freeman\"], [\"Ramsdale\"], [\"Ampadu\"], [\"Bogle\"], [\"Lowe\"], [\"Jagielka\"], [\"Verrips\"], [\"Bryan\"], [\"Hackford\"], [\"Gordon\"], [\"Ndiaye\"], [\"Brunt\"], [\"Maguire\"], [\"Walcott\"], [\"Minamino\"], [\"Long\"], [\"Bertrand\"], [\"McCarthy\"], [\"Romeu Vidal\"], [\"Redmond\"], [\"Ings\"], [\"Stephens\"], [\"Armstrong\"], [\"Vestergaard\"], [\"Ward-Prowse\"], [\"Gunn\"], [\"Boufal\"], [\"Sims\"], [\"Walker-Peters\"], [\"Bednarek\"], [\"Adams\"], [\"Valery\"], [\"Smallbone\"], [\"Vokins\"], [\"Obafemi\"], [\"Djenepo\"], [\"Salisu\"], [\"Forster\"], [\"Tella\"], [\"Diallo\"], [\"N'Lundulu\"], [\"Ramsay\"], [\"Chauke\"], [\"Lewis\"], [\"Ferry\"], [\"Tchaptchet\"], [\"Watts\"], [\"Jankewitz\"], [\"Finnigan\"], [\"Lloris\"], [\"Rose\"], [\"Sissoko\"], [\"Alderweireld\"], [\"Lamela\"], [\"Kane\"], [\"Aurier\"], [\"Son\"], [\"Dier\"], [\"Rodrigues Moura da Silva\"], [\"Gazzaniga\"], [\"Alli\"], [\"Davies\"], [\"H\\u00f8jbjerg\"], [\"Winks\"], [\"S\\u00e1nchez\"], [\"Sessegnon\"], [\"Bergwijn\"], [\"Carvalho Fernandes\"], [\"Tanganga\"], [\"Lo Celso\"], [\"Skipp\"], [\"Ndombele\"], [\"Foyth\"], [\"Doherty\"], [\"Hart\"], [\"Carter-Vickers\"], [\"Reguil\\u00f3n\"], [\"Bale\"], [\"Alves Morais\"], [\"Rodon\"], [\"Devine\"], [\"Scarlett\"], [\"Maitland-Niles\"], [\"Button\"], [\"Robinson\"], [\"Gibbs\"], [\"Robson-Kanu\"], [\"Livermore\"], [\"Grosicki\"], [\"Phillips\"], [\"Bartley\"], [\"Sawyers\"], [\"Hegazy\"], [\"Austin\"], [\"Zohore\"], [\"Johnstone\"], [\"Townsend\"], [\"Ajayi\"], [\"Leko\"], [\"Edwards\"], [\"Furlong\"], [\"Field\"], [\"O'Shea\"], [\"Harper\"], [\"Snodgrass\"], [\"Diangana\"], [\"Pereira\"], [\"Kipre\"], [\"Ivanovic\"], [\"Gallagher\"], [\"Krovinovic\"], [\"Grant\"], [\"Peltier\"], [\"Diaby\"], [\"Lonergan\"], [\"Diagne\"], [\"Yokuslu\"], [\"Lingard\"], [\"Noble\"], [\"Martin\"], [\"Randolph\"], [\"Fabianski\"], [\"Ogbonna\"], [\"Jimenez Gago\"], [\"Wilshere\"], [\"Cresswell\"], [\"Yarmolenko\"], [\"Antonio\"], [\"Fredericks\"], [\"Lanzini\"], [\"Pereira Gomes\"], [\"Haller\"], [\"Masuaku\"], [\"Balbuena\"], [\"Hugill\"], [\"Bowen\"], [\"Ajeti\"], [\"Rice\"], [\"Soucek\"], [\"Fornals\"], [\"Diop\"], [\"Johnson\"], [\"Coufal\"], [\"Dawson\"], [\"Benrahma\"], [\"Alves\"], [\"Odubeko\"], [\"Coventry\"], [\"Baptiste\"], [\"Trott\"], [\"Ruddy\"], [\"Santos Moutinho\"], [\"dos Santos Patr\\u00edcio\"], [\"Bennett\"], [\"Boly\"], [\"Coady\"], [\"Jim\\u00e9nez\"], [\"Sa\\u00efss\"], [\"Castro Otto\"], [\"Bonatini\"], [\"Dendoncker\"], [\"Traor\\u00e9\"], [\"da Silva Neves\"], [\"Buur\"], [\"Castelo Podence\"], [\"Kilman\"], [\"Silva Nascimento Vinagre\"], [\"Sarkic\"], [\"Gibbs-White\"], [\"Lomba Neto\"], [\"Cavaco Jordao\"], [\"Campana\"], [\"Silva\"], [\"Mar\\u00e7al\"], [\"Ferreira\"], [\"Hoever\"], [\"Cabral Semedo\"], [\"Shabani\"], [\"Ait Nouri\"], [\"Otasowie\"], [\"Corbeanu\"], [\"Perry\"], [\"Cundle\"], [\"Richards\"], [\"Marques\"], [\"S\\u00f6ndergaard\"], [\"Cutrone\"], [\"Lonwijk\"], [\"Da Silva\"], [\"Bueno\"]], \"hovertemplate\": \"now_cost=%{x}<br>total_points=%{y}<br>second_name=%{customdata[0]}<extra></extra>\", \"legendgroup\": \"\", \"marker\": {\"color\": \"#636efa\", \"symbol\": \"circle\"}, \"mode\": \"markers\", \"name\": \"\", \"orientation\": \"v\", \"showlegend\": false, \"type\": \"scatter\", \"x\": [67, 48, 54, 114, 46, 82, 50, 50, 52, 44, 50, 45, 48, 42, 53, 76, 47, 51, 53, 42, 52, 47, 49, 40, 42, 75, 49, 47, 42, 40, 44, 49, 60, 54, 45, 43, 43, 42, 39, 59, 59, 40, 44, 75, 55, 44, 52, 54, 51, 45, 43, 53, 47, 43, 60, 59, 42, 43, 48, 59, 50, 66, 59, 45, 55, 45, 45, 45, 48, 62, 58, 43, 47, 50, 42, 50, 45, 48, 50, 43, 44, 61, 58, 54, 55, 44, 45, 39, 44, 46, 52, 42, 53, 40, 39, 45, 50, 55, 45, 49, 50, 45, 45, 45, 45, 39, 45, 50, 42, 53, 44, 43, 50, 43, 58, 60, 49, 53, 54, 62, 44, 48, 39, 50, 55, 44, 49, 40, 57, 38, 39, 45, 39, 45, 40, 45, 45, 44, 45, 40, 46, 59, 67, 57, 47, 53, 47, 53, 47, 47, 49, 79, 47, 92, 71, 82, 71, 47, 57, 50, 44, 58, 56, 82, 52, 40, 45, 57, 45, 43, 44, 48, 44, 52, 43, 55, 48, 43, 41, 44, 55, 56, 54, 56, 71, 53, 47, 44, 38, 38, 43, 42, 58, 40, 40, 45, 40, 45, 55, 40, 48, 68, 43, 48, 60, 57, 62, 51, 48, 53, 59, 43, 50, 55, 52, 76, 48, 79, 43, 43, 57, 39, 52, 77, 52, 40, 50, 45, 45, 45, 52, 40, 45, 40, 40, 59, 39, 47, 41, 47, 52, 42, 50, 41, 42, 47, 53, 45, 43, 55, 43, 43, 53, 46, 46, 48, 45, 43, 44, 44, 45, 46, 43, 42, 50, 45, 45, 45, 43, 54, 44, 54, 45, 55, 44, 52, 43, 43, 101, 52, 59, 39, 65, 60, 51, 71, 58, 46, 67, 48, 43, 53, 49, 41, 57, 42, 57, 50, 49, 40, 44, 44, 45, 45, 57, 42, 43, 38, 44, 52, 48, 51, 43, 66, 54, 49, 50, 46, 47, 40, 42, 48, 40, 43, 47, 38, 38, 43, 57, 40, 43, 44, 56, 45, 45, 40, 45, 40, 53, 49, 53, 54, 42, 54, 64, 63, 90, 62, 118, 59, 54, 124, 71, 51, 51, 73, 52, 52, 44, 38, 43, 69, 55, 45, 40, 40, 45, 45, 50, 48, 40, 40, 54, 45, 103, 49, 61, 60, 119, 52, 59, 82, 113, 60, 61, 54, 60, 74, 92, 55, 60, 44, 53, 69, 47, 45, 44, 43, 44, 62, 40, 39, 45, 40, 40, 45, 49, 58, 53, 49, 61, 48, 47, 76, 48, 55, 53, 53, 116, 86, 48, 52, 95, 41, 48, 49, 48, 62, 43, 57, 48, 70, 44, 44, 42, 39, 66, 53, 78, 52, 40, 54, 45, 40, 47, 51, 53, 49, 47, 45, 49, 48, 43, 42, 59, 52, 44, 42, 42, 49, 43, 46, 48, 51, 56, 57, 48, 39, 46, 45, 48, 43, 49, 65, 56, 42, 45, 39, 43, 55, 52, 46, 56, 50, 43, 45, 43, 49, 42, 47, 47, 49, 47, 56, 58, 49, 41, 50, 46, 43, 43, 42, 39, 40, 39, 44, 40, 45, 45, 44, 58, 60, 51, 50, 44, 45, 64, 84, 46, 55, 47, 59, 43, 54, 43, 47, 48, 58, 47, 43, 39, 46, 54, 43, 40, 43, 45, 45, 40, 44, 40, 45, 40, 45, 45, 45, 56, 47, 47, 54, 57, 117, 52, 94, 47, 66, 43, 74, 46, 49, 51, 52, 47, 70, 47, 49, 69, 44, 59, 43, 56, 43, 39, 55, 93, 69, 50, 44, 45, 46, 39, 52, 43, 52, 47, 52, 51, 44, 46, 41, 51, 48, 45, 44, 48, 45, 47, 45, 48, 42, 43, 56, 50, 53, 43, 44, 55, 49, 56, 40, 45, 40, 60, 45, 63, 45, 39, 43, 50, 47, 45, 49, 59, 55, 67, 42, 64, 61, 61, 43, 41, 55, 59, 55, 47, 53, 58, 43, 39, 46, 45, 60, 40, 45, 45, 40, 40, 43, 52, 53, 44, 54, 48, 81, 49, 54, 48, 46, 60, 51, 39, 53, 39, 41, 44, 49, 57, 43, 48, 52, 47, 47, 44, 52, 44, 50, 45, 45, 45, 45, 40, 39, 40, 59, 40, 68, 40], \"xaxis\": \"x\", \"y\": [0.0, 0.0, 40.0, 108.0, 28.0, 111.0, 3.0, 104.0, 57.0, 21.0, 83.0, 8.0, 2.0, 75.0, 78.0, 63.0, 0.0, 2.0, 27.0, 46.0, 96.0, 0.0, 11.0, 0.0, 29.0, 63.0, 53.0, 41.0, 30.0, 0.0, 1.0, 30.0, 23.0, 157.0, 0.0, 30.0, 0.0, -1.0, 0.0, 20.0, 0.0, 0.0, 0.0, 129.0, 87.0, 28.0, 54.0, 114.0, 118.0, 0.0, 16.0, 71.0, 102.0, 0.0, 0.0, 0.0, 12.0, 0.0, 58.0, 62.0, 87.0, 127.0, 95.0, 19.0, 10.0, 0.0, 0.0, 0.0, 0.0, 49.0, 85.0, 0.0, 9.0, 0.0, 39.0, 102.0, 0.0, 0.0, 69.0, 61.0, 76.0, 99.0, 109.0, 16.0, 0.0, 0.0, 81.0, 5.0, 60.0, 35.0, 36.0, 29.0, 39.0, 0.0, 0.0, 1.0, 6.0, 59.0, 73.0, 3.0, 7.0, 1.0, 0.0, 0.0, 0.0, 0.0, 0.0, 0.0, 8.0, 84.0, 2.0, 49.0, 18.0, 14.0, 48.0, 48.0, 87.0, 79.0, 41.0, 93.0, 83.0, 41.0, 0.0, 44.0, 130.0, 64.0, 55.0, 0.0, 87.0, 8.0, 0.0, 10.0, 0.0, 0.0, 0.0, 0.0, 2.0, 0.0, 2.0, 0.0, 1.0, 97.0, 44.0, 42.0, 93.0, 50.0, 64.0, 86.0, 7.0, 15.0, 55.0, 51.0, 40.0, 106.0, 67.0, 50.0, 123.0, 0.0, 51.0, 87.0, 2.0, 104.0, 73.0, 59.0, 113.0, 0.0, 0.0, 40.0, 39.0, 0.0, 4.0, 109.0, 15.0, 45.0, 18.0, 66.0, 69.0, 56.0, 0.0, 0.0, 76.0, 55.0, 52.0, 61.0, 111.0, 51.0, 0.0, 56.0, 0.0, 35.0, 0.0, 33.0, 89.0, 0.0, 0.0, 28.0, 0.0, 0.0, 13.0, 0.0, 6.0, 88.0, 0.0, 43.0, 4.0, 18.0, 76.0, 100.0, 79.0, 40.0, 58.0, 5.0, 1.0, 63.0, 36.0, 138.0, 60.0, 96.0, 2.0, 3.0, 2.0, 0.0, 29.0, 88.0, 71.0, 1.0, 57.0, 15.0, 0.0, 0.0, 8.0, 0.0, 0.0, 0.0, 0.0, 59.0, 0.0, 0.0, 1.0, 0.0, 27.0, 7.0, 0.0, 0.0, 0.0, 6.0, 69.0, 13.0, 0.0, 58.0, 0.0, 1.0, 71.0, 7.0, 0.0, 8.0, 65.0, 0.0, 62.0, 51.0, 44.0, 111.0, 46.0, 1.0, 96.0, 93.0, 87.0, 92.0, 0.0, 26.0, 3.0, 115.0, 24.0, 78.0, 0.0, 52.0, 0.0, 0.0, 149.0, 35.0, 23.0, 20.0, 113.0, 47.0, 1.0, 120.0, 57.0, 13.0, 126.0, 59.0, 0.0, 37.0, 101.0, 5.0, 68.0, 38.0, 16.0, 59.0, 1.0, 0.0, 1.0, 3.0, 0.0, 0.0, 20.0, 2.0, 54.0, 0.0, 74.0, 85.0, 0.0, 124.0, 76.0, 158.0, 124.0, 51.0, 56.0, 31.0, 0.0, 0.0, 10.0, 16.0, 52.0, 0.0, 127.0, 2.0, 0.0, 34.0, 56.0, 0.0, 0.0, 20.0, 113.0, 0.0, 1.0, 0.0, 0.0, 0.0, 39.0, 1.0, 79.0, 56.0, 11.0, 42.0, 24.0, 12.0, 104.0, 15.0, 126.0, 95.0, 53.0, 182.0, 120.0, 10.0, 0.0, 106.0, 10.0, 15.0, 43.0, 10.0, 0.0, 69.0, 30.0, 10.0, 35.0, 6.0, 0.0, 0.0, 21.0, 0.0, 0.0, 0.0, 44.0, 0.0, 17.0, 0.0, 82.0, 142.0, 128.0, 122.0, 46.0, 132.0, 136.0, 122.0, 134.0, 21.0, 50.0, 74.0, 97.0, 56.0, 108.0, 0.0, 72.0, 55.0, 4.0, 0.0, 2.0, 1.0, 0.0, 133.0, 0.0, 0.0, 0.0, 0.0, 0.0, 0.0, 0.0, 20.0, 87.0, 0.0, 1.0, 0.0, 29.0, 72.0, 0.0, 115.0, 52.0, 110.0, 214.0, 75.0, 0.0, 27.0, 148.0, 2.0, 88.0, 79.0, 27.0, 35.0, 0.0, 122.0, 0.0, 56.0, 0.0, 0.0, 2.0, 0.0, 19.0, 22.0, 61.0, 0.0, 0.0, 0.0, 1.0, 0.0, 35.0, 28.0, 51.0, 15.0, 34.0, 40.0, 80.0, 18.0, 0.0, 44.0, 22.0, 0.0, 13.0, 28.0, 27.0, 25.0, 13.0, 40.0, 0.0, 53.0, 79.0, 54.0, 0.0, 0.0, 27.0, 49.0, 10.0, 0.0, 42.0, 116.0, 39.0, 43.0, 1.0, 0.0, 27.0, 39.0, 71.0, 38.0, 52.0, 30.0, 0.0, 37.0, 0.0, 44.0, 13.0, 33.0, 3.0, 44.0, 33.0, 43.0, 10.0, 29.0, 39.0, 0.0, 83.0, 42.0, 29.0, 9.0, 4.0, 0.0, 19.0, 1.0, 0.0, 1.0, 0.0, 0.0, 62.0, 41.0, 12.0, 77.0, 82.0, 51.0, 51.0, 106.0, 33.0, 93.0, 80.0, 128.0, 0.0, 0.0, 0.0, 80.0, 89.0, 109.0, 3.0, 5.0, 1.0, 1.0, 42.0, 7.0, 18.0, 15.0, 23.0, 12.0, -3.0, 0.0, 0.0, 0.0, 0.0, 2.0, -1.0, 0.0, 121.0, 0.0, 41.0, 70.0, 23.0, 204.0, 61.0, 180.0, 59.0, 68.0, 0.0, 14.0, 52.0, 81.0, 13.0, 42.0, 0.0, 40.0, 0.0, 8.0, 23.0, 0.0, 88.0, 0.0, 45.0, 0.0, 0.0, 67.0, 59.0, 13.0, 24.0, 0.0, 1.0, 51.0, 2.0, 63.0, 5.0, 12.0, 24.0, 8.0, 49.0, 66.0, 33.0, 6.0, 5.0, 0.0, 101.0, 54.0, 42.0, 0.0, 5.0, 66.0, 3.0, 32.0, 2.0, 14.0, 34.0, 111.0, 0.0, 20.0, 61.0, 17.0, 37.0, 2.0, 0.0, 0.0, 35.0, 17.0, 68.0, 20.0, 0.0, 7.0, 112.0, 82.0, 0.0, 0.0, 136.0, 16.0, 90.0, 24.0, 23.0, 2.0, 41.0, 42.0, 40.0, 0.0, 110.0, 0.0, 76.0, 123.0, 92.0, 28.0, 22.0, 95.0, 65.0, 47.0, 0.0, 0.0, 0.0, 0.0, 0.0, 1.0, 61.0, 106.0, 0.0, 60.0, 86.0, 43.0, 81.0, 16.0, 0.0, 63.0, 64.0, 91.0, 1.0, 65.0, 54.0, 1.0, 0.0, 5.0, 123.0, 0.0, 0.0, 44.0, 18.0, 17.0, 10.0, 76.0, 0.0, 35.0, 7.0, 0.0, 0.0, 0.0, 0.0, 0.0, 0.0, 2.0, 0.0, 22.0, 0.0], \"yaxis\": \"y\"}],                        {\"legend\": {\"tracegroupgap\": 0}, \"margin\": {\"t\": 60}, \"template\": {\"data\": {\"bar\": [{\"error_x\": {\"color\": \"#2a3f5f\"}, \"error_y\": {\"color\": \"#2a3f5f\"}, \"marker\": {\"line\": {\"color\": \"#E5ECF6\", \"width\": 0.5}}, \"type\": \"bar\"}], \"barpolar\": [{\"marker\": {\"line\": {\"color\": \"#E5ECF6\", \"width\": 0.5}}, \"type\": \"barpolar\"}], \"carpet\": [{\"aaxis\": {\"endlinecolor\": \"#2a3f5f\", \"gridcolor\": \"white\", \"linecolor\": \"white\", \"minorgridcolor\": \"white\", \"startlinecolor\": \"#2a3f5f\"}, \"baxis\": {\"endlinecolor\": \"#2a3f5f\", \"gridcolor\": \"white\", \"linecolor\": \"white\", \"minorgridcolor\": \"white\", \"startlinecolor\": \"#2a3f5f\"}, \"type\": \"carpet\"}], \"choropleth\": [{\"colorbar\": {\"outlinewidth\": 0, \"ticks\": \"\"}, \"type\": \"choropleth\"}], \"contour\": [{\"colorbar\": {\"outlinewidth\": 0, \"ticks\": \"\"}, \"colorscale\": [[0.0, \"#0d0887\"], [0.1111111111111111, \"#46039f\"], [0.2222222222222222, \"#7201a8\"], [0.3333333333333333, \"#9c179e\"], [0.4444444444444444, \"#bd3786\"], [0.5555555555555556, \"#d8576b\"], [0.6666666666666666, \"#ed7953\"], [0.7777777777777778, \"#fb9f3a\"], [0.8888888888888888, \"#fdca26\"], [1.0, \"#f0f921\"]], \"type\": \"contour\"}], \"contourcarpet\": [{\"colorbar\": {\"outlinewidth\": 0, \"ticks\": \"\"}, \"type\": \"contourcarpet\"}], \"heatmap\": [{\"colorbar\": {\"outlinewidth\": 0, \"ticks\": \"\"}, \"colorscale\": [[0.0, \"#0d0887\"], [0.1111111111111111, \"#46039f\"], [0.2222222222222222, \"#7201a8\"], [0.3333333333333333, \"#9c179e\"], [0.4444444444444444, \"#bd3786\"], [0.5555555555555556, \"#d8576b\"], [0.6666666666666666, \"#ed7953\"], [0.7777777777777778, \"#fb9f3a\"], [0.8888888888888888, \"#fdca26\"], [1.0, \"#f0f921\"]], \"type\": \"heatmap\"}], \"heatmapgl\": [{\"colorbar\": {\"outlinewidth\": 0, \"ticks\": \"\"}, \"colorscale\": [[0.0, \"#0d0887\"], [0.1111111111111111, \"#46039f\"], [0.2222222222222222, \"#7201a8\"], [0.3333333333333333, \"#9c179e\"], [0.4444444444444444, \"#bd3786\"], [0.5555555555555556, \"#d8576b\"], [0.6666666666666666, \"#ed7953\"], [0.7777777777777778, \"#fb9f3a\"], [0.8888888888888888, \"#fdca26\"], [1.0, \"#f0f921\"]], \"type\": \"heatmapgl\"}], \"histogram\": [{\"marker\": {\"colorbar\": {\"outlinewidth\": 0, \"ticks\": \"\"}}, \"type\": \"histogram\"}], \"histogram2d\": [{\"colorbar\": {\"outlinewidth\": 0, \"ticks\": \"\"}, \"colorscale\": [[0.0, \"#0d0887\"], [0.1111111111111111, \"#46039f\"], [0.2222222222222222, \"#7201a8\"], [0.3333333333333333, \"#9c179e\"], [0.4444444444444444, \"#bd3786\"], [0.5555555555555556, \"#d8576b\"], [0.6666666666666666, \"#ed7953\"], [0.7777777777777778, \"#fb9f3a\"], [0.8888888888888888, \"#fdca26\"], [1.0, \"#f0f921\"]], \"type\": \"histogram2d\"}], \"histogram2dcontour\": [{\"colorbar\": {\"outlinewidth\": 0, \"ticks\": \"\"}, \"colorscale\": [[0.0, \"#0d0887\"], [0.1111111111111111, \"#46039f\"], [0.2222222222222222, \"#7201a8\"], [0.3333333333333333, \"#9c179e\"], [0.4444444444444444, \"#bd3786\"], [0.5555555555555556, \"#d8576b\"], [0.6666666666666666, \"#ed7953\"], [0.7777777777777778, \"#fb9f3a\"], [0.8888888888888888, \"#fdca26\"], [1.0, \"#f0f921\"]], \"type\": \"histogram2dcontour\"}], \"mesh3d\": [{\"colorbar\": {\"outlinewidth\": 0, \"ticks\": \"\"}, \"type\": \"mesh3d\"}], \"parcoords\": [{\"line\": {\"colorbar\": {\"outlinewidth\": 0, \"ticks\": \"\"}}, \"type\": \"parcoords\"}], \"pie\": [{\"automargin\": true, \"type\": \"pie\"}], \"scatter\": [{\"marker\": {\"colorbar\": {\"outlinewidth\": 0, \"ticks\": \"\"}}, \"type\": \"scatter\"}], \"scatter3d\": [{\"line\": {\"colorbar\": {\"outlinewidth\": 0, \"ticks\": \"\"}}, \"marker\": {\"colorbar\": {\"outlinewidth\": 0, \"ticks\": \"\"}}, \"type\": \"scatter3d\"}], \"scattercarpet\": [{\"marker\": {\"colorbar\": {\"outlinewidth\": 0, \"ticks\": \"\"}}, \"type\": \"scattercarpet\"}], \"scattergeo\": [{\"marker\": {\"colorbar\": {\"outlinewidth\": 0, \"ticks\": \"\"}}, \"type\": \"scattergeo\"}], \"scattergl\": [{\"marker\": {\"colorbar\": {\"outlinewidth\": 0, \"ticks\": \"\"}}, \"type\": \"scattergl\"}], \"scattermapbox\": [{\"marker\": {\"colorbar\": {\"outlinewidth\": 0, \"ticks\": \"\"}}, \"type\": \"scattermapbox\"}], \"scatterpolar\": [{\"marker\": {\"colorbar\": {\"outlinewidth\": 0, \"ticks\": \"\"}}, \"type\": \"scatterpolar\"}], \"scatterpolargl\": [{\"marker\": {\"colorbar\": {\"outlinewidth\": 0, \"ticks\": \"\"}}, \"type\": \"scatterpolargl\"}], \"scatterternary\": [{\"marker\": {\"colorbar\": {\"outlinewidth\": 0, \"ticks\": \"\"}}, \"type\": \"scatterternary\"}], \"surface\": [{\"colorbar\": {\"outlinewidth\": 0, \"ticks\": \"\"}, \"colorscale\": [[0.0, \"#0d0887\"], [0.1111111111111111, \"#46039f\"], [0.2222222222222222, \"#7201a8\"], [0.3333333333333333, \"#9c179e\"], [0.4444444444444444, \"#bd3786\"], [0.5555555555555556, \"#d8576b\"], [0.6666666666666666, \"#ed7953\"], [0.7777777777777778, \"#fb9f3a\"], [0.8888888888888888, \"#fdca26\"], [1.0, \"#f0f921\"]], \"type\": \"surface\"}], \"table\": [{\"cells\": {\"fill\": {\"color\": \"#EBF0F8\"}, \"line\": {\"color\": \"white\"}}, \"header\": {\"fill\": {\"color\": \"#C8D4E3\"}, \"line\": {\"color\": \"white\"}}, \"type\": \"table\"}]}, \"layout\": {\"annotationdefaults\": {\"arrowcolor\": \"#2a3f5f\", \"arrowhead\": 0, \"arrowwidth\": 1}, \"autotypenumbers\": \"strict\", \"coloraxis\": {\"colorbar\": {\"outlinewidth\": 0, \"ticks\": \"\"}}, \"colorscale\": {\"diverging\": [[0, \"#8e0152\"], [0.1, \"#c51b7d\"], [0.2, \"#de77ae\"], [0.3, \"#f1b6da\"], [0.4, \"#fde0ef\"], [0.5, \"#f7f7f7\"], [0.6, \"#e6f5d0\"], [0.7, \"#b8e186\"], [0.8, \"#7fbc41\"], [0.9, \"#4d9221\"], [1, \"#276419\"]], \"sequential\": [[0.0, \"#0d0887\"], [0.1111111111111111, \"#46039f\"], [0.2222222222222222, \"#7201a8\"], [0.3333333333333333, \"#9c179e\"], [0.4444444444444444, \"#bd3786\"], [0.5555555555555556, \"#d8576b\"], [0.6666666666666666, \"#ed7953\"], [0.7777777777777778, \"#fb9f3a\"], [0.8888888888888888, \"#fdca26\"], [1.0, \"#f0f921\"]], \"sequentialminus\": [[0.0, \"#0d0887\"], [0.1111111111111111, \"#46039f\"], [0.2222222222222222, \"#7201a8\"], [0.3333333333333333, \"#9c179e\"], [0.4444444444444444, \"#bd3786\"], [0.5555555555555556, \"#d8576b\"], [0.6666666666666666, \"#ed7953\"], [0.7777777777777778, \"#fb9f3a\"], [0.8888888888888888, \"#fdca26\"], [1.0, \"#f0f921\"]]}, \"colorway\": [\"#636efa\", \"#EF553B\", \"#00cc96\", \"#ab63fa\", \"#FFA15A\", \"#19d3f3\", \"#FF6692\", \"#B6E880\", \"#FF97FF\", \"#FECB52\"], \"font\": {\"color\": \"#2a3f5f\"}, \"geo\": {\"bgcolor\": \"white\", \"lakecolor\": \"white\", \"landcolor\": \"#E5ECF6\", \"showlakes\": true, \"showland\": true, \"subunitcolor\": \"white\"}, \"hoverlabel\": {\"align\": \"left\"}, \"hovermode\": \"closest\", \"mapbox\": {\"style\": \"light\"}, \"paper_bgcolor\": \"white\", \"plot_bgcolor\": \"#E5ECF6\", \"polar\": {\"angularaxis\": {\"gridcolor\": \"white\", \"linecolor\": \"white\", \"ticks\": \"\"}, \"bgcolor\": \"#E5ECF6\", \"radialaxis\": {\"gridcolor\": \"white\", \"linecolor\": \"white\", \"ticks\": \"\"}}, \"scene\": {\"xaxis\": {\"backgroundcolor\": \"#E5ECF6\", \"gridcolor\": \"white\", \"gridwidth\": 2, \"linecolor\": \"white\", \"showbackground\": true, \"ticks\": \"\", \"zerolinecolor\": \"white\"}, \"yaxis\": {\"backgroundcolor\": \"#E5ECF6\", \"gridcolor\": \"white\", \"gridwidth\": 2, \"linecolor\": \"white\", \"showbackground\": true, \"ticks\": \"\", \"zerolinecolor\": \"white\"}, \"zaxis\": {\"backgroundcolor\": \"#E5ECF6\", \"gridcolor\": \"white\", \"gridwidth\": 2, \"linecolor\": \"white\", \"showbackground\": true, \"ticks\": \"\", \"zerolinecolor\": \"white\"}}, \"shapedefaults\": {\"line\": {\"color\": \"#2a3f5f\"}}, \"ternary\": {\"aaxis\": {\"gridcolor\": \"white\", \"linecolor\": \"white\", \"ticks\": \"\"}, \"baxis\": {\"gridcolor\": \"white\", \"linecolor\": \"white\", \"ticks\": \"\"}, \"bgcolor\": \"#E5ECF6\", \"caxis\": {\"gridcolor\": \"white\", \"linecolor\": \"white\", \"ticks\": \"\"}}, \"title\": {\"x\": 0.05}, \"xaxis\": {\"automargin\": true, \"gridcolor\": \"white\", \"linecolor\": \"white\", \"ticks\": \"\", \"title\": {\"standoff\": 15}, \"zerolinecolor\": \"white\", \"zerolinewidth\": 2}, \"yaxis\": {\"automargin\": true, \"gridcolor\": \"white\", \"linecolor\": \"white\", \"ticks\": \"\", \"title\": {\"standoff\": 15}, \"zerolinecolor\": \"white\", \"zerolinewidth\": 2}}}, \"xaxis\": {\"anchor\": \"y\", \"domain\": [0.0, 1.0], \"title\": {\"text\": \"now_cost\"}}, \"yaxis\": {\"anchor\": \"x\", \"domain\": [0.0, 1.0], \"title\": {\"text\": \"total_points\"}}},                        {\"responsive\": true}                    ).then(function(){\n",
       "                            \n",
       "var gd = document.getElementById('c7a00980-8ad8-42fb-bdd9-80a00aff9922');\n",
       "var x = new MutationObserver(function (mutations, observer) {{\n",
       "        var display = window.getComputedStyle(gd).display;\n",
       "        if (!display || display === 'none') {{\n",
       "            console.log([gd, 'removed!']);\n",
       "            Plotly.purge(gd);\n",
       "            observer.disconnect();\n",
       "        }}\n",
       "}});\n",
       "\n",
       "// Listen for the removal of the full notebook cells\n",
       "var notebookContainer = gd.closest('#notebook-container');\n",
       "if (notebookContainer) {{\n",
       "    x.observe(notebookContainer, {childList: true});\n",
       "}}\n",
       "\n",
       "// Listen for the clearing of the current output cell\n",
       "var outputEl = gd.closest('.output');\n",
       "if (outputEl) {{\n",
       "    x.observe(outputEl, {childList: true});\n",
       "}}\n",
       "\n",
       "                        })                };                });            </script>        </div>"
      ]
     },
     "metadata": {},
     "output_type": "display_data"
    },
    {
     "data": {
      "application/vnd.plotly.v1+json": {
       "config": {
        "plotlyServerURL": "https://plot.ly"
       },
       "data": [
        {
         "alignmentgroup": "True",
         "customdata": [
          [
           "Wolves"
          ],
          [
           "Fulham"
          ],
          [
           "Sheffield Utd"
          ],
          [
           "Spurs"
          ],
          [
           "Leicester"
          ],
          [
           "Leeds"
          ],
          [
           "Spurs"
          ],
          [
           "Leeds"
          ],
          [
           "Wolves"
          ],
          [
           "Liverpool"
          ],
          [
           "Liverpool"
          ],
          [
           "Man City"
          ],
          [
           "Southampton"
          ],
          [
           "Man City"
          ],
          [
           "Man City"
          ],
          [
           "Man Utd"
          ],
          [
           "Man Utd"
          ],
          [
           "Man Utd"
          ],
          [
           "Southampton"
          ],
          [
           "Newcastle"
          ],
          [
           "Newcastle"
          ],
          [
           "Sheffield Utd"
          ],
          [
           "Everton"
          ],
          [
           "West Brom"
          ],
          [
           "Fulham"
          ],
          [
           "West Ham"
          ],
          [
           "Arsenal"
          ],
          [
           "Aston Villa"
          ],
          [
           "Aston Villa"
          ],
          [
           "Aston Villa"
          ],
          [
           "Brighton"
          ],
          [
           "Brighton"
          ],
          [
           "West Ham"
          ],
          [
           "Brighton"
          ],
          [
           "Everton"
          ],
          [
           "Burnley"
          ],
          [
           "Burnley"
          ],
          [
           "Sheffield Utd"
          ],
          [
           "West Ham"
          ],
          [
           "Crystal Palace"
          ],
          [
           "Crystal Palace"
          ],
          [
           "Chelsea"
          ],
          [
           "Crystal Palace"
          ],
          [
           "Arsenal"
          ],
          [
           "Wolves"
          ],
          [
           "Chelsea"
          ],
          [
           "Fulham"
          ],
          [
           "Everton"
          ],
          [
           "Man City"
          ],
          [
           "Leeds"
          ],
          [
           "West Brom"
          ],
          [
           "West Ham"
          ],
          [
           "Liverpool"
          ],
          [
           "Liverpool"
          ],
          [
           "Chelsea"
          ],
          [
           "Everton"
          ],
          [
           "Newcastle"
          ],
          [
           "Southampton"
          ],
          [
           "Man Utd"
          ],
          [
           "Arsenal"
          ],
          [
           "Liverpool"
          ],
          [
           "Brighton"
          ],
          [
           "Newcastle"
          ],
          [
           "Man Utd"
          ],
          [
           "Everton"
          ],
          [
           "Sheffield Utd"
          ],
          [
           "Southampton"
          ],
          [
           "Wolves"
          ],
          [
           "Arsenal"
          ],
          [
           "Leicester"
          ],
          [
           "Spurs"
          ],
          [
           "Chelsea"
          ],
          [
           "Man City"
          ],
          [
           "West Brom"
          ],
          [
           "West Ham"
          ],
          [
           "Crystal Palace"
          ],
          [
           "Burnley"
          ],
          [
           "Fulham"
          ],
          [
           "Leeds"
          ],
          [
           "Aston Villa"
          ]
         ],
         "hovertemplate": "second_name=%{x}<br>value=%{y}<br>team=%{customdata[0]}<extra></extra>",
         "legendgroup": "",
         "marker": {
          "color": "#636efa"
         },
         "name": "",
         "offsetgroup": "",
         "orientation": "v",
         "showlegend": false,
         "textposition": "auto",
         "type": "bar",
         "x": [
          "Söndergaard",
          "Agosto Ramírez",
          "Foderingham",
          "Hart",
          "Ward",
          "Miazek",
          "Gazzaniga",
          "Caprile",
          "Sarkic",
          "Hughes",
          "Ojrzynski",
          "Bravo",
          "Lewis",
          "Trafford",
          "Carson",
          "Romero",
          "Grant",
          "Bishop",
          "Gunn",
          "Gillespie",
          "Langley",
          "Moore",
          "Tyrer",
          "Lonergan",
          "Bettinelli",
          "Jimenez Gago",
          "Macey",
          "Heaton",
          "Steer",
          "Nyland",
          "Walton",
          "Steele",
          "Trott",
          "McGill",
          "Lössl",
          "Peacock-Farrell",
          "Norris",
          "Verrips",
          "Martin",
          "Butland",
          "Henderson",
          "Ziger",
          "Hennessey",
          "Rúnarsson",
          "Ruddy",
          "Caballero",
          "Rodák",
          "Virgínia",
          "Steffen",
          "Casilla Cortés",
          "Button",
          "Randolph",
          "Kelleher",
          "San Miguel del Castillo",
          "Arrizabalaga",
          "Olsen",
          "Dubravka",
          "Forster",
          "Henderson",
          "Ryan",
          "Ramses Becker",
          "Sánchez",
          "Darlow",
          "de Gea",
          "Pickford",
          "Ramsdale",
          "McCarthy",
          "dos Santos Patrício",
          "Leno",
          "Schmeichel",
          "Lloris",
          "Mendy",
          "Santana de Moraes",
          "Johnstone",
          "Fabianski",
          "Guaita",
          "Pope",
          "Areola",
          "Meslier",
          "Martínez"
         ],
         "xaxis": "x",
         "y": [
          0,
          0,
          0,
          0,
          0,
          0,
          0,
          0,
          0,
          0,
          0,
          0,
          0,
          0,
          0,
          0,
          0,
          0,
          0,
          0,
          0,
          0,
          0,
          0,
          0,
          0,
          0,
          0,
          0,
          0,
          0,
          0,
          0,
          0,
          0,
          0,
          0,
          0,
          0,
          0,
          0,
          0,
          0,
          0.2,
          0.2,
          0.2,
          0.2,
          0.5,
          0.5,
          0.5,
          0.5,
          1.6,
          2.2,
          2.6,
          3.2,
          3.3,
          3.8,
          4.5,
          5.2,
          6.9,
          16.1,
          16.2,
          16.3,
          16.4,
          16.5,
          18,
          18.6,
          20,
          20.8,
          21.3,
          21.6,
          21.7,
          22,
          22.4,
          22.4,
          22.7,
          23.6,
          24.1,
          27,
          29.1
         ],
         "yaxis": "y"
        },
        {
         "customdata": [
          [
           40
          ],
          [
           39
          ],
          [
           43
          ],
          [
           43
          ],
          [
           43
          ],
          [
           40
          ],
          [
           43
          ],
          [
           40
          ],
          [
           44
          ],
          [
           40
          ],
          [
           40
          ],
          [
           45
          ],
          [
           40
          ],
          [
           40
          ],
          [
           39
          ],
          [
           49
          ],
          [
           40
          ],
          [
           40
          ],
          [
           43
          ],
          [
           43
          ],
          [
           39
          ],
          [
           43
          ],
          [
           40
          ],
          [
           40
          ],
          [
           43
          ],
          [
           45
          ],
          [
           40
          ],
          [
           45
          ],
          [
           39
          ],
          [
           40
          ],
          [
           40
          ],
          [
           39
          ],
          [
           40
          ],
          [
           39
          ],
          [
           43
          ],
          [
           40
          ],
          [
           40
          ],
          [
           40
          ],
          [
           39
          ],
          [
           45
          ],
          [
           40
          ],
          [
           40
          ],
          [
           43
          ],
          [
           44
          ],
          [
           43
          ],
          [
           46
          ],
          [
           43
          ],
          [
           43
          ],
          [
           44
          ],
          [
           42
          ],
          [
           39
          ],
          [
           43
          ],
          [
           45
          ],
          [
           42
          ],
          [
           47
          ],
          [
           45
          ],
          [
           48
          ],
          [
           40
          ],
          [
           52
          ],
          [
           42
          ],
          [
           59
          ],
          [
           45
          ],
          [
           49
          ],
          [
           53
          ],
          [
           48
          ],
          [
           46
          ],
          [
           44
          ],
          [
           53
          ],
          [
           50
          ],
          [
           54
          ],
          [
           56
          ],
          [
           52
          ],
          [
           61
          ],
          [
           45
          ],
          [
           50
          ],
          [
           48
          ],
          [
           55
          ],
          [
           46
          ],
          [
           47
          ],
          [
           54
          ]
         ],
         "hovertemplate": "second_name=%{x}<br>total_points=%{y}<br>now_cost=%{customdata[0]}<extra></extra>",
         "legendgroup": "",
         "marker": {
          "color": "#636efa",
          "symbol": "circle"
         },
         "mode": "markers",
         "name": "",
         "orientation": "v",
         "showlegend": false,
         "type": "scatter",
         "x": [
          "Söndergaard",
          "Agosto Ramírez",
          "Foderingham",
          "Hart",
          "Ward",
          "Miazek",
          "Gazzaniga",
          "Caprile",
          "Sarkic",
          "Hughes",
          "Ojrzynski",
          "Bravo",
          "Lewis",
          "Trafford",
          "Carson",
          "Romero",
          "Grant",
          "Bishop",
          "Gunn",
          "Gillespie",
          "Langley",
          "Moore",
          "Tyrer",
          "Lonergan",
          "Bettinelli",
          "Jimenez Gago",
          "Macey",
          "Heaton",
          "Steer",
          "Nyland",
          "Walton",
          "Steele",
          "Trott",
          "McGill",
          "Lössl",
          "Peacock-Farrell",
          "Norris",
          "Verrips",
          "Martin",
          "Butland",
          "Henderson",
          "Ziger",
          "Hennessey",
          "Rúnarsson",
          "Ruddy",
          "Caballero",
          "Rodák",
          "Virgínia",
          "Steffen",
          "Casilla Cortés",
          "Button",
          "Randolph",
          "Kelleher",
          "San Miguel del Castillo",
          "Arrizabalaga",
          "Olsen",
          "Dubravka",
          "Forster",
          "Henderson",
          "Ryan",
          "Ramses Becker",
          "Sánchez",
          "Darlow",
          "de Gea",
          "Pickford",
          "Ramsdale",
          "McCarthy",
          "dos Santos Patrício",
          "Leno",
          "Schmeichel",
          "Lloris",
          "Mendy",
          "Santana de Moraes",
          "Johnstone",
          "Fabianski",
          "Guaita",
          "Pope",
          "Areola",
          "Meslier",
          "Martínez"
         ],
         "xaxis": "x",
         "y": [
          0,
          0,
          0,
          0,
          0,
          0,
          0,
          0,
          0,
          0,
          0,
          0,
          0,
          0,
          0,
          0,
          0,
          0,
          0,
          0,
          0,
          0,
          0,
          0,
          0,
          0,
          0,
          0,
          0,
          0,
          0,
          0,
          0,
          0,
          0,
          0,
          0,
          0,
          0,
          0,
          0,
          0,
          0,
          1,
          1,
          1,
          1,
          2,
          2,
          2,
          2,
          7,
          10,
          11,
          15,
          15,
          18,
          18,
          27,
          29,
          95,
          73,
          80,
          87,
          79,
          83,
          82,
          106,
          104,
          115,
          121,
          113,
          134,
          101,
          112,
          109,
          130,
          111,
          127,
          157
         ],
         "yaxis": "y"
        }
       ],
       "layout": {
        "barmode": "relative",
        "legend": {
         "tracegroupgap": 0
        },
        "margin": {
         "t": 60
        },
        "template": {
         "data": {
          "bar": [
           {
            "error_x": {
             "color": "#2a3f5f"
            },
            "error_y": {
             "color": "#2a3f5f"
            },
            "marker": {
             "line": {
              "color": "#E5ECF6",
              "width": 0.5
             }
            },
            "type": "bar"
           }
          ],
          "barpolar": [
           {
            "marker": {
             "line": {
              "color": "#E5ECF6",
              "width": 0.5
             }
            },
            "type": "barpolar"
           }
          ],
          "carpet": [
           {
            "aaxis": {
             "endlinecolor": "#2a3f5f",
             "gridcolor": "white",
             "linecolor": "white",
             "minorgridcolor": "white",
             "startlinecolor": "#2a3f5f"
            },
            "baxis": {
             "endlinecolor": "#2a3f5f",
             "gridcolor": "white",
             "linecolor": "white",
             "minorgridcolor": "white",
             "startlinecolor": "#2a3f5f"
            },
            "type": "carpet"
           }
          ],
          "choropleth": [
           {
            "colorbar": {
             "outlinewidth": 0,
             "ticks": ""
            },
            "type": "choropleth"
           }
          ],
          "contour": [
           {
            "colorbar": {
             "outlinewidth": 0,
             "ticks": ""
            },
            "colorscale": [
             [
              0,
              "#0d0887"
             ],
             [
              0.1111111111111111,
              "#46039f"
             ],
             [
              0.2222222222222222,
              "#7201a8"
             ],
             [
              0.3333333333333333,
              "#9c179e"
             ],
             [
              0.4444444444444444,
              "#bd3786"
             ],
             [
              0.5555555555555556,
              "#d8576b"
             ],
             [
              0.6666666666666666,
              "#ed7953"
             ],
             [
              0.7777777777777778,
              "#fb9f3a"
             ],
             [
              0.8888888888888888,
              "#fdca26"
             ],
             [
              1,
              "#f0f921"
             ]
            ],
            "type": "contour"
           }
          ],
          "contourcarpet": [
           {
            "colorbar": {
             "outlinewidth": 0,
             "ticks": ""
            },
            "type": "contourcarpet"
           }
          ],
          "heatmap": [
           {
            "colorbar": {
             "outlinewidth": 0,
             "ticks": ""
            },
            "colorscale": [
             [
              0,
              "#0d0887"
             ],
             [
              0.1111111111111111,
              "#46039f"
             ],
             [
              0.2222222222222222,
              "#7201a8"
             ],
             [
              0.3333333333333333,
              "#9c179e"
             ],
             [
              0.4444444444444444,
              "#bd3786"
             ],
             [
              0.5555555555555556,
              "#d8576b"
             ],
             [
              0.6666666666666666,
              "#ed7953"
             ],
             [
              0.7777777777777778,
              "#fb9f3a"
             ],
             [
              0.8888888888888888,
              "#fdca26"
             ],
             [
              1,
              "#f0f921"
             ]
            ],
            "type": "heatmap"
           }
          ],
          "heatmapgl": [
           {
            "colorbar": {
             "outlinewidth": 0,
             "ticks": ""
            },
            "colorscale": [
             [
              0,
              "#0d0887"
             ],
             [
              0.1111111111111111,
              "#46039f"
             ],
             [
              0.2222222222222222,
              "#7201a8"
             ],
             [
              0.3333333333333333,
              "#9c179e"
             ],
             [
              0.4444444444444444,
              "#bd3786"
             ],
             [
              0.5555555555555556,
              "#d8576b"
             ],
             [
              0.6666666666666666,
              "#ed7953"
             ],
             [
              0.7777777777777778,
              "#fb9f3a"
             ],
             [
              0.8888888888888888,
              "#fdca26"
             ],
             [
              1,
              "#f0f921"
             ]
            ],
            "type": "heatmapgl"
           }
          ],
          "histogram": [
           {
            "marker": {
             "colorbar": {
              "outlinewidth": 0,
              "ticks": ""
             }
            },
            "type": "histogram"
           }
          ],
          "histogram2d": [
           {
            "colorbar": {
             "outlinewidth": 0,
             "ticks": ""
            },
            "colorscale": [
             [
              0,
              "#0d0887"
             ],
             [
              0.1111111111111111,
              "#46039f"
             ],
             [
              0.2222222222222222,
              "#7201a8"
             ],
             [
              0.3333333333333333,
              "#9c179e"
             ],
             [
              0.4444444444444444,
              "#bd3786"
             ],
             [
              0.5555555555555556,
              "#d8576b"
             ],
             [
              0.6666666666666666,
              "#ed7953"
             ],
             [
              0.7777777777777778,
              "#fb9f3a"
             ],
             [
              0.8888888888888888,
              "#fdca26"
             ],
             [
              1,
              "#f0f921"
             ]
            ],
            "type": "histogram2d"
           }
          ],
          "histogram2dcontour": [
           {
            "colorbar": {
             "outlinewidth": 0,
             "ticks": ""
            },
            "colorscale": [
             [
              0,
              "#0d0887"
             ],
             [
              0.1111111111111111,
              "#46039f"
             ],
             [
              0.2222222222222222,
              "#7201a8"
             ],
             [
              0.3333333333333333,
              "#9c179e"
             ],
             [
              0.4444444444444444,
              "#bd3786"
             ],
             [
              0.5555555555555556,
              "#d8576b"
             ],
             [
              0.6666666666666666,
              "#ed7953"
             ],
             [
              0.7777777777777778,
              "#fb9f3a"
             ],
             [
              0.8888888888888888,
              "#fdca26"
             ],
             [
              1,
              "#f0f921"
             ]
            ],
            "type": "histogram2dcontour"
           }
          ],
          "mesh3d": [
           {
            "colorbar": {
             "outlinewidth": 0,
             "ticks": ""
            },
            "type": "mesh3d"
           }
          ],
          "parcoords": [
           {
            "line": {
             "colorbar": {
              "outlinewidth": 0,
              "ticks": ""
             }
            },
            "type": "parcoords"
           }
          ],
          "pie": [
           {
            "automargin": true,
            "type": "pie"
           }
          ],
          "scatter": [
           {
            "marker": {
             "colorbar": {
              "outlinewidth": 0,
              "ticks": ""
             }
            },
            "type": "scatter"
           }
          ],
          "scatter3d": [
           {
            "line": {
             "colorbar": {
              "outlinewidth": 0,
              "ticks": ""
             }
            },
            "marker": {
             "colorbar": {
              "outlinewidth": 0,
              "ticks": ""
             }
            },
            "type": "scatter3d"
           }
          ],
          "scattercarpet": [
           {
            "marker": {
             "colorbar": {
              "outlinewidth": 0,
              "ticks": ""
             }
            },
            "type": "scattercarpet"
           }
          ],
          "scattergeo": [
           {
            "marker": {
             "colorbar": {
              "outlinewidth": 0,
              "ticks": ""
             }
            },
            "type": "scattergeo"
           }
          ],
          "scattergl": [
           {
            "marker": {
             "colorbar": {
              "outlinewidth": 0,
              "ticks": ""
             }
            },
            "type": "scattergl"
           }
          ],
          "scattermapbox": [
           {
            "marker": {
             "colorbar": {
              "outlinewidth": 0,
              "ticks": ""
             }
            },
            "type": "scattermapbox"
           }
          ],
          "scatterpolar": [
           {
            "marker": {
             "colorbar": {
              "outlinewidth": 0,
              "ticks": ""
             }
            },
            "type": "scatterpolar"
           }
          ],
          "scatterpolargl": [
           {
            "marker": {
             "colorbar": {
              "outlinewidth": 0,
              "ticks": ""
             }
            },
            "type": "scatterpolargl"
           }
          ],
          "scatterternary": [
           {
            "marker": {
             "colorbar": {
              "outlinewidth": 0,
              "ticks": ""
             }
            },
            "type": "scatterternary"
           }
          ],
          "surface": [
           {
            "colorbar": {
             "outlinewidth": 0,
             "ticks": ""
            },
            "colorscale": [
             [
              0,
              "#0d0887"
             ],
             [
              0.1111111111111111,
              "#46039f"
             ],
             [
              0.2222222222222222,
              "#7201a8"
             ],
             [
              0.3333333333333333,
              "#9c179e"
             ],
             [
              0.4444444444444444,
              "#bd3786"
             ],
             [
              0.5555555555555556,
              "#d8576b"
             ],
             [
              0.6666666666666666,
              "#ed7953"
             ],
             [
              0.7777777777777778,
              "#fb9f3a"
             ],
             [
              0.8888888888888888,
              "#fdca26"
             ],
             [
              1,
              "#f0f921"
             ]
            ],
            "type": "surface"
           }
          ],
          "table": [
           {
            "cells": {
             "fill": {
              "color": "#EBF0F8"
             },
             "line": {
              "color": "white"
             }
            },
            "header": {
             "fill": {
              "color": "#C8D4E3"
             },
             "line": {
              "color": "white"
             }
            },
            "type": "table"
           }
          ]
         },
         "layout": {
          "annotationdefaults": {
           "arrowcolor": "#2a3f5f",
           "arrowhead": 0,
           "arrowwidth": 1
          },
          "autotypenumbers": "strict",
          "coloraxis": {
           "colorbar": {
            "outlinewidth": 0,
            "ticks": ""
           }
          },
          "colorscale": {
           "diverging": [
            [
             0,
             "#8e0152"
            ],
            [
             0.1,
             "#c51b7d"
            ],
            [
             0.2,
             "#de77ae"
            ],
            [
             0.3,
             "#f1b6da"
            ],
            [
             0.4,
             "#fde0ef"
            ],
            [
             0.5,
             "#f7f7f7"
            ],
            [
             0.6,
             "#e6f5d0"
            ],
            [
             0.7,
             "#b8e186"
            ],
            [
             0.8,
             "#7fbc41"
            ],
            [
             0.9,
             "#4d9221"
            ],
            [
             1,
             "#276419"
            ]
           ],
           "sequential": [
            [
             0,
             "#0d0887"
            ],
            [
             0.1111111111111111,
             "#46039f"
            ],
            [
             0.2222222222222222,
             "#7201a8"
            ],
            [
             0.3333333333333333,
             "#9c179e"
            ],
            [
             0.4444444444444444,
             "#bd3786"
            ],
            [
             0.5555555555555556,
             "#d8576b"
            ],
            [
             0.6666666666666666,
             "#ed7953"
            ],
            [
             0.7777777777777778,
             "#fb9f3a"
            ],
            [
             0.8888888888888888,
             "#fdca26"
            ],
            [
             1,
             "#f0f921"
            ]
           ],
           "sequentialminus": [
            [
             0,
             "#0d0887"
            ],
            [
             0.1111111111111111,
             "#46039f"
            ],
            [
             0.2222222222222222,
             "#7201a8"
            ],
            [
             0.3333333333333333,
             "#9c179e"
            ],
            [
             0.4444444444444444,
             "#bd3786"
            ],
            [
             0.5555555555555556,
             "#d8576b"
            ],
            [
             0.6666666666666666,
             "#ed7953"
            ],
            [
             0.7777777777777778,
             "#fb9f3a"
            ],
            [
             0.8888888888888888,
             "#fdca26"
            ],
            [
             1,
             "#f0f921"
            ]
           ]
          },
          "colorway": [
           "#636efa",
           "#EF553B",
           "#00cc96",
           "#ab63fa",
           "#FFA15A",
           "#19d3f3",
           "#FF6692",
           "#B6E880",
           "#FF97FF",
           "#FECB52"
          ],
          "font": {
           "color": "#2a3f5f"
          },
          "geo": {
           "bgcolor": "white",
           "lakecolor": "white",
           "landcolor": "#E5ECF6",
           "showlakes": true,
           "showland": true,
           "subunitcolor": "white"
          },
          "hoverlabel": {
           "align": "left"
          },
          "hovermode": "closest",
          "mapbox": {
           "style": "light"
          },
          "paper_bgcolor": "white",
          "plot_bgcolor": "#E5ECF6",
          "polar": {
           "angularaxis": {
            "gridcolor": "white",
            "linecolor": "white",
            "ticks": ""
           },
           "bgcolor": "#E5ECF6",
           "radialaxis": {
            "gridcolor": "white",
            "linecolor": "white",
            "ticks": ""
           }
          },
          "scene": {
           "xaxis": {
            "backgroundcolor": "#E5ECF6",
            "gridcolor": "white",
            "gridwidth": 2,
            "linecolor": "white",
            "showbackground": true,
            "ticks": "",
            "zerolinecolor": "white"
           },
           "yaxis": {
            "backgroundcolor": "#E5ECF6",
            "gridcolor": "white",
            "gridwidth": 2,
            "linecolor": "white",
            "showbackground": true,
            "ticks": "",
            "zerolinecolor": "white"
           },
           "zaxis": {
            "backgroundcolor": "#E5ECF6",
            "gridcolor": "white",
            "gridwidth": 2,
            "linecolor": "white",
            "showbackground": true,
            "ticks": "",
            "zerolinecolor": "white"
           }
          },
          "shapedefaults": {
           "line": {
            "color": "#2a3f5f"
           }
          },
          "ternary": {
           "aaxis": {
            "gridcolor": "white",
            "linecolor": "white",
            "ticks": ""
           },
           "baxis": {
            "gridcolor": "white",
            "linecolor": "white",
            "ticks": ""
           },
           "bgcolor": "#E5ECF6",
           "caxis": {
            "gridcolor": "white",
            "linecolor": "white",
            "ticks": ""
           }
          },
          "title": {
           "x": 0.05
          },
          "xaxis": {
           "automargin": true,
           "gridcolor": "white",
           "linecolor": "white",
           "ticks": "",
           "title": {
            "standoff": 15
           },
           "zerolinecolor": "white",
           "zerolinewidth": 2
          },
          "yaxis": {
           "automargin": true,
           "gridcolor": "white",
           "linecolor": "white",
           "ticks": "",
           "title": {
            "standoff": 15
           },
           "zerolinecolor": "white",
           "zerolinewidth": 2
          }
         }
        },
        "xaxis": {
         "anchor": "y",
         "domain": [
          0,
          1
         ],
         "title": {
          "text": "second_name"
         }
        },
        "yaxis": {
         "anchor": "x",
         "domain": [
          0,
          1
         ],
         "title": {
          "text": "value"
         }
        }
       }
      },
      "text/html": [
       "<div>                            <div id=\"2d98d43a-4cab-4df5-9122-8fc6e09fff8a\" class=\"plotly-graph-div\" style=\"height:525px; width:100%;\"></div>            <script type=\"text/javascript\">                require([\"plotly\"], function(Plotly) {                    window.PLOTLYENV=window.PLOTLYENV || {};                                    if (document.getElementById(\"2d98d43a-4cab-4df5-9122-8fc6e09fff8a\")) {                    Plotly.newPlot(                        \"2d98d43a-4cab-4df5-9122-8fc6e09fff8a\",                        [{\"alignmentgroup\": \"True\", \"customdata\": [[\"Wolves\"], [\"Fulham\"], [\"Sheffield Utd\"], [\"Spurs\"], [\"Leicester\"], [\"Leeds\"], [\"Spurs\"], [\"Leeds\"], [\"Wolves\"], [\"Liverpool\"], [\"Liverpool\"], [\"Man City\"], [\"Southampton\"], [\"Man City\"], [\"Man City\"], [\"Man Utd\"], [\"Man Utd\"], [\"Man Utd\"], [\"Southampton\"], [\"Newcastle\"], [\"Newcastle\"], [\"Sheffield Utd\"], [\"Everton\"], [\"West Brom\"], [\"Fulham\"], [\"West Ham\"], [\"Arsenal\"], [\"Aston Villa\"], [\"Aston Villa\"], [\"Aston Villa\"], [\"Brighton\"], [\"Brighton\"], [\"West Ham\"], [\"Brighton\"], [\"Everton\"], [\"Burnley\"], [\"Burnley\"], [\"Sheffield Utd\"], [\"West Ham\"], [\"Crystal Palace\"], [\"Crystal Palace\"], [\"Chelsea\"], [\"Crystal Palace\"], [\"Arsenal\"], [\"Wolves\"], [\"Chelsea\"], [\"Fulham\"], [\"Everton\"], [\"Man City\"], [\"Leeds\"], [\"West Brom\"], [\"West Ham\"], [\"Liverpool\"], [\"Liverpool\"], [\"Chelsea\"], [\"Everton\"], [\"Newcastle\"], [\"Southampton\"], [\"Man Utd\"], [\"Arsenal\"], [\"Liverpool\"], [\"Brighton\"], [\"Newcastle\"], [\"Man Utd\"], [\"Everton\"], [\"Sheffield Utd\"], [\"Southampton\"], [\"Wolves\"], [\"Arsenal\"], [\"Leicester\"], [\"Spurs\"], [\"Chelsea\"], [\"Man City\"], [\"West Brom\"], [\"West Ham\"], [\"Crystal Palace\"], [\"Burnley\"], [\"Fulham\"], [\"Leeds\"], [\"Aston Villa\"]], \"hovertemplate\": \"second_name=%{x}<br>value=%{y}<br>team=%{customdata[0]}<extra></extra>\", \"legendgroup\": \"\", \"marker\": {\"color\": \"#636efa\"}, \"name\": \"\", \"offsetgroup\": \"\", \"orientation\": \"v\", \"showlegend\": false, \"textposition\": \"auto\", \"type\": \"bar\", \"x\": [\"S\\u00f6ndergaard\", \"Agosto Ram\\u00edrez\", \"Foderingham\", \"Hart\", \"Ward\", \"Miazek\", \"Gazzaniga\", \"Caprile\", \"Sarkic\", \"Hughes\", \"Ojrzynski\", \"Bravo\", \"Lewis\", \"Trafford\", \"Carson\", \"Romero\", \"Grant\", \"Bishop\", \"Gunn\", \"Gillespie\", \"Langley\", \"Moore\", \"Tyrer\", \"Lonergan\", \"Bettinelli\", \"Jimenez Gago\", \"Macey\", \"Heaton\", \"Steer\", \"Nyland\", \"Walton\", \"Steele\", \"Trott\", \"McGill\", \"L\\u00f6ssl\", \"Peacock-Farrell\", \"Norris\", \"Verrips\", \"Martin\", \"Butland\", \"Henderson\", \"Ziger\", \"Hennessey\", \"R\\u00fanarsson\", \"Ruddy\", \"Caballero\", \"Rod\\u00e1k\", \"Virg\\u00ednia\", \"Steffen\", \"Casilla Cort\\u00e9s\", \"Button\", \"Randolph\", \"Kelleher\", \"San Miguel del Castillo\", \"Arrizabalaga\", \"Olsen\", \"Dubravka\", \"Forster\", \"Henderson\", \"Ryan\", \"Ramses Becker\", \"S\\u00e1nchez\", \"Darlow\", \"de Gea\", \"Pickford\", \"Ramsdale\", \"McCarthy\", \"dos Santos Patr\\u00edcio\", \"Leno\", \"Schmeichel\", \"Lloris\", \"Mendy\", \"Santana de Moraes\", \"Johnstone\", \"Fabianski\", \"Guaita\", \"Pope\", \"Areola\", \"Meslier\", \"Mart\\u00ednez\"], \"xaxis\": \"x\", \"y\": [0.0, 0.0, 0.0, 0.0, 0.0, 0.0, 0.0, 0.0, 0.0, 0.0, 0.0, 0.0, 0.0, 0.0, 0.0, 0.0, 0.0, 0.0, 0.0, 0.0, 0.0, 0.0, 0.0, 0.0, 0.0, 0.0, 0.0, 0.0, 0.0, 0.0, 0.0, 0.0, 0.0, 0.0, 0.0, 0.0, 0.0, 0.0, 0.0, 0.0, 0.0, 0.0, 0.0, 0.2, 0.2, 0.2, 0.2, 0.5, 0.5, 0.5, 0.5, 1.6, 2.2, 2.6, 3.2, 3.3, 3.8, 4.5, 5.2, 6.9, 16.1, 16.2, 16.3, 16.4, 16.5, 18.0, 18.6, 20.0, 20.8, 21.3, 21.6, 21.7, 22.0, 22.4, 22.4, 22.7, 23.6, 24.1, 27.0, 29.1], \"yaxis\": \"y\"}, {\"customdata\": [[40], [39], [43], [43], [43], [40], [43], [40], [44], [40], [40], [45], [40], [40], [39], [49], [40], [40], [43], [43], [39], [43], [40], [40], [43], [45], [40], [45], [39], [40], [40], [39], [40], [39], [43], [40], [40], [40], [39], [45], [40], [40], [43], [44], [43], [46], [43], [43], [44], [42], [39], [43], [45], [42], [47], [45], [48], [40], [52], [42], [59], [45], [49], [53], [48], [46], [44], [53], [50], [54], [56], [52], [61], [45], [50], [48], [55], [46], [47], [54]], \"hovertemplate\": \"second_name=%{x}<br>total_points=%{y}<br>now_cost=%{customdata[0]}<extra></extra>\", \"legendgroup\": \"\", \"marker\": {\"color\": \"#636efa\", \"symbol\": \"circle\"}, \"mode\": \"markers\", \"name\": \"\", \"orientation\": \"v\", \"showlegend\": false, \"type\": \"scatter\", \"x\": [\"S\\u00f6ndergaard\", \"Agosto Ram\\u00edrez\", \"Foderingham\", \"Hart\", \"Ward\", \"Miazek\", \"Gazzaniga\", \"Caprile\", \"Sarkic\", \"Hughes\", \"Ojrzynski\", \"Bravo\", \"Lewis\", \"Trafford\", \"Carson\", \"Romero\", \"Grant\", \"Bishop\", \"Gunn\", \"Gillespie\", \"Langley\", \"Moore\", \"Tyrer\", \"Lonergan\", \"Bettinelli\", \"Jimenez Gago\", \"Macey\", \"Heaton\", \"Steer\", \"Nyland\", \"Walton\", \"Steele\", \"Trott\", \"McGill\", \"L\\u00f6ssl\", \"Peacock-Farrell\", \"Norris\", \"Verrips\", \"Martin\", \"Butland\", \"Henderson\", \"Ziger\", \"Hennessey\", \"R\\u00fanarsson\", \"Ruddy\", \"Caballero\", \"Rod\\u00e1k\", \"Virg\\u00ednia\", \"Steffen\", \"Casilla Cort\\u00e9s\", \"Button\", \"Randolph\", \"Kelleher\", \"San Miguel del Castillo\", \"Arrizabalaga\", \"Olsen\", \"Dubravka\", \"Forster\", \"Henderson\", \"Ryan\", \"Ramses Becker\", \"S\\u00e1nchez\", \"Darlow\", \"de Gea\", \"Pickford\", \"Ramsdale\", \"McCarthy\", \"dos Santos Patr\\u00edcio\", \"Leno\", \"Schmeichel\", \"Lloris\", \"Mendy\", \"Santana de Moraes\", \"Johnstone\", \"Fabianski\", \"Guaita\", \"Pope\", \"Areola\", \"Meslier\", \"Mart\\u00ednez\"], \"xaxis\": \"x\", \"y\": [0.0, 0.0, 0.0, 0.0, 0.0, 0.0, 0.0, 0.0, 0.0, 0.0, 0.0, 0.0, 0.0, 0.0, 0.0, 0.0, 0.0, 0.0, 0.0, 0.0, 0.0, 0.0, 0.0, 0.0, 0.0, 0.0, 0.0, 0.0, 0.0, 0.0, 0.0, 0.0, 0.0, 0.0, 0.0, 0.0, 0.0, 0.0, 0.0, 0.0, 0.0, 0.0, 0.0, 1.0, 1.0, 1.0, 1.0, 2.0, 2.0, 2.0, 2.0, 7.0, 10.0, 11.0, 15.0, 15.0, 18.0, 18.0, 27.0, 29.0, 95.0, 73.0, 80.0, 87.0, 79.0, 83.0, 82.0, 106.0, 104.0, 115.0, 121.0, 113.0, 134.0, 101.0, 112.0, 109.0, 130.0, 111.0, 127.0, 157.0], \"yaxis\": \"y\"}],                        {\"barmode\": \"relative\", \"legend\": {\"tracegroupgap\": 0}, \"margin\": {\"t\": 60}, \"template\": {\"data\": {\"bar\": [{\"error_x\": {\"color\": \"#2a3f5f\"}, \"error_y\": {\"color\": \"#2a3f5f\"}, \"marker\": {\"line\": {\"color\": \"#E5ECF6\", \"width\": 0.5}}, \"type\": \"bar\"}], \"barpolar\": [{\"marker\": {\"line\": {\"color\": \"#E5ECF6\", \"width\": 0.5}}, \"type\": \"barpolar\"}], \"carpet\": [{\"aaxis\": {\"endlinecolor\": \"#2a3f5f\", \"gridcolor\": \"white\", \"linecolor\": \"white\", \"minorgridcolor\": \"white\", \"startlinecolor\": \"#2a3f5f\"}, \"baxis\": {\"endlinecolor\": \"#2a3f5f\", \"gridcolor\": \"white\", \"linecolor\": \"white\", \"minorgridcolor\": \"white\", \"startlinecolor\": \"#2a3f5f\"}, \"type\": \"carpet\"}], \"choropleth\": [{\"colorbar\": {\"outlinewidth\": 0, \"ticks\": \"\"}, \"type\": \"choropleth\"}], \"contour\": [{\"colorbar\": {\"outlinewidth\": 0, \"ticks\": \"\"}, \"colorscale\": [[0.0, \"#0d0887\"], [0.1111111111111111, \"#46039f\"], [0.2222222222222222, \"#7201a8\"], [0.3333333333333333, \"#9c179e\"], [0.4444444444444444, \"#bd3786\"], [0.5555555555555556, \"#d8576b\"], [0.6666666666666666, \"#ed7953\"], [0.7777777777777778, \"#fb9f3a\"], [0.8888888888888888, \"#fdca26\"], [1.0, \"#f0f921\"]], \"type\": \"contour\"}], \"contourcarpet\": [{\"colorbar\": {\"outlinewidth\": 0, \"ticks\": \"\"}, \"type\": \"contourcarpet\"}], \"heatmap\": [{\"colorbar\": {\"outlinewidth\": 0, \"ticks\": \"\"}, \"colorscale\": [[0.0, \"#0d0887\"], [0.1111111111111111, \"#46039f\"], [0.2222222222222222, \"#7201a8\"], [0.3333333333333333, \"#9c179e\"], [0.4444444444444444, \"#bd3786\"], [0.5555555555555556, \"#d8576b\"], [0.6666666666666666, \"#ed7953\"], [0.7777777777777778, \"#fb9f3a\"], [0.8888888888888888, \"#fdca26\"], [1.0, \"#f0f921\"]], \"type\": \"heatmap\"}], \"heatmapgl\": [{\"colorbar\": {\"outlinewidth\": 0, \"ticks\": \"\"}, \"colorscale\": [[0.0, \"#0d0887\"], [0.1111111111111111, \"#46039f\"], [0.2222222222222222, \"#7201a8\"], [0.3333333333333333, \"#9c179e\"], [0.4444444444444444, \"#bd3786\"], [0.5555555555555556, \"#d8576b\"], [0.6666666666666666, \"#ed7953\"], [0.7777777777777778, \"#fb9f3a\"], [0.8888888888888888, \"#fdca26\"], [1.0, \"#f0f921\"]], \"type\": \"heatmapgl\"}], \"histogram\": [{\"marker\": {\"colorbar\": {\"outlinewidth\": 0, \"ticks\": \"\"}}, \"type\": \"histogram\"}], \"histogram2d\": [{\"colorbar\": {\"outlinewidth\": 0, \"ticks\": \"\"}, \"colorscale\": [[0.0, \"#0d0887\"], [0.1111111111111111, \"#46039f\"], [0.2222222222222222, \"#7201a8\"], [0.3333333333333333, \"#9c179e\"], [0.4444444444444444, \"#bd3786\"], [0.5555555555555556, \"#d8576b\"], [0.6666666666666666, \"#ed7953\"], [0.7777777777777778, \"#fb9f3a\"], [0.8888888888888888, \"#fdca26\"], [1.0, \"#f0f921\"]], \"type\": \"histogram2d\"}], \"histogram2dcontour\": [{\"colorbar\": {\"outlinewidth\": 0, \"ticks\": \"\"}, \"colorscale\": [[0.0, \"#0d0887\"], [0.1111111111111111, \"#46039f\"], [0.2222222222222222, \"#7201a8\"], [0.3333333333333333, \"#9c179e\"], [0.4444444444444444, \"#bd3786\"], [0.5555555555555556, \"#d8576b\"], [0.6666666666666666, \"#ed7953\"], [0.7777777777777778, \"#fb9f3a\"], [0.8888888888888888, \"#fdca26\"], [1.0, \"#f0f921\"]], \"type\": \"histogram2dcontour\"}], \"mesh3d\": [{\"colorbar\": {\"outlinewidth\": 0, \"ticks\": \"\"}, \"type\": \"mesh3d\"}], \"parcoords\": [{\"line\": {\"colorbar\": {\"outlinewidth\": 0, \"ticks\": \"\"}}, \"type\": \"parcoords\"}], \"pie\": [{\"automargin\": true, \"type\": \"pie\"}], \"scatter\": [{\"marker\": {\"colorbar\": {\"outlinewidth\": 0, \"ticks\": \"\"}}, \"type\": \"scatter\"}], \"scatter3d\": [{\"line\": {\"colorbar\": {\"outlinewidth\": 0, \"ticks\": \"\"}}, \"marker\": {\"colorbar\": {\"outlinewidth\": 0, \"ticks\": \"\"}}, \"type\": \"scatter3d\"}], \"scattercarpet\": [{\"marker\": {\"colorbar\": {\"outlinewidth\": 0, \"ticks\": \"\"}}, \"type\": \"scattercarpet\"}], \"scattergeo\": [{\"marker\": {\"colorbar\": {\"outlinewidth\": 0, \"ticks\": \"\"}}, \"type\": \"scattergeo\"}], \"scattergl\": [{\"marker\": {\"colorbar\": {\"outlinewidth\": 0, \"ticks\": \"\"}}, \"type\": \"scattergl\"}], \"scattermapbox\": [{\"marker\": {\"colorbar\": {\"outlinewidth\": 0, \"ticks\": \"\"}}, \"type\": \"scattermapbox\"}], \"scatterpolar\": [{\"marker\": {\"colorbar\": {\"outlinewidth\": 0, \"ticks\": \"\"}}, \"type\": \"scatterpolar\"}], \"scatterpolargl\": [{\"marker\": {\"colorbar\": {\"outlinewidth\": 0, \"ticks\": \"\"}}, \"type\": \"scatterpolargl\"}], \"scatterternary\": [{\"marker\": {\"colorbar\": {\"outlinewidth\": 0, \"ticks\": \"\"}}, \"type\": \"scatterternary\"}], \"surface\": [{\"colorbar\": {\"outlinewidth\": 0, \"ticks\": \"\"}, \"colorscale\": [[0.0, \"#0d0887\"], [0.1111111111111111, \"#46039f\"], [0.2222222222222222, \"#7201a8\"], [0.3333333333333333, \"#9c179e\"], [0.4444444444444444, \"#bd3786\"], [0.5555555555555556, \"#d8576b\"], [0.6666666666666666, \"#ed7953\"], [0.7777777777777778, \"#fb9f3a\"], [0.8888888888888888, \"#fdca26\"], [1.0, \"#f0f921\"]], \"type\": \"surface\"}], \"table\": [{\"cells\": {\"fill\": {\"color\": \"#EBF0F8\"}, \"line\": {\"color\": \"white\"}}, \"header\": {\"fill\": {\"color\": \"#C8D4E3\"}, \"line\": {\"color\": \"white\"}}, \"type\": \"table\"}]}, \"layout\": {\"annotationdefaults\": {\"arrowcolor\": \"#2a3f5f\", \"arrowhead\": 0, \"arrowwidth\": 1}, \"autotypenumbers\": \"strict\", \"coloraxis\": {\"colorbar\": {\"outlinewidth\": 0, \"ticks\": \"\"}}, \"colorscale\": {\"diverging\": [[0, \"#8e0152\"], [0.1, \"#c51b7d\"], [0.2, \"#de77ae\"], [0.3, \"#f1b6da\"], [0.4, \"#fde0ef\"], [0.5, \"#f7f7f7\"], [0.6, \"#e6f5d0\"], [0.7, \"#b8e186\"], [0.8, \"#7fbc41\"], [0.9, \"#4d9221\"], [1, \"#276419\"]], \"sequential\": [[0.0, \"#0d0887\"], [0.1111111111111111, \"#46039f\"], [0.2222222222222222, \"#7201a8\"], [0.3333333333333333, \"#9c179e\"], [0.4444444444444444, \"#bd3786\"], [0.5555555555555556, \"#d8576b\"], [0.6666666666666666, \"#ed7953\"], [0.7777777777777778, \"#fb9f3a\"], [0.8888888888888888, \"#fdca26\"], [1.0, \"#f0f921\"]], \"sequentialminus\": [[0.0, \"#0d0887\"], [0.1111111111111111, \"#46039f\"], [0.2222222222222222, \"#7201a8\"], [0.3333333333333333, \"#9c179e\"], [0.4444444444444444, \"#bd3786\"], [0.5555555555555556, \"#d8576b\"], [0.6666666666666666, \"#ed7953\"], [0.7777777777777778, \"#fb9f3a\"], [0.8888888888888888, \"#fdca26\"], [1.0, \"#f0f921\"]]}, \"colorway\": [\"#636efa\", \"#EF553B\", \"#00cc96\", \"#ab63fa\", \"#FFA15A\", \"#19d3f3\", \"#FF6692\", \"#B6E880\", \"#FF97FF\", \"#FECB52\"], \"font\": {\"color\": \"#2a3f5f\"}, \"geo\": {\"bgcolor\": \"white\", \"lakecolor\": \"white\", \"landcolor\": \"#E5ECF6\", \"showlakes\": true, \"showland\": true, \"subunitcolor\": \"white\"}, \"hoverlabel\": {\"align\": \"left\"}, \"hovermode\": \"closest\", \"mapbox\": {\"style\": \"light\"}, \"paper_bgcolor\": \"white\", \"plot_bgcolor\": \"#E5ECF6\", \"polar\": {\"angularaxis\": {\"gridcolor\": \"white\", \"linecolor\": \"white\", \"ticks\": \"\"}, \"bgcolor\": \"#E5ECF6\", \"radialaxis\": {\"gridcolor\": \"white\", \"linecolor\": \"white\", \"ticks\": \"\"}}, \"scene\": {\"xaxis\": {\"backgroundcolor\": \"#E5ECF6\", \"gridcolor\": \"white\", \"gridwidth\": 2, \"linecolor\": \"white\", \"showbackground\": true, \"ticks\": \"\", \"zerolinecolor\": \"white\"}, \"yaxis\": {\"backgroundcolor\": \"#E5ECF6\", \"gridcolor\": \"white\", \"gridwidth\": 2, \"linecolor\": \"white\", \"showbackground\": true, \"ticks\": \"\", \"zerolinecolor\": \"white\"}, \"zaxis\": {\"backgroundcolor\": \"#E5ECF6\", \"gridcolor\": \"white\", \"gridwidth\": 2, \"linecolor\": \"white\", \"showbackground\": true, \"ticks\": \"\", \"zerolinecolor\": \"white\"}}, \"shapedefaults\": {\"line\": {\"color\": \"#2a3f5f\"}}, \"ternary\": {\"aaxis\": {\"gridcolor\": \"white\", \"linecolor\": \"white\", \"ticks\": \"\"}, \"baxis\": {\"gridcolor\": \"white\", \"linecolor\": \"white\", \"ticks\": \"\"}, \"bgcolor\": \"#E5ECF6\", \"caxis\": {\"gridcolor\": \"white\", \"linecolor\": \"white\", \"ticks\": \"\"}}, \"title\": {\"x\": 0.05}, \"xaxis\": {\"automargin\": true, \"gridcolor\": \"white\", \"linecolor\": \"white\", \"ticks\": \"\", \"title\": {\"standoff\": 15}, \"zerolinecolor\": \"white\", \"zerolinewidth\": 2}, \"yaxis\": {\"automargin\": true, \"gridcolor\": \"white\", \"linecolor\": \"white\", \"ticks\": \"\", \"title\": {\"standoff\": 15}, \"zerolinecolor\": \"white\", \"zerolinewidth\": 2}}}, \"xaxis\": {\"anchor\": \"y\", \"domain\": [0.0, 1.0], \"title\": {\"text\": \"second_name\"}}, \"yaxis\": {\"anchor\": \"x\", \"domain\": [0.0, 1.0], \"title\": {\"text\": \"value\"}}},                        {\"responsive\": true}                    ).then(function(){\n",
       "                            \n",
       "var gd = document.getElementById('2d98d43a-4cab-4df5-9122-8fc6e09fff8a');\n",
       "var x = new MutationObserver(function (mutations, observer) {{\n",
       "        var display = window.getComputedStyle(gd).display;\n",
       "        if (!display || display === 'none') {{\n",
       "            console.log([gd, 'removed!']);\n",
       "            Plotly.purge(gd);\n",
       "            observer.disconnect();\n",
       "        }}\n",
       "}});\n",
       "\n",
       "// Listen for the removal of the full notebook cells\n",
       "var notebookContainer = gd.closest('#notebook-container');\n",
       "if (notebookContainer) {{\n",
       "    x.observe(notebookContainer, {childList: true});\n",
       "}}\n",
       "\n",
       "// Listen for the clearing of the current output cell\n",
       "var outputEl = gd.closest('.output');\n",
       "if (outputEl) {{\n",
       "    x.observe(outputEl, {childList: true});\n",
       "}}\n",
       "\n",
       "                        })                };                });            </script>        </div>"
      ]
     },
     "metadata": {},
     "output_type": "display_data"
    },
    {
     "data": {
      "application/vnd.plotly.v1+json": {
       "config": {
        "plotlyServerURL": "https://plot.ly"
       },
       "data": [
        {
         "alignmentgroup": "True",
         "customdata": [
          [
           "Southampton"
          ],
          [
           "Aston Villa"
          ],
          [
           "Arsenal"
          ],
          [
           "Wolves"
          ],
          [
           "Leeds"
          ],
          [
           "Leeds"
          ],
          [
           "Leeds"
          ],
          [
           "Leeds"
          ],
          [
           "Leicester"
          ],
          [
           "Leicester"
          ],
          [
           "Fulham"
          ],
          [
           "Fulham"
          ],
          [
           "Fulham"
          ],
          [
           "Fulham"
          ],
          [
           "Fulham"
          ],
          [
           "Everton"
          ],
          [
           "Everton"
          ],
          [
           "Everton"
          ],
          [
           "Crystal Palace"
          ],
          [
           "Crystal Palace"
          ],
          [
           "Crystal Palace"
          ],
          [
           "Crystal Palace"
          ],
          [
           "Liverpool"
          ],
          [
           "Man City"
          ],
          [
           "Man City"
          ],
          [
           "Crystal Palace"
          ],
          [
           "Wolves"
          ],
          [
           "Wolves"
          ],
          [
           "Wolves"
          ],
          [
           "West Ham"
          ],
          [
           "West Ham"
          ],
          [
           "West Brom"
          ],
          [
           "Spurs"
          ],
          [
           "Spurs"
          ],
          [
           "Spurs"
          ],
          [
           "Man City"
          ],
          [
           "Spurs"
          ],
          [
           "Sheffield Utd"
          ],
          [
           "Newcastle"
          ],
          [
           "Newcastle"
          ],
          [
           "Man Utd"
          ],
          [
           "Man Utd"
          ],
          [
           "Man Utd"
          ],
          [
           "Man Utd"
          ],
          [
           "Man Utd"
          ],
          [
           "Man Utd"
          ],
          [
           "Southampton"
          ],
          [
           "Chelsea"
          ],
          [
           "Wolves"
          ],
          [
           "Aston Villa"
          ],
          [
           "Brighton"
          ],
          [
           "Burnley"
          ],
          [
           "Brighton"
          ],
          [
           "Brighton"
          ],
          [
           "Brighton"
          ],
          [
           "Aston Villa"
          ],
          [
           "Burnley"
          ],
          [
           "Burnley"
          ],
          [
           "Aston Villa"
          ],
          [
           "Burnley"
          ],
          [
           "Arsenal"
          ],
          [
           "Fulham"
          ],
          [
           "Wolves"
          ],
          [
           "Fulham"
          ],
          [
           "Liverpool"
          ],
          [
           "Everton"
          ],
          [
           "Wolves"
          ],
          [
           "Southampton"
          ],
          [
           "Arsenal"
          ],
          [
           "Leeds"
          ],
          [
           "West Brom"
          ],
          [
           "Man Utd"
          ],
          [
           "Burnley"
          ],
          [
           "Man Utd"
          ],
          [
           "Arsenal"
          ],
          [
           "Sheffield Utd"
          ],
          [
           "Southampton"
          ],
          [
           "Leicester"
          ],
          [
           "Man City"
          ],
          [
           "Crystal Palace"
          ],
          [
           "Sheffield Utd"
          ],
          [
           "Everton"
          ],
          [
           "West Brom"
          ],
          [
           "Leicester"
          ],
          [
           "Brighton"
          ],
          [
           "Liverpool"
          ],
          [
           "West Brom"
          ],
          [
           "Chelsea"
          ],
          [
           "Spurs"
          ],
          [
           "Southampton"
          ],
          [
           "Fulham"
          ],
          [
           "Arsenal"
          ],
          [
           "Liverpool"
          ],
          [
           "Sheffield Utd"
          ],
          [
           "Burnley"
          ],
          [
           "Wolves"
          ],
          [
           "Liverpool"
          ],
          [
           "Liverpool"
          ],
          [
           "Fulham"
          ],
          [
           "Wolves"
          ],
          [
           "Newcastle"
          ],
          [
           "Newcastle"
          ],
          [
           "Sheffield Utd"
          ],
          [
           "Burnley"
          ],
          [
           "Crystal Palace"
          ],
          [
           "Wolves"
          ],
          [
           "Leicester"
          ],
          [
           "Man City"
          ],
          [
           "Man Utd"
          ],
          [
           "Liverpool"
          ],
          [
           "Leeds"
          ],
          [
           "West Brom"
          ],
          [
           "Arsenal"
          ],
          [
           "Spurs"
          ],
          [
           "Sheffield Utd"
          ],
          [
           "Leicester"
          ],
          [
           "Newcastle"
          ],
          [
           "Leicester"
          ],
          [
           "Man Utd"
          ],
          [
           "West Ham"
          ],
          [
           "West Ham"
          ],
          [
           "Sheffield Utd"
          ],
          [
           "Arsenal"
          ],
          [
           "Crystal Palace"
          ],
          [
           "Newcastle"
          ],
          [
           "Aston Villa"
          ],
          [
           "West Ham"
          ],
          [
           "Sheffield Utd"
          ],
          [
           "Newcastle"
          ],
          [
           "Sheffield Utd"
          ],
          [
           "Leicester"
          ],
          [
           "Wolves"
          ],
          [
           "Aston Villa"
          ],
          [
           "Southampton"
          ],
          [
           "Newcastle"
          ],
          [
           "Arsenal"
          ],
          [
           "Chelsea"
          ],
          [
           "West Brom"
          ],
          [
           "Brighton"
          ],
          [
           "Liverpool"
          ],
          [
           "Man City"
          ],
          [
           "Crystal Palace"
          ],
          [
           "Leeds"
          ],
          [
           "Spurs"
          ],
          [
           "Spurs"
          ],
          [
           "Man City"
          ],
          [
           "Sheffield Utd"
          ],
          [
           "Man City"
          ],
          [
           "Chelsea"
          ],
          [
           "Crystal Palace"
          ],
          [
           "Liverpool"
          ],
          [
           "West Brom"
          ],
          [
           "Newcastle"
          ],
          [
           "Everton"
          ],
          [
           "Sheffield Utd"
          ],
          [
           "Crystal Palace"
          ],
          [
           "Brighton"
          ],
          [
           "Crystal Palace"
          ],
          [
           "West Ham"
          ],
          [
           "Sheffield Utd"
          ],
          [
           "West Ham"
          ],
          [
           "Newcastle"
          ],
          [
           "Man City"
          ],
          [
           "Newcastle"
          ],
          [
           "Fulham"
          ],
          [
           "Arsenal"
          ],
          [
           "West Brom"
          ],
          [
           "Wolves"
          ],
          [
           "Spurs"
          ],
          [
           "Burnley"
          ],
          [
           "Everton"
          ],
          [
           "Everton"
          ],
          [
           "Fulham"
          ],
          [
           "Spurs"
          ],
          [
           "Leicester"
          ],
          [
           "Leicester"
          ],
          [
           "Spurs"
          ],
          [
           "Everton"
          ],
          [
           "West Brom"
          ],
          [
           "Everton"
          ],
          [
           "Leeds"
          ],
          [
           "Spurs"
          ],
          [
           "Crystal Palace"
          ],
          [
           "Chelsea"
          ],
          [
           "Spurs"
          ],
          [
           "Leeds"
          ],
          [
           "Man City"
          ],
          [
           "Chelsea"
          ],
          [
           "Wolves"
          ],
          [
           "Brighton"
          ],
          [
           "Leicester"
          ],
          [
           "West Ham"
          ],
          [
           "Liverpool"
          ],
          [
           "Burnley"
          ],
          [
           "Wolves"
          ],
          [
           "West Brom"
          ],
          [
           "Arsenal"
          ],
          [
           "West Brom"
          ],
          [
           "Southampton"
          ],
          [
           "Burnley"
          ],
          [
           "Chelsea"
          ],
          [
           "Chelsea"
          ],
          [
           "Wolves"
          ],
          [
           "Arsenal"
          ],
          [
           "Leeds"
          ],
          [
           "Liverpool"
          ],
          [
           "Southampton"
          ],
          [
           "Southampton"
          ],
          [
           "Brighton"
          ],
          [
           "Chelsea"
          ],
          [
           "West Ham"
          ],
          [
           "Aston Villa"
          ],
          [
           "Leeds"
          ],
          [
           "Burnley"
          ],
          [
           "Chelsea"
          ],
          [
           "Wolves"
          ],
          [
           "Arsenal"
          ],
          [
           "Brighton"
          ],
          [
           "Man Utd"
          ],
          [
           "Southampton"
          ],
          [
           "Burnley"
          ],
          [
           "Fulham"
          ],
          [
           "Everton"
          ],
          [
           "Man City"
          ],
          [
           "Brighton"
          ],
          [
           "Fulham"
          ],
          [
           "Leicester"
          ],
          [
           "West Ham"
          ],
          [
           "Fulham"
          ],
          [
           "Man Utd"
          ],
          [
           "Man Utd"
          ],
          [
           "Aston Villa"
          ],
          [
           "Man Utd"
          ],
          [
           "Man City"
          ],
          [
           "Aston Villa"
          ],
          [
           "Aston Villa"
          ],
          [
           "West Ham"
          ],
          [
           "Man City"
          ],
          [
           "Leeds"
          ]
         ],
         "hovertemplate": "second_name=%{x}<br>value=%{y}<br>team=%{customdata[0]}<extra></extra>",
         "legendgroup": "",
         "marker": {
          "color": "#636efa"
         },
         "name": "",
         "offsetgroup": "",
         "orientation": "v",
         "showlegend": false,
         "textposition": "auto",
         "type": "bar",
         "x": [
          "Ramsay",
          "Taylor",
          "Papastathopoulos",
          "Lonwijk",
          "Berardi",
          "Cresswell",
          "Casey",
          "Douglas",
          "Daley-Campbell",
          "Benkovic",
          "Kongolo",
          "Sessegnon",
          "Mawson",
          "Christie",
          "Hector",
          "Astley",
          "John",
          "Branthwaite",
          "Hannam",
          "Inniss",
          "Woods",
          "Ferguson",
          "Davies",
          "Otamendi",
          "Harwood-Bellis",
          "Kelly",
          "Marques",
          "Richards",
          "Bennett",
          "Baptiste",
          "Alves",
          "Kipre",
          "Carter-Vickers",
          "Foyth",
          "Sessegnon",
          "Mbete",
          "Rose",
          "Gordon",
          "Watts",
          "Lejeune",
          "Mengi",
          "Dalot Teixeira",
          "Fosu-Mensah",
          "Jones",
          "Rojo",
          "Smalling",
          "Tchaptchet",
          "Tomori",
          "Bueno",
          "Guilbert",
          "Karbownik",
          "Gibson",
          "Clarke",
          "Montoya",
          "Duffy",
          "Bree",
          "Driscoll-Glennon",
          "Nartey",
          "Engels",
          "Thomas",
          "Saliba",
          "Odoi",
          "Silva Nascimento Vinagre",
          "Le Marchand",
          "Tsimikas",
          "Nkounkou",
          "Buur",
          "Vokins",
          "Kolasinac",
          "Davis",
          "Peltier",
          "Tuanzebe",
          "Bardsley",
          "Williams",
          "Mustafi",
          "O'Connell",
          "Valery",
          "Morgan",
          "Garcia",
          "Sakho",
          "Jagielka",
          "Kenny",
          "Gibbs",
          "Thomas",
          "Fernandes da Silva Junior",
          "Williams",
          "Hegazy",
          "Palmieri dos Santos",
          "Tanganga",
          "Salisu",
          "Ream",
          "Chambers",
          "Gomez",
          "Lowe",
          "Dunne",
          "Hoever",
          "van Dijk",
          "Williams",
          "Bryan",
          "Castro Otto",
          "Dummett",
          "Yedlin",
          "Robinson",
          "Long",
          "Tomkins",
          "Marçal",
          "Barbosa Pereira",
          "Aké",
          "Telles",
          "Kabak",
          "Llorente",
          "Ivanovic",
          "Marí",
          "Rodon",
          "Bryan",
          "Amartey",
          "Schär",
          "Fuchs",
          "Bailly",
          "Johnson",
          "Fredericks",
          "Stevens",
          "Soares",
          "Clyne",
          "Krafth",
          "Hause",
          "Diop",
          "Bogle",
          "Manquillo",
          "Egan",
          "Söyüncü",
          "Ait Nouri",
          "El Mohamady",
          "Stephens",
          "Fernández",
          "Luiz Moreira Marinho",
          "Alonso",
          "O'Shea",
          "Lamptey",
          "Matip",
          "Mendy",
          "Dann",
          "Koch",
          "Doherty",
          "Sánchez",
          "Luiz Rosa",
          "Basham",
          "Laporte",
          "Christensen",
          "Cahill",
          "Phillips",
          "Ajayi",
          "Clark",
          "Coleman",
          "Baldock",
          "Mitchell",
          "Burn",
          "van Aanholt",
          "Masuaku",
          "Ampadu",
          "Balbuena",
          "Lewis",
          "Zinchenko",
          "Lascelles",
          "Tete",
          "Magalhães",
          "Maitland-Niles",
          "Boly",
          "Davies",
          "Pieters",
          "Godfrey",
          "Mina",
          "Robinson",
          "Aurier",
          "Fofana",
          "Castagne",
          "Reguilón",
          "Digne",
          "Townsend",
          "Holgate",
          "Cooper",
          "Dier",
          "Ward",
          "Thiago",
          "Alderweireld",
          "Struijk",
          "Walker",
          "Rüdiger",
          "Kilman",
          "Webster",
          "Evans",
          "Dawson",
          "Alexander-Arnold",
          "Taylor",
          "Cabral Semedo",
          "Furlong",
          "Tierney",
          "Bartley",
          "Bertrand",
          "Tarkowski",
          "Zouma",
          "Azpilicueta",
          "Saïss",
          "Bellerín",
          "Ayling",
          "Robertson",
          "Vestergaard",
          "Walker-Peters",
          "Veltman",
          "James",
          "Ogbonna",
          "Cash",
          "Alioski",
          "Mee",
          "Chilwell",
          "Coady",
          "Holding",
          "White",
          "Lindelöf",
          "Bednarek",
          "Lowton",
          "Andersen",
          "Keane",
          "Cancelo",
          "Dunk",
          "Adarabioyo",
          "Justin",
          "Coufal",
          "Aina",
          "Shaw",
          "Maguire",
          "Mings",
          "Wan-Bissaka",
          "Gato Alves Dias",
          "Konsa Ngoyo",
          "Targett",
          "Cresswell",
          "Stones",
          "Dallas"
         ],
         "xaxis": "x",
         "y": [
          -0.8,
          -0.2,
          0,
          0,
          0,
          0,
          0,
          0,
          0,
          0,
          0,
          0,
          0,
          0,
          0,
          0,
          0,
          0,
          0,
          0,
          0,
          0,
          0,
          0,
          0,
          0,
          0,
          0,
          0,
          0,
          0,
          0,
          0,
          0,
          0,
          0,
          0,
          0,
          0,
          0,
          0,
          0,
          0,
          0,
          0,
          0,
          0,
          0,
          0,
          0,
          0,
          0,
          0,
          0,
          0,
          0,
          0,
          0,
          0,
          0,
          0,
          0.2,
          0.2,
          0.2,
          0.2,
          0.2,
          0.3,
          0.3,
          0.4,
          0.5,
          0.5,
          0.5,
          0.5,
          0.5,
          0.6,
          0.6,
          0.6,
          0.7,
          0.9,
          0.9,
          1,
          1.2,
          1.2,
          1.2,
          1.3,
          1.5,
          1.5,
          1.5,
          1.6,
          1.6,
          1.7,
          1.8,
          1.9,
          2.1,
          2.1,
          2.3,
          2.4,
          2.6,
          2.9,
          3,
          3,
          3,
          3.1,
          3.3,
          3.4,
          3.8,
          3.9,
          3.9,
          4.2,
          4.2,
          4.5,
          4.5,
          4.8,
          4.8,
          4.9,
          5.1,
          5.1,
          5.3,
          5.6,
          5.6,
          5.7,
          6,
          6.1,
          6.2,
          6.4,
          6.4,
          6.5,
          6.7,
          6.7,
          7,
          7,
          7,
          7,
          7.2,
          7.2,
          7.4,
          7.4,
          7.6,
          7.6,
          7.8,
          7.8,
          7.9,
          7.9,
          8,
          8.1,
          8.1,
          8.3,
          8.3,
          8.5,
          8.7,
          8.8,
          8.8,
          8.9,
          9,
          9,
          9.2,
          9.3,
          9.6,
          9.8,
          9.8,
          9.8,
          10.2,
          10.2,
          10.5,
          10.7,
          10.8,
          11.1,
          11.1,
          11.3,
          11.4,
          11.4,
          11.5,
          11.6,
          11.7,
          11.8,
          11.9,
          12.2,
          12.3,
          12.3,
          12.5,
          12.6,
          12.6,
          13,
          13,
          13,
          13,
          13.4,
          13.6,
          13.8,
          14.2,
          14.2,
          14.4,
          14.5,
          14.5,
          14.6,
          14.7,
          14.7,
          15,
          15.4,
          15.8,
          16.2,
          16.4,
          16.5,
          16.6,
          16.8,
          16.9,
          17,
          17,
          17.3,
          17.4,
          17.4,
          17.4,
          17.7,
          17.8,
          17.9,
          17.9,
          17.9,
          18,
          18.3,
          18.5,
          18.9,
          19.3,
          19.6,
          20.3,
          20.4,
          20.4,
          20.6,
          20.7,
          20.7,
          20.8,
          20.9,
          21.1,
          21.4,
          21.5,
          21.7,
          23.1,
          23.1,
          23.5,
          24.3
         ],
         "yaxis": "y"
        },
        {
         "customdata": [
          [
           40
          ],
          [
           42
          ],
          [
           48
          ],
          [
           40
          ],
          [
           40
          ],
          [
           40
          ],
          [
           38
          ],
          [
           38
          ],
          [
           40
          ],
          [
           43
          ],
          [
           43
          ],
          [
           43
          ],
          [
           43
          ],
          [
           42
          ],
          [
           41
          ],
          [
           40
          ],
          [
           40
          ],
          [
           39
          ],
          [
           40
          ],
          [
           40
          ],
          [
           40
          ],
          [
           38
          ],
          [
           48
          ],
          [
           49
          ],
          [
           40
          ],
          [
           41
          ],
          [
           39
          ],
          [
           40
          ],
          [
           44
          ],
          [
           40
          ],
          [
           40
          ],
          [
           43
          ],
          [
           39
          ],
          [
           43
          ],
          [
           47
          ],
          [
           40
          ],
          [
           47
          ],
          [
           40
          ],
          [
           39
          ],
          [
           43
          ],
          [
           39
          ],
          [
           48
          ],
          [
           43
          ],
          [
           48
          ],
          [
           48
          ],
          [
           49
          ],
          [
           40
          ],
          [
           47
          ],
          [
           40
          ],
          [
           43
          ],
          [
           45
          ],
          [
           39
          ],
          [
           44
          ],
          [
           45
          ],
          [
           43
          ],
          [
           45
          ],
          [
           39
          ],
          [
           40
          ],
          [
           44
          ],
          [
           39
          ],
          [
           40
          ],
          [
           42
          ],
          [
           41
          ],
          [
           41
          ],
          [
           49
          ],
          [
           40
          ],
          [
           39
          ],
          [
           39
          ],
          [
           48
          ],
          [
           38
          ],
          [
           40
          ],
          [
           41
          ],
          [
           44
          ],
          [
           42
          ],
          [
           50
          ],
          [
           47
          ],
          [
           47
          ],
          [
           44
          ],
          [
           47
          ],
          [
           44
          ],
          [
           39
          ],
          [
           43
          ],
          [
           43
          ],
          [
           41
          ],
          [
           39
          ],
          [
           40
          ],
          [
           41
          ],
          [
           47
          ],
          [
           49
          ],
          [
           43
          ],
          [
           42
          ],
          [
           45
          ],
          [
           52
          ],
          [
           42
          ],
          [
           38
          ],
          [
           44
          ],
          [
           62
          ],
          [
           38
          ],
          [
           45
          ],
          [
           54
          ],
          [
           44
          ],
          [
           43
          ],
          [
           42
          ],
          [
           43
          ],
          [
           44
          ],
          [
           47
          ],
          [
           59
          ],
          [
           54
          ],
          [
           53
          ],
          [
           50
          ],
          [
           44
          ],
          [
           44
          ],
          [
           44
          ],
          [
           50
          ],
          [
           39
          ],
          [
           39
          ],
          [
           49
          ],
          [
           45
          ],
          [
           48
          ],
          [
           39
          ],
          [
           42
          ],
          [
           50
          ],
          [
           46
          ],
          [
           45
          ],
          [
           42
          ],
          [
           44
          ],
          [
           43
          ],
          [
           43
          ],
          [
           42
          ],
          [
           47
          ],
          [
           53
          ],
          [
           50
          ],
          [
           43
          ],
          [
           46
          ],
          [
           47
          ],
          [
           54
          ],
          [
           57
          ],
          [
           42
          ],
          [
           46
          ],
          [
           54
          ],
          [
           59
          ],
          [
           42
          ],
          [
           43
          ],
          [
           56
          ],
          [
           52
          ],
          [
           54
          ],
          [
           46
          ],
          [
           60
          ],
          [
           47
          ],
          [
           45
          ],
          [
           40
          ],
          [
           48
          ],
          [
           45
          ],
          [
           48
          ],
          [
           49
          ],
          [
           38
          ],
          [
           42
          ],
          [
           54
          ],
          [
           43
          ],
          [
           43
          ],
          [
           41
          ],
          [
           42
          ],
          [
           55
          ],
          [
           42
          ],
          [
           43
          ],
          [
           49
          ],
          [
           46
          ],
          [
           54
          ],
          [
           46
          ],
          [
           43
          ],
          [
           50
          ],
          [
           55
          ],
          [
           44
          ],
          [
           52
          ],
          [
           50
          ],
          [
           57
          ],
          [
           55
          ],
          [
           62
          ],
          [
           44
          ],
          [
           48
          ],
          [
           43
          ],
          [
           47
          ],
          [
           43
          ],
          [
           56
          ],
          [
           54
          ],
          [
           40
          ],
          [
           61
          ],
          [
           47
          ],
          [
           39
          ],
          [
           43
          ],
          [
           55
          ],
          [
           45
          ],
          [
           73
          ],
          [
           44
          ],
          [
           52
          ],
          [
           45
          ],
          [
           53
          ],
          [
           44
          ],
          [
           50
          ],
          [
           53
          ],
          [
           53
          ],
          [
           59
          ],
          [
           49
          ],
          [
           50
          ],
          [
           44
          ],
          [
           71
          ],
          [
           47
          ],
          [
           47
          ],
          [
           44
          ],
          [
           50
          ],
          [
           47
          ],
          [
           50
          ],
          [
           43
          ],
          [
           49
          ],
          [
           58
          ],
          [
           48
          ],
          [
           42
          ],
          [
           45
          ],
          [
           48
          ],
          [
           48
          ],
          [
           44
          ],
          [
           45
          ],
          [
           51
          ],
          [
           60
          ],
          [
           50
          ],
          [
           45
          ],
          [
           49
          ],
          [
           46
          ],
          [
           45
          ],
          [
           53
          ],
          [
           55
          ],
          [
           54
          ],
          [
           57
          ],
          [
           62
          ],
          [
           47
          ],
          [
           51
          ],
          [
           59
          ],
          [
           52
          ],
          [
           51
          ]
         ],
         "hovertemplate": "second_name=%{x}<br>total_points=%{y}<br>now_cost=%{customdata[0]}<extra></extra>",
         "legendgroup": "",
         "marker": {
          "color": "#636efa",
          "symbol": "circle"
         },
         "mode": "markers",
         "name": "",
         "orientation": "v",
         "showlegend": false,
         "type": "scatter",
         "x": [
          "Ramsay",
          "Taylor",
          "Papastathopoulos",
          "Lonwijk",
          "Berardi",
          "Cresswell",
          "Casey",
          "Douglas",
          "Daley-Campbell",
          "Benkovic",
          "Kongolo",
          "Sessegnon",
          "Mawson",
          "Christie",
          "Hector",
          "Astley",
          "John",
          "Branthwaite",
          "Hannam",
          "Inniss",
          "Woods",
          "Ferguson",
          "Davies",
          "Otamendi",
          "Harwood-Bellis",
          "Kelly",
          "Marques",
          "Richards",
          "Bennett",
          "Baptiste",
          "Alves",
          "Kipre",
          "Carter-Vickers",
          "Foyth",
          "Sessegnon",
          "Mbete",
          "Rose",
          "Gordon",
          "Watts",
          "Lejeune",
          "Mengi",
          "Dalot Teixeira",
          "Fosu-Mensah",
          "Jones",
          "Rojo",
          "Smalling",
          "Tchaptchet",
          "Tomori",
          "Bueno",
          "Guilbert",
          "Karbownik",
          "Gibson",
          "Clarke",
          "Montoya",
          "Duffy",
          "Bree",
          "Driscoll-Glennon",
          "Nartey",
          "Engels",
          "Thomas",
          "Saliba",
          "Odoi",
          "Silva Nascimento Vinagre",
          "Le Marchand",
          "Tsimikas",
          "Nkounkou",
          "Buur",
          "Vokins",
          "Kolasinac",
          "Davis",
          "Peltier",
          "Tuanzebe",
          "Bardsley",
          "Williams",
          "Mustafi",
          "O'Connell",
          "Valery",
          "Morgan",
          "Garcia",
          "Sakho",
          "Jagielka",
          "Kenny",
          "Gibbs",
          "Thomas",
          "Fernandes da Silva Junior",
          "Williams",
          "Hegazy",
          "Palmieri dos Santos",
          "Tanganga",
          "Salisu",
          "Ream",
          "Chambers",
          "Gomez",
          "Lowe",
          "Dunne",
          "Hoever",
          "van Dijk",
          "Williams",
          "Bryan",
          "Castro Otto",
          "Dummett",
          "Yedlin",
          "Robinson",
          "Long",
          "Tomkins",
          "Marçal",
          "Barbosa Pereira",
          "Aké",
          "Telles",
          "Kabak",
          "Llorente",
          "Ivanovic",
          "Marí",
          "Rodon",
          "Bryan",
          "Amartey",
          "Schär",
          "Fuchs",
          "Bailly",
          "Johnson",
          "Fredericks",
          "Stevens",
          "Soares",
          "Clyne",
          "Krafth",
          "Hause",
          "Diop",
          "Bogle",
          "Manquillo",
          "Egan",
          "Söyüncü",
          "Ait Nouri",
          "El Mohamady",
          "Stephens",
          "Fernández",
          "Luiz Moreira Marinho",
          "Alonso",
          "O'Shea",
          "Lamptey",
          "Matip",
          "Mendy",
          "Dann",
          "Koch",
          "Doherty",
          "Sánchez",
          "Luiz Rosa",
          "Basham",
          "Laporte",
          "Christensen",
          "Cahill",
          "Phillips",
          "Ajayi",
          "Clark",
          "Coleman",
          "Baldock",
          "Mitchell",
          "Burn",
          "van Aanholt",
          "Masuaku",
          "Ampadu",
          "Balbuena",
          "Lewis",
          "Zinchenko",
          "Lascelles",
          "Tete",
          "Magalhães",
          "Maitland-Niles",
          "Boly",
          "Davies",
          "Pieters",
          "Godfrey",
          "Mina",
          "Robinson",
          "Aurier",
          "Fofana",
          "Castagne",
          "Reguilón",
          "Digne",
          "Townsend",
          "Holgate",
          "Cooper",
          "Dier",
          "Ward",
          "Thiago",
          "Alderweireld",
          "Struijk",
          "Walker",
          "Rüdiger",
          "Kilman",
          "Webster",
          "Evans",
          "Dawson",
          "Alexander-Arnold",
          "Taylor",
          "Cabral Semedo",
          "Furlong",
          "Tierney",
          "Bartley",
          "Bertrand",
          "Tarkowski",
          "Zouma",
          "Azpilicueta",
          "Saïss",
          "Bellerín",
          "Ayling",
          "Robertson",
          "Vestergaard",
          "Walker-Peters",
          "Veltman",
          "James",
          "Ogbonna",
          "Cash",
          "Alioski",
          "Mee",
          "Chilwell",
          "Coady",
          "Holding",
          "White",
          "Lindelöf",
          "Bednarek",
          "Lowton",
          "Andersen",
          "Keane",
          "Cancelo",
          "Dunk",
          "Adarabioyo",
          "Justin",
          "Coufal",
          "Aina",
          "Shaw",
          "Maguire",
          "Mings",
          "Wan-Bissaka",
          "Gato Alves Dias",
          "Konsa Ngoyo",
          "Targett",
          "Cresswell",
          "Stones",
          "Dallas"
         ],
         "xaxis": "x",
         "y": [
          -3,
          -1,
          0,
          0,
          0,
          0,
          0,
          0,
          0,
          0,
          0,
          0,
          0,
          0,
          0,
          0,
          0,
          0,
          0,
          0,
          0,
          0,
          0,
          0,
          0,
          0,
          0,
          0,
          0,
          0,
          0,
          0,
          0,
          0,
          0,
          0,
          0,
          0,
          0,
          0,
          0,
          0,
          0,
          0,
          0,
          0,
          0,
          0,
          0,
          0,
          0,
          0,
          0,
          0,
          0,
          0,
          0,
          0,
          0,
          0,
          0,
          1,
          1,
          1,
          1,
          1,
          1,
          1,
          2,
          2,
          2,
          2,
          2,
          2,
          3,
          3,
          3,
          3,
          4,
          4,
          4,
          5,
          5,
          5,
          5,
          6,
          6,
          7,
          8,
          7,
          7,
          8,
          10,
          9,
          8,
          10,
          15,
          10,
          13,
          16,
          13,
          13,
          13,
          14,
          15,
          18,
          23,
          21,
          22,
          21,
          20,
          20,
          21,
          24,
          19,
          20,
          25,
          24,
          27,
          22,
          24,
          30,
          28,
          28,
          27,
          28,
          28,
          29,
          28,
          33,
          37,
          35,
          30,
          33,
          34,
          40,
          42,
          32,
          35,
          42,
          46,
          33,
          34,
          45,
          42,
          44,
          38,
          50,
          40,
          39,
          35,
          42,
          40,
          43,
          44,
          35,
          39,
          52,
          42,
          42,
          40,
          43,
          56,
          44,
          46,
          53,
          51,
          60,
          52,
          49,
          57,
          63,
          51,
          61,
          59,
          68,
          67,
          76,
          54,
          60,
          54,
          59,
          56,
          73,
          70,
          52,
          82,
          64,
          54,
          61,
          78,
          65,
          106,
          64,
          76,
          66,
          78,
          66,
          77,
          84,
          86,
          97,
          81,
          83,
          74,
          120,
          80,
          80,
          76,
          87,
          82,
          87,
          76,
          87,
          104,
          86,
          75,
          81,
          88,
          89,
          83,
          87,
          100,
          122,
          102,
          92,
          101,
          95,
          93,
          110,
          115,
          114,
          122,
          133,
          102,
          118,
          136,
          122,
          124
         ],
         "yaxis": "y"
        }
       ],
       "layout": {
        "barmode": "relative",
        "legend": {
         "tracegroupgap": 0
        },
        "margin": {
         "t": 60
        },
        "template": {
         "data": {
          "bar": [
           {
            "error_x": {
             "color": "#2a3f5f"
            },
            "error_y": {
             "color": "#2a3f5f"
            },
            "marker": {
             "line": {
              "color": "#E5ECF6",
              "width": 0.5
             }
            },
            "type": "bar"
           }
          ],
          "barpolar": [
           {
            "marker": {
             "line": {
              "color": "#E5ECF6",
              "width": 0.5
             }
            },
            "type": "barpolar"
           }
          ],
          "carpet": [
           {
            "aaxis": {
             "endlinecolor": "#2a3f5f",
             "gridcolor": "white",
             "linecolor": "white",
             "minorgridcolor": "white",
             "startlinecolor": "#2a3f5f"
            },
            "baxis": {
             "endlinecolor": "#2a3f5f",
             "gridcolor": "white",
             "linecolor": "white",
             "minorgridcolor": "white",
             "startlinecolor": "#2a3f5f"
            },
            "type": "carpet"
           }
          ],
          "choropleth": [
           {
            "colorbar": {
             "outlinewidth": 0,
             "ticks": ""
            },
            "type": "choropleth"
           }
          ],
          "contour": [
           {
            "colorbar": {
             "outlinewidth": 0,
             "ticks": ""
            },
            "colorscale": [
             [
              0,
              "#0d0887"
             ],
             [
              0.1111111111111111,
              "#46039f"
             ],
             [
              0.2222222222222222,
              "#7201a8"
             ],
             [
              0.3333333333333333,
              "#9c179e"
             ],
             [
              0.4444444444444444,
              "#bd3786"
             ],
             [
              0.5555555555555556,
              "#d8576b"
             ],
             [
              0.6666666666666666,
              "#ed7953"
             ],
             [
              0.7777777777777778,
              "#fb9f3a"
             ],
             [
              0.8888888888888888,
              "#fdca26"
             ],
             [
              1,
              "#f0f921"
             ]
            ],
            "type": "contour"
           }
          ],
          "contourcarpet": [
           {
            "colorbar": {
             "outlinewidth": 0,
             "ticks": ""
            },
            "type": "contourcarpet"
           }
          ],
          "heatmap": [
           {
            "colorbar": {
             "outlinewidth": 0,
             "ticks": ""
            },
            "colorscale": [
             [
              0,
              "#0d0887"
             ],
             [
              0.1111111111111111,
              "#46039f"
             ],
             [
              0.2222222222222222,
              "#7201a8"
             ],
             [
              0.3333333333333333,
              "#9c179e"
             ],
             [
              0.4444444444444444,
              "#bd3786"
             ],
             [
              0.5555555555555556,
              "#d8576b"
             ],
             [
              0.6666666666666666,
              "#ed7953"
             ],
             [
              0.7777777777777778,
              "#fb9f3a"
             ],
             [
              0.8888888888888888,
              "#fdca26"
             ],
             [
              1,
              "#f0f921"
             ]
            ],
            "type": "heatmap"
           }
          ],
          "heatmapgl": [
           {
            "colorbar": {
             "outlinewidth": 0,
             "ticks": ""
            },
            "colorscale": [
             [
              0,
              "#0d0887"
             ],
             [
              0.1111111111111111,
              "#46039f"
             ],
             [
              0.2222222222222222,
              "#7201a8"
             ],
             [
              0.3333333333333333,
              "#9c179e"
             ],
             [
              0.4444444444444444,
              "#bd3786"
             ],
             [
              0.5555555555555556,
              "#d8576b"
             ],
             [
              0.6666666666666666,
              "#ed7953"
             ],
             [
              0.7777777777777778,
              "#fb9f3a"
             ],
             [
              0.8888888888888888,
              "#fdca26"
             ],
             [
              1,
              "#f0f921"
             ]
            ],
            "type": "heatmapgl"
           }
          ],
          "histogram": [
           {
            "marker": {
             "colorbar": {
              "outlinewidth": 0,
              "ticks": ""
             }
            },
            "type": "histogram"
           }
          ],
          "histogram2d": [
           {
            "colorbar": {
             "outlinewidth": 0,
             "ticks": ""
            },
            "colorscale": [
             [
              0,
              "#0d0887"
             ],
             [
              0.1111111111111111,
              "#46039f"
             ],
             [
              0.2222222222222222,
              "#7201a8"
             ],
             [
              0.3333333333333333,
              "#9c179e"
             ],
             [
              0.4444444444444444,
              "#bd3786"
             ],
             [
              0.5555555555555556,
              "#d8576b"
             ],
             [
              0.6666666666666666,
              "#ed7953"
             ],
             [
              0.7777777777777778,
              "#fb9f3a"
             ],
             [
              0.8888888888888888,
              "#fdca26"
             ],
             [
              1,
              "#f0f921"
             ]
            ],
            "type": "histogram2d"
           }
          ],
          "histogram2dcontour": [
           {
            "colorbar": {
             "outlinewidth": 0,
             "ticks": ""
            },
            "colorscale": [
             [
              0,
              "#0d0887"
             ],
             [
              0.1111111111111111,
              "#46039f"
             ],
             [
              0.2222222222222222,
              "#7201a8"
             ],
             [
              0.3333333333333333,
              "#9c179e"
             ],
             [
              0.4444444444444444,
              "#bd3786"
             ],
             [
              0.5555555555555556,
              "#d8576b"
             ],
             [
              0.6666666666666666,
              "#ed7953"
             ],
             [
              0.7777777777777778,
              "#fb9f3a"
             ],
             [
              0.8888888888888888,
              "#fdca26"
             ],
             [
              1,
              "#f0f921"
             ]
            ],
            "type": "histogram2dcontour"
           }
          ],
          "mesh3d": [
           {
            "colorbar": {
             "outlinewidth": 0,
             "ticks": ""
            },
            "type": "mesh3d"
           }
          ],
          "parcoords": [
           {
            "line": {
             "colorbar": {
              "outlinewidth": 0,
              "ticks": ""
             }
            },
            "type": "parcoords"
           }
          ],
          "pie": [
           {
            "automargin": true,
            "type": "pie"
           }
          ],
          "scatter": [
           {
            "marker": {
             "colorbar": {
              "outlinewidth": 0,
              "ticks": ""
             }
            },
            "type": "scatter"
           }
          ],
          "scatter3d": [
           {
            "line": {
             "colorbar": {
              "outlinewidth": 0,
              "ticks": ""
             }
            },
            "marker": {
             "colorbar": {
              "outlinewidth": 0,
              "ticks": ""
             }
            },
            "type": "scatter3d"
           }
          ],
          "scattercarpet": [
           {
            "marker": {
             "colorbar": {
              "outlinewidth": 0,
              "ticks": ""
             }
            },
            "type": "scattercarpet"
           }
          ],
          "scattergeo": [
           {
            "marker": {
             "colorbar": {
              "outlinewidth": 0,
              "ticks": ""
             }
            },
            "type": "scattergeo"
           }
          ],
          "scattergl": [
           {
            "marker": {
             "colorbar": {
              "outlinewidth": 0,
              "ticks": ""
             }
            },
            "type": "scattergl"
           }
          ],
          "scattermapbox": [
           {
            "marker": {
             "colorbar": {
              "outlinewidth": 0,
              "ticks": ""
             }
            },
            "type": "scattermapbox"
           }
          ],
          "scatterpolar": [
           {
            "marker": {
             "colorbar": {
              "outlinewidth": 0,
              "ticks": ""
             }
            },
            "type": "scatterpolar"
           }
          ],
          "scatterpolargl": [
           {
            "marker": {
             "colorbar": {
              "outlinewidth": 0,
              "ticks": ""
             }
            },
            "type": "scatterpolargl"
           }
          ],
          "scatterternary": [
           {
            "marker": {
             "colorbar": {
              "outlinewidth": 0,
              "ticks": ""
             }
            },
            "type": "scatterternary"
           }
          ],
          "surface": [
           {
            "colorbar": {
             "outlinewidth": 0,
             "ticks": ""
            },
            "colorscale": [
             [
              0,
              "#0d0887"
             ],
             [
              0.1111111111111111,
              "#46039f"
             ],
             [
              0.2222222222222222,
              "#7201a8"
             ],
             [
              0.3333333333333333,
              "#9c179e"
             ],
             [
              0.4444444444444444,
              "#bd3786"
             ],
             [
              0.5555555555555556,
              "#d8576b"
             ],
             [
              0.6666666666666666,
              "#ed7953"
             ],
             [
              0.7777777777777778,
              "#fb9f3a"
             ],
             [
              0.8888888888888888,
              "#fdca26"
             ],
             [
              1,
              "#f0f921"
             ]
            ],
            "type": "surface"
           }
          ],
          "table": [
           {
            "cells": {
             "fill": {
              "color": "#EBF0F8"
             },
             "line": {
              "color": "white"
             }
            },
            "header": {
             "fill": {
              "color": "#C8D4E3"
             },
             "line": {
              "color": "white"
             }
            },
            "type": "table"
           }
          ]
         },
         "layout": {
          "annotationdefaults": {
           "arrowcolor": "#2a3f5f",
           "arrowhead": 0,
           "arrowwidth": 1
          },
          "autotypenumbers": "strict",
          "coloraxis": {
           "colorbar": {
            "outlinewidth": 0,
            "ticks": ""
           }
          },
          "colorscale": {
           "diverging": [
            [
             0,
             "#8e0152"
            ],
            [
             0.1,
             "#c51b7d"
            ],
            [
             0.2,
             "#de77ae"
            ],
            [
             0.3,
             "#f1b6da"
            ],
            [
             0.4,
             "#fde0ef"
            ],
            [
             0.5,
             "#f7f7f7"
            ],
            [
             0.6,
             "#e6f5d0"
            ],
            [
             0.7,
             "#b8e186"
            ],
            [
             0.8,
             "#7fbc41"
            ],
            [
             0.9,
             "#4d9221"
            ],
            [
             1,
             "#276419"
            ]
           ],
           "sequential": [
            [
             0,
             "#0d0887"
            ],
            [
             0.1111111111111111,
             "#46039f"
            ],
            [
             0.2222222222222222,
             "#7201a8"
            ],
            [
             0.3333333333333333,
             "#9c179e"
            ],
            [
             0.4444444444444444,
             "#bd3786"
            ],
            [
             0.5555555555555556,
             "#d8576b"
            ],
            [
             0.6666666666666666,
             "#ed7953"
            ],
            [
             0.7777777777777778,
             "#fb9f3a"
            ],
            [
             0.8888888888888888,
             "#fdca26"
            ],
            [
             1,
             "#f0f921"
            ]
           ],
           "sequentialminus": [
            [
             0,
             "#0d0887"
            ],
            [
             0.1111111111111111,
             "#46039f"
            ],
            [
             0.2222222222222222,
             "#7201a8"
            ],
            [
             0.3333333333333333,
             "#9c179e"
            ],
            [
             0.4444444444444444,
             "#bd3786"
            ],
            [
             0.5555555555555556,
             "#d8576b"
            ],
            [
             0.6666666666666666,
             "#ed7953"
            ],
            [
             0.7777777777777778,
             "#fb9f3a"
            ],
            [
             0.8888888888888888,
             "#fdca26"
            ],
            [
             1,
             "#f0f921"
            ]
           ]
          },
          "colorway": [
           "#636efa",
           "#EF553B",
           "#00cc96",
           "#ab63fa",
           "#FFA15A",
           "#19d3f3",
           "#FF6692",
           "#B6E880",
           "#FF97FF",
           "#FECB52"
          ],
          "font": {
           "color": "#2a3f5f"
          },
          "geo": {
           "bgcolor": "white",
           "lakecolor": "white",
           "landcolor": "#E5ECF6",
           "showlakes": true,
           "showland": true,
           "subunitcolor": "white"
          },
          "hoverlabel": {
           "align": "left"
          },
          "hovermode": "closest",
          "mapbox": {
           "style": "light"
          },
          "paper_bgcolor": "white",
          "plot_bgcolor": "#E5ECF6",
          "polar": {
           "angularaxis": {
            "gridcolor": "white",
            "linecolor": "white",
            "ticks": ""
           },
           "bgcolor": "#E5ECF6",
           "radialaxis": {
            "gridcolor": "white",
            "linecolor": "white",
            "ticks": ""
           }
          },
          "scene": {
           "xaxis": {
            "backgroundcolor": "#E5ECF6",
            "gridcolor": "white",
            "gridwidth": 2,
            "linecolor": "white",
            "showbackground": true,
            "ticks": "",
            "zerolinecolor": "white"
           },
           "yaxis": {
            "backgroundcolor": "#E5ECF6",
            "gridcolor": "white",
            "gridwidth": 2,
            "linecolor": "white",
            "showbackground": true,
            "ticks": "",
            "zerolinecolor": "white"
           },
           "zaxis": {
            "backgroundcolor": "#E5ECF6",
            "gridcolor": "white",
            "gridwidth": 2,
            "linecolor": "white",
            "showbackground": true,
            "ticks": "",
            "zerolinecolor": "white"
           }
          },
          "shapedefaults": {
           "line": {
            "color": "#2a3f5f"
           }
          },
          "ternary": {
           "aaxis": {
            "gridcolor": "white",
            "linecolor": "white",
            "ticks": ""
           },
           "baxis": {
            "gridcolor": "white",
            "linecolor": "white",
            "ticks": ""
           },
           "bgcolor": "#E5ECF6",
           "caxis": {
            "gridcolor": "white",
            "linecolor": "white",
            "ticks": ""
           }
          },
          "title": {
           "x": 0.05
          },
          "xaxis": {
           "automargin": true,
           "gridcolor": "white",
           "linecolor": "white",
           "ticks": "",
           "title": {
            "standoff": 15
           },
           "zerolinecolor": "white",
           "zerolinewidth": 2
          },
          "yaxis": {
           "automargin": true,
           "gridcolor": "white",
           "linecolor": "white",
           "ticks": "",
           "title": {
            "standoff": 15
           },
           "zerolinecolor": "white",
           "zerolinewidth": 2
          }
         }
        },
        "xaxis": {
         "anchor": "y",
         "domain": [
          0,
          1
         ],
         "title": {
          "text": "second_name"
         }
        },
        "yaxis": {
         "anchor": "x",
         "domain": [
          0,
          1
         ],
         "title": {
          "text": "value"
         }
        }
       }
      },
      "text/html": [
       "<div>                            <div id=\"7e659e5d-77ac-465b-a96e-0bc7b5968c52\" class=\"plotly-graph-div\" style=\"height:525px; width:100%;\"></div>            <script type=\"text/javascript\">                require([\"plotly\"], function(Plotly) {                    window.PLOTLYENV=window.PLOTLYENV || {};                                    if (document.getElementById(\"7e659e5d-77ac-465b-a96e-0bc7b5968c52\")) {                    Plotly.newPlot(                        \"7e659e5d-77ac-465b-a96e-0bc7b5968c52\",                        [{\"alignmentgroup\": \"True\", \"customdata\": [[\"Southampton\"], [\"Aston Villa\"], [\"Arsenal\"], [\"Wolves\"], [\"Leeds\"], [\"Leeds\"], [\"Leeds\"], [\"Leeds\"], [\"Leicester\"], [\"Leicester\"], [\"Fulham\"], [\"Fulham\"], [\"Fulham\"], [\"Fulham\"], [\"Fulham\"], [\"Everton\"], [\"Everton\"], [\"Everton\"], [\"Crystal Palace\"], [\"Crystal Palace\"], [\"Crystal Palace\"], [\"Crystal Palace\"], [\"Liverpool\"], [\"Man City\"], [\"Man City\"], [\"Crystal Palace\"], [\"Wolves\"], [\"Wolves\"], [\"Wolves\"], [\"West Ham\"], [\"West Ham\"], [\"West Brom\"], [\"Spurs\"], [\"Spurs\"], [\"Spurs\"], [\"Man City\"], [\"Spurs\"], [\"Sheffield Utd\"], [\"Newcastle\"], [\"Newcastle\"], [\"Man Utd\"], [\"Man Utd\"], [\"Man Utd\"], [\"Man Utd\"], [\"Man Utd\"], [\"Man Utd\"], [\"Southampton\"], [\"Chelsea\"], [\"Wolves\"], [\"Aston Villa\"], [\"Brighton\"], [\"Burnley\"], [\"Brighton\"], [\"Brighton\"], [\"Brighton\"], [\"Aston Villa\"], [\"Burnley\"], [\"Burnley\"], [\"Aston Villa\"], [\"Burnley\"], [\"Arsenal\"], [\"Fulham\"], [\"Wolves\"], [\"Fulham\"], [\"Liverpool\"], [\"Everton\"], [\"Wolves\"], [\"Southampton\"], [\"Arsenal\"], [\"Leeds\"], [\"West Brom\"], [\"Man Utd\"], [\"Burnley\"], [\"Man Utd\"], [\"Arsenal\"], [\"Sheffield Utd\"], [\"Southampton\"], [\"Leicester\"], [\"Man City\"], [\"Crystal Palace\"], [\"Sheffield Utd\"], [\"Everton\"], [\"West Brom\"], [\"Leicester\"], [\"Brighton\"], [\"Liverpool\"], [\"West Brom\"], [\"Chelsea\"], [\"Spurs\"], [\"Southampton\"], [\"Fulham\"], [\"Arsenal\"], [\"Liverpool\"], [\"Sheffield Utd\"], [\"Burnley\"], [\"Wolves\"], [\"Liverpool\"], [\"Liverpool\"], [\"Fulham\"], [\"Wolves\"], [\"Newcastle\"], [\"Newcastle\"], [\"Sheffield Utd\"], [\"Burnley\"], [\"Crystal Palace\"], [\"Wolves\"], [\"Leicester\"], [\"Man City\"], [\"Man Utd\"], [\"Liverpool\"], [\"Leeds\"], [\"West Brom\"], [\"Arsenal\"], [\"Spurs\"], [\"Sheffield Utd\"], [\"Leicester\"], [\"Newcastle\"], [\"Leicester\"], [\"Man Utd\"], [\"West Ham\"], [\"West Ham\"], [\"Sheffield Utd\"], [\"Arsenal\"], [\"Crystal Palace\"], [\"Newcastle\"], [\"Aston Villa\"], [\"West Ham\"], [\"Sheffield Utd\"], [\"Newcastle\"], [\"Sheffield Utd\"], [\"Leicester\"], [\"Wolves\"], [\"Aston Villa\"], [\"Southampton\"], [\"Newcastle\"], [\"Arsenal\"], [\"Chelsea\"], [\"West Brom\"], [\"Brighton\"], [\"Liverpool\"], [\"Man City\"], [\"Crystal Palace\"], [\"Leeds\"], [\"Spurs\"], [\"Spurs\"], [\"Man City\"], [\"Sheffield Utd\"], [\"Man City\"], [\"Chelsea\"], [\"Crystal Palace\"], [\"Liverpool\"], [\"West Brom\"], [\"Newcastle\"], [\"Everton\"], [\"Sheffield Utd\"], [\"Crystal Palace\"], [\"Brighton\"], [\"Crystal Palace\"], [\"West Ham\"], [\"Sheffield Utd\"], [\"West Ham\"], [\"Newcastle\"], [\"Man City\"], [\"Newcastle\"], [\"Fulham\"], [\"Arsenal\"], [\"West Brom\"], [\"Wolves\"], [\"Spurs\"], [\"Burnley\"], [\"Everton\"], [\"Everton\"], [\"Fulham\"], [\"Spurs\"], [\"Leicester\"], [\"Leicester\"], [\"Spurs\"], [\"Everton\"], [\"West Brom\"], [\"Everton\"], [\"Leeds\"], [\"Spurs\"], [\"Crystal Palace\"], [\"Chelsea\"], [\"Spurs\"], [\"Leeds\"], [\"Man City\"], [\"Chelsea\"], [\"Wolves\"], [\"Brighton\"], [\"Leicester\"], [\"West Ham\"], [\"Liverpool\"], [\"Burnley\"], [\"Wolves\"], [\"West Brom\"], [\"Arsenal\"], [\"West Brom\"], [\"Southampton\"], [\"Burnley\"], [\"Chelsea\"], [\"Chelsea\"], [\"Wolves\"], [\"Arsenal\"], [\"Leeds\"], [\"Liverpool\"], [\"Southampton\"], [\"Southampton\"], [\"Brighton\"], [\"Chelsea\"], [\"West Ham\"], [\"Aston Villa\"], [\"Leeds\"], [\"Burnley\"], [\"Chelsea\"], [\"Wolves\"], [\"Arsenal\"], [\"Brighton\"], [\"Man Utd\"], [\"Southampton\"], [\"Burnley\"], [\"Fulham\"], [\"Everton\"], [\"Man City\"], [\"Brighton\"], [\"Fulham\"], [\"Leicester\"], [\"West Ham\"], [\"Fulham\"], [\"Man Utd\"], [\"Man Utd\"], [\"Aston Villa\"], [\"Man Utd\"], [\"Man City\"], [\"Aston Villa\"], [\"Aston Villa\"], [\"West Ham\"], [\"Man City\"], [\"Leeds\"]], \"hovertemplate\": \"second_name=%{x}<br>value=%{y}<br>team=%{customdata[0]}<extra></extra>\", \"legendgroup\": \"\", \"marker\": {\"color\": \"#636efa\"}, \"name\": \"\", \"offsetgroup\": \"\", \"orientation\": \"v\", \"showlegend\": false, \"textposition\": \"auto\", \"type\": \"bar\", \"x\": [\"Ramsay\", \"Taylor\", \"Papastathopoulos\", \"Lonwijk\", \"Berardi\", \"Cresswell\", \"Casey\", \"Douglas\", \"Daley-Campbell\", \"Benkovic\", \"Kongolo\", \"Sessegnon\", \"Mawson\", \"Christie\", \"Hector\", \"Astley\", \"John\", \"Branthwaite\", \"Hannam\", \"Inniss\", \"Woods\", \"Ferguson\", \"Davies\", \"Otamendi\", \"Harwood-Bellis\", \"Kelly\", \"Marques\", \"Richards\", \"Bennett\", \"Baptiste\", \"Alves\", \"Kipre\", \"Carter-Vickers\", \"Foyth\", \"Sessegnon\", \"Mbete\", \"Rose\", \"Gordon\", \"Watts\", \"Lejeune\", \"Mengi\", \"Dalot Teixeira\", \"Fosu-Mensah\", \"Jones\", \"Rojo\", \"Smalling\", \"Tchaptchet\", \"Tomori\", \"Bueno\", \"Guilbert\", \"Karbownik\", \"Gibson\", \"Clarke\", \"Montoya\", \"Duffy\", \"Bree\", \"Driscoll-Glennon\", \"Nartey\", \"Engels\", \"Thomas\", \"Saliba\", \"Odoi\", \"Silva Nascimento Vinagre\", \"Le Marchand\", \"Tsimikas\", \"Nkounkou\", \"Buur\", \"Vokins\", \"Kolasinac\", \"Davis\", \"Peltier\", \"Tuanzebe\", \"Bardsley\", \"Williams\", \"Mustafi\", \"O'Connell\", \"Valery\", \"Morgan\", \"Garcia\", \"Sakho\", \"Jagielka\", \"Kenny\", \"Gibbs\", \"Thomas\", \"Fernandes da Silva Junior\", \"Williams\", \"Hegazy\", \"Palmieri dos Santos\", \"Tanganga\", \"Salisu\", \"Ream\", \"Chambers\", \"Gomez\", \"Lowe\", \"Dunne\", \"Hoever\", \"van Dijk\", \"Williams\", \"Bryan\", \"Castro Otto\", \"Dummett\", \"Yedlin\", \"Robinson\", \"Long\", \"Tomkins\", \"Mar\\u00e7al\", \"Barbosa Pereira\", \"Ak\\u00e9\", \"Telles\", \"Kabak\", \"Llorente\", \"Ivanovic\", \"Mar\\u00ed\", \"Rodon\", \"Bryan\", \"Amartey\", \"Sch\\u00e4r\", \"Fuchs\", \"Bailly\", \"Johnson\", \"Fredericks\", \"Stevens\", \"Soares\", \"Clyne\", \"Krafth\", \"Hause\", \"Diop\", \"Bogle\", \"Manquillo\", \"Egan\", \"S\\u00f6y\\u00fcnc\\u00fc\", \"Ait Nouri\", \"El Mohamady\", \"Stephens\", \"Fern\\u00e1ndez\", \"Luiz Moreira Marinho\", \"Alonso\", \"O'Shea\", \"Lamptey\", \"Matip\", \"Mendy\", \"Dann\", \"Koch\", \"Doherty\", \"S\\u00e1nchez\", \"Luiz Rosa\", \"Basham\", \"Laporte\", \"Christensen\", \"Cahill\", \"Phillips\", \"Ajayi\", \"Clark\", \"Coleman\", \"Baldock\", \"Mitchell\", \"Burn\", \"van Aanholt\", \"Masuaku\", \"Ampadu\", \"Balbuena\", \"Lewis\", \"Zinchenko\", \"Lascelles\", \"Tete\", \"Magalh\\u00e3es\", \"Maitland-Niles\", \"Boly\", \"Davies\", \"Pieters\", \"Godfrey\", \"Mina\", \"Robinson\", \"Aurier\", \"Fofana\", \"Castagne\", \"Reguil\\u00f3n\", \"Digne\", \"Townsend\", \"Holgate\", \"Cooper\", \"Dier\", \"Ward\", \"Thiago\", \"Alderweireld\", \"Struijk\", \"Walker\", \"R\\u00fcdiger\", \"Kilman\", \"Webster\", \"Evans\", \"Dawson\", \"Alexander-Arnold\", \"Taylor\", \"Cabral Semedo\", \"Furlong\", \"Tierney\", \"Bartley\", \"Bertrand\", \"Tarkowski\", \"Zouma\", \"Azpilicueta\", \"Sa\\u00efss\", \"Beller\\u00edn\", \"Ayling\", \"Robertson\", \"Vestergaard\", \"Walker-Peters\", \"Veltman\", \"James\", \"Ogbonna\", \"Cash\", \"Alioski\", \"Mee\", \"Chilwell\", \"Coady\", \"Holding\", \"White\", \"Lindel\\u00f6f\", \"Bednarek\", \"Lowton\", \"Andersen\", \"Keane\", \"Cancelo\", \"Dunk\", \"Adarabioyo\", \"Justin\", \"Coufal\", \"Aina\", \"Shaw\", \"Maguire\", \"Mings\", \"Wan-Bissaka\", \"Gato Alves Dias\", \"Konsa Ngoyo\", \"Targett\", \"Cresswell\", \"Stones\", \"Dallas\"], \"xaxis\": \"x\", \"y\": [-0.8, -0.2, 0.0, 0.0, 0.0, 0.0, 0.0, 0.0, 0.0, 0.0, 0.0, 0.0, 0.0, 0.0, 0.0, 0.0, 0.0, 0.0, 0.0, 0.0, 0.0, 0.0, 0.0, 0.0, 0.0, 0.0, 0.0, 0.0, 0.0, 0.0, 0.0, 0.0, 0.0, 0.0, 0.0, 0.0, 0.0, 0.0, 0.0, 0.0, 0.0, 0.0, 0.0, 0.0, 0.0, 0.0, 0.0, 0.0, 0.0, 0.0, 0.0, 0.0, 0.0, 0.0, 0.0, 0.0, 0.0, 0.0, 0.0, 0.0, 0.0, 0.2, 0.2, 0.2, 0.2, 0.2, 0.3, 0.3, 0.4, 0.5, 0.5, 0.5, 0.5, 0.5, 0.6, 0.6, 0.6, 0.7, 0.9, 0.9, 1.0, 1.2, 1.2, 1.2, 1.3, 1.5, 1.5, 1.5, 1.6, 1.6, 1.7, 1.8, 1.9, 2.1, 2.1, 2.3, 2.4, 2.6, 2.9, 3.0, 3.0, 3.0, 3.1, 3.3, 3.4, 3.8, 3.9, 3.9, 4.2, 4.2, 4.5, 4.5, 4.8, 4.8, 4.9, 5.1, 5.1, 5.3, 5.6, 5.6, 5.7, 6.0, 6.1, 6.2, 6.4, 6.4, 6.5, 6.7, 6.7, 7.0, 7.0, 7.0, 7.0, 7.2, 7.2, 7.4, 7.4, 7.6, 7.6, 7.8, 7.8, 7.9, 7.9, 8.0, 8.1, 8.1, 8.3, 8.3, 8.5, 8.7, 8.8, 8.8, 8.9, 9.0, 9.0, 9.2, 9.3, 9.6, 9.8, 9.8, 9.8, 10.2, 10.2, 10.5, 10.7, 10.8, 11.1, 11.1, 11.3, 11.4, 11.4, 11.5, 11.6, 11.7, 11.8, 11.9, 12.2, 12.3, 12.3, 12.5, 12.6, 12.6, 13.0, 13.0, 13.0, 13.0, 13.4, 13.6, 13.8, 14.2, 14.2, 14.4, 14.5, 14.5, 14.6, 14.7, 14.7, 15.0, 15.4, 15.8, 16.2, 16.4, 16.5, 16.6, 16.8, 16.9, 17.0, 17.0, 17.3, 17.4, 17.4, 17.4, 17.7, 17.8, 17.9, 17.9, 17.9, 18.0, 18.3, 18.5, 18.9, 19.3, 19.6, 20.3, 20.4, 20.4, 20.6, 20.7, 20.7, 20.8, 20.9, 21.1, 21.4, 21.5, 21.7, 23.1, 23.1, 23.5, 24.3], \"yaxis\": \"y\"}, {\"customdata\": [[40], [42], [48], [40], [40], [40], [38], [38], [40], [43], [43], [43], [43], [42], [41], [40], [40], [39], [40], [40], [40], [38], [48], [49], [40], [41], [39], [40], [44], [40], [40], [43], [39], [43], [47], [40], [47], [40], [39], [43], [39], [48], [43], [48], [48], [49], [40], [47], [40], [43], [45], [39], [44], [45], [43], [45], [39], [40], [44], [39], [40], [42], [41], [41], [49], [40], [39], [39], [48], [38], [40], [41], [44], [42], [50], [47], [47], [44], [47], [44], [39], [43], [43], [41], [39], [40], [41], [47], [49], [43], [42], [45], [52], [42], [38], [44], [62], [38], [45], [54], [44], [43], [42], [43], [44], [47], [59], [54], [53], [50], [44], [44], [44], [50], [39], [39], [49], [45], [48], [39], [42], [50], [46], [45], [42], [44], [43], [43], [42], [47], [53], [50], [43], [46], [47], [54], [57], [42], [46], [54], [59], [42], [43], [56], [52], [54], [46], [60], [47], [45], [40], [48], [45], [48], [49], [38], [42], [54], [43], [43], [41], [42], [55], [42], [43], [49], [46], [54], [46], [43], [50], [55], [44], [52], [50], [57], [55], [62], [44], [48], [43], [47], [43], [56], [54], [40], [61], [47], [39], [43], [55], [45], [73], [44], [52], [45], [53], [44], [50], [53], [53], [59], [49], [50], [44], [71], [47], [47], [44], [50], [47], [50], [43], [49], [58], [48], [42], [45], [48], [48], [44], [45], [51], [60], [50], [45], [49], [46], [45], [53], [55], [54], [57], [62], [47], [51], [59], [52], [51]], \"hovertemplate\": \"second_name=%{x}<br>total_points=%{y}<br>now_cost=%{customdata[0]}<extra></extra>\", \"legendgroup\": \"\", \"marker\": {\"color\": \"#636efa\", \"symbol\": \"circle\"}, \"mode\": \"markers\", \"name\": \"\", \"orientation\": \"v\", \"showlegend\": false, \"type\": \"scatter\", \"x\": [\"Ramsay\", \"Taylor\", \"Papastathopoulos\", \"Lonwijk\", \"Berardi\", \"Cresswell\", \"Casey\", \"Douglas\", \"Daley-Campbell\", \"Benkovic\", \"Kongolo\", \"Sessegnon\", \"Mawson\", \"Christie\", \"Hector\", \"Astley\", \"John\", \"Branthwaite\", \"Hannam\", \"Inniss\", \"Woods\", \"Ferguson\", \"Davies\", \"Otamendi\", \"Harwood-Bellis\", \"Kelly\", \"Marques\", \"Richards\", \"Bennett\", \"Baptiste\", \"Alves\", \"Kipre\", \"Carter-Vickers\", \"Foyth\", \"Sessegnon\", \"Mbete\", \"Rose\", \"Gordon\", \"Watts\", \"Lejeune\", \"Mengi\", \"Dalot Teixeira\", \"Fosu-Mensah\", \"Jones\", \"Rojo\", \"Smalling\", \"Tchaptchet\", \"Tomori\", \"Bueno\", \"Guilbert\", \"Karbownik\", \"Gibson\", \"Clarke\", \"Montoya\", \"Duffy\", \"Bree\", \"Driscoll-Glennon\", \"Nartey\", \"Engels\", \"Thomas\", \"Saliba\", \"Odoi\", \"Silva Nascimento Vinagre\", \"Le Marchand\", \"Tsimikas\", \"Nkounkou\", \"Buur\", \"Vokins\", \"Kolasinac\", \"Davis\", \"Peltier\", \"Tuanzebe\", \"Bardsley\", \"Williams\", \"Mustafi\", \"O'Connell\", \"Valery\", \"Morgan\", \"Garcia\", \"Sakho\", \"Jagielka\", \"Kenny\", \"Gibbs\", \"Thomas\", \"Fernandes da Silva Junior\", \"Williams\", \"Hegazy\", \"Palmieri dos Santos\", \"Tanganga\", \"Salisu\", \"Ream\", \"Chambers\", \"Gomez\", \"Lowe\", \"Dunne\", \"Hoever\", \"van Dijk\", \"Williams\", \"Bryan\", \"Castro Otto\", \"Dummett\", \"Yedlin\", \"Robinson\", \"Long\", \"Tomkins\", \"Mar\\u00e7al\", \"Barbosa Pereira\", \"Ak\\u00e9\", \"Telles\", \"Kabak\", \"Llorente\", \"Ivanovic\", \"Mar\\u00ed\", \"Rodon\", \"Bryan\", \"Amartey\", \"Sch\\u00e4r\", \"Fuchs\", \"Bailly\", \"Johnson\", \"Fredericks\", \"Stevens\", \"Soares\", \"Clyne\", \"Krafth\", \"Hause\", \"Diop\", \"Bogle\", \"Manquillo\", \"Egan\", \"S\\u00f6y\\u00fcnc\\u00fc\", \"Ait Nouri\", \"El Mohamady\", \"Stephens\", \"Fern\\u00e1ndez\", \"Luiz Moreira Marinho\", \"Alonso\", \"O'Shea\", \"Lamptey\", \"Matip\", \"Mendy\", \"Dann\", \"Koch\", \"Doherty\", \"S\\u00e1nchez\", \"Luiz Rosa\", \"Basham\", \"Laporte\", \"Christensen\", \"Cahill\", \"Phillips\", \"Ajayi\", \"Clark\", \"Coleman\", \"Baldock\", \"Mitchell\", \"Burn\", \"van Aanholt\", \"Masuaku\", \"Ampadu\", \"Balbuena\", \"Lewis\", \"Zinchenko\", \"Lascelles\", \"Tete\", \"Magalh\\u00e3es\", \"Maitland-Niles\", \"Boly\", \"Davies\", \"Pieters\", \"Godfrey\", \"Mina\", \"Robinson\", \"Aurier\", \"Fofana\", \"Castagne\", \"Reguil\\u00f3n\", \"Digne\", \"Townsend\", \"Holgate\", \"Cooper\", \"Dier\", \"Ward\", \"Thiago\", \"Alderweireld\", \"Struijk\", \"Walker\", \"R\\u00fcdiger\", \"Kilman\", \"Webster\", \"Evans\", \"Dawson\", \"Alexander-Arnold\", \"Taylor\", \"Cabral Semedo\", \"Furlong\", \"Tierney\", \"Bartley\", \"Bertrand\", \"Tarkowski\", \"Zouma\", \"Azpilicueta\", \"Sa\\u00efss\", \"Beller\\u00edn\", \"Ayling\", \"Robertson\", \"Vestergaard\", \"Walker-Peters\", \"Veltman\", \"James\", \"Ogbonna\", \"Cash\", \"Alioski\", \"Mee\", \"Chilwell\", \"Coady\", \"Holding\", \"White\", \"Lindel\\u00f6f\", \"Bednarek\", \"Lowton\", \"Andersen\", \"Keane\", \"Cancelo\", \"Dunk\", \"Adarabioyo\", \"Justin\", \"Coufal\", \"Aina\", \"Shaw\", \"Maguire\", \"Mings\", \"Wan-Bissaka\", \"Gato Alves Dias\", \"Konsa Ngoyo\", \"Targett\", \"Cresswell\", \"Stones\", \"Dallas\"], \"xaxis\": \"x\", \"y\": [-3.0, -1.0, 0.0, 0.0, 0.0, 0.0, 0.0, 0.0, 0.0, 0.0, 0.0, 0.0, 0.0, 0.0, 0.0, 0.0, 0.0, 0.0, 0.0, 0.0, 0.0, 0.0, 0.0, 0.0, 0.0, 0.0, 0.0, 0.0, 0.0, 0.0, 0.0, 0.0, 0.0, 0.0, 0.0, 0.0, 0.0, 0.0, 0.0, 0.0, 0.0, 0.0, 0.0, 0.0, 0.0, 0.0, 0.0, 0.0, 0.0, 0.0, 0.0, 0.0, 0.0, 0.0, 0.0, 0.0, 0.0, 0.0, 0.0, 0.0, 0.0, 1.0, 1.0, 1.0, 1.0, 1.0, 1.0, 1.0, 2.0, 2.0, 2.0, 2.0, 2.0, 2.0, 3.0, 3.0, 3.0, 3.0, 4.0, 4.0, 4.0, 5.0, 5.0, 5.0, 5.0, 6.0, 6.0, 7.0, 8.0, 7.0, 7.0, 8.0, 10.0, 9.0, 8.0, 10.0, 15.0, 10.0, 13.0, 16.0, 13.0, 13.0, 13.0, 14.0, 15.0, 18.0, 23.0, 21.0, 22.0, 21.0, 20.0, 20.0, 21.0, 24.0, 19.0, 20.0, 25.0, 24.0, 27.0, 22.0, 24.0, 30.0, 28.0, 28.0, 27.0, 28.0, 28.0, 29.0, 28.0, 33.0, 37.0, 35.0, 30.0, 33.0, 34.0, 40.0, 42.0, 32.0, 35.0, 42.0, 46.0, 33.0, 34.0, 45.0, 42.0, 44.0, 38.0, 50.0, 40.0, 39.0, 35.0, 42.0, 40.0, 43.0, 44.0, 35.0, 39.0, 52.0, 42.0, 42.0, 40.0, 43.0, 56.0, 44.0, 46.0, 53.0, 51.0, 60.0, 52.0, 49.0, 57.0, 63.0, 51.0, 61.0, 59.0, 68.0, 67.0, 76.0, 54.0, 60.0, 54.0, 59.0, 56.0, 73.0, 70.0, 52.0, 82.0, 64.0, 54.0, 61.0, 78.0, 65.0, 106.0, 64.0, 76.0, 66.0, 78.0, 66.0, 77.0, 84.0, 86.0, 97.0, 81.0, 83.0, 74.0, 120.0, 80.0, 80.0, 76.0, 87.0, 82.0, 87.0, 76.0, 87.0, 104.0, 86.0, 75.0, 81.0, 88.0, 89.0, 83.0, 87.0, 100.0, 122.0, 102.0, 92.0, 101.0, 95.0, 93.0, 110.0, 115.0, 114.0, 122.0, 133.0, 102.0, 118.0, 136.0, 122.0, 124.0], \"yaxis\": \"y\"}],                        {\"barmode\": \"relative\", \"legend\": {\"tracegroupgap\": 0}, \"margin\": {\"t\": 60}, \"template\": {\"data\": {\"bar\": [{\"error_x\": {\"color\": \"#2a3f5f\"}, \"error_y\": {\"color\": \"#2a3f5f\"}, \"marker\": {\"line\": {\"color\": \"#E5ECF6\", \"width\": 0.5}}, \"type\": \"bar\"}], \"barpolar\": [{\"marker\": {\"line\": {\"color\": \"#E5ECF6\", \"width\": 0.5}}, \"type\": \"barpolar\"}], \"carpet\": [{\"aaxis\": {\"endlinecolor\": \"#2a3f5f\", \"gridcolor\": \"white\", \"linecolor\": \"white\", \"minorgridcolor\": \"white\", \"startlinecolor\": \"#2a3f5f\"}, \"baxis\": {\"endlinecolor\": \"#2a3f5f\", \"gridcolor\": \"white\", \"linecolor\": \"white\", \"minorgridcolor\": \"white\", \"startlinecolor\": \"#2a3f5f\"}, \"type\": \"carpet\"}], \"choropleth\": [{\"colorbar\": {\"outlinewidth\": 0, \"ticks\": \"\"}, \"type\": \"choropleth\"}], \"contour\": [{\"colorbar\": {\"outlinewidth\": 0, \"ticks\": \"\"}, \"colorscale\": [[0.0, \"#0d0887\"], [0.1111111111111111, \"#46039f\"], [0.2222222222222222, \"#7201a8\"], [0.3333333333333333, \"#9c179e\"], [0.4444444444444444, \"#bd3786\"], [0.5555555555555556, \"#d8576b\"], [0.6666666666666666, \"#ed7953\"], [0.7777777777777778, \"#fb9f3a\"], [0.8888888888888888, \"#fdca26\"], [1.0, \"#f0f921\"]], \"type\": \"contour\"}], \"contourcarpet\": [{\"colorbar\": {\"outlinewidth\": 0, \"ticks\": \"\"}, \"type\": \"contourcarpet\"}], \"heatmap\": [{\"colorbar\": {\"outlinewidth\": 0, \"ticks\": \"\"}, \"colorscale\": [[0.0, \"#0d0887\"], [0.1111111111111111, \"#46039f\"], [0.2222222222222222, \"#7201a8\"], [0.3333333333333333, \"#9c179e\"], [0.4444444444444444, \"#bd3786\"], [0.5555555555555556, \"#d8576b\"], [0.6666666666666666, \"#ed7953\"], [0.7777777777777778, \"#fb9f3a\"], [0.8888888888888888, \"#fdca26\"], [1.0, \"#f0f921\"]], \"type\": \"heatmap\"}], \"heatmapgl\": [{\"colorbar\": {\"outlinewidth\": 0, \"ticks\": \"\"}, \"colorscale\": [[0.0, \"#0d0887\"], [0.1111111111111111, \"#46039f\"], [0.2222222222222222, \"#7201a8\"], [0.3333333333333333, \"#9c179e\"], [0.4444444444444444, \"#bd3786\"], [0.5555555555555556, \"#d8576b\"], [0.6666666666666666, \"#ed7953\"], [0.7777777777777778, \"#fb9f3a\"], [0.8888888888888888, \"#fdca26\"], [1.0, \"#f0f921\"]], \"type\": \"heatmapgl\"}], \"histogram\": [{\"marker\": {\"colorbar\": {\"outlinewidth\": 0, \"ticks\": \"\"}}, \"type\": \"histogram\"}], \"histogram2d\": [{\"colorbar\": {\"outlinewidth\": 0, \"ticks\": \"\"}, \"colorscale\": [[0.0, \"#0d0887\"], [0.1111111111111111, \"#46039f\"], [0.2222222222222222, \"#7201a8\"], [0.3333333333333333, \"#9c179e\"], [0.4444444444444444, \"#bd3786\"], [0.5555555555555556, \"#d8576b\"], [0.6666666666666666, \"#ed7953\"], [0.7777777777777778, \"#fb9f3a\"], [0.8888888888888888, \"#fdca26\"], [1.0, \"#f0f921\"]], \"type\": \"histogram2d\"}], \"histogram2dcontour\": [{\"colorbar\": {\"outlinewidth\": 0, \"ticks\": \"\"}, \"colorscale\": [[0.0, \"#0d0887\"], [0.1111111111111111, \"#46039f\"], [0.2222222222222222, \"#7201a8\"], [0.3333333333333333, \"#9c179e\"], [0.4444444444444444, \"#bd3786\"], [0.5555555555555556, \"#d8576b\"], [0.6666666666666666, \"#ed7953\"], [0.7777777777777778, \"#fb9f3a\"], [0.8888888888888888, \"#fdca26\"], [1.0, \"#f0f921\"]], \"type\": \"histogram2dcontour\"}], \"mesh3d\": [{\"colorbar\": {\"outlinewidth\": 0, \"ticks\": \"\"}, \"type\": \"mesh3d\"}], \"parcoords\": [{\"line\": {\"colorbar\": {\"outlinewidth\": 0, \"ticks\": \"\"}}, \"type\": \"parcoords\"}], \"pie\": [{\"automargin\": true, \"type\": \"pie\"}], \"scatter\": [{\"marker\": {\"colorbar\": {\"outlinewidth\": 0, \"ticks\": \"\"}}, \"type\": \"scatter\"}], \"scatter3d\": [{\"line\": {\"colorbar\": {\"outlinewidth\": 0, \"ticks\": \"\"}}, \"marker\": {\"colorbar\": {\"outlinewidth\": 0, \"ticks\": \"\"}}, \"type\": \"scatter3d\"}], \"scattercarpet\": [{\"marker\": {\"colorbar\": {\"outlinewidth\": 0, \"ticks\": \"\"}}, \"type\": \"scattercarpet\"}], \"scattergeo\": [{\"marker\": {\"colorbar\": {\"outlinewidth\": 0, \"ticks\": \"\"}}, \"type\": \"scattergeo\"}], \"scattergl\": [{\"marker\": {\"colorbar\": {\"outlinewidth\": 0, \"ticks\": \"\"}}, \"type\": \"scattergl\"}], \"scattermapbox\": [{\"marker\": {\"colorbar\": {\"outlinewidth\": 0, \"ticks\": \"\"}}, \"type\": \"scattermapbox\"}], \"scatterpolar\": [{\"marker\": {\"colorbar\": {\"outlinewidth\": 0, \"ticks\": \"\"}}, \"type\": \"scatterpolar\"}], \"scatterpolargl\": [{\"marker\": {\"colorbar\": {\"outlinewidth\": 0, \"ticks\": \"\"}}, \"type\": \"scatterpolargl\"}], \"scatterternary\": [{\"marker\": {\"colorbar\": {\"outlinewidth\": 0, \"ticks\": \"\"}}, \"type\": \"scatterternary\"}], \"surface\": [{\"colorbar\": {\"outlinewidth\": 0, \"ticks\": \"\"}, \"colorscale\": [[0.0, \"#0d0887\"], [0.1111111111111111, \"#46039f\"], [0.2222222222222222, \"#7201a8\"], [0.3333333333333333, \"#9c179e\"], [0.4444444444444444, \"#bd3786\"], [0.5555555555555556, \"#d8576b\"], [0.6666666666666666, \"#ed7953\"], [0.7777777777777778, \"#fb9f3a\"], [0.8888888888888888, \"#fdca26\"], [1.0, \"#f0f921\"]], \"type\": \"surface\"}], \"table\": [{\"cells\": {\"fill\": {\"color\": \"#EBF0F8\"}, \"line\": {\"color\": \"white\"}}, \"header\": {\"fill\": {\"color\": \"#C8D4E3\"}, \"line\": {\"color\": \"white\"}}, \"type\": \"table\"}]}, \"layout\": {\"annotationdefaults\": {\"arrowcolor\": \"#2a3f5f\", \"arrowhead\": 0, \"arrowwidth\": 1}, \"autotypenumbers\": \"strict\", \"coloraxis\": {\"colorbar\": {\"outlinewidth\": 0, \"ticks\": \"\"}}, \"colorscale\": {\"diverging\": [[0, \"#8e0152\"], [0.1, \"#c51b7d\"], [0.2, \"#de77ae\"], [0.3, \"#f1b6da\"], [0.4, \"#fde0ef\"], [0.5, \"#f7f7f7\"], [0.6, \"#e6f5d0\"], [0.7, \"#b8e186\"], [0.8, \"#7fbc41\"], [0.9, \"#4d9221\"], [1, \"#276419\"]], \"sequential\": [[0.0, \"#0d0887\"], [0.1111111111111111, \"#46039f\"], [0.2222222222222222, \"#7201a8\"], [0.3333333333333333, \"#9c179e\"], [0.4444444444444444, \"#bd3786\"], [0.5555555555555556, \"#d8576b\"], [0.6666666666666666, \"#ed7953\"], [0.7777777777777778, \"#fb9f3a\"], [0.8888888888888888, \"#fdca26\"], [1.0, \"#f0f921\"]], \"sequentialminus\": [[0.0, \"#0d0887\"], [0.1111111111111111, \"#46039f\"], [0.2222222222222222, \"#7201a8\"], [0.3333333333333333, \"#9c179e\"], [0.4444444444444444, \"#bd3786\"], [0.5555555555555556, \"#d8576b\"], [0.6666666666666666, \"#ed7953\"], [0.7777777777777778, \"#fb9f3a\"], [0.8888888888888888, \"#fdca26\"], [1.0, \"#f0f921\"]]}, \"colorway\": [\"#636efa\", \"#EF553B\", \"#00cc96\", \"#ab63fa\", \"#FFA15A\", \"#19d3f3\", \"#FF6692\", \"#B6E880\", \"#FF97FF\", \"#FECB52\"], \"font\": {\"color\": \"#2a3f5f\"}, \"geo\": {\"bgcolor\": \"white\", \"lakecolor\": \"white\", \"landcolor\": \"#E5ECF6\", \"showlakes\": true, \"showland\": true, \"subunitcolor\": \"white\"}, \"hoverlabel\": {\"align\": \"left\"}, \"hovermode\": \"closest\", \"mapbox\": {\"style\": \"light\"}, \"paper_bgcolor\": \"white\", \"plot_bgcolor\": \"#E5ECF6\", \"polar\": {\"angularaxis\": {\"gridcolor\": \"white\", \"linecolor\": \"white\", \"ticks\": \"\"}, \"bgcolor\": \"#E5ECF6\", \"radialaxis\": {\"gridcolor\": \"white\", \"linecolor\": \"white\", \"ticks\": \"\"}}, \"scene\": {\"xaxis\": {\"backgroundcolor\": \"#E5ECF6\", \"gridcolor\": \"white\", \"gridwidth\": 2, \"linecolor\": \"white\", \"showbackground\": true, \"ticks\": \"\", \"zerolinecolor\": \"white\"}, \"yaxis\": {\"backgroundcolor\": \"#E5ECF6\", \"gridcolor\": \"white\", \"gridwidth\": 2, \"linecolor\": \"white\", \"showbackground\": true, \"ticks\": \"\", \"zerolinecolor\": \"white\"}, \"zaxis\": {\"backgroundcolor\": \"#E5ECF6\", \"gridcolor\": \"white\", \"gridwidth\": 2, \"linecolor\": \"white\", \"showbackground\": true, \"ticks\": \"\", \"zerolinecolor\": \"white\"}}, \"shapedefaults\": {\"line\": {\"color\": \"#2a3f5f\"}}, \"ternary\": {\"aaxis\": {\"gridcolor\": \"white\", \"linecolor\": \"white\", \"ticks\": \"\"}, \"baxis\": {\"gridcolor\": \"white\", \"linecolor\": \"white\", \"ticks\": \"\"}, \"bgcolor\": \"#E5ECF6\", \"caxis\": {\"gridcolor\": \"white\", \"linecolor\": \"white\", \"ticks\": \"\"}}, \"title\": {\"x\": 0.05}, \"xaxis\": {\"automargin\": true, \"gridcolor\": \"white\", \"linecolor\": \"white\", \"ticks\": \"\", \"title\": {\"standoff\": 15}, \"zerolinecolor\": \"white\", \"zerolinewidth\": 2}, \"yaxis\": {\"automargin\": true, \"gridcolor\": \"white\", \"linecolor\": \"white\", \"ticks\": \"\", \"title\": {\"standoff\": 15}, \"zerolinecolor\": \"white\", \"zerolinewidth\": 2}}}, \"xaxis\": {\"anchor\": \"y\", \"domain\": [0.0, 1.0], \"title\": {\"text\": \"second_name\"}}, \"yaxis\": {\"anchor\": \"x\", \"domain\": [0.0, 1.0], \"title\": {\"text\": \"value\"}}},                        {\"responsive\": true}                    ).then(function(){\n",
       "                            \n",
       "var gd = document.getElementById('7e659e5d-77ac-465b-a96e-0bc7b5968c52');\n",
       "var x = new MutationObserver(function (mutations, observer) {{\n",
       "        var display = window.getComputedStyle(gd).display;\n",
       "        if (!display || display === 'none') {{\n",
       "            console.log([gd, 'removed!']);\n",
       "            Plotly.purge(gd);\n",
       "            observer.disconnect();\n",
       "        }}\n",
       "}});\n",
       "\n",
       "// Listen for the removal of the full notebook cells\n",
       "var notebookContainer = gd.closest('#notebook-container');\n",
       "if (notebookContainer) {{\n",
       "    x.observe(notebookContainer, {childList: true});\n",
       "}}\n",
       "\n",
       "// Listen for the clearing of the current output cell\n",
       "var outputEl = gd.closest('.output');\n",
       "if (outputEl) {{\n",
       "    x.observe(outputEl, {childList: true});\n",
       "}}\n",
       "\n",
       "                        })                };                });            </script>        </div>"
      ]
     },
     "metadata": {},
     "output_type": "display_data"
    },
    {
     "data": {
      "application/vnd.plotly.v1+json": {
       "config": {
        "plotlyServerURL": "https://plot.ly"
       },
       "data": [
        {
         "alignmentgroup": "True",
         "customdata": [
          [
           "Southampton"
          ],
          [
           "Arsenal"
          ],
          [
           "Man City"
          ],
          [
           "Liverpool"
          ],
          [
           "Liverpool"
          ],
          [
           "Liverpool"
          ],
          [
           "Liverpool"
          ],
          [
           "Wolves"
          ],
          [
           "Leeds"
          ],
          [
           "Leeds"
          ],
          [
           "Leeds"
          ],
          [
           "Leeds"
          ],
          [
           "Leeds"
          ],
          [
           "Leicester"
          ],
          [
           "Leicester"
          ],
          [
           "Leicester"
          ],
          [
           "Leicester"
          ],
          [
           "Fulham"
          ],
          [
           "Fulham"
          ],
          [
           "Fulham"
          ],
          [
           "Fulham"
          ],
          [
           "Everton"
          ],
          [
           "Everton"
          ],
          [
           "Crystal Palace"
          ],
          [
           "Crystal Palace"
          ],
          [
           "Chelsea"
          ],
          [
           "Man City"
          ],
          [
           "Man City"
          ],
          [
           "Man City"
          ],
          [
           "Man City"
          ],
          [
           "Wolves"
          ],
          [
           "Wolves"
          ],
          [
           "Wolves"
          ],
          [
           "West Ham"
          ],
          [
           "West Ham"
          ],
          [
           "West Brom"
          ],
          [
           "Spurs"
          ],
          [
           "Spurs"
          ],
          [
           "Spurs"
          ],
          [
           "Southampton"
          ],
          [
           "Southampton"
          ],
          [
           "Burnley"
          ],
          [
           "Southampton"
          ],
          [
           "Southampton"
          ],
          [
           "Sheffield Utd"
          ],
          [
           "Sheffield Utd"
          ],
          [
           "Sheffield Utd"
          ],
          [
           "Newcastle"
          ],
          [
           "Newcastle"
          ],
          [
           "Man Utd"
          ],
          [
           "Man Utd"
          ],
          [
           "Man Utd"
          ],
          [
           "Man Utd"
          ],
          [
           "Man Utd"
          ],
          [
           "Southampton"
          ],
          [
           "Burnley"
          ],
          [
           "Wolves"
          ],
          [
           "Brighton"
          ],
          [
           "Brighton"
          ],
          [
           "Brighton"
          ],
          [
           "Brighton"
          ],
          [
           "Aston Villa"
          ],
          [
           "Aston Villa"
          ],
          [
           "Aston Villa"
          ],
          [
           "Aston Villa"
          ],
          [
           "Arsenal"
          ],
          [
           "Brighton"
          ],
          [
           "Aston Villa"
          ],
          [
           "Brighton"
          ],
          [
           "Arsenal"
          ],
          [
           "Leicester"
          ],
          [
           "Newcastle"
          ],
          [
           "Sheffield Utd"
          ],
          [
           "Man Utd"
          ],
          [
           "Everton"
          ],
          [
           "Leicester"
          ],
          [
           "Brighton"
          ],
          [
           "Brighton"
          ],
          [
           "West Ham"
          ],
          [
           "Southampton"
          ],
          [
           "Arsenal"
          ],
          [
           "West Brom"
          ],
          [
           "Chelsea"
          ],
          [
           "West Brom"
          ],
          [
           "Brighton"
          ],
          [
           "Leicester"
          ],
          [
           "Everton"
          ],
          [
           "Wolves"
          ],
          [
           "West Brom"
          ],
          [
           "Southampton"
          ],
          [
           "Everton"
          ],
          [
           "Fulham"
          ],
          [
           "Brighton"
          ],
          [
           "West Brom"
          ],
          [
           "Fulham"
          ],
          [
           "Wolves"
          ],
          [
           "Fulham"
          ],
          [
           "Aston Villa"
          ],
          [
           "Burnley"
          ],
          [
           "Liverpool"
          ],
          [
           "Spurs"
          ],
          [
           "Brighton"
          ],
          [
           "Newcastle"
          ],
          [
           "Burnley"
          ],
          [
           "Arsenal"
          ],
          [
           "Leeds"
          ],
          [
           "West Brom"
          ],
          [
           "Spurs"
          ],
          [
           "Leicester"
          ],
          [
           "Leicester"
          ],
          [
           "West Ham"
          ],
          [
           "Man Utd"
          ],
          [
           "Liverpool"
          ],
          [
           "Brighton"
          ],
          [
           "Newcastle"
          ],
          [
           "Everton"
          ],
          [
           "Leeds"
          ],
          [
           "Spurs"
          ],
          [
           "Man Utd"
          ],
          [
           "Aston Villa"
          ],
          [
           "Southampton"
          ],
          [
           "West Brom"
          ],
          [
           "Leeds"
          ],
          [
           "West Ham"
          ],
          [
           "Wolves"
          ],
          [
           "Burnley"
          ],
          [
           "Aston Villa"
          ],
          [
           "Arsenal"
          ],
          [
           "West Brom"
          ],
          [
           "Liverpool"
          ],
          [
           "Spurs"
          ],
          [
           "Aston Villa"
          ],
          [
           "Crystal Palace"
          ],
          [
           "West Ham"
          ],
          [
           "West Brom"
          ],
          [
           "Southampton"
          ],
          [
           "Fulham"
          ],
          [
           "Liverpool"
          ],
          [
           "Everton"
          ],
          [
           "Man Utd"
          ],
          [
           "Spurs"
          ],
          [
           "Newcastle"
          ],
          [
           "Sheffield Utd"
          ],
          [
           "Arsenal"
          ],
          [
           "Chelsea"
          ],
          [
           "Man Utd"
          ],
          [
           "Spurs"
          ],
          [
           "Chelsea"
          ],
          [
           "Leicester"
          ],
          [
           "Leeds"
          ],
          [
           "West Brom"
          ],
          [
           "Southampton"
          ],
          [
           "Brighton"
          ],
          [
           "Everton"
          ],
          [
           "Sheffield Utd"
          ],
          [
           "Newcastle"
          ],
          [
           "Arsenal"
          ],
          [
           "West Brom"
          ],
          [
           "Chelsea"
          ],
          [
           "Newcastle"
          ],
          [
           "Liverpool"
          ],
          [
           "Brighton"
          ],
          [
           "Everton"
          ],
          [
           "Burnley"
          ],
          [
           "Leicester"
          ],
          [
           "West Ham"
          ],
          [
           "Southampton"
          ],
          [
           "Brighton"
          ],
          [
           "Man City"
          ],
          [
           "Southampton"
          ],
          [
           "Man Utd"
          ],
          [
           "Sheffield Utd"
          ],
          [
           "Arsenal"
          ],
          [
           "Arsenal"
          ],
          [
           "Newcastle"
          ],
          [
           "Newcastle"
          ],
          [
           "Spurs"
          ],
          [
           "Arsenal"
          ],
          [
           "Crystal Palace"
          ],
          [
           "Burnley"
          ],
          [
           "Chelsea"
          ],
          [
           "Leicester"
          ],
          [
           "Sheffield Utd"
          ],
          [
           "Sheffield Utd"
          ],
          [
           "Chelsea"
          ],
          [
           "Arsenal"
          ],
          [
           "Sheffield Utd"
          ],
          [
           "Man Utd"
          ],
          [
           "Newcastle"
          ],
          [
           "West Brom"
          ],
          [
           "Crystal Palace"
          ],
          [
           "Crystal Palace"
          ],
          [
           "Fulham"
          ],
          [
           "Man Utd"
          ],
          [
           "Liverpool"
          ],
          [
           "Everton"
          ],
          [
           "Liverpool"
          ],
          [
           "Fulham"
          ],
          [
           "Man City"
          ],
          [
           "Liverpool"
          ],
          [
           "Leicester"
          ],
          [
           "Spurs"
          ],
          [
           "Liverpool"
          ],
          [
           "Newcastle"
          ],
          [
           "Aston Villa"
          ],
          [
           "Leeds"
          ],
          [
           "Aston Villa"
          ],
          [
           "Wolves"
          ],
          [
           "Liverpool"
          ],
          [
           "Southampton"
          ],
          [
           "Man City"
          ],
          [
           "West Ham"
          ],
          [
           "Newcastle"
          ],
          [
           "Arsenal"
          ],
          [
           "Arsenal"
          ],
          [
           "West Brom"
          ],
          [
           "Leeds"
          ],
          [
           "Burnley"
          ],
          [
           "Chelsea"
          ],
          [
           "Southampton"
          ],
          [
           "Everton"
          ],
          [
           "Wolves"
          ],
          [
           "Man City"
          ],
          [
           "Aston Villa"
          ],
          [
           "Leicester"
          ],
          [
           "Wolves"
          ],
          [
           "Crystal Palace"
          ],
          [
           "Everton"
          ],
          [
           "Aston Villa"
          ],
          [
           "Fulham"
          ],
          [
           "Brighton"
          ],
          [
           "Man City"
          ],
          [
           "Wolves"
          ],
          [
           "Everton"
          ],
          [
           "Brighton"
          ],
          [
           "Crystal Palace"
          ],
          [
           "Fulham"
          ],
          [
           "Newcastle"
          ],
          [
           "Fulham"
          ],
          [
           "Crystal Palace"
          ],
          [
           "Liverpool"
          ],
          [
           "Brighton"
          ],
          [
           "Liverpool"
          ],
          [
           "Burnley"
          ],
          [
           "Spurs"
          ],
          [
           "Burnley"
          ],
          [
           "Crystal Palace"
          ],
          [
           "Man Utd"
          ],
          [
           "Crystal Palace"
          ],
          [
           "Aston Villa"
          ],
          [
           "West Ham"
          ],
          [
           "Man City"
          ],
          [
           "Aston Villa"
          ],
          [
           "Man Utd"
          ],
          [
           "West Ham"
          ],
          [
           "Leeds"
          ],
          [
           "Spurs"
          ],
          [
           "Southampton"
          ],
          [
           "Leicester"
          ],
          [
           "Aston Villa"
          ],
          [
           "Chelsea"
          ],
          [
           "Leicester"
          ],
          [
           "Wolves"
          ],
          [
           "Man City"
          ],
          [
           "Man Utd"
          ],
          [
           "Arsenal"
          ],
          [
           "West Ham"
          ],
          [
           "Brighton"
          ],
          [
           "Leicester"
          ],
          [
           "Spurs"
          ],
          [
           "Fulham"
          ],
          [
           "Chelsea"
          ],
          [
           "Leeds"
          ],
          [
           "West Brom"
          ],
          [
           "Wolves"
          ],
          [
           "Southampton"
          ],
          [
           "Leeds"
          ],
          [
           "West Ham"
          ],
          [
           "Man City"
          ]
         ],
         "hovertemplate": "second_name=%{x}<br>value=%{y}<br>team=%{customdata[0]}<extra></extra>",
         "legendgroup": "",
         "marker": {
          "color": "#636efa"
         },
         "name": "",
         "offsetgroup": "",
         "orientation": "v",
         "showlegend": false,
         "textposition": "auto",
         "type": "bar",
         "x": [
          "Jankewitz",
          "Özil",
          "Doyle",
          "Cain",
          "Clarkson",
          "Elliott",
          "Wilson",
          "Perry",
          "Jenkins",
          "Bogusz",
          "Stevens",
          "Grot",
          "Forshaw",
          "Suengchitthawon",
          "Flynn",
          "James",
          "Silva",
          "Seri",
          "Knockaert",
          "Johansen",
          "McDonald",
          "Broadhead",
          "Onyango",
          "Pierrick",
          "Meyer",
          "Anjorin",
          "Bernabé",
          "Palmer",
          "Nmecha",
          "Gomes",
          "Corbeanu",
          "Shabani",
          "Cavaco Jordao",
          "Coventry",
          "Wilshere",
          "Leko",
          "Devine",
          "Skipp",
          "Carvalho Fernandes",
          "Finnigan",
          "Ferry",
          "Mancini",
          "Chauke",
          "Boufal",
          "Maguire",
          "Brunt",
          "Freeman",
          "Aarons",
          "Atsu",
          "Diallo",
          "Pellistri",
          "Garner",
          "Chong",
          "Pereira",
          "Sims",
          "Goodridge",
          "Cundle",
          "Caicedo",
          "Jenks",
          "Sanders",
          "Weir",
          "Peleteiro Romallo",
          "Lansbury",
          "Hayden",
          "Philogene-Bidace",
          "Guendouzi",
          "Mooy",
          "Chukwuemeka",
          "Izquierdo",
          "Torreira",
          "Leshabela",
          "Anderson",
          "Ndiaye",
          "Shoretire",
          "Gbamin",
          "Gray",
          "Khadra",
          "Molumby",
          "Pereira Gomes",
          "Watts",
          "Nelson",
          "Harper",
          "Gilmour",
          "Field",
          "Tau",
          "Tavares",
          "Gordon",
          "Gibbs-White",
          "Edwards",
          "Smallbone",
          "Delph",
          "Kebano",
          "Moder",
          "Grosicki",
          "Onomah",
          "Otasowie",
          "Kamara",
          "Sanson",
          "Stephens",
          "Oxlade-Chamberlain",
          "Alli",
          "Pröpper",
          "Longstaff",
          "Benson",
          "Martinelli Silva",
          "Poveda-Ocampo",
          "Snodgrass",
          "Winks",
          "Ünder",
          "Choudhury",
          "Yarmolenko",
          "van de Beek",
          "Keita",
          "Jahanbakhsh",
          "Ritchie",
          "Anício Caldeira Duarte",
          "Shackleton",
          "Lo Celso",
          "Mata",
          "Hourihane",
          "Tella",
          "Krovinovic",
          "Hernández Domínguez",
          "Lanzini",
          "Ferreira",
          "Cork",
          "Nakamba",
          "Ødegaard",
          "Yokuslu",
          "Shaqiri",
          "Lamela",
          "Ramsey",
          "McCarthy",
          "Noble",
          "Livermore",
          "Diallo",
          "Cairney",
          "Alcántara do Nascimento",
          "Marques Loureiro",
          "James",
          "Bergwijn",
          "Longstaff",
          "Berge",
          "Partey",
          "Pulisic",
          "Matic",
          "Bale",
          "Ziyech",
          "Praet",
          "Roberts",
          "Diangana",
          "Minamino",
          "Alzate",
          "Davies",
          "Osborn",
          "Fraser",
          "El Sayed Elneny",
          "Sawyers",
          "Havertz",
          "Willock",
          "Milner",
          "Mac Allister",
          "Tavares Gomes",
          "Gudmundsson",
          "Pérez",
          "Benrahma",
          "Djenepo",
          "Lallana",
          "Torres",
          "Redmond",
          "Greenwood",
          "Norwood",
          "Pépé",
          "Borges Da Silva",
          "Murphy",
          "Hayden",
          "Sissoko",
          "Ceballos Fernández",
          "McArthur",
          "Brady",
          "Hudson-Odoi",
          "Mendy",
          "Lundstram",
          "Fleck",
          "Kovacic",
          "Aubameyang",
          "Burke",
          "Pogba",
          "Shelvey",
          "Phillips",
          "Schlupp",
          "Milivojevic",
          "Lemina",
          "Rodrigues de Paula Santos",
          "Tavares",
          "Iwobi",
          "Jones",
          "Loftus-Cheek",
          "Veiga de Carvalho e Silva",
          "Jota",
          "Albrighton",
          "Rodrigues Moura da Silva",
          "Henderson",
          "Saint-Maximin",
          "Ibrahim Hassan",
          "Phillips",
          "Barkley",
          "Traoré",
          "Mané",
          "Walcott",
          "De Bruyne",
          "Lingard",
          "Hendrick",
          "Xhaka",
          "Smith Rowe",
          "Gallagher",
          "Sousa de Azevedo e Costa",
          "Brownhill",
          "Kanté",
          "Romeu Vidal",
          "Rodríguez",
          "Santos Moutinho",
          "Sterling",
          "Soares de Paulo",
          "Ndidi",
          "Castelo Podence",
          "Riedewald",
          "Sigurdsson",
          "El Ghazi",
          "Neves Abreu Cavaleiro",
          "Bissouma",
          "Hernandez",
          "Dendoncker",
          "Doucouré",
          "March",
          "Townsend",
          "Reed",
          "Almirón",
          "Zambo Anguissa",
          "Kouyaté",
          "Salah",
          "Groß",
          "Wijnaldum",
          "Westwood",
          "Ndombele",
          "McNeil",
          "Eze",
          "Rashford",
          "Zaha",
          "McGinn",
          "Fornals",
          "Mahrez",
          "Traoré",
          "McTominay",
          "Rice",
          "Klich",
          "Højbjerg",
          "Armstrong",
          "Maddison",
          "Grealish",
          "Mount",
          "Tielemans",
          "da Silva Neves",
          "Foden",
          "Borges Fernandes",
          "Saka",
          "Bowen",
          "Trossard",
          "Barnes",
          "Son",
          "Lookman",
          "Frello Filho",
          "Dias Belloli",
          "Pereira",
          "Lomba Neto",
          "Ward-Prowse",
          "Harrison",
          "Soucek",
          "Gündogan"
         ],
         "xaxis": "x",
         "y": [
          -0.2,
          0,
          0,
          0,
          0,
          0,
          0,
          0,
          0,
          0,
          0,
          0,
          0,
          0,
          0,
          0,
          0,
          0,
          0,
          0,
          0,
          0,
          0,
          0,
          0,
          0,
          0,
          0,
          0,
          0,
          0,
          0,
          0,
          0,
          0,
          0,
          0,
          0,
          0,
          0,
          0,
          0,
          0,
          0,
          0,
          0,
          0,
          0,
          0,
          0,
          0,
          0,
          0,
          0,
          0,
          0,
          0,
          0,
          0,
          0,
          0,
          0,
          0,
          0,
          0,
          0,
          0,
          0,
          0,
          0,
          0.2,
          0.2,
          0.2,
          0.2,
          0.2,
          0.2,
          0.2,
          0.2,
          0.3,
          0.4,
          0.4,
          0.5,
          0.5,
          0.6,
          0.6,
          0.7,
          0.7,
          1,
          1.1,
          1.2,
          1.2,
          1.3,
          1.4,
          1.5,
          1.5,
          1.6,
          1.7,
          1.8,
          1.9,
          1.9,
          1.9,
          1.9,
          2.1,
          2.2,
          2.2,
          2.4,
          2.5,
          2.5,
          2.8,
          2.8,
          2.9,
          2.9,
          2.9,
          3,
          3.1,
          3.2,
          3.3,
          3.3,
          3.4,
          3.4,
          3.5,
          3.5,
          3.5,
          3.6,
          3.6,
          3.6,
          3.7,
          3.8,
          3.8,
          3.8,
          4,
          4.2,
          4.2,
          4.4,
          5.1,
          5.1,
          5.2,
          5.5,
          5.6,
          5.6,
          5.7,
          5.9,
          5.9,
          6.1,
          6.1,
          6.2,
          6.3,
          6.5,
          6.7,
          6.7,
          6.8,
          6.8,
          6.9,
          6.9,
          7,
          7,
          7.1,
          7.2,
          7.2,
          7.4,
          7.4,
          7.4,
          7.5,
          7.6,
          7.8,
          7.8,
          7.8,
          7.9,
          8,
          8,
          8,
          8.2,
          8.3,
          8.4,
          8.6,
          8.7,
          8.7,
          8.7,
          8.7,
          8.8,
          8.9,
          9,
          9,
          9.3,
          9.4,
          9.5,
          9.5,
          9.5,
          9.6,
          9.6,
          9.6,
          9.8,
          9.8,
          9.8,
          9.8,
          9.8,
          9.8,
          10,
          10,
          10,
          10,
          10.3,
          10.4,
          10.4,
          10.4,
          10.4,
          10.5,
          10.7,
          10.7,
          10.7,
          10.8,
          10.8,
          10.9,
          11,
          11,
          11.1,
          11.2,
          11.2,
          11.2,
          11.3,
          11.4,
          11.7,
          12,
          12.1,
          12.3,
          12.3,
          12.7,
          12.9,
          13.4,
          13.4,
          13.6,
          13.6,
          13.7,
          13.7,
          13.8,
          13.8,
          14.1,
          14.1,
          14.4,
          14.4,
          14.7,
          14.7,
          14.9,
          14.9,
          14.9,
          15.3,
          15.3,
          15.6,
          15.6,
          15.8,
          15.9,
          16.1,
          16.1,
          16.1,
          16.2,
          16.3,
          16.5,
          16.9,
          16.9,
          17.2,
          17.3,
          17.4,
          17.8,
          18,
          18.4,
          18.5,
          18.6,
          18.8,
          18.8,
          19.1,
          19.2,
          19.8,
          20.2,
          20.9,
          21.6,
          21.7,
          23,
          23.2,
          23.7
         ],
         "yaxis": "y"
        },
        {
         "customdata": [
          [
           45
          ],
          [
           67
          ],
          [
           44
          ],
          [
           45
          ],
          [
           45
          ],
          [
           43
          ],
          [
           51
          ],
          [
           45
          ],
          [
           45
          ],
          [
           43
          ],
          [
           43
          ],
          [
           47
          ],
          [
           48
          ],
          [
           45
          ],
          [
           45
          ],
          [
           43
          ],
          [
           44
          ],
          [
           46
          ],
          [
           50
          ],
          [
           47
          ],
          [
           47
          ],
          [
           45
          ],
          [
           45
          ],
          [
           43
          ],
          [
           47
          ],
          [
           45
          ],
          [
           45
          ],
          [
           44
          ],
          [
           45
          ],
          [
           45
          ],
          [
           45
          ],
          [
           44
          ],
          [
           43
          ],
          [
           45
          ],
          [
           49
          ],
          [
           45
          ],
          [
           44
          ],
          [
           44
          ],
          [
           47
          ],
          [
           45
          ],
          [
           45
          ],
          [
           44
          ],
          [
           44
          ],
          [
           54
          ],
          [
           44
          ],
          [
           45
          ],
          [
           50
          ],
          [
           48
          ],
          [
           52
          ],
          [
           54
          ],
          [
           52
          ],
          [
           44
          ],
          [
           44
          ],
          [
           48
          ],
          [
           43
          ],
          [
           45
          ],
          [
           45
          ],
          [
           50
          ],
          [
           45
          ],
          [
           45
          ],
          [
           45
          ],
          [
           59
          ],
          [
           43
          ],
          [
           45
          ],
          [
           45
          ],
          [
           47
          ],
          [
           50
          ],
          [
           45
          ],
          [
           55
          ],
          [
           47
          ],
          [
           44
          ],
          [
           45
          ],
          [
           45
          ],
          [
           45
          ],
          [
           50
          ],
          [
           51
          ],
          [
           45
          ],
          [
           45
          ],
          [
           61
          ],
          [
           45
          ],
          [
           51
          ],
          [
           43
          ],
          [
           44
          ],
          [
           48
          ],
          [
           49
          ],
          [
           44
          ],
          [
           43
          ],
          [
           49
          ],
          [
           47
          ],
          [
           43
          ],
          [
           48
          ],
          [
           47
          ],
          [
           50
          ],
          [
           52
          ],
          [
           46
          ],
          [
           45
          ],
          [
           48
          ],
          [
           55
          ],
          [
           42
          ],
          [
           63
          ],
          [
           74
          ],
          [
           47
          ],
          [
           48
          ],
          [
           45
          ],
          [
           49
          ],
          [
           42
          ],
          [
           56
          ],
          [
           51
          ],
          [
           57
          ],
          [
           46
          ],
          [
           55
          ],
          [
           66
          ],
          [
           52
          ],
          [
           54
          ],
          [
           49
          ],
          [
           57
          ],
          [
           48
          ],
          [
           69
          ],
          [
           58
          ],
          [
           59
          ],
          [
           43
          ],
          [
           49
          ],
          [
           57
          ],
          [
           64
          ],
          [
           47
          ],
          [
           50
          ],
          [
           43
          ],
          [
           60
          ],
          [
           45
          ],
          [
           64
          ],
          [
           57
          ],
          [
           45
          ],
          [
           43
          ],
          [
           45
          ],
          [
           47
          ],
          [
           45
          ],
          [
           52
          ],
          [
           55
          ],
          [
           52
          ],
          [
           62
          ],
          [
           70
          ],
          [
           46
          ],
          [
           49
          ],
          [
           49
          ],
          [
           82
          ],
          [
           47
          ],
          [
           93
          ],
          [
           79
          ],
          [
           52
          ],
          [
           46
          ],
          [
           50
          ],
          [
           60
          ],
          [
           42
          ],
          [
           52
          ],
          [
           47
          ],
          [
           56
          ],
          [
           42
          ],
          [
           46
          ],
          [
           82
          ],
          [
           47
          ],
          [
           53
          ],
          [
           53
          ],
          [
           53
          ],
          [
           54
          ],
          [
           60
          ],
          [
           60
          ],
          [
           54
          ],
          [
           62
          ],
          [
           69
          ],
          [
           64
          ],
          [
           70
          ],
          [
           45
          ],
          [
           76
          ],
          [
           75
          ],
          [
           49
          ],
          [
           46
          ],
          [
           47
          ],
          [
           47
          ],
          [
           52
          ],
          [
           50
          ],
          [
           57
          ],
          [
           42
          ],
          [
           49
          ],
          [
           56
          ],
          [
           53
          ],
          [
           114
          ],
          [
           41
          ],
          [
           76
          ],
          [
           53
          ],
          [
           51
          ],
          [
           53
          ],
          [
           56
          ],
          [
           45
          ],
          [
           53
          ],
          [
           54
          ],
          [
           59
          ],
          [
           44
          ],
          [
           59
          ],
          [
           74
          ],
          [
           69
          ],
          [
           52
          ],
          [
           66
          ],
          [
           54
          ],
          [
           51
          ],
          [
           52
          ],
          [
           49
          ],
          [
           59
          ],
          [
           60
          ],
          [
           118
          ],
          [
           58
          ],
          [
           119
          ],
          [
           63
          ],
          [
           45
          ],
          [
           52
          ],
          [
           42
          ],
          [
           55
          ],
          [
           50
          ],
          [
           49
          ],
          [
           49
          ],
          [
           45
          ],
          [
           77
          ],
          [
           52
          ],
          [
           113
          ],
          [
           48
          ],
          [
           48
          ],
          [
           53
          ],
          [
           44
          ],
          [
           68
          ],
          [
           53
          ],
          [
           53
          ],
          [
           44
          ],
          [
           53
          ],
          [
           46
          ],
          [
           52
          ],
          [
           50
          ],
          [
           55
          ],
          [
           44
          ],
          [
           56
          ],
          [
           45
          ],
          [
           48
          ],
          [
           124
          ],
          [
           58
          ],
          [
           53
          ],
          [
           53
          ],
          [
           59
          ],
          [
           57
          ],
          [
           58
          ],
          [
           95
          ],
          [
           71
          ],
          [
           55
          ],
          [
           58
          ],
          [
           82
          ],
          [
           59
          ],
          [
           49
          ],
          [
           47
          ],
          [
           52
          ],
          [
           49
          ],
          [
           55
          ],
          [
           71
          ],
          [
           75
          ],
          [
           71
          ],
          [
           65
          ],
          [
           51
          ],
          [
           60
          ],
          [
           116
          ],
          [
           52
          ],
          [
           59
          ],
          [
           58
          ],
          [
           67
          ],
          [
           94
          ],
          [
           50
          ],
          [
           47
          ],
          [
           56
          ],
          [
           53
          ],
          [
           57
          ],
          [
           59
          ],
          [
           54
          ],
          [
           53
          ],
          [
           60
          ]
         ],
         "hovertemplate": "second_name=%{x}<br>total_points=%{y}<br>now_cost=%{customdata[0]}<extra></extra>",
         "legendgroup": "",
         "marker": {
          "color": "#636efa",
          "symbol": "circle"
         },
         "mode": "markers",
         "name": "",
         "orientation": "v",
         "showlegend": false,
         "type": "scatter",
         "x": [
          "Jankewitz",
          "Özil",
          "Doyle",
          "Cain",
          "Clarkson",
          "Elliott",
          "Wilson",
          "Perry",
          "Jenkins",
          "Bogusz",
          "Stevens",
          "Grot",
          "Forshaw",
          "Suengchitthawon",
          "Flynn",
          "James",
          "Silva",
          "Seri",
          "Knockaert",
          "Johansen",
          "McDonald",
          "Broadhead",
          "Onyango",
          "Pierrick",
          "Meyer",
          "Anjorin",
          "Bernabé",
          "Palmer",
          "Nmecha",
          "Gomes",
          "Corbeanu",
          "Shabani",
          "Cavaco Jordao",
          "Coventry",
          "Wilshere",
          "Leko",
          "Devine",
          "Skipp",
          "Carvalho Fernandes",
          "Finnigan",
          "Ferry",
          "Mancini",
          "Chauke",
          "Boufal",
          "Maguire",
          "Brunt",
          "Freeman",
          "Aarons",
          "Atsu",
          "Diallo",
          "Pellistri",
          "Garner",
          "Chong",
          "Pereira",
          "Sims",
          "Goodridge",
          "Cundle",
          "Caicedo",
          "Jenks",
          "Sanders",
          "Weir",
          "Peleteiro Romallo",
          "Lansbury",
          "Hayden",
          "Philogene-Bidace",
          "Guendouzi",
          "Mooy",
          "Chukwuemeka",
          "Izquierdo",
          "Torreira",
          "Leshabela",
          "Anderson",
          "Ndiaye",
          "Shoretire",
          "Gbamin",
          "Gray",
          "Khadra",
          "Molumby",
          "Pereira Gomes",
          "Watts",
          "Nelson",
          "Harper",
          "Gilmour",
          "Field",
          "Tau",
          "Tavares",
          "Gordon",
          "Gibbs-White",
          "Edwards",
          "Smallbone",
          "Delph",
          "Kebano",
          "Moder",
          "Grosicki",
          "Onomah",
          "Otasowie",
          "Kamara",
          "Sanson",
          "Stephens",
          "Oxlade-Chamberlain",
          "Alli",
          "Pröpper",
          "Longstaff",
          "Benson",
          "Martinelli Silva",
          "Poveda-Ocampo",
          "Snodgrass",
          "Winks",
          "Ünder",
          "Choudhury",
          "Yarmolenko",
          "van de Beek",
          "Keita",
          "Jahanbakhsh",
          "Ritchie",
          "Anício Caldeira Duarte",
          "Shackleton",
          "Lo Celso",
          "Mata",
          "Hourihane",
          "Tella",
          "Krovinovic",
          "Hernández Domínguez",
          "Lanzini",
          "Ferreira",
          "Cork",
          "Nakamba",
          "Ødegaard",
          "Yokuslu",
          "Shaqiri",
          "Lamela",
          "Ramsey",
          "McCarthy",
          "Noble",
          "Livermore",
          "Diallo",
          "Cairney",
          "Alcántara do Nascimento",
          "Marques Loureiro",
          "James",
          "Bergwijn",
          "Longstaff",
          "Berge",
          "Partey",
          "Pulisic",
          "Matic",
          "Bale",
          "Ziyech",
          "Praet",
          "Roberts",
          "Diangana",
          "Minamino",
          "Alzate",
          "Davies",
          "Osborn",
          "Fraser",
          "El Sayed Elneny",
          "Sawyers",
          "Havertz",
          "Willock",
          "Milner",
          "Mac Allister",
          "Tavares Gomes",
          "Gudmundsson",
          "Pérez",
          "Benrahma",
          "Djenepo",
          "Lallana",
          "Torres",
          "Redmond",
          "Greenwood",
          "Norwood",
          "Pépé",
          "Borges Da Silva",
          "Murphy",
          "Hayden",
          "Sissoko",
          "Ceballos Fernández",
          "McArthur",
          "Brady",
          "Hudson-Odoi",
          "Mendy",
          "Lundstram",
          "Fleck",
          "Kovacic",
          "Aubameyang",
          "Burke",
          "Pogba",
          "Shelvey",
          "Phillips",
          "Schlupp",
          "Milivojevic",
          "Lemina",
          "Rodrigues de Paula Santos",
          "Tavares",
          "Iwobi",
          "Jones",
          "Loftus-Cheek",
          "Veiga de Carvalho e Silva",
          "Jota",
          "Albrighton",
          "Rodrigues Moura da Silva",
          "Henderson",
          "Saint-Maximin",
          "Ibrahim Hassan",
          "Phillips",
          "Barkley",
          "Traoré",
          "Mané",
          "Walcott",
          "De Bruyne",
          "Lingard",
          "Hendrick",
          "Xhaka",
          "Smith Rowe",
          "Gallagher",
          "Sousa de Azevedo e Costa",
          "Brownhill",
          "Kanté",
          "Romeu Vidal",
          "Rodríguez",
          "Santos Moutinho",
          "Sterling",
          "Soares de Paulo",
          "Ndidi",
          "Castelo Podence",
          "Riedewald",
          "Sigurdsson",
          "El Ghazi",
          "Neves Abreu Cavaleiro",
          "Bissouma",
          "Hernandez",
          "Dendoncker",
          "Doucouré",
          "March",
          "Townsend",
          "Reed",
          "Almirón",
          "Zambo Anguissa",
          "Kouyaté",
          "Salah",
          "Groß",
          "Wijnaldum",
          "Westwood",
          "Ndombele",
          "McNeil",
          "Eze",
          "Rashford",
          "Zaha",
          "McGinn",
          "Fornals",
          "Mahrez",
          "Traoré",
          "McTominay",
          "Rice",
          "Klich",
          "Højbjerg",
          "Armstrong",
          "Maddison",
          "Grealish",
          "Mount",
          "Tielemans",
          "da Silva Neves",
          "Foden",
          "Borges Fernandes",
          "Saka",
          "Bowen",
          "Trossard",
          "Barnes",
          "Son",
          "Lookman",
          "Frello Filho",
          "Dias Belloli",
          "Pereira",
          "Lomba Neto",
          "Ward-Prowse",
          "Harrison",
          "Soucek",
          "Gündogan"
         ],
         "xaxis": "x",
         "y": [
          -1,
          0,
          0,
          0,
          0,
          0,
          0,
          0,
          0,
          0,
          0,
          0,
          0,
          0,
          0,
          0,
          0,
          0,
          0,
          0,
          0,
          0,
          0,
          0,
          0,
          0,
          0,
          0,
          0,
          0,
          0,
          0,
          0,
          0,
          0,
          0,
          0,
          0,
          0,
          0,
          0,
          0,
          0,
          0,
          0,
          0,
          0,
          0,
          0,
          0,
          0,
          0,
          0,
          0,
          0,
          0,
          0,
          0,
          0,
          0,
          0,
          0,
          0,
          0,
          0,
          0,
          0,
          0,
          0,
          0,
          1,
          1,
          1,
          1,
          1,
          1,
          1,
          1,
          2,
          2,
          2,
          2,
          2,
          3,
          3,
          3,
          3,
          5,
          5,
          5,
          6,
          6,
          7,
          8,
          7,
          7,
          8,
          10,
          8,
          12,
          14,
          9,
          10,
          10,
          11,
          10,
          14,
          13,
          16,
          13,
          16,
          19,
          15,
          16,
          15,
          18,
          16,
          23,
          20,
          20,
          15,
          17,
          20,
          23,
          17,
          18,
          16,
          23,
          17,
          24,
          23,
          19,
          18,
          20,
          24,
          23,
          27,
          30,
          29,
          35,
          40,
          27,
          29,
          30,
          50,
          29,
          59,
          51,
          35,
          31,
          34,
          41,
          29,
          36,
          33,
          39,
          30,
          33,
          59,
          35,
          39,
          39,
          40,
          41,
          47,
          47,
          42,
          49,
          55,
          51,
          56,
          37,
          63,
          63,
          42,
          40,
          41,
          41,
          45,
          44,
          51,
          38,
          44,
          52,
          50,
          108,
          39,
          72,
          51,
          49,
          51,
          55,
          44,
          52,
          53,
          58,
          43,
          59,
          74,
          69,
          52,
          68,
          56,
          53,
          54,
          51,
          62,
          64,
          126,
          62,
          128,
          68,
          49,
          57,
          46,
          61,
          56,
          55,
          55,
          51,
          88,
          61,
          136,
          58,
          59,
          65,
          56,
          88,
          71,
          71,
          60,
          72,
          63,
          71,
          69,
          76,
          62,
          79,
          65,
          69,
          182,
          85,
          79,
          79,
          88,
          87,
          89,
          148,
          111,
          87,
          92,
          132,
          95,
          79,
          76,
          85,
          81,
          93,
          120,
          129,
          123,
          113,
          91,
          108,
          214,
          96,
          110,
          109,
          126,
          180,
          96,
          93,
          113,
          111,
          123,
          128,
          124,
          123,
          142
         ],
         "yaxis": "y"
        }
       ],
       "layout": {
        "barmode": "relative",
        "legend": {
         "tracegroupgap": 0
        },
        "margin": {
         "t": 60
        },
        "template": {
         "data": {
          "bar": [
           {
            "error_x": {
             "color": "#2a3f5f"
            },
            "error_y": {
             "color": "#2a3f5f"
            },
            "marker": {
             "line": {
              "color": "#E5ECF6",
              "width": 0.5
             }
            },
            "type": "bar"
           }
          ],
          "barpolar": [
           {
            "marker": {
             "line": {
              "color": "#E5ECF6",
              "width": 0.5
             }
            },
            "type": "barpolar"
           }
          ],
          "carpet": [
           {
            "aaxis": {
             "endlinecolor": "#2a3f5f",
             "gridcolor": "white",
             "linecolor": "white",
             "minorgridcolor": "white",
             "startlinecolor": "#2a3f5f"
            },
            "baxis": {
             "endlinecolor": "#2a3f5f",
             "gridcolor": "white",
             "linecolor": "white",
             "minorgridcolor": "white",
             "startlinecolor": "#2a3f5f"
            },
            "type": "carpet"
           }
          ],
          "choropleth": [
           {
            "colorbar": {
             "outlinewidth": 0,
             "ticks": ""
            },
            "type": "choropleth"
           }
          ],
          "contour": [
           {
            "colorbar": {
             "outlinewidth": 0,
             "ticks": ""
            },
            "colorscale": [
             [
              0,
              "#0d0887"
             ],
             [
              0.1111111111111111,
              "#46039f"
             ],
             [
              0.2222222222222222,
              "#7201a8"
             ],
             [
              0.3333333333333333,
              "#9c179e"
             ],
             [
              0.4444444444444444,
              "#bd3786"
             ],
             [
              0.5555555555555556,
              "#d8576b"
             ],
             [
              0.6666666666666666,
              "#ed7953"
             ],
             [
              0.7777777777777778,
              "#fb9f3a"
             ],
             [
              0.8888888888888888,
              "#fdca26"
             ],
             [
              1,
              "#f0f921"
             ]
            ],
            "type": "contour"
           }
          ],
          "contourcarpet": [
           {
            "colorbar": {
             "outlinewidth": 0,
             "ticks": ""
            },
            "type": "contourcarpet"
           }
          ],
          "heatmap": [
           {
            "colorbar": {
             "outlinewidth": 0,
             "ticks": ""
            },
            "colorscale": [
             [
              0,
              "#0d0887"
             ],
             [
              0.1111111111111111,
              "#46039f"
             ],
             [
              0.2222222222222222,
              "#7201a8"
             ],
             [
              0.3333333333333333,
              "#9c179e"
             ],
             [
              0.4444444444444444,
              "#bd3786"
             ],
             [
              0.5555555555555556,
              "#d8576b"
             ],
             [
              0.6666666666666666,
              "#ed7953"
             ],
             [
              0.7777777777777778,
              "#fb9f3a"
             ],
             [
              0.8888888888888888,
              "#fdca26"
             ],
             [
              1,
              "#f0f921"
             ]
            ],
            "type": "heatmap"
           }
          ],
          "heatmapgl": [
           {
            "colorbar": {
             "outlinewidth": 0,
             "ticks": ""
            },
            "colorscale": [
             [
              0,
              "#0d0887"
             ],
             [
              0.1111111111111111,
              "#46039f"
             ],
             [
              0.2222222222222222,
              "#7201a8"
             ],
             [
              0.3333333333333333,
              "#9c179e"
             ],
             [
              0.4444444444444444,
              "#bd3786"
             ],
             [
              0.5555555555555556,
              "#d8576b"
             ],
             [
              0.6666666666666666,
              "#ed7953"
             ],
             [
              0.7777777777777778,
              "#fb9f3a"
             ],
             [
              0.8888888888888888,
              "#fdca26"
             ],
             [
              1,
              "#f0f921"
             ]
            ],
            "type": "heatmapgl"
           }
          ],
          "histogram": [
           {
            "marker": {
             "colorbar": {
              "outlinewidth": 0,
              "ticks": ""
             }
            },
            "type": "histogram"
           }
          ],
          "histogram2d": [
           {
            "colorbar": {
             "outlinewidth": 0,
             "ticks": ""
            },
            "colorscale": [
             [
              0,
              "#0d0887"
             ],
             [
              0.1111111111111111,
              "#46039f"
             ],
             [
              0.2222222222222222,
              "#7201a8"
             ],
             [
              0.3333333333333333,
              "#9c179e"
             ],
             [
              0.4444444444444444,
              "#bd3786"
             ],
             [
              0.5555555555555556,
              "#d8576b"
             ],
             [
              0.6666666666666666,
              "#ed7953"
             ],
             [
              0.7777777777777778,
              "#fb9f3a"
             ],
             [
              0.8888888888888888,
              "#fdca26"
             ],
             [
              1,
              "#f0f921"
             ]
            ],
            "type": "histogram2d"
           }
          ],
          "histogram2dcontour": [
           {
            "colorbar": {
             "outlinewidth": 0,
             "ticks": ""
            },
            "colorscale": [
             [
              0,
              "#0d0887"
             ],
             [
              0.1111111111111111,
              "#46039f"
             ],
             [
              0.2222222222222222,
              "#7201a8"
             ],
             [
              0.3333333333333333,
              "#9c179e"
             ],
             [
              0.4444444444444444,
              "#bd3786"
             ],
             [
              0.5555555555555556,
              "#d8576b"
             ],
             [
              0.6666666666666666,
              "#ed7953"
             ],
             [
              0.7777777777777778,
              "#fb9f3a"
             ],
             [
              0.8888888888888888,
              "#fdca26"
             ],
             [
              1,
              "#f0f921"
             ]
            ],
            "type": "histogram2dcontour"
           }
          ],
          "mesh3d": [
           {
            "colorbar": {
             "outlinewidth": 0,
             "ticks": ""
            },
            "type": "mesh3d"
           }
          ],
          "parcoords": [
           {
            "line": {
             "colorbar": {
              "outlinewidth": 0,
              "ticks": ""
             }
            },
            "type": "parcoords"
           }
          ],
          "pie": [
           {
            "automargin": true,
            "type": "pie"
           }
          ],
          "scatter": [
           {
            "marker": {
             "colorbar": {
              "outlinewidth": 0,
              "ticks": ""
             }
            },
            "type": "scatter"
           }
          ],
          "scatter3d": [
           {
            "line": {
             "colorbar": {
              "outlinewidth": 0,
              "ticks": ""
             }
            },
            "marker": {
             "colorbar": {
              "outlinewidth": 0,
              "ticks": ""
             }
            },
            "type": "scatter3d"
           }
          ],
          "scattercarpet": [
           {
            "marker": {
             "colorbar": {
              "outlinewidth": 0,
              "ticks": ""
             }
            },
            "type": "scattercarpet"
           }
          ],
          "scattergeo": [
           {
            "marker": {
             "colorbar": {
              "outlinewidth": 0,
              "ticks": ""
             }
            },
            "type": "scattergeo"
           }
          ],
          "scattergl": [
           {
            "marker": {
             "colorbar": {
              "outlinewidth": 0,
              "ticks": ""
             }
            },
            "type": "scattergl"
           }
          ],
          "scattermapbox": [
           {
            "marker": {
             "colorbar": {
              "outlinewidth": 0,
              "ticks": ""
             }
            },
            "type": "scattermapbox"
           }
          ],
          "scatterpolar": [
           {
            "marker": {
             "colorbar": {
              "outlinewidth": 0,
              "ticks": ""
             }
            },
            "type": "scatterpolar"
           }
          ],
          "scatterpolargl": [
           {
            "marker": {
             "colorbar": {
              "outlinewidth": 0,
              "ticks": ""
             }
            },
            "type": "scatterpolargl"
           }
          ],
          "scatterternary": [
           {
            "marker": {
             "colorbar": {
              "outlinewidth": 0,
              "ticks": ""
             }
            },
            "type": "scatterternary"
           }
          ],
          "surface": [
           {
            "colorbar": {
             "outlinewidth": 0,
             "ticks": ""
            },
            "colorscale": [
             [
              0,
              "#0d0887"
             ],
             [
              0.1111111111111111,
              "#46039f"
             ],
             [
              0.2222222222222222,
              "#7201a8"
             ],
             [
              0.3333333333333333,
              "#9c179e"
             ],
             [
              0.4444444444444444,
              "#bd3786"
             ],
             [
              0.5555555555555556,
              "#d8576b"
             ],
             [
              0.6666666666666666,
              "#ed7953"
             ],
             [
              0.7777777777777778,
              "#fb9f3a"
             ],
             [
              0.8888888888888888,
              "#fdca26"
             ],
             [
              1,
              "#f0f921"
             ]
            ],
            "type": "surface"
           }
          ],
          "table": [
           {
            "cells": {
             "fill": {
              "color": "#EBF0F8"
             },
             "line": {
              "color": "white"
             }
            },
            "header": {
             "fill": {
              "color": "#C8D4E3"
             },
             "line": {
              "color": "white"
             }
            },
            "type": "table"
           }
          ]
         },
         "layout": {
          "annotationdefaults": {
           "arrowcolor": "#2a3f5f",
           "arrowhead": 0,
           "arrowwidth": 1
          },
          "autotypenumbers": "strict",
          "coloraxis": {
           "colorbar": {
            "outlinewidth": 0,
            "ticks": ""
           }
          },
          "colorscale": {
           "diverging": [
            [
             0,
             "#8e0152"
            ],
            [
             0.1,
             "#c51b7d"
            ],
            [
             0.2,
             "#de77ae"
            ],
            [
             0.3,
             "#f1b6da"
            ],
            [
             0.4,
             "#fde0ef"
            ],
            [
             0.5,
             "#f7f7f7"
            ],
            [
             0.6,
             "#e6f5d0"
            ],
            [
             0.7,
             "#b8e186"
            ],
            [
             0.8,
             "#7fbc41"
            ],
            [
             0.9,
             "#4d9221"
            ],
            [
             1,
             "#276419"
            ]
           ],
           "sequential": [
            [
             0,
             "#0d0887"
            ],
            [
             0.1111111111111111,
             "#46039f"
            ],
            [
             0.2222222222222222,
             "#7201a8"
            ],
            [
             0.3333333333333333,
             "#9c179e"
            ],
            [
             0.4444444444444444,
             "#bd3786"
            ],
            [
             0.5555555555555556,
             "#d8576b"
            ],
            [
             0.6666666666666666,
             "#ed7953"
            ],
            [
             0.7777777777777778,
             "#fb9f3a"
            ],
            [
             0.8888888888888888,
             "#fdca26"
            ],
            [
             1,
             "#f0f921"
            ]
           ],
           "sequentialminus": [
            [
             0,
             "#0d0887"
            ],
            [
             0.1111111111111111,
             "#46039f"
            ],
            [
             0.2222222222222222,
             "#7201a8"
            ],
            [
             0.3333333333333333,
             "#9c179e"
            ],
            [
             0.4444444444444444,
             "#bd3786"
            ],
            [
             0.5555555555555556,
             "#d8576b"
            ],
            [
             0.6666666666666666,
             "#ed7953"
            ],
            [
             0.7777777777777778,
             "#fb9f3a"
            ],
            [
             0.8888888888888888,
             "#fdca26"
            ],
            [
             1,
             "#f0f921"
            ]
           ]
          },
          "colorway": [
           "#636efa",
           "#EF553B",
           "#00cc96",
           "#ab63fa",
           "#FFA15A",
           "#19d3f3",
           "#FF6692",
           "#B6E880",
           "#FF97FF",
           "#FECB52"
          ],
          "font": {
           "color": "#2a3f5f"
          },
          "geo": {
           "bgcolor": "white",
           "lakecolor": "white",
           "landcolor": "#E5ECF6",
           "showlakes": true,
           "showland": true,
           "subunitcolor": "white"
          },
          "hoverlabel": {
           "align": "left"
          },
          "hovermode": "closest",
          "mapbox": {
           "style": "light"
          },
          "paper_bgcolor": "white",
          "plot_bgcolor": "#E5ECF6",
          "polar": {
           "angularaxis": {
            "gridcolor": "white",
            "linecolor": "white",
            "ticks": ""
           },
           "bgcolor": "#E5ECF6",
           "radialaxis": {
            "gridcolor": "white",
            "linecolor": "white",
            "ticks": ""
           }
          },
          "scene": {
           "xaxis": {
            "backgroundcolor": "#E5ECF6",
            "gridcolor": "white",
            "gridwidth": 2,
            "linecolor": "white",
            "showbackground": true,
            "ticks": "",
            "zerolinecolor": "white"
           },
           "yaxis": {
            "backgroundcolor": "#E5ECF6",
            "gridcolor": "white",
            "gridwidth": 2,
            "linecolor": "white",
            "showbackground": true,
            "ticks": "",
            "zerolinecolor": "white"
           },
           "zaxis": {
            "backgroundcolor": "#E5ECF6",
            "gridcolor": "white",
            "gridwidth": 2,
            "linecolor": "white",
            "showbackground": true,
            "ticks": "",
            "zerolinecolor": "white"
           }
          },
          "shapedefaults": {
           "line": {
            "color": "#2a3f5f"
           }
          },
          "ternary": {
           "aaxis": {
            "gridcolor": "white",
            "linecolor": "white",
            "ticks": ""
           },
           "baxis": {
            "gridcolor": "white",
            "linecolor": "white",
            "ticks": ""
           },
           "bgcolor": "#E5ECF6",
           "caxis": {
            "gridcolor": "white",
            "linecolor": "white",
            "ticks": ""
           }
          },
          "title": {
           "x": 0.05
          },
          "xaxis": {
           "automargin": true,
           "gridcolor": "white",
           "linecolor": "white",
           "ticks": "",
           "title": {
            "standoff": 15
           },
           "zerolinecolor": "white",
           "zerolinewidth": 2
          },
          "yaxis": {
           "automargin": true,
           "gridcolor": "white",
           "linecolor": "white",
           "ticks": "",
           "title": {
            "standoff": 15
           },
           "zerolinecolor": "white",
           "zerolinewidth": 2
          }
         }
        },
        "xaxis": {
         "anchor": "y",
         "domain": [
          0,
          1
         ],
         "title": {
          "text": "second_name"
         }
        },
        "yaxis": {
         "anchor": "x",
         "domain": [
          0,
          1
         ],
         "title": {
          "text": "value"
         }
        }
       }
      },
      "text/html": [
       "<div>                            <div id=\"6f7268e7-e35b-4db4-8326-dae6ef078787\" class=\"plotly-graph-div\" style=\"height:525px; width:100%;\"></div>            <script type=\"text/javascript\">                require([\"plotly\"], function(Plotly) {                    window.PLOTLYENV=window.PLOTLYENV || {};                                    if (document.getElementById(\"6f7268e7-e35b-4db4-8326-dae6ef078787\")) {                    Plotly.newPlot(                        \"6f7268e7-e35b-4db4-8326-dae6ef078787\",                        [{\"alignmentgroup\": \"True\", \"customdata\": [[\"Southampton\"], [\"Arsenal\"], [\"Man City\"], [\"Liverpool\"], [\"Liverpool\"], [\"Liverpool\"], [\"Liverpool\"], [\"Wolves\"], [\"Leeds\"], [\"Leeds\"], [\"Leeds\"], [\"Leeds\"], [\"Leeds\"], [\"Leicester\"], [\"Leicester\"], [\"Leicester\"], [\"Leicester\"], [\"Fulham\"], [\"Fulham\"], [\"Fulham\"], [\"Fulham\"], [\"Everton\"], [\"Everton\"], [\"Crystal Palace\"], [\"Crystal Palace\"], [\"Chelsea\"], [\"Man City\"], [\"Man City\"], [\"Man City\"], [\"Man City\"], [\"Wolves\"], [\"Wolves\"], [\"Wolves\"], [\"West Ham\"], [\"West Ham\"], [\"West Brom\"], [\"Spurs\"], [\"Spurs\"], [\"Spurs\"], [\"Southampton\"], [\"Southampton\"], [\"Burnley\"], [\"Southampton\"], [\"Southampton\"], [\"Sheffield Utd\"], [\"Sheffield Utd\"], [\"Sheffield Utd\"], [\"Newcastle\"], [\"Newcastle\"], [\"Man Utd\"], [\"Man Utd\"], [\"Man Utd\"], [\"Man Utd\"], [\"Man Utd\"], [\"Southampton\"], [\"Burnley\"], [\"Wolves\"], [\"Brighton\"], [\"Brighton\"], [\"Brighton\"], [\"Brighton\"], [\"Aston Villa\"], [\"Aston Villa\"], [\"Aston Villa\"], [\"Aston Villa\"], [\"Arsenal\"], [\"Brighton\"], [\"Aston Villa\"], [\"Brighton\"], [\"Arsenal\"], [\"Leicester\"], [\"Newcastle\"], [\"Sheffield Utd\"], [\"Man Utd\"], [\"Everton\"], [\"Leicester\"], [\"Brighton\"], [\"Brighton\"], [\"West Ham\"], [\"Southampton\"], [\"Arsenal\"], [\"West Brom\"], [\"Chelsea\"], [\"West Brom\"], [\"Brighton\"], [\"Leicester\"], [\"Everton\"], [\"Wolves\"], [\"West Brom\"], [\"Southampton\"], [\"Everton\"], [\"Fulham\"], [\"Brighton\"], [\"West Brom\"], [\"Fulham\"], [\"Wolves\"], [\"Fulham\"], [\"Aston Villa\"], [\"Burnley\"], [\"Liverpool\"], [\"Spurs\"], [\"Brighton\"], [\"Newcastle\"], [\"Burnley\"], [\"Arsenal\"], [\"Leeds\"], [\"West Brom\"], [\"Spurs\"], [\"Leicester\"], [\"Leicester\"], [\"West Ham\"], [\"Man Utd\"], [\"Liverpool\"], [\"Brighton\"], [\"Newcastle\"], [\"Everton\"], [\"Leeds\"], [\"Spurs\"], [\"Man Utd\"], [\"Aston Villa\"], [\"Southampton\"], [\"West Brom\"], [\"Leeds\"], [\"West Ham\"], [\"Wolves\"], [\"Burnley\"], [\"Aston Villa\"], [\"Arsenal\"], [\"West Brom\"], [\"Liverpool\"], [\"Spurs\"], [\"Aston Villa\"], [\"Crystal Palace\"], [\"West Ham\"], [\"West Brom\"], [\"Southampton\"], [\"Fulham\"], [\"Liverpool\"], [\"Everton\"], [\"Man Utd\"], [\"Spurs\"], [\"Newcastle\"], [\"Sheffield Utd\"], [\"Arsenal\"], [\"Chelsea\"], [\"Man Utd\"], [\"Spurs\"], [\"Chelsea\"], [\"Leicester\"], [\"Leeds\"], [\"West Brom\"], [\"Southampton\"], [\"Brighton\"], [\"Everton\"], [\"Sheffield Utd\"], [\"Newcastle\"], [\"Arsenal\"], [\"West Brom\"], [\"Chelsea\"], [\"Newcastle\"], [\"Liverpool\"], [\"Brighton\"], [\"Everton\"], [\"Burnley\"], [\"Leicester\"], [\"West Ham\"], [\"Southampton\"], [\"Brighton\"], [\"Man City\"], [\"Southampton\"], [\"Man Utd\"], [\"Sheffield Utd\"], [\"Arsenal\"], [\"Arsenal\"], [\"Newcastle\"], [\"Newcastle\"], [\"Spurs\"], [\"Arsenal\"], [\"Crystal Palace\"], [\"Burnley\"], [\"Chelsea\"], [\"Leicester\"], [\"Sheffield Utd\"], [\"Sheffield Utd\"], [\"Chelsea\"], [\"Arsenal\"], [\"Sheffield Utd\"], [\"Man Utd\"], [\"Newcastle\"], [\"West Brom\"], [\"Crystal Palace\"], [\"Crystal Palace\"], [\"Fulham\"], [\"Man Utd\"], [\"Liverpool\"], [\"Everton\"], [\"Liverpool\"], [\"Fulham\"], [\"Man City\"], [\"Liverpool\"], [\"Leicester\"], [\"Spurs\"], [\"Liverpool\"], [\"Newcastle\"], [\"Aston Villa\"], [\"Leeds\"], [\"Aston Villa\"], [\"Wolves\"], [\"Liverpool\"], [\"Southampton\"], [\"Man City\"], [\"West Ham\"], [\"Newcastle\"], [\"Arsenal\"], [\"Arsenal\"], [\"West Brom\"], [\"Leeds\"], [\"Burnley\"], [\"Chelsea\"], [\"Southampton\"], [\"Everton\"], [\"Wolves\"], [\"Man City\"], [\"Aston Villa\"], [\"Leicester\"], [\"Wolves\"], [\"Crystal Palace\"], [\"Everton\"], [\"Aston Villa\"], [\"Fulham\"], [\"Brighton\"], [\"Man City\"], [\"Wolves\"], [\"Everton\"], [\"Brighton\"], [\"Crystal Palace\"], [\"Fulham\"], [\"Newcastle\"], [\"Fulham\"], [\"Crystal Palace\"], [\"Liverpool\"], [\"Brighton\"], [\"Liverpool\"], [\"Burnley\"], [\"Spurs\"], [\"Burnley\"], [\"Crystal Palace\"], [\"Man Utd\"], [\"Crystal Palace\"], [\"Aston Villa\"], [\"West Ham\"], [\"Man City\"], [\"Aston Villa\"], [\"Man Utd\"], [\"West Ham\"], [\"Leeds\"], [\"Spurs\"], [\"Southampton\"], [\"Leicester\"], [\"Aston Villa\"], [\"Chelsea\"], [\"Leicester\"], [\"Wolves\"], [\"Man City\"], [\"Man Utd\"], [\"Arsenal\"], [\"West Ham\"], [\"Brighton\"], [\"Leicester\"], [\"Spurs\"], [\"Fulham\"], [\"Chelsea\"], [\"Leeds\"], [\"West Brom\"], [\"Wolves\"], [\"Southampton\"], [\"Leeds\"], [\"West Ham\"], [\"Man City\"]], \"hovertemplate\": \"second_name=%{x}<br>value=%{y}<br>team=%{customdata[0]}<extra></extra>\", \"legendgroup\": \"\", \"marker\": {\"color\": \"#636efa\"}, \"name\": \"\", \"offsetgroup\": \"\", \"orientation\": \"v\", \"showlegend\": false, \"textposition\": \"auto\", \"type\": \"bar\", \"x\": [\"Jankewitz\", \"\\u00d6zil\", \"Doyle\", \"Cain\", \"Clarkson\", \"Elliott\", \"Wilson\", \"Perry\", \"Jenkins\", \"Bogusz\", \"Stevens\", \"Grot\", \"Forshaw\", \"Suengchitthawon\", \"Flynn\", \"James\", \"Silva\", \"Seri\", \"Knockaert\", \"Johansen\", \"McDonald\", \"Broadhead\", \"Onyango\", \"Pierrick\", \"Meyer\", \"Anjorin\", \"Bernab\\u00e9\", \"Palmer\", \"Nmecha\", \"Gomes\", \"Corbeanu\", \"Shabani\", \"Cavaco Jordao\", \"Coventry\", \"Wilshere\", \"Leko\", \"Devine\", \"Skipp\", \"Carvalho Fernandes\", \"Finnigan\", \"Ferry\", \"Mancini\", \"Chauke\", \"Boufal\", \"Maguire\", \"Brunt\", \"Freeman\", \"Aarons\", \"Atsu\", \"Diallo\", \"Pellistri\", \"Garner\", \"Chong\", \"Pereira\", \"Sims\", \"Goodridge\", \"Cundle\", \"Caicedo\", \"Jenks\", \"Sanders\", \"Weir\", \"Peleteiro Romallo\", \"Lansbury\", \"Hayden\", \"Philogene-Bidace\", \"Guendouzi\", \"Mooy\", \"Chukwuemeka\", \"Izquierdo\", \"Torreira\", \"Leshabela\", \"Anderson\", \"Ndiaye\", \"Shoretire\", \"Gbamin\", \"Gray\", \"Khadra\", \"Molumby\", \"Pereira Gomes\", \"Watts\", \"Nelson\", \"Harper\", \"Gilmour\", \"Field\", \"Tau\", \"Tavares\", \"Gordon\", \"Gibbs-White\", \"Edwards\", \"Smallbone\", \"Delph\", \"Kebano\", \"Moder\", \"Grosicki\", \"Onomah\", \"Otasowie\", \"Kamara\", \"Sanson\", \"Stephens\", \"Oxlade-Chamberlain\", \"Alli\", \"Pr\\u00f6pper\", \"Longstaff\", \"Benson\", \"Martinelli Silva\", \"Poveda-Ocampo\", \"Snodgrass\", \"Winks\", \"\\u00dcnder\", \"Choudhury\", \"Yarmolenko\", \"van de Beek\", \"Keita\", \"Jahanbakhsh\", \"Ritchie\", \"An\\u00edcio Caldeira Duarte\", \"Shackleton\", \"Lo Celso\", \"Mata\", \"Hourihane\", \"Tella\", \"Krovinovic\", \"Hern\\u00e1ndez Dom\\u00ednguez\", \"Lanzini\", \"Ferreira\", \"Cork\", \"Nakamba\", \"\\u00d8degaard\", \"Yokuslu\", \"Shaqiri\", \"Lamela\", \"Ramsey\", \"McCarthy\", \"Noble\", \"Livermore\", \"Diallo\", \"Cairney\", \"Alc\\u00e1ntara do Nascimento\", \"Marques Loureiro\", \"James\", \"Bergwijn\", \"Longstaff\", \"Berge\", \"Partey\", \"Pulisic\", \"Matic\", \"Bale\", \"Ziyech\", \"Praet\", \"Roberts\", \"Diangana\", \"Minamino\", \"Alzate\", \"Davies\", \"Osborn\", \"Fraser\", \"El Sayed Elneny\", \"Sawyers\", \"Havertz\", \"Willock\", \"Milner\", \"Mac Allister\", \"Tavares Gomes\", \"Gudmundsson\", \"P\\u00e9rez\", \"Benrahma\", \"Djenepo\", \"Lallana\", \"Torres\", \"Redmond\", \"Greenwood\", \"Norwood\", \"P\\u00e9p\\u00e9\", \"Borges Da Silva\", \"Murphy\", \"Hayden\", \"Sissoko\", \"Ceballos Fern\\u00e1ndez\", \"McArthur\", \"Brady\", \"Hudson-Odoi\", \"Mendy\", \"Lundstram\", \"Fleck\", \"Kovacic\", \"Aubameyang\", \"Burke\", \"Pogba\", \"Shelvey\", \"Phillips\", \"Schlupp\", \"Milivojevic\", \"Lemina\", \"Rodrigues de Paula Santos\", \"Tavares\", \"Iwobi\", \"Jones\", \"Loftus-Cheek\", \"Veiga de Carvalho e Silva\", \"Jota\", \"Albrighton\", \"Rodrigues Moura da Silva\", \"Henderson\", \"Saint-Maximin\", \"Ibrahim Hassan\", \"Phillips\", \"Barkley\", \"Traor\\u00e9\", \"Man\\u00e9\", \"Walcott\", \"De Bruyne\", \"Lingard\", \"Hendrick\", \"Xhaka\", \"Smith Rowe\", \"Gallagher\", \"Sousa de Azevedo e Costa\", \"Brownhill\", \"Kant\\u00e9\", \"Romeu Vidal\", \"Rodr\\u00edguez\", \"Santos Moutinho\", \"Sterling\", \"Soares de Paulo\", \"Ndidi\", \"Castelo Podence\", \"Riedewald\", \"Sigurdsson\", \"El Ghazi\", \"Neves Abreu Cavaleiro\", \"Bissouma\", \"Hernandez\", \"Dendoncker\", \"Doucour\\u00e9\", \"March\", \"Townsend\", \"Reed\", \"Almir\\u00f3n\", \"Zambo Anguissa\", \"Kouyat\\u00e9\", \"Salah\", \"Gro\\u00df\", \"Wijnaldum\", \"Westwood\", \"Ndombele\", \"McNeil\", \"Eze\", \"Rashford\", \"Zaha\", \"McGinn\", \"Fornals\", \"Mahrez\", \"Traor\\u00e9\", \"McTominay\", \"Rice\", \"Klich\", \"H\\u00f8jbjerg\", \"Armstrong\", \"Maddison\", \"Grealish\", \"Mount\", \"Tielemans\", \"da Silva Neves\", \"Foden\", \"Borges Fernandes\", \"Saka\", \"Bowen\", \"Trossard\", \"Barnes\", \"Son\", \"Lookman\", \"Frello Filho\", \"Dias Belloli\", \"Pereira\", \"Lomba Neto\", \"Ward-Prowse\", \"Harrison\", \"Soucek\", \"G\\u00fcndogan\"], \"xaxis\": \"x\", \"y\": [-0.2, 0.0, 0.0, 0.0, 0.0, 0.0, 0.0, 0.0, 0.0, 0.0, 0.0, 0.0, 0.0, 0.0, 0.0, 0.0, 0.0, 0.0, 0.0, 0.0, 0.0, 0.0, 0.0, 0.0, 0.0, 0.0, 0.0, 0.0, 0.0, 0.0, 0.0, 0.0, 0.0, 0.0, 0.0, 0.0, 0.0, 0.0, 0.0, 0.0, 0.0, 0.0, 0.0, 0.0, 0.0, 0.0, 0.0, 0.0, 0.0, 0.0, 0.0, 0.0, 0.0, 0.0, 0.0, 0.0, 0.0, 0.0, 0.0, 0.0, 0.0, 0.0, 0.0, 0.0, 0.0, 0.0, 0.0, 0.0, 0.0, 0.0, 0.2, 0.2, 0.2, 0.2, 0.2, 0.2, 0.2, 0.2, 0.3, 0.4, 0.4, 0.5, 0.5, 0.6, 0.6, 0.7, 0.7, 1.0, 1.1, 1.2, 1.2, 1.3, 1.4, 1.5, 1.5, 1.6, 1.7, 1.8, 1.9, 1.9, 1.9, 1.9, 2.1, 2.2, 2.2, 2.4, 2.5, 2.5, 2.8, 2.8, 2.9, 2.9, 2.9, 3.0, 3.1, 3.2, 3.3, 3.3, 3.4, 3.4, 3.5, 3.5, 3.5, 3.6, 3.6, 3.6, 3.7, 3.8, 3.8, 3.8, 4.0, 4.2, 4.2, 4.4, 5.1, 5.1, 5.2, 5.5, 5.6, 5.6, 5.7, 5.9, 5.9, 6.1, 6.1, 6.2, 6.3, 6.5, 6.7, 6.7, 6.8, 6.8, 6.9, 6.9, 7.0, 7.0, 7.1, 7.2, 7.2, 7.4, 7.4, 7.4, 7.5, 7.6, 7.8, 7.8, 7.8, 7.9, 8.0, 8.0, 8.0, 8.2, 8.3, 8.4, 8.6, 8.7, 8.7, 8.7, 8.7, 8.8, 8.9, 9.0, 9.0, 9.3, 9.4, 9.5, 9.5, 9.5, 9.6, 9.6, 9.6, 9.8, 9.8, 9.8, 9.8, 9.8, 9.8, 10.0, 10.0, 10.0, 10.0, 10.3, 10.4, 10.4, 10.4, 10.4, 10.5, 10.7, 10.7, 10.7, 10.8, 10.8, 10.9, 11.0, 11.0, 11.1, 11.2, 11.2, 11.2, 11.3, 11.4, 11.7, 12.0, 12.1, 12.3, 12.3, 12.7, 12.9, 13.4, 13.4, 13.6, 13.6, 13.7, 13.7, 13.8, 13.8, 14.1, 14.1, 14.4, 14.4, 14.7, 14.7, 14.9, 14.9, 14.9, 15.3, 15.3, 15.6, 15.6, 15.8, 15.9, 16.1, 16.1, 16.1, 16.2, 16.3, 16.5, 16.9, 16.9, 17.2, 17.3, 17.4, 17.8, 18.0, 18.4, 18.5, 18.6, 18.8, 18.8, 19.1, 19.2, 19.8, 20.2, 20.9, 21.6, 21.7, 23.0, 23.2, 23.7], \"yaxis\": \"y\"}, {\"customdata\": [[45], [67], [44], [45], [45], [43], [51], [45], [45], [43], [43], [47], [48], [45], [45], [43], [44], [46], [50], [47], [47], [45], [45], [43], [47], [45], [45], [44], [45], [45], [45], [44], [43], [45], [49], [45], [44], [44], [47], [45], [45], [44], [44], [54], [44], [45], [50], [48], [52], [54], [52], [44], [44], [48], [43], [45], [45], [50], [45], [45], [45], [59], [43], [45], [45], [47], [50], [45], [55], [47], [44], [45], [45], [45], [50], [51], [45], [45], [61], [45], [51], [43], [44], [48], [49], [44], [43], [49], [47], [43], [48], [47], [50], [52], [46], [45], [48], [55], [42], [63], [74], [47], [48], [45], [49], [42], [56], [51], [57], [46], [55], [66], [52], [54], [49], [57], [48], [69], [58], [59], [43], [49], [57], [64], [47], [50], [43], [60], [45], [64], [57], [45], [43], [45], [47], [45], [52], [55], [52], [62], [70], [46], [49], [49], [82], [47], [93], [79], [52], [46], [50], [60], [42], [52], [47], [56], [42], [46], [82], [47], [53], [53], [53], [54], [60], [60], [54], [62], [69], [64], [70], [45], [76], [75], [49], [46], [47], [47], [52], [50], [57], [42], [49], [56], [53], [114], [41], [76], [53], [51], [53], [56], [45], [53], [54], [59], [44], [59], [74], [69], [52], [66], [54], [51], [52], [49], [59], [60], [118], [58], [119], [63], [45], [52], [42], [55], [50], [49], [49], [45], [77], [52], [113], [48], [48], [53], [44], [68], [53], [53], [44], [53], [46], [52], [50], [55], [44], [56], [45], [48], [124], [58], [53], [53], [59], [57], [58], [95], [71], [55], [58], [82], [59], [49], [47], [52], [49], [55], [71], [75], [71], [65], [51], [60], [116], [52], [59], [58], [67], [94], [50], [47], [56], [53], [57], [59], [54], [53], [60]], \"hovertemplate\": \"second_name=%{x}<br>total_points=%{y}<br>now_cost=%{customdata[0]}<extra></extra>\", \"legendgroup\": \"\", \"marker\": {\"color\": \"#636efa\", \"symbol\": \"circle\"}, \"mode\": \"markers\", \"name\": \"\", \"orientation\": \"v\", \"showlegend\": false, \"type\": \"scatter\", \"x\": [\"Jankewitz\", \"\\u00d6zil\", \"Doyle\", \"Cain\", \"Clarkson\", \"Elliott\", \"Wilson\", \"Perry\", \"Jenkins\", \"Bogusz\", \"Stevens\", \"Grot\", \"Forshaw\", \"Suengchitthawon\", \"Flynn\", \"James\", \"Silva\", \"Seri\", \"Knockaert\", \"Johansen\", \"McDonald\", \"Broadhead\", \"Onyango\", \"Pierrick\", \"Meyer\", \"Anjorin\", \"Bernab\\u00e9\", \"Palmer\", \"Nmecha\", \"Gomes\", \"Corbeanu\", \"Shabani\", \"Cavaco Jordao\", \"Coventry\", \"Wilshere\", \"Leko\", \"Devine\", \"Skipp\", \"Carvalho Fernandes\", \"Finnigan\", \"Ferry\", \"Mancini\", \"Chauke\", \"Boufal\", \"Maguire\", \"Brunt\", \"Freeman\", \"Aarons\", \"Atsu\", \"Diallo\", \"Pellistri\", \"Garner\", \"Chong\", \"Pereira\", \"Sims\", \"Goodridge\", \"Cundle\", \"Caicedo\", \"Jenks\", \"Sanders\", \"Weir\", \"Peleteiro Romallo\", \"Lansbury\", \"Hayden\", \"Philogene-Bidace\", \"Guendouzi\", \"Mooy\", \"Chukwuemeka\", \"Izquierdo\", \"Torreira\", \"Leshabela\", \"Anderson\", \"Ndiaye\", \"Shoretire\", \"Gbamin\", \"Gray\", \"Khadra\", \"Molumby\", \"Pereira Gomes\", \"Watts\", \"Nelson\", \"Harper\", \"Gilmour\", \"Field\", \"Tau\", \"Tavares\", \"Gordon\", \"Gibbs-White\", \"Edwards\", \"Smallbone\", \"Delph\", \"Kebano\", \"Moder\", \"Grosicki\", \"Onomah\", \"Otasowie\", \"Kamara\", \"Sanson\", \"Stephens\", \"Oxlade-Chamberlain\", \"Alli\", \"Pr\\u00f6pper\", \"Longstaff\", \"Benson\", \"Martinelli Silva\", \"Poveda-Ocampo\", \"Snodgrass\", \"Winks\", \"\\u00dcnder\", \"Choudhury\", \"Yarmolenko\", \"van de Beek\", \"Keita\", \"Jahanbakhsh\", \"Ritchie\", \"An\\u00edcio Caldeira Duarte\", \"Shackleton\", \"Lo Celso\", \"Mata\", \"Hourihane\", \"Tella\", \"Krovinovic\", \"Hern\\u00e1ndez Dom\\u00ednguez\", \"Lanzini\", \"Ferreira\", \"Cork\", \"Nakamba\", \"\\u00d8degaard\", \"Yokuslu\", \"Shaqiri\", \"Lamela\", \"Ramsey\", \"McCarthy\", \"Noble\", \"Livermore\", \"Diallo\", \"Cairney\", \"Alc\\u00e1ntara do Nascimento\", \"Marques Loureiro\", \"James\", \"Bergwijn\", \"Longstaff\", \"Berge\", \"Partey\", \"Pulisic\", \"Matic\", \"Bale\", \"Ziyech\", \"Praet\", \"Roberts\", \"Diangana\", \"Minamino\", \"Alzate\", \"Davies\", \"Osborn\", \"Fraser\", \"El Sayed Elneny\", \"Sawyers\", \"Havertz\", \"Willock\", \"Milner\", \"Mac Allister\", \"Tavares Gomes\", \"Gudmundsson\", \"P\\u00e9rez\", \"Benrahma\", \"Djenepo\", \"Lallana\", \"Torres\", \"Redmond\", \"Greenwood\", \"Norwood\", \"P\\u00e9p\\u00e9\", \"Borges Da Silva\", \"Murphy\", \"Hayden\", \"Sissoko\", \"Ceballos Fern\\u00e1ndez\", \"McArthur\", \"Brady\", \"Hudson-Odoi\", \"Mendy\", \"Lundstram\", \"Fleck\", \"Kovacic\", \"Aubameyang\", \"Burke\", \"Pogba\", \"Shelvey\", \"Phillips\", \"Schlupp\", \"Milivojevic\", \"Lemina\", \"Rodrigues de Paula Santos\", \"Tavares\", \"Iwobi\", \"Jones\", \"Loftus-Cheek\", \"Veiga de Carvalho e Silva\", \"Jota\", \"Albrighton\", \"Rodrigues Moura da Silva\", \"Henderson\", \"Saint-Maximin\", \"Ibrahim Hassan\", \"Phillips\", \"Barkley\", \"Traor\\u00e9\", \"Man\\u00e9\", \"Walcott\", \"De Bruyne\", \"Lingard\", \"Hendrick\", \"Xhaka\", \"Smith Rowe\", \"Gallagher\", \"Sousa de Azevedo e Costa\", \"Brownhill\", \"Kant\\u00e9\", \"Romeu Vidal\", \"Rodr\\u00edguez\", \"Santos Moutinho\", \"Sterling\", \"Soares de Paulo\", \"Ndidi\", \"Castelo Podence\", \"Riedewald\", \"Sigurdsson\", \"El Ghazi\", \"Neves Abreu Cavaleiro\", \"Bissouma\", \"Hernandez\", \"Dendoncker\", \"Doucour\\u00e9\", \"March\", \"Townsend\", \"Reed\", \"Almir\\u00f3n\", \"Zambo Anguissa\", \"Kouyat\\u00e9\", \"Salah\", \"Gro\\u00df\", \"Wijnaldum\", \"Westwood\", \"Ndombele\", \"McNeil\", \"Eze\", \"Rashford\", \"Zaha\", \"McGinn\", \"Fornals\", \"Mahrez\", \"Traor\\u00e9\", \"McTominay\", \"Rice\", \"Klich\", \"H\\u00f8jbjerg\", \"Armstrong\", \"Maddison\", \"Grealish\", \"Mount\", \"Tielemans\", \"da Silva Neves\", \"Foden\", \"Borges Fernandes\", \"Saka\", \"Bowen\", \"Trossard\", \"Barnes\", \"Son\", \"Lookman\", \"Frello Filho\", \"Dias Belloli\", \"Pereira\", \"Lomba Neto\", \"Ward-Prowse\", \"Harrison\", \"Soucek\", \"G\\u00fcndogan\"], \"xaxis\": \"x\", \"y\": [-1.0, 0.0, 0.0, 0.0, 0.0, 0.0, 0.0, 0.0, 0.0, 0.0, 0.0, 0.0, 0.0, 0.0, 0.0, 0.0, 0.0, 0.0, 0.0, 0.0, 0.0, 0.0, 0.0, 0.0, 0.0, 0.0, 0.0, 0.0, 0.0, 0.0, 0.0, 0.0, 0.0, 0.0, 0.0, 0.0, 0.0, 0.0, 0.0, 0.0, 0.0, 0.0, 0.0, 0.0, 0.0, 0.0, 0.0, 0.0, 0.0, 0.0, 0.0, 0.0, 0.0, 0.0, 0.0, 0.0, 0.0, 0.0, 0.0, 0.0, 0.0, 0.0, 0.0, 0.0, 0.0, 0.0, 0.0, 0.0, 0.0, 0.0, 1.0, 1.0, 1.0, 1.0, 1.0, 1.0, 1.0, 1.0, 2.0, 2.0, 2.0, 2.0, 2.0, 3.0, 3.0, 3.0, 3.0, 5.0, 5.0, 5.0, 6.0, 6.0, 7.0, 8.0, 7.0, 7.0, 8.0, 10.0, 8.0, 12.0, 14.0, 9.0, 10.0, 10.0, 11.0, 10.0, 14.0, 13.0, 16.0, 13.0, 16.0, 19.0, 15.0, 16.0, 15.0, 18.0, 16.0, 23.0, 20.0, 20.0, 15.0, 17.0, 20.0, 23.0, 17.0, 18.0, 16.0, 23.0, 17.0, 24.0, 23.0, 19.0, 18.0, 20.0, 24.0, 23.0, 27.0, 30.0, 29.0, 35.0, 40.0, 27.0, 29.0, 30.0, 50.0, 29.0, 59.0, 51.0, 35.0, 31.0, 34.0, 41.0, 29.0, 36.0, 33.0, 39.0, 30.0, 33.0, 59.0, 35.0, 39.0, 39.0, 40.0, 41.0, 47.0, 47.0, 42.0, 49.0, 55.0, 51.0, 56.0, 37.0, 63.0, 63.0, 42.0, 40.0, 41.0, 41.0, 45.0, 44.0, 51.0, 38.0, 44.0, 52.0, 50.0, 108.0, 39.0, 72.0, 51.0, 49.0, 51.0, 55.0, 44.0, 52.0, 53.0, 58.0, 43.0, 59.0, 74.0, 69.0, 52.0, 68.0, 56.0, 53.0, 54.0, 51.0, 62.0, 64.0, 126.0, 62.0, 128.0, 68.0, 49.0, 57.0, 46.0, 61.0, 56.0, 55.0, 55.0, 51.0, 88.0, 61.0, 136.0, 58.0, 59.0, 65.0, 56.0, 88.0, 71.0, 71.0, 60.0, 72.0, 63.0, 71.0, 69.0, 76.0, 62.0, 79.0, 65.0, 69.0, 182.0, 85.0, 79.0, 79.0, 88.0, 87.0, 89.0, 148.0, 111.0, 87.0, 92.0, 132.0, 95.0, 79.0, 76.0, 85.0, 81.0, 93.0, 120.0, 129.0, 123.0, 113.0, 91.0, 108.0, 214.0, 96.0, 110.0, 109.0, 126.0, 180.0, 96.0, 93.0, 113.0, 111.0, 123.0, 128.0, 124.0, 123.0, 142.0], \"yaxis\": \"y\"}],                        {\"barmode\": \"relative\", \"legend\": {\"tracegroupgap\": 0}, \"margin\": {\"t\": 60}, \"template\": {\"data\": {\"bar\": [{\"error_x\": {\"color\": \"#2a3f5f\"}, \"error_y\": {\"color\": \"#2a3f5f\"}, \"marker\": {\"line\": {\"color\": \"#E5ECF6\", \"width\": 0.5}}, \"type\": \"bar\"}], \"barpolar\": [{\"marker\": {\"line\": {\"color\": \"#E5ECF6\", \"width\": 0.5}}, \"type\": \"barpolar\"}], \"carpet\": [{\"aaxis\": {\"endlinecolor\": \"#2a3f5f\", \"gridcolor\": \"white\", \"linecolor\": \"white\", \"minorgridcolor\": \"white\", \"startlinecolor\": \"#2a3f5f\"}, \"baxis\": {\"endlinecolor\": \"#2a3f5f\", \"gridcolor\": \"white\", \"linecolor\": \"white\", \"minorgridcolor\": \"white\", \"startlinecolor\": \"#2a3f5f\"}, \"type\": \"carpet\"}], \"choropleth\": [{\"colorbar\": {\"outlinewidth\": 0, \"ticks\": \"\"}, \"type\": \"choropleth\"}], \"contour\": [{\"colorbar\": {\"outlinewidth\": 0, \"ticks\": \"\"}, \"colorscale\": [[0.0, \"#0d0887\"], [0.1111111111111111, \"#46039f\"], [0.2222222222222222, \"#7201a8\"], [0.3333333333333333, \"#9c179e\"], [0.4444444444444444, \"#bd3786\"], [0.5555555555555556, \"#d8576b\"], [0.6666666666666666, \"#ed7953\"], [0.7777777777777778, \"#fb9f3a\"], [0.8888888888888888, \"#fdca26\"], [1.0, \"#f0f921\"]], \"type\": \"contour\"}], \"contourcarpet\": [{\"colorbar\": {\"outlinewidth\": 0, \"ticks\": \"\"}, \"type\": \"contourcarpet\"}], \"heatmap\": [{\"colorbar\": {\"outlinewidth\": 0, \"ticks\": \"\"}, \"colorscale\": [[0.0, \"#0d0887\"], [0.1111111111111111, \"#46039f\"], [0.2222222222222222, \"#7201a8\"], [0.3333333333333333, \"#9c179e\"], [0.4444444444444444, \"#bd3786\"], [0.5555555555555556, \"#d8576b\"], [0.6666666666666666, \"#ed7953\"], [0.7777777777777778, \"#fb9f3a\"], [0.8888888888888888, \"#fdca26\"], [1.0, \"#f0f921\"]], \"type\": \"heatmap\"}], \"heatmapgl\": [{\"colorbar\": {\"outlinewidth\": 0, \"ticks\": \"\"}, \"colorscale\": [[0.0, \"#0d0887\"], [0.1111111111111111, \"#46039f\"], [0.2222222222222222, \"#7201a8\"], [0.3333333333333333, \"#9c179e\"], [0.4444444444444444, \"#bd3786\"], [0.5555555555555556, \"#d8576b\"], [0.6666666666666666, \"#ed7953\"], [0.7777777777777778, \"#fb9f3a\"], [0.8888888888888888, \"#fdca26\"], [1.0, \"#f0f921\"]], \"type\": \"heatmapgl\"}], \"histogram\": [{\"marker\": {\"colorbar\": {\"outlinewidth\": 0, \"ticks\": \"\"}}, \"type\": \"histogram\"}], \"histogram2d\": [{\"colorbar\": {\"outlinewidth\": 0, \"ticks\": \"\"}, \"colorscale\": [[0.0, \"#0d0887\"], [0.1111111111111111, \"#46039f\"], [0.2222222222222222, \"#7201a8\"], [0.3333333333333333, \"#9c179e\"], [0.4444444444444444, \"#bd3786\"], [0.5555555555555556, \"#d8576b\"], [0.6666666666666666, \"#ed7953\"], [0.7777777777777778, \"#fb9f3a\"], [0.8888888888888888, \"#fdca26\"], [1.0, \"#f0f921\"]], \"type\": \"histogram2d\"}], \"histogram2dcontour\": [{\"colorbar\": {\"outlinewidth\": 0, \"ticks\": \"\"}, \"colorscale\": [[0.0, \"#0d0887\"], [0.1111111111111111, \"#46039f\"], [0.2222222222222222, \"#7201a8\"], [0.3333333333333333, \"#9c179e\"], [0.4444444444444444, \"#bd3786\"], [0.5555555555555556, \"#d8576b\"], [0.6666666666666666, \"#ed7953\"], [0.7777777777777778, \"#fb9f3a\"], [0.8888888888888888, \"#fdca26\"], [1.0, \"#f0f921\"]], \"type\": \"histogram2dcontour\"}], \"mesh3d\": [{\"colorbar\": {\"outlinewidth\": 0, \"ticks\": \"\"}, \"type\": \"mesh3d\"}], \"parcoords\": [{\"line\": {\"colorbar\": {\"outlinewidth\": 0, \"ticks\": \"\"}}, \"type\": \"parcoords\"}], \"pie\": [{\"automargin\": true, \"type\": \"pie\"}], \"scatter\": [{\"marker\": {\"colorbar\": {\"outlinewidth\": 0, \"ticks\": \"\"}}, \"type\": \"scatter\"}], \"scatter3d\": [{\"line\": {\"colorbar\": {\"outlinewidth\": 0, \"ticks\": \"\"}}, \"marker\": {\"colorbar\": {\"outlinewidth\": 0, \"ticks\": \"\"}}, \"type\": \"scatter3d\"}], \"scattercarpet\": [{\"marker\": {\"colorbar\": {\"outlinewidth\": 0, \"ticks\": \"\"}}, \"type\": \"scattercarpet\"}], \"scattergeo\": [{\"marker\": {\"colorbar\": {\"outlinewidth\": 0, \"ticks\": \"\"}}, \"type\": \"scattergeo\"}], \"scattergl\": [{\"marker\": {\"colorbar\": {\"outlinewidth\": 0, \"ticks\": \"\"}}, \"type\": \"scattergl\"}], \"scattermapbox\": [{\"marker\": {\"colorbar\": {\"outlinewidth\": 0, \"ticks\": \"\"}}, \"type\": \"scattermapbox\"}], \"scatterpolar\": [{\"marker\": {\"colorbar\": {\"outlinewidth\": 0, \"ticks\": \"\"}}, \"type\": \"scatterpolar\"}], \"scatterpolargl\": [{\"marker\": {\"colorbar\": {\"outlinewidth\": 0, \"ticks\": \"\"}}, \"type\": \"scatterpolargl\"}], \"scatterternary\": [{\"marker\": {\"colorbar\": {\"outlinewidth\": 0, \"ticks\": \"\"}}, \"type\": \"scatterternary\"}], \"surface\": [{\"colorbar\": {\"outlinewidth\": 0, \"ticks\": \"\"}, \"colorscale\": [[0.0, \"#0d0887\"], [0.1111111111111111, \"#46039f\"], [0.2222222222222222, \"#7201a8\"], [0.3333333333333333, \"#9c179e\"], [0.4444444444444444, \"#bd3786\"], [0.5555555555555556, \"#d8576b\"], [0.6666666666666666, \"#ed7953\"], [0.7777777777777778, \"#fb9f3a\"], [0.8888888888888888, \"#fdca26\"], [1.0, \"#f0f921\"]], \"type\": \"surface\"}], \"table\": [{\"cells\": {\"fill\": {\"color\": \"#EBF0F8\"}, \"line\": {\"color\": \"white\"}}, \"header\": {\"fill\": {\"color\": \"#C8D4E3\"}, \"line\": {\"color\": \"white\"}}, \"type\": \"table\"}]}, \"layout\": {\"annotationdefaults\": {\"arrowcolor\": \"#2a3f5f\", \"arrowhead\": 0, \"arrowwidth\": 1}, \"autotypenumbers\": \"strict\", \"coloraxis\": {\"colorbar\": {\"outlinewidth\": 0, \"ticks\": \"\"}}, \"colorscale\": {\"diverging\": [[0, \"#8e0152\"], [0.1, \"#c51b7d\"], [0.2, \"#de77ae\"], [0.3, \"#f1b6da\"], [0.4, \"#fde0ef\"], [0.5, \"#f7f7f7\"], [0.6, \"#e6f5d0\"], [0.7, \"#b8e186\"], [0.8, \"#7fbc41\"], [0.9, \"#4d9221\"], [1, \"#276419\"]], \"sequential\": [[0.0, \"#0d0887\"], [0.1111111111111111, \"#46039f\"], [0.2222222222222222, \"#7201a8\"], [0.3333333333333333, \"#9c179e\"], [0.4444444444444444, \"#bd3786\"], [0.5555555555555556, \"#d8576b\"], [0.6666666666666666, \"#ed7953\"], [0.7777777777777778, \"#fb9f3a\"], [0.8888888888888888, \"#fdca26\"], [1.0, \"#f0f921\"]], \"sequentialminus\": [[0.0, \"#0d0887\"], [0.1111111111111111, \"#46039f\"], [0.2222222222222222, \"#7201a8\"], [0.3333333333333333, \"#9c179e\"], [0.4444444444444444, \"#bd3786\"], [0.5555555555555556, \"#d8576b\"], [0.6666666666666666, \"#ed7953\"], [0.7777777777777778, \"#fb9f3a\"], [0.8888888888888888, \"#fdca26\"], [1.0, \"#f0f921\"]]}, \"colorway\": [\"#636efa\", \"#EF553B\", \"#00cc96\", \"#ab63fa\", \"#FFA15A\", \"#19d3f3\", \"#FF6692\", \"#B6E880\", \"#FF97FF\", \"#FECB52\"], \"font\": {\"color\": \"#2a3f5f\"}, \"geo\": {\"bgcolor\": \"white\", \"lakecolor\": \"white\", \"landcolor\": \"#E5ECF6\", \"showlakes\": true, \"showland\": true, \"subunitcolor\": \"white\"}, \"hoverlabel\": {\"align\": \"left\"}, \"hovermode\": \"closest\", \"mapbox\": {\"style\": \"light\"}, \"paper_bgcolor\": \"white\", \"plot_bgcolor\": \"#E5ECF6\", \"polar\": {\"angularaxis\": {\"gridcolor\": \"white\", \"linecolor\": \"white\", \"ticks\": \"\"}, \"bgcolor\": \"#E5ECF6\", \"radialaxis\": {\"gridcolor\": \"white\", \"linecolor\": \"white\", \"ticks\": \"\"}}, \"scene\": {\"xaxis\": {\"backgroundcolor\": \"#E5ECF6\", \"gridcolor\": \"white\", \"gridwidth\": 2, \"linecolor\": \"white\", \"showbackground\": true, \"ticks\": \"\", \"zerolinecolor\": \"white\"}, \"yaxis\": {\"backgroundcolor\": \"#E5ECF6\", \"gridcolor\": \"white\", \"gridwidth\": 2, \"linecolor\": \"white\", \"showbackground\": true, \"ticks\": \"\", \"zerolinecolor\": \"white\"}, \"zaxis\": {\"backgroundcolor\": \"#E5ECF6\", \"gridcolor\": \"white\", \"gridwidth\": 2, \"linecolor\": \"white\", \"showbackground\": true, \"ticks\": \"\", \"zerolinecolor\": \"white\"}}, \"shapedefaults\": {\"line\": {\"color\": \"#2a3f5f\"}}, \"ternary\": {\"aaxis\": {\"gridcolor\": \"white\", \"linecolor\": \"white\", \"ticks\": \"\"}, \"baxis\": {\"gridcolor\": \"white\", \"linecolor\": \"white\", \"ticks\": \"\"}, \"bgcolor\": \"#E5ECF6\", \"caxis\": {\"gridcolor\": \"white\", \"linecolor\": \"white\", \"ticks\": \"\"}}, \"title\": {\"x\": 0.05}, \"xaxis\": {\"automargin\": true, \"gridcolor\": \"white\", \"linecolor\": \"white\", \"ticks\": \"\", \"title\": {\"standoff\": 15}, \"zerolinecolor\": \"white\", \"zerolinewidth\": 2}, \"yaxis\": {\"automargin\": true, \"gridcolor\": \"white\", \"linecolor\": \"white\", \"ticks\": \"\", \"title\": {\"standoff\": 15}, \"zerolinecolor\": \"white\", \"zerolinewidth\": 2}}}, \"xaxis\": {\"anchor\": \"y\", \"domain\": [0.0, 1.0], \"title\": {\"text\": \"second_name\"}}, \"yaxis\": {\"anchor\": \"x\", \"domain\": [0.0, 1.0], \"title\": {\"text\": \"value\"}}},                        {\"responsive\": true}                    ).then(function(){\n",
       "                            \n",
       "var gd = document.getElementById('6f7268e7-e35b-4db4-8326-dae6ef078787');\n",
       "var x = new MutationObserver(function (mutations, observer) {{\n",
       "        var display = window.getComputedStyle(gd).display;\n",
       "        if (!display || display === 'none') {{\n",
       "            console.log([gd, 'removed!']);\n",
       "            Plotly.purge(gd);\n",
       "            observer.disconnect();\n",
       "        }}\n",
       "}});\n",
       "\n",
       "// Listen for the removal of the full notebook cells\n",
       "var notebookContainer = gd.closest('#notebook-container');\n",
       "if (notebookContainer) {{\n",
       "    x.observe(notebookContainer, {childList: true});\n",
       "}}\n",
       "\n",
       "// Listen for the clearing of the current output cell\n",
       "var outputEl = gd.closest('.output');\n",
       "if (outputEl) {{\n",
       "    x.observe(outputEl, {childList: true});\n",
       "}}\n",
       "\n",
       "                        })                };                });            </script>        </div>"
      ]
     },
     "metadata": {},
     "output_type": "display_data"
    },
    {
     "data": {
      "application/vnd.plotly.v1+json": {
       "config": {
        "plotlyServerURL": "https://plot.ly"
       },
       "data": [
        {
         "alignmentgroup": "True",
         "customdata": [
          [
           "Wolves"
          ],
          [
           "Burnley"
          ],
          [
           "Wolves"
          ],
          [
           "West Brom"
          ],
          [
           "Crystal Palace"
          ],
          [
           "West Ham"
          ],
          [
           "West Ham"
          ],
          [
           "Newcastle"
          ],
          [
           "West Brom"
          ],
          [
           "Brighton"
          ],
          [
           "Everton"
          ],
          [
           "Aston Villa"
          ],
          [
           "West Ham"
          ],
          [
           "Aston Villa"
          ],
          [
           "Aston Villa"
          ],
          [
           "Leeds"
          ],
          [
           "Brighton"
          ],
          [
           "Man City"
          ],
          [
           "Man Utd"
          ],
          [
           "Spurs"
          ],
          [
           "Leeds"
          ],
          [
           "Southampton"
          ],
          [
           "Sheffield Utd"
          ],
          [
           "Leicester"
          ],
          [
           "Wolves"
          ],
          [
           "Everton"
          ],
          [
           "Burnley"
          ],
          [
           "Burnley"
          ],
          [
           "Everton"
          ],
          [
           "West Brom"
          ],
          [
           "Brighton"
          ],
          [
           "Everton"
          ],
          [
           "Man City"
          ],
          [
           "Sheffield Utd"
          ],
          [
           "Spurs"
          ],
          [
           "Liverpool"
          ],
          [
           "West Brom"
          ],
          [
           "Crystal Palace"
          ],
          [
           "Southampton"
          ],
          [
           "Southampton"
          ],
          [
           "Aston Villa"
          ],
          [
           "Wolves"
          ],
          [
           "Newcastle"
          ],
          [
           "Fulham"
          ],
          [
           "Arsenal"
          ],
          [
           "Wolves"
          ],
          [
           "Newcastle"
          ],
          [
           "West Brom"
          ],
          [
           "Sheffield Utd"
          ],
          [
           "Chelsea"
          ],
          [
           "West Brom"
          ],
          [
           "West Ham"
          ],
          [
           "Brighton"
          ],
          [
           "Crystal Palace"
          ],
          [
           "Sheffield Utd"
          ],
          [
           "Sheffield Utd"
          ],
          [
           "Man Utd"
          ],
          [
           "Burnley"
          ],
          [
           "Burnley"
          ],
          [
           "Wolves"
          ],
          [
           "Burnley"
          ],
          [
           "Man Utd"
          ],
          [
           "Chelsea"
          ],
          [
           "Newcastle"
          ],
          [
           "Leicester"
          ],
          [
           "Leeds"
          ],
          [
           "Fulham"
          ],
          [
           "Man City"
          ],
          [
           "Brighton"
          ],
          [
           "Crystal Palace"
          ],
          [
           "Chelsea"
          ],
          [
           "Liverpool"
          ],
          [
           "Crystal Palace"
          ],
          [
           "West Brom"
          ],
          [
           "Everton"
          ],
          [
           "Southampton"
          ],
          [
           "Fulham"
          ],
          [
           "West Ham"
          ],
          [
           "Arsenal"
          ],
          [
           "Sheffield Utd"
          ],
          [
           "Leicester"
          ],
          [
           "Burnley"
          ],
          [
           "Brighton"
          ],
          [
           "Spurs"
          ],
          [
           "Newcastle"
          ],
          [
           "Everton"
          ],
          [
           "Southampton"
          ],
          [
           "Aston Villa"
          ],
          [
           "Leeds"
          ]
         ],
         "hovertemplate": "second_name=%{x}<br>value=%{y}<br>team=%{customdata[0]}<extra></extra>",
         "legendgroup": "",
         "marker": {
          "color": "#636efa"
         },
         "name": "",
         "offsetgroup": "",
         "orientation": "v",
         "showlegend": false,
         "textposition": "auto",
         "type": "bar",
         "x": [
          "Campana",
          "Thompson",
          "Bonatini",
          "Zohore",
          "Wickham",
          "Odubeko",
          "Ajeti",
          "Muto",
          "Diaby",
          "Murray",
          "Simms",
          "Vassilev",
          "Hugill",
          "Samatta",
          "Moraes",
          "Gelhardt",
          "Andone",
          "Delap",
          "Ighalo",
          "Scarlett",
          "Huggins",
          "Obafemi",
          "Hackford",
          "Slimani",
          "Cutrone",
          "Kean",
          "Mumbongo",
          "Richardson",
          "Tosun",
          "Austin",
          "Zeqiri",
          "King",
          "Agüero",
          "Mousset",
          "Alves Morais",
          "Origi",
          "Robson-Kanu",
          "Mateta",
          "Long",
          "N'Lundulu",
          "Davis",
          "Da Silva",
          "Gayle",
          "Maja",
          "Nketiah",
          "Jiménez",
          "Carroll",
          "Diagne",
          "Brewster",
          "Giroud",
          "Grant",
          "Haller",
          "Connolly",
          "Batshuayi",
          "Sharp",
          "McBurnie",
          "Cavani",
          "Barnes",
          "Rodriguez",
          "Silva",
          "Vydra",
          "Martial",
          "Abraham",
          "Apolinário de Lira",
          "Iheanacho",
          "Moreno",
          "Mitrović",
          "de Jesus",
          "Welbeck",
          "Ayew",
          "Werner",
          "Firmino",
          "Benteke",
          "Robinson",
          "de Andrade",
          "Ings",
          "Decordova-Reid",
          "Antonio",
          "Lacazette",
          "McGoldrick",
          "Vardy",
          "Wood",
          "Maupay",
          "Kane",
          "Wilson",
          "Calvert-Lewin",
          "Adams",
          "Watkins",
          "Bamford"
         ],
         "xaxis": "x",
         "y": [
          0,
          0,
          0,
          0,
          0,
          0,
          0,
          0,
          0,
          0,
          0,
          0,
          0,
          0,
          0,
          0,
          0,
          0.2,
          0.2,
          0.2,
          0.2,
          0.2,
          0.2,
          0.2,
          0.3,
          0.4,
          0.4,
          0.4,
          0.7,
          1,
          1.2,
          1.5,
          1.7,
          1.7,
          1.9,
          2,
          2.3,
          2.4,
          2.4,
          2.7,
          2.9,
          3.2,
          3.7,
          4.8,
          5.1,
          5.3,
          5.5,
          5.8,
          6.3,
          6.6,
          6.6,
          6.7,
          6.9,
          7,
          7.1,
          7.7,
          7.8,
          8,
          8.3,
          8.5,
          8.5,
          8.7,
          9.4,
          9.5,
          9.8,
          9.8,
          10.5,
          10.5,
          10.7,
          10.9,
          11.5,
          11.6,
          12,
          12.1,
          12.2,
          12.6,
          13,
          13.4,
          13.5,
          13.7,
          14.8,
          15,
          16.2,
          17.4,
          17.8,
          18.2,
          18.8,
          19.2,
          23.9
         ],
         "yaxis": "y"
        },
        {
         "customdata": [
          [
           48
          ],
          [
           45
          ],
          [
           48
          ],
          [
           48
          ],
          [
           44
          ],
          [
           45
          ],
          [
           55
          ],
          [
           48
          ],
          [
           45
          ],
          [
           48
          ],
          [
           45
          ],
          [
           43
          ],
          [
           55
          ],
          [
           59
          ],
          [
           60
          ],
          [
           45
          ],
          [
           48
          ],
          [
           43
          ],
          [
           61
          ],
          [
           45
          ],
          [
           45
          ],
          [
           46
          ],
          [
           44
          ],
          [
           49
          ],
          [
           59
          ],
          [
           57
          ],
          [
           45
          ],
          [
           45
          ],
          [
           60
          ],
          [
           51
          ],
          [
           50
          ],
          [
           52
          ],
          [
           103
          ],
          [
           58
          ],
          [
           69
          ],
          [
           51
          ],
          [
           52
          ],
          [
           55
          ],
          [
           51
          ],
          [
           45
          ],
          [
           42
          ],
          [
           68
          ],
          [
           59
          ],
          [
           54
          ],
          [
           53
          ],
          [
           81
          ],
          [
           51
          ],
          [
           60
          ],
          [
           43
          ],
          [
           67
          ],
          [
           56
          ],
          [
           61
          ],
          [
           52
          ],
          [
           57
          ],
          [
           55
          ],
          [
           56
          ],
          [
           78
          ],
          [
           60
          ],
          [
           58
          ],
          [
           52
          ],
          [
           48
          ],
          [
           86
          ],
          [
           71
          ],
          [
           57
          ],
          [
           58
          ],
          [
           57
          ],
          [
           55
          ],
          [
           92
          ],
          [
           55
          ],
          [
           56
          ],
          [
           92
          ],
          [
           90
          ],
          [
           55
          ],
          [
           52
          ],
          [
           79
          ],
          [
           84
          ],
          [
           53
          ],
          [
           67
          ],
          [
           82
          ],
          [
           52
          ],
          [
           101
          ],
          [
           62
          ],
          [
           61
          ],
          [
           117
          ],
          [
           65
          ],
          [
           76
          ],
          [
           58
          ],
          [
           66
          ],
          [
           66
          ]
         ],
         "hovertemplate": "second_name=%{x}<br>total_points=%{y}<br>now_cost=%{customdata[0]}<extra></extra>",
         "legendgroup": "",
         "marker": {
          "color": "#636efa",
          "symbol": "circle"
         },
         "mode": "markers",
         "name": "",
         "orientation": "v",
         "showlegend": false,
         "type": "scatter",
         "x": [
          "Campana",
          "Thompson",
          "Bonatini",
          "Zohore",
          "Wickham",
          "Odubeko",
          "Ajeti",
          "Muto",
          "Diaby",
          "Murray",
          "Simms",
          "Vassilev",
          "Hugill",
          "Samatta",
          "Moraes",
          "Gelhardt",
          "Andone",
          "Delap",
          "Ighalo",
          "Scarlett",
          "Huggins",
          "Obafemi",
          "Hackford",
          "Slimani",
          "Cutrone",
          "Kean",
          "Mumbongo",
          "Richardson",
          "Tosun",
          "Austin",
          "Zeqiri",
          "King",
          "Agüero",
          "Mousset",
          "Alves Morais",
          "Origi",
          "Robson-Kanu",
          "Mateta",
          "Long",
          "N'Lundulu",
          "Davis",
          "Da Silva",
          "Gayle",
          "Maja",
          "Nketiah",
          "Jiménez",
          "Carroll",
          "Diagne",
          "Brewster",
          "Giroud",
          "Grant",
          "Haller",
          "Connolly",
          "Batshuayi",
          "Sharp",
          "McBurnie",
          "Cavani",
          "Barnes",
          "Rodriguez",
          "Silva",
          "Vydra",
          "Martial",
          "Abraham",
          "Apolinário de Lira",
          "Iheanacho",
          "Moreno",
          "Mitrović",
          "de Jesus",
          "Welbeck",
          "Ayew",
          "Werner",
          "Firmino",
          "Benteke",
          "Robinson",
          "de Andrade",
          "Ings",
          "Decordova-Reid",
          "Antonio",
          "Lacazette",
          "McGoldrick",
          "Vardy",
          "Wood",
          "Maupay",
          "Kane",
          "Wilson",
          "Calvert-Lewin",
          "Adams",
          "Watkins",
          "Bamford"
         ],
         "xaxis": "x",
         "y": [
          0,
          0,
          0,
          0,
          0,
          0,
          0,
          0,
          0,
          0,
          0,
          0,
          0,
          0,
          0,
          0,
          0,
          1,
          1,
          1,
          1,
          1,
          1,
          1,
          2,
          2,
          2,
          2,
          4,
          5,
          6,
          8,
          17,
          10,
          13,
          10,
          12,
          13,
          12,
          12,
          12,
          22,
          22,
          26,
          27,
          43,
          28,
          35,
          27,
          44,
          37,
          41,
          36,
          40,
          39,
          43,
          61,
          48,
          48,
          44,
          41,
          75,
          67,
          54,
          57,
          56,
          58,
          97,
          59,
          61,
          106,
          104,
          66,
          63,
          96,
          106,
          69,
          90,
          111,
          71,
          149,
          93,
          99,
          204,
          116,
          138,
          109,
          127,
          158
         ],
         "yaxis": "y"
        }
       ],
       "layout": {
        "barmode": "relative",
        "legend": {
         "tracegroupgap": 0
        },
        "margin": {
         "t": 60
        },
        "template": {
         "data": {
          "bar": [
           {
            "error_x": {
             "color": "#2a3f5f"
            },
            "error_y": {
             "color": "#2a3f5f"
            },
            "marker": {
             "line": {
              "color": "#E5ECF6",
              "width": 0.5
             }
            },
            "type": "bar"
           }
          ],
          "barpolar": [
           {
            "marker": {
             "line": {
              "color": "#E5ECF6",
              "width": 0.5
             }
            },
            "type": "barpolar"
           }
          ],
          "carpet": [
           {
            "aaxis": {
             "endlinecolor": "#2a3f5f",
             "gridcolor": "white",
             "linecolor": "white",
             "minorgridcolor": "white",
             "startlinecolor": "#2a3f5f"
            },
            "baxis": {
             "endlinecolor": "#2a3f5f",
             "gridcolor": "white",
             "linecolor": "white",
             "minorgridcolor": "white",
             "startlinecolor": "#2a3f5f"
            },
            "type": "carpet"
           }
          ],
          "choropleth": [
           {
            "colorbar": {
             "outlinewidth": 0,
             "ticks": ""
            },
            "type": "choropleth"
           }
          ],
          "contour": [
           {
            "colorbar": {
             "outlinewidth": 0,
             "ticks": ""
            },
            "colorscale": [
             [
              0,
              "#0d0887"
             ],
             [
              0.1111111111111111,
              "#46039f"
             ],
             [
              0.2222222222222222,
              "#7201a8"
             ],
             [
              0.3333333333333333,
              "#9c179e"
             ],
             [
              0.4444444444444444,
              "#bd3786"
             ],
             [
              0.5555555555555556,
              "#d8576b"
             ],
             [
              0.6666666666666666,
              "#ed7953"
             ],
             [
              0.7777777777777778,
              "#fb9f3a"
             ],
             [
              0.8888888888888888,
              "#fdca26"
             ],
             [
              1,
              "#f0f921"
             ]
            ],
            "type": "contour"
           }
          ],
          "contourcarpet": [
           {
            "colorbar": {
             "outlinewidth": 0,
             "ticks": ""
            },
            "type": "contourcarpet"
           }
          ],
          "heatmap": [
           {
            "colorbar": {
             "outlinewidth": 0,
             "ticks": ""
            },
            "colorscale": [
             [
              0,
              "#0d0887"
             ],
             [
              0.1111111111111111,
              "#46039f"
             ],
             [
              0.2222222222222222,
              "#7201a8"
             ],
             [
              0.3333333333333333,
              "#9c179e"
             ],
             [
              0.4444444444444444,
              "#bd3786"
             ],
             [
              0.5555555555555556,
              "#d8576b"
             ],
             [
              0.6666666666666666,
              "#ed7953"
             ],
             [
              0.7777777777777778,
              "#fb9f3a"
             ],
             [
              0.8888888888888888,
              "#fdca26"
             ],
             [
              1,
              "#f0f921"
             ]
            ],
            "type": "heatmap"
           }
          ],
          "heatmapgl": [
           {
            "colorbar": {
             "outlinewidth": 0,
             "ticks": ""
            },
            "colorscale": [
             [
              0,
              "#0d0887"
             ],
             [
              0.1111111111111111,
              "#46039f"
             ],
             [
              0.2222222222222222,
              "#7201a8"
             ],
             [
              0.3333333333333333,
              "#9c179e"
             ],
             [
              0.4444444444444444,
              "#bd3786"
             ],
             [
              0.5555555555555556,
              "#d8576b"
             ],
             [
              0.6666666666666666,
              "#ed7953"
             ],
             [
              0.7777777777777778,
              "#fb9f3a"
             ],
             [
              0.8888888888888888,
              "#fdca26"
             ],
             [
              1,
              "#f0f921"
             ]
            ],
            "type": "heatmapgl"
           }
          ],
          "histogram": [
           {
            "marker": {
             "colorbar": {
              "outlinewidth": 0,
              "ticks": ""
             }
            },
            "type": "histogram"
           }
          ],
          "histogram2d": [
           {
            "colorbar": {
             "outlinewidth": 0,
             "ticks": ""
            },
            "colorscale": [
             [
              0,
              "#0d0887"
             ],
             [
              0.1111111111111111,
              "#46039f"
             ],
             [
              0.2222222222222222,
              "#7201a8"
             ],
             [
              0.3333333333333333,
              "#9c179e"
             ],
             [
              0.4444444444444444,
              "#bd3786"
             ],
             [
              0.5555555555555556,
              "#d8576b"
             ],
             [
              0.6666666666666666,
              "#ed7953"
             ],
             [
              0.7777777777777778,
              "#fb9f3a"
             ],
             [
              0.8888888888888888,
              "#fdca26"
             ],
             [
              1,
              "#f0f921"
             ]
            ],
            "type": "histogram2d"
           }
          ],
          "histogram2dcontour": [
           {
            "colorbar": {
             "outlinewidth": 0,
             "ticks": ""
            },
            "colorscale": [
             [
              0,
              "#0d0887"
             ],
             [
              0.1111111111111111,
              "#46039f"
             ],
             [
              0.2222222222222222,
              "#7201a8"
             ],
             [
              0.3333333333333333,
              "#9c179e"
             ],
             [
              0.4444444444444444,
              "#bd3786"
             ],
             [
              0.5555555555555556,
              "#d8576b"
             ],
             [
              0.6666666666666666,
              "#ed7953"
             ],
             [
              0.7777777777777778,
              "#fb9f3a"
             ],
             [
              0.8888888888888888,
              "#fdca26"
             ],
             [
              1,
              "#f0f921"
             ]
            ],
            "type": "histogram2dcontour"
           }
          ],
          "mesh3d": [
           {
            "colorbar": {
             "outlinewidth": 0,
             "ticks": ""
            },
            "type": "mesh3d"
           }
          ],
          "parcoords": [
           {
            "line": {
             "colorbar": {
              "outlinewidth": 0,
              "ticks": ""
             }
            },
            "type": "parcoords"
           }
          ],
          "pie": [
           {
            "automargin": true,
            "type": "pie"
           }
          ],
          "scatter": [
           {
            "marker": {
             "colorbar": {
              "outlinewidth": 0,
              "ticks": ""
             }
            },
            "type": "scatter"
           }
          ],
          "scatter3d": [
           {
            "line": {
             "colorbar": {
              "outlinewidth": 0,
              "ticks": ""
             }
            },
            "marker": {
             "colorbar": {
              "outlinewidth": 0,
              "ticks": ""
             }
            },
            "type": "scatter3d"
           }
          ],
          "scattercarpet": [
           {
            "marker": {
             "colorbar": {
              "outlinewidth": 0,
              "ticks": ""
             }
            },
            "type": "scattercarpet"
           }
          ],
          "scattergeo": [
           {
            "marker": {
             "colorbar": {
              "outlinewidth": 0,
              "ticks": ""
             }
            },
            "type": "scattergeo"
           }
          ],
          "scattergl": [
           {
            "marker": {
             "colorbar": {
              "outlinewidth": 0,
              "ticks": ""
             }
            },
            "type": "scattergl"
           }
          ],
          "scattermapbox": [
           {
            "marker": {
             "colorbar": {
              "outlinewidth": 0,
              "ticks": ""
             }
            },
            "type": "scattermapbox"
           }
          ],
          "scatterpolar": [
           {
            "marker": {
             "colorbar": {
              "outlinewidth": 0,
              "ticks": ""
             }
            },
            "type": "scatterpolar"
           }
          ],
          "scatterpolargl": [
           {
            "marker": {
             "colorbar": {
              "outlinewidth": 0,
              "ticks": ""
             }
            },
            "type": "scatterpolargl"
           }
          ],
          "scatterternary": [
           {
            "marker": {
             "colorbar": {
              "outlinewidth": 0,
              "ticks": ""
             }
            },
            "type": "scatterternary"
           }
          ],
          "surface": [
           {
            "colorbar": {
             "outlinewidth": 0,
             "ticks": ""
            },
            "colorscale": [
             [
              0,
              "#0d0887"
             ],
             [
              0.1111111111111111,
              "#46039f"
             ],
             [
              0.2222222222222222,
              "#7201a8"
             ],
             [
              0.3333333333333333,
              "#9c179e"
             ],
             [
              0.4444444444444444,
              "#bd3786"
             ],
             [
              0.5555555555555556,
              "#d8576b"
             ],
             [
              0.6666666666666666,
              "#ed7953"
             ],
             [
              0.7777777777777778,
              "#fb9f3a"
             ],
             [
              0.8888888888888888,
              "#fdca26"
             ],
             [
              1,
              "#f0f921"
             ]
            ],
            "type": "surface"
           }
          ],
          "table": [
           {
            "cells": {
             "fill": {
              "color": "#EBF0F8"
             },
             "line": {
              "color": "white"
             }
            },
            "header": {
             "fill": {
              "color": "#C8D4E3"
             },
             "line": {
              "color": "white"
             }
            },
            "type": "table"
           }
          ]
         },
         "layout": {
          "annotationdefaults": {
           "arrowcolor": "#2a3f5f",
           "arrowhead": 0,
           "arrowwidth": 1
          },
          "autotypenumbers": "strict",
          "coloraxis": {
           "colorbar": {
            "outlinewidth": 0,
            "ticks": ""
           }
          },
          "colorscale": {
           "diverging": [
            [
             0,
             "#8e0152"
            ],
            [
             0.1,
             "#c51b7d"
            ],
            [
             0.2,
             "#de77ae"
            ],
            [
             0.3,
             "#f1b6da"
            ],
            [
             0.4,
             "#fde0ef"
            ],
            [
             0.5,
             "#f7f7f7"
            ],
            [
             0.6,
             "#e6f5d0"
            ],
            [
             0.7,
             "#b8e186"
            ],
            [
             0.8,
             "#7fbc41"
            ],
            [
             0.9,
             "#4d9221"
            ],
            [
             1,
             "#276419"
            ]
           ],
           "sequential": [
            [
             0,
             "#0d0887"
            ],
            [
             0.1111111111111111,
             "#46039f"
            ],
            [
             0.2222222222222222,
             "#7201a8"
            ],
            [
             0.3333333333333333,
             "#9c179e"
            ],
            [
             0.4444444444444444,
             "#bd3786"
            ],
            [
             0.5555555555555556,
             "#d8576b"
            ],
            [
             0.6666666666666666,
             "#ed7953"
            ],
            [
             0.7777777777777778,
             "#fb9f3a"
            ],
            [
             0.8888888888888888,
             "#fdca26"
            ],
            [
             1,
             "#f0f921"
            ]
           ],
           "sequentialminus": [
            [
             0,
             "#0d0887"
            ],
            [
             0.1111111111111111,
             "#46039f"
            ],
            [
             0.2222222222222222,
             "#7201a8"
            ],
            [
             0.3333333333333333,
             "#9c179e"
            ],
            [
             0.4444444444444444,
             "#bd3786"
            ],
            [
             0.5555555555555556,
             "#d8576b"
            ],
            [
             0.6666666666666666,
             "#ed7953"
            ],
            [
             0.7777777777777778,
             "#fb9f3a"
            ],
            [
             0.8888888888888888,
             "#fdca26"
            ],
            [
             1,
             "#f0f921"
            ]
           ]
          },
          "colorway": [
           "#636efa",
           "#EF553B",
           "#00cc96",
           "#ab63fa",
           "#FFA15A",
           "#19d3f3",
           "#FF6692",
           "#B6E880",
           "#FF97FF",
           "#FECB52"
          ],
          "font": {
           "color": "#2a3f5f"
          },
          "geo": {
           "bgcolor": "white",
           "lakecolor": "white",
           "landcolor": "#E5ECF6",
           "showlakes": true,
           "showland": true,
           "subunitcolor": "white"
          },
          "hoverlabel": {
           "align": "left"
          },
          "hovermode": "closest",
          "mapbox": {
           "style": "light"
          },
          "paper_bgcolor": "white",
          "plot_bgcolor": "#E5ECF6",
          "polar": {
           "angularaxis": {
            "gridcolor": "white",
            "linecolor": "white",
            "ticks": ""
           },
           "bgcolor": "#E5ECF6",
           "radialaxis": {
            "gridcolor": "white",
            "linecolor": "white",
            "ticks": ""
           }
          },
          "scene": {
           "xaxis": {
            "backgroundcolor": "#E5ECF6",
            "gridcolor": "white",
            "gridwidth": 2,
            "linecolor": "white",
            "showbackground": true,
            "ticks": "",
            "zerolinecolor": "white"
           },
           "yaxis": {
            "backgroundcolor": "#E5ECF6",
            "gridcolor": "white",
            "gridwidth": 2,
            "linecolor": "white",
            "showbackground": true,
            "ticks": "",
            "zerolinecolor": "white"
           },
           "zaxis": {
            "backgroundcolor": "#E5ECF6",
            "gridcolor": "white",
            "gridwidth": 2,
            "linecolor": "white",
            "showbackground": true,
            "ticks": "",
            "zerolinecolor": "white"
           }
          },
          "shapedefaults": {
           "line": {
            "color": "#2a3f5f"
           }
          },
          "ternary": {
           "aaxis": {
            "gridcolor": "white",
            "linecolor": "white",
            "ticks": ""
           },
           "baxis": {
            "gridcolor": "white",
            "linecolor": "white",
            "ticks": ""
           },
           "bgcolor": "#E5ECF6",
           "caxis": {
            "gridcolor": "white",
            "linecolor": "white",
            "ticks": ""
           }
          },
          "title": {
           "x": 0.05
          },
          "xaxis": {
           "automargin": true,
           "gridcolor": "white",
           "linecolor": "white",
           "ticks": "",
           "title": {
            "standoff": 15
           },
           "zerolinecolor": "white",
           "zerolinewidth": 2
          },
          "yaxis": {
           "automargin": true,
           "gridcolor": "white",
           "linecolor": "white",
           "ticks": "",
           "title": {
            "standoff": 15
           },
           "zerolinecolor": "white",
           "zerolinewidth": 2
          }
         }
        },
        "xaxis": {
         "anchor": "y",
         "domain": [
          0,
          1
         ],
         "title": {
          "text": "second_name"
         }
        },
        "yaxis": {
         "anchor": "x",
         "domain": [
          0,
          1
         ],
         "title": {
          "text": "value"
         }
        }
       }
      },
      "text/html": [
       "<div>                            <div id=\"2e47838e-048e-4c02-b762-721910d7495a\" class=\"plotly-graph-div\" style=\"height:525px; width:100%;\"></div>            <script type=\"text/javascript\">                require([\"plotly\"], function(Plotly) {                    window.PLOTLYENV=window.PLOTLYENV || {};                                    if (document.getElementById(\"2e47838e-048e-4c02-b762-721910d7495a\")) {                    Plotly.newPlot(                        \"2e47838e-048e-4c02-b762-721910d7495a\",                        [{\"alignmentgroup\": \"True\", \"customdata\": [[\"Wolves\"], [\"Burnley\"], [\"Wolves\"], [\"West Brom\"], [\"Crystal Palace\"], [\"West Ham\"], [\"West Ham\"], [\"Newcastle\"], [\"West Brom\"], [\"Brighton\"], [\"Everton\"], [\"Aston Villa\"], [\"West Ham\"], [\"Aston Villa\"], [\"Aston Villa\"], [\"Leeds\"], [\"Brighton\"], [\"Man City\"], [\"Man Utd\"], [\"Spurs\"], [\"Leeds\"], [\"Southampton\"], [\"Sheffield Utd\"], [\"Leicester\"], [\"Wolves\"], [\"Everton\"], [\"Burnley\"], [\"Burnley\"], [\"Everton\"], [\"West Brom\"], [\"Brighton\"], [\"Everton\"], [\"Man City\"], [\"Sheffield Utd\"], [\"Spurs\"], [\"Liverpool\"], [\"West Brom\"], [\"Crystal Palace\"], [\"Southampton\"], [\"Southampton\"], [\"Aston Villa\"], [\"Wolves\"], [\"Newcastle\"], [\"Fulham\"], [\"Arsenal\"], [\"Wolves\"], [\"Newcastle\"], [\"West Brom\"], [\"Sheffield Utd\"], [\"Chelsea\"], [\"West Brom\"], [\"West Ham\"], [\"Brighton\"], [\"Crystal Palace\"], [\"Sheffield Utd\"], [\"Sheffield Utd\"], [\"Man Utd\"], [\"Burnley\"], [\"Burnley\"], [\"Wolves\"], [\"Burnley\"], [\"Man Utd\"], [\"Chelsea\"], [\"Newcastle\"], [\"Leicester\"], [\"Leeds\"], [\"Fulham\"], [\"Man City\"], [\"Brighton\"], [\"Crystal Palace\"], [\"Chelsea\"], [\"Liverpool\"], [\"Crystal Palace\"], [\"West Brom\"], [\"Everton\"], [\"Southampton\"], [\"Fulham\"], [\"West Ham\"], [\"Arsenal\"], [\"Sheffield Utd\"], [\"Leicester\"], [\"Burnley\"], [\"Brighton\"], [\"Spurs\"], [\"Newcastle\"], [\"Everton\"], [\"Southampton\"], [\"Aston Villa\"], [\"Leeds\"]], \"hovertemplate\": \"second_name=%{x}<br>value=%{y}<br>team=%{customdata[0]}<extra></extra>\", \"legendgroup\": \"\", \"marker\": {\"color\": \"#636efa\"}, \"name\": \"\", \"offsetgroup\": \"\", \"orientation\": \"v\", \"showlegend\": false, \"textposition\": \"auto\", \"type\": \"bar\", \"x\": [\"Campana\", \"Thompson\", \"Bonatini\", \"Zohore\", \"Wickham\", \"Odubeko\", \"Ajeti\", \"Muto\", \"Diaby\", \"Murray\", \"Simms\", \"Vassilev\", \"Hugill\", \"Samatta\", \"Moraes\", \"Gelhardt\", \"Andone\", \"Delap\", \"Ighalo\", \"Scarlett\", \"Huggins\", \"Obafemi\", \"Hackford\", \"Slimani\", \"Cutrone\", \"Kean\", \"Mumbongo\", \"Richardson\", \"Tosun\", \"Austin\", \"Zeqiri\", \"King\", \"Ag\\u00fcero\", \"Mousset\", \"Alves Morais\", \"Origi\", \"Robson-Kanu\", \"Mateta\", \"Long\", \"N'Lundulu\", \"Davis\", \"Da Silva\", \"Gayle\", \"Maja\", \"Nketiah\", \"Jim\\u00e9nez\", \"Carroll\", \"Diagne\", \"Brewster\", \"Giroud\", \"Grant\", \"Haller\", \"Connolly\", \"Batshuayi\", \"Sharp\", \"McBurnie\", \"Cavani\", \"Barnes\", \"Rodriguez\", \"Silva\", \"Vydra\", \"Martial\", \"Abraham\", \"Apolin\\u00e1rio de Lira\", \"Iheanacho\", \"Moreno\", \"Mitrovi\\u0107\", \"de Jesus\", \"Welbeck\", \"Ayew\", \"Werner\", \"Firmino\", \"Benteke\", \"Robinson\", \"de Andrade\", \"Ings\", \"Decordova-Reid\", \"Antonio\", \"Lacazette\", \"McGoldrick\", \"Vardy\", \"Wood\", \"Maupay\", \"Kane\", \"Wilson\", \"Calvert-Lewin\", \"Adams\", \"Watkins\", \"Bamford\"], \"xaxis\": \"x\", \"y\": [0.0, 0.0, 0.0, 0.0, 0.0, 0.0, 0.0, 0.0, 0.0, 0.0, 0.0, 0.0, 0.0, 0.0, 0.0, 0.0, 0.0, 0.2, 0.2, 0.2, 0.2, 0.2, 0.2, 0.2, 0.3, 0.4, 0.4, 0.4, 0.7, 1.0, 1.2, 1.5, 1.7, 1.7, 1.9, 2.0, 2.3, 2.4, 2.4, 2.7, 2.9, 3.2, 3.7, 4.8, 5.1, 5.3, 5.5, 5.8, 6.3, 6.6, 6.6, 6.7, 6.9, 7.0, 7.1, 7.7, 7.8, 8.0, 8.3, 8.5, 8.5, 8.7, 9.4, 9.5, 9.8, 9.8, 10.5, 10.5, 10.7, 10.9, 11.5, 11.6, 12.0, 12.1, 12.2, 12.6, 13.0, 13.4, 13.5, 13.7, 14.8, 15.0, 16.2, 17.4, 17.8, 18.2, 18.8, 19.2, 23.9], \"yaxis\": \"y\"}, {\"customdata\": [[48], [45], [48], [48], [44], [45], [55], [48], [45], [48], [45], [43], [55], [59], [60], [45], [48], [43], [61], [45], [45], [46], [44], [49], [59], [57], [45], [45], [60], [51], [50], [52], [103], [58], [69], [51], [52], [55], [51], [45], [42], [68], [59], [54], [53], [81], [51], [60], [43], [67], [56], [61], [52], [57], [55], [56], [78], [60], [58], [52], [48], [86], [71], [57], [58], [57], [55], [92], [55], [56], [92], [90], [55], [52], [79], [84], [53], [67], [82], [52], [101], [62], [61], [117], [65], [76], [58], [66], [66]], \"hovertemplate\": \"second_name=%{x}<br>total_points=%{y}<br>now_cost=%{customdata[0]}<extra></extra>\", \"legendgroup\": \"\", \"marker\": {\"color\": \"#636efa\", \"symbol\": \"circle\"}, \"mode\": \"markers\", \"name\": \"\", \"orientation\": \"v\", \"showlegend\": false, \"type\": \"scatter\", \"x\": [\"Campana\", \"Thompson\", \"Bonatini\", \"Zohore\", \"Wickham\", \"Odubeko\", \"Ajeti\", \"Muto\", \"Diaby\", \"Murray\", \"Simms\", \"Vassilev\", \"Hugill\", \"Samatta\", \"Moraes\", \"Gelhardt\", \"Andone\", \"Delap\", \"Ighalo\", \"Scarlett\", \"Huggins\", \"Obafemi\", \"Hackford\", \"Slimani\", \"Cutrone\", \"Kean\", \"Mumbongo\", \"Richardson\", \"Tosun\", \"Austin\", \"Zeqiri\", \"King\", \"Ag\\u00fcero\", \"Mousset\", \"Alves Morais\", \"Origi\", \"Robson-Kanu\", \"Mateta\", \"Long\", \"N'Lundulu\", \"Davis\", \"Da Silva\", \"Gayle\", \"Maja\", \"Nketiah\", \"Jim\\u00e9nez\", \"Carroll\", \"Diagne\", \"Brewster\", \"Giroud\", \"Grant\", \"Haller\", \"Connolly\", \"Batshuayi\", \"Sharp\", \"McBurnie\", \"Cavani\", \"Barnes\", \"Rodriguez\", \"Silva\", \"Vydra\", \"Martial\", \"Abraham\", \"Apolin\\u00e1rio de Lira\", \"Iheanacho\", \"Moreno\", \"Mitrovi\\u0107\", \"de Jesus\", \"Welbeck\", \"Ayew\", \"Werner\", \"Firmino\", \"Benteke\", \"Robinson\", \"de Andrade\", \"Ings\", \"Decordova-Reid\", \"Antonio\", \"Lacazette\", \"McGoldrick\", \"Vardy\", \"Wood\", \"Maupay\", \"Kane\", \"Wilson\", \"Calvert-Lewin\", \"Adams\", \"Watkins\", \"Bamford\"], \"xaxis\": \"x\", \"y\": [0.0, 0.0, 0.0, 0.0, 0.0, 0.0, 0.0, 0.0, 0.0, 0.0, 0.0, 0.0, 0.0, 0.0, 0.0, 0.0, 0.0, 1.0, 1.0, 1.0, 1.0, 1.0, 1.0, 1.0, 2.0, 2.0, 2.0, 2.0, 4.0, 5.0, 6.0, 8.0, 17.0, 10.0, 13.0, 10.0, 12.0, 13.0, 12.0, 12.0, 12.0, 22.0, 22.0, 26.0, 27.0, 43.0, 28.0, 35.0, 27.0, 44.0, 37.0, 41.0, 36.0, 40.0, 39.0, 43.0, 61.0, 48.0, 48.0, 44.0, 41.0, 75.0, 67.0, 54.0, 57.0, 56.0, 58.0, 97.0, 59.0, 61.0, 106.0, 104.0, 66.0, 63.0, 96.0, 106.0, 69.0, 90.0, 111.0, 71.0, 149.0, 93.0, 99.0, 204.0, 116.0, 138.0, 109.0, 127.0, 158.0], \"yaxis\": \"y\"}],                        {\"barmode\": \"relative\", \"legend\": {\"tracegroupgap\": 0}, \"margin\": {\"t\": 60}, \"template\": {\"data\": {\"bar\": [{\"error_x\": {\"color\": \"#2a3f5f\"}, \"error_y\": {\"color\": \"#2a3f5f\"}, \"marker\": {\"line\": {\"color\": \"#E5ECF6\", \"width\": 0.5}}, \"type\": \"bar\"}], \"barpolar\": [{\"marker\": {\"line\": {\"color\": \"#E5ECF6\", \"width\": 0.5}}, \"type\": \"barpolar\"}], \"carpet\": [{\"aaxis\": {\"endlinecolor\": \"#2a3f5f\", \"gridcolor\": \"white\", \"linecolor\": \"white\", \"minorgridcolor\": \"white\", \"startlinecolor\": \"#2a3f5f\"}, \"baxis\": {\"endlinecolor\": \"#2a3f5f\", \"gridcolor\": \"white\", \"linecolor\": \"white\", \"minorgridcolor\": \"white\", \"startlinecolor\": \"#2a3f5f\"}, \"type\": \"carpet\"}], \"choropleth\": [{\"colorbar\": {\"outlinewidth\": 0, \"ticks\": \"\"}, \"type\": \"choropleth\"}], \"contour\": [{\"colorbar\": {\"outlinewidth\": 0, \"ticks\": \"\"}, \"colorscale\": [[0.0, \"#0d0887\"], [0.1111111111111111, \"#46039f\"], [0.2222222222222222, \"#7201a8\"], [0.3333333333333333, \"#9c179e\"], [0.4444444444444444, \"#bd3786\"], [0.5555555555555556, \"#d8576b\"], [0.6666666666666666, \"#ed7953\"], [0.7777777777777778, \"#fb9f3a\"], [0.8888888888888888, \"#fdca26\"], [1.0, \"#f0f921\"]], \"type\": \"contour\"}], \"contourcarpet\": [{\"colorbar\": {\"outlinewidth\": 0, \"ticks\": \"\"}, \"type\": \"contourcarpet\"}], \"heatmap\": [{\"colorbar\": {\"outlinewidth\": 0, \"ticks\": \"\"}, \"colorscale\": [[0.0, \"#0d0887\"], [0.1111111111111111, \"#46039f\"], [0.2222222222222222, \"#7201a8\"], [0.3333333333333333, \"#9c179e\"], [0.4444444444444444, \"#bd3786\"], [0.5555555555555556, \"#d8576b\"], [0.6666666666666666, \"#ed7953\"], [0.7777777777777778, \"#fb9f3a\"], [0.8888888888888888, \"#fdca26\"], [1.0, \"#f0f921\"]], \"type\": \"heatmap\"}], \"heatmapgl\": [{\"colorbar\": {\"outlinewidth\": 0, \"ticks\": \"\"}, \"colorscale\": [[0.0, \"#0d0887\"], [0.1111111111111111, \"#46039f\"], [0.2222222222222222, \"#7201a8\"], [0.3333333333333333, \"#9c179e\"], [0.4444444444444444, \"#bd3786\"], [0.5555555555555556, \"#d8576b\"], [0.6666666666666666, \"#ed7953\"], [0.7777777777777778, \"#fb9f3a\"], [0.8888888888888888, \"#fdca26\"], [1.0, \"#f0f921\"]], \"type\": \"heatmapgl\"}], \"histogram\": [{\"marker\": {\"colorbar\": {\"outlinewidth\": 0, \"ticks\": \"\"}}, \"type\": \"histogram\"}], \"histogram2d\": [{\"colorbar\": {\"outlinewidth\": 0, \"ticks\": \"\"}, \"colorscale\": [[0.0, \"#0d0887\"], [0.1111111111111111, \"#46039f\"], [0.2222222222222222, \"#7201a8\"], [0.3333333333333333, \"#9c179e\"], [0.4444444444444444, \"#bd3786\"], [0.5555555555555556, \"#d8576b\"], [0.6666666666666666, \"#ed7953\"], [0.7777777777777778, \"#fb9f3a\"], [0.8888888888888888, \"#fdca26\"], [1.0, \"#f0f921\"]], \"type\": \"histogram2d\"}], \"histogram2dcontour\": [{\"colorbar\": {\"outlinewidth\": 0, \"ticks\": \"\"}, \"colorscale\": [[0.0, \"#0d0887\"], [0.1111111111111111, \"#46039f\"], [0.2222222222222222, \"#7201a8\"], [0.3333333333333333, \"#9c179e\"], [0.4444444444444444, \"#bd3786\"], [0.5555555555555556, \"#d8576b\"], [0.6666666666666666, \"#ed7953\"], [0.7777777777777778, \"#fb9f3a\"], [0.8888888888888888, \"#fdca26\"], [1.0, \"#f0f921\"]], \"type\": \"histogram2dcontour\"}], \"mesh3d\": [{\"colorbar\": {\"outlinewidth\": 0, \"ticks\": \"\"}, \"type\": \"mesh3d\"}], \"parcoords\": [{\"line\": {\"colorbar\": {\"outlinewidth\": 0, \"ticks\": \"\"}}, \"type\": \"parcoords\"}], \"pie\": [{\"automargin\": true, \"type\": \"pie\"}], \"scatter\": [{\"marker\": {\"colorbar\": {\"outlinewidth\": 0, \"ticks\": \"\"}}, \"type\": \"scatter\"}], \"scatter3d\": [{\"line\": {\"colorbar\": {\"outlinewidth\": 0, \"ticks\": \"\"}}, \"marker\": {\"colorbar\": {\"outlinewidth\": 0, \"ticks\": \"\"}}, \"type\": \"scatter3d\"}], \"scattercarpet\": [{\"marker\": {\"colorbar\": {\"outlinewidth\": 0, \"ticks\": \"\"}}, \"type\": \"scattercarpet\"}], \"scattergeo\": [{\"marker\": {\"colorbar\": {\"outlinewidth\": 0, \"ticks\": \"\"}}, \"type\": \"scattergeo\"}], \"scattergl\": [{\"marker\": {\"colorbar\": {\"outlinewidth\": 0, \"ticks\": \"\"}}, \"type\": \"scattergl\"}], \"scattermapbox\": [{\"marker\": {\"colorbar\": {\"outlinewidth\": 0, \"ticks\": \"\"}}, \"type\": \"scattermapbox\"}], \"scatterpolar\": [{\"marker\": {\"colorbar\": {\"outlinewidth\": 0, \"ticks\": \"\"}}, \"type\": \"scatterpolar\"}], \"scatterpolargl\": [{\"marker\": {\"colorbar\": {\"outlinewidth\": 0, \"ticks\": \"\"}}, \"type\": \"scatterpolargl\"}], \"scatterternary\": [{\"marker\": {\"colorbar\": {\"outlinewidth\": 0, \"ticks\": \"\"}}, \"type\": \"scatterternary\"}], \"surface\": [{\"colorbar\": {\"outlinewidth\": 0, \"ticks\": \"\"}, \"colorscale\": [[0.0, \"#0d0887\"], [0.1111111111111111, \"#46039f\"], [0.2222222222222222, \"#7201a8\"], [0.3333333333333333, \"#9c179e\"], [0.4444444444444444, \"#bd3786\"], [0.5555555555555556, \"#d8576b\"], [0.6666666666666666, \"#ed7953\"], [0.7777777777777778, \"#fb9f3a\"], [0.8888888888888888, \"#fdca26\"], [1.0, \"#f0f921\"]], \"type\": \"surface\"}], \"table\": [{\"cells\": {\"fill\": {\"color\": \"#EBF0F8\"}, \"line\": {\"color\": \"white\"}}, \"header\": {\"fill\": {\"color\": \"#C8D4E3\"}, \"line\": {\"color\": \"white\"}}, \"type\": \"table\"}]}, \"layout\": {\"annotationdefaults\": {\"arrowcolor\": \"#2a3f5f\", \"arrowhead\": 0, \"arrowwidth\": 1}, \"autotypenumbers\": \"strict\", \"coloraxis\": {\"colorbar\": {\"outlinewidth\": 0, \"ticks\": \"\"}}, \"colorscale\": {\"diverging\": [[0, \"#8e0152\"], [0.1, \"#c51b7d\"], [0.2, \"#de77ae\"], [0.3, \"#f1b6da\"], [0.4, \"#fde0ef\"], [0.5, \"#f7f7f7\"], [0.6, \"#e6f5d0\"], [0.7, \"#b8e186\"], [0.8, \"#7fbc41\"], [0.9, \"#4d9221\"], [1, \"#276419\"]], \"sequential\": [[0.0, \"#0d0887\"], [0.1111111111111111, \"#46039f\"], [0.2222222222222222, \"#7201a8\"], [0.3333333333333333, \"#9c179e\"], [0.4444444444444444, \"#bd3786\"], [0.5555555555555556, \"#d8576b\"], [0.6666666666666666, \"#ed7953\"], [0.7777777777777778, \"#fb9f3a\"], [0.8888888888888888, \"#fdca26\"], [1.0, \"#f0f921\"]], \"sequentialminus\": [[0.0, \"#0d0887\"], [0.1111111111111111, \"#46039f\"], [0.2222222222222222, \"#7201a8\"], [0.3333333333333333, \"#9c179e\"], [0.4444444444444444, \"#bd3786\"], [0.5555555555555556, \"#d8576b\"], [0.6666666666666666, \"#ed7953\"], [0.7777777777777778, \"#fb9f3a\"], [0.8888888888888888, \"#fdca26\"], [1.0, \"#f0f921\"]]}, \"colorway\": [\"#636efa\", \"#EF553B\", \"#00cc96\", \"#ab63fa\", \"#FFA15A\", \"#19d3f3\", \"#FF6692\", \"#B6E880\", \"#FF97FF\", \"#FECB52\"], \"font\": {\"color\": \"#2a3f5f\"}, \"geo\": {\"bgcolor\": \"white\", \"lakecolor\": \"white\", \"landcolor\": \"#E5ECF6\", \"showlakes\": true, \"showland\": true, \"subunitcolor\": \"white\"}, \"hoverlabel\": {\"align\": \"left\"}, \"hovermode\": \"closest\", \"mapbox\": {\"style\": \"light\"}, \"paper_bgcolor\": \"white\", \"plot_bgcolor\": \"#E5ECF6\", \"polar\": {\"angularaxis\": {\"gridcolor\": \"white\", \"linecolor\": \"white\", \"ticks\": \"\"}, \"bgcolor\": \"#E5ECF6\", \"radialaxis\": {\"gridcolor\": \"white\", \"linecolor\": \"white\", \"ticks\": \"\"}}, \"scene\": {\"xaxis\": {\"backgroundcolor\": \"#E5ECF6\", \"gridcolor\": \"white\", \"gridwidth\": 2, \"linecolor\": \"white\", \"showbackground\": true, \"ticks\": \"\", \"zerolinecolor\": \"white\"}, \"yaxis\": {\"backgroundcolor\": \"#E5ECF6\", \"gridcolor\": \"white\", \"gridwidth\": 2, \"linecolor\": \"white\", \"showbackground\": true, \"ticks\": \"\", \"zerolinecolor\": \"white\"}, \"zaxis\": {\"backgroundcolor\": \"#E5ECF6\", \"gridcolor\": \"white\", \"gridwidth\": 2, \"linecolor\": \"white\", \"showbackground\": true, \"ticks\": \"\", \"zerolinecolor\": \"white\"}}, \"shapedefaults\": {\"line\": {\"color\": \"#2a3f5f\"}}, \"ternary\": {\"aaxis\": {\"gridcolor\": \"white\", \"linecolor\": \"white\", \"ticks\": \"\"}, \"baxis\": {\"gridcolor\": \"white\", \"linecolor\": \"white\", \"ticks\": \"\"}, \"bgcolor\": \"#E5ECF6\", \"caxis\": {\"gridcolor\": \"white\", \"linecolor\": \"white\", \"ticks\": \"\"}}, \"title\": {\"x\": 0.05}, \"xaxis\": {\"automargin\": true, \"gridcolor\": \"white\", \"linecolor\": \"white\", \"ticks\": \"\", \"title\": {\"standoff\": 15}, \"zerolinecolor\": \"white\", \"zerolinewidth\": 2}, \"yaxis\": {\"automargin\": true, \"gridcolor\": \"white\", \"linecolor\": \"white\", \"ticks\": \"\", \"title\": {\"standoff\": 15}, \"zerolinecolor\": \"white\", \"zerolinewidth\": 2}}}, \"xaxis\": {\"anchor\": \"y\", \"domain\": [0.0, 1.0], \"title\": {\"text\": \"second_name\"}}, \"yaxis\": {\"anchor\": \"x\", \"domain\": [0.0, 1.0], \"title\": {\"text\": \"value\"}}},                        {\"responsive\": true}                    ).then(function(){\n",
       "                            \n",
       "var gd = document.getElementById('2e47838e-048e-4c02-b762-721910d7495a');\n",
       "var x = new MutationObserver(function (mutations, observer) {{\n",
       "        var display = window.getComputedStyle(gd).display;\n",
       "        if (!display || display === 'none') {{\n",
       "            console.log([gd, 'removed!']);\n",
       "            Plotly.purge(gd);\n",
       "            observer.disconnect();\n",
       "        }}\n",
       "}});\n",
       "\n",
       "// Listen for the removal of the full notebook cells\n",
       "var notebookContainer = gd.closest('#notebook-container');\n",
       "if (notebookContainer) {{\n",
       "    x.observe(notebookContainer, {childList: true});\n",
       "}}\n",
       "\n",
       "// Listen for the clearing of the current output cell\n",
       "var outputEl = gd.closest('.output');\n",
       "if (outputEl) {{\n",
       "    x.observe(outputEl, {childList: true});\n",
       "}}\n",
       "\n",
       "                        })                };                });            </script>        </div>"
      ]
     },
     "metadata": {},
     "output_type": "display_data"
    }
   ],
   "source": [
    "grouped_se_df = slim_elements_df.groupby(slim_elements_df.position)\n",
    "\n",
    "df_gk = grouped_se_df.get_group(\"Goalkeeper\").copy()\n",
    "df_df = grouped_se_df.get_group(\"Defender\").copy()\n",
    "df_mfd = grouped_se_df.get_group(\"Midfielder\").copy()\n",
    "df_fwd = grouped_se_df.get_group(\"Forward\").copy()\n",
    "\n",
    "df_gk.sort_values(['value'],inplace =True)\n",
    "df_df.sort_values(['value'],inplace =True)\n",
    "df_mfd.sort_values(['value'],inplace =True)\n",
    "df_fwd.sort_values(['value'],inplace =True)\n",
    "\n",
    "\n",
    "fig_ovr_val = px.scatter(slim_elements_df, x=\"now_cost\", y=\"total_points\", hover_data=['second_name'])\n",
    "\n",
    "\n",
    "fig_gk = px.bar(df_gk, x = 'second_name', y = 'value',hover_data = ['team'])\n",
    "fig_df = px.bar(df_df, x = 'second_name', y = 'value',hover_data = ['team'])\n",
    "fig_mfd = px.bar(df_mfd, x = 'second_name', y = 'value',hover_data = ['team'])\n",
    "fig_fwd = px.bar(df_fwd, x = 'second_name', y = 'value',hover_data = ['team'])\n",
    "\n",
    "fig_gk_tp = px.scatter(df_gk, x=\"second_name\", y=\"total_points\", hover_data=['now_cost'])\n",
    "fig_df_tp = px.scatter(df_df, x=\"second_name\", y=\"total_points\", hover_data=['now_cost'])\n",
    "fig_mfd_tp = px.scatter(df_mfd, x=\"second_name\", y=\"total_points\", hover_data=['now_cost'])\n",
    "fig_fwd_tp = px.scatter(df_fwd, x=\"second_name\", y=\"total_points\", hover_data=['now_cost'])\n",
    "\n",
    "fig_gk.add_trace(fig_gk_tp.data[0])\n",
    "fig_df.add_trace(fig_df_tp.data[0])\n",
    "fig_mfd.add_trace(fig_mfd_tp.data[0])\n",
    "fig_fwd.add_trace(fig_fwd_tp.data[0])\n",
    "\n",
    "fig_ovr_val.show()\n",
    "\n",
    "fig_gk.show()\n",
    "fig_df.show()\n",
    "fig_mfd.show()\n",
    "fig_fwd.show()"
   ]
  },
  {
   "cell_type": "code",
   "execution_count": 252,
   "metadata": {},
   "outputs": [],
   "source": [
    "slim_elements_df_stars = slim_elements_df.copy()\n",
    "\n",
    "slim_elements_df_stars.sort_values(['total_points'],inplace = True, ascending = False)"
   ]
  },
  {
   "cell_type": "code",
   "execution_count": 253,
   "metadata": {},
   "outputs": [
    {
     "data": {
      "text/html": [
       "<div>\n",
       "<style scoped>\n",
       "    .dataframe tbody tr th:only-of-type {\n",
       "        vertical-align: middle;\n",
       "    }\n",
       "\n",
       "    .dataframe tbody tr th {\n",
       "        vertical-align: top;\n",
       "    }\n",
       "\n",
       "    .dataframe thead th {\n",
       "        text-align: right;\n",
       "    }\n",
       "</style>\n",
       "<table border=\"1\" class=\"dataframe\">\n",
       "  <thead>\n",
       "    <tr style=\"text-align: right;\">\n",
       "      <th></th>\n",
       "      <th>first_name</th>\n",
       "      <th>second_name</th>\n",
       "      <th>team</th>\n",
       "      <th>element_type</th>\n",
       "      <th>minutes</th>\n",
       "      <th>selected_by_percent</th>\n",
       "      <th>now_cost</th>\n",
       "      <th>minutes</th>\n",
       "      <th>transfers_in</th>\n",
       "      <th>transfers_out</th>\n",
       "      <th>...</th>\n",
       "      <th>points_per_game</th>\n",
       "      <th>threat</th>\n",
       "      <th>influence</th>\n",
       "      <th>creativity</th>\n",
       "      <th>news</th>\n",
       "      <th>position</th>\n",
       "      <th>value</th>\n",
       "      <th>unavailable</th>\n",
       "      <th>strength_overall_home</th>\n",
       "      <th>strength_overall_away</th>\n",
       "    </tr>\n",
       "  </thead>\n",
       "  <tbody>\n",
       "    <tr>\n",
       "      <th>418</th>\n",
       "      <td>Bruno Miguel</td>\n",
       "      <td>Borges Fernandes</td>\n",
       "      <td>Man Utd</td>\n",
       "      <td>3</td>\n",
       "      <td>2555</td>\n",
       "      <td>58.0</td>\n",
       "      <td>116</td>\n",
       "      <td>2555</td>\n",
       "      <td>5833564</td>\n",
       "      <td>2720043</td>\n",
       "      <td>...</td>\n",
       "      <td>7.1</td>\n",
       "      <td>993.0</td>\n",
       "      <td>1150.4</td>\n",
       "      <td>1255.2</td>\n",
       "      <td></td>\n",
       "      <td>Midfielder</td>\n",
       "      <td>18.4</td>\n",
       "      <td>False</td>\n",
       "      <td>1320</td>\n",
       "      <td>1250</td>\n",
       "    </tr>\n",
       "    <tr>\n",
       "      <th>551</th>\n",
       "      <td>Harry</td>\n",
       "      <td>Kane</td>\n",
       "      <td>Spurs</td>\n",
       "      <td>4</td>\n",
       "      <td>2453</td>\n",
       "      <td>48.5</td>\n",
       "      <td>117</td>\n",
       "      <td>2453</td>\n",
       "      <td>7242543</td>\n",
       "      <td>4893714</td>\n",
       "      <td>...</td>\n",
       "      <td>7.3</td>\n",
       "      <td>1250.0</td>\n",
       "      <td>1106.4</td>\n",
       "      <td>519.0</td>\n",
       "      <td></td>\n",
       "      <td>Forward</td>\n",
       "      <td>17.4</td>\n",
       "      <td>False</td>\n",
       "      <td>1250</td>\n",
       "      <td>1190</td>\n",
       "    </tr>\n",
       "    <tr>\n",
       "      <th>351</th>\n",
       "      <td>Mohamed</td>\n",
       "      <td>Salah</td>\n",
       "      <td>Liverpool</td>\n",
       "      <td>3</td>\n",
       "      <td>2432</td>\n",
       "      <td>30.5</td>\n",
       "      <td>124</td>\n",
       "      <td>2432</td>\n",
       "      <td>5281821</td>\n",
       "      <td>5544909</td>\n",
       "      <td>...</td>\n",
       "      <td>6.3</td>\n",
       "      <td>1408.0</td>\n",
       "      <td>838.0</td>\n",
       "      <td>614.8</td>\n",
       "      <td></td>\n",
       "      <td>Midfielder</td>\n",
       "      <td>14.7</td>\n",
       "      <td>False</td>\n",
       "      <td>1210</td>\n",
       "      <td>1250</td>\n",
       "    </tr>\n",
       "    <tr>\n",
       "      <th>553</th>\n",
       "      <td>Heung-Min</td>\n",
       "      <td>Son</td>\n",
       "      <td>Spurs</td>\n",
       "      <td>3</td>\n",
       "      <td>2399</td>\n",
       "      <td>42.2</td>\n",
       "      <td>94</td>\n",
       "      <td>2399</td>\n",
       "      <td>7533411</td>\n",
       "      <td>6663188</td>\n",
       "      <td>...</td>\n",
       "      <td>6.2</td>\n",
       "      <td>775.0</td>\n",
       "      <td>815.0</td>\n",
       "      <td>742.3</td>\n",
       "      <td></td>\n",
       "      <td>Midfielder</td>\n",
       "      <td>19.1</td>\n",
       "      <td>False</td>\n",
       "      <td>1250</td>\n",
       "      <td>1190</td>\n",
       "    </tr>\n",
       "    <tr>\n",
       "      <th>313</th>\n",
       "      <td>Patrick</td>\n",
       "      <td>Bamford</td>\n",
       "      <td>Leeds</td>\n",
       "      <td>4</td>\n",
       "      <td>2499</td>\n",
       "      <td>46.1</td>\n",
       "      <td>66</td>\n",
       "      <td>2499</td>\n",
       "      <td>7194011</td>\n",
       "      <td>4339000</td>\n",
       "      <td>...</td>\n",
       "      <td>5.3</td>\n",
       "      <td>1252.0</td>\n",
       "      <td>699.0</td>\n",
       "      <td>293.2</td>\n",
       "      <td></td>\n",
       "      <td>Forward</td>\n",
       "      <td>23.9</td>\n",
       "      <td>False</td>\n",
       "      <td>1170</td>\n",
       "      <td>1160</td>\n",
       "    </tr>\n",
       "  </tbody>\n",
       "</table>\n",
       "<p>5 rows × 24 columns</p>\n",
       "</div>"
      ],
      "text/plain": [
       "       first_name       second_name       team  element_type  minutes  \\\n",
       "418  Bruno Miguel  Borges Fernandes    Man Utd             3     2555   \n",
       "551         Harry              Kane      Spurs             4     2453   \n",
       "351       Mohamed             Salah  Liverpool             3     2432   \n",
       "553     Heung-Min               Son      Spurs             3     2399   \n",
       "313       Patrick           Bamford      Leeds             4     2499   \n",
       "\n",
       "    selected_by_percent  now_cost  minutes  transfers_in  transfers_out  ...  \\\n",
       "418                58.0       116     2555       5833564        2720043  ...   \n",
       "551                48.5       117     2453       7242543        4893714  ...   \n",
       "351                30.5       124     2432       5281821        5544909  ...   \n",
       "553                42.2        94     2399       7533411        6663188  ...   \n",
       "313                46.1        66     2499       7194011        4339000  ...   \n",
       "\n",
       "    points_per_game  threat influence  creativity news    position value  \\\n",
       "418             7.1   993.0    1150.4      1255.2       Midfielder  18.4   \n",
       "551             7.3  1250.0    1106.4       519.0          Forward  17.4   \n",
       "351             6.3  1408.0     838.0       614.8       Midfielder  14.7   \n",
       "553             6.2   775.0     815.0       742.3       Midfielder  19.1   \n",
       "313             5.3  1252.0     699.0       293.2          Forward  23.9   \n",
       "\n",
       "    unavailable strength_overall_home strength_overall_away  \n",
       "418       False                  1320                  1250  \n",
       "551       False                  1250                  1190  \n",
       "351       False                  1210                  1250  \n",
       "553       False                  1250                  1190  \n",
       "313       False                  1170                  1160  \n",
       "\n",
       "[5 rows x 24 columns]"
      ]
     },
     "execution_count": 253,
     "metadata": {},
     "output_type": "execute_result"
    }
   ],
   "source": [
    "slim_elements_df_stars.head(5)"
   ]
  },
  {
   "cell_type": "code",
   "execution_count": 254,
   "metadata": {},
   "outputs": [
    {
     "data": {
      "text/html": [
       "<div>\n",
       "<style scoped>\n",
       "    .dataframe tbody tr th:only-of-type {\n",
       "        vertical-align: middle;\n",
       "    }\n",
       "\n",
       "    .dataframe tbody tr th {\n",
       "        vertical-align: top;\n",
       "    }\n",
       "\n",
       "    .dataframe thead th {\n",
       "        text-align: right;\n",
       "    }\n",
       "</style>\n",
       "<table border=\"1\" class=\"dataframe\">\n",
       "  <thead>\n",
       "    <tr style=\"text-align: right;\">\n",
       "      <th></th>\n",
       "      <th>first_name</th>\n",
       "      <th>second_name</th>\n",
       "      <th>team</th>\n",
       "      <th>element_type</th>\n",
       "      <th>minutes</th>\n",
       "      <th>selected_by_percent</th>\n",
       "      <th>now_cost</th>\n",
       "      <th>minutes</th>\n",
       "      <th>transfers_in</th>\n",
       "      <th>transfers_out</th>\n",
       "      <th>...</th>\n",
       "      <th>points_per_game</th>\n",
       "      <th>threat</th>\n",
       "      <th>influence</th>\n",
       "      <th>creativity</th>\n",
       "      <th>news</th>\n",
       "      <th>position</th>\n",
       "      <th>value</th>\n",
       "      <th>unavailable</th>\n",
       "      <th>strength_overall_home</th>\n",
       "      <th>strength_overall_away</th>\n",
       "    </tr>\n",
       "  </thead>\n",
       "  <tbody>\n",
       "    <tr>\n",
       "      <th>33</th>\n",
       "      <td>Emiliano</td>\n",
       "      <td>Martínez</td>\n",
       "      <td>Aston Villa</td>\n",
       "      <td>1</td>\n",
       "      <td>2610</td>\n",
       "      <td>40.5</td>\n",
       "      <td>54</td>\n",
       "      <td>2610</td>\n",
       "      <td>3859323</td>\n",
       "      <td>1386101</td>\n",
       "      <td>...</td>\n",
       "      <td>5.4</td>\n",
       "      <td>0.0</td>\n",
       "      <td>784.0</td>\n",
       "      <td>20.0</td>\n",
       "      <td></td>\n",
       "      <td>Goalkeeper</td>\n",
       "      <td>29.1</td>\n",
       "      <td>False</td>\n",
       "      <td>1160</td>\n",
       "      <td>1100</td>\n",
       "    </tr>\n",
       "    <tr>\n",
       "      <th>324</th>\n",
       "      <td>Illan</td>\n",
       "      <td>Meslier</td>\n",
       "      <td>Leeds</td>\n",
       "      <td>1</td>\n",
       "      <td>2610</td>\n",
       "      <td>6.8</td>\n",
       "      <td>47</td>\n",
       "      <td>2610</td>\n",
       "      <td>979940</td>\n",
       "      <td>588709</td>\n",
       "      <td>...</td>\n",
       "      <td>4.4</td>\n",
       "      <td>0.0</td>\n",
       "      <td>852.4</td>\n",
       "      <td>10.0</td>\n",
       "      <td></td>\n",
       "      <td>Goalkeeper</td>\n",
       "      <td>27.0</td>\n",
       "      <td>False</td>\n",
       "      <td>1170</td>\n",
       "      <td>1160</td>\n",
       "    </tr>\n",
       "    <tr>\n",
       "      <th>311</th>\n",
       "      <td>Stuart</td>\n",
       "      <td>Dallas</td>\n",
       "      <td>Leeds</td>\n",
       "      <td>2</td>\n",
       "      <td>2690</td>\n",
       "      <td>23.6</td>\n",
       "      <td>51</td>\n",
       "      <td>2690</td>\n",
       "      <td>2972969</td>\n",
       "      <td>1457063</td>\n",
       "      <td>...</td>\n",
       "      <td>4.1</td>\n",
       "      <td>386.0</td>\n",
       "      <td>593.0</td>\n",
       "      <td>357.9</td>\n",
       "      <td></td>\n",
       "      <td>Defender</td>\n",
       "      <td>24.3</td>\n",
       "      <td>False</td>\n",
       "      <td>1170</td>\n",
       "      <td>1160</td>\n",
       "    </tr>\n",
       "    <tr>\n",
       "      <th>261</th>\n",
       "      <td>Alphonse</td>\n",
       "      <td>Areola</td>\n",
       "      <td>Fulham</td>\n",
       "      <td>1</td>\n",
       "      <td>2700</td>\n",
       "      <td>5.2</td>\n",
       "      <td>46</td>\n",
       "      <td>2700</td>\n",
       "      <td>573363</td>\n",
       "      <td>301915</td>\n",
       "      <td>...</td>\n",
       "      <td>3.7</td>\n",
       "      <td>0.0</td>\n",
       "      <td>723.0</td>\n",
       "      <td>0.0</td>\n",
       "      <td></td>\n",
       "      <td>Goalkeeper</td>\n",
       "      <td>24.1</td>\n",
       "      <td>False</td>\n",
       "      <td>1100</td>\n",
       "      <td>1090</td>\n",
       "    </tr>\n",
       "    <tr>\n",
       "      <th>313</th>\n",
       "      <td>Patrick</td>\n",
       "      <td>Bamford</td>\n",
       "      <td>Leeds</td>\n",
       "      <td>4</td>\n",
       "      <td>2499</td>\n",
       "      <td>46.1</td>\n",
       "      <td>66</td>\n",
       "      <td>2499</td>\n",
       "      <td>7194011</td>\n",
       "      <td>4339000</td>\n",
       "      <td>...</td>\n",
       "      <td>5.3</td>\n",
       "      <td>1252.0</td>\n",
       "      <td>699.0</td>\n",
       "      <td>293.2</td>\n",
       "      <td></td>\n",
       "      <td>Forward</td>\n",
       "      <td>23.9</td>\n",
       "      <td>False</td>\n",
       "      <td>1170</td>\n",
       "      <td>1160</td>\n",
       "    </tr>\n",
       "  </tbody>\n",
       "</table>\n",
       "<p>5 rows × 24 columns</p>\n",
       "</div>"
      ],
      "text/plain": [
       "    first_name second_name         team  element_type  minutes  \\\n",
       "33    Emiliano    Martínez  Aston Villa             1     2610   \n",
       "324      Illan     Meslier        Leeds             1     2610   \n",
       "311     Stuart      Dallas        Leeds             2     2690   \n",
       "261   Alphonse      Areola       Fulham             1     2700   \n",
       "313    Patrick     Bamford        Leeds             4     2499   \n",
       "\n",
       "    selected_by_percent  now_cost  minutes  transfers_in  transfers_out  ...  \\\n",
       "33                 40.5        54     2610       3859323        1386101  ...   \n",
       "324                 6.8        47     2610        979940         588709  ...   \n",
       "311                23.6        51     2690       2972969        1457063  ...   \n",
       "261                 5.2        46     2700        573363         301915  ...   \n",
       "313                46.1        66     2499       7194011        4339000  ...   \n",
       "\n",
       "    points_per_game  threat influence  creativity news    position value  \\\n",
       "33              5.4     0.0     784.0        20.0       Goalkeeper  29.1   \n",
       "324             4.4     0.0     852.4        10.0       Goalkeeper  27.0   \n",
       "311             4.1   386.0     593.0       357.9         Defender  24.3   \n",
       "261             3.7     0.0     723.0         0.0       Goalkeeper  24.1   \n",
       "313             5.3  1252.0     699.0       293.2          Forward  23.9   \n",
       "\n",
       "    unavailable strength_overall_home strength_overall_away  \n",
       "33        False                  1160                  1100  \n",
       "324       False                  1170                  1160  \n",
       "311       False                  1170                  1160  \n",
       "261       False                  1100                  1090  \n",
       "313       False                  1170                  1160  \n",
       "\n",
       "[5 rows x 24 columns]"
      ]
     },
     "execution_count": 254,
     "metadata": {},
     "output_type": "execute_result"
    }
   ],
   "source": [
    "slim_elements_df_roi = slim_elements_df.copy()\n",
    "\n",
    "slim_elements_df_roi.sort_values(['value'], inplace = True, ascending = False)\n",
    "\n",
    "slim_elements_df_roi.head()"
   ]
  },
  {
   "cell_type": "code",
   "execution_count": 255,
   "metadata": {},
   "outputs": [],
   "source": [
    "#Theoretical best team \n",
    "\n",
    "\n",
    "def team_selecter():\n",
    "    \n",
    "    budget = 1000\n",
    "\n",
    "    position_dict = {\"Goalkeeper\":2,\"Defender\":5,\"Midfielder\": 5, \"Forward\": 3}\n",
    "\n",
    "    team_dict = {'West Brom':3,'Sheffield Utd':3,'Burnley':3,'Southampton':3,\n",
    "             'Fulham':3,'Newcastle':3,'Brighton':3,'Crystal Palace':3,\n",
    "            'Leeds':3,'Wolves':3,'Aston Villa':3,'Arsenal':3,\n",
    "             'Spurs':3,'West Ham':3,'Leicester':3,'Everton':3,\n",
    "            'Liverpool':3,'Chelsea':3,'Man Utd':3,'Man City':3}\n",
    "\n",
    "    roi_team = [] #form an empty tuple for the team\n",
    "    \n",
    "    total_points = 0\n",
    "    \n",
    "    top_performer_limit = 3\n",
    "    \n",
    "    # Choosing 3 top performers from the \"top players\"-dataframe\n",
    "    for idx, row in slim_elements_df_stars.iterrows():\n",
    "        if budget >= row.now_cost and len(roi_team) < top_performer_limit and row.unavailable == False and position_dict[row.position] != 0 and team_dict[row.team] != 0:\n",
    "            roi_team.append(row.second_name)\n",
    "            budget -= row.now_cost #Deducting cost from budget\n",
    "            position_dict[row.position] -= 1 # Deducting position from position dictionary\n",
    "            team_dict[row.team] -= 1 # Deducting player from team dictionary\n",
    "            total_points += row.total_points # adding to point score\n",
    "            print(\"Player choosen from 'top players' \" + str(row.second_name))\n",
    "            \n",
    "                   \n",
    "        else:\n",
    "            for idx, row in slim_elements_df_roi.iterrows():\n",
    "                if row.second_name not in roi_team and budget >= row.now_cost and row.unavailable == False and position_dict[row.position] != 0 and team_dict[row.team] != 0:\n",
    "                    roi_team.append(row.second_name)\n",
    "                    budget -= row.now_cost\n",
    "                    position_dict[row.position] -= 1 # Deducting position from position dictionary\n",
    "                    team_dict[row.team] -= 1 # Deducting player from team dictionary\n",
    "                    total_points += row.total_points # adding to point score\n",
    "    \n",
    "                   \n",
    "    print(\"\\nTeam chosen: \" + str(roi_team))\n",
    "    print(\"Remaining budget: \" + str((budget/10)) + \"M.\")\n",
    "    print(\"Total points from choosen team: \" + str(total_points) + \".\")\n",
    "    print(position_dict)"
   ]
  },
  {
   "cell_type": "code",
   "execution_count": 271,
   "metadata": {},
   "outputs": [
    {
     "data": {
      "text/html": [
       "<div>\n",
       "<style scoped>\n",
       "    .dataframe tbody tr th:only-of-type {\n",
       "        vertical-align: middle;\n",
       "    }\n",
       "\n",
       "    .dataframe tbody tr th {\n",
       "        vertical-align: top;\n",
       "    }\n",
       "\n",
       "    .dataframe thead th {\n",
       "        text-align: right;\n",
       "    }\n",
       "</style>\n",
       "<table border=\"1\" class=\"dataframe\">\n",
       "  <thead>\n",
       "    <tr style=\"text-align: right;\">\n",
       "      <th></th>\n",
       "      <th>Round Number</th>\n",
       "      <th>Date</th>\n",
       "      <th>Location</th>\n",
       "      <th>Home Team</th>\n",
       "      <th>Away Team</th>\n",
       "      <th>Result</th>\n",
       "    </tr>\n",
       "  </thead>\n",
       "  <tbody>\n",
       "    <tr>\n",
       "      <th>301</th>\n",
       "      <td>31</td>\n",
       "      <td>09/04/2021 20:00</td>\n",
       "      <td>Craven Cottage</td>\n",
       "      <td>Fulham</td>\n",
       "      <td>Wolves</td>\n",
       "      <td>NaN</td>\n",
       "    </tr>\n",
       "    <tr>\n",
       "      <th>302</th>\n",
       "      <td>31</td>\n",
       "      <td>10/04/2021 12:30</td>\n",
       "      <td>Etihad Stadium</td>\n",
       "      <td>Man City</td>\n",
       "      <td>Leeds</td>\n",
       "      <td>NaN</td>\n",
       "    </tr>\n",
       "    <tr>\n",
       "      <th>303</th>\n",
       "      <td>31</td>\n",
       "      <td>10/04/2021 15:00</td>\n",
       "      <td>Anfield</td>\n",
       "      <td>Liverpool</td>\n",
       "      <td>Aston Villa</td>\n",
       "      <td>NaN</td>\n",
       "    </tr>\n",
       "    <tr>\n",
       "      <th>304</th>\n",
       "      <td>31</td>\n",
       "      <td>10/04/2021 17:30</td>\n",
       "      <td>Selhurst Park</td>\n",
       "      <td>Crystal Palace</td>\n",
       "      <td>Chelsea</td>\n",
       "      <td>NaN</td>\n",
       "    </tr>\n",
       "    <tr>\n",
       "      <th>305</th>\n",
       "      <td>31</td>\n",
       "      <td>11/04/2021 12:00</td>\n",
       "      <td>Turf Moor</td>\n",
       "      <td>Burnley</td>\n",
       "      <td>Newcastle</td>\n",
       "      <td>NaN</td>\n",
       "    </tr>\n",
       "  </tbody>\n",
       "</table>\n",
       "</div>"
      ],
      "text/plain": [
       "     Round Number              Date        Location       Home Team  \\\n",
       "301            31  09/04/2021 20:00  Craven Cottage          Fulham   \n",
       "302            31  10/04/2021 12:30  Etihad Stadium        Man City   \n",
       "303            31  10/04/2021 15:00         Anfield       Liverpool   \n",
       "304            31  10/04/2021 17:30   Selhurst Park  Crystal Palace   \n",
       "305            31  11/04/2021 12:00       Turf Moor         Burnley   \n",
       "\n",
       "       Away Team Result  \n",
       "301       Wolves    NaN  \n",
       "302        Leeds    NaN  \n",
       "303  Aston Villa    NaN  \n",
       "304      Chelsea    NaN  \n",
       "305    Newcastle    NaN  "
      ]
     },
     "execution_count": 271,
     "metadata": {},
     "output_type": "execute_result"
    }
   ],
   "source": [
    "filename = \"epl-2020-GMTStandardTime.csv\"\n",
    "\n",
    "fixtures = pd.read_csv(\"/Users/jamesdawson/Desktop/Data analysis /Python/\" + filename) \n",
    "\n",
    "fixtures_filtered = fixtures.loc[fixtures['Round Number'] == 31].copy()\n",
    "\n",
    "fixtures_filtered.head()\n"
   ]
  },
  {
   "cell_type": "code",
   "execution_count": 279,
   "metadata": {},
   "outputs": [
    {
     "data": {
      "text/html": [
       "<div>\n",
       "<style scoped>\n",
       "    .dataframe tbody tr th:only-of-type {\n",
       "        vertical-align: middle;\n",
       "    }\n",
       "\n",
       "    .dataframe tbody tr th {\n",
       "        vertical-align: top;\n",
       "    }\n",
       "\n",
       "    .dataframe thead th {\n",
       "        text-align: right;\n",
       "    }\n",
       "</style>\n",
       "<table border=\"1\" class=\"dataframe\">\n",
       "  <thead>\n",
       "    <tr style=\"text-align: right;\">\n",
       "      <th></th>\n",
       "      <th>Round Number</th>\n",
       "      <th>Date</th>\n",
       "      <th>Location</th>\n",
       "      <th>Home Team</th>\n",
       "      <th>Away Team</th>\n",
       "      <th>Result</th>\n",
       "    </tr>\n",
       "  </thead>\n",
       "  <tbody>\n",
       "    <tr>\n",
       "      <th>0</th>\n",
       "      <td>31</td>\n",
       "      <td>09/04/2021 20:00</td>\n",
       "      <td>Craven Cottage</td>\n",
       "      <td>Fulham</td>\n",
       "      <td>Wolves</td>\n",
       "      <td>NaN</td>\n",
       "    </tr>\n",
       "    <tr>\n",
       "      <th>1</th>\n",
       "      <td>31</td>\n",
       "      <td>10/04/2021 12:30</td>\n",
       "      <td>Etihad Stadium</td>\n",
       "      <td>Man City</td>\n",
       "      <td>Leeds</td>\n",
       "      <td>NaN</td>\n",
       "    </tr>\n",
       "    <tr>\n",
       "      <th>2</th>\n",
       "      <td>31</td>\n",
       "      <td>10/04/2021 15:00</td>\n",
       "      <td>Anfield</td>\n",
       "      <td>Liverpool</td>\n",
       "      <td>Aston Villa</td>\n",
       "      <td>NaN</td>\n",
       "    </tr>\n",
       "    <tr>\n",
       "      <th>3</th>\n",
       "      <td>31</td>\n",
       "      <td>10/04/2021 17:30</td>\n",
       "      <td>Selhurst Park</td>\n",
       "      <td>Crystal Palace</td>\n",
       "      <td>Chelsea</td>\n",
       "      <td>NaN</td>\n",
       "    </tr>\n",
       "    <tr>\n",
       "      <th>4</th>\n",
       "      <td>31</td>\n",
       "      <td>11/04/2021 12:00</td>\n",
       "      <td>Turf Moor</td>\n",
       "      <td>Burnley</td>\n",
       "      <td>Newcastle</td>\n",
       "      <td>NaN</td>\n",
       "    </tr>\n",
       "    <tr>\n",
       "      <th>5</th>\n",
       "      <td>31</td>\n",
       "      <td>11/04/2021 14:05</td>\n",
       "      <td>London Stadium</td>\n",
       "      <td>West Ham</td>\n",
       "      <td>Leicester</td>\n",
       "      <td>NaN</td>\n",
       "    </tr>\n",
       "    <tr>\n",
       "      <th>6</th>\n",
       "      <td>31</td>\n",
       "      <td>11/04/2021 16:30</td>\n",
       "      <td>Tottenham Hotspur Stadium</td>\n",
       "      <td>Spurs</td>\n",
       "      <td>Man Utd</td>\n",
       "      <td>NaN</td>\n",
       "    </tr>\n",
       "    <tr>\n",
       "      <th>7</th>\n",
       "      <td>31</td>\n",
       "      <td>11/04/2021 19:00</td>\n",
       "      <td>Bramall Lane</td>\n",
       "      <td>Sheffield Utd</td>\n",
       "      <td>Arsenal</td>\n",
       "      <td>NaN</td>\n",
       "    </tr>\n",
       "    <tr>\n",
       "      <th>8</th>\n",
       "      <td>31</td>\n",
       "      <td>12/04/2021 18:00</td>\n",
       "      <td>The Hawthorns</td>\n",
       "      <td>West Brom</td>\n",
       "      <td>Southampton</td>\n",
       "      <td>NaN</td>\n",
       "    </tr>\n",
       "    <tr>\n",
       "      <th>9</th>\n",
       "      <td>31</td>\n",
       "      <td>12/04/2021 20:15</td>\n",
       "      <td>Amex Stadium</td>\n",
       "      <td>Brighton</td>\n",
       "      <td>Everton</td>\n",
       "      <td>NaN</td>\n",
       "    </tr>\n",
       "    <tr>\n",
       "      <th>10</th>\n",
       "      <td>31</td>\n",
       "      <td>09/04/2021 20:00</td>\n",
       "      <td>Craven Cottage</td>\n",
       "      <td>Wolves</td>\n",
       "      <td>Fulham</td>\n",
       "      <td>NaN</td>\n",
       "    </tr>\n",
       "    <tr>\n",
       "      <th>11</th>\n",
       "      <td>31</td>\n",
       "      <td>10/04/2021 12:30</td>\n",
       "      <td>Etihad Stadium</td>\n",
       "      <td>Leeds</td>\n",
       "      <td>Man City</td>\n",
       "      <td>NaN</td>\n",
       "    </tr>\n",
       "    <tr>\n",
       "      <th>12</th>\n",
       "      <td>31</td>\n",
       "      <td>10/04/2021 15:00</td>\n",
       "      <td>Anfield</td>\n",
       "      <td>Aston Villa</td>\n",
       "      <td>Liverpool</td>\n",
       "      <td>NaN</td>\n",
       "    </tr>\n",
       "    <tr>\n",
       "      <th>13</th>\n",
       "      <td>31</td>\n",
       "      <td>10/04/2021 17:30</td>\n",
       "      <td>Selhurst Park</td>\n",
       "      <td>Chelsea</td>\n",
       "      <td>Crystal Palace</td>\n",
       "      <td>NaN</td>\n",
       "    </tr>\n",
       "    <tr>\n",
       "      <th>14</th>\n",
       "      <td>31</td>\n",
       "      <td>11/04/2021 12:00</td>\n",
       "      <td>Turf Moor</td>\n",
       "      <td>Newcastle</td>\n",
       "      <td>Burnley</td>\n",
       "      <td>NaN</td>\n",
       "    </tr>\n",
       "    <tr>\n",
       "      <th>15</th>\n",
       "      <td>31</td>\n",
       "      <td>11/04/2021 14:05</td>\n",
       "      <td>London Stadium</td>\n",
       "      <td>Leicester</td>\n",
       "      <td>West Ham</td>\n",
       "      <td>NaN</td>\n",
       "    </tr>\n",
       "    <tr>\n",
       "      <th>16</th>\n",
       "      <td>31</td>\n",
       "      <td>11/04/2021 16:30</td>\n",
       "      <td>Tottenham Hotspur Stadium</td>\n",
       "      <td>Man Utd</td>\n",
       "      <td>Spurs</td>\n",
       "      <td>NaN</td>\n",
       "    </tr>\n",
       "    <tr>\n",
       "      <th>17</th>\n",
       "      <td>31</td>\n",
       "      <td>11/04/2021 19:00</td>\n",
       "      <td>Bramall Lane</td>\n",
       "      <td>Arsenal</td>\n",
       "      <td>Sheffield Utd</td>\n",
       "      <td>NaN</td>\n",
       "    </tr>\n",
       "    <tr>\n",
       "      <th>18</th>\n",
       "      <td>31</td>\n",
       "      <td>12/04/2021 18:00</td>\n",
       "      <td>The Hawthorns</td>\n",
       "      <td>Southampton</td>\n",
       "      <td>West Brom</td>\n",
       "      <td>NaN</td>\n",
       "    </tr>\n",
       "    <tr>\n",
       "      <th>19</th>\n",
       "      <td>31</td>\n",
       "      <td>12/04/2021 20:15</td>\n",
       "      <td>Amex Stadium</td>\n",
       "      <td>Everton</td>\n",
       "      <td>Brighton</td>\n",
       "      <td>NaN</td>\n",
       "    </tr>\n",
       "  </tbody>\n",
       "</table>\n",
       "</div>"
      ],
      "text/plain": [
       "    Round Number              Date                   Location       Home Team  \\\n",
       "0             31  09/04/2021 20:00             Craven Cottage          Fulham   \n",
       "1             31  10/04/2021 12:30             Etihad Stadium        Man City   \n",
       "2             31  10/04/2021 15:00                    Anfield       Liverpool   \n",
       "3             31  10/04/2021 17:30              Selhurst Park  Crystal Palace   \n",
       "4             31  11/04/2021 12:00                  Turf Moor         Burnley   \n",
       "5             31  11/04/2021 14:05             London Stadium        West Ham   \n",
       "6             31  11/04/2021 16:30  Tottenham Hotspur Stadium           Spurs   \n",
       "7             31  11/04/2021 19:00               Bramall Lane   Sheffield Utd   \n",
       "8             31  12/04/2021 18:00              The Hawthorns       West Brom   \n",
       "9             31  12/04/2021 20:15               Amex Stadium        Brighton   \n",
       "10            31  09/04/2021 20:00             Craven Cottage          Wolves   \n",
       "11            31  10/04/2021 12:30             Etihad Stadium           Leeds   \n",
       "12            31  10/04/2021 15:00                    Anfield     Aston Villa   \n",
       "13            31  10/04/2021 17:30              Selhurst Park         Chelsea   \n",
       "14            31  11/04/2021 12:00                  Turf Moor       Newcastle   \n",
       "15            31  11/04/2021 14:05             London Stadium       Leicester   \n",
       "16            31  11/04/2021 16:30  Tottenham Hotspur Stadium         Man Utd   \n",
       "17            31  11/04/2021 19:00               Bramall Lane         Arsenal   \n",
       "18            31  12/04/2021 18:00              The Hawthorns     Southampton   \n",
       "19            31  12/04/2021 20:15               Amex Stadium         Everton   \n",
       "\n",
       "         Away Team Result  \n",
       "0           Wolves    NaN  \n",
       "1            Leeds    NaN  \n",
       "2      Aston Villa    NaN  \n",
       "3          Chelsea    NaN  \n",
       "4        Newcastle    NaN  \n",
       "5        Leicester    NaN  \n",
       "6          Man Utd    NaN  \n",
       "7          Arsenal    NaN  \n",
       "8      Southampton    NaN  \n",
       "9          Everton    NaN  \n",
       "10          Fulham    NaN  \n",
       "11        Man City    NaN  \n",
       "12       Liverpool    NaN  \n",
       "13  Crystal Palace    NaN  \n",
       "14         Burnley    NaN  \n",
       "15        West Ham    NaN  \n",
       "16           Spurs    NaN  \n",
       "17   Sheffield Utd    NaN  \n",
       "18       West Brom    NaN  \n",
       "19        Brighton    NaN  "
      ]
     },
     "execution_count": 279,
     "metadata": {},
     "output_type": "execute_result"
    }
   ],
   "source": [
    "fixtures_flipped = fixtures.copy()\n",
    "\n",
    "fixtures_flipped.rename(columns={'Home Team': 'Away Team', 'Away Team': 'Home Team'}, inplace=True)\n",
    "\n",
    "fixtures_flipped_filtered = fixtures_flipped.loc[fixtures_flipped['Round Number'] == 31].copy()\n",
    "\n",
    "\n",
    "fixtures_flipped_filtered.head()\n",
    "\n",
    "\n",
    "combined_fixtures = fixtures_filtered.append(fixtures_flipped_filtered, ignore_index=True)\n",
    "\n",
    "combined_fixtures.head(20)"
   ]
  },
  {
   "cell_type": "code",
   "execution_count": 281,
   "metadata": {},
   "outputs": [
    {
     "data": {
      "text/html": [
       "<div>\n",
       "<style scoped>\n",
       "    .dataframe tbody tr th:only-of-type {\n",
       "        vertical-align: middle;\n",
       "    }\n",
       "\n",
       "    .dataframe tbody tr th {\n",
       "        vertical-align: top;\n",
       "    }\n",
       "\n",
       "    .dataframe thead th {\n",
       "        text-align: right;\n",
       "    }\n",
       "</style>\n",
       "<table border=\"1\" class=\"dataframe\">\n",
       "  <thead>\n",
       "    <tr style=\"text-align: right;\">\n",
       "      <th></th>\n",
       "      <th>first_name</th>\n",
       "      <th>second_name</th>\n",
       "      <th>team</th>\n",
       "      <th>element_type</th>\n",
       "      <th>minutes</th>\n",
       "      <th>selected_by_percent</th>\n",
       "      <th>now_cost</th>\n",
       "      <th>minutes</th>\n",
       "      <th>transfers_in</th>\n",
       "      <th>transfers_out</th>\n",
       "      <th>...</th>\n",
       "      <th>threat</th>\n",
       "      <th>influence</th>\n",
       "      <th>creativity</th>\n",
       "      <th>news</th>\n",
       "      <th>position</th>\n",
       "      <th>value</th>\n",
       "      <th>unavailable</th>\n",
       "      <th>strength_overall_home</th>\n",
       "      <th>strength_overall_away</th>\n",
       "      <th>opponent</th>\n",
       "    </tr>\n",
       "  </thead>\n",
       "  <tbody>\n",
       "    <tr>\n",
       "      <th>0</th>\n",
       "      <td>Mesut</td>\n",
       "      <td>Özil</td>\n",
       "      <td>Arsenal</td>\n",
       "      <td>3</td>\n",
       "      <td>0</td>\n",
       "      <td>0.5</td>\n",
       "      <td>67</td>\n",
       "      <td>0</td>\n",
       "      <td>3441</td>\n",
       "      <td>54723</td>\n",
       "      <td>...</td>\n",
       "      <td>0.0</td>\n",
       "      <td>0.0</td>\n",
       "      <td>0.0</td>\n",
       "      <td>Not included in Arsenal's 25-man Premier Leagu...</td>\n",
       "      <td>Midfielder</td>\n",
       "      <td>0.0</td>\n",
       "      <td>True</td>\n",
       "      <td>1250</td>\n",
       "      <td>1200</td>\n",
       "      <td>Sheffield Utd</td>\n",
       "    </tr>\n",
       "    <tr>\n",
       "      <th>1</th>\n",
       "      <td>Sokratis</td>\n",
       "      <td>Papastathopoulos</td>\n",
       "      <td>Arsenal</td>\n",
       "      <td>2</td>\n",
       "      <td>0</td>\n",
       "      <td>0.1</td>\n",
       "      <td>48</td>\n",
       "      <td>0</td>\n",
       "      <td>10266</td>\n",
       "      <td>19117</td>\n",
       "      <td>...</td>\n",
       "      <td>0.0</td>\n",
       "      <td>0.0</td>\n",
       "      <td>0.0</td>\n",
       "      <td>Left the club by mutual consent on 20/1</td>\n",
       "      <td>Defender</td>\n",
       "      <td>0.0</td>\n",
       "      <td>True</td>\n",
       "      <td>1250</td>\n",
       "      <td>1200</td>\n",
       "      <td>Sheffield Utd</td>\n",
       "    </tr>\n",
       "    <tr>\n",
       "      <th>2</th>\n",
       "      <td>David</td>\n",
       "      <td>Luiz Moreira Marinho</td>\n",
       "      <td>Arsenal</td>\n",
       "      <td>2</td>\n",
       "      <td>1344</td>\n",
       "      <td>0.8</td>\n",
       "      <td>54</td>\n",
       "      <td>1344</td>\n",
       "      <td>76497</td>\n",
       "      <td>123486</td>\n",
       "      <td>...</td>\n",
       "      <td>123.0</td>\n",
       "      <td>244.6</td>\n",
       "      <td>45.2</td>\n",
       "      <td>Knee injury - Unknown return date</td>\n",
       "      <td>Defender</td>\n",
       "      <td>7.4</td>\n",
       "      <td>True</td>\n",
       "      <td>1250</td>\n",
       "      <td>1200</td>\n",
       "      <td>Sheffield Utd</td>\n",
       "    </tr>\n",
       "    <tr>\n",
       "      <th>3</th>\n",
       "      <td>Pierre-Emerick</td>\n",
       "      <td>Aubameyang</td>\n",
       "      <td>Arsenal</td>\n",
       "      <td>3</td>\n",
       "      <td>2007</td>\n",
       "      <td>9.0</td>\n",
       "      <td>114</td>\n",
       "      <td>2007</td>\n",
       "      <td>1131009</td>\n",
       "      <td>3620784</td>\n",
       "      <td>...</td>\n",
       "      <td>731.0</td>\n",
       "      <td>428.2</td>\n",
       "      <td>292.4</td>\n",
       "      <td></td>\n",
       "      <td>Midfielder</td>\n",
       "      <td>9.5</td>\n",
       "      <td>False</td>\n",
       "      <td>1250</td>\n",
       "      <td>1200</td>\n",
       "      <td>Sheffield Utd</td>\n",
       "    </tr>\n",
       "    <tr>\n",
       "      <th>4</th>\n",
       "      <td>Cédric</td>\n",
       "      <td>Soares</td>\n",
       "      <td>Arsenal</td>\n",
       "      <td>2</td>\n",
       "      <td>744</td>\n",
       "      <td>0.3</td>\n",
       "      <td>46</td>\n",
       "      <td>744</td>\n",
       "      <td>35648</td>\n",
       "      <td>53674</td>\n",
       "      <td>...</td>\n",
       "      <td>66.0</td>\n",
       "      <td>110.8</td>\n",
       "      <td>114.8</td>\n",
       "      <td></td>\n",
       "      <td>Defender</td>\n",
       "      <td>6.1</td>\n",
       "      <td>False</td>\n",
       "      <td>1250</td>\n",
       "      <td>1200</td>\n",
       "      <td>Sheffield Utd</td>\n",
       "    </tr>\n",
       "  </tbody>\n",
       "</table>\n",
       "<p>5 rows × 25 columns</p>\n",
       "</div>"
      ],
      "text/plain": [
       "       first_name           second_name     team  element_type  minutes  \\\n",
       "0           Mesut                  Özil  Arsenal             3        0   \n",
       "1        Sokratis      Papastathopoulos  Arsenal             2        0   \n",
       "2           David  Luiz Moreira Marinho  Arsenal             2     1344   \n",
       "3  Pierre-Emerick            Aubameyang  Arsenal             3     2007   \n",
       "4          Cédric                Soares  Arsenal             2      744   \n",
       "\n",
       "  selected_by_percent  now_cost  minutes  transfers_in  transfers_out  ...  \\\n",
       "0                 0.5        67        0          3441          54723  ...   \n",
       "1                 0.1        48        0         10266          19117  ...   \n",
       "2                 0.8        54     1344         76497         123486  ...   \n",
       "3                 9.0       114     2007       1131009        3620784  ...   \n",
       "4                 0.3        46      744         35648          53674  ...   \n",
       "\n",
       "  threat influence creativity  \\\n",
       "0    0.0       0.0        0.0   \n",
       "1    0.0       0.0        0.0   \n",
       "2  123.0     244.6       45.2   \n",
       "3  731.0     428.2      292.4   \n",
       "4   66.0     110.8      114.8   \n",
       "\n",
       "                                                news    position value  \\\n",
       "0  Not included in Arsenal's 25-man Premier Leagu...  Midfielder   0.0   \n",
       "1            Left the club by mutual consent on 20/1    Defender   0.0   \n",
       "2                  Knee injury - Unknown return date    Defender   7.4   \n",
       "3                                                     Midfielder   9.5   \n",
       "4                                                       Defender   6.1   \n",
       "\n",
       "  unavailable strength_overall_home strength_overall_away       opponent  \n",
       "0        True                  1250                  1200  Sheffield Utd  \n",
       "1        True                  1250                  1200  Sheffield Utd  \n",
       "2        True                  1250                  1200  Sheffield Utd  \n",
       "3       False                  1250                  1200  Sheffield Utd  \n",
       "4       False                  1250                  1200  Sheffield Utd  \n",
       "\n",
       "[5 rows x 25 columns]"
      ]
     },
     "execution_count": 281,
     "metadata": {},
     "output_type": "execute_result"
    }
   ],
   "source": [
    "slim_elements_df['opponent'] = slim_elements_df.team.map(combined_fixtures.set_index('Home Team')['Away Team'].to_dict())\n",
    "\n",
    "slim_elements_df.head()"
   ]
  },
  {
   "cell_type": "code",
   "execution_count": 258,
   "metadata": {},
   "outputs": [],
   "source": [
    "#team_selecter()"
   ]
  }
 ],
 "metadata": {
  "kernelspec": {
   "display_name": "Python 3",
   "language": "python",
   "name": "python3"
  },
  "language_info": {
   "codemirror_mode": {
    "name": "ipython",
    "version": 3
   },
   "file_extension": ".py",
   "mimetype": "text/x-python",
   "name": "python",
   "nbconvert_exporter": "python",
   "pygments_lexer": "ipython3",
   "version": "3.8.5"
  }
 },
 "nbformat": 4,
 "nbformat_minor": 4
}
