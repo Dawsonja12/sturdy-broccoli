{
 "cells": [
  {
   "cell_type": "code",
   "execution_count": 392,
   "metadata": {},
   "outputs": [],
   "source": [
    "#Import the packages we will need \n",
    "#Requests to interact with the api, pandas for working with the data, numpy for data calcs\n",
    "\n",
    "import requests\n",
    "import pandas as pd\n",
    "import numpy as np\n",
    "import plotly.express as px\n",
    "import plotly.graph_objects as go\n",
    "from datetime import datetime\n",
    "import json"
   ]
  },
  {
   "cell_type": "code",
   "execution_count": 393,
   "metadata": {},
   "outputs": [
    {
     "data": {
      "text/plain": [
       "32.0"
      ]
     },
     "execution_count": 393,
     "metadata": {},
     "output_type": "execute_result"
    }
   ],
   "source": [
    "def get_recent_gameweek_id():\n",
    "    \"\"\"\n",
    "    Get's the most recent gameweek's ID.\n",
    "    \"\"\"\n",
    "\n",
    "    data = requests.get(url)\n",
    "    data = json.loads(data.content)\n",
    "\n",
    "    gameweeks = data['events']\n",
    "    \n",
    "    now = datetime.utcnow()\n",
    "    for gameweek in gameweeks:\n",
    "        next_deadline_date = datetime.strptime(gameweek['deadline_time'], '%Y-%m-%dT%H:%M:%SZ')\n",
    "        if next_deadline_date > now:\n",
    "            return gameweek['id'] \n",
    "\n",
    "\n",
    "if __name__ == '__main__':\n",
    "     GW = float(get_recent_gameweek_id())\n",
    "    \n",
    "GW\n",
    "    "
   ]
  },
  {
   "cell_type": "code",
   "execution_count": 394,
   "metadata": {},
   "outputs": [],
   "source": [
    "url = 'https://fantasy.premierleague.com/api/bootstrap-static/'\n",
    "\n",
    "r = requests.get(url)\n",
    "\n",
    "json = r.json()\n",
    "\n",
    "#This lets us examine the JSON objext so we know what to do with it\n"
   ]
  },
  {
   "cell_type": "code",
   "execution_count": 395,
   "metadata": {
    "scrolled": true
   },
   "outputs": [
    {
     "data": {
      "text/html": [
       "<div>\n",
       "<style scoped>\n",
       "    .dataframe tbody tr th:only-of-type {\n",
       "        vertical-align: middle;\n",
       "    }\n",
       "\n",
       "    .dataframe tbody tr th {\n",
       "        vertical-align: top;\n",
       "    }\n",
       "\n",
       "    .dataframe thead th {\n",
       "        text-align: right;\n",
       "    }\n",
       "</style>\n",
       "<table border=\"1\" class=\"dataframe\">\n",
       "  <thead>\n",
       "    <tr style=\"text-align: right;\">\n",
       "      <th></th>\n",
       "      <th>code</th>\n",
       "      <th>draw</th>\n",
       "      <th>form</th>\n",
       "      <th>id</th>\n",
       "      <th>loss</th>\n",
       "      <th>name</th>\n",
       "      <th>played</th>\n",
       "      <th>points</th>\n",
       "      <th>position</th>\n",
       "      <th>short_name</th>\n",
       "      <th>...</th>\n",
       "      <th>team_division</th>\n",
       "      <th>unavailable</th>\n",
       "      <th>win</th>\n",
       "      <th>strength_overall_away</th>\n",
       "      <th>strength_overall_home</th>\n",
       "      <th>strength_attack_home</th>\n",
       "      <th>strength_attack_away</th>\n",
       "      <th>strength_defence_home</th>\n",
       "      <th>strength_defence_away</th>\n",
       "      <th>pulse_id</th>\n",
       "    </tr>\n",
       "  </thead>\n",
       "  <tbody>\n",
       "    <tr>\n",
       "      <th>0</th>\n",
       "      <td>3</td>\n",
       "      <td>0</td>\n",
       "      <td>None</td>\n",
       "      <td>1</td>\n",
       "      <td>0</td>\n",
       "      <td>Arsenal</td>\n",
       "      <td>0</td>\n",
       "      <td>0</td>\n",
       "      <td>0</td>\n",
       "      <td>ARS</td>\n",
       "      <td>...</td>\n",
       "      <td>None</td>\n",
       "      <td>False</td>\n",
       "      <td>0</td>\n",
       "      <td>1200</td>\n",
       "      <td>1250</td>\n",
       "      <td>1130</td>\n",
       "      <td>1150</td>\n",
       "      <td>1220</td>\n",
       "      <td>1210</td>\n",
       "      <td>1</td>\n",
       "    </tr>\n",
       "    <tr>\n",
       "      <th>1</th>\n",
       "      <td>7</td>\n",
       "      <td>0</td>\n",
       "      <td>None</td>\n",
       "      <td>2</td>\n",
       "      <td>0</td>\n",
       "      <td>Aston Villa</td>\n",
       "      <td>0</td>\n",
       "      <td>0</td>\n",
       "      <td>0</td>\n",
       "      <td>AVL</td>\n",
       "      <td>...</td>\n",
       "      <td>None</td>\n",
       "      <td>False</td>\n",
       "      <td>0</td>\n",
       "      <td>1100</td>\n",
       "      <td>1160</td>\n",
       "      <td>1120</td>\n",
       "      <td>1140</td>\n",
       "      <td>1080</td>\n",
       "      <td>1100</td>\n",
       "      <td>2</td>\n",
       "    </tr>\n",
       "    <tr>\n",
       "      <th>2</th>\n",
       "      <td>36</td>\n",
       "      <td>0</td>\n",
       "      <td>None</td>\n",
       "      <td>3</td>\n",
       "      <td>0</td>\n",
       "      <td>Brighton</td>\n",
       "      <td>0</td>\n",
       "      <td>0</td>\n",
       "      <td>0</td>\n",
       "      <td>BHA</td>\n",
       "      <td>...</td>\n",
       "      <td>None</td>\n",
       "      <td>False</td>\n",
       "      <td>0</td>\n",
       "      <td>1130</td>\n",
       "      <td>1130</td>\n",
       "      <td>1150</td>\n",
       "      <td>1190</td>\n",
       "      <td>1100</td>\n",
       "      <td>1130</td>\n",
       "      <td>131</td>\n",
       "    </tr>\n",
       "    <tr>\n",
       "      <th>3</th>\n",
       "      <td>90</td>\n",
       "      <td>0</td>\n",
       "      <td>None</td>\n",
       "      <td>4</td>\n",
       "      <td>0</td>\n",
       "      <td>Burnley</td>\n",
       "      <td>0</td>\n",
       "      <td>0</td>\n",
       "      <td>0</td>\n",
       "      <td>BUR</td>\n",
       "      <td>...</td>\n",
       "      <td>None</td>\n",
       "      <td>False</td>\n",
       "      <td>0</td>\n",
       "      <td>1060</td>\n",
       "      <td>1070</td>\n",
       "      <td>1040</td>\n",
       "      <td>1090</td>\n",
       "      <td>1040</td>\n",
       "      <td>1080</td>\n",
       "      <td>43</td>\n",
       "    </tr>\n",
       "    <tr>\n",
       "      <th>4</th>\n",
       "      <td>8</td>\n",
       "      <td>0</td>\n",
       "      <td>None</td>\n",
       "      <td>5</td>\n",
       "      <td>0</td>\n",
       "      <td>Chelsea</td>\n",
       "      <td>0</td>\n",
       "      <td>0</td>\n",
       "      <td>0</td>\n",
       "      <td>CHE</td>\n",
       "      <td>...</td>\n",
       "      <td>None</td>\n",
       "      <td>False</td>\n",
       "      <td>0</td>\n",
       "      <td>1250</td>\n",
       "      <td>1280</td>\n",
       "      <td>1260</td>\n",
       "      <td>1300</td>\n",
       "      <td>1250</td>\n",
       "      <td>1310</td>\n",
       "      <td>4</td>\n",
       "    </tr>\n",
       "    <tr>\n",
       "      <th>5</th>\n",
       "      <td>31</td>\n",
       "      <td>0</td>\n",
       "      <td>None</td>\n",
       "      <td>6</td>\n",
       "      <td>0</td>\n",
       "      <td>Crystal Palace</td>\n",
       "      <td>0</td>\n",
       "      <td>0</td>\n",
       "      <td>0</td>\n",
       "      <td>CRY</td>\n",
       "      <td>...</td>\n",
       "      <td>None</td>\n",
       "      <td>False</td>\n",
       "      <td>0</td>\n",
       "      <td>1090</td>\n",
       "      <td>1110</td>\n",
       "      <td>1030</td>\n",
       "      <td>1120</td>\n",
       "      <td>1010</td>\n",
       "      <td>1020</td>\n",
       "      <td>6</td>\n",
       "    </tr>\n",
       "    <tr>\n",
       "      <th>6</th>\n",
       "      <td>11</td>\n",
       "      <td>0</td>\n",
       "      <td>None</td>\n",
       "      <td>7</td>\n",
       "      <td>0</td>\n",
       "      <td>Everton</td>\n",
       "      <td>0</td>\n",
       "      <td>0</td>\n",
       "      <td>0</td>\n",
       "      <td>EVE</td>\n",
       "      <td>...</td>\n",
       "      <td>None</td>\n",
       "      <td>False</td>\n",
       "      <td>0</td>\n",
       "      <td>1250</td>\n",
       "      <td>1130</td>\n",
       "      <td>1130</td>\n",
       "      <td>1100</td>\n",
       "      <td>1200</td>\n",
       "      <td>1140</td>\n",
       "      <td>7</td>\n",
       "    </tr>\n",
       "    <tr>\n",
       "      <th>7</th>\n",
       "      <td>54</td>\n",
       "      <td>0</td>\n",
       "      <td>None</td>\n",
       "      <td>8</td>\n",
       "      <td>0</td>\n",
       "      <td>Fulham</td>\n",
       "      <td>0</td>\n",
       "      <td>0</td>\n",
       "      <td>0</td>\n",
       "      <td>FUL</td>\n",
       "      <td>...</td>\n",
       "      <td>None</td>\n",
       "      <td>False</td>\n",
       "      <td>0</td>\n",
       "      <td>1090</td>\n",
       "      <td>1100</td>\n",
       "      <td>1150</td>\n",
       "      <td>1110</td>\n",
       "      <td>1040</td>\n",
       "      <td>1060</td>\n",
       "      <td>34</td>\n",
       "    </tr>\n",
       "    <tr>\n",
       "      <th>8</th>\n",
       "      <td>13</td>\n",
       "      <td>0</td>\n",
       "      <td>None</td>\n",
       "      <td>9</td>\n",
       "      <td>0</td>\n",
       "      <td>Leicester</td>\n",
       "      <td>0</td>\n",
       "      <td>0</td>\n",
       "      <td>0</td>\n",
       "      <td>LEI</td>\n",
       "      <td>...</td>\n",
       "      <td>None</td>\n",
       "      <td>False</td>\n",
       "      <td>0</td>\n",
       "      <td>1240</td>\n",
       "      <td>1260</td>\n",
       "      <td>1190</td>\n",
       "      <td>1150</td>\n",
       "      <td>1150</td>\n",
       "      <td>1230</td>\n",
       "      <td>26</td>\n",
       "    </tr>\n",
       "    <tr>\n",
       "      <th>9</th>\n",
       "      <td>2</td>\n",
       "      <td>0</td>\n",
       "      <td>None</td>\n",
       "      <td>10</td>\n",
       "      <td>0</td>\n",
       "      <td>Leeds</td>\n",
       "      <td>0</td>\n",
       "      <td>0</td>\n",
       "      <td>0</td>\n",
       "      <td>LEE</td>\n",
       "      <td>...</td>\n",
       "      <td>None</td>\n",
       "      <td>False</td>\n",
       "      <td>0</td>\n",
       "      <td>1160</td>\n",
       "      <td>1170</td>\n",
       "      <td>1060</td>\n",
       "      <td>1150</td>\n",
       "      <td>1210</td>\n",
       "      <td>1170</td>\n",
       "      <td>9</td>\n",
       "    </tr>\n",
       "    <tr>\n",
       "      <th>10</th>\n",
       "      <td>14</td>\n",
       "      <td>0</td>\n",
       "      <td>None</td>\n",
       "      <td>11</td>\n",
       "      <td>0</td>\n",
       "      <td>Liverpool</td>\n",
       "      <td>0</td>\n",
       "      <td>0</td>\n",
       "      <td>0</td>\n",
       "      <td>LIV</td>\n",
       "      <td>...</td>\n",
       "      <td>None</td>\n",
       "      <td>False</td>\n",
       "      <td>0</td>\n",
       "      <td>1250</td>\n",
       "      <td>1210</td>\n",
       "      <td>1190</td>\n",
       "      <td>1210</td>\n",
       "      <td>1300</td>\n",
       "      <td>1230</td>\n",
       "      <td>10</td>\n",
       "    </tr>\n",
       "    <tr>\n",
       "      <th>11</th>\n",
       "      <td>43</td>\n",
       "      <td>0</td>\n",
       "      <td>None</td>\n",
       "      <td>12</td>\n",
       "      <td>0</td>\n",
       "      <td>Man City</td>\n",
       "      <td>0</td>\n",
       "      <td>0</td>\n",
       "      <td>0</td>\n",
       "      <td>MCI</td>\n",
       "      <td>...</td>\n",
       "      <td>None</td>\n",
       "      <td>False</td>\n",
       "      <td>0</td>\n",
       "      <td>1340</td>\n",
       "      <td>1360</td>\n",
       "      <td>1280</td>\n",
       "      <td>1320</td>\n",
       "      <td>1340</td>\n",
       "      <td>1350</td>\n",
       "      <td>11</td>\n",
       "    </tr>\n",
       "    <tr>\n",
       "      <th>12</th>\n",
       "      <td>1</td>\n",
       "      <td>0</td>\n",
       "      <td>None</td>\n",
       "      <td>13</td>\n",
       "      <td>0</td>\n",
       "      <td>Man Utd</td>\n",
       "      <td>0</td>\n",
       "      <td>0</td>\n",
       "      <td>0</td>\n",
       "      <td>MUN</td>\n",
       "      <td>...</td>\n",
       "      <td>None</td>\n",
       "      <td>False</td>\n",
       "      <td>0</td>\n",
       "      <td>1250</td>\n",
       "      <td>1320</td>\n",
       "      <td>1250</td>\n",
       "      <td>1280</td>\n",
       "      <td>1240</td>\n",
       "      <td>1310</td>\n",
       "      <td>12</td>\n",
       "    </tr>\n",
       "    <tr>\n",
       "      <th>13</th>\n",
       "      <td>4</td>\n",
       "      <td>0</td>\n",
       "      <td>None</td>\n",
       "      <td>14</td>\n",
       "      <td>0</td>\n",
       "      <td>Newcastle</td>\n",
       "      <td>0</td>\n",
       "      <td>0</td>\n",
       "      <td>0</td>\n",
       "      <td>NEW</td>\n",
       "      <td>...</td>\n",
       "      <td>None</td>\n",
       "      <td>False</td>\n",
       "      <td>0</td>\n",
       "      <td>1050</td>\n",
       "      <td>1070</td>\n",
       "      <td>1050</td>\n",
       "      <td>1060</td>\n",
       "      <td>1030</td>\n",
       "      <td>1110</td>\n",
       "      <td>23</td>\n",
       "    </tr>\n",
       "    <tr>\n",
       "      <th>14</th>\n",
       "      <td>49</td>\n",
       "      <td>0</td>\n",
       "      <td>None</td>\n",
       "      <td>15</td>\n",
       "      <td>0</td>\n",
       "      <td>Sheffield Utd</td>\n",
       "      <td>0</td>\n",
       "      <td>0</td>\n",
       "      <td>0</td>\n",
       "      <td>SHU</td>\n",
       "      <td>...</td>\n",
       "      <td>None</td>\n",
       "      <td>False</td>\n",
       "      <td>0</td>\n",
       "      <td>1000</td>\n",
       "      <td>1040</td>\n",
       "      <td>1020</td>\n",
       "      <td>1070</td>\n",
       "      <td>1000</td>\n",
       "      <td>1010</td>\n",
       "      <td>18</td>\n",
       "    </tr>\n",
       "    <tr>\n",
       "      <th>15</th>\n",
       "      <td>20</td>\n",
       "      <td>0</td>\n",
       "      <td>None</td>\n",
       "      <td>16</td>\n",
       "      <td>0</td>\n",
       "      <td>Southampton</td>\n",
       "      <td>0</td>\n",
       "      <td>0</td>\n",
       "      <td>0</td>\n",
       "      <td>SOU</td>\n",
       "      <td>...</td>\n",
       "      <td>None</td>\n",
       "      <td>False</td>\n",
       "      <td>0</td>\n",
       "      <td>1060</td>\n",
       "      <td>1100</td>\n",
       "      <td>1030</td>\n",
       "      <td>1110</td>\n",
       "      <td>1110</td>\n",
       "      <td>1160</td>\n",
       "      <td>20</td>\n",
       "    </tr>\n",
       "    <tr>\n",
       "      <th>16</th>\n",
       "      <td>6</td>\n",
       "      <td>0</td>\n",
       "      <td>None</td>\n",
       "      <td>17</td>\n",
       "      <td>0</td>\n",
       "      <td>Spurs</td>\n",
       "      <td>0</td>\n",
       "      <td>0</td>\n",
       "      <td>0</td>\n",
       "      <td>TOT</td>\n",
       "      <td>...</td>\n",
       "      <td>None</td>\n",
       "      <td>False</td>\n",
       "      <td>0</td>\n",
       "      <td>1190</td>\n",
       "      <td>1250</td>\n",
       "      <td>1130</td>\n",
       "      <td>1170</td>\n",
       "      <td>1250</td>\n",
       "      <td>1290</td>\n",
       "      <td>21</td>\n",
       "    </tr>\n",
       "    <tr>\n",
       "      <th>17</th>\n",
       "      <td>35</td>\n",
       "      <td>0</td>\n",
       "      <td>None</td>\n",
       "      <td>18</td>\n",
       "      <td>0</td>\n",
       "      <td>West Brom</td>\n",
       "      <td>0</td>\n",
       "      <td>0</td>\n",
       "      <td>0</td>\n",
       "      <td>WBA</td>\n",
       "      <td>...</td>\n",
       "      <td>None</td>\n",
       "      <td>False</td>\n",
       "      <td>0</td>\n",
       "      <td>1050</td>\n",
       "      <td>1040</td>\n",
       "      <td>1040</td>\n",
       "      <td>1000</td>\n",
       "      <td>1050</td>\n",
       "      <td>1040</td>\n",
       "      <td>36</td>\n",
       "    </tr>\n",
       "    <tr>\n",
       "      <th>18</th>\n",
       "      <td>21</td>\n",
       "      <td>0</td>\n",
       "      <td>None</td>\n",
       "      <td>19</td>\n",
       "      <td>0</td>\n",
       "      <td>West Ham</td>\n",
       "      <td>0</td>\n",
       "      <td>0</td>\n",
       "      <td>0</td>\n",
       "      <td>WHU</td>\n",
       "      <td>...</td>\n",
       "      <td>None</td>\n",
       "      <td>False</td>\n",
       "      <td>0</td>\n",
       "      <td>1230</td>\n",
       "      <td>1260</td>\n",
       "      <td>1140</td>\n",
       "      <td>1190</td>\n",
       "      <td>1260</td>\n",
       "      <td>1290</td>\n",
       "      <td>25</td>\n",
       "    </tr>\n",
       "    <tr>\n",
       "      <th>19</th>\n",
       "      <td>39</td>\n",
       "      <td>0</td>\n",
       "      <td>None</td>\n",
       "      <td>20</td>\n",
       "      <td>0</td>\n",
       "      <td>Wolves</td>\n",
       "      <td>0</td>\n",
       "      <td>0</td>\n",
       "      <td>0</td>\n",
       "      <td>WOL</td>\n",
       "      <td>...</td>\n",
       "      <td>None</td>\n",
       "      <td>False</td>\n",
       "      <td>0</td>\n",
       "      <td>1080</td>\n",
       "      <td>1110</td>\n",
       "      <td>1120</td>\n",
       "      <td>1130</td>\n",
       "      <td>1040</td>\n",
       "      <td>1120</td>\n",
       "      <td>38</td>\n",
       "    </tr>\n",
       "  </tbody>\n",
       "</table>\n",
       "<p>20 rows × 21 columns</p>\n",
       "</div>"
      ],
      "text/plain": [
       "    code  draw  form  id  loss            name  played  points  position  \\\n",
       "0      3     0  None   1     0         Arsenal       0       0         0   \n",
       "1      7     0  None   2     0     Aston Villa       0       0         0   \n",
       "2     36     0  None   3     0        Brighton       0       0         0   \n",
       "3     90     0  None   4     0         Burnley       0       0         0   \n",
       "4      8     0  None   5     0         Chelsea       0       0         0   \n",
       "5     31     0  None   6     0  Crystal Palace       0       0         0   \n",
       "6     11     0  None   7     0         Everton       0       0         0   \n",
       "7     54     0  None   8     0          Fulham       0       0         0   \n",
       "8     13     0  None   9     0       Leicester       0       0         0   \n",
       "9      2     0  None  10     0           Leeds       0       0         0   \n",
       "10    14     0  None  11     0       Liverpool       0       0         0   \n",
       "11    43     0  None  12     0        Man City       0       0         0   \n",
       "12     1     0  None  13     0         Man Utd       0       0         0   \n",
       "13     4     0  None  14     0       Newcastle       0       0         0   \n",
       "14    49     0  None  15     0   Sheffield Utd       0       0         0   \n",
       "15    20     0  None  16     0     Southampton       0       0         0   \n",
       "16     6     0  None  17     0           Spurs       0       0         0   \n",
       "17    35     0  None  18     0       West Brom       0       0         0   \n",
       "18    21     0  None  19     0        West Ham       0       0         0   \n",
       "19    39     0  None  20     0          Wolves       0       0         0   \n",
       "\n",
       "   short_name  ...  team_division unavailable  win  strength_overall_away  \\\n",
       "0         ARS  ...           None       False    0                   1200   \n",
       "1         AVL  ...           None       False    0                   1100   \n",
       "2         BHA  ...           None       False    0                   1130   \n",
       "3         BUR  ...           None       False    0                   1060   \n",
       "4         CHE  ...           None       False    0                   1250   \n",
       "5         CRY  ...           None       False    0                   1090   \n",
       "6         EVE  ...           None       False    0                   1250   \n",
       "7         FUL  ...           None       False    0                   1090   \n",
       "8         LEI  ...           None       False    0                   1240   \n",
       "9         LEE  ...           None       False    0                   1160   \n",
       "10        LIV  ...           None       False    0                   1250   \n",
       "11        MCI  ...           None       False    0                   1340   \n",
       "12        MUN  ...           None       False    0                   1250   \n",
       "13        NEW  ...           None       False    0                   1050   \n",
       "14        SHU  ...           None       False    0                   1000   \n",
       "15        SOU  ...           None       False    0                   1060   \n",
       "16        TOT  ...           None       False    0                   1190   \n",
       "17        WBA  ...           None       False    0                   1050   \n",
       "18        WHU  ...           None       False    0                   1230   \n",
       "19        WOL  ...           None       False    0                   1080   \n",
       "\n",
       "    strength_overall_home  strength_attack_home  strength_attack_away  \\\n",
       "0                    1250                  1130                  1150   \n",
       "1                    1160                  1120                  1140   \n",
       "2                    1130                  1150                  1190   \n",
       "3                    1070                  1040                  1090   \n",
       "4                    1280                  1260                  1300   \n",
       "5                    1110                  1030                  1120   \n",
       "6                    1130                  1130                  1100   \n",
       "7                    1100                  1150                  1110   \n",
       "8                    1260                  1190                  1150   \n",
       "9                    1170                  1060                  1150   \n",
       "10                   1210                  1190                  1210   \n",
       "11                   1360                  1280                  1320   \n",
       "12                   1320                  1250                  1280   \n",
       "13                   1070                  1050                  1060   \n",
       "14                   1040                  1020                  1070   \n",
       "15                   1100                  1030                  1110   \n",
       "16                   1250                  1130                  1170   \n",
       "17                   1040                  1040                  1000   \n",
       "18                   1260                  1140                  1190   \n",
       "19                   1110                  1120                  1130   \n",
       "\n",
       "    strength_defence_home  strength_defence_away  pulse_id  \n",
       "0                    1220                   1210         1  \n",
       "1                    1080                   1100         2  \n",
       "2                    1100                   1130       131  \n",
       "3                    1040                   1080        43  \n",
       "4                    1250                   1310         4  \n",
       "5                    1010                   1020         6  \n",
       "6                    1200                   1140         7  \n",
       "7                    1040                   1060        34  \n",
       "8                    1150                   1230        26  \n",
       "9                    1210                   1170         9  \n",
       "10                   1300                   1230        10  \n",
       "11                   1340                   1350        11  \n",
       "12                   1240                   1310        12  \n",
       "13                   1030                   1110        23  \n",
       "14                   1000                   1010        18  \n",
       "15                   1110                   1160        20  \n",
       "16                   1250                   1290        21  \n",
       "17                   1050                   1040        36  \n",
       "18                   1260                   1290        25  \n",
       "19                   1040                   1120        38  \n",
       "\n",
       "[20 rows x 21 columns]"
      ]
     },
     "execution_count": 395,
     "metadata": {},
     "output_type": "execute_result"
    }
   ],
   "source": [
    "elements_df = pd.DataFrame(json['elements'])\n",
    "elements_types_df = pd.DataFrame(json['element_types'])\n",
    "elements_stats_df = pd.DataFrame(json['element_stats'])\n",
    "teams_df = pd.DataFrame(json['teams'])\n",
    "events_df = pd.DataFrame(json['events'])\n",
    "phases_df = pd.DataFrame(json['phases'])\n",
    "\n",
    "\n",
    "teams_df.rename(columns={'strength_overall_home': 'strength_overall_away', 'strength_overall_away': 'strength_overall_home'}, inplace=True)\n",
    "\n",
    "teams_df.head(20)"
   ]
  },
  {
   "cell_type": "code",
   "execution_count": 396,
   "metadata": {
    "scrolled": false
   },
   "outputs": [],
   "source": [
    "fig = go.Figure([go.Bar(name=\"home\", x=teams_df[\"name\"], y= teams_df[\"strength_overall_home\"],offsetgroup=0,),\n",
    "                 go.Bar(name =\"away\", x=teams_df[\"name\"], y= teams_df[\"strength_overall_away\"],offsetgroup=1,),],layout=go.Layout(\n",
    "        title=\"Overall strength\"))              \n",
    "\n",
    "fig2 = go.Figure([go.Bar(name=\"home\", x=teams_df[\"name\"], y= teams_df[\"strength_attack_home\"],offsetgroup=0,),\n",
    "                 go.Bar(name =\"away\", x=teams_df[\"name\"], y= teams_df[\"strength_attack_away\"],offsetgroup=1,),],layout=go.Layout(\n",
    "        title=\"Attacking strength\"))\n",
    "\n",
    "fig3 = go.Figure([go.Bar(name=\"home\", x=teams_df[\"name\"], y= teams_df[\"strength_defence_home\"],offsetgroup=0,),\n",
    "                 go.Bar(name =\"away\", x=teams_df[\"name\"], y= teams_df[\"strength_defence_away\"],offsetgroup=1,),],layout=go.Layout(\n",
    "        title=\"Defensive strength\"))\n",
    "\n",
    "#fig.show()\n",
    "\n",
    "#fig2.show()\n",
    "\n",
    "#fig3.show()"
   ]
  },
  {
   "cell_type": "code",
   "execution_count": 397,
   "metadata": {},
   "outputs": [],
   "source": [
    "\n",
    "slim_elements_df = elements_df[['first_name','second_name','team','element_type','minutes',\n",
    "                                'now_cost','minutes','value_season','value_form','form','total_points','points_per_game',\n",
    "                               'threat','influence','creativity','news']].copy()\n",
    "\n",
    "\n",
    "#slim_elements_df.head(5)"
   ]
  },
  {
   "cell_type": "code",
   "execution_count": 398,
   "metadata": {},
   "outputs": [],
   "source": [
    "slim_elements_df.loc[:,'position'] = slim_elements_df.element_type.map(elements_types_df.set_index('id').singular_name)\n",
    "#slim_elements_df.head()"
   ]
  },
  {
   "cell_type": "code",
   "execution_count": 399,
   "metadata": {},
   "outputs": [
    {
     "data": {
      "text/html": [
       "<div>\n",
       "<style scoped>\n",
       "    .dataframe tbody tr th:only-of-type {\n",
       "        vertical-align: middle;\n",
       "    }\n",
       "\n",
       "    .dataframe tbody tr th {\n",
       "        vertical-align: top;\n",
       "    }\n",
       "\n",
       "    .dataframe thead th {\n",
       "        text-align: right;\n",
       "    }\n",
       "</style>\n",
       "<table border=\"1\" class=\"dataframe\">\n",
       "  <thead>\n",
       "    <tr style=\"text-align: right;\">\n",
       "      <th></th>\n",
       "      <th>first_name</th>\n",
       "      <th>second_name</th>\n",
       "      <th>team</th>\n",
       "      <th>element_type</th>\n",
       "      <th>minutes</th>\n",
       "      <th>now_cost</th>\n",
       "      <th>minutes</th>\n",
       "      <th>value_season</th>\n",
       "      <th>value_form</th>\n",
       "      <th>form</th>\n",
       "      <th>total_points</th>\n",
       "      <th>points_per_game</th>\n",
       "      <th>threat</th>\n",
       "      <th>influence</th>\n",
       "      <th>creativity</th>\n",
       "      <th>news</th>\n",
       "      <th>position</th>\n",
       "      <th>value</th>\n",
       "    </tr>\n",
       "  </thead>\n",
       "  <tbody>\n",
       "    <tr>\n",
       "      <th>33</th>\n",
       "      <td>Emiliano</td>\n",
       "      <td>Martínez</td>\n",
       "      <td>Aston Villa</td>\n",
       "      <td>1</td>\n",
       "      <td>2610</td>\n",
       "      <td>54</td>\n",
       "      <td>2610</td>\n",
       "      <td>29.1</td>\n",
       "      <td>0.4</td>\n",
       "      <td>29.1</td>\n",
       "      <td>157.0</td>\n",
       "      <td>5.4</td>\n",
       "      <td>0.0</td>\n",
       "      <td>784.0</td>\n",
       "      <td>20.0</td>\n",
       "      <td></td>\n",
       "      <td>Goalkeeper</td>\n",
       "      <td>29.1</td>\n",
       "    </tr>\n",
       "    <tr>\n",
       "      <th>324</th>\n",
       "      <td>Illan</td>\n",
       "      <td>Meslier</td>\n",
       "      <td>Leeds</td>\n",
       "      <td>1</td>\n",
       "      <td>2610</td>\n",
       "      <td>47</td>\n",
       "      <td>2610</td>\n",
       "      <td>27.0</td>\n",
       "      <td>0.9</td>\n",
       "      <td>27.0</td>\n",
       "      <td>127.0</td>\n",
       "      <td>4.4</td>\n",
       "      <td>0.0</td>\n",
       "      <td>852.4</td>\n",
       "      <td>10.0</td>\n",
       "      <td></td>\n",
       "      <td>Goalkeeper</td>\n",
       "      <td>27.0</td>\n",
       "    </tr>\n",
       "    <tr>\n",
       "      <th>311</th>\n",
       "      <td>Stuart</td>\n",
       "      <td>Dallas</td>\n",
       "      <td>Leeds</td>\n",
       "      <td>2</td>\n",
       "      <td>2690</td>\n",
       "      <td>51</td>\n",
       "      <td>2690</td>\n",
       "      <td>24.3</td>\n",
       "      <td>0.5</td>\n",
       "      <td>24.3</td>\n",
       "      <td>124.0</td>\n",
       "      <td>4.1</td>\n",
       "      <td>386.0</td>\n",
       "      <td>593.0</td>\n",
       "      <td>357.9</td>\n",
       "      <td></td>\n",
       "      <td>Defender</td>\n",
       "      <td>24.3</td>\n",
       "    </tr>\n",
       "    <tr>\n",
       "      <th>261</th>\n",
       "      <td>Alphonse</td>\n",
       "      <td>Areola</td>\n",
       "      <td>Fulham</td>\n",
       "      <td>1</td>\n",
       "      <td>2730</td>\n",
       "      <td>46</td>\n",
       "      <td>2730</td>\n",
       "      <td>24.3</td>\n",
       "      <td>0.3</td>\n",
       "      <td>24.3</td>\n",
       "      <td>112.0</td>\n",
       "      <td>3.6</td>\n",
       "      <td>0.0</td>\n",
       "      <td>723.0</td>\n",
       "      <td>0.0</td>\n",
       "      <td></td>\n",
       "      <td>Goalkeeper</td>\n",
       "      <td>24.3</td>\n",
       "    </tr>\n",
       "    <tr>\n",
       "      <th>313</th>\n",
       "      <td>Patrick</td>\n",
       "      <td>Bamford</td>\n",
       "      <td>Leeds</td>\n",
       "      <td>4</td>\n",
       "      <td>2499</td>\n",
       "      <td>66</td>\n",
       "      <td>2499</td>\n",
       "      <td>23.9</td>\n",
       "      <td>0.5</td>\n",
       "      <td>23.9</td>\n",
       "      <td>158.0</td>\n",
       "      <td>5.3</td>\n",
       "      <td>1252.0</td>\n",
       "      <td>699.0</td>\n",
       "      <td>293.2</td>\n",
       "      <td></td>\n",
       "      <td>Forward</td>\n",
       "      <td>23.9</td>\n",
       "    </tr>\n",
       "    <tr>\n",
       "      <th>...</th>\n",
       "      <td>...</td>\n",
       "      <td>...</td>\n",
       "      <td>...</td>\n",
       "      <td>...</td>\n",
       "      <td>...</td>\n",
       "      <td>...</td>\n",
       "      <td>...</td>\n",
       "      <td>...</td>\n",
       "      <td>...</td>\n",
       "      <td>...</td>\n",
       "      <td>...</td>\n",
       "      <td>...</td>\n",
       "      <td>...</td>\n",
       "      <td>...</td>\n",
       "      <td>...</td>\n",
       "      <td>...</td>\n",
       "      <td>...</td>\n",
       "      <td>...</td>\n",
       "    </tr>\n",
       "    <tr>\n",
       "      <th>1</th>\n",
       "      <td>Sokratis</td>\n",
       "      <td>Papastathopoulos</td>\n",
       "      <td>Arsenal</td>\n",
       "      <td>2</td>\n",
       "      <td>0</td>\n",
       "      <td>48</td>\n",
       "      <td>0</td>\n",
       "      <td>0.0</td>\n",
       "      <td>0.0</td>\n",
       "      <td>0.0</td>\n",
       "      <td>0.0</td>\n",
       "      <td>0.0</td>\n",
       "      <td>0.0</td>\n",
       "      <td>0.0</td>\n",
       "      <td>0.0</td>\n",
       "      <td>Left the club by mutual consent on 20/1</td>\n",
       "      <td>Defender</td>\n",
       "      <td>0.0</td>\n",
       "    </tr>\n",
       "    <tr>\n",
       "      <th>337</th>\n",
       "      <td>Gaetano</td>\n",
       "      <td>Berardi</td>\n",
       "      <td>Leeds</td>\n",
       "      <td>2</td>\n",
       "      <td>0</td>\n",
       "      <td>40</td>\n",
       "      <td>0</td>\n",
       "      <td>0.0</td>\n",
       "      <td>0.0</td>\n",
       "      <td>0.0</td>\n",
       "      <td>0.0</td>\n",
       "      <td>0.0</td>\n",
       "      <td>0.0</td>\n",
       "      <td>0.0</td>\n",
       "      <td>0.0</td>\n",
       "      <td></td>\n",
       "      <td>Defender</td>\n",
       "      <td>0.0</td>\n",
       "    </tr>\n",
       "    <tr>\n",
       "      <th>37</th>\n",
       "      <td>Neil</td>\n",
       "      <td>Taylor</td>\n",
       "      <td>Aston Villa</td>\n",
       "      <td>2</td>\n",
       "      <td>15</td>\n",
       "      <td>42</td>\n",
       "      <td>15</td>\n",
       "      <td>-0.2</td>\n",
       "      <td>0.0</td>\n",
       "      <td>-0.2</td>\n",
       "      <td>-1.0</td>\n",
       "      <td>-1.0</td>\n",
       "      <td>0.0</td>\n",
       "      <td>0.8</td>\n",
       "      <td>0.7</td>\n",
       "      <td></td>\n",
       "      <td>Defender</td>\n",
       "      <td>-0.2</td>\n",
       "    </tr>\n",
       "    <tr>\n",
       "      <th>544</th>\n",
       "      <td>Alexandre</td>\n",
       "      <td>Jankewitz</td>\n",
       "      <td>Southampton</td>\n",
       "      <td>3</td>\n",
       "      <td>2</td>\n",
       "      <td>45</td>\n",
       "      <td>2</td>\n",
       "      <td>-0.2</td>\n",
       "      <td>0.0</td>\n",
       "      <td>-0.2</td>\n",
       "      <td>-1.0</td>\n",
       "      <td>-0.5</td>\n",
       "      <td>0.0</td>\n",
       "      <td>4.4</td>\n",
       "      <td>0.3</td>\n",
       "      <td></td>\n",
       "      <td>Midfielder</td>\n",
       "      <td>-0.2</td>\n",
       "    </tr>\n",
       "    <tr>\n",
       "      <th>538</th>\n",
       "      <td>Kayne</td>\n",
       "      <td>Ramsay</td>\n",
       "      <td>Southampton</td>\n",
       "      <td>2</td>\n",
       "      <td>90</td>\n",
       "      <td>40</td>\n",
       "      <td>90</td>\n",
       "      <td>-0.8</td>\n",
       "      <td>0.0</td>\n",
       "      <td>-0.8</td>\n",
       "      <td>-3.0</td>\n",
       "      <td>-3.0</td>\n",
       "      <td>0.0</td>\n",
       "      <td>13.2</td>\n",
       "      <td>0.0</td>\n",
       "      <td></td>\n",
       "      <td>Defender</td>\n",
       "      <td>-0.8</td>\n",
       "    </tr>\n",
       "  </tbody>\n",
       "</table>\n",
       "<p>687 rows × 18 columns</p>\n",
       "</div>"
      ],
      "text/plain": [
       "    first_name       second_name         team  element_type  minutes  \\\n",
       "33    Emiliano          Martínez  Aston Villa             1     2610   \n",
       "324      Illan           Meslier        Leeds             1     2610   \n",
       "311     Stuart            Dallas        Leeds             2     2690   \n",
       "261   Alphonse            Areola       Fulham             1     2730   \n",
       "313    Patrick           Bamford        Leeds             4     2499   \n",
       "..         ...               ...          ...           ...      ...   \n",
       "1     Sokratis  Papastathopoulos      Arsenal             2        0   \n",
       "337    Gaetano           Berardi        Leeds             2        0   \n",
       "37        Neil            Taylor  Aston Villa             2       15   \n",
       "544  Alexandre         Jankewitz  Southampton             3        2   \n",
       "538      Kayne            Ramsay  Southampton             2       90   \n",
       "\n",
       "     now_cost  minutes value_season value_form  form  total_points  \\\n",
       "33         54     2610         29.1        0.4  29.1         157.0   \n",
       "324        47     2610         27.0        0.9  27.0         127.0   \n",
       "311        51     2690         24.3        0.5  24.3         124.0   \n",
       "261        46     2730         24.3        0.3  24.3         112.0   \n",
       "313        66     2499         23.9        0.5  23.9         158.0   \n",
       "..        ...      ...          ...        ...   ...           ...   \n",
       "1          48        0          0.0        0.0   0.0           0.0   \n",
       "337        40        0          0.0        0.0   0.0           0.0   \n",
       "37         42       15         -0.2        0.0  -0.2          -1.0   \n",
       "544        45        2         -0.2        0.0  -0.2          -1.0   \n",
       "538        40       90         -0.8        0.0  -0.8          -3.0   \n",
       "\n",
       "    points_per_game  threat influence creativity  \\\n",
       "33              5.4     0.0     784.0       20.0   \n",
       "324             4.4     0.0     852.4       10.0   \n",
       "311             4.1   386.0     593.0      357.9   \n",
       "261             3.6     0.0     723.0        0.0   \n",
       "313             5.3  1252.0     699.0      293.2   \n",
       "..              ...     ...       ...        ...   \n",
       "1               0.0     0.0       0.0        0.0   \n",
       "337             0.0     0.0       0.0        0.0   \n",
       "37             -1.0     0.0       0.8        0.7   \n",
       "544            -0.5     0.0       4.4        0.3   \n",
       "538            -3.0     0.0      13.2        0.0   \n",
       "\n",
       "                                        news    position  value  \n",
       "33                                            Goalkeeper   29.1  \n",
       "324                                           Goalkeeper   27.0  \n",
       "311                                             Defender   24.3  \n",
       "261                                           Goalkeeper   24.3  \n",
       "313                                              Forward   23.9  \n",
       "..                                       ...         ...    ...  \n",
       "1    Left the club by mutual consent on 20/1    Defender    0.0  \n",
       "337                                             Defender    0.0  \n",
       "37                                              Defender   -0.2  \n",
       "544                                           Midfielder   -0.2  \n",
       "538                                             Defender   -0.8  \n",
       "\n",
       "[687 rows x 18 columns]"
      ]
     },
     "execution_count": 399,
     "metadata": {},
     "output_type": "execute_result"
    }
   ],
   "source": [
    "slim_elements_df['team'] = slim_elements_df.team.map(teams_df.set_index('id').name)\n",
    "\n",
    "slim_elements_df['value'] = slim_elements_df.value_season.astype(float)\n",
    "\n",
    "slim_elements_df['form'] = slim_elements_df.value_season.astype(float)\n",
    "\n",
    "#slim_elements_df['games'] = slim_elements_df.games.astype(float)\n",
    "\n",
    "slim_elements_df['total_points'] = slim_elements_df.total_points.astype(float)\n",
    "\n",
    "slim_elements_df.sort_values('value',ascending=False)"
   ]
  },
  {
   "cell_type": "code",
   "execution_count": 400,
   "metadata": {
    "scrolled": false
   },
   "outputs": [],
   "source": [
    "\n",
    "# Function for creating cell-values\n",
    "def unavailable(row):\n",
    "    if row['news'] != '':\n",
    "        return True\n",
    "    else:\n",
    "        return False\n",
    "    \n",
    "\n",
    "\n",
    "# Using function to create new column:\n",
    "slim_elements_df['unavailable'] = slim_elements_df.apply(lambda row: unavailable(row), axis=1)\n",
    "\n",
    "#slim_elements_df.head()"
   ]
  },
  {
   "cell_type": "code",
   "execution_count": 401,
   "metadata": {},
   "outputs": [
    {
     "data": {
      "text/html": [
       "<div>\n",
       "<style scoped>\n",
       "    .dataframe tbody tr th:only-of-type {\n",
       "        vertical-align: middle;\n",
       "    }\n",
       "\n",
       "    .dataframe tbody tr th {\n",
       "        vertical-align: top;\n",
       "    }\n",
       "\n",
       "    .dataframe thead th {\n",
       "        text-align: right;\n",
       "    }\n",
       "</style>\n",
       "<table border=\"1\" class=\"dataframe\">\n",
       "  <thead>\n",
       "    <tr style=\"text-align: right;\">\n",
       "      <th></th>\n",
       "      <th>first_name</th>\n",
       "      <th>second_name</th>\n",
       "      <th>team</th>\n",
       "      <th>element_type</th>\n",
       "      <th>minutes</th>\n",
       "      <th>now_cost</th>\n",
       "      <th>minutes</th>\n",
       "      <th>value_season</th>\n",
       "      <th>value_form</th>\n",
       "      <th>form</th>\n",
       "      <th>...</th>\n",
       "      <th>points_per_game</th>\n",
       "      <th>threat</th>\n",
       "      <th>influence</th>\n",
       "      <th>creativity</th>\n",
       "      <th>news</th>\n",
       "      <th>position</th>\n",
       "      <th>value</th>\n",
       "      <th>unavailable</th>\n",
       "      <th>strength_overall_home</th>\n",
       "      <th>strength_overall_away</th>\n",
       "    </tr>\n",
       "  </thead>\n",
       "  <tbody>\n",
       "    <tr>\n",
       "      <th>0</th>\n",
       "      <td>Mesut</td>\n",
       "      <td>Özil</td>\n",
       "      <td>Arsenal</td>\n",
       "      <td>3</td>\n",
       "      <td>0</td>\n",
       "      <td>67</td>\n",
       "      <td>0</td>\n",
       "      <td>0.0</td>\n",
       "      <td>0.0</td>\n",
       "      <td>0.0</td>\n",
       "      <td>...</td>\n",
       "      <td>0.0</td>\n",
       "      <td>0.0</td>\n",
       "      <td>0.0</td>\n",
       "      <td>0.0</td>\n",
       "      <td>Not included in Arsenal's 25-man Premier Leagu...</td>\n",
       "      <td>Midfielder</td>\n",
       "      <td>0.0</td>\n",
       "      <td>True</td>\n",
       "      <td>1250</td>\n",
       "      <td>1200</td>\n",
       "    </tr>\n",
       "    <tr>\n",
       "      <th>1</th>\n",
       "      <td>Sokratis</td>\n",
       "      <td>Papastathopoulos</td>\n",
       "      <td>Arsenal</td>\n",
       "      <td>2</td>\n",
       "      <td>0</td>\n",
       "      <td>48</td>\n",
       "      <td>0</td>\n",
       "      <td>0.0</td>\n",
       "      <td>0.0</td>\n",
       "      <td>0.0</td>\n",
       "      <td>...</td>\n",
       "      <td>0.0</td>\n",
       "      <td>0.0</td>\n",
       "      <td>0.0</td>\n",
       "      <td>0.0</td>\n",
       "      <td>Left the club by mutual consent on 20/1</td>\n",
       "      <td>Defender</td>\n",
       "      <td>0.0</td>\n",
       "      <td>True</td>\n",
       "      <td>1250</td>\n",
       "      <td>1200</td>\n",
       "    </tr>\n",
       "    <tr>\n",
       "      <th>2</th>\n",
       "      <td>David</td>\n",
       "      <td>Luiz Moreira Marinho</td>\n",
       "      <td>Arsenal</td>\n",
       "      <td>2</td>\n",
       "      <td>1344</td>\n",
       "      <td>54</td>\n",
       "      <td>1344</td>\n",
       "      <td>7.4</td>\n",
       "      <td>0.1</td>\n",
       "      <td>7.4</td>\n",
       "      <td>...</td>\n",
       "      <td>2.1</td>\n",
       "      <td>123.0</td>\n",
       "      <td>244.6</td>\n",
       "      <td>45.2</td>\n",
       "      <td>Knee injury - Unknown return date</td>\n",
       "      <td>Defender</td>\n",
       "      <td>7.4</td>\n",
       "      <td>True</td>\n",
       "      <td>1250</td>\n",
       "      <td>1200</td>\n",
       "    </tr>\n",
       "    <tr>\n",
       "      <th>3</th>\n",
       "      <td>Pierre-Emerick</td>\n",
       "      <td>Aubameyang</td>\n",
       "      <td>Arsenal</td>\n",
       "      <td>3</td>\n",
       "      <td>2007</td>\n",
       "      <td>114</td>\n",
       "      <td>2007</td>\n",
       "      <td>9.5</td>\n",
       "      <td>0.1</td>\n",
       "      <td>9.5</td>\n",
       "      <td>...</td>\n",
       "      <td>4.3</td>\n",
       "      <td>731.0</td>\n",
       "      <td>428.2</td>\n",
       "      <td>292.4</td>\n",
       "      <td></td>\n",
       "      <td>Midfielder</td>\n",
       "      <td>9.5</td>\n",
       "      <td>False</td>\n",
       "      <td>1250</td>\n",
       "      <td>1200</td>\n",
       "    </tr>\n",
       "    <tr>\n",
       "      <th>4</th>\n",
       "      <td>Cédric</td>\n",
       "      <td>Soares</td>\n",
       "      <td>Arsenal</td>\n",
       "      <td>2</td>\n",
       "      <td>744</td>\n",
       "      <td>46</td>\n",
       "      <td>744</td>\n",
       "      <td>6.1</td>\n",
       "      <td>0.1</td>\n",
       "      <td>6.1</td>\n",
       "      <td>...</td>\n",
       "      <td>2.8</td>\n",
       "      <td>66.0</td>\n",
       "      <td>110.8</td>\n",
       "      <td>114.8</td>\n",
       "      <td></td>\n",
       "      <td>Defender</td>\n",
       "      <td>6.1</td>\n",
       "      <td>False</td>\n",
       "      <td>1250</td>\n",
       "      <td>1200</td>\n",
       "    </tr>\n",
       "  </tbody>\n",
       "</table>\n",
       "<p>5 rows × 21 columns</p>\n",
       "</div>"
      ],
      "text/plain": [
       "       first_name           second_name     team  element_type  minutes  \\\n",
       "0           Mesut                  Özil  Arsenal             3        0   \n",
       "1        Sokratis      Papastathopoulos  Arsenal             2        0   \n",
       "2           David  Luiz Moreira Marinho  Arsenal             2     1344   \n",
       "3  Pierre-Emerick            Aubameyang  Arsenal             3     2007   \n",
       "4          Cédric                Soares  Arsenal             2      744   \n",
       "\n",
       "   now_cost  minutes value_season value_form  form  ...  points_per_game  \\\n",
       "0        67        0          0.0        0.0   0.0  ...              0.0   \n",
       "1        48        0          0.0        0.0   0.0  ...              0.0   \n",
       "2        54     1344          7.4        0.1   7.4  ...              2.1   \n",
       "3       114     2007          9.5        0.1   9.5  ...              4.3   \n",
       "4        46      744          6.1        0.1   6.1  ...              2.8   \n",
       "\n",
       "  threat influence creativity  \\\n",
       "0    0.0       0.0        0.0   \n",
       "1    0.0       0.0        0.0   \n",
       "2  123.0     244.6       45.2   \n",
       "3  731.0     428.2      292.4   \n",
       "4   66.0     110.8      114.8   \n",
       "\n",
       "                                                news    position value  \\\n",
       "0  Not included in Arsenal's 25-man Premier Leagu...  Midfielder   0.0   \n",
       "1            Left the club by mutual consent on 20/1    Defender   0.0   \n",
       "2                  Knee injury - Unknown return date    Defender   7.4   \n",
       "3                                                     Midfielder   9.5   \n",
       "4                                                       Defender   6.1   \n",
       "\n",
       "   unavailable  strength_overall_home  strength_overall_away  \n",
       "0         True                   1250                   1200  \n",
       "1         True                   1250                   1200  \n",
       "2         True                   1250                   1200  \n",
       "3        False                   1250                   1200  \n",
       "4        False                   1250                   1200  \n",
       "\n",
       "[5 rows x 21 columns]"
      ]
     },
     "execution_count": 401,
     "metadata": {},
     "output_type": "execute_result"
    }
   ],
   "source": [
    "\n",
    "\n",
    "slim_elements_df['strength_overall_home'] = slim_elements_df.team.map(teams_df.set_index('name')['strength_overall_home'].to_dict())\n",
    "\n",
    "slim_elements_df['strength_overall_away'] = slim_elements_df.team.map(teams_df.set_index('name')['strength_overall_away'].to_dict())\n",
    "\n",
    "slim_elements_df.head()"
   ]
  },
  {
   "cell_type": "code",
   "execution_count": 402,
   "metadata": {
    "scrolled": false
   },
   "outputs": [
    {
     "data": {
      "application/vnd.plotly.v1+json": {
       "config": {
        "plotlyServerURL": "https://plot.ly"
       },
       "data": [
        {
         "customdata": [
          [
           "Özil"
          ],
          [
           "Papastathopoulos"
          ],
          [
           "Luiz Moreira Marinho"
          ],
          [
           "Aubameyang"
          ],
          [
           "Soares"
          ],
          [
           "Lacazette"
          ],
          [
           "Mustafi"
          ],
          [
           "Leno"
          ],
          [
           "Xhaka"
          ],
          [
           "Marí"
          ],
          [
           "Bellerín"
          ],
          [
           "Chambers"
          ],
          [
           "Kolasinac"
          ],
          [
           "Holding"
          ],
          [
           "Tierney"
          ],
          [
           "Pépé"
          ],
          [
           "Torreira"
          ],
          [
           "Nelson"
          ],
          [
           "Nketiah"
          ],
          [
           "Smith Rowe"
          ],
          [
           "Saka"
          ],
          [
           "Guendouzi"
          ],
          [
           "Martinelli Silva"
          ],
          [
           "Saliba"
          ],
          [
           "Ryan"
          ],
          [
           "Borges Da Silva"
          ],
          [
           "Magalhães"
          ],
          [
           "Ceballos Fernández"
          ],
          [
           "El Sayed Elneny"
          ],
          [
           "Macey"
          ],
          [
           "Rúnarsson"
          ],
          [
           "Partey"
          ],
          [
           "Ødegaard"
          ],
          [
           "Martínez"
          ],
          [
           "Heaton"
          ],
          [
           "El Mohamady"
          ],
          [
           "Lansbury"
          ],
          [
           "Taylor"
          ],
          [
           "Steer"
          ],
          [
           "Hourihane"
          ],
          [
           "Peleteiro Romallo"
          ],
          [
           "Nyland"
          ],
          [
           "Engels"
          ],
          [
           "Grealish"
          ],
          [
           "McGinn"
          ],
          [
           "Hause"
          ],
          [
           "Ibrahim Hassan"
          ],
          [
           "Mings"
          ],
          [
           "Targett"
          ],
          [
           "Bree"
          ],
          [
           "Nakamba"
          ],
          [
           "El Ghazi"
          ],
          [
           "Konsa Ngoyo"
          ],
          [
           "Guilbert"
          ],
          [
           "Moraes"
          ],
          [
           "Samatta"
          ],
          [
           "Davis"
          ],
          [
           "Vassilev"
          ],
          [
           "Soares de Paulo"
          ],
          [
           "Barkley"
          ],
          [
           "Cash"
          ],
          [
           "Watkins"
          ],
          [
           "Traoré"
          ],
          [
           "Ramsey"
          ],
          [
           "Sanson"
          ],
          [
           "Hayden"
          ],
          [
           "Chukwuemeka"
          ],
          [
           "Philogene-Bidace"
          ],
          [
           "Murray"
          ],
          [
           "Lallana"
          ],
          [
           "Groß"
          ],
          [
           "Duffy"
          ],
          [
           "Pröpper"
          ],
          [
           "Mooy"
          ],
          [
           "Burn"
          ],
          [
           "Dunk"
          ],
          [
           "Montoya"
          ],
          [
           "Andone"
          ],
          [
           "March"
          ],
          [
           "Webster"
          ],
          [
           "Veltman"
          ],
          [
           "Maupay"
          ],
          [
           "Trossard"
          ],
          [
           "Jahanbakhsh"
          ],
          [
           "Izquierdo"
          ],
          [
           "Clarke"
          ],
          [
           "White"
          ],
          [
           "Fernandes da Silva Junior"
          ],
          [
           "Bissouma"
          ],
          [
           "Lamptey"
          ],
          [
           "Connolly"
          ],
          [
           "Alzate"
          ],
          [
           "Mac Allister"
          ],
          [
           "Walton"
          ],
          [
           "Steele"
          ],
          [
           "Molumby"
          ],
          [
           "Zeqiri"
          ],
          [
           "Welbeck"
          ],
          [
           "Sánchez"
          ],
          [
           "Tau"
          ],
          [
           "Moder"
          ],
          [
           "Khadra"
          ],
          [
           "Jenks"
          ],
          [
           "Sanders"
          ],
          [
           "Weir"
          ],
          [
           "McGill"
          ],
          [
           "Karbownik"
          ],
          [
           "Caicedo"
          ],
          [
           "Stephens"
          ],
          [
           "Tarkowski"
          ],
          [
           "Bardsley"
          ],
          [
           "Pieters"
          ],
          [
           "Cork"
          ],
          [
           "Long"
          ],
          [
           "Rodriguez"
          ],
          [
           "Barnes"
          ],
          [
           "Mee"
          ],
          [
           "Westwood"
          ],
          [
           "Gudmundsson"
          ],
          [
           "Wood"
          ],
          [
           "Lowton"
          ],
          [
           "Vydra"
          ],
          [
           "Gibson"
          ],
          [
           "Brady"
          ],
          [
           "Pope"
          ],
          [
           "Taylor"
          ],
          [
           "Brownhill"
          ],
          [
           "Peacock-Farrell"
          ],
          [
           "McNeil"
          ],
          [
           "Dunne"
          ],
          [
           "Thomas"
          ],
          [
           "Benson"
          ],
          [
           "Driscoll-Glennon"
          ],
          [
           "Goodridge"
          ],
          [
           "Norris"
          ],
          [
           "Thompson"
          ],
          [
           "Richardson"
          ],
          [
           "Mancini"
          ],
          [
           "Mumbongo"
          ],
          [
           "Nartey"
          ],
          [
           "Caballero"
          ],
          [
           "Azpilicueta"
          ],
          [
           "Giroud"
          ],
          [
           "Alonso"
          ],
          [
           "Frello Filho"
          ],
          [
           "Kovacic"
          ],
          [
           "Rüdiger"
          ],
          [
           "Zouma"
          ],
          [
           "Palmieri dos Santos"
          ],
          [
           "Arrizabalaga"
          ],
          [
           "Kanté"
          ],
          [
           "Ziyech"
          ],
          [
           "Christensen"
          ],
          [
           "Werner"
          ],
          [
           "Abraham"
          ],
          [
           "Pulisic"
          ],
          [
           "Mount"
          ],
          [
           "Tomori"
          ],
          [
           "Hudson-Odoi"
          ],
          [
           "James"
          ],
          [
           "Gilmour"
          ],
          [
           "Chilwell"
          ],
          [
           "Thiago"
          ],
          [
           "Havertz"
          ],
          [
           "Mendy"
          ],
          [
           "Ziger"
          ],
          [
           "Anjorin"
          ],
          [
           "Batshuayi"
          ],
          [
           "Cahill"
          ],
          [
           "Hennessey"
          ],
          [
           "Sakho"
          ],
          [
           "Guaita"
          ],
          [
           "Tomkins"
          ],
          [
           "McArthur"
          ],
          [
           "McCarthy"
          ],
          [
           "Benteke"
          ],
          [
           "Kouyaté"
          ],
          [
           "Ward"
          ],
          [
           "Kelly"
          ],
          [
           "Wickham"
          ],
          [
           "Townsend"
          ],
          [
           "Milivojevic"
          ],
          [
           "van Aanholt"
          ],
          [
           "Ayew"
          ],
          [
           "Zaha"
          ],
          [
           "Schlupp"
          ],
          [
           "Meyer"
          ],
          [
           "Riedewald"
          ],
          [
           "Ferguson"
          ],
          [
           "Mitchell"
          ],
          [
           "Pierrick"
          ],
          [
           "Dann"
          ],
          [
           "Eze"
          ],
          [
           "Woods"
          ],
          [
           "Inniss"
          ],
          [
           "Clyne"
          ],
          [
           "Henderson"
          ],
          [
           "Butland"
          ],
          [
           "Mateta"
          ],
          [
           "Hannam"
          ],
          [
           "Delph"
          ],
          [
           "Sigurdsson"
          ],
          [
           "Lössl"
          ],
          [
           "Coleman"
          ],
          [
           "Tosun"
          ],
          [
           "Anício Caldeira Duarte"
          ],
          [
           "Digne"
          ],
          [
           "Keane"
          ],
          [
           "Pickford"
          ],
          [
           "Tavares Gomes"
          ],
          [
           "Iwobi"
          ],
          [
           "Kenny"
          ],
          [
           "Gbamin"
          ],
          [
           "Mina"
          ],
          [
           "Davies"
          ],
          [
           "Calvert-Lewin"
          ],
          [
           "Holgate"
          ],
          [
           "de Andrade"
          ],
          [
           "Virgínia"
          ],
          [
           "Gordon"
          ],
          [
           "Kean"
          ],
          [
           "Branthwaite"
          ],
          [
           "Marques Loureiro"
          ],
          [
           "Rodríguez"
          ],
          [
           "Doucouré"
          ],
          [
           "Nkounkou"
          ],
          [
           "Godfrey"
          ],
          [
           "Olsen"
          ],
          [
           "Simms"
          ],
          [
           "Onyango"
          ],
          [
           "King"
          ],
          [
           "John"
          ],
          [
           "Broadhead"
          ],
          [
           "Astley"
          ],
          [
           "Tyrer"
          ],
          [
           "Loftus-Cheek"
          ],
          [
           "Agosto Ramírez"
          ],
          [
           "McDonald"
          ],
          [
           "Le Marchand"
          ],
          [
           "Johansen"
          ],
          [
           "Cairney"
          ],
          [
           "Ream"
          ],
          [
           "Knockaert"
          ],
          [
           "Hector"
          ],
          [
           "Christie"
          ],
          [
           "Kebano"
          ],
          [
           "Decordova-Reid"
          ],
          [
           "Bryan"
          ],
          [
           "Bettinelli"
          ],
          [
           "Mitrović"
          ],
          [
           "Mawson"
          ],
          [
           "Rodák"
          ],
          [
           "Neves Abreu Cavaleiro"
          ],
          [
           "Onomah"
          ],
          [
           "Seri"
          ],
          [
           "Kamara"
          ],
          [
           "Zambo Anguissa"
          ],
          [
           "Sessegnon"
          ],
          [
           "Reed"
          ],
          [
           "Robinson"
          ],
          [
           "Lemina"
          ],
          [
           "Areola"
          ],
          [
           "Tete"
          ],
          [
           "Odoi"
          ],
          [
           "Lookman"
          ],
          [
           "Aina"
          ],
          [
           "Andersen"
          ],
          [
           "Adarabioyo"
          ],
          [
           "Kongolo"
          ],
          [
           "Maja"
          ],
          [
           "Morgan"
          ],
          [
           "Schmeichel"
          ],
          [
           "Fuchs"
          ],
          [
           "Evans"
          ],
          [
           "Silva"
          ],
          [
           "Albrighton"
          ],
          [
           "James"
          ],
          [
           "Ward"
          ],
          [
           "Vardy"
          ],
          [
           "Praet"
          ],
          [
           "Barbosa Pereira"
          ],
          [
           "Amartey"
          ],
          [
           "Tielemans"
          ],
          [
           "Pérez"
          ],
          [
           "Gray"
          ],
          [
           "Maddison"
          ],
          [
           "Iheanacho"
          ],
          [
           "Choudhury"
          ],
          [
           "Barnes"
          ],
          [
           "Ndidi"
          ],
          [
           "Benkovic"
          ],
          [
           "Söyüncü"
          ],
          [
           "Justin"
          ],
          [
           "Thomas"
          ],
          [
           "Castagne"
          ],
          [
           "Mendy"
          ],
          [
           "Ünder"
          ],
          [
           "Fofana"
          ],
          [
           "Slimani"
          ],
          [
           "Daley-Campbell"
          ],
          [
           "Leshabela"
          ],
          [
           "Tavares"
          ],
          [
           "Flynn"
          ],
          [
           "Suengchitthawon"
          ],
          [
           "Hernández Domínguez"
          ],
          [
           "Casilla Cortés"
          ],
          [
           "Cooper"
          ],
          [
           "Douglas"
          ],
          [
           "Ayling"
          ],
          [
           "Klich"
          ],
          [
           "Forshaw"
          ],
          [
           "Dallas"
          ],
          [
           "Alioski"
          ],
          [
           "Bamford"
          ],
          [
           "Harrison"
          ],
          [
           "Phillips"
          ],
          [
           "Sousa de Azevedo e Costa"
          ],
          [
           "Roberts"
          ],
          [
           "Grot"
          ],
          [
           "Miazek"
          ],
          [
           "Poveda-Ocampo"
          ],
          [
           "Shackleton"
          ],
          [
           "Struijk"
          ],
          [
           "Stevens"
          ],
          [
           "Meslier"
          ],
          [
           "Davis"
          ],
          [
           "Casey"
          ],
          [
           "Koch"
          ],
          [
           "Moreno"
          ],
          [
           "Caprile"
          ],
          [
           "Bogusz"
          ],
          [
           "Llorente"
          ],
          [
           "Dias Belloli"
          ],
          [
           "Jenkins"
          ],
          [
           "Huggins"
          ],
          [
           "Cresswell"
          ],
          [
           "Gelhardt"
          ],
          [
           "Berardi"
          ],
          [
           "Milner"
          ],
          [
           "Tsimikas"
          ],
          [
           "Wijnaldum"
          ],
          [
           "Henderson"
          ],
          [
           "San Miguel del Castillo"
          ],
          [
           "Matip"
          ],
          [
           "Shaqiri"
          ],
          [
           "Oxlade-Chamberlain"
          ],
          [
           "Firmino"
          ],
          [
           "van Dijk"
          ],
          [
           "Mané"
          ],
          [
           "Ramses Becker"
          ],
          [
           "Tavares"
          ],
          [
           "Salah"
          ],
          [
           "Robertson"
          ],
          [
           "Origi"
          ],
          [
           "Wilson"
          ],
          [
           "Alexander-Arnold"
          ],
          [
           "Gomez"
          ],
          [
           "Keita"
          ],
          [
           "Jones"
          ],
          [
           "Williams"
          ],
          [
           "Elliott"
          ],
          [
           "Jota"
          ],
          [
           "Alcántara do Nascimento"
          ],
          [
           "Kelleher"
          ],
          [
           "Phillips"
          ],
          [
           "Williams"
          ],
          [
           "Clarkson"
          ],
          [
           "Cain"
          ],
          [
           "Kabak"
          ],
          [
           "Davies"
          ],
          [
           "Hughes"
          ],
          [
           "Ojrzynski"
          ],
          [
           "Luiz Rosa"
          ],
          [
           "Bravo"
          ],
          [
           "Agüero"
          ],
          [
           "Otamendi"
          ],
          [
           "Walker"
          ],
          [
           "Gündogan"
          ],
          [
           "De Bruyne"
          ],
          [
           "Stones"
          ],
          [
           "Mendy"
          ],
          [
           "Mahrez"
          ],
          [
           "Sterling"
          ],
          [
           "Cancelo"
          ],
          [
           "Santana de Moraes"
          ],
          [
           "Aké"
          ],
          [
           "Laporte"
          ],
          [
           "Veiga de Carvalho e Silva"
          ],
          [
           "de Jesus"
          ],
          [
           "Zinchenko"
          ],
          [
           "Foden"
          ],
          [
           "Doyle"
          ],
          [
           "Hernandez"
          ],
          [
           "Torres"
          ],
          [
           "Garcia"
          ],
          [
           "Bernabé"
          ],
          [
           "Steffen"
          ],
          [
           "Delap"
          ],
          [
           "Palmer"
          ],
          [
           "Gato Alves Dias"
          ],
          [
           "Trafford"
          ],
          [
           "Carson"
          ],
          [
           "Nmecha"
          ],
          [
           "Mbete"
          ],
          [
           "Harwood-Bellis"
          ],
          [
           "Gomes"
          ],
          [
           "Romero"
          ],
          [
           "Mata"
          ],
          [
           "de Gea"
          ],
          [
           "Smalling"
          ],
          [
           "Ighalo"
          ],
          [
           "Rojo"
          ],
          [
           "Matic"
          ],
          [
           "Pogba"
          ],
          [
           "Jones"
          ],
          [
           "Maguire"
          ],
          [
           "Rodrigues de Paula Santos"
          ],
          [
           "Shaw"
          ],
          [
           "Borges Fernandes"
          ],
          [
           "Martial"
          ],
          [
           "Pereira"
          ],
          [
           "Henderson"
          ],
          [
           "Rashford"
          ],
          [
           "Tuanzebe"
          ],
          [
           "Lindelöf"
          ],
          [
           "McTominay"
          ],
          [
           "Bailly"
          ],
          [
           "James"
          ],
          [
           "Fosu-Mensah"
          ],
          [
           "Wan-Bissaka"
          ],
          [
           "Dalot Teixeira"
          ],
          [
           "Greenwood"
          ],
          [
           "Chong"
          ],
          [
           "Garner"
          ],
          [
           "Williams"
          ],
          [
           "Mengi"
          ],
          [
           "van de Beek"
          ],
          [
           "Telles"
          ],
          [
           "Cavani"
          ],
          [
           "Pellistri"
          ],
          [
           "Grant"
          ],
          [
           "Diallo"
          ],
          [
           "Shoretire"
          ],
          [
           "Bishop"
          ],
          [
           "Willock"
          ],
          [
           "Carroll"
          ],
          [
           "Shelvey"
          ],
          [
           "Ritchie"
          ],
          [
           "Fernández"
          ],
          [
           "Clark"
          ],
          [
           "Darlow"
          ],
          [
           "Dubravka"
          ],
          [
           "Lejeune"
          ],
          [
           "Lascelles"
          ],
          [
           "Gayle"
          ],
          [
           "Atsu"
          ],
          [
           "Dummett"
          ],
          [
           "Manquillo"
          ],
          [
           "Krafth"
          ],
          [
           "Schär"
          ],
          [
           "Yedlin"
          ],
          [
           "Hayden"
          ],
          [
           "Aarons"
          ],
          [
           "Saint-Maximin"
          ],
          [
           "Almirón"
          ],
          [
           "Apolinário de Lira"
          ],
          [
           "Muto"
          ],
          [
           "Watts"
          ],
          [
           "Longstaff"
          ],
          [
           "Hendrick"
          ],
          [
           "Longstaff"
          ],
          [
           "Gillespie"
          ],
          [
           "Murphy"
          ],
          [
           "Wilson"
          ],
          [
           "Fraser"
          ],
          [
           "Lewis"
          ],
          [
           "Anderson"
          ],
          [
           "Langley"
          ],
          [
           "Brewster"
          ],
          [
           "Sharp"
          ],
          [
           "McGoldrick"
          ],
          [
           "Basham"
          ],
          [
           "Fleck"
          ],
          [
           "Stevens"
          ],
          [
           "Moore"
          ],
          [
           "Norwood"
          ],
          [
           "Foderingham"
          ],
          [
           "Baldock"
          ],
          [
           "Robinson"
          ],
          [
           "Egan"
          ],
          [
           "O'Connell"
          ],
          [
           "Lundstram"
          ],
          [
           "Osborn"
          ],
          [
           "McBurnie"
          ],
          [
           "Mousset"
          ],
          [
           "Berge"
          ],
          [
           "Burke"
          ],
          [
           "Freeman"
          ],
          [
           "Ramsdale"
          ],
          [
           "Ampadu"
          ],
          [
           "Bogle"
          ],
          [
           "Lowe"
          ],
          [
           "Jagielka"
          ],
          [
           "Verrips"
          ],
          [
           "Bryan"
          ],
          [
           "Hackford"
          ],
          [
           "Gordon"
          ],
          [
           "Ndiaye"
          ],
          [
           "Brunt"
          ],
          [
           "Maguire"
          ],
          [
           "Walcott"
          ],
          [
           "Minamino"
          ],
          [
           "Long"
          ],
          [
           "Bertrand"
          ],
          [
           "McCarthy"
          ],
          [
           "Romeu Vidal"
          ],
          [
           "Redmond"
          ],
          [
           "Ings"
          ],
          [
           "Stephens"
          ],
          [
           "Armstrong"
          ],
          [
           "Vestergaard"
          ],
          [
           "Ward-Prowse"
          ],
          [
           "Gunn"
          ],
          [
           "Boufal"
          ],
          [
           "Sims"
          ],
          [
           "Walker-Peters"
          ],
          [
           "Bednarek"
          ],
          [
           "Adams"
          ],
          [
           "Valery"
          ],
          [
           "Smallbone"
          ],
          [
           "Vokins"
          ],
          [
           "Obafemi"
          ],
          [
           "Djenepo"
          ],
          [
           "Salisu"
          ],
          [
           "Forster"
          ],
          [
           "Tella"
          ],
          [
           "Diallo"
          ],
          [
           "N'Lundulu"
          ],
          [
           "Ramsay"
          ],
          [
           "Chauke"
          ],
          [
           "Lewis"
          ],
          [
           "Ferry"
          ],
          [
           "Tchaptchet"
          ],
          [
           "Watts"
          ],
          [
           "Jankewitz"
          ],
          [
           "Finnigan"
          ],
          [
           "Lloris"
          ],
          [
           "Rose"
          ],
          [
           "Sissoko"
          ],
          [
           "Alderweireld"
          ],
          [
           "Lamela"
          ],
          [
           "Kane"
          ],
          [
           "Aurier"
          ],
          [
           "Son"
          ],
          [
           "Dier"
          ],
          [
           "Rodrigues Moura da Silva"
          ],
          [
           "Gazzaniga"
          ],
          [
           "Alli"
          ],
          [
           "Davies"
          ],
          [
           "Højbjerg"
          ],
          [
           "Winks"
          ],
          [
           "Sánchez"
          ],
          [
           "Sessegnon"
          ],
          [
           "Bergwijn"
          ],
          [
           "Carvalho Fernandes"
          ],
          [
           "Tanganga"
          ],
          [
           "Lo Celso"
          ],
          [
           "Skipp"
          ],
          [
           "Ndombele"
          ],
          [
           "Foyth"
          ],
          [
           "Doherty"
          ],
          [
           "Hart"
          ],
          [
           "Carter-Vickers"
          ],
          [
           "Reguilón"
          ],
          [
           "Bale"
          ],
          [
           "Alves Morais"
          ],
          [
           "Rodon"
          ],
          [
           "Devine"
          ],
          [
           "Scarlett"
          ],
          [
           "Maitland-Niles"
          ],
          [
           "Button"
          ],
          [
           "Robinson"
          ],
          [
           "Gibbs"
          ],
          [
           "Robson-Kanu"
          ],
          [
           "Livermore"
          ],
          [
           "Grosicki"
          ],
          [
           "Phillips"
          ],
          [
           "Bartley"
          ],
          [
           "Sawyers"
          ],
          [
           "Hegazy"
          ],
          [
           "Austin"
          ],
          [
           "Zohore"
          ],
          [
           "Johnstone"
          ],
          [
           "Townsend"
          ],
          [
           "Ajayi"
          ],
          [
           "Leko"
          ],
          [
           "Edwards"
          ],
          [
           "Furlong"
          ],
          [
           "Field"
          ],
          [
           "O'Shea"
          ],
          [
           "Harper"
          ],
          [
           "Snodgrass"
          ],
          [
           "Diangana"
          ],
          [
           "Pereira"
          ],
          [
           "Kipre"
          ],
          [
           "Ivanovic"
          ],
          [
           "Gallagher"
          ],
          [
           "Krovinovic"
          ],
          [
           "Grant"
          ],
          [
           "Peltier"
          ],
          [
           "Diaby"
          ],
          [
           "Lonergan"
          ],
          [
           "Diagne"
          ],
          [
           "Yokuslu"
          ],
          [
           "Lingard"
          ],
          [
           "Noble"
          ],
          [
           "Martin"
          ],
          [
           "Randolph"
          ],
          [
           "Fabianski"
          ],
          [
           "Ogbonna"
          ],
          [
           "Jimenez Gago"
          ],
          [
           "Wilshere"
          ],
          [
           "Cresswell"
          ],
          [
           "Yarmolenko"
          ],
          [
           "Antonio"
          ],
          [
           "Fredericks"
          ],
          [
           "Lanzini"
          ],
          [
           "Pereira Gomes"
          ],
          [
           "Haller"
          ],
          [
           "Masuaku"
          ],
          [
           "Balbuena"
          ],
          [
           "Hugill"
          ],
          [
           "Bowen"
          ],
          [
           "Ajeti"
          ],
          [
           "Rice"
          ],
          [
           "Soucek"
          ],
          [
           "Fornals"
          ],
          [
           "Diop"
          ],
          [
           "Johnson"
          ],
          [
           "Coufal"
          ],
          [
           "Dawson"
          ],
          [
           "Benrahma"
          ],
          [
           "Alves"
          ],
          [
           "Odubeko"
          ],
          [
           "Coventry"
          ],
          [
           "Baptiste"
          ],
          [
           "Trott"
          ],
          [
           "Ruddy"
          ],
          [
           "Santos Moutinho"
          ],
          [
           "dos Santos Patrício"
          ],
          [
           "Bennett"
          ],
          [
           "Boly"
          ],
          [
           "Coady"
          ],
          [
           "Jiménez"
          ],
          [
           "Saïss"
          ],
          [
           "Castro Otto"
          ],
          [
           "Bonatini"
          ],
          [
           "Dendoncker"
          ],
          [
           "Traoré"
          ],
          [
           "da Silva Neves"
          ],
          [
           "Buur"
          ],
          [
           "Castelo Podence"
          ],
          [
           "Kilman"
          ],
          [
           "Silva Nascimento Vinagre"
          ],
          [
           "Sarkic"
          ],
          [
           "Gibbs-White"
          ],
          [
           "Lomba Neto"
          ],
          [
           "Cavaco Jordao"
          ],
          [
           "Campana"
          ],
          [
           "Silva"
          ],
          [
           "Marçal"
          ],
          [
           "Ferreira"
          ],
          [
           "Hoever"
          ],
          [
           "Cabral Semedo"
          ],
          [
           "Shabani"
          ],
          [
           "Ait Nouri"
          ],
          [
           "Otasowie"
          ],
          [
           "Corbeanu"
          ],
          [
           "Perry"
          ],
          [
           "Cundle"
          ],
          [
           "Richards"
          ],
          [
           "Marques"
          ],
          [
           "Söndergaard"
          ],
          [
           "Cutrone"
          ],
          [
           "Lonwijk"
          ],
          [
           "Da Silva"
          ],
          [
           "Bueno"
          ]
         ],
         "hovertemplate": "now_cost=%{x}<br>total_points=%{y}<br>second_name=%{customdata[0]}<extra></extra>",
         "legendgroup": "",
         "marker": {
          "color": "#636efa",
          "symbol": "circle"
         },
         "mode": "markers",
         "name": "",
         "orientation": "v",
         "showlegend": false,
         "type": "scatter",
         "x": [
          67,
          48,
          54,
          114,
          46,
          82,
          50,
          50,
          52,
          44,
          50,
          45,
          48,
          42,
          53,
          76,
          47,
          51,
          53,
          42,
          52,
          47,
          49,
          40,
          42,
          75,
          49,
          47,
          42,
          40,
          44,
          49,
          60,
          54,
          45,
          43,
          43,
          42,
          39,
          59,
          59,
          40,
          44,
          75,
          55,
          44,
          52,
          54,
          51,
          45,
          43,
          53,
          47,
          43,
          60,
          59,
          42,
          43,
          48,
          59,
          50,
          66,
          59,
          45,
          55,
          45,
          45,
          45,
          48,
          62,
          58,
          43,
          47,
          50,
          42,
          50,
          45,
          48,
          50,
          43,
          44,
          61,
          58,
          54,
          55,
          44,
          45,
          39,
          44,
          46,
          52,
          42,
          53,
          40,
          39,
          45,
          50,
          55,
          45,
          49,
          50,
          45,
          45,
          45,
          45,
          39,
          45,
          50,
          42,
          53,
          44,
          43,
          50,
          43,
          58,
          60,
          49,
          53,
          54,
          62,
          44,
          48,
          39,
          50,
          55,
          44,
          49,
          40,
          57,
          38,
          39,
          45,
          39,
          45,
          40,
          45,
          45,
          44,
          45,
          40,
          46,
          59,
          67,
          57,
          47,
          53,
          47,
          53,
          47,
          47,
          49,
          79,
          47,
          92,
          71,
          82,
          71,
          47,
          57,
          50,
          44,
          58,
          56,
          82,
          52,
          40,
          45,
          57,
          45,
          43,
          44,
          48,
          44,
          52,
          43,
          55,
          48,
          43,
          41,
          44,
          55,
          56,
          54,
          56,
          71,
          53,
          47,
          44,
          38,
          38,
          43,
          42,
          58,
          40,
          40,
          45,
          40,
          45,
          55,
          40,
          48,
          68,
          43,
          48,
          60,
          57,
          62,
          51,
          48,
          53,
          59,
          43,
          50,
          55,
          52,
          76,
          48,
          79,
          43,
          43,
          57,
          39,
          52,
          77,
          52,
          40,
          50,
          45,
          45,
          45,
          52,
          40,
          45,
          40,
          40,
          59,
          39,
          47,
          41,
          47,
          52,
          42,
          50,
          41,
          42,
          47,
          53,
          45,
          43,
          55,
          43,
          43,
          53,
          46,
          46,
          48,
          45,
          43,
          44,
          44,
          45,
          46,
          43,
          42,
          50,
          45,
          45,
          45,
          43,
          54,
          44,
          54,
          45,
          55,
          44,
          52,
          43,
          43,
          101,
          52,
          59,
          39,
          65,
          60,
          51,
          71,
          58,
          46,
          67,
          48,
          43,
          53,
          49,
          41,
          57,
          42,
          57,
          50,
          49,
          40,
          44,
          44,
          45,
          45,
          57,
          42,
          43,
          38,
          44,
          52,
          48,
          51,
          43,
          66,
          54,
          49,
          50,
          46,
          47,
          40,
          42,
          48,
          40,
          43,
          47,
          38,
          38,
          43,
          57,
          40,
          43,
          44,
          56,
          45,
          45,
          40,
          45,
          40,
          53,
          49,
          53,
          54,
          42,
          54,
          64,
          63,
          90,
          62,
          118,
          59,
          54,
          124,
          71,
          51,
          51,
          73,
          52,
          52,
          44,
          38,
          43,
          69,
          55,
          45,
          40,
          40,
          45,
          45,
          50,
          48,
          40,
          40,
          54,
          45,
          103,
          49,
          61,
          60,
          119,
          52,
          59,
          82,
          113,
          60,
          61,
          54,
          60,
          74,
          92,
          55,
          60,
          44,
          53,
          69,
          47,
          45,
          44,
          43,
          44,
          62,
          40,
          39,
          45,
          40,
          40,
          45,
          49,
          58,
          53,
          49,
          61,
          48,
          47,
          76,
          48,
          55,
          53,
          53,
          116,
          86,
          48,
          52,
          95,
          41,
          48,
          49,
          48,
          62,
          43,
          57,
          48,
          70,
          44,
          44,
          42,
          39,
          66,
          53,
          78,
          52,
          40,
          54,
          45,
          40,
          47,
          51,
          53,
          49,
          47,
          45,
          49,
          48,
          43,
          42,
          59,
          52,
          44,
          42,
          42,
          49,
          43,
          46,
          48,
          51,
          56,
          57,
          48,
          39,
          46,
          45,
          48,
          43,
          49,
          65,
          56,
          42,
          45,
          39,
          43,
          55,
          52,
          46,
          56,
          50,
          43,
          45,
          43,
          49,
          42,
          47,
          47,
          49,
          47,
          56,
          58,
          49,
          41,
          50,
          46,
          43,
          43,
          42,
          39,
          40,
          39,
          44,
          40,
          45,
          45,
          44,
          58,
          60,
          51,
          50,
          44,
          45,
          64,
          84,
          46,
          55,
          47,
          59,
          43,
          54,
          43,
          47,
          48,
          58,
          47,
          43,
          39,
          46,
          54,
          43,
          40,
          43,
          45,
          45,
          40,
          44,
          40,
          45,
          40,
          45,
          45,
          45,
          56,
          47,
          47,
          54,
          57,
          117,
          52,
          94,
          47,
          66,
          43,
          74,
          46,
          49,
          51,
          52,
          47,
          70,
          47,
          49,
          69,
          44,
          59,
          43,
          56,
          43,
          39,
          55,
          93,
          69,
          50,
          44,
          45,
          46,
          39,
          52,
          43,
          52,
          47,
          52,
          51,
          44,
          46,
          41,
          51,
          48,
          45,
          44,
          48,
          45,
          47,
          45,
          48,
          42,
          43,
          56,
          50,
          53,
          43,
          44,
          55,
          49,
          56,
          40,
          45,
          40,
          60,
          45,
          63,
          45,
          39,
          43,
          50,
          47,
          45,
          49,
          59,
          55,
          67,
          42,
          64,
          61,
          61,
          43,
          41,
          55,
          59,
          55,
          47,
          53,
          58,
          43,
          39,
          46,
          45,
          60,
          40,
          45,
          45,
          40,
          40,
          43,
          52,
          53,
          44,
          54,
          48,
          81,
          49,
          54,
          48,
          46,
          60,
          51,
          39,
          53,
          39,
          41,
          44,
          49,
          57,
          43,
          48,
          52,
          47,
          47,
          44,
          52,
          44,
          50,
          45,
          45,
          45,
          45,
          40,
          39,
          40,
          59,
          40,
          68,
          40
         ],
         "xaxis": "x",
         "y": [
          0,
          0,
          40,
          108,
          28,
          111,
          3,
          104,
          57,
          21,
          83,
          8,
          2,
          75,
          78,
          63,
          0,
          2,
          27,
          46,
          96,
          0,
          11,
          0,
          29,
          63,
          53,
          41,
          30,
          0,
          1,
          30,
          23,
          157,
          0,
          30,
          0,
          -1,
          0,
          20,
          0,
          0,
          0,
          129,
          87,
          28,
          54,
          114,
          118,
          0,
          16,
          71,
          102,
          0,
          0,
          0,
          12,
          0,
          58,
          62,
          87,
          127,
          95,
          19,
          10,
          0,
          0,
          0,
          0,
          49,
          85,
          0,
          9,
          0,
          39,
          102,
          0,
          0,
          69,
          61,
          76,
          99,
          109,
          16,
          0,
          0,
          81,
          5,
          60,
          35,
          36,
          29,
          39,
          0,
          0,
          1,
          6,
          59,
          73,
          3,
          7,
          1,
          0,
          0,
          0,
          0,
          0,
          0,
          8,
          84,
          2,
          49,
          18,
          14,
          48,
          48,
          87,
          79,
          41,
          93,
          83,
          41,
          0,
          44,
          130,
          64,
          55,
          0,
          87,
          8,
          0,
          10,
          0,
          0,
          0,
          0,
          2,
          0,
          2,
          0,
          1,
          97,
          44,
          42,
          93,
          50,
          64,
          86,
          7,
          15,
          55,
          51,
          40,
          106,
          67,
          50,
          123,
          0,
          51,
          87,
          2,
          104,
          73,
          59,
          113,
          0,
          0,
          40,
          39,
          0,
          4,
          109,
          15,
          45,
          18,
          66,
          69,
          56,
          0,
          0,
          76,
          55,
          52,
          61,
          111,
          51,
          0,
          56,
          0,
          35,
          0,
          33,
          89,
          0,
          0,
          28,
          0,
          0,
          13,
          0,
          6,
          88,
          0,
          43,
          4,
          18,
          76,
          100,
          79,
          40,
          58,
          5,
          1,
          63,
          36,
          138,
          60,
          96,
          2,
          3,
          2,
          0,
          29,
          88,
          71,
          1,
          57,
          15,
          0,
          0,
          8,
          0,
          0,
          0,
          0,
          60,
          0,
          0,
          1,
          0,
          27,
          7,
          0,
          0,
          0,
          6,
          70,
          13,
          0,
          59,
          0,
          1,
          71,
          7,
          0,
          8,
          65,
          0,
          63,
          52,
          45,
          112,
          47,
          1,
          96,
          94,
          88,
          92,
          1,
          26,
          3,
          115,
          24,
          78,
          0,
          52,
          0,
          0,
          149,
          35,
          23,
          20,
          113,
          47,
          1,
          120,
          57,
          13,
          126,
          59,
          0,
          37,
          101,
          5,
          68,
          38,
          16,
          59,
          1,
          0,
          1,
          3,
          0,
          0,
          20,
          2,
          54,
          0,
          74,
          85,
          0,
          124,
          76,
          158,
          124,
          51,
          56,
          31,
          0,
          0,
          10,
          16,
          52,
          0,
          127,
          2,
          0,
          34,
          56,
          0,
          0,
          20,
          113,
          0,
          1,
          0,
          0,
          0,
          39,
          1,
          79,
          56,
          11,
          42,
          24,
          12,
          104,
          15,
          126,
          95,
          53,
          182,
          120,
          10,
          0,
          106,
          10,
          15,
          43,
          10,
          0,
          69,
          30,
          10,
          35,
          6,
          0,
          0,
          21,
          0,
          0,
          0,
          44,
          0,
          17,
          0,
          82,
          142,
          128,
          122,
          46,
          132,
          136,
          122,
          134,
          21,
          50,
          74,
          97,
          56,
          108,
          0,
          72,
          55,
          4,
          0,
          2,
          1,
          0,
          133,
          0,
          0,
          0,
          0,
          0,
          0,
          0,
          20,
          87,
          0,
          1,
          0,
          29,
          72,
          0,
          115,
          52,
          110,
          214,
          75,
          0,
          27,
          148,
          2,
          88,
          79,
          27,
          35,
          0,
          122,
          0,
          56,
          0,
          0,
          2,
          0,
          19,
          22,
          61,
          0,
          0,
          0,
          1,
          0,
          35,
          28,
          51,
          15,
          34,
          40,
          80,
          18,
          0,
          44,
          22,
          0,
          13,
          28,
          27,
          25,
          13,
          40,
          0,
          53,
          79,
          54,
          0,
          0,
          27,
          49,
          10,
          0,
          42,
          116,
          39,
          43,
          1,
          0,
          27,
          39,
          71,
          38,
          52,
          30,
          0,
          37,
          0,
          44,
          13,
          33,
          3,
          44,
          33,
          43,
          10,
          29,
          39,
          0,
          83,
          42,
          29,
          9,
          4,
          0,
          19,
          1,
          0,
          1,
          0,
          0,
          62,
          41,
          12,
          77,
          82,
          51,
          51,
          106,
          33,
          93,
          80,
          128,
          0,
          0,
          0,
          80,
          89,
          109,
          3,
          5,
          1,
          1,
          42,
          7,
          18,
          15,
          23,
          12,
          -3,
          0,
          0,
          0,
          0,
          2,
          -1,
          0,
          121,
          0,
          41,
          70,
          23,
          204,
          61,
          180,
          59,
          68,
          0,
          14,
          52,
          81,
          13,
          42,
          0,
          40,
          0,
          8,
          23,
          0,
          88,
          0,
          45,
          0,
          0,
          67,
          59,
          13,
          24,
          0,
          1,
          51,
          2,
          63,
          5,
          12,
          24,
          8,
          49,
          66,
          33,
          6,
          5,
          0,
          101,
          54,
          42,
          0,
          5,
          66,
          3,
          32,
          2,
          14,
          34,
          111,
          0,
          20,
          61,
          17,
          37,
          2,
          0,
          0,
          35,
          17,
          68,
          20,
          0,
          7,
          112,
          82,
          0,
          0,
          136,
          16,
          90,
          24,
          23,
          2,
          41,
          42,
          40,
          0,
          110,
          0,
          76,
          123,
          92,
          28,
          22,
          95,
          65,
          47,
          0,
          0,
          0,
          0,
          0,
          1,
          61,
          107,
          0,
          60,
          87,
          43,
          82,
          16,
          0,
          64,
          65,
          92,
          1,
          66,
          54,
          1,
          0,
          5,
          124,
          0,
          0,
          44,
          18,
          17,
          10,
          77,
          0,
          36,
          7,
          0,
          0,
          0,
          0,
          0,
          0,
          2,
          0,
          23,
          0
         ],
         "yaxis": "y"
        }
       ],
       "layout": {
        "legend": {
         "tracegroupgap": 0
        },
        "margin": {
         "t": 60
        },
        "template": {
         "data": {
          "bar": [
           {
            "error_x": {
             "color": "#2a3f5f"
            },
            "error_y": {
             "color": "#2a3f5f"
            },
            "marker": {
             "line": {
              "color": "#E5ECF6",
              "width": 0.5
             }
            },
            "type": "bar"
           }
          ],
          "barpolar": [
           {
            "marker": {
             "line": {
              "color": "#E5ECF6",
              "width": 0.5
             }
            },
            "type": "barpolar"
           }
          ],
          "carpet": [
           {
            "aaxis": {
             "endlinecolor": "#2a3f5f",
             "gridcolor": "white",
             "linecolor": "white",
             "minorgridcolor": "white",
             "startlinecolor": "#2a3f5f"
            },
            "baxis": {
             "endlinecolor": "#2a3f5f",
             "gridcolor": "white",
             "linecolor": "white",
             "minorgridcolor": "white",
             "startlinecolor": "#2a3f5f"
            },
            "type": "carpet"
           }
          ],
          "choropleth": [
           {
            "colorbar": {
             "outlinewidth": 0,
             "ticks": ""
            },
            "type": "choropleth"
           }
          ],
          "contour": [
           {
            "colorbar": {
             "outlinewidth": 0,
             "ticks": ""
            },
            "colorscale": [
             [
              0,
              "#0d0887"
             ],
             [
              0.1111111111111111,
              "#46039f"
             ],
             [
              0.2222222222222222,
              "#7201a8"
             ],
             [
              0.3333333333333333,
              "#9c179e"
             ],
             [
              0.4444444444444444,
              "#bd3786"
             ],
             [
              0.5555555555555556,
              "#d8576b"
             ],
             [
              0.6666666666666666,
              "#ed7953"
             ],
             [
              0.7777777777777778,
              "#fb9f3a"
             ],
             [
              0.8888888888888888,
              "#fdca26"
             ],
             [
              1,
              "#f0f921"
             ]
            ],
            "type": "contour"
           }
          ],
          "contourcarpet": [
           {
            "colorbar": {
             "outlinewidth": 0,
             "ticks": ""
            },
            "type": "contourcarpet"
           }
          ],
          "heatmap": [
           {
            "colorbar": {
             "outlinewidth": 0,
             "ticks": ""
            },
            "colorscale": [
             [
              0,
              "#0d0887"
             ],
             [
              0.1111111111111111,
              "#46039f"
             ],
             [
              0.2222222222222222,
              "#7201a8"
             ],
             [
              0.3333333333333333,
              "#9c179e"
             ],
             [
              0.4444444444444444,
              "#bd3786"
             ],
             [
              0.5555555555555556,
              "#d8576b"
             ],
             [
              0.6666666666666666,
              "#ed7953"
             ],
             [
              0.7777777777777778,
              "#fb9f3a"
             ],
             [
              0.8888888888888888,
              "#fdca26"
             ],
             [
              1,
              "#f0f921"
             ]
            ],
            "type": "heatmap"
           }
          ],
          "heatmapgl": [
           {
            "colorbar": {
             "outlinewidth": 0,
             "ticks": ""
            },
            "colorscale": [
             [
              0,
              "#0d0887"
             ],
             [
              0.1111111111111111,
              "#46039f"
             ],
             [
              0.2222222222222222,
              "#7201a8"
             ],
             [
              0.3333333333333333,
              "#9c179e"
             ],
             [
              0.4444444444444444,
              "#bd3786"
             ],
             [
              0.5555555555555556,
              "#d8576b"
             ],
             [
              0.6666666666666666,
              "#ed7953"
             ],
             [
              0.7777777777777778,
              "#fb9f3a"
             ],
             [
              0.8888888888888888,
              "#fdca26"
             ],
             [
              1,
              "#f0f921"
             ]
            ],
            "type": "heatmapgl"
           }
          ],
          "histogram": [
           {
            "marker": {
             "colorbar": {
              "outlinewidth": 0,
              "ticks": ""
             }
            },
            "type": "histogram"
           }
          ],
          "histogram2d": [
           {
            "colorbar": {
             "outlinewidth": 0,
             "ticks": ""
            },
            "colorscale": [
             [
              0,
              "#0d0887"
             ],
             [
              0.1111111111111111,
              "#46039f"
             ],
             [
              0.2222222222222222,
              "#7201a8"
             ],
             [
              0.3333333333333333,
              "#9c179e"
             ],
             [
              0.4444444444444444,
              "#bd3786"
             ],
             [
              0.5555555555555556,
              "#d8576b"
             ],
             [
              0.6666666666666666,
              "#ed7953"
             ],
             [
              0.7777777777777778,
              "#fb9f3a"
             ],
             [
              0.8888888888888888,
              "#fdca26"
             ],
             [
              1,
              "#f0f921"
             ]
            ],
            "type": "histogram2d"
           }
          ],
          "histogram2dcontour": [
           {
            "colorbar": {
             "outlinewidth": 0,
             "ticks": ""
            },
            "colorscale": [
             [
              0,
              "#0d0887"
             ],
             [
              0.1111111111111111,
              "#46039f"
             ],
             [
              0.2222222222222222,
              "#7201a8"
             ],
             [
              0.3333333333333333,
              "#9c179e"
             ],
             [
              0.4444444444444444,
              "#bd3786"
             ],
             [
              0.5555555555555556,
              "#d8576b"
             ],
             [
              0.6666666666666666,
              "#ed7953"
             ],
             [
              0.7777777777777778,
              "#fb9f3a"
             ],
             [
              0.8888888888888888,
              "#fdca26"
             ],
             [
              1,
              "#f0f921"
             ]
            ],
            "type": "histogram2dcontour"
           }
          ],
          "mesh3d": [
           {
            "colorbar": {
             "outlinewidth": 0,
             "ticks": ""
            },
            "type": "mesh3d"
           }
          ],
          "parcoords": [
           {
            "line": {
             "colorbar": {
              "outlinewidth": 0,
              "ticks": ""
             }
            },
            "type": "parcoords"
           }
          ],
          "pie": [
           {
            "automargin": true,
            "type": "pie"
           }
          ],
          "scatter": [
           {
            "marker": {
             "colorbar": {
              "outlinewidth": 0,
              "ticks": ""
             }
            },
            "type": "scatter"
           }
          ],
          "scatter3d": [
           {
            "line": {
             "colorbar": {
              "outlinewidth": 0,
              "ticks": ""
             }
            },
            "marker": {
             "colorbar": {
              "outlinewidth": 0,
              "ticks": ""
             }
            },
            "type": "scatter3d"
           }
          ],
          "scattercarpet": [
           {
            "marker": {
             "colorbar": {
              "outlinewidth": 0,
              "ticks": ""
             }
            },
            "type": "scattercarpet"
           }
          ],
          "scattergeo": [
           {
            "marker": {
             "colorbar": {
              "outlinewidth": 0,
              "ticks": ""
             }
            },
            "type": "scattergeo"
           }
          ],
          "scattergl": [
           {
            "marker": {
             "colorbar": {
              "outlinewidth": 0,
              "ticks": ""
             }
            },
            "type": "scattergl"
           }
          ],
          "scattermapbox": [
           {
            "marker": {
             "colorbar": {
              "outlinewidth": 0,
              "ticks": ""
             }
            },
            "type": "scattermapbox"
           }
          ],
          "scatterpolar": [
           {
            "marker": {
             "colorbar": {
              "outlinewidth": 0,
              "ticks": ""
             }
            },
            "type": "scatterpolar"
           }
          ],
          "scatterpolargl": [
           {
            "marker": {
             "colorbar": {
              "outlinewidth": 0,
              "ticks": ""
             }
            },
            "type": "scatterpolargl"
           }
          ],
          "scatterternary": [
           {
            "marker": {
             "colorbar": {
              "outlinewidth": 0,
              "ticks": ""
             }
            },
            "type": "scatterternary"
           }
          ],
          "surface": [
           {
            "colorbar": {
             "outlinewidth": 0,
             "ticks": ""
            },
            "colorscale": [
             [
              0,
              "#0d0887"
             ],
             [
              0.1111111111111111,
              "#46039f"
             ],
             [
              0.2222222222222222,
              "#7201a8"
             ],
             [
              0.3333333333333333,
              "#9c179e"
             ],
             [
              0.4444444444444444,
              "#bd3786"
             ],
             [
              0.5555555555555556,
              "#d8576b"
             ],
             [
              0.6666666666666666,
              "#ed7953"
             ],
             [
              0.7777777777777778,
              "#fb9f3a"
             ],
             [
              0.8888888888888888,
              "#fdca26"
             ],
             [
              1,
              "#f0f921"
             ]
            ],
            "type": "surface"
           }
          ],
          "table": [
           {
            "cells": {
             "fill": {
              "color": "#EBF0F8"
             },
             "line": {
              "color": "white"
             }
            },
            "header": {
             "fill": {
              "color": "#C8D4E3"
             },
             "line": {
              "color": "white"
             }
            },
            "type": "table"
           }
          ]
         },
         "layout": {
          "annotationdefaults": {
           "arrowcolor": "#2a3f5f",
           "arrowhead": 0,
           "arrowwidth": 1
          },
          "autotypenumbers": "strict",
          "coloraxis": {
           "colorbar": {
            "outlinewidth": 0,
            "ticks": ""
           }
          },
          "colorscale": {
           "diverging": [
            [
             0,
             "#8e0152"
            ],
            [
             0.1,
             "#c51b7d"
            ],
            [
             0.2,
             "#de77ae"
            ],
            [
             0.3,
             "#f1b6da"
            ],
            [
             0.4,
             "#fde0ef"
            ],
            [
             0.5,
             "#f7f7f7"
            ],
            [
             0.6,
             "#e6f5d0"
            ],
            [
             0.7,
             "#b8e186"
            ],
            [
             0.8,
             "#7fbc41"
            ],
            [
             0.9,
             "#4d9221"
            ],
            [
             1,
             "#276419"
            ]
           ],
           "sequential": [
            [
             0,
             "#0d0887"
            ],
            [
             0.1111111111111111,
             "#46039f"
            ],
            [
             0.2222222222222222,
             "#7201a8"
            ],
            [
             0.3333333333333333,
             "#9c179e"
            ],
            [
             0.4444444444444444,
             "#bd3786"
            ],
            [
             0.5555555555555556,
             "#d8576b"
            ],
            [
             0.6666666666666666,
             "#ed7953"
            ],
            [
             0.7777777777777778,
             "#fb9f3a"
            ],
            [
             0.8888888888888888,
             "#fdca26"
            ],
            [
             1,
             "#f0f921"
            ]
           ],
           "sequentialminus": [
            [
             0,
             "#0d0887"
            ],
            [
             0.1111111111111111,
             "#46039f"
            ],
            [
             0.2222222222222222,
             "#7201a8"
            ],
            [
             0.3333333333333333,
             "#9c179e"
            ],
            [
             0.4444444444444444,
             "#bd3786"
            ],
            [
             0.5555555555555556,
             "#d8576b"
            ],
            [
             0.6666666666666666,
             "#ed7953"
            ],
            [
             0.7777777777777778,
             "#fb9f3a"
            ],
            [
             0.8888888888888888,
             "#fdca26"
            ],
            [
             1,
             "#f0f921"
            ]
           ]
          },
          "colorway": [
           "#636efa",
           "#EF553B",
           "#00cc96",
           "#ab63fa",
           "#FFA15A",
           "#19d3f3",
           "#FF6692",
           "#B6E880",
           "#FF97FF",
           "#FECB52"
          ],
          "font": {
           "color": "#2a3f5f"
          },
          "geo": {
           "bgcolor": "white",
           "lakecolor": "white",
           "landcolor": "#E5ECF6",
           "showlakes": true,
           "showland": true,
           "subunitcolor": "white"
          },
          "hoverlabel": {
           "align": "left"
          },
          "hovermode": "closest",
          "mapbox": {
           "style": "light"
          },
          "paper_bgcolor": "white",
          "plot_bgcolor": "#E5ECF6",
          "polar": {
           "angularaxis": {
            "gridcolor": "white",
            "linecolor": "white",
            "ticks": ""
           },
           "bgcolor": "#E5ECF6",
           "radialaxis": {
            "gridcolor": "white",
            "linecolor": "white",
            "ticks": ""
           }
          },
          "scene": {
           "xaxis": {
            "backgroundcolor": "#E5ECF6",
            "gridcolor": "white",
            "gridwidth": 2,
            "linecolor": "white",
            "showbackground": true,
            "ticks": "",
            "zerolinecolor": "white"
           },
           "yaxis": {
            "backgroundcolor": "#E5ECF6",
            "gridcolor": "white",
            "gridwidth": 2,
            "linecolor": "white",
            "showbackground": true,
            "ticks": "",
            "zerolinecolor": "white"
           },
           "zaxis": {
            "backgroundcolor": "#E5ECF6",
            "gridcolor": "white",
            "gridwidth": 2,
            "linecolor": "white",
            "showbackground": true,
            "ticks": "",
            "zerolinecolor": "white"
           }
          },
          "shapedefaults": {
           "line": {
            "color": "#2a3f5f"
           }
          },
          "ternary": {
           "aaxis": {
            "gridcolor": "white",
            "linecolor": "white",
            "ticks": ""
           },
           "baxis": {
            "gridcolor": "white",
            "linecolor": "white",
            "ticks": ""
           },
           "bgcolor": "#E5ECF6",
           "caxis": {
            "gridcolor": "white",
            "linecolor": "white",
            "ticks": ""
           }
          },
          "title": {
           "x": 0.05
          },
          "xaxis": {
           "automargin": true,
           "gridcolor": "white",
           "linecolor": "white",
           "ticks": "",
           "title": {
            "standoff": 15
           },
           "zerolinecolor": "white",
           "zerolinewidth": 2
          },
          "yaxis": {
           "automargin": true,
           "gridcolor": "white",
           "linecolor": "white",
           "ticks": "",
           "title": {
            "standoff": 15
           },
           "zerolinecolor": "white",
           "zerolinewidth": 2
          }
         }
        },
        "xaxis": {
         "anchor": "y",
         "domain": [
          0,
          1
         ],
         "title": {
          "text": "now_cost"
         }
        },
        "yaxis": {
         "anchor": "x",
         "domain": [
          0,
          1
         ],
         "title": {
          "text": "total_points"
         }
        }
       }
      },
      "text/html": [
       "<div>                            <div id=\"a48a86a9-9d64-49cc-9acb-ad901d737740\" class=\"plotly-graph-div\" style=\"height:525px; width:100%;\"></div>            <script type=\"text/javascript\">                require([\"plotly\"], function(Plotly) {                    window.PLOTLYENV=window.PLOTLYENV || {};                                    if (document.getElementById(\"a48a86a9-9d64-49cc-9acb-ad901d737740\")) {                    Plotly.newPlot(                        \"a48a86a9-9d64-49cc-9acb-ad901d737740\",                        [{\"customdata\": [[\"\\u00d6zil\"], [\"Papastathopoulos\"], [\"Luiz Moreira Marinho\"], [\"Aubameyang\"], [\"Soares\"], [\"Lacazette\"], [\"Mustafi\"], [\"Leno\"], [\"Xhaka\"], [\"Mar\\u00ed\"], [\"Beller\\u00edn\"], [\"Chambers\"], [\"Kolasinac\"], [\"Holding\"], [\"Tierney\"], [\"P\\u00e9p\\u00e9\"], [\"Torreira\"], [\"Nelson\"], [\"Nketiah\"], [\"Smith Rowe\"], [\"Saka\"], [\"Guendouzi\"], [\"Martinelli Silva\"], [\"Saliba\"], [\"Ryan\"], [\"Borges Da Silva\"], [\"Magalh\\u00e3es\"], [\"Ceballos Fern\\u00e1ndez\"], [\"El Sayed Elneny\"], [\"Macey\"], [\"R\\u00fanarsson\"], [\"Partey\"], [\"\\u00d8degaard\"], [\"Mart\\u00ednez\"], [\"Heaton\"], [\"El Mohamady\"], [\"Lansbury\"], [\"Taylor\"], [\"Steer\"], [\"Hourihane\"], [\"Peleteiro Romallo\"], [\"Nyland\"], [\"Engels\"], [\"Grealish\"], [\"McGinn\"], [\"Hause\"], [\"Ibrahim Hassan\"], [\"Mings\"], [\"Targett\"], [\"Bree\"], [\"Nakamba\"], [\"El Ghazi\"], [\"Konsa Ngoyo\"], [\"Guilbert\"], [\"Moraes\"], [\"Samatta\"], [\"Davis\"], [\"Vassilev\"], [\"Soares de Paulo\"], [\"Barkley\"], [\"Cash\"], [\"Watkins\"], [\"Traor\\u00e9\"], [\"Ramsey\"], [\"Sanson\"], [\"Hayden\"], [\"Chukwuemeka\"], [\"Philogene-Bidace\"], [\"Murray\"], [\"Lallana\"], [\"Gro\\u00df\"], [\"Duffy\"], [\"Pr\\u00f6pper\"], [\"Mooy\"], [\"Burn\"], [\"Dunk\"], [\"Montoya\"], [\"Andone\"], [\"March\"], [\"Webster\"], [\"Veltman\"], [\"Maupay\"], [\"Trossard\"], [\"Jahanbakhsh\"], [\"Izquierdo\"], [\"Clarke\"], [\"White\"], [\"Fernandes da Silva Junior\"], [\"Bissouma\"], [\"Lamptey\"], [\"Connolly\"], [\"Alzate\"], [\"Mac Allister\"], [\"Walton\"], [\"Steele\"], [\"Molumby\"], [\"Zeqiri\"], [\"Welbeck\"], [\"S\\u00e1nchez\"], [\"Tau\"], [\"Moder\"], [\"Khadra\"], [\"Jenks\"], [\"Sanders\"], [\"Weir\"], [\"McGill\"], [\"Karbownik\"], [\"Caicedo\"], [\"Stephens\"], [\"Tarkowski\"], [\"Bardsley\"], [\"Pieters\"], [\"Cork\"], [\"Long\"], [\"Rodriguez\"], [\"Barnes\"], [\"Mee\"], [\"Westwood\"], [\"Gudmundsson\"], [\"Wood\"], [\"Lowton\"], [\"Vydra\"], [\"Gibson\"], [\"Brady\"], [\"Pope\"], [\"Taylor\"], [\"Brownhill\"], [\"Peacock-Farrell\"], [\"McNeil\"], [\"Dunne\"], [\"Thomas\"], [\"Benson\"], [\"Driscoll-Glennon\"], [\"Goodridge\"], [\"Norris\"], [\"Thompson\"], [\"Richardson\"], [\"Mancini\"], [\"Mumbongo\"], [\"Nartey\"], [\"Caballero\"], [\"Azpilicueta\"], [\"Giroud\"], [\"Alonso\"], [\"Frello Filho\"], [\"Kovacic\"], [\"R\\u00fcdiger\"], [\"Zouma\"], [\"Palmieri dos Santos\"], [\"Arrizabalaga\"], [\"Kant\\u00e9\"], [\"Ziyech\"], [\"Christensen\"], [\"Werner\"], [\"Abraham\"], [\"Pulisic\"], [\"Mount\"], [\"Tomori\"], [\"Hudson-Odoi\"], [\"James\"], [\"Gilmour\"], [\"Chilwell\"], [\"Thiago\"], [\"Havertz\"], [\"Mendy\"], [\"Ziger\"], [\"Anjorin\"], [\"Batshuayi\"], [\"Cahill\"], [\"Hennessey\"], [\"Sakho\"], [\"Guaita\"], [\"Tomkins\"], [\"McArthur\"], [\"McCarthy\"], [\"Benteke\"], [\"Kouyat\\u00e9\"], [\"Ward\"], [\"Kelly\"], [\"Wickham\"], [\"Townsend\"], [\"Milivojevic\"], [\"van Aanholt\"], [\"Ayew\"], [\"Zaha\"], [\"Schlupp\"], [\"Meyer\"], [\"Riedewald\"], [\"Ferguson\"], [\"Mitchell\"], [\"Pierrick\"], [\"Dann\"], [\"Eze\"], [\"Woods\"], [\"Inniss\"], [\"Clyne\"], [\"Henderson\"], [\"Butland\"], [\"Mateta\"], [\"Hannam\"], [\"Delph\"], [\"Sigurdsson\"], [\"L\\u00f6ssl\"], [\"Coleman\"], [\"Tosun\"], [\"An\\u00edcio Caldeira Duarte\"], [\"Digne\"], [\"Keane\"], [\"Pickford\"], [\"Tavares Gomes\"], [\"Iwobi\"], [\"Kenny\"], [\"Gbamin\"], [\"Mina\"], [\"Davies\"], [\"Calvert-Lewin\"], [\"Holgate\"], [\"de Andrade\"], [\"Virg\\u00ednia\"], [\"Gordon\"], [\"Kean\"], [\"Branthwaite\"], [\"Marques Loureiro\"], [\"Rodr\\u00edguez\"], [\"Doucour\\u00e9\"], [\"Nkounkou\"], [\"Godfrey\"], [\"Olsen\"], [\"Simms\"], [\"Onyango\"], [\"King\"], [\"John\"], [\"Broadhead\"], [\"Astley\"], [\"Tyrer\"], [\"Loftus-Cheek\"], [\"Agosto Ram\\u00edrez\"], [\"McDonald\"], [\"Le Marchand\"], [\"Johansen\"], [\"Cairney\"], [\"Ream\"], [\"Knockaert\"], [\"Hector\"], [\"Christie\"], [\"Kebano\"], [\"Decordova-Reid\"], [\"Bryan\"], [\"Bettinelli\"], [\"Mitrovi\\u0107\"], [\"Mawson\"], [\"Rod\\u00e1k\"], [\"Neves Abreu Cavaleiro\"], [\"Onomah\"], [\"Seri\"], [\"Kamara\"], [\"Zambo Anguissa\"], [\"Sessegnon\"], [\"Reed\"], [\"Robinson\"], [\"Lemina\"], [\"Areola\"], [\"Tete\"], [\"Odoi\"], [\"Lookman\"], [\"Aina\"], [\"Andersen\"], [\"Adarabioyo\"], [\"Kongolo\"], [\"Maja\"], [\"Morgan\"], [\"Schmeichel\"], [\"Fuchs\"], [\"Evans\"], [\"Silva\"], [\"Albrighton\"], [\"James\"], [\"Ward\"], [\"Vardy\"], [\"Praet\"], [\"Barbosa Pereira\"], [\"Amartey\"], [\"Tielemans\"], [\"P\\u00e9rez\"], [\"Gray\"], [\"Maddison\"], [\"Iheanacho\"], [\"Choudhury\"], [\"Barnes\"], [\"Ndidi\"], [\"Benkovic\"], [\"S\\u00f6y\\u00fcnc\\u00fc\"], [\"Justin\"], [\"Thomas\"], [\"Castagne\"], [\"Mendy\"], [\"\\u00dcnder\"], [\"Fofana\"], [\"Slimani\"], [\"Daley-Campbell\"], [\"Leshabela\"], [\"Tavares\"], [\"Flynn\"], [\"Suengchitthawon\"], [\"Hern\\u00e1ndez Dom\\u00ednguez\"], [\"Casilla Cort\\u00e9s\"], [\"Cooper\"], [\"Douglas\"], [\"Ayling\"], [\"Klich\"], [\"Forshaw\"], [\"Dallas\"], [\"Alioski\"], [\"Bamford\"], [\"Harrison\"], [\"Phillips\"], [\"Sousa de Azevedo e Costa\"], [\"Roberts\"], [\"Grot\"], [\"Miazek\"], [\"Poveda-Ocampo\"], [\"Shackleton\"], [\"Struijk\"], [\"Stevens\"], [\"Meslier\"], [\"Davis\"], [\"Casey\"], [\"Koch\"], [\"Moreno\"], [\"Caprile\"], [\"Bogusz\"], [\"Llorente\"], [\"Dias Belloli\"], [\"Jenkins\"], [\"Huggins\"], [\"Cresswell\"], [\"Gelhardt\"], [\"Berardi\"], [\"Milner\"], [\"Tsimikas\"], [\"Wijnaldum\"], [\"Henderson\"], [\"San Miguel del Castillo\"], [\"Matip\"], [\"Shaqiri\"], [\"Oxlade-Chamberlain\"], [\"Firmino\"], [\"van Dijk\"], [\"Man\\u00e9\"], [\"Ramses Becker\"], [\"Tavares\"], [\"Salah\"], [\"Robertson\"], [\"Origi\"], [\"Wilson\"], [\"Alexander-Arnold\"], [\"Gomez\"], [\"Keita\"], [\"Jones\"], [\"Williams\"], [\"Elliott\"], [\"Jota\"], [\"Alc\\u00e1ntara do Nascimento\"], [\"Kelleher\"], [\"Phillips\"], [\"Williams\"], [\"Clarkson\"], [\"Cain\"], [\"Kabak\"], [\"Davies\"], [\"Hughes\"], [\"Ojrzynski\"], [\"Luiz Rosa\"], [\"Bravo\"], [\"Ag\\u00fcero\"], [\"Otamendi\"], [\"Walker\"], [\"G\\u00fcndogan\"], [\"De Bruyne\"], [\"Stones\"], [\"Mendy\"], [\"Mahrez\"], [\"Sterling\"], [\"Cancelo\"], [\"Santana de Moraes\"], [\"Ak\\u00e9\"], [\"Laporte\"], [\"Veiga de Carvalho e Silva\"], [\"de Jesus\"], [\"Zinchenko\"], [\"Foden\"], [\"Doyle\"], [\"Hernandez\"], [\"Torres\"], [\"Garcia\"], [\"Bernab\\u00e9\"], [\"Steffen\"], [\"Delap\"], [\"Palmer\"], [\"Gato Alves Dias\"], [\"Trafford\"], [\"Carson\"], [\"Nmecha\"], [\"Mbete\"], [\"Harwood-Bellis\"], [\"Gomes\"], [\"Romero\"], [\"Mata\"], [\"de Gea\"], [\"Smalling\"], [\"Ighalo\"], [\"Rojo\"], [\"Matic\"], [\"Pogba\"], [\"Jones\"], [\"Maguire\"], [\"Rodrigues de Paula Santos\"], [\"Shaw\"], [\"Borges Fernandes\"], [\"Martial\"], [\"Pereira\"], [\"Henderson\"], [\"Rashford\"], [\"Tuanzebe\"], [\"Lindel\\u00f6f\"], [\"McTominay\"], [\"Bailly\"], [\"James\"], [\"Fosu-Mensah\"], [\"Wan-Bissaka\"], [\"Dalot Teixeira\"], [\"Greenwood\"], [\"Chong\"], [\"Garner\"], [\"Williams\"], [\"Mengi\"], [\"van de Beek\"], [\"Telles\"], [\"Cavani\"], [\"Pellistri\"], [\"Grant\"], [\"Diallo\"], [\"Shoretire\"], [\"Bishop\"], [\"Willock\"], [\"Carroll\"], [\"Shelvey\"], [\"Ritchie\"], [\"Fern\\u00e1ndez\"], [\"Clark\"], [\"Darlow\"], [\"Dubravka\"], [\"Lejeune\"], [\"Lascelles\"], [\"Gayle\"], [\"Atsu\"], [\"Dummett\"], [\"Manquillo\"], [\"Krafth\"], [\"Sch\\u00e4r\"], [\"Yedlin\"], [\"Hayden\"], [\"Aarons\"], [\"Saint-Maximin\"], [\"Almir\\u00f3n\"], [\"Apolin\\u00e1rio de Lira\"], [\"Muto\"], [\"Watts\"], [\"Longstaff\"], [\"Hendrick\"], [\"Longstaff\"], [\"Gillespie\"], [\"Murphy\"], [\"Wilson\"], [\"Fraser\"], [\"Lewis\"], [\"Anderson\"], [\"Langley\"], [\"Brewster\"], [\"Sharp\"], [\"McGoldrick\"], [\"Basham\"], [\"Fleck\"], [\"Stevens\"], [\"Moore\"], [\"Norwood\"], [\"Foderingham\"], [\"Baldock\"], [\"Robinson\"], [\"Egan\"], [\"O'Connell\"], [\"Lundstram\"], [\"Osborn\"], [\"McBurnie\"], [\"Mousset\"], [\"Berge\"], [\"Burke\"], [\"Freeman\"], [\"Ramsdale\"], [\"Ampadu\"], [\"Bogle\"], [\"Lowe\"], [\"Jagielka\"], [\"Verrips\"], [\"Bryan\"], [\"Hackford\"], [\"Gordon\"], [\"Ndiaye\"], [\"Brunt\"], [\"Maguire\"], [\"Walcott\"], [\"Minamino\"], [\"Long\"], [\"Bertrand\"], [\"McCarthy\"], [\"Romeu Vidal\"], [\"Redmond\"], [\"Ings\"], [\"Stephens\"], [\"Armstrong\"], [\"Vestergaard\"], [\"Ward-Prowse\"], [\"Gunn\"], [\"Boufal\"], [\"Sims\"], [\"Walker-Peters\"], [\"Bednarek\"], [\"Adams\"], [\"Valery\"], [\"Smallbone\"], [\"Vokins\"], [\"Obafemi\"], [\"Djenepo\"], [\"Salisu\"], [\"Forster\"], [\"Tella\"], [\"Diallo\"], [\"N'Lundulu\"], [\"Ramsay\"], [\"Chauke\"], [\"Lewis\"], [\"Ferry\"], [\"Tchaptchet\"], [\"Watts\"], [\"Jankewitz\"], [\"Finnigan\"], [\"Lloris\"], [\"Rose\"], [\"Sissoko\"], [\"Alderweireld\"], [\"Lamela\"], [\"Kane\"], [\"Aurier\"], [\"Son\"], [\"Dier\"], [\"Rodrigues Moura da Silva\"], [\"Gazzaniga\"], [\"Alli\"], [\"Davies\"], [\"H\\u00f8jbjerg\"], [\"Winks\"], [\"S\\u00e1nchez\"], [\"Sessegnon\"], [\"Bergwijn\"], [\"Carvalho Fernandes\"], [\"Tanganga\"], [\"Lo Celso\"], [\"Skipp\"], [\"Ndombele\"], [\"Foyth\"], [\"Doherty\"], [\"Hart\"], [\"Carter-Vickers\"], [\"Reguil\\u00f3n\"], [\"Bale\"], [\"Alves Morais\"], [\"Rodon\"], [\"Devine\"], [\"Scarlett\"], [\"Maitland-Niles\"], [\"Button\"], [\"Robinson\"], [\"Gibbs\"], [\"Robson-Kanu\"], [\"Livermore\"], [\"Grosicki\"], [\"Phillips\"], [\"Bartley\"], [\"Sawyers\"], [\"Hegazy\"], [\"Austin\"], [\"Zohore\"], [\"Johnstone\"], [\"Townsend\"], [\"Ajayi\"], [\"Leko\"], [\"Edwards\"], [\"Furlong\"], [\"Field\"], [\"O'Shea\"], [\"Harper\"], [\"Snodgrass\"], [\"Diangana\"], [\"Pereira\"], [\"Kipre\"], [\"Ivanovic\"], [\"Gallagher\"], [\"Krovinovic\"], [\"Grant\"], [\"Peltier\"], [\"Diaby\"], [\"Lonergan\"], [\"Diagne\"], [\"Yokuslu\"], [\"Lingard\"], [\"Noble\"], [\"Martin\"], [\"Randolph\"], [\"Fabianski\"], [\"Ogbonna\"], [\"Jimenez Gago\"], [\"Wilshere\"], [\"Cresswell\"], [\"Yarmolenko\"], [\"Antonio\"], [\"Fredericks\"], [\"Lanzini\"], [\"Pereira Gomes\"], [\"Haller\"], [\"Masuaku\"], [\"Balbuena\"], [\"Hugill\"], [\"Bowen\"], [\"Ajeti\"], [\"Rice\"], [\"Soucek\"], [\"Fornals\"], [\"Diop\"], [\"Johnson\"], [\"Coufal\"], [\"Dawson\"], [\"Benrahma\"], [\"Alves\"], [\"Odubeko\"], [\"Coventry\"], [\"Baptiste\"], [\"Trott\"], [\"Ruddy\"], [\"Santos Moutinho\"], [\"dos Santos Patr\\u00edcio\"], [\"Bennett\"], [\"Boly\"], [\"Coady\"], [\"Jim\\u00e9nez\"], [\"Sa\\u00efss\"], [\"Castro Otto\"], [\"Bonatini\"], [\"Dendoncker\"], [\"Traor\\u00e9\"], [\"da Silva Neves\"], [\"Buur\"], [\"Castelo Podence\"], [\"Kilman\"], [\"Silva Nascimento Vinagre\"], [\"Sarkic\"], [\"Gibbs-White\"], [\"Lomba Neto\"], [\"Cavaco Jordao\"], [\"Campana\"], [\"Silva\"], [\"Mar\\u00e7al\"], [\"Ferreira\"], [\"Hoever\"], [\"Cabral Semedo\"], [\"Shabani\"], [\"Ait Nouri\"], [\"Otasowie\"], [\"Corbeanu\"], [\"Perry\"], [\"Cundle\"], [\"Richards\"], [\"Marques\"], [\"S\\u00f6ndergaard\"], [\"Cutrone\"], [\"Lonwijk\"], [\"Da Silva\"], [\"Bueno\"]], \"hovertemplate\": \"now_cost=%{x}<br>total_points=%{y}<br>second_name=%{customdata[0]}<extra></extra>\", \"legendgroup\": \"\", \"marker\": {\"color\": \"#636efa\", \"symbol\": \"circle\"}, \"mode\": \"markers\", \"name\": \"\", \"orientation\": \"v\", \"showlegend\": false, \"type\": \"scatter\", \"x\": [67, 48, 54, 114, 46, 82, 50, 50, 52, 44, 50, 45, 48, 42, 53, 76, 47, 51, 53, 42, 52, 47, 49, 40, 42, 75, 49, 47, 42, 40, 44, 49, 60, 54, 45, 43, 43, 42, 39, 59, 59, 40, 44, 75, 55, 44, 52, 54, 51, 45, 43, 53, 47, 43, 60, 59, 42, 43, 48, 59, 50, 66, 59, 45, 55, 45, 45, 45, 48, 62, 58, 43, 47, 50, 42, 50, 45, 48, 50, 43, 44, 61, 58, 54, 55, 44, 45, 39, 44, 46, 52, 42, 53, 40, 39, 45, 50, 55, 45, 49, 50, 45, 45, 45, 45, 39, 45, 50, 42, 53, 44, 43, 50, 43, 58, 60, 49, 53, 54, 62, 44, 48, 39, 50, 55, 44, 49, 40, 57, 38, 39, 45, 39, 45, 40, 45, 45, 44, 45, 40, 46, 59, 67, 57, 47, 53, 47, 53, 47, 47, 49, 79, 47, 92, 71, 82, 71, 47, 57, 50, 44, 58, 56, 82, 52, 40, 45, 57, 45, 43, 44, 48, 44, 52, 43, 55, 48, 43, 41, 44, 55, 56, 54, 56, 71, 53, 47, 44, 38, 38, 43, 42, 58, 40, 40, 45, 40, 45, 55, 40, 48, 68, 43, 48, 60, 57, 62, 51, 48, 53, 59, 43, 50, 55, 52, 76, 48, 79, 43, 43, 57, 39, 52, 77, 52, 40, 50, 45, 45, 45, 52, 40, 45, 40, 40, 59, 39, 47, 41, 47, 52, 42, 50, 41, 42, 47, 53, 45, 43, 55, 43, 43, 53, 46, 46, 48, 45, 43, 44, 44, 45, 46, 43, 42, 50, 45, 45, 45, 43, 54, 44, 54, 45, 55, 44, 52, 43, 43, 101, 52, 59, 39, 65, 60, 51, 71, 58, 46, 67, 48, 43, 53, 49, 41, 57, 42, 57, 50, 49, 40, 44, 44, 45, 45, 57, 42, 43, 38, 44, 52, 48, 51, 43, 66, 54, 49, 50, 46, 47, 40, 42, 48, 40, 43, 47, 38, 38, 43, 57, 40, 43, 44, 56, 45, 45, 40, 45, 40, 53, 49, 53, 54, 42, 54, 64, 63, 90, 62, 118, 59, 54, 124, 71, 51, 51, 73, 52, 52, 44, 38, 43, 69, 55, 45, 40, 40, 45, 45, 50, 48, 40, 40, 54, 45, 103, 49, 61, 60, 119, 52, 59, 82, 113, 60, 61, 54, 60, 74, 92, 55, 60, 44, 53, 69, 47, 45, 44, 43, 44, 62, 40, 39, 45, 40, 40, 45, 49, 58, 53, 49, 61, 48, 47, 76, 48, 55, 53, 53, 116, 86, 48, 52, 95, 41, 48, 49, 48, 62, 43, 57, 48, 70, 44, 44, 42, 39, 66, 53, 78, 52, 40, 54, 45, 40, 47, 51, 53, 49, 47, 45, 49, 48, 43, 42, 59, 52, 44, 42, 42, 49, 43, 46, 48, 51, 56, 57, 48, 39, 46, 45, 48, 43, 49, 65, 56, 42, 45, 39, 43, 55, 52, 46, 56, 50, 43, 45, 43, 49, 42, 47, 47, 49, 47, 56, 58, 49, 41, 50, 46, 43, 43, 42, 39, 40, 39, 44, 40, 45, 45, 44, 58, 60, 51, 50, 44, 45, 64, 84, 46, 55, 47, 59, 43, 54, 43, 47, 48, 58, 47, 43, 39, 46, 54, 43, 40, 43, 45, 45, 40, 44, 40, 45, 40, 45, 45, 45, 56, 47, 47, 54, 57, 117, 52, 94, 47, 66, 43, 74, 46, 49, 51, 52, 47, 70, 47, 49, 69, 44, 59, 43, 56, 43, 39, 55, 93, 69, 50, 44, 45, 46, 39, 52, 43, 52, 47, 52, 51, 44, 46, 41, 51, 48, 45, 44, 48, 45, 47, 45, 48, 42, 43, 56, 50, 53, 43, 44, 55, 49, 56, 40, 45, 40, 60, 45, 63, 45, 39, 43, 50, 47, 45, 49, 59, 55, 67, 42, 64, 61, 61, 43, 41, 55, 59, 55, 47, 53, 58, 43, 39, 46, 45, 60, 40, 45, 45, 40, 40, 43, 52, 53, 44, 54, 48, 81, 49, 54, 48, 46, 60, 51, 39, 53, 39, 41, 44, 49, 57, 43, 48, 52, 47, 47, 44, 52, 44, 50, 45, 45, 45, 45, 40, 39, 40, 59, 40, 68, 40], \"xaxis\": \"x\", \"y\": [0.0, 0.0, 40.0, 108.0, 28.0, 111.0, 3.0, 104.0, 57.0, 21.0, 83.0, 8.0, 2.0, 75.0, 78.0, 63.0, 0.0, 2.0, 27.0, 46.0, 96.0, 0.0, 11.0, 0.0, 29.0, 63.0, 53.0, 41.0, 30.0, 0.0, 1.0, 30.0, 23.0, 157.0, 0.0, 30.0, 0.0, -1.0, 0.0, 20.0, 0.0, 0.0, 0.0, 129.0, 87.0, 28.0, 54.0, 114.0, 118.0, 0.0, 16.0, 71.0, 102.0, 0.0, 0.0, 0.0, 12.0, 0.0, 58.0, 62.0, 87.0, 127.0, 95.0, 19.0, 10.0, 0.0, 0.0, 0.0, 0.0, 49.0, 85.0, 0.0, 9.0, 0.0, 39.0, 102.0, 0.0, 0.0, 69.0, 61.0, 76.0, 99.0, 109.0, 16.0, 0.0, 0.0, 81.0, 5.0, 60.0, 35.0, 36.0, 29.0, 39.0, 0.0, 0.0, 1.0, 6.0, 59.0, 73.0, 3.0, 7.0, 1.0, 0.0, 0.0, 0.0, 0.0, 0.0, 0.0, 8.0, 84.0, 2.0, 49.0, 18.0, 14.0, 48.0, 48.0, 87.0, 79.0, 41.0, 93.0, 83.0, 41.0, 0.0, 44.0, 130.0, 64.0, 55.0, 0.0, 87.0, 8.0, 0.0, 10.0, 0.0, 0.0, 0.0, 0.0, 2.0, 0.0, 2.0, 0.0, 1.0, 97.0, 44.0, 42.0, 93.0, 50.0, 64.0, 86.0, 7.0, 15.0, 55.0, 51.0, 40.0, 106.0, 67.0, 50.0, 123.0, 0.0, 51.0, 87.0, 2.0, 104.0, 73.0, 59.0, 113.0, 0.0, 0.0, 40.0, 39.0, 0.0, 4.0, 109.0, 15.0, 45.0, 18.0, 66.0, 69.0, 56.0, 0.0, 0.0, 76.0, 55.0, 52.0, 61.0, 111.0, 51.0, 0.0, 56.0, 0.0, 35.0, 0.0, 33.0, 89.0, 0.0, 0.0, 28.0, 0.0, 0.0, 13.0, 0.0, 6.0, 88.0, 0.0, 43.0, 4.0, 18.0, 76.0, 100.0, 79.0, 40.0, 58.0, 5.0, 1.0, 63.0, 36.0, 138.0, 60.0, 96.0, 2.0, 3.0, 2.0, 0.0, 29.0, 88.0, 71.0, 1.0, 57.0, 15.0, 0.0, 0.0, 8.0, 0.0, 0.0, 0.0, 0.0, 60.0, 0.0, 0.0, 1.0, 0.0, 27.0, 7.0, 0.0, 0.0, 0.0, 6.0, 70.0, 13.0, 0.0, 59.0, 0.0, 1.0, 71.0, 7.0, 0.0, 8.0, 65.0, 0.0, 63.0, 52.0, 45.0, 112.0, 47.0, 1.0, 96.0, 94.0, 88.0, 92.0, 1.0, 26.0, 3.0, 115.0, 24.0, 78.0, 0.0, 52.0, 0.0, 0.0, 149.0, 35.0, 23.0, 20.0, 113.0, 47.0, 1.0, 120.0, 57.0, 13.0, 126.0, 59.0, 0.0, 37.0, 101.0, 5.0, 68.0, 38.0, 16.0, 59.0, 1.0, 0.0, 1.0, 3.0, 0.0, 0.0, 20.0, 2.0, 54.0, 0.0, 74.0, 85.0, 0.0, 124.0, 76.0, 158.0, 124.0, 51.0, 56.0, 31.0, 0.0, 0.0, 10.0, 16.0, 52.0, 0.0, 127.0, 2.0, 0.0, 34.0, 56.0, 0.0, 0.0, 20.0, 113.0, 0.0, 1.0, 0.0, 0.0, 0.0, 39.0, 1.0, 79.0, 56.0, 11.0, 42.0, 24.0, 12.0, 104.0, 15.0, 126.0, 95.0, 53.0, 182.0, 120.0, 10.0, 0.0, 106.0, 10.0, 15.0, 43.0, 10.0, 0.0, 69.0, 30.0, 10.0, 35.0, 6.0, 0.0, 0.0, 21.0, 0.0, 0.0, 0.0, 44.0, 0.0, 17.0, 0.0, 82.0, 142.0, 128.0, 122.0, 46.0, 132.0, 136.0, 122.0, 134.0, 21.0, 50.0, 74.0, 97.0, 56.0, 108.0, 0.0, 72.0, 55.0, 4.0, 0.0, 2.0, 1.0, 0.0, 133.0, 0.0, 0.0, 0.0, 0.0, 0.0, 0.0, 0.0, 20.0, 87.0, 0.0, 1.0, 0.0, 29.0, 72.0, 0.0, 115.0, 52.0, 110.0, 214.0, 75.0, 0.0, 27.0, 148.0, 2.0, 88.0, 79.0, 27.0, 35.0, 0.0, 122.0, 0.0, 56.0, 0.0, 0.0, 2.0, 0.0, 19.0, 22.0, 61.0, 0.0, 0.0, 0.0, 1.0, 0.0, 35.0, 28.0, 51.0, 15.0, 34.0, 40.0, 80.0, 18.0, 0.0, 44.0, 22.0, 0.0, 13.0, 28.0, 27.0, 25.0, 13.0, 40.0, 0.0, 53.0, 79.0, 54.0, 0.0, 0.0, 27.0, 49.0, 10.0, 0.0, 42.0, 116.0, 39.0, 43.0, 1.0, 0.0, 27.0, 39.0, 71.0, 38.0, 52.0, 30.0, 0.0, 37.0, 0.0, 44.0, 13.0, 33.0, 3.0, 44.0, 33.0, 43.0, 10.0, 29.0, 39.0, 0.0, 83.0, 42.0, 29.0, 9.0, 4.0, 0.0, 19.0, 1.0, 0.0, 1.0, 0.0, 0.0, 62.0, 41.0, 12.0, 77.0, 82.0, 51.0, 51.0, 106.0, 33.0, 93.0, 80.0, 128.0, 0.0, 0.0, 0.0, 80.0, 89.0, 109.0, 3.0, 5.0, 1.0, 1.0, 42.0, 7.0, 18.0, 15.0, 23.0, 12.0, -3.0, 0.0, 0.0, 0.0, 0.0, 2.0, -1.0, 0.0, 121.0, 0.0, 41.0, 70.0, 23.0, 204.0, 61.0, 180.0, 59.0, 68.0, 0.0, 14.0, 52.0, 81.0, 13.0, 42.0, 0.0, 40.0, 0.0, 8.0, 23.0, 0.0, 88.0, 0.0, 45.0, 0.0, 0.0, 67.0, 59.0, 13.0, 24.0, 0.0, 1.0, 51.0, 2.0, 63.0, 5.0, 12.0, 24.0, 8.0, 49.0, 66.0, 33.0, 6.0, 5.0, 0.0, 101.0, 54.0, 42.0, 0.0, 5.0, 66.0, 3.0, 32.0, 2.0, 14.0, 34.0, 111.0, 0.0, 20.0, 61.0, 17.0, 37.0, 2.0, 0.0, 0.0, 35.0, 17.0, 68.0, 20.0, 0.0, 7.0, 112.0, 82.0, 0.0, 0.0, 136.0, 16.0, 90.0, 24.0, 23.0, 2.0, 41.0, 42.0, 40.0, 0.0, 110.0, 0.0, 76.0, 123.0, 92.0, 28.0, 22.0, 95.0, 65.0, 47.0, 0.0, 0.0, 0.0, 0.0, 0.0, 1.0, 61.0, 107.0, 0.0, 60.0, 87.0, 43.0, 82.0, 16.0, 0.0, 64.0, 65.0, 92.0, 1.0, 66.0, 54.0, 1.0, 0.0, 5.0, 124.0, 0.0, 0.0, 44.0, 18.0, 17.0, 10.0, 77.0, 0.0, 36.0, 7.0, 0.0, 0.0, 0.0, 0.0, 0.0, 0.0, 2.0, 0.0, 23.0, 0.0], \"yaxis\": \"y\"}],                        {\"legend\": {\"tracegroupgap\": 0}, \"margin\": {\"t\": 60}, \"template\": {\"data\": {\"bar\": [{\"error_x\": {\"color\": \"#2a3f5f\"}, \"error_y\": {\"color\": \"#2a3f5f\"}, \"marker\": {\"line\": {\"color\": \"#E5ECF6\", \"width\": 0.5}}, \"type\": \"bar\"}], \"barpolar\": [{\"marker\": {\"line\": {\"color\": \"#E5ECF6\", \"width\": 0.5}}, \"type\": \"barpolar\"}], \"carpet\": [{\"aaxis\": {\"endlinecolor\": \"#2a3f5f\", \"gridcolor\": \"white\", \"linecolor\": \"white\", \"minorgridcolor\": \"white\", \"startlinecolor\": \"#2a3f5f\"}, \"baxis\": {\"endlinecolor\": \"#2a3f5f\", \"gridcolor\": \"white\", \"linecolor\": \"white\", \"minorgridcolor\": \"white\", \"startlinecolor\": \"#2a3f5f\"}, \"type\": \"carpet\"}], \"choropleth\": [{\"colorbar\": {\"outlinewidth\": 0, \"ticks\": \"\"}, \"type\": \"choropleth\"}], \"contour\": [{\"colorbar\": {\"outlinewidth\": 0, \"ticks\": \"\"}, \"colorscale\": [[0.0, \"#0d0887\"], [0.1111111111111111, \"#46039f\"], [0.2222222222222222, \"#7201a8\"], [0.3333333333333333, \"#9c179e\"], [0.4444444444444444, \"#bd3786\"], [0.5555555555555556, \"#d8576b\"], [0.6666666666666666, \"#ed7953\"], [0.7777777777777778, \"#fb9f3a\"], [0.8888888888888888, \"#fdca26\"], [1.0, \"#f0f921\"]], \"type\": \"contour\"}], \"contourcarpet\": [{\"colorbar\": {\"outlinewidth\": 0, \"ticks\": \"\"}, \"type\": \"contourcarpet\"}], \"heatmap\": [{\"colorbar\": {\"outlinewidth\": 0, \"ticks\": \"\"}, \"colorscale\": [[0.0, \"#0d0887\"], [0.1111111111111111, \"#46039f\"], [0.2222222222222222, \"#7201a8\"], [0.3333333333333333, \"#9c179e\"], [0.4444444444444444, \"#bd3786\"], [0.5555555555555556, \"#d8576b\"], [0.6666666666666666, \"#ed7953\"], [0.7777777777777778, \"#fb9f3a\"], [0.8888888888888888, \"#fdca26\"], [1.0, \"#f0f921\"]], \"type\": \"heatmap\"}], \"heatmapgl\": [{\"colorbar\": {\"outlinewidth\": 0, \"ticks\": \"\"}, \"colorscale\": [[0.0, \"#0d0887\"], [0.1111111111111111, \"#46039f\"], [0.2222222222222222, \"#7201a8\"], [0.3333333333333333, \"#9c179e\"], [0.4444444444444444, \"#bd3786\"], [0.5555555555555556, \"#d8576b\"], [0.6666666666666666, \"#ed7953\"], [0.7777777777777778, \"#fb9f3a\"], [0.8888888888888888, \"#fdca26\"], [1.0, \"#f0f921\"]], \"type\": \"heatmapgl\"}], \"histogram\": [{\"marker\": {\"colorbar\": {\"outlinewidth\": 0, \"ticks\": \"\"}}, \"type\": \"histogram\"}], \"histogram2d\": [{\"colorbar\": {\"outlinewidth\": 0, \"ticks\": \"\"}, \"colorscale\": [[0.0, \"#0d0887\"], [0.1111111111111111, \"#46039f\"], [0.2222222222222222, \"#7201a8\"], [0.3333333333333333, \"#9c179e\"], [0.4444444444444444, \"#bd3786\"], [0.5555555555555556, \"#d8576b\"], [0.6666666666666666, \"#ed7953\"], [0.7777777777777778, \"#fb9f3a\"], [0.8888888888888888, \"#fdca26\"], [1.0, \"#f0f921\"]], \"type\": \"histogram2d\"}], \"histogram2dcontour\": [{\"colorbar\": {\"outlinewidth\": 0, \"ticks\": \"\"}, \"colorscale\": [[0.0, \"#0d0887\"], [0.1111111111111111, \"#46039f\"], [0.2222222222222222, \"#7201a8\"], [0.3333333333333333, \"#9c179e\"], [0.4444444444444444, \"#bd3786\"], [0.5555555555555556, \"#d8576b\"], [0.6666666666666666, \"#ed7953\"], [0.7777777777777778, \"#fb9f3a\"], [0.8888888888888888, \"#fdca26\"], [1.0, \"#f0f921\"]], \"type\": \"histogram2dcontour\"}], \"mesh3d\": [{\"colorbar\": {\"outlinewidth\": 0, \"ticks\": \"\"}, \"type\": \"mesh3d\"}], \"parcoords\": [{\"line\": {\"colorbar\": {\"outlinewidth\": 0, \"ticks\": \"\"}}, \"type\": \"parcoords\"}], \"pie\": [{\"automargin\": true, \"type\": \"pie\"}], \"scatter\": [{\"marker\": {\"colorbar\": {\"outlinewidth\": 0, \"ticks\": \"\"}}, \"type\": \"scatter\"}], \"scatter3d\": [{\"line\": {\"colorbar\": {\"outlinewidth\": 0, \"ticks\": \"\"}}, \"marker\": {\"colorbar\": {\"outlinewidth\": 0, \"ticks\": \"\"}}, \"type\": \"scatter3d\"}], \"scattercarpet\": [{\"marker\": {\"colorbar\": {\"outlinewidth\": 0, \"ticks\": \"\"}}, \"type\": \"scattercarpet\"}], \"scattergeo\": [{\"marker\": {\"colorbar\": {\"outlinewidth\": 0, \"ticks\": \"\"}}, \"type\": \"scattergeo\"}], \"scattergl\": [{\"marker\": {\"colorbar\": {\"outlinewidth\": 0, \"ticks\": \"\"}}, \"type\": \"scattergl\"}], \"scattermapbox\": [{\"marker\": {\"colorbar\": {\"outlinewidth\": 0, \"ticks\": \"\"}}, \"type\": \"scattermapbox\"}], \"scatterpolar\": [{\"marker\": {\"colorbar\": {\"outlinewidth\": 0, \"ticks\": \"\"}}, \"type\": \"scatterpolar\"}], \"scatterpolargl\": [{\"marker\": {\"colorbar\": {\"outlinewidth\": 0, \"ticks\": \"\"}}, \"type\": \"scatterpolargl\"}], \"scatterternary\": [{\"marker\": {\"colorbar\": {\"outlinewidth\": 0, \"ticks\": \"\"}}, \"type\": \"scatterternary\"}], \"surface\": [{\"colorbar\": {\"outlinewidth\": 0, \"ticks\": \"\"}, \"colorscale\": [[0.0, \"#0d0887\"], [0.1111111111111111, \"#46039f\"], [0.2222222222222222, \"#7201a8\"], [0.3333333333333333, \"#9c179e\"], [0.4444444444444444, \"#bd3786\"], [0.5555555555555556, \"#d8576b\"], [0.6666666666666666, \"#ed7953\"], [0.7777777777777778, \"#fb9f3a\"], [0.8888888888888888, \"#fdca26\"], [1.0, \"#f0f921\"]], \"type\": \"surface\"}], \"table\": [{\"cells\": {\"fill\": {\"color\": \"#EBF0F8\"}, \"line\": {\"color\": \"white\"}}, \"header\": {\"fill\": {\"color\": \"#C8D4E3\"}, \"line\": {\"color\": \"white\"}}, \"type\": \"table\"}]}, \"layout\": {\"annotationdefaults\": {\"arrowcolor\": \"#2a3f5f\", \"arrowhead\": 0, \"arrowwidth\": 1}, \"autotypenumbers\": \"strict\", \"coloraxis\": {\"colorbar\": {\"outlinewidth\": 0, \"ticks\": \"\"}}, \"colorscale\": {\"diverging\": [[0, \"#8e0152\"], [0.1, \"#c51b7d\"], [0.2, \"#de77ae\"], [0.3, \"#f1b6da\"], [0.4, \"#fde0ef\"], [0.5, \"#f7f7f7\"], [0.6, \"#e6f5d0\"], [0.7, \"#b8e186\"], [0.8, \"#7fbc41\"], [0.9, \"#4d9221\"], [1, \"#276419\"]], \"sequential\": [[0.0, \"#0d0887\"], [0.1111111111111111, \"#46039f\"], [0.2222222222222222, \"#7201a8\"], [0.3333333333333333, \"#9c179e\"], [0.4444444444444444, \"#bd3786\"], [0.5555555555555556, \"#d8576b\"], [0.6666666666666666, \"#ed7953\"], [0.7777777777777778, \"#fb9f3a\"], [0.8888888888888888, \"#fdca26\"], [1.0, \"#f0f921\"]], \"sequentialminus\": [[0.0, \"#0d0887\"], [0.1111111111111111, \"#46039f\"], [0.2222222222222222, \"#7201a8\"], [0.3333333333333333, \"#9c179e\"], [0.4444444444444444, \"#bd3786\"], [0.5555555555555556, \"#d8576b\"], [0.6666666666666666, \"#ed7953\"], [0.7777777777777778, \"#fb9f3a\"], [0.8888888888888888, \"#fdca26\"], [1.0, \"#f0f921\"]]}, \"colorway\": [\"#636efa\", \"#EF553B\", \"#00cc96\", \"#ab63fa\", \"#FFA15A\", \"#19d3f3\", \"#FF6692\", \"#B6E880\", \"#FF97FF\", \"#FECB52\"], \"font\": {\"color\": \"#2a3f5f\"}, \"geo\": {\"bgcolor\": \"white\", \"lakecolor\": \"white\", \"landcolor\": \"#E5ECF6\", \"showlakes\": true, \"showland\": true, \"subunitcolor\": \"white\"}, \"hoverlabel\": {\"align\": \"left\"}, \"hovermode\": \"closest\", \"mapbox\": {\"style\": \"light\"}, \"paper_bgcolor\": \"white\", \"plot_bgcolor\": \"#E5ECF6\", \"polar\": {\"angularaxis\": {\"gridcolor\": \"white\", \"linecolor\": \"white\", \"ticks\": \"\"}, \"bgcolor\": \"#E5ECF6\", \"radialaxis\": {\"gridcolor\": \"white\", \"linecolor\": \"white\", \"ticks\": \"\"}}, \"scene\": {\"xaxis\": {\"backgroundcolor\": \"#E5ECF6\", \"gridcolor\": \"white\", \"gridwidth\": 2, \"linecolor\": \"white\", \"showbackground\": true, \"ticks\": \"\", \"zerolinecolor\": \"white\"}, \"yaxis\": {\"backgroundcolor\": \"#E5ECF6\", \"gridcolor\": \"white\", \"gridwidth\": 2, \"linecolor\": \"white\", \"showbackground\": true, \"ticks\": \"\", \"zerolinecolor\": \"white\"}, \"zaxis\": {\"backgroundcolor\": \"#E5ECF6\", \"gridcolor\": \"white\", \"gridwidth\": 2, \"linecolor\": \"white\", \"showbackground\": true, \"ticks\": \"\", \"zerolinecolor\": \"white\"}}, \"shapedefaults\": {\"line\": {\"color\": \"#2a3f5f\"}}, \"ternary\": {\"aaxis\": {\"gridcolor\": \"white\", \"linecolor\": \"white\", \"ticks\": \"\"}, \"baxis\": {\"gridcolor\": \"white\", \"linecolor\": \"white\", \"ticks\": \"\"}, \"bgcolor\": \"#E5ECF6\", \"caxis\": {\"gridcolor\": \"white\", \"linecolor\": \"white\", \"ticks\": \"\"}}, \"title\": {\"x\": 0.05}, \"xaxis\": {\"automargin\": true, \"gridcolor\": \"white\", \"linecolor\": \"white\", \"ticks\": \"\", \"title\": {\"standoff\": 15}, \"zerolinecolor\": \"white\", \"zerolinewidth\": 2}, \"yaxis\": {\"automargin\": true, \"gridcolor\": \"white\", \"linecolor\": \"white\", \"ticks\": \"\", \"title\": {\"standoff\": 15}, \"zerolinecolor\": \"white\", \"zerolinewidth\": 2}}}, \"xaxis\": {\"anchor\": \"y\", \"domain\": [0.0, 1.0], \"title\": {\"text\": \"now_cost\"}}, \"yaxis\": {\"anchor\": \"x\", \"domain\": [0.0, 1.0], \"title\": {\"text\": \"total_points\"}}},                        {\"responsive\": true}                    ).then(function(){\n",
       "                            \n",
       "var gd = document.getElementById('a48a86a9-9d64-49cc-9acb-ad901d737740');\n",
       "var x = new MutationObserver(function (mutations, observer) {{\n",
       "        var display = window.getComputedStyle(gd).display;\n",
       "        if (!display || display === 'none') {{\n",
       "            console.log([gd, 'removed!']);\n",
       "            Plotly.purge(gd);\n",
       "            observer.disconnect();\n",
       "        }}\n",
       "}});\n",
       "\n",
       "// Listen for the removal of the full notebook cells\n",
       "var notebookContainer = gd.closest('#notebook-container');\n",
       "if (notebookContainer) {{\n",
       "    x.observe(notebookContainer, {childList: true});\n",
       "}}\n",
       "\n",
       "// Listen for the clearing of the current output cell\n",
       "var outputEl = gd.closest('.output');\n",
       "if (outputEl) {{\n",
       "    x.observe(outputEl, {childList: true});\n",
       "}}\n",
       "\n",
       "                        })                };                });            </script>        </div>"
      ]
     },
     "metadata": {},
     "output_type": "display_data"
    }
   ],
   "source": [
    "grouped_se_df = slim_elements_df.groupby(slim_elements_df.position)\n",
    "\n",
    "df_gk = grouped_se_df.get_group(\"Goalkeeper\").copy()\n",
    "df_df = grouped_se_df.get_group(\"Defender\").copy()\n",
    "df_mfd = grouped_se_df.get_group(\"Midfielder\").copy()\n",
    "df_fwd = grouped_se_df.get_group(\"Forward\").copy()\n",
    "\n",
    "df_gk.sort_values(['value'],inplace =True)\n",
    "df_df.sort_values(['value'],inplace =True)\n",
    "df_mfd.sort_values(['value'],inplace =True)\n",
    "df_fwd.sort_values(['value'],inplace =True)\n",
    "\n",
    "\n",
    "fig_ovr_val = px.scatter(slim_elements_df, x=\"now_cost\", y=\"total_points\", hover_data=['second_name'])\n",
    "\n",
    "\n",
    "fig_gk = px.bar(df_gk, x = 'second_name', y = 'value',hover_data = ['team'])\n",
    "fig_df = px.bar(df_df, x = 'second_name', y = 'value',hover_data = ['team'])\n",
    "fig_mfd = px.bar(df_mfd, x = 'second_name', y = 'value',hover_data = ['team'])\n",
    "fig_fwd = px.bar(df_fwd, x = 'second_name', y = 'value',hover_data = ['team'])\n",
    "\n",
    "fig_gk_tp = px.scatter(df_gk, x=\"second_name\", y=\"total_points\", hover_data=['now_cost'])\n",
    "fig_df_tp = px.scatter(df_df, x=\"second_name\", y=\"total_points\", hover_data=['now_cost'])\n",
    "fig_mfd_tp = px.scatter(df_mfd, x=\"second_name\", y=\"total_points\", hover_data=['now_cost'])\n",
    "fig_fwd_tp = px.scatter(df_fwd, x=\"second_name\", y=\"total_points\", hover_data=['now_cost'])\n",
    "\n",
    "fig_gk.add_trace(fig_gk_tp.data[0])\n",
    "fig_df.add_trace(fig_df_tp.data[0])\n",
    "fig_mfd.add_trace(fig_mfd_tp.data[0])\n",
    "fig_fwd.add_trace(fig_fwd_tp.data[0])\n",
    "\n",
    "fig_ovr_val.show()\n",
    "\n",
    "#fig_gk.show()\n",
    "#fig_df.show()\n",
    "#fig_mfd.show()\n",
    "#fig_fwd.show()"
   ]
  },
  {
   "cell_type": "code",
   "execution_count": 403,
   "metadata": {},
   "outputs": [],
   "source": [
    "Venues = {'Team':  ['West Brom','Sheffield Utd','Burnley','Southampton',\n",
    "             'Fulham','Newcastle','Brighton','Crystal Palace',\n",
    "            'Leeds','Wolves','Aston Villa','Arsenal',\n",
    "             'Spurs','West Ham','Leicester','Everton',\n",
    "            'Liverpool','Chelsea','Man Utd','Man City'],\n",
    "        'Ground': ['The Hawthorns','Bramall Lane','Turf Moor',\"St. Mary's Stadium\",\n",
    "                  'Craven Cottage',\"St James' Park\", 'Amex Stadium', 'Selhurst Park',\n",
    "                   'Elland Road','Molineux Stadium','Villa Park','Emirates Stadium',\n",
    "                  'Tottenham Hotspur Stadium','London Stadium','King Power Stadium',\n",
    "                  'Goodison Park','Anfield','Stamford Bridge','Old Trafford','Etihad Stadium']}\n",
    "\n",
    "Venues_df = pd.DataFrame (Venues, columns = ['Team','Ground'])\n",
    "\n",
    "#Venues_df.head(20)"
   ]
  },
  {
   "cell_type": "code",
   "execution_count": 404,
   "metadata": {},
   "outputs": [],
   "source": [
    "filename = \"epl-2020-GMTStandardTime.csv\"\n",
    "\n",
    "fixtures = pd.read_csv(\"/Users/jamesdawson/Desktop/Data analysis /Python/\" + filename) \n",
    "\n",
    "fixtures_filtered = fixtures.loc[fixtures['Round Number'] == 31].copy()\n",
    "\n"
   ]
  },
  {
   "cell_type": "code",
   "execution_count": 405,
   "metadata": {},
   "outputs": [],
   "source": [
    "fixtures_flipped = fixtures.copy()\n",
    "\n",
    "fixtures_flipped.rename(columns={'Home Team': 'Away Team', 'Away Team': 'Home Team'}, inplace=True)\n",
    "\n",
    "fixtures_flipped_filtered = fixtures_flipped.loc[fixtures_flipped['Round Number'] == 31].copy()\n",
    "\n",
    "\n",
    "combined_fixtures = fixtures_filtered.append(fixtures_flipped_filtered, ignore_index=True)\n",
    "\n",
    "\n",
    "combined_fixtures['Ground'] = combined_fixtures['Home Team'].map(Venues_df.set_index('Team')['Ground'].to_dict())\n",
    "\n",
    "\n",
    "def f(row):\n",
    "    if row['Location'] == row['Ground']:\n",
    "        val = 'Home'\n",
    "    else:\n",
    "        val = 'Away'\n",
    "    return val\n",
    "\n",
    "\n",
    "combined_fixtures['Home/Away'] = combined_fixtures.apply(f, axis=1)\n"
   ]
  },
  {
   "cell_type": "code",
   "execution_count": 406,
   "metadata": {},
   "outputs": [
    {
     "data": {
      "text/html": [
       "<div>\n",
       "<style scoped>\n",
       "    .dataframe tbody tr th:only-of-type {\n",
       "        vertical-align: middle;\n",
       "    }\n",
       "\n",
       "    .dataframe tbody tr th {\n",
       "        vertical-align: top;\n",
       "    }\n",
       "\n",
       "    .dataframe thead th {\n",
       "        text-align: right;\n",
       "    }\n",
       "</style>\n",
       "<table border=\"1\" class=\"dataframe\">\n",
       "  <thead>\n",
       "    <tr style=\"text-align: right;\">\n",
       "      <th></th>\n",
       "      <th>first_name</th>\n",
       "      <th>second_name</th>\n",
       "      <th>team</th>\n",
       "      <th>element_type</th>\n",
       "      <th>minutes</th>\n",
       "      <th>now_cost</th>\n",
       "      <th>minutes</th>\n",
       "      <th>value_season</th>\n",
       "      <th>value_form</th>\n",
       "      <th>form</th>\n",
       "      <th>...</th>\n",
       "      <th>unavailable</th>\n",
       "      <th>strength_overall_home</th>\n",
       "      <th>strength_overall_away</th>\n",
       "      <th>opponent</th>\n",
       "      <th>HomeAway</th>\n",
       "      <th>opponent_hso</th>\n",
       "      <th>opponent_aso</th>\n",
       "      <th>HomeAdv</th>\n",
       "      <th>form_adj</th>\n",
       "      <th>Value_Adjusted</th>\n",
       "    </tr>\n",
       "  </thead>\n",
       "  <tbody>\n",
       "    <tr>\n",
       "      <th>200</th>\n",
       "      <td>Fabian</td>\n",
       "      <td>Delph</td>\n",
       "      <td>Everton</td>\n",
       "      <td>3</td>\n",
       "      <td>211</td>\n",
       "      <td>48</td>\n",
       "      <td>211</td>\n",
       "      <td>1.2</td>\n",
       "      <td>0.0</td>\n",
       "      <td>1.2</td>\n",
       "      <td>...</td>\n",
       "      <td>True</td>\n",
       "      <td>1130</td>\n",
       "      <td>1250</td>\n",
       "      <td>Brighton</td>\n",
       "      <td>Away</td>\n",
       "      <td>1130</td>\n",
       "      <td>1130</td>\n",
       "      <td>1.106195</td>\n",
       "      <td>1.010121</td>\n",
       "      <td>1.340869</td>\n",
       "    </tr>\n",
       "    <tr>\n",
       "      <th>201</th>\n",
       "      <td>Gylfi</td>\n",
       "      <td>Sigurdsson</td>\n",
       "      <td>Everton</td>\n",
       "      <td>3</td>\n",
       "      <td>1555</td>\n",
       "      <td>68</td>\n",
       "      <td>1555</td>\n",
       "      <td>12.9</td>\n",
       "      <td>0.0</td>\n",
       "      <td>12.9</td>\n",
       "      <td>...</td>\n",
       "      <td>False</td>\n",
       "      <td>1130</td>\n",
       "      <td>1250</td>\n",
       "      <td>Brighton</td>\n",
       "      <td>Away</td>\n",
       "      <td>1130</td>\n",
       "      <td>1130</td>\n",
       "      <td>1.106195</td>\n",
       "      <td>1.011481</td>\n",
       "      <td>14.433745</td>\n",
       "    </tr>\n",
       "    <tr>\n",
       "      <th>202</th>\n",
       "      <td>Jonas</td>\n",
       "      <td>Lössl</td>\n",
       "      <td>Everton</td>\n",
       "      <td>1</td>\n",
       "      <td>0</td>\n",
       "      <td>43</td>\n",
       "      <td>0</td>\n",
       "      <td>0.0</td>\n",
       "      <td>0.0</td>\n",
       "      <td>0.0</td>\n",
       "      <td>...</td>\n",
       "      <td>True</td>\n",
       "      <td>1130</td>\n",
       "      <td>1250</td>\n",
       "      <td>Brighton</td>\n",
       "      <td>Away</td>\n",
       "      <td>1130</td>\n",
       "      <td>1130</td>\n",
       "      <td>1.106195</td>\n",
       "      <td>1.010000</td>\n",
       "      <td>0.000000</td>\n",
       "    </tr>\n",
       "    <tr>\n",
       "      <th>203</th>\n",
       "      <td>Seamus</td>\n",
       "      <td>Coleman</td>\n",
       "      <td>Everton</td>\n",
       "      <td>2</td>\n",
       "      <td>973</td>\n",
       "      <td>48</td>\n",
       "      <td>973</td>\n",
       "      <td>9.0</td>\n",
       "      <td>0.8</td>\n",
       "      <td>9.0</td>\n",
       "      <td>...</td>\n",
       "      <td>False</td>\n",
       "      <td>1130</td>\n",
       "      <td>1250</td>\n",
       "      <td>Brighton</td>\n",
       "      <td>Away</td>\n",
       "      <td>1130</td>\n",
       "      <td>1130</td>\n",
       "      <td>1.106195</td>\n",
       "      <td>1.010989</td>\n",
       "      <td>10.065156</td>\n",
       "    </tr>\n",
       "    <tr>\n",
       "      <th>204</th>\n",
       "      <td>Cenk</td>\n",
       "      <td>Tosun</td>\n",
       "      <td>Everton</td>\n",
       "      <td>4</td>\n",
       "      <td>44</td>\n",
       "      <td>60</td>\n",
       "      <td>44</td>\n",
       "      <td>0.7</td>\n",
       "      <td>0.0</td>\n",
       "      <td>0.7</td>\n",
       "      <td>...</td>\n",
       "      <td>True</td>\n",
       "      <td>1130</td>\n",
       "      <td>1250</td>\n",
       "      <td>Brighton</td>\n",
       "      <td>Away</td>\n",
       "      <td>1130</td>\n",
       "      <td>1130</td>\n",
       "      <td>1.106195</td>\n",
       "      <td>1.010070</td>\n",
       "      <td>0.782134</td>\n",
       "    </tr>\n",
       "    <tr>\n",
       "      <th>205</th>\n",
       "      <td>Bernard</td>\n",
       "      <td>Anício Caldeira Duarte</td>\n",
       "      <td>Everton</td>\n",
       "      <td>3</td>\n",
       "      <td>390</td>\n",
       "      <td>57</td>\n",
       "      <td>390</td>\n",
       "      <td>3.2</td>\n",
       "      <td>0.0</td>\n",
       "      <td>3.2</td>\n",
       "      <td>...</td>\n",
       "      <td>True</td>\n",
       "      <td>1130</td>\n",
       "      <td>1250</td>\n",
       "      <td>Brighton</td>\n",
       "      <td>Away</td>\n",
       "      <td>1130</td>\n",
       "      <td>1130</td>\n",
       "      <td>1.106195</td>\n",
       "      <td>1.010331</td>\n",
       "      <td>3.576391</td>\n",
       "    </tr>\n",
       "    <tr>\n",
       "      <th>206</th>\n",
       "      <td>Lucas</td>\n",
       "      <td>Digne</td>\n",
       "      <td>Everton</td>\n",
       "      <td>2</td>\n",
       "      <td>1871</td>\n",
       "      <td>62</td>\n",
       "      <td>1871</td>\n",
       "      <td>12.3</td>\n",
       "      <td>0.1</td>\n",
       "      <td>12.3</td>\n",
       "      <td>...</td>\n",
       "      <td>False</td>\n",
       "      <td>1130</td>\n",
       "      <td>1250</td>\n",
       "      <td>Brighton</td>\n",
       "      <td>Away</td>\n",
       "      <td>1130</td>\n",
       "      <td>1130</td>\n",
       "      <td>1.106195</td>\n",
       "      <td>1.011403</td>\n",
       "      <td>13.761339</td>\n",
       "    </tr>\n",
       "    <tr>\n",
       "      <th>207</th>\n",
       "      <td>Michael</td>\n",
       "      <td>Keane</td>\n",
       "      <td>Everton</td>\n",
       "      <td>2</td>\n",
       "      <td>2359</td>\n",
       "      <td>51</td>\n",
       "      <td>2359</td>\n",
       "      <td>19.6</td>\n",
       "      <td>0.2</td>\n",
       "      <td>19.6</td>\n",
       "      <td>...</td>\n",
       "      <td>False</td>\n",
       "      <td>1130</td>\n",
       "      <td>1250</td>\n",
       "      <td>Brighton</td>\n",
       "      <td>Away</td>\n",
       "      <td>1130</td>\n",
       "      <td>1130</td>\n",
       "      <td>1.106195</td>\n",
       "      <td>1.012438</td>\n",
       "      <td>21.951085</td>\n",
       "    </tr>\n",
       "    <tr>\n",
       "      <th>208</th>\n",
       "      <td>Jordan</td>\n",
       "      <td>Pickford</td>\n",
       "      <td>Everton</td>\n",
       "      <td>1</td>\n",
       "      <td>2022</td>\n",
       "      <td>48</td>\n",
       "      <td>2022</td>\n",
       "      <td>16.5</td>\n",
       "      <td>0.0</td>\n",
       "      <td>16.5</td>\n",
       "      <td>...</td>\n",
       "      <td>True</td>\n",
       "      <td>1130</td>\n",
       "      <td>1250</td>\n",
       "      <td>Brighton</td>\n",
       "      <td>Away</td>\n",
       "      <td>1130</td>\n",
       "      <td>1130</td>\n",
       "      <td>1.106195</td>\n",
       "      <td>1.011976</td>\n",
       "      <td>18.470802</td>\n",
       "    </tr>\n",
       "    <tr>\n",
       "      <th>209</th>\n",
       "      <td>André Filipe</td>\n",
       "      <td>Tavares Gomes</td>\n",
       "      <td>Everton</td>\n",
       "      <td>3</td>\n",
       "      <td>1386</td>\n",
       "      <td>53</td>\n",
       "      <td>1386</td>\n",
       "      <td>7.5</td>\n",
       "      <td>0.2</td>\n",
       "      <td>7.5</td>\n",
       "      <td>...</td>\n",
       "      <td>True</td>\n",
       "      <td>1130</td>\n",
       "      <td>1250</td>\n",
       "      <td>Brighton</td>\n",
       "      <td>Away</td>\n",
       "      <td>1130</td>\n",
       "      <td>1130</td>\n",
       "      <td>1.106195</td>\n",
       "      <td>1.010811</td>\n",
       "      <td>8.386152</td>\n",
       "    </tr>\n",
       "  </tbody>\n",
       "</table>\n",
       "<p>10 rows × 28 columns</p>\n",
       "</div>"
      ],
      "text/plain": [
       "       first_name             second_name     team  element_type  minutes  \\\n",
       "200        Fabian                   Delph  Everton             3      211   \n",
       "201         Gylfi              Sigurdsson  Everton             3     1555   \n",
       "202         Jonas                   Lössl  Everton             1        0   \n",
       "203        Seamus                 Coleman  Everton             2      973   \n",
       "204          Cenk                   Tosun  Everton             4       44   \n",
       "205       Bernard  Anício Caldeira Duarte  Everton             3      390   \n",
       "206         Lucas                   Digne  Everton             2     1871   \n",
       "207       Michael                   Keane  Everton             2     2359   \n",
       "208        Jordan                Pickford  Everton             1     2022   \n",
       "209  André Filipe           Tavares Gomes  Everton             3     1386   \n",
       "\n",
       "     now_cost  minutes value_season value_form  form  ...  unavailable  \\\n",
       "200        48      211          1.2        0.0   1.2  ...         True   \n",
       "201        68     1555         12.9        0.0  12.9  ...        False   \n",
       "202        43        0          0.0        0.0   0.0  ...         True   \n",
       "203        48      973          9.0        0.8   9.0  ...        False   \n",
       "204        60       44          0.7        0.0   0.7  ...         True   \n",
       "205        57      390          3.2        0.0   3.2  ...         True   \n",
       "206        62     1871         12.3        0.1  12.3  ...        False   \n",
       "207        51     2359         19.6        0.2  19.6  ...        False   \n",
       "208        48     2022         16.5        0.0  16.5  ...         True   \n",
       "209        53     1386          7.5        0.2   7.5  ...         True   \n",
       "\n",
       "    strength_overall_home strength_overall_away  opponent HomeAway  \\\n",
       "200                  1130                  1250  Brighton     Away   \n",
       "201                  1130                  1250  Brighton     Away   \n",
       "202                  1130                  1250  Brighton     Away   \n",
       "203                  1130                  1250  Brighton     Away   \n",
       "204                  1130                  1250  Brighton     Away   \n",
       "205                  1130                  1250  Brighton     Away   \n",
       "206                  1130                  1250  Brighton     Away   \n",
       "207                  1130                  1250  Brighton     Away   \n",
       "208                  1130                  1250  Brighton     Away   \n",
       "209                  1130                  1250  Brighton     Away   \n",
       "\n",
       "    opponent_hso opponent_aso   HomeAdv  form_adj  Value_Adjusted  \n",
       "200         1130         1130  1.106195  1.010121        1.340869  \n",
       "201         1130         1130  1.106195  1.011481       14.433745  \n",
       "202         1130         1130  1.106195  1.010000        0.000000  \n",
       "203         1130         1130  1.106195  1.010989       10.065156  \n",
       "204         1130         1130  1.106195  1.010070        0.782134  \n",
       "205         1130         1130  1.106195  1.010331        3.576391  \n",
       "206         1130         1130  1.106195  1.011403       13.761339  \n",
       "207         1130         1130  1.106195  1.012438       21.951085  \n",
       "208         1130         1130  1.106195  1.011976       18.470802  \n",
       "209         1130         1130  1.106195  1.010811        8.386152  \n",
       "\n",
       "[10 rows x 28 columns]"
      ]
     },
     "execution_count": 406,
     "metadata": {},
     "output_type": "execute_result"
    }
   ],
   "source": [
    "slim_elements_df['opponent'] = slim_elements_df.team.map(combined_fixtures.set_index('Home Team')['Away Team'].to_dict())\n",
    "\n",
    "slim_elements_df['HomeAway'] = slim_elements_df.team.map(combined_fixtures.set_index('Home Team')['Home/Away'].to_dict())\n",
    "\n",
    "slim_elements_df['opponent_hso'] = slim_elements_df.opponent.map(teams_df.set_index('name')['strength_overall_home'].to_dict())\n",
    "\n",
    "slim_elements_df['opponent_aso'] = slim_elements_df.opponent.map(teams_df.set_index('name')['strength_overall_away'].to_dict())\n",
    "\n",
    "\n",
    "slim_elements_df['HomeAdv'] = np.where(slim_elements_df['HomeAway'] == 'Home',\n",
    "                                        slim_elements_df['strength_overall_home']/slim_elements_df['opponent_aso'],\n",
    "                                        slim_elements_df['strength_overall_away']/slim_elements_df['opponent_hso'])\n",
    "\n",
    "\n",
    "slim_elements_df['form_adj'] = (1 / (100 -(slim_elements_df['form'])) +1)\n",
    "\n",
    "slim_elements_df['Value_Adjusted'] = slim_elements_df['value'] * slim_elements_df['HomeAdv'] * slim_elements_df['form_adj']\n",
    "\n",
    "slim_elements_df[200:210]"
   ]
  },
  {
   "cell_type": "code",
   "execution_count": null,
   "metadata": {},
   "outputs": [],
   "source": []
  },
  {
   "cell_type": "code",
   "execution_count": 407,
   "metadata": {},
   "outputs": [],
   "source": [
    "slim_elements_df_stars = slim_elements_df.copy()\n",
    "\n",
    "slim_elements_df_stars.sort_values(['total_points'],inplace = True, ascending = False)"
   ]
  },
  {
   "cell_type": "code",
   "execution_count": 408,
   "metadata": {},
   "outputs": [],
   "source": [
    "#slim_elements_df_stars.head(5)"
   ]
  },
  {
   "cell_type": "code",
   "execution_count": 417,
   "metadata": {},
   "outputs": [
    {
     "data": {
      "text/html": [
       "<div>\n",
       "<style scoped>\n",
       "    .dataframe tbody tr th:only-of-type {\n",
       "        vertical-align: middle;\n",
       "    }\n",
       "\n",
       "    .dataframe tbody tr th {\n",
       "        vertical-align: top;\n",
       "    }\n",
       "\n",
       "    .dataframe thead th {\n",
       "        text-align: right;\n",
       "    }\n",
       "</style>\n",
       "<table border=\"1\" class=\"dataframe\">\n",
       "  <thead>\n",
       "    <tr style=\"text-align: right;\">\n",
       "      <th></th>\n",
       "      <th>first_name</th>\n",
       "      <th>second_name</th>\n",
       "      <th>team</th>\n",
       "      <th>element_type</th>\n",
       "      <th>minutes</th>\n",
       "      <th>now_cost</th>\n",
       "      <th>minutes</th>\n",
       "      <th>value_season</th>\n",
       "      <th>value_form</th>\n",
       "      <th>form</th>\n",
       "      <th>...</th>\n",
       "      <th>unavailable</th>\n",
       "      <th>strength_overall_home</th>\n",
       "      <th>strength_overall_away</th>\n",
       "      <th>opponent</th>\n",
       "      <th>HomeAway</th>\n",
       "      <th>opponent_hso</th>\n",
       "      <th>opponent_aso</th>\n",
       "      <th>HomeAdv</th>\n",
       "      <th>form_adj</th>\n",
       "      <th>Value_Adjusted</th>\n",
       "    </tr>\n",
       "  </thead>\n",
       "  <tbody>\n",
       "    <tr>\n",
       "      <th>33</th>\n",
       "      <td>Emiliano</td>\n",
       "      <td>Martínez</td>\n",
       "      <td>Aston Villa</td>\n",
       "      <td>1</td>\n",
       "      <td>2610</td>\n",
       "      <td>54</td>\n",
       "      <td>2610</td>\n",
       "      <td>29.1</td>\n",
       "      <td>0.4</td>\n",
       "      <td>29.1</td>\n",
       "      <td>...</td>\n",
       "      <td>False</td>\n",
       "      <td>1160</td>\n",
       "      <td>1100</td>\n",
       "      <td>Liverpool</td>\n",
       "      <td>Away</td>\n",
       "      <td>1210</td>\n",
       "      <td>1250</td>\n",
       "      <td>0.909091</td>\n",
       "      <td>1.014104</td>\n",
       "      <td>26.827670</td>\n",
       "    </tr>\n",
       "    <tr>\n",
       "      <th>324</th>\n",
       "      <td>Illan</td>\n",
       "      <td>Meslier</td>\n",
       "      <td>Leeds</td>\n",
       "      <td>1</td>\n",
       "      <td>2610</td>\n",
       "      <td>47</td>\n",
       "      <td>2610</td>\n",
       "      <td>27.0</td>\n",
       "      <td>0.9</td>\n",
       "      <td>27.0</td>\n",
       "      <td>...</td>\n",
       "      <td>False</td>\n",
       "      <td>1170</td>\n",
       "      <td>1160</td>\n",
       "      <td>Man City</td>\n",
       "      <td>Away</td>\n",
       "      <td>1360</td>\n",
       "      <td>1340</td>\n",
       "      <td>0.852941</td>\n",
       "      <td>1.013699</td>\n",
       "      <td>23.344883</td>\n",
       "    </tr>\n",
       "    <tr>\n",
       "      <th>311</th>\n",
       "      <td>Stuart</td>\n",
       "      <td>Dallas</td>\n",
       "      <td>Leeds</td>\n",
       "      <td>2</td>\n",
       "      <td>2690</td>\n",
       "      <td>51</td>\n",
       "      <td>2690</td>\n",
       "      <td>24.3</td>\n",
       "      <td>0.5</td>\n",
       "      <td>24.3</td>\n",
       "      <td>...</td>\n",
       "      <td>False</td>\n",
       "      <td>1170</td>\n",
       "      <td>1160</td>\n",
       "      <td>Man City</td>\n",
       "      <td>Away</td>\n",
       "      <td>1360</td>\n",
       "      <td>1340</td>\n",
       "      <td>0.852941</td>\n",
       "      <td>1.013210</td>\n",
       "      <td>21.000268</td>\n",
       "    </tr>\n",
       "    <tr>\n",
       "      <th>261</th>\n",
       "      <td>Alphonse</td>\n",
       "      <td>Areola</td>\n",
       "      <td>Fulham</td>\n",
       "      <td>1</td>\n",
       "      <td>2730</td>\n",
       "      <td>46</td>\n",
       "      <td>2730</td>\n",
       "      <td>24.3</td>\n",
       "      <td>0.3</td>\n",
       "      <td>24.3</td>\n",
       "      <td>...</td>\n",
       "      <td>False</td>\n",
       "      <td>1100</td>\n",
       "      <td>1090</td>\n",
       "      <td>Wolves</td>\n",
       "      <td>Home</td>\n",
       "      <td>1110</td>\n",
       "      <td>1080</td>\n",
       "      <td>1.018519</td>\n",
       "      <td>1.013210</td>\n",
       "      <td>25.076948</td>\n",
       "    </tr>\n",
       "    <tr>\n",
       "      <th>313</th>\n",
       "      <td>Patrick</td>\n",
       "      <td>Bamford</td>\n",
       "      <td>Leeds</td>\n",
       "      <td>4</td>\n",
       "      <td>2499</td>\n",
       "      <td>66</td>\n",
       "      <td>2499</td>\n",
       "      <td>23.9</td>\n",
       "      <td>0.5</td>\n",
       "      <td>23.9</td>\n",
       "      <td>...</td>\n",
       "      <td>False</td>\n",
       "      <td>1170</td>\n",
       "      <td>1160</td>\n",
       "      <td>Man City</td>\n",
       "      <td>Away</td>\n",
       "      <td>1360</td>\n",
       "      <td>1340</td>\n",
       "      <td>0.852941</td>\n",
       "      <td>1.013141</td>\n",
       "      <td>20.653169</td>\n",
       "    </tr>\n",
       "  </tbody>\n",
       "</table>\n",
       "<p>5 rows × 28 columns</p>\n",
       "</div>"
      ],
      "text/plain": [
       "    first_name second_name         team  element_type  minutes  now_cost  \\\n",
       "33    Emiliano    Martínez  Aston Villa             1     2610        54   \n",
       "324      Illan     Meslier        Leeds             1     2610        47   \n",
       "311     Stuart      Dallas        Leeds             2     2690        51   \n",
       "261   Alphonse      Areola       Fulham             1     2730        46   \n",
       "313    Patrick     Bamford        Leeds             4     2499        66   \n",
       "\n",
       "     minutes value_season value_form  form  ...  unavailable  \\\n",
       "33      2610         29.1        0.4  29.1  ...        False   \n",
       "324     2610         27.0        0.9  27.0  ...        False   \n",
       "311     2690         24.3        0.5  24.3  ...        False   \n",
       "261     2730         24.3        0.3  24.3  ...        False   \n",
       "313     2499         23.9        0.5  23.9  ...        False   \n",
       "\n",
       "    strength_overall_home strength_overall_away   opponent HomeAway  \\\n",
       "33                   1160                  1100  Liverpool     Away   \n",
       "324                  1170                  1160   Man City     Away   \n",
       "311                  1170                  1160   Man City     Away   \n",
       "261                  1100                  1090     Wolves     Home   \n",
       "313                  1170                  1160   Man City     Away   \n",
       "\n",
       "    opponent_hso opponent_aso   HomeAdv  form_adj  Value_Adjusted  \n",
       "33          1210         1250  0.909091  1.014104       26.827670  \n",
       "324         1360         1340  0.852941  1.013699       23.344883  \n",
       "311         1360         1340  0.852941  1.013210       21.000268  \n",
       "261         1110         1080  1.018519  1.013210       25.076948  \n",
       "313         1360         1340  0.852941  1.013141       20.653169  \n",
       "\n",
       "[5 rows x 28 columns]"
      ]
     },
     "execution_count": 417,
     "metadata": {},
     "output_type": "execute_result"
    }
   ],
   "source": [
    "slim_elements_df_roi = slim_elements_df.copy()\n",
    "\n",
    "slim_elements_df_roi.sort_values(['Value_Adjusted'], inplace = True, ascending = False)\n",
    "\n",
    "slim_elements_df_roi.head()"
   ]
  },
  {
   "cell_type": "code",
   "execution_count": 410,
   "metadata": {},
   "outputs": [],
   "source": [
    "#Theoretical best team \n",
    "\n",
    "\n",
    "def team_selecter():\n",
    "    \n",
    "    budget = 1000\n",
    "\n",
    "    position_dict = {\"Goalkeeper\":2,\"Defender\":5,\"Midfielder\": 5, \"Forward\": 3}\n",
    "\n",
    "    team_dict = {'West Brom':3,'Sheffield Utd':3,'Burnley':3,'Southampton':3,\n",
    "             'Fulham':3,'Newcastle':3,'Brighton':3,'Crystal Palace':3,\n",
    "            'Leeds':3,'Wolves':3,'Aston Villa':3,'Arsenal':3,\n",
    "             'Spurs':3,'West Ham':3,'Leicester':3,'Everton':3,\n",
    "            'Liverpool':3,'Chelsea':3,'Man Utd':3,'Man City':3}\n",
    "\n",
    "    roi_team = [] #form an empty tuple for the team\n",
    "    \n",
    "    total_points = 0\n",
    "    \n",
    "    top_performer_limit = 3\n",
    "    \n",
    "    # Choosing 3 top performers from the \"top players\"-dataframe\n",
    "    for idx, row in slim_elements_df_stars.iterrows():\n",
    "        if budget >= row.now_cost and len(roi_team) < top_performer_limit and row.unavailable == False and position_dict[row.position] != 0 and team_dict[row.team] != 0:\n",
    "            roi_team.append(row.second_name)\n",
    "            budget -= row.now_cost #Deducting cost from budget\n",
    "            position_dict[row.position] -= 1 # Deducting position from position dictionary\n",
    "            team_dict[row.team] -= 1 # Deducting player from team dictionary\n",
    "            total_points += row.total_points # adding to point score\n",
    "            print(\"Player choosen from 'top players' \" + str(row.second_name))\n",
    "            \n",
    "                   \n",
    "        else:\n",
    "            for idx, row in slim_elements_df_roi.iterrows():\n",
    "                if row.second_name not in roi_team and budget >= row.now_cost and row.unavailable == False and position_dict[row.position] != 0 and team_dict[row.team] != 0:\n",
    "                    roi_team.append(row.second_name)\n",
    "                    budget -= row.now_cost\n",
    "                    position_dict[row.position] -= 1 # Deducting position from position dictionary\n",
    "                    team_dict[row.team] -= 1 # Deducting player from team dictionary\n",
    "                    total_points += row.total_points # adding to point score\n",
    "    \n",
    "                   \n",
    "    print(\"\\nTeam chosen: \" + str(roi_team))\n",
    "    print(\"Remaining budget: \" + str((budget/10)) + \"M.\")\n",
    "    print(\"Total points from choosen team: \" + str(total_points) + \".\")\n",
    "    print(position_dict)"
   ]
  },
  {
   "cell_type": "code",
   "execution_count": null,
   "metadata": {},
   "outputs": [],
   "source": []
  },
  {
   "cell_type": "code",
   "execution_count": 414,
   "metadata": {},
   "outputs": [
    {
     "name": "stdout",
     "output_type": "stream",
     "text": [
      "Player choosen from 'top players' Borges Fernandes\n",
      "Player choosen from 'top players' Kane\n",
      "Player choosen from 'top players' Salah\n",
      "\n",
      "Team chosen: ['Borges Fernandes', 'Kane', 'Salah', 'Gündogan', 'Stones', 'Martínez', 'Santana de Moraes', 'Soucek', 'Cresswell', 'Frello Filho', 'Keane', 'Wan-Bissaka', 'Aina', 'Bamford']\n",
      "Remaining budget: 3.8M.\n",
      "Total points from choosen team: 1981.0.\n",
      "{'Goalkeeper': 0, 'Defender': 0, 'Midfielder': 0, 'Forward': 1}\n"
     ]
    }
   ],
   "source": [
    "team_selecter()"
   ]
  }
 ],
 "metadata": {
  "kernelspec": {
   "display_name": "Python 3",
   "language": "python",
   "name": "python3"
  },
  "language_info": {
   "codemirror_mode": {
    "name": "ipython",
    "version": 3
   },
   "file_extension": ".py",
   "mimetype": "text/x-python",
   "name": "python",
   "nbconvert_exporter": "python",
   "pygments_lexer": "ipython3",
   "version": "3.8.5"
  }
 },
 "nbformat": 4,
 "nbformat_minor": 4
}
