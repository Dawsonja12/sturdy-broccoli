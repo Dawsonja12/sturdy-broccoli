{
 "cells": [
  {
   "cell_type": "markdown",
   "metadata": {},
   "source": [
    "# Plotting the price of assets against someone's tweets "
   ]
  },
  {
   "cell_type": "markdown",
   "metadata": {},
   "source": [
    "## Why?\n",
    "\n",
    "Over the last few months my news feed has been a constant wash of articles about Blockchain, stock markets (GME) and Elon Musk. The first and the last of these topics have been newsworthy regularly over the last few years, meanwhile the GME shortsqueeze appeared overnight.\n",
    "\n",
    "There's no doubt that these topics are interconnected. Homebound US citizens with stimulus checks and too much time seem to be the main participants in these three hot topics.\n",
    "\n",
    "Whilst this has been going on I have found myself increasingly interested in data science, more specifically data visualisation, I was introduced to the field by a colleague, sites like ChartR (https://www.chartr.co/) have gone a long way in furthering that interest. Stories told through a simple vis are compelling. A picture (or chart) speak a thousand words.\n",
    "\n",
    "To attempt to get into the field I have been taking an extended course on data science provided by IBM. I found this course good, but lacking applied projects..so here goes an attempt at applying some of what I have known.\n",
    "\n",
    "\n",
    "## Why this post?\n",
    "\n",
    "This isn't really written to garner an audience - more for me to catalogue my progress over what I hope will be a long while.\n",
    "\n",
    "## The project\n",
    "\n",
    "The plan was to look at the Bitcoin, TSLA and GME prices along side Twitter activity to see if I can see any trends. Whilst creating this notebook however I thought it could be much more useful if you could choose your asset and the individual and look at the two together. Therefore the intention is to produce graphs of the asset prices with some form of overlay related to the tweets, with user specified inputs for:\n",
    "\n",
    "- the asset ticker\n",
    "- twitter handle\n",
    "- number of tweets\n",
    "- date range for asset prices.\n",
    "\n",
    "Again whilst creating this I thought about the sentiment of the tweet, i.e. was it positive or negative? Once I knew this I could somehow represent that on the graph. My original plan had been to place the actual tweet text on the graph but this became very messy very quickly. Scroll right to the end for the graph and what I ended up with..\n",
    "\n",
    "It should be noted this is not a rigerous quantitative approach - more a high level 'lets see what I can achieve in a few days and check what I've learned' approach. If you're after the former then have a look at this: https://papers.ssrn.com/sol3/papers.cfm?abstract_id=3778844"
   ]
  },
  {
   "cell_type": "markdown",
   "metadata": {},
   "source": [
    "# The script"
   ]
  },
  {
   "cell_type": "code",
   "execution_count": 64,
   "metadata": {
    "scrolled": true
   },
   "outputs": [
    {
     "name": "stdout",
     "output_type": "stream",
     "text": [
      "Requirement already satisfied: textblob in /opt/anaconda3/lib/python3.8/site-packages (0.15.3)\n",
      "Requirement already satisfied: nltk>=3.1 in /opt/anaconda3/lib/python3.8/site-packages (from textblob) (3.5)\n",
      "Requirement already satisfied: tqdm in /opt/anaconda3/lib/python3.8/site-packages (from nltk>=3.1->textblob) (4.50.2)\n",
      "Requirement already satisfied: joblib in /opt/anaconda3/lib/python3.8/site-packages (from nltk>=3.1->textblob) (0.17.0)\n",
      "Requirement already satisfied: regex in /opt/anaconda3/lib/python3.8/site-packages (from nltk>=3.1->textblob) (2020.10.15)\n",
      "Requirement already satisfied: click in /opt/anaconda3/lib/python3.8/site-packages (from nltk>=3.1->textblob) (7.1.2)\n"
     ]
    }
   ],
   "source": [
    "#To start import:\n",
    "#pandas to enable easier data manipulation\n",
    "#Plotly for eventual visualisation\n",
    "#yfinance to obtain our data\n",
    "#datetime to help us with matching prices to tweets\n",
    "#textblob for sentiment analysis \n",
    "\n",
    "import pandas as pd\n",
    "\n",
    "import plotly.express as px\n",
    "\n",
    "import yfinance as yf\n",
    "\n",
    "import datetime as dt\n",
    "\n",
    "! pip install textblob\n",
    "\n",
    "from textblob import TextBlob\n",
    "\n"
   ]
  },
  {
   "cell_type": "markdown",
   "metadata": {},
   "source": [
    "### ALL USER INPUTS NEED TO GO IN THIS CELL"
   ]
  },
  {
   "cell_type": "code",
   "execution_count": 106,
   "metadata": {},
   "outputs": [],
   "source": [
    "# Download the required data from yahoo finance using the appropriate tickers \n",
    "# Using start Dec 2020 to current day\n",
    "# Take daily prices on the assumption tweets are around that frequent\n",
    "\n",
    "\n",
    "#Start by creating variables for the start date (user input) and the end date being today's date - to do that the datetime package is useful\n",
    "\n",
    "today_date = dt.date.today()\n",
    "\n",
    "today_date = today_date.strftime(\"%Y-%m-%d\") \n",
    "\n",
    "#------------------------------------------------------------------#\n",
    "\n",
    "start_date = \"2020-11-01\" #USER INPUT\n",
    "\n",
    "#Enter the ticker of choice\n",
    "\n",
    "ticker_input = \"BTC-USD\" #USER INPUT\n",
    "\n",
    "#Terms to search for in tweets - note this is limnited to one term until I can figure out a way of doing multiple\n",
    "\n",
    "Term_1 = \"Bitcoin\" #USER INPUT\n",
    "\n",
    "#Term_2 = \"\" #USER INPUT\n",
    "\n",
    "# Input username to scrape tweets and name csv file note the '@' is not required\n",
    "\n",
    "username = 'elonmusk' #USER INPUT \n",
    "\n",
    "# Max recent tweets pulls x amount of most recent tweets from that user\n",
    "\n",
    "count = 250 #USER INPUT \n",
    "\n",
    "# Credentials to enable access to the Twitter API - note if you don't have these you can easily register for a free account\n",
    "\n",
    "consumer_key = \"" #USER INPUT \n",
    "consumer_secret = \"" #USER INPUT \n",
    "access_token = \"\" #USER INPUT \n",
    "access_token_secret = \"\" #USER INPUT \n",
    "\n",
    "\n",
    "\n"
   ]
  },
  {
   "cell_type": "code",
   "execution_count": 105,
   "metadata": {},
   "outputs": [
    {
     "name": "stdout",
     "output_type": "stream",
     "text": [
      "[*********************100%***********************]  1 of 1 completed\n"
     ]
    },
    {
     "data": {
      "text/html": [
       "<div>\n",
       "<style scoped>\n",
       "    .dataframe tbody tr th:only-of-type {\n",
       "        vertical-align: middle;\n",
       "    }\n",
       "\n",
       "    .dataframe tbody tr th {\n",
       "        vertical-align: top;\n",
       "    }\n",
       "\n",
       "    .dataframe thead th {\n",
       "        text-align: right;\n",
       "    }\n",
       "</style>\n",
       "<table border=\"1\" class=\"dataframe\">\n",
       "  <thead>\n",
       "    <tr style=\"text-align: right;\">\n",
       "      <th></th>\n",
       "      <th>Date</th>\n",
       "      <th>Open</th>\n",
       "      <th>High</th>\n",
       "      <th>Low</th>\n",
       "      <th>Close</th>\n",
       "      <th>Adj Close</th>\n",
       "      <th>Volume</th>\n",
       "    </tr>\n",
       "  </thead>\n",
       "  <tbody>\n",
       "    <tr>\n",
       "      <th>142</th>\n",
       "      <td>2021-03-23</td>\n",
       "      <td>54511.660156</td>\n",
       "      <td>55985.441406</td>\n",
       "      <td>53470.695312</td>\n",
       "      <td>54738.945312</td>\n",
       "      <td>54738.945312</td>\n",
       "      <td>56435023914</td>\n",
       "    </tr>\n",
       "    <tr>\n",
       "      <th>143</th>\n",
       "      <td>2021-03-24</td>\n",
       "      <td>54710.488281</td>\n",
       "      <td>57262.382812</td>\n",
       "      <td>52514.332031</td>\n",
       "      <td>52774.265625</td>\n",
       "      <td>52774.265625</td>\n",
       "      <td>70567223787</td>\n",
       "    </tr>\n",
       "    <tr>\n",
       "      <th>144</th>\n",
       "      <td>2021-03-25</td>\n",
       "      <td>52726.746094</td>\n",
       "      <td>53392.386719</td>\n",
       "      <td>50856.570312</td>\n",
       "      <td>51704.160156</td>\n",
       "      <td>51704.160156</td>\n",
       "      <td>67999812841</td>\n",
       "    </tr>\n",
       "    <tr>\n",
       "      <th>145</th>\n",
       "      <td>2021-03-26</td>\n",
       "      <td>51683.011719</td>\n",
       "      <td>55137.312500</td>\n",
       "      <td>51579.855469</td>\n",
       "      <td>55137.312500</td>\n",
       "      <td>55137.312500</td>\n",
       "      <td>56652197978</td>\n",
       "    </tr>\n",
       "    <tr>\n",
       "      <th>146</th>\n",
       "      <td>2021-03-27</td>\n",
       "      <td>55111.535156</td>\n",
       "      <td>55807.628906</td>\n",
       "      <td>54258.082031</td>\n",
       "      <td>55780.066406</td>\n",
       "      <td>55780.066406</td>\n",
       "      <td>46142156800</td>\n",
       "    </tr>\n",
       "  </tbody>\n",
       "</table>\n",
       "</div>"
      ],
      "text/plain": [
       "           Date          Open          High           Low         Close  \\\n",
       "142  2021-03-23  54511.660156  55985.441406  53470.695312  54738.945312   \n",
       "143  2021-03-24  54710.488281  57262.382812  52514.332031  52774.265625   \n",
       "144  2021-03-25  52726.746094  53392.386719  50856.570312  51704.160156   \n",
       "145  2021-03-26  51683.011719  55137.312500  51579.855469  55137.312500   \n",
       "146  2021-03-27  55111.535156  55807.628906  54258.082031  55780.066406   \n",
       "\n",
       "        Adj Close       Volume  \n",
       "142  54738.945312  56435023914  \n",
       "143  52774.265625  70567223787  \n",
       "144  51704.160156  67999812841  \n",
       "145  55137.312500  56652197978  \n",
       "146  55780.066406  46142156800  "
      ]
     },
     "execution_count": 105,
     "metadata": {},
     "output_type": "execute_result"
    }
   ],
   "source": [
    "#Download the data \n",
    "Data = yf.download(tickers= ticker_input, start = start_date, end = today_date, interval = '1d')\n",
    "\n",
    "#It's worth noting not reseting the index caused a major headache as the 'date' column header was misaligned without it.\n",
    "Data.reset_index(inplace=True)\n",
    "\n",
    "\n",
    "Data_df = pd.DataFrame(BTC_Data)\n",
    "\n",
    "Data_df['Date'] = pd.to_datetime(Data_df['Date']).dt.date\n",
    "\n",
    "\n",
    "Data_df.tail(5)\n"
   ]
  },
  {
   "cell_type": "markdown",
   "metadata": {},
   "source": [
    "### Quick note on obtaining tweets\n",
    "\n",
    "How would we obtain the tweet information? My initial thought process was:\n",
    "\n",
    "- Scrape the tweets using the Twitter API \n",
    "- Create a table of the tweets with datestamp and text\n",
    "- Filter by keyword e.g. BTC, Bitcoin etc.\n",
    "- Plot the tweets using date stamp over the price graph \n",
    "\n",
    "this would likely involve appending prices to the table so that we can plot an effective 'x and y' coordinate of date and price and then use the text as a data label - that's the theory at least...\n",
    "\n",
    "In scraping the tweets I came across Tweepy, which is a convinient pre-made package that enables you to scrape tweets without too much prior knowledge. I ended up using it and an article from Martin Beck: https://towardsdatascience.com/how-to-scrape-tweets-from-twitter-59287e20f0f1 to achieve what I wanted. I won't claim I spent too much time examining what was going on in the next cell but I cared more that it worked, and really that's the beauty of the ds community - open knowledge sharing. It's what makes it approachable to a complete novice like myself. The cell below is far better explained by the article above so I won't go into much detail.\n",
    "\n"
   ]
  },
  {
   "cell_type": "code",
   "execution_count": 66,
   "metadata": {},
   "outputs": [],
   "source": [
    "# Import what is required\n",
    "import tweepy\n",
    "import time\n",
    "\n",
    "\n",
    "auth = tweepy.OAuthHandler(consumer_key, consumer_secret)\n",
    "auth.set_access_token(access_token, access_token_secret)\n",
    "api = tweepy.API(auth,wait_on_rate_limit=True)\n",
    "\n",
    "#Here the code defines a function that we can call later on to get the data we need\n",
    "\n",
    "tweets = []\n",
    "\n",
    "def username_tweets_to_csv(username,count):\n",
    "    try:      \n",
    "        # Creation of query method using parameters\n",
    "        tweets = tweepy.Cursor(api.user_timeline,id=username).items(count)\n",
    "\n",
    "        # Pulling information from tweets iterable object\n",
    "        tweets_list = [[tweet.created_at, tweet.id, tweet.text] for tweet in tweets]\n",
    "\n",
    "        # Creation of dataframe from tweets list\n",
    "        # Add or remove columns as you remove tweet information\n",
    "        tweets_df = pd.DataFrame(tweets_list,columns=['Datetime', 'Tweet Id', 'Text'])\n",
    "\n",
    "        # Converting dataframe to CSV \n",
    "        tweets_df.to_csv('{}-tweets.csv'.format(username), sep=',', index = False)\n",
    "\n",
    "    except BaseException as e:\n",
    "          print('failed on_status,',str(e))\n",
    "          time.sleep(3)\n",
    "        \n",
    "\n",
    "# Calling function to turn username's past X amount of tweets into a CSV file\n",
    "username_tweets_to_csv(username, count)"
   ]
  },
  {
   "cell_type": "code",
   "execution_count": 67,
   "metadata": {},
   "outputs": [
    {
     "data": {
      "text/html": [
       "<div>\n",
       "<style scoped>\n",
       "    .dataframe tbody tr th:only-of-type {\n",
       "        vertical-align: middle;\n",
       "    }\n",
       "\n",
       "    .dataframe tbody tr th {\n",
       "        vertical-align: top;\n",
       "    }\n",
       "\n",
       "    .dataframe thead th {\n",
       "        text-align: right;\n",
       "    }\n",
       "</style>\n",
       "<table border=\"1\" class=\"dataframe\">\n",
       "  <thead>\n",
       "    <tr style=\"text-align: right;\">\n",
       "      <th></th>\n",
       "      <th>Datetime</th>\n",
       "      <th>Tweet Id</th>\n",
       "      <th>Text</th>\n",
       "    </tr>\n",
       "  </thead>\n",
       "  <tbody>\n",
       "    <tr>\n",
       "      <th>0</th>\n",
       "      <td>2021-03-25 20:19:55</td>\n",
       "      <td>1375180666577412099</td>\n",
       "      <td>@gasca Yes</td>\n",
       "    </tr>\n",
       "    <tr>\n",
       "      <th>1</th>\n",
       "      <td>2021-03-25 19:14:10</td>\n",
       "      <td>1375164120161419267</td>\n",
       "      <td>@Iyervval We want to</td>\n",
       "    </tr>\n",
       "    <tr>\n",
       "      <th>2</th>\n",
       "      <td>2021-03-25 18:54:20</td>\n",
       "      <td>1375159131548512257</td>\n",
       "      <td>Agreed https://t.co/XGF8Y5SQiy</td>\n",
       "    </tr>\n",
       "    <tr>\n",
       "      <th>3</th>\n",
       "      <td>2021-03-25 18:26:48</td>\n",
       "      <td>1375152199433527296</td>\n",
       "      <td>?</td>\n",
       "    </tr>\n",
       "    <tr>\n",
       "      <th>4</th>\n",
       "      <td>2021-03-25 16:46:02</td>\n",
       "      <td>1375126841808224260</td>\n",
       "      <td>We appreciate the enormous privilege we have i...</td>\n",
       "    </tr>\n",
       "  </tbody>\n",
       "</table>\n",
       "</div>"
      ],
      "text/plain": [
       "              Datetime             Tweet Id  \\\n",
       "0  2021-03-25 20:19:55  1375180666577412099   \n",
       "1  2021-03-25 19:14:10  1375164120161419267   \n",
       "2  2021-03-25 18:54:20  1375159131548512257   \n",
       "3  2021-03-25 18:26:48  1375152199433527296   \n",
       "4  2021-03-25 16:46:02  1375126841808224260   \n",
       "\n",
       "                                                Text  \n",
       "0                                         @gasca Yes  \n",
       "1                               @Iyervval We want to  \n",
       "2                     Agreed https://t.co/XGF8Y5SQiy  \n",
       "3                                                  ?  \n",
       "4  We appreciate the enormous privilege we have i...  "
      ]
     },
     "execution_count": 67,
     "metadata": {},
     "output_type": "execute_result"
    }
   ],
   "source": [
    "#import the created CSV files and create a pandas data frame\n",
    "\n",
    "csv_path = '/Users/jamesdawson/Desktop/Data analysis /Python/Jack-tweets.csv'\n",
    "\n",
    "df = pd.read_csv(csv_path)\n",
    "\n",
    "df.head(5)"
   ]
  },
  {
   "cell_type": "code",
   "execution_count": 68,
   "metadata": {},
   "outputs": [],
   "source": [
    "#Filter out anything that we don't feel is relevant from the tweets\n",
    "#We need to create three data frames here so we can plot each respective one against a different plot of price\n",
    "\n",
    "df['Datetime'] = pd.to_datetime(df['Datetime']).dt.date\n"
   ]
  },
  {
   "cell_type": "code",
   "execution_count": 69,
   "metadata": {},
   "outputs": [
    {
     "data": {
      "text/html": [
       "<div>\n",
       "<style scoped>\n",
       "    .dataframe tbody tr th:only-of-type {\n",
       "        vertical-align: middle;\n",
       "    }\n",
       "\n",
       "    .dataframe tbody tr th {\n",
       "        vertical-align: top;\n",
       "    }\n",
       "\n",
       "    .dataframe thead th {\n",
       "        text-align: right;\n",
       "    }\n",
       "</style>\n",
       "<table border=\"1\" class=\"dataframe\">\n",
       "  <thead>\n",
       "    <tr style=\"text-align: right;\">\n",
       "      <th></th>\n",
       "      <th>Datetime</th>\n",
       "      <th>Tweet Id</th>\n",
       "      <th>Text</th>\n",
       "      <th>sentiment</th>\n",
       "    </tr>\n",
       "  </thead>\n",
       "  <tbody>\n",
       "    <tr>\n",
       "      <th>0</th>\n",
       "      <td>2021-03-25</td>\n",
       "      <td>1375180666577412099</td>\n",
       "      <td>@gasca Yes</td>\n",
       "      <td>(0.0, 0.0)</td>\n",
       "    </tr>\n",
       "    <tr>\n",
       "      <th>1</th>\n",
       "      <td>2021-03-25</td>\n",
       "      <td>1375164120161419267</td>\n",
       "      <td>@Iyervval We want to</td>\n",
       "      <td>(0.0, 0.0)</td>\n",
       "    </tr>\n",
       "    <tr>\n",
       "      <th>2</th>\n",
       "      <td>2021-03-25</td>\n",
       "      <td>1375159131548512257</td>\n",
       "      <td>Agreed https://t.co/XGF8Y5SQiy</td>\n",
       "      <td>(0.0, 0.0)</td>\n",
       "    </tr>\n",
       "    <tr>\n",
       "      <th>3</th>\n",
       "      <td>2021-03-25</td>\n",
       "      <td>1375152199433527296</td>\n",
       "      <td>?</td>\n",
       "      <td>(0.0, 0.0)</td>\n",
       "    </tr>\n",
       "    <tr>\n",
       "      <th>4</th>\n",
       "      <td>2021-03-25</td>\n",
       "      <td>1375126841808224260</td>\n",
       "      <td>We appreciate the enormous privilege we have i...</td>\n",
       "      <td>(0.3, 0.7999999999999999)</td>\n",
       "    </tr>\n",
       "    <tr>\n",
       "      <th>...</th>\n",
       "      <td>...</td>\n",
       "      <td>...</td>\n",
       "      <td>...</td>\n",
       "      <td>...</td>\n",
       "    </tr>\n",
       "    <tr>\n",
       "      <th>245</th>\n",
       "      <td>2020-11-28</td>\n",
       "      <td>1332795411979935745</td>\n",
       "      <td>RT @stewartbrand: This is a loss. \\n\\nHe gave ...</td>\n",
       "      <td>(-0.05, 0.4)</td>\n",
       "    </tr>\n",
       "    <tr>\n",
       "      <th>246</th>\n",
       "      <td>2020-11-27</td>\n",
       "      <td>1332435430801690624</td>\n",
       "      <td>@JesseDorogusker @Square ❤️</td>\n",
       "      <td>(0.0, 0.0)</td>\n",
       "    </tr>\n",
       "    <tr>\n",
       "      <th>247</th>\n",
       "      <td>2020-11-25</td>\n",
       "      <td>1331628511384072195</td>\n",
       "      <td>RT @owenbjennings: Couldn't be more excited to...</td>\n",
       "      <td>(0.5583333333333333, 0.7166666666666667)</td>\n",
       "    </tr>\n",
       "    <tr>\n",
       "      <th>248</th>\n",
       "      <td>2020-11-24</td>\n",
       "      <td>1331306445485219842</td>\n",
       "      <td>RT @TwitterSupport: We're planning to relaunch...</td>\n",
       "      <td>(0.25, 0.3333333333333333)</td>\n",
       "    </tr>\n",
       "    <tr>\n",
       "      <th>249</th>\n",
       "      <td>2020-11-19</td>\n",
       "      <td>1329527647693508608</td>\n",
       "      <td>❤️ https://t.co/mkiLa9uubl</td>\n",
       "      <td>(0.0, 0.0)</td>\n",
       "    </tr>\n",
       "  </tbody>\n",
       "</table>\n",
       "<p>250 rows × 4 columns</p>\n",
       "</div>"
      ],
      "text/plain": [
       "       Datetime             Tweet Id  \\\n",
       "0    2021-03-25  1375180666577412099   \n",
       "1    2021-03-25  1375164120161419267   \n",
       "2    2021-03-25  1375159131548512257   \n",
       "3    2021-03-25  1375152199433527296   \n",
       "4    2021-03-25  1375126841808224260   \n",
       "..          ...                  ...   \n",
       "245  2020-11-28  1332795411979935745   \n",
       "246  2020-11-27  1332435430801690624   \n",
       "247  2020-11-25  1331628511384072195   \n",
       "248  2020-11-24  1331306445485219842   \n",
       "249  2020-11-19  1329527647693508608   \n",
       "\n",
       "                                                  Text  \\\n",
       "0                                           @gasca Yes   \n",
       "1                                 @Iyervval We want to   \n",
       "2                       Agreed https://t.co/XGF8Y5SQiy   \n",
       "3                                                    ?   \n",
       "4    We appreciate the enormous privilege we have i...   \n",
       "..                                                 ...   \n",
       "245  RT @stewartbrand: This is a loss. \\n\\nHe gave ...   \n",
       "246                        @JesseDorogusker @Square ❤️   \n",
       "247  RT @owenbjennings: Couldn't be more excited to...   \n",
       "248  RT @TwitterSupport: We're planning to relaunch...   \n",
       "249                         ❤️ https://t.co/mkiLa9uubl   \n",
       "\n",
       "                                    sentiment  \n",
       "0                                  (0.0, 0.0)  \n",
       "1                                  (0.0, 0.0)  \n",
       "2                                  (0.0, 0.0)  \n",
       "3                                  (0.0, 0.0)  \n",
       "4                   (0.3, 0.7999999999999999)  \n",
       "..                                        ...  \n",
       "245                              (-0.05, 0.4)  \n",
       "246                                (0.0, 0.0)  \n",
       "247  (0.5583333333333333, 0.7166666666666667)  \n",
       "248                (0.25, 0.3333333333333333)  \n",
       "249                                (0.0, 0.0)  \n",
       "\n",
       "[250 rows x 4 columns]"
      ]
     },
     "execution_count": 69,
     "metadata": {},
     "output_type": "execute_result"
    }
   ],
   "source": [
    "#Here we are using the textblob pre made library to assess the sentiment of each \n",
    "\n",
    "df['sentiment'] = df['Text'].apply(lambda tweet: TextBlob(tweet).sentiment)\n",
    "\n",
    "\n",
    "df"
   ]
  },
  {
   "cell_type": "code",
   "execution_count": 70,
   "metadata": {},
   "outputs": [
    {
     "data": {
      "text/html": [
       "<div>\n",
       "<style scoped>\n",
       "    .dataframe tbody tr th:only-of-type {\n",
       "        vertical-align: middle;\n",
       "    }\n",
       "\n",
       "    .dataframe tbody tr th {\n",
       "        vertical-align: top;\n",
       "    }\n",
       "\n",
       "    .dataframe thead th {\n",
       "        text-align: right;\n",
       "    }\n",
       "</style>\n",
       "<table border=\"1\" class=\"dataframe\">\n",
       "  <thead>\n",
       "    <tr style=\"text-align: right;\">\n",
       "      <th></th>\n",
       "      <th>Datetime</th>\n",
       "      <th>Tweet Id</th>\n",
       "      <th>Text</th>\n",
       "      <th>sentiment</th>\n",
       "      <th>price</th>\n",
       "    </tr>\n",
       "  </thead>\n",
       "  <tbody>\n",
       "    <tr>\n",
       "      <th>0</th>\n",
       "      <td>2021-03-25</td>\n",
       "      <td>1375180666577412099</td>\n",
       "      <td>@gasca Yes</td>\n",
       "      <td>(0.0, 0.0)</td>\n",
       "      <td>52726.746094</td>\n",
       "    </tr>\n",
       "    <tr>\n",
       "      <th>1</th>\n",
       "      <td>2021-03-25</td>\n",
       "      <td>1375164120161419267</td>\n",
       "      <td>@Iyervval We want to</td>\n",
       "      <td>(0.0, 0.0)</td>\n",
       "      <td>52726.746094</td>\n",
       "    </tr>\n",
       "    <tr>\n",
       "      <th>2</th>\n",
       "      <td>2021-03-25</td>\n",
       "      <td>1375159131548512257</td>\n",
       "      <td>Agreed https://t.co/XGF8Y5SQiy</td>\n",
       "      <td>(0.0, 0.0)</td>\n",
       "      <td>52726.746094</td>\n",
       "    </tr>\n",
       "    <tr>\n",
       "      <th>3</th>\n",
       "      <td>2021-03-25</td>\n",
       "      <td>1375152199433527296</td>\n",
       "      <td>?</td>\n",
       "      <td>(0.0, 0.0)</td>\n",
       "      <td>52726.746094</td>\n",
       "    </tr>\n",
       "    <tr>\n",
       "      <th>4</th>\n",
       "      <td>2021-03-25</td>\n",
       "      <td>1375126841808224260</td>\n",
       "      <td>We appreciate the enormous privilege we have i...</td>\n",
       "      <td>(0.3, 0.7999999999999999)</td>\n",
       "      <td>52726.746094</td>\n",
       "    </tr>\n",
       "    <tr>\n",
       "      <th>...</th>\n",
       "      <td>...</td>\n",
       "      <td>...</td>\n",
       "      <td>...</td>\n",
       "      <td>...</td>\n",
       "      <td>...</td>\n",
       "    </tr>\n",
       "    <tr>\n",
       "      <th>245</th>\n",
       "      <td>2020-11-28</td>\n",
       "      <td>1332795411979935745</td>\n",
       "      <td>RT @stewartbrand: This is a loss. \\n\\nHe gave ...</td>\n",
       "      <td>(-0.05, 0.4)</td>\n",
       "      <td>17112.933594</td>\n",
       "    </tr>\n",
       "    <tr>\n",
       "      <th>246</th>\n",
       "      <td>2020-11-27</td>\n",
       "      <td>1332435430801690624</td>\n",
       "      <td>@JesseDorogusker @Square ❤️</td>\n",
       "      <td>(0.0, 0.0)</td>\n",
       "      <td>17153.914062</td>\n",
       "    </tr>\n",
       "    <tr>\n",
       "      <th>247</th>\n",
       "      <td>2020-11-25</td>\n",
       "      <td>1331628511384072195</td>\n",
       "      <td>RT @owenbjennings: Couldn't be more excited to...</td>\n",
       "      <td>(0.5583333333333333, 0.7166666666666667)</td>\n",
       "      <td>19104.410156</td>\n",
       "    </tr>\n",
       "    <tr>\n",
       "      <th>248</th>\n",
       "      <td>2020-11-24</td>\n",
       "      <td>1331306445485219842</td>\n",
       "      <td>RT @TwitterSupport: We're planning to relaunch...</td>\n",
       "      <td>(0.25, 0.3333333333333333)</td>\n",
       "      <td>18365.015625</td>\n",
       "    </tr>\n",
       "    <tr>\n",
       "      <th>249</th>\n",
       "      <td>2020-11-19</td>\n",
       "      <td>1329527647693508608</td>\n",
       "      <td>❤️ https://t.co/mkiLa9uubl</td>\n",
       "      <td>(0.0, 0.0)</td>\n",
       "      <td>17803.861328</td>\n",
       "    </tr>\n",
       "  </tbody>\n",
       "</table>\n",
       "<p>250 rows × 5 columns</p>\n",
       "</div>"
      ],
      "text/plain": [
       "       Datetime             Tweet Id  \\\n",
       "0    2021-03-25  1375180666577412099   \n",
       "1    2021-03-25  1375164120161419267   \n",
       "2    2021-03-25  1375159131548512257   \n",
       "3    2021-03-25  1375152199433527296   \n",
       "4    2021-03-25  1375126841808224260   \n",
       "..          ...                  ...   \n",
       "245  2020-11-28  1332795411979935745   \n",
       "246  2020-11-27  1332435430801690624   \n",
       "247  2020-11-25  1331628511384072195   \n",
       "248  2020-11-24  1331306445485219842   \n",
       "249  2020-11-19  1329527647693508608   \n",
       "\n",
       "                                                  Text  \\\n",
       "0                                           @gasca Yes   \n",
       "1                                 @Iyervval We want to   \n",
       "2                       Agreed https://t.co/XGF8Y5SQiy   \n",
       "3                                                    ?   \n",
       "4    We appreciate the enormous privilege we have i...   \n",
       "..                                                 ...   \n",
       "245  RT @stewartbrand: This is a loss. \\n\\nHe gave ...   \n",
       "246                        @JesseDorogusker @Square ❤️   \n",
       "247  RT @owenbjennings: Couldn't be more excited to...   \n",
       "248  RT @TwitterSupport: We're planning to relaunch...   \n",
       "249                         ❤️ https://t.co/mkiLa9uubl   \n",
       "\n",
       "                                    sentiment         price  \n",
       "0                                  (0.0, 0.0)  52726.746094  \n",
       "1                                  (0.0, 0.0)  52726.746094  \n",
       "2                                  (0.0, 0.0)  52726.746094  \n",
       "3                                  (0.0, 0.0)  52726.746094  \n",
       "4                   (0.3, 0.7999999999999999)  52726.746094  \n",
       "..                                        ...           ...  \n",
       "245                              (-0.05, 0.4)  17112.933594  \n",
       "246                                (0.0, 0.0)  17153.914062  \n",
       "247  (0.5583333333333333, 0.7166666666666667)  19104.410156  \n",
       "248                (0.25, 0.3333333333333333)  18365.015625  \n",
       "249                                (0.0, 0.0)  17803.861328  \n",
       "\n",
       "[250 rows x 5 columns]"
      ]
     },
     "execution_count": 70,
     "metadata": {},
     "output_type": "execute_result"
    }
   ],
   "source": [
    "#append the price to the line based on datetime - How easy this would be if I was using index match in excel..\n",
    "\n",
    "df['price'] = df.Datetime.map(Data_df.set_index('Date')['Open'].to_dict())\n",
    "\n",
    "df"
   ]
  },
  {
   "cell_type": "code",
   "execution_count": 71,
   "metadata": {},
   "outputs": [
    {
     "data": {
      "text/html": [
       "<div>\n",
       "<style scoped>\n",
       "    .dataframe tbody tr th:only-of-type {\n",
       "        vertical-align: middle;\n",
       "    }\n",
       "\n",
       "    .dataframe tbody tr th {\n",
       "        vertical-align: top;\n",
       "    }\n",
       "\n",
       "    .dataframe thead th {\n",
       "        text-align: right;\n",
       "    }\n",
       "</style>\n",
       "<table border=\"1\" class=\"dataframe\">\n",
       "  <thead>\n",
       "    <tr style=\"text-align: right;\">\n",
       "      <th></th>\n",
       "      <th>Datetime</th>\n",
       "      <th>Tweet Id</th>\n",
       "      <th>Text</th>\n",
       "      <th>sentiment</th>\n",
       "      <th>price</th>\n",
       "      <th>polarity</th>\n",
       "      <th>subjectivity</th>\n",
       "      <th>polarity_abs</th>\n",
       "    </tr>\n",
       "  </thead>\n",
       "  <tbody>\n",
       "    <tr>\n",
       "      <th>0</th>\n",
       "      <td>2021-03-25</td>\n",
       "      <td>1375180666577412099</td>\n",
       "      <td>@gasca Yes</td>\n",
       "      <td>(0.0, 0.0)</td>\n",
       "      <td>52726.746094</td>\n",
       "      <td>0.00</td>\n",
       "      <td>0.000000</td>\n",
       "      <td>0.00</td>\n",
       "    </tr>\n",
       "    <tr>\n",
       "      <th>1</th>\n",
       "      <td>2021-03-25</td>\n",
       "      <td>1375164120161419267</td>\n",
       "      <td>@Iyervval We want to</td>\n",
       "      <td>(0.0, 0.0)</td>\n",
       "      <td>52726.746094</td>\n",
       "      <td>0.00</td>\n",
       "      <td>0.000000</td>\n",
       "      <td>0.00</td>\n",
       "    </tr>\n",
       "    <tr>\n",
       "      <th>2</th>\n",
       "      <td>2021-03-25</td>\n",
       "      <td>1375159131548512257</td>\n",
       "      <td>Agreed https://t.co/XGF8Y5SQiy</td>\n",
       "      <td>(0.0, 0.0)</td>\n",
       "      <td>52726.746094</td>\n",
       "      <td>0.00</td>\n",
       "      <td>0.000000</td>\n",
       "      <td>0.00</td>\n",
       "    </tr>\n",
       "    <tr>\n",
       "      <th>3</th>\n",
       "      <td>2021-03-25</td>\n",
       "      <td>1375152199433527296</td>\n",
       "      <td>?</td>\n",
       "      <td>(0.0, 0.0)</td>\n",
       "      <td>52726.746094</td>\n",
       "      <td>0.00</td>\n",
       "      <td>0.000000</td>\n",
       "      <td>0.00</td>\n",
       "    </tr>\n",
       "    <tr>\n",
       "      <th>4</th>\n",
       "      <td>2021-03-25</td>\n",
       "      <td>1375126841808224260</td>\n",
       "      <td>We appreciate the enormous privilege we have i...</td>\n",
       "      <td>(0.3, 0.7999999999999999)</td>\n",
       "      <td>52726.746094</td>\n",
       "      <td>0.30</td>\n",
       "      <td>0.800000</td>\n",
       "      <td>0.30</td>\n",
       "    </tr>\n",
       "    <tr>\n",
       "      <th>...</th>\n",
       "      <td>...</td>\n",
       "      <td>...</td>\n",
       "      <td>...</td>\n",
       "      <td>...</td>\n",
       "      <td>...</td>\n",
       "      <td>...</td>\n",
       "      <td>...</td>\n",
       "      <td>...</td>\n",
       "    </tr>\n",
       "    <tr>\n",
       "      <th>245</th>\n",
       "      <td>2020-11-28</td>\n",
       "      <td>1332795411979935745</td>\n",
       "      <td>RT @stewartbrand: This is a loss. \\n\\nHe gave ...</td>\n",
       "      <td>(-0.05, 0.4)</td>\n",
       "      <td>17112.933594</td>\n",
       "      <td>-0.05</td>\n",
       "      <td>0.400000</td>\n",
       "      <td>0.05</td>\n",
       "    </tr>\n",
       "    <tr>\n",
       "      <th>246</th>\n",
       "      <td>2020-11-27</td>\n",
       "      <td>1332435430801690624</td>\n",
       "      <td>@JesseDorogusker @Square ❤️</td>\n",
       "      <td>(0.0, 0.0)</td>\n",
       "      <td>17153.914062</td>\n",
       "      <td>0.00</td>\n",
       "      <td>0.000000</td>\n",
       "      <td>0.00</td>\n",
       "    </tr>\n",
       "    <tr>\n",
       "      <th>247</th>\n",
       "      <td>2020-11-25</td>\n",
       "      <td>1331628511384072195</td>\n",
       "      <td>RT @owenbjennings: Couldn't be more excited to...</td>\n",
       "      <td>(0.5583333333333333, 0.7166666666666667)</td>\n",
       "      <td>19104.410156</td>\n",
       "      <td>0.56</td>\n",
       "      <td>0.716667</td>\n",
       "      <td>0.56</td>\n",
       "    </tr>\n",
       "    <tr>\n",
       "      <th>248</th>\n",
       "      <td>2020-11-24</td>\n",
       "      <td>1331306445485219842</td>\n",
       "      <td>RT @TwitterSupport: We're planning to relaunch...</td>\n",
       "      <td>(0.25, 0.3333333333333333)</td>\n",
       "      <td>18365.015625</td>\n",
       "      <td>0.25</td>\n",
       "      <td>0.333333</td>\n",
       "      <td>0.25</td>\n",
       "    </tr>\n",
       "    <tr>\n",
       "      <th>249</th>\n",
       "      <td>2020-11-19</td>\n",
       "      <td>1329527647693508608</td>\n",
       "      <td>❤️ https://t.co/mkiLa9uubl</td>\n",
       "      <td>(0.0, 0.0)</td>\n",
       "      <td>17803.861328</td>\n",
       "      <td>0.00</td>\n",
       "      <td>0.000000</td>\n",
       "      <td>0.00</td>\n",
       "    </tr>\n",
       "  </tbody>\n",
       "</table>\n",
       "<p>250 rows × 8 columns</p>\n",
       "</div>"
      ],
      "text/plain": [
       "       Datetime             Tweet Id  \\\n",
       "0    2021-03-25  1375180666577412099   \n",
       "1    2021-03-25  1375164120161419267   \n",
       "2    2021-03-25  1375159131548512257   \n",
       "3    2021-03-25  1375152199433527296   \n",
       "4    2021-03-25  1375126841808224260   \n",
       "..          ...                  ...   \n",
       "245  2020-11-28  1332795411979935745   \n",
       "246  2020-11-27  1332435430801690624   \n",
       "247  2020-11-25  1331628511384072195   \n",
       "248  2020-11-24  1331306445485219842   \n",
       "249  2020-11-19  1329527647693508608   \n",
       "\n",
       "                                                  Text  \\\n",
       "0                                           @gasca Yes   \n",
       "1                                 @Iyervval We want to   \n",
       "2                       Agreed https://t.co/XGF8Y5SQiy   \n",
       "3                                                    ?   \n",
       "4    We appreciate the enormous privilege we have i...   \n",
       "..                                                 ...   \n",
       "245  RT @stewartbrand: This is a loss. \\n\\nHe gave ...   \n",
       "246                        @JesseDorogusker @Square ❤️   \n",
       "247  RT @owenbjennings: Couldn't be more excited to...   \n",
       "248  RT @TwitterSupport: We're planning to relaunch...   \n",
       "249                         ❤️ https://t.co/mkiLa9uubl   \n",
       "\n",
       "                                    sentiment         price  polarity  \\\n",
       "0                                  (0.0, 0.0)  52726.746094      0.00   \n",
       "1                                  (0.0, 0.0)  52726.746094      0.00   \n",
       "2                                  (0.0, 0.0)  52726.746094      0.00   \n",
       "3                                  (0.0, 0.0)  52726.746094      0.00   \n",
       "4                   (0.3, 0.7999999999999999)  52726.746094      0.30   \n",
       "..                                        ...           ...       ...   \n",
       "245                              (-0.05, 0.4)  17112.933594     -0.05   \n",
       "246                                (0.0, 0.0)  17153.914062      0.00   \n",
       "247  (0.5583333333333333, 0.7166666666666667)  19104.410156      0.56   \n",
       "248                (0.25, 0.3333333333333333)  18365.015625      0.25   \n",
       "249                                (0.0, 0.0)  17803.861328      0.00   \n",
       "\n",
       "     subjectivity  polarity_abs  \n",
       "0        0.000000          0.00  \n",
       "1        0.000000          0.00  \n",
       "2        0.000000          0.00  \n",
       "3        0.000000          0.00  \n",
       "4        0.800000          0.30  \n",
       "..            ...           ...  \n",
       "245      0.400000          0.05  \n",
       "246      0.000000          0.00  \n",
       "247      0.716667          0.56  \n",
       "248      0.333333          0.25  \n",
       "249      0.000000          0.00  \n",
       "\n",
       "[250 rows x 8 columns]"
      ]
     },
     "execution_count": 71,
     "metadata": {},
     "output_type": "execute_result"
    }
   ],
   "source": [
    "#The code block take the polarity (sentiment) and subjectivity and splits them into two columns so that we can \n",
    "#plot the sentiment more easily - it then takes the absolute value of the sentiment so we casn use it to represent \n",
    "#the size of the tweet on the graph i.e. more positive or negative the sentiment, the larger it appears.\n",
    "\n",
    "sentiment_series = df['sentiment'].tolist()\n",
    "\n",
    "df1 = pd.DataFrame(sentiment_series, columns=['polarity','subjectivity'], index=df.index)\n",
    "\n",
    "result = pd.concat([df, df1], axis=1)\n",
    "\n",
    "decimals = 2    \n",
    "result['polarity'] = result['polarity'].apply(lambda x: round(x, decimals))\n",
    "\n",
    "result['polarity_abs'] = abs(result['polarity'])\n",
    "\n",
    "result\n",
    "\n"
   ]
  },
  {
   "cell_type": "markdown",
   "metadata": {},
   "source": []
  },
  {
   "cell_type": "code",
   "execution_count": 72,
   "metadata": {},
   "outputs": [
    {
     "data": {
      "text/html": [
       "<div>\n",
       "<style scoped>\n",
       "    .dataframe tbody tr th:only-of-type {\n",
       "        vertical-align: middle;\n",
       "    }\n",
       "\n",
       "    .dataframe tbody tr th {\n",
       "        vertical-align: top;\n",
       "    }\n",
       "\n",
       "    .dataframe thead th {\n",
       "        text-align: right;\n",
       "    }\n",
       "</style>\n",
       "<table border=\"1\" class=\"dataframe\">\n",
       "  <thead>\n",
       "    <tr style=\"text-align: right;\">\n",
       "      <th></th>\n",
       "      <th>Datetime</th>\n",
       "      <th>Tweet Id</th>\n",
       "      <th>Text</th>\n",
       "      <th>sentiment</th>\n",
       "      <th>price</th>\n",
       "      <th>polarity</th>\n",
       "      <th>subjectivity</th>\n",
       "      <th>polarity_abs</th>\n",
       "    </tr>\n",
       "  </thead>\n",
       "  <tbody>\n",
       "    <tr>\n",
       "      <th>68</th>\n",
       "      <td>2021-03-03</td>\n",
       "      <td>1367247766452273159</td>\n",
       "      <td>An excellent and inspiring introduction to, an...</td>\n",
       "      <td>(0.75, 1.0)</td>\n",
       "      <td>48415.816406</td>\n",
       "      <td>0.75</td>\n",
       "      <td>1.000000</td>\n",
       "      <td>0.75</td>\n",
       "    </tr>\n",
       "    <tr>\n",
       "      <th>75</th>\n",
       "      <td>2021-02-25</td>\n",
       "      <td>1365083296414113792</td>\n",
       "      <td>Bitcoin, Blockchain and the Black Community - ...</td>\n",
       "      <td>(-0.16666666666666666, 0.43333333333333335)</td>\n",
       "      <td>49709.082031</td>\n",
       "      <td>-0.17</td>\n",
       "      <td>0.433333</td>\n",
       "      <td>0.17</td>\n",
       "    </tr>\n",
       "    <tr>\n",
       "      <th>86</th>\n",
       "      <td>2021-02-12</td>\n",
       "      <td>1360114881978982403</td>\n",
       "      <td>JAY-Z/@S_C_ and I are giving 500 BTC to a new ...</td>\n",
       "      <td>(0.06818181818181818, 0.22727272727272727)</td>\n",
       "      <td>47877.035156</td>\n",
       "      <td>0.07</td>\n",
       "      <td>0.227273</td>\n",
       "      <td>0.07</td>\n",
       "    </tr>\n",
       "    <tr>\n",
       "      <th>93</th>\n",
       "      <td>2021-02-05</td>\n",
       "      <td>1357777841098682373</td>\n",
       "      <td>RT @bitcoinzay: The Black #Bitcoin Billionaire...</td>\n",
       "      <td>(0.16666666666666669, 0.7166666666666667)</td>\n",
       "      <td>36931.546875</td>\n",
       "      <td>0.17</td>\n",
       "      <td>0.716667</td>\n",
       "      <td>0.17</td>\n",
       "    </tr>\n",
       "    <tr>\n",
       "      <th>97</th>\n",
       "      <td>2021-02-04</td>\n",
       "      <td>1357137828753231874</td>\n",
       "      <td>RT @CryptoPlug3: Crypto Blockchain Plug has lo...</td>\n",
       "      <td>(0.16666666666666669, 0.6611111111111111)</td>\n",
       "      <td>37475.105469</td>\n",
       "      <td>0.17</td>\n",
       "      <td>0.661111</td>\n",
       "      <td>0.17</td>\n",
       "    </tr>\n",
       "    <tr>\n",
       "      <th>119</th>\n",
       "      <td>2021-01-14</td>\n",
       "      <td>1349510779033174016</td>\n",
       "      <td>The reason I have so much passion for #Bitcoin...</td>\n",
       "      <td>(0.20714285714285713, 0.3142857142857143)</td>\n",
       "      <td>37325.109375</td>\n",
       "      <td>0.21</td>\n",
       "      <td>0.314286</td>\n",
       "      <td>0.21</td>\n",
       "    </tr>\n",
       "    <tr>\n",
       "      <th>161</th>\n",
       "      <td>2021-01-03</td>\n",
       "      <td>1345880453761253377</td>\n",
       "      <td>RT @BitcoinMagazine: Proof of Keys Day - Learn...</td>\n",
       "      <td>(1.0, 0.3)</td>\n",
       "      <td>32129.408203</td>\n",
       "      <td>1.00</td>\n",
       "      <td>0.300000</td>\n",
       "      <td>1.00</td>\n",
       "    </tr>\n",
       "    <tr>\n",
       "      <th>163</th>\n",
       "      <td>2021-01-03</td>\n",
       "      <td>1345868089246695424</td>\n",
       "      <td>RT @balajis: It is not possible for the US gov...</td>\n",
       "      <td>(0.16666666666666666, 0.5750000000000001)</td>\n",
       "      <td>32129.408203</td>\n",
       "      <td>0.17</td>\n",
       "      <td>0.575000</td>\n",
       "      <td>0.17</td>\n",
       "    </tr>\n",
       "    <tr>\n",
       "      <th>168</th>\n",
       "      <td>2021-01-03</td>\n",
       "      <td>1345605607206735873</td>\n",
       "      <td>Happy birthday #Bitcoin</td>\n",
       "      <td>(0.8, 1.0)</td>\n",
       "      <td>32129.408203</td>\n",
       "      <td>0.80</td>\n",
       "      <td>1.000000</td>\n",
       "      <td>0.80</td>\n",
       "    </tr>\n",
       "    <tr>\n",
       "      <th>177</th>\n",
       "      <td>2021-01-02</td>\n",
       "      <td>1345417292373401600</td>\n",
       "      <td>RT @TheBlueMatt: Bitcoin is one of Cypherpunkd...</td>\n",
       "      <td>(1.0, 1.0)</td>\n",
       "      <td>29376.455078</td>\n",
       "      <td>1.00</td>\n",
       "      <td>1.000000</td>\n",
       "      <td>1.00</td>\n",
       "    </tr>\n",
       "    <tr>\n",
       "      <th>192</th>\n",
       "      <td>2020-12-23</td>\n",
       "      <td>1341802394443640832</td>\n",
       "      <td>This is very well done @bluewalletio #Bitcoin ...</td>\n",
       "      <td>(0.2, 0.3)</td>\n",
       "      <td>23781.974609</td>\n",
       "      <td>0.20</td>\n",
       "      <td>0.300000</td>\n",
       "      <td>0.20</td>\n",
       "    </tr>\n",
       "    <tr>\n",
       "      <th>217</th>\n",
       "      <td>2020-12-16</td>\n",
       "      <td>1339356516344766465</td>\n",
       "      <td>RT @BitcoinCritics: Square's #Bitcoin position...</td>\n",
       "      <td>(-0.4, 0.6)</td>\n",
       "      <td>19418.818359</td>\n",
       "      <td>-0.40</td>\n",
       "      <td>0.600000</td>\n",
       "      <td>0.40</td>\n",
       "    </tr>\n",
       "    <tr>\n",
       "      <th>219</th>\n",
       "      <td>2020-12-16</td>\n",
       "      <td>1339355896552464384</td>\n",
       "      <td>RT @NTmoney: Beautiful post from a Reddit user...</td>\n",
       "      <td>(0.5, 1.0)</td>\n",
       "      <td>19418.818359</td>\n",
       "      <td>0.50</td>\n",
       "      <td>1.000000</td>\n",
       "      <td>0.50</td>\n",
       "    </tr>\n",
       "  </tbody>\n",
       "</table>\n",
       "</div>"
      ],
      "text/plain": [
       "       Datetime             Tweet Id  \\\n",
       "68   2021-03-03  1367247766452273159   \n",
       "75   2021-02-25  1365083296414113792   \n",
       "86   2021-02-12  1360114881978982403   \n",
       "93   2021-02-05  1357777841098682373   \n",
       "97   2021-02-04  1357137828753231874   \n",
       "119  2021-01-14  1349510779033174016   \n",
       "161  2021-01-03  1345880453761253377   \n",
       "163  2021-01-03  1345868089246695424   \n",
       "168  2021-01-03  1345605607206735873   \n",
       "177  2021-01-02  1345417292373401600   \n",
       "192  2020-12-23  1341802394443640832   \n",
       "217  2020-12-16  1339356516344766465   \n",
       "219  2020-12-16  1339355896552464384   \n",
       "\n",
       "                                                  Text  \\\n",
       "68   An excellent and inspiring introduction to, an...   \n",
       "75   Bitcoin, Blockchain and the Black Community - ...   \n",
       "86   JAY-Z/@S_C_ and I are giving 500 BTC to a new ...   \n",
       "93   RT @bitcoinzay: The Black #Bitcoin Billionaire...   \n",
       "97   RT @CryptoPlug3: Crypto Blockchain Plug has lo...   \n",
       "119  The reason I have so much passion for #Bitcoin...   \n",
       "161  RT @BitcoinMagazine: Proof of Keys Day - Learn...   \n",
       "163  RT @balajis: It is not possible for the US gov...   \n",
       "168                            Happy birthday #Bitcoin   \n",
       "177  RT @TheBlueMatt: Bitcoin is one of Cypherpunkd...   \n",
       "192  This is very well done @bluewalletio #Bitcoin ...   \n",
       "217  RT @BitcoinCritics: Square's #Bitcoin position...   \n",
       "219  RT @NTmoney: Beautiful post from a Reddit user...   \n",
       "\n",
       "                                       sentiment         price  polarity  \\\n",
       "68                                   (0.75, 1.0)  48415.816406      0.75   \n",
       "75   (-0.16666666666666666, 0.43333333333333335)  49709.082031     -0.17   \n",
       "86    (0.06818181818181818, 0.22727272727272727)  47877.035156      0.07   \n",
       "93     (0.16666666666666669, 0.7166666666666667)  36931.546875      0.17   \n",
       "97     (0.16666666666666669, 0.6611111111111111)  37475.105469      0.17   \n",
       "119    (0.20714285714285713, 0.3142857142857143)  37325.109375      0.21   \n",
       "161                                   (1.0, 0.3)  32129.408203      1.00   \n",
       "163    (0.16666666666666666, 0.5750000000000001)  32129.408203      0.17   \n",
       "168                                   (0.8, 1.0)  32129.408203      0.80   \n",
       "177                                   (1.0, 1.0)  29376.455078      1.00   \n",
       "192                                   (0.2, 0.3)  23781.974609      0.20   \n",
       "217                                  (-0.4, 0.6)  19418.818359     -0.40   \n",
       "219                                   (0.5, 1.0)  19418.818359      0.50   \n",
       "\n",
       "     subjectivity  polarity_abs  \n",
       "68       1.000000          0.75  \n",
       "75       0.433333          0.17  \n",
       "86       0.227273          0.07  \n",
       "93       0.716667          0.17  \n",
       "97       0.661111          0.17  \n",
       "119      0.314286          0.21  \n",
       "161      0.300000          1.00  \n",
       "163      0.575000          0.17  \n",
       "168      1.000000          0.80  \n",
       "177      1.000000          1.00  \n",
       "192      0.300000          0.20  \n",
       "217      0.600000          0.40  \n",
       "219      1.000000          0.50  "
      ]
     },
     "execution_count": 72,
     "metadata": {},
     "output_type": "execute_result"
    }
   ],
   "source": [
    "\n",
    "#We then remove any tweets with a 0 sentiment score as these in theory aren't interesting\n",
    "\n",
    "df_filtered = result[result['Text'].str.contains(Term_1)]\n",
    "\n",
    "df_filtered = df_filtered[df_filtered['polarity'] != 0]\n",
    "\n",
    "df_filtered\n"
   ]
  },
  {
   "cell_type": "markdown",
   "metadata": {},
   "source": [
    "# Producing the graph\n",
    "\n",
    "\n",
    "### Comment on data collection\n",
    "\n",
    "Though it would be nice to press run and we get everything we need pulled down without too much manual entry, at the end of the day you need consider whether it's worth it to automate some things. There's certain bits of news that I have in the back of my mind that aren't tweets but I do feel would compliment the analysis - to do this you can create manual annotations and place them onto the graph by eye."
   ]
  },
  {
   "cell_type": "code",
   "execution_count": 132,
   "metadata": {},
   "outputs": [
    {
     "data": {
      "application/vnd.plotly.v1+json": {
       "config": {
        "plotlyServerURL": "https://plot.ly"
       },
       "data": [
        {
         "hovertemplate": "Date=%{x}<br>Open=%{y}<extra></extra>",
         "legendgroup": "",
         "line": {
          "color": "#1F77B4",
          "dash": "solid"
         },
         "mode": "lines",
         "name": "",
         "orientation": "v",
         "showlegend": false,
         "textposition": "top center",
         "type": "scatter",
         "x": [
          "2020-11-01",
          "2020-11-02",
          "2020-11-03",
          "2020-11-04",
          "2020-11-05",
          "2020-11-06",
          "2020-11-07",
          "2020-11-08",
          "2020-11-09",
          "2020-11-10",
          "2020-11-11",
          "2020-11-12",
          "2020-11-13",
          "2020-11-14",
          "2020-11-15",
          "2020-11-16",
          "2020-11-17",
          "2020-11-18",
          "2020-11-19",
          "2020-11-20",
          "2020-11-21",
          "2020-11-22",
          "2020-11-23",
          "2020-11-24",
          "2020-11-25",
          "2020-11-26",
          "2020-11-27",
          "2020-11-28",
          "2020-11-29",
          "2020-11-30",
          "2020-12-01",
          "2020-12-02",
          "2020-12-03",
          "2020-12-04",
          "2020-12-05",
          "2020-12-06",
          "2020-12-07",
          "2020-12-08",
          "2020-12-09",
          "2020-12-10",
          "2020-12-11",
          "2020-12-12",
          "2020-12-13",
          "2020-12-14",
          "2020-12-15",
          "2020-12-16",
          "2020-12-17",
          "2020-12-18",
          "2020-12-19",
          "2020-12-20",
          "2020-12-21",
          "2020-12-22",
          "2020-12-23",
          "2020-12-24",
          "2020-12-25",
          "2020-12-26",
          "2020-12-27",
          "2020-12-28",
          "2020-12-29",
          "2020-12-30",
          "2020-12-31",
          "2021-01-01",
          "2021-01-02",
          "2021-01-03",
          "2021-01-04",
          "2021-01-05",
          "2021-01-06",
          "2021-01-07",
          "2021-01-08",
          "2021-01-09",
          "2021-01-10",
          "2021-01-11",
          "2021-01-12",
          "2021-01-13",
          "2021-01-14",
          "2021-01-15",
          "2021-01-16",
          "2021-01-17",
          "2021-01-18",
          "2021-01-19",
          "2021-01-20",
          "2021-01-21",
          "2021-01-22",
          "2021-01-23",
          "2021-01-24",
          "2021-01-25",
          "2021-01-26",
          "2021-01-27",
          "2021-01-28",
          "2021-01-29",
          "2021-01-30",
          "2021-01-31",
          "2021-02-01",
          "2021-02-02",
          "2021-02-03",
          "2021-02-04",
          "2021-02-05",
          "2021-02-06",
          "2021-02-07",
          "2021-02-08",
          "2021-02-09",
          "2021-02-10",
          "2021-02-11",
          "2021-02-12",
          "2021-02-13",
          "2021-02-14",
          "2021-02-15",
          "2021-02-16",
          "2021-02-17",
          "2021-02-18",
          "2021-02-19",
          "2021-02-20",
          "2021-02-21",
          "2021-02-22",
          "2021-02-23",
          "2021-02-24",
          "2021-02-25",
          "2021-02-26",
          "2021-02-27",
          "2021-02-28",
          "2021-03-01",
          "2021-03-02",
          "2021-03-03",
          "2021-03-04",
          "2021-03-05",
          "2021-03-06",
          "2021-03-07",
          "2021-03-08",
          "2021-03-09",
          "2021-03-10",
          "2021-03-11",
          "2021-03-12",
          "2021-03-13",
          "2021-03-14",
          "2021-03-15",
          "2021-03-16",
          "2021-03-17",
          "2021-03-18",
          "2021-03-19",
          "2021-03-20",
          "2021-03-21",
          "2021-03-22",
          "2021-03-23",
          "2021-03-24",
          "2021-03-25",
          "2021-03-26",
          "2021-03-27"
         ],
         "xaxis": "x",
         "y": [
          13780.9951171875,
          13737.0322265625,
          13550.451171875,
          13950.48828125,
          14133.7333984375,
          15579.7294921875,
          15565.880859375,
          14833.75390625,
          15479.595703125,
          15332.3505859375,
          15290.9091796875,
          15701.298828125,
          16276.4404296875,
          16317.80859375,
          16068.1396484375,
          15955.5771484375,
          16685.69140625,
          17645.19140625,
          17803.861328125,
          17817.083984375,
          18621.31640625,
          18642.232421875,
          18370.017578125,
          18365.015625,
          19104.41015625,
          18729.83984375,
          17153.9140625,
          17112.93359375,
          17719.634765625,
          18178.322265625,
          19633.76953125,
          18801.744140625,
          19205.92578125,
          19446.966796875,
          18698.384765625,
          19154.1796875,
          19343.12890625,
          19191.529296875,
          18320.884765625,
          18553.298828125,
          18263.9296875,
          18051.3203125,
          18806.765625,
          19144.4921875,
          19246.919921875,
          19418.818359375,
          21308.3515625,
          22806.796875,
          23132.865234375,
          23861.765625,
          23474.455078125,
          22794.0390625,
          23781.974609375,
          23240.203125,
          23733.5703125,
          24677.015625,
          26439.373046875,
          26280.822265625,
          27081.810546875,
          27360.08984375,
          28841.57421875,
          28994.009765625,
          29376.455078125,
          32129.408203125,
          32810.94921875,
          31977.041015625,
          34013.61328125,
          36833.875,
          39381.765625,
          40788.640625,
          40254.21875,
          38346.53125,
          35516.359375,
          33915.12109375,
          37325.109375,
          39156.70703125,
          36821.6484375,
          36163.6484375,
          35792.23828125,
          36642.234375,
          36050.11328125,
          35549.3984375,
          30817.625,
          32985.7578125,
          32064.376953125,
          32285.798828125,
          32358.61328125,
          32564.029296875,
          30441.041015625,
          34318.671875,
          34295.93359375,
          34270.87890625,
          33114.578125,
          33533.19921875,
          35510.8203125,
          37475.10546875,
          36931.546875,
          38138.38671875,
          39250.19140625,
          38886.828125,
          46184.9921875,
          46469.76171875,
          44898.7109375,
          47877.03515625,
          47491.203125,
          47114.5078125,
          48696.53515625,
          47944.45703125,
          49207.27734375,
          52140.97265625,
          51675.98046875,
          55887.3359375,
          56068.56640625,
          57532.73828125,
          54204.9296875,
          48835.0859375,
          49709.08203125,
          47180.46484375,
          46344.7734375,
          46194.015625,
          45159.50390625,
          49612.10546875,
          48415.81640625,
          50522.3046875,
          48527.03125,
          48899.23046875,
          48918.6796875,
          51174.1171875,
          52272.96875,
          54824.01171875,
          55963.1796875,
          57821.21875,
          57343.37109375,
          61221.1328125,
          59267.4296875,
          55840.78515625,
          56825.828125,
          58893.078125,
          57850.44140625,
          58332.26171875,
          58309.9140625,
          57517.890625,
          54511.66015625,
          54710.48828125,
          52726.74609375,
          51683.01171875,
          55111.53515625
         ],
         "yaxis": "y"
        },
        {
         "customdata": [
          [
           "An excellent and inspiring introduction to, and reminder of, #Bitcoin's value to the world, all through a comprehen… https://t.co/ufUQsqeEoy"
          ],
          [
           "Bitcoin, Blockchain and the Black Community - CoinDesk https://t.co/3KH6W7Rg0Q"
          ],
          [
           "JAY-Z/@S_C_ and I are giving 500 BTC to a new endowment named ₿trust to fund #Bitcoin development, initially focuse… https://t.co/qsrkBMuNnv"
          ],
          [
           "RT @bitcoinzay: The Black #Bitcoin Billionaires on Clubhouse are glad to partner with @cashapp \n\nThe Satoshi Millionaire Campaign 🚀\n\nSign u…"
          ],
          [
           "RT @CryptoPlug3: Crypto Blockchain Plug has locked arms with the Black Bitcoin Billionaires to make sure that 100k families obtain 1 Millio…"
          ],
          [
           "The reason I have so much passion for #Bitcoin is largely because of the model it demonstrates: a foundational inte… https://t.co/jltt0CC5VB"
          ],
          [
           "RT @BitcoinMagazine: Proof of Keys Day - Learn Bitcoin Best Practices - Hosted by @ck_SNARKs &amp; @matt_odell https://t.co/Ft5pVFM8fn"
          ],
          [
           "RT @balajis: It is not possible for the US government to mount a technical attack on #Bitcoin. They're barely able to mail paper checks.\n\nH…"
          ],
          [
           "Happy birthday #Bitcoin"
          ],
          [
           "RT @TheBlueMatt: Bitcoin is one of Cypherpunkdom's Greatest Achievements\n\nhttps://t.co/8VUTa3qOFH"
          ],
          [
           "This is very well done @bluewalletio #Bitcoin https://t.co/b8Glsa6YHF"
          ],
          [
           "RT @BitcoinCritics: Square's #Bitcoin position has now 𝗱𝗼𝘂𝗯𝗹𝗲𝗱 𝗶𝗻 𝘃𝗮𝗹𝘂𝗲.\n\nOn October 7, 2020, Square, Inc. purchased approximately 4,709 bi…"
          ],
          [
           "RT @NTmoney: Beautiful post from a Reddit user in Lebanon \n\n\"Bitcoin is freedom! Bitcoin is our only way out!\" https://t.co/Wmrswgvg8Z"
          ]
         ],
         "hovertemplate": "Datetime=%{x}<br>price=%{y}<br>polarity_abs=%{marker.size}<br>polarity=%{text}<br>Text=%{customdata[0]}<extra></extra>",
         "legendgroup": "",
         "marker": {
          "color": "#636efa",
          "size": [
           0.75,
           0.17,
           0.07,
           0.17,
           0.17,
           0.21,
           1,
           0.17,
           0.8,
           1,
           0.2,
           0.4,
           0.5
          ],
          "sizemode": "area",
          "sizeref": 0.0025,
          "symbol": "circle"
         },
         "mode": "markers+text",
         "name": "",
         "orientation": "v",
         "showlegend": false,
         "text": [
          0.75,
          -0.17,
          0.07,
          0.17,
          0.17,
          0.21,
          1,
          0.17,
          0.8,
          1,
          0.2,
          -0.4,
          0.5
         ],
         "textposition": "top center",
         "type": "scatter",
         "x": [
          "2021-03-03",
          "2021-02-25",
          "2021-02-12",
          "2021-02-05",
          "2021-02-04",
          "2021-01-14",
          "2021-01-03",
          "2021-01-03",
          "2021-01-03",
          "2021-01-02",
          "2020-12-23",
          "2020-12-16",
          "2020-12-16"
         ],
         "xaxis": "x",
         "y": [
          48415.81640625,
          49709.08203125,
          47877.03515625,
          36931.546875,
          37475.10546875,
          37325.109375,
          32129.408203125,
          32129.408203125,
          32129.408203125,
          29376.455078125,
          23781.974609375,
          19418.818359375,
          19418.818359375
         ],
         "yaxis": "y"
        }
       ],
       "layout": {
        "annotations": [
         {
          "arrowhead": 1,
          "ax": 2,
          "ay": 50,
          "showarrow": true,
          "text": "Elon Musk changes his bio to #bitcoin",
          "x": "2021-01-29 00:00:00.00000",
          "y": 33111
         },
         {
          "arrowhead": 1,
          "ax": 2,
          "showarrow": true,
          "text": "'That said, BTC & ETH do seem high lol'",
          "x": "2021-02-20 00:00:00.00000",
          "y": 56800
         },
         {
          "arrowhead": 1,
          "ax": -160,
          "showarrow": true,
          "text": "Tesla's 10-K return shows $1.5bn of bitcoin holdings",
          "x": "2021-02-08 10:00:00.00000",
          "y": 46196
         }
        ],
        "legend": {
         "tracegroupgap": 0
        },
        "template": {
         "data": {
          "bar": [
           {
            "error_x": {
             "color": "rgb(36,36,36)"
            },
            "error_y": {
             "color": "rgb(36,36,36)"
            },
            "marker": {
             "line": {
              "color": "white",
              "width": 0.5
             }
            },
            "type": "bar"
           }
          ],
          "barpolar": [
           {
            "marker": {
             "line": {
              "color": "white",
              "width": 0.5
             }
            },
            "type": "barpolar"
           }
          ],
          "carpet": [
           {
            "aaxis": {
             "endlinecolor": "rgb(36,36,36)",
             "gridcolor": "white",
             "linecolor": "white",
             "minorgridcolor": "white",
             "startlinecolor": "rgb(36,36,36)"
            },
            "baxis": {
             "endlinecolor": "rgb(36,36,36)",
             "gridcolor": "white",
             "linecolor": "white",
             "minorgridcolor": "white",
             "startlinecolor": "rgb(36,36,36)"
            },
            "type": "carpet"
           }
          ],
          "choropleth": [
           {
            "colorbar": {
             "outlinewidth": 1,
             "tickcolor": "rgb(36,36,36)",
             "ticks": "outside"
            },
            "type": "choropleth"
           }
          ],
          "contour": [
           {
            "colorbar": {
             "outlinewidth": 1,
             "tickcolor": "rgb(36,36,36)",
             "ticks": "outside"
            },
            "colorscale": [
             [
              0,
              "#440154"
             ],
             [
              0.1111111111111111,
              "#482878"
             ],
             [
              0.2222222222222222,
              "#3e4989"
             ],
             [
              0.3333333333333333,
              "#31688e"
             ],
             [
              0.4444444444444444,
              "#26828e"
             ],
             [
              0.5555555555555556,
              "#1f9e89"
             ],
             [
              0.6666666666666666,
              "#35b779"
             ],
             [
              0.7777777777777778,
              "#6ece58"
             ],
             [
              0.8888888888888888,
              "#b5de2b"
             ],
             [
              1,
              "#fde725"
             ]
            ],
            "type": "contour"
           }
          ],
          "contourcarpet": [
           {
            "colorbar": {
             "outlinewidth": 1,
             "tickcolor": "rgb(36,36,36)",
             "ticks": "outside"
            },
            "type": "contourcarpet"
           }
          ],
          "heatmap": [
           {
            "colorbar": {
             "outlinewidth": 1,
             "tickcolor": "rgb(36,36,36)",
             "ticks": "outside"
            },
            "colorscale": [
             [
              0,
              "#440154"
             ],
             [
              0.1111111111111111,
              "#482878"
             ],
             [
              0.2222222222222222,
              "#3e4989"
             ],
             [
              0.3333333333333333,
              "#31688e"
             ],
             [
              0.4444444444444444,
              "#26828e"
             ],
             [
              0.5555555555555556,
              "#1f9e89"
             ],
             [
              0.6666666666666666,
              "#35b779"
             ],
             [
              0.7777777777777778,
              "#6ece58"
             ],
             [
              0.8888888888888888,
              "#b5de2b"
             ],
             [
              1,
              "#fde725"
             ]
            ],
            "type": "heatmap"
           }
          ],
          "heatmapgl": [
           {
            "colorbar": {
             "outlinewidth": 1,
             "tickcolor": "rgb(36,36,36)",
             "ticks": "outside"
            },
            "colorscale": [
             [
              0,
              "#440154"
             ],
             [
              0.1111111111111111,
              "#482878"
             ],
             [
              0.2222222222222222,
              "#3e4989"
             ],
             [
              0.3333333333333333,
              "#31688e"
             ],
             [
              0.4444444444444444,
              "#26828e"
             ],
             [
              0.5555555555555556,
              "#1f9e89"
             ],
             [
              0.6666666666666666,
              "#35b779"
             ],
             [
              0.7777777777777778,
              "#6ece58"
             ],
             [
              0.8888888888888888,
              "#b5de2b"
             ],
             [
              1,
              "#fde725"
             ]
            ],
            "type": "heatmapgl"
           }
          ],
          "histogram": [
           {
            "marker": {
             "line": {
              "color": "white",
              "width": 0.6
             }
            },
            "type": "histogram"
           }
          ],
          "histogram2d": [
           {
            "colorbar": {
             "outlinewidth": 1,
             "tickcolor": "rgb(36,36,36)",
             "ticks": "outside"
            },
            "colorscale": [
             [
              0,
              "#440154"
             ],
             [
              0.1111111111111111,
              "#482878"
             ],
             [
              0.2222222222222222,
              "#3e4989"
             ],
             [
              0.3333333333333333,
              "#31688e"
             ],
             [
              0.4444444444444444,
              "#26828e"
             ],
             [
              0.5555555555555556,
              "#1f9e89"
             ],
             [
              0.6666666666666666,
              "#35b779"
             ],
             [
              0.7777777777777778,
              "#6ece58"
             ],
             [
              0.8888888888888888,
              "#b5de2b"
             ],
             [
              1,
              "#fde725"
             ]
            ],
            "type": "histogram2d"
           }
          ],
          "histogram2dcontour": [
           {
            "colorbar": {
             "outlinewidth": 1,
             "tickcolor": "rgb(36,36,36)",
             "ticks": "outside"
            },
            "colorscale": [
             [
              0,
              "#440154"
             ],
             [
              0.1111111111111111,
              "#482878"
             ],
             [
              0.2222222222222222,
              "#3e4989"
             ],
             [
              0.3333333333333333,
              "#31688e"
             ],
             [
              0.4444444444444444,
              "#26828e"
             ],
             [
              0.5555555555555556,
              "#1f9e89"
             ],
             [
              0.6666666666666666,
              "#35b779"
             ],
             [
              0.7777777777777778,
              "#6ece58"
             ],
             [
              0.8888888888888888,
              "#b5de2b"
             ],
             [
              1,
              "#fde725"
             ]
            ],
            "type": "histogram2dcontour"
           }
          ],
          "mesh3d": [
           {
            "colorbar": {
             "outlinewidth": 1,
             "tickcolor": "rgb(36,36,36)",
             "ticks": "outside"
            },
            "type": "mesh3d"
           }
          ],
          "parcoords": [
           {
            "line": {
             "colorbar": {
              "outlinewidth": 1,
              "tickcolor": "rgb(36,36,36)",
              "ticks": "outside"
             }
            },
            "type": "parcoords"
           }
          ],
          "pie": [
           {
            "automargin": true,
            "type": "pie"
           }
          ],
          "scatter": [
           {
            "marker": {
             "colorbar": {
              "outlinewidth": 1,
              "tickcolor": "rgb(36,36,36)",
              "ticks": "outside"
             }
            },
            "type": "scatter"
           }
          ],
          "scatter3d": [
           {
            "line": {
             "colorbar": {
              "outlinewidth": 1,
              "tickcolor": "rgb(36,36,36)",
              "ticks": "outside"
             }
            },
            "marker": {
             "colorbar": {
              "outlinewidth": 1,
              "tickcolor": "rgb(36,36,36)",
              "ticks": "outside"
             }
            },
            "type": "scatter3d"
           }
          ],
          "scattercarpet": [
           {
            "marker": {
             "colorbar": {
              "outlinewidth": 1,
              "tickcolor": "rgb(36,36,36)",
              "ticks": "outside"
             }
            },
            "type": "scattercarpet"
           }
          ],
          "scattergeo": [
           {
            "marker": {
             "colorbar": {
              "outlinewidth": 1,
              "tickcolor": "rgb(36,36,36)",
              "ticks": "outside"
             }
            },
            "type": "scattergeo"
           }
          ],
          "scattergl": [
           {
            "marker": {
             "colorbar": {
              "outlinewidth": 1,
              "tickcolor": "rgb(36,36,36)",
              "ticks": "outside"
             }
            },
            "type": "scattergl"
           }
          ],
          "scattermapbox": [
           {
            "marker": {
             "colorbar": {
              "outlinewidth": 1,
              "tickcolor": "rgb(36,36,36)",
              "ticks": "outside"
             }
            },
            "type": "scattermapbox"
           }
          ],
          "scatterpolar": [
           {
            "marker": {
             "colorbar": {
              "outlinewidth": 1,
              "tickcolor": "rgb(36,36,36)",
              "ticks": "outside"
             }
            },
            "type": "scatterpolar"
           }
          ],
          "scatterpolargl": [
           {
            "marker": {
             "colorbar": {
              "outlinewidth": 1,
              "tickcolor": "rgb(36,36,36)",
              "ticks": "outside"
             }
            },
            "type": "scatterpolargl"
           }
          ],
          "scatterternary": [
           {
            "marker": {
             "colorbar": {
              "outlinewidth": 1,
              "tickcolor": "rgb(36,36,36)",
              "ticks": "outside"
             }
            },
            "type": "scatterternary"
           }
          ],
          "surface": [
           {
            "colorbar": {
             "outlinewidth": 1,
             "tickcolor": "rgb(36,36,36)",
             "ticks": "outside"
            },
            "colorscale": [
             [
              0,
              "#440154"
             ],
             [
              0.1111111111111111,
              "#482878"
             ],
             [
              0.2222222222222222,
              "#3e4989"
             ],
             [
              0.3333333333333333,
              "#31688e"
             ],
             [
              0.4444444444444444,
              "#26828e"
             ],
             [
              0.5555555555555556,
              "#1f9e89"
             ],
             [
              0.6666666666666666,
              "#35b779"
             ],
             [
              0.7777777777777778,
              "#6ece58"
             ],
             [
              0.8888888888888888,
              "#b5de2b"
             ],
             [
              1,
              "#fde725"
             ]
            ],
            "type": "surface"
           }
          ],
          "table": [
           {
            "cells": {
             "fill": {
              "color": "rgb(237,237,237)"
             },
             "line": {
              "color": "white"
             }
            },
            "header": {
             "fill": {
              "color": "rgb(217,217,217)"
             },
             "line": {
              "color": "white"
             }
            },
            "type": "table"
           }
          ]
         },
         "layout": {
          "annotationdefaults": {
           "arrowhead": 0,
           "arrowwidth": 1
          },
          "autotypenumbers": "strict",
          "coloraxis": {
           "colorbar": {
            "outlinewidth": 1,
            "tickcolor": "rgb(36,36,36)",
            "ticks": "outside"
           }
          },
          "colorscale": {
           "diverging": [
            [
             0,
             "rgb(103,0,31)"
            ],
            [
             0.1,
             "rgb(178,24,43)"
            ],
            [
             0.2,
             "rgb(214,96,77)"
            ],
            [
             0.3,
             "rgb(244,165,130)"
            ],
            [
             0.4,
             "rgb(253,219,199)"
            ],
            [
             0.5,
             "rgb(247,247,247)"
            ],
            [
             0.6,
             "rgb(209,229,240)"
            ],
            [
             0.7,
             "rgb(146,197,222)"
            ],
            [
             0.8,
             "rgb(67,147,195)"
            ],
            [
             0.9,
             "rgb(33,102,172)"
            ],
            [
             1,
             "rgb(5,48,97)"
            ]
           ],
           "sequential": [
            [
             0,
             "#440154"
            ],
            [
             0.1111111111111111,
             "#482878"
            ],
            [
             0.2222222222222222,
             "#3e4989"
            ],
            [
             0.3333333333333333,
             "#31688e"
            ],
            [
             0.4444444444444444,
             "#26828e"
            ],
            [
             0.5555555555555556,
             "#1f9e89"
            ],
            [
             0.6666666666666666,
             "#35b779"
            ],
            [
             0.7777777777777778,
             "#6ece58"
            ],
            [
             0.8888888888888888,
             "#b5de2b"
            ],
            [
             1,
             "#fde725"
            ]
           ],
           "sequentialminus": [
            [
             0,
             "#440154"
            ],
            [
             0.1111111111111111,
             "#482878"
            ],
            [
             0.2222222222222222,
             "#3e4989"
            ],
            [
             0.3333333333333333,
             "#31688e"
            ],
            [
             0.4444444444444444,
             "#26828e"
            ],
            [
             0.5555555555555556,
             "#1f9e89"
            ],
            [
             0.6666666666666666,
             "#35b779"
            ],
            [
             0.7777777777777778,
             "#6ece58"
            ],
            [
             0.8888888888888888,
             "#b5de2b"
            ],
            [
             1,
             "#fde725"
            ]
           ]
          },
          "colorway": [
           "#1F77B4",
           "#FF7F0E",
           "#2CA02C",
           "#D62728",
           "#9467BD",
           "#8C564B",
           "#E377C2",
           "#7F7F7F",
           "#BCBD22",
           "#17BECF"
          ],
          "font": {
           "color": "rgb(36,36,36)"
          },
          "geo": {
           "bgcolor": "white",
           "lakecolor": "white",
           "landcolor": "white",
           "showlakes": true,
           "showland": true,
           "subunitcolor": "white"
          },
          "hoverlabel": {
           "align": "left"
          },
          "hovermode": "closest",
          "mapbox": {
           "style": "light"
          },
          "paper_bgcolor": "white",
          "plot_bgcolor": "white",
          "polar": {
           "angularaxis": {
            "gridcolor": "rgb(232,232,232)",
            "linecolor": "rgb(36,36,36)",
            "showgrid": false,
            "showline": true,
            "ticks": "outside"
           },
           "bgcolor": "white",
           "radialaxis": {
            "gridcolor": "rgb(232,232,232)",
            "linecolor": "rgb(36,36,36)",
            "showgrid": false,
            "showline": true,
            "ticks": "outside"
           }
          },
          "scene": {
           "xaxis": {
            "backgroundcolor": "white",
            "gridcolor": "rgb(232,232,232)",
            "gridwidth": 2,
            "linecolor": "rgb(36,36,36)",
            "showbackground": true,
            "showgrid": false,
            "showline": true,
            "ticks": "outside",
            "zeroline": false,
            "zerolinecolor": "rgb(36,36,36)"
           },
           "yaxis": {
            "backgroundcolor": "white",
            "gridcolor": "rgb(232,232,232)",
            "gridwidth": 2,
            "linecolor": "rgb(36,36,36)",
            "showbackground": true,
            "showgrid": false,
            "showline": true,
            "ticks": "outside",
            "zeroline": false,
            "zerolinecolor": "rgb(36,36,36)"
           },
           "zaxis": {
            "backgroundcolor": "white",
            "gridcolor": "rgb(232,232,232)",
            "gridwidth": 2,
            "linecolor": "rgb(36,36,36)",
            "showbackground": true,
            "showgrid": false,
            "showline": true,
            "ticks": "outside",
            "zeroline": false,
            "zerolinecolor": "rgb(36,36,36)"
           }
          },
          "shapedefaults": {
           "fillcolor": "black",
           "line": {
            "width": 0
           },
           "opacity": 0.3
          },
          "ternary": {
           "aaxis": {
            "gridcolor": "rgb(232,232,232)",
            "linecolor": "rgb(36,36,36)",
            "showgrid": false,
            "showline": true,
            "ticks": "outside"
           },
           "baxis": {
            "gridcolor": "rgb(232,232,232)",
            "linecolor": "rgb(36,36,36)",
            "showgrid": false,
            "showline": true,
            "ticks": "outside"
           },
           "bgcolor": "white",
           "caxis": {
            "gridcolor": "rgb(232,232,232)",
            "linecolor": "rgb(36,36,36)",
            "showgrid": false,
            "showline": true,
            "ticks": "outside"
           }
          },
          "title": {
           "x": 0.05
          },
          "xaxis": {
           "automargin": true,
           "gridcolor": "rgb(232,232,232)",
           "linecolor": "rgb(36,36,36)",
           "showgrid": false,
           "showline": true,
           "ticks": "outside",
           "title": {
            "standoff": 15
           },
           "zeroline": false,
           "zerolinecolor": "rgb(36,36,36)"
          },
          "yaxis": {
           "automargin": true,
           "gridcolor": "rgb(232,232,232)",
           "linecolor": "rgb(36,36,36)",
           "showgrid": false,
           "showline": true,
           "ticks": "outside",
           "title": {
            "standoff": 15
           },
           "zeroline": false,
           "zerolinecolor": "rgb(36,36,36)"
          }
         }
        },
        "title": {
         "text": "BTC-USD price against @elonmusk's Tweets",
         "x": 0.5,
         "xanchor": "center",
         "y": 0.92,
         "yanchor": "top"
        },
        "xaxis": {
         "anchor": "y",
         "domain": [
          0,
          1
         ],
         "title": {
          "text": "Date"
         }
        },
        "yaxis": {
         "anchor": "x",
         "domain": [
          0,
          1
         ],
         "title": {
          "text": "Price at open (USD)"
         }
        }
       }
      },
      "text/html": [
       "<div>                            <div id=\"5b970d2b-c2b8-4b57-9875-3f199265d074\" class=\"plotly-graph-div\" style=\"height:525px; width:100%;\"></div>            <script type=\"text/javascript\">                require([\"plotly\"], function(Plotly) {                    window.PLOTLYENV=window.PLOTLYENV || {};                                    if (document.getElementById(\"5b970d2b-c2b8-4b57-9875-3f199265d074\")) {                    Plotly.newPlot(                        \"5b970d2b-c2b8-4b57-9875-3f199265d074\",                        [{\"hovertemplate\": \"Date=%{x}<br>Open=%{y}<extra></extra>\", \"legendgroup\": \"\", \"line\": {\"color\": \"#1F77B4\", \"dash\": \"solid\"}, \"mode\": \"lines\", \"name\": \"\", \"orientation\": \"v\", \"showlegend\": false, \"textposition\": \"top center\", \"type\": \"scatter\", \"x\": [\"2020-11-01\", \"2020-11-02\", \"2020-11-03\", \"2020-11-04\", \"2020-11-05\", \"2020-11-06\", \"2020-11-07\", \"2020-11-08\", \"2020-11-09\", \"2020-11-10\", \"2020-11-11\", \"2020-11-12\", \"2020-11-13\", \"2020-11-14\", \"2020-11-15\", \"2020-11-16\", \"2020-11-17\", \"2020-11-18\", \"2020-11-19\", \"2020-11-20\", \"2020-11-21\", \"2020-11-22\", \"2020-11-23\", \"2020-11-24\", \"2020-11-25\", \"2020-11-26\", \"2020-11-27\", \"2020-11-28\", \"2020-11-29\", \"2020-11-30\", \"2020-12-01\", \"2020-12-02\", \"2020-12-03\", \"2020-12-04\", \"2020-12-05\", \"2020-12-06\", \"2020-12-07\", \"2020-12-08\", \"2020-12-09\", \"2020-12-10\", \"2020-12-11\", \"2020-12-12\", \"2020-12-13\", \"2020-12-14\", \"2020-12-15\", \"2020-12-16\", \"2020-12-17\", \"2020-12-18\", \"2020-12-19\", \"2020-12-20\", \"2020-12-21\", \"2020-12-22\", \"2020-12-23\", \"2020-12-24\", \"2020-12-25\", \"2020-12-26\", \"2020-12-27\", \"2020-12-28\", \"2020-12-29\", \"2020-12-30\", \"2020-12-31\", \"2021-01-01\", \"2021-01-02\", \"2021-01-03\", \"2021-01-04\", \"2021-01-05\", \"2021-01-06\", \"2021-01-07\", \"2021-01-08\", \"2021-01-09\", \"2021-01-10\", \"2021-01-11\", \"2021-01-12\", \"2021-01-13\", \"2021-01-14\", \"2021-01-15\", \"2021-01-16\", \"2021-01-17\", \"2021-01-18\", \"2021-01-19\", \"2021-01-20\", \"2021-01-21\", \"2021-01-22\", \"2021-01-23\", \"2021-01-24\", \"2021-01-25\", \"2021-01-26\", \"2021-01-27\", \"2021-01-28\", \"2021-01-29\", \"2021-01-30\", \"2021-01-31\", \"2021-02-01\", \"2021-02-02\", \"2021-02-03\", \"2021-02-04\", \"2021-02-05\", \"2021-02-06\", \"2021-02-07\", \"2021-02-08\", \"2021-02-09\", \"2021-02-10\", \"2021-02-11\", \"2021-02-12\", \"2021-02-13\", \"2021-02-14\", \"2021-02-15\", \"2021-02-16\", \"2021-02-17\", \"2021-02-18\", \"2021-02-19\", \"2021-02-20\", \"2021-02-21\", \"2021-02-22\", \"2021-02-23\", \"2021-02-24\", \"2021-02-25\", \"2021-02-26\", \"2021-02-27\", \"2021-02-28\", \"2021-03-01\", \"2021-03-02\", \"2021-03-03\", \"2021-03-04\", \"2021-03-05\", \"2021-03-06\", \"2021-03-07\", \"2021-03-08\", \"2021-03-09\", \"2021-03-10\", \"2021-03-11\", \"2021-03-12\", \"2021-03-13\", \"2021-03-14\", \"2021-03-15\", \"2021-03-16\", \"2021-03-17\", \"2021-03-18\", \"2021-03-19\", \"2021-03-20\", \"2021-03-21\", \"2021-03-22\", \"2021-03-23\", \"2021-03-24\", \"2021-03-25\", \"2021-03-26\", \"2021-03-27\"], \"xaxis\": \"x\", \"y\": [13780.9951171875, 13737.0322265625, 13550.451171875, 13950.48828125, 14133.7333984375, 15579.7294921875, 15565.880859375, 14833.75390625, 15479.595703125, 15332.3505859375, 15290.9091796875, 15701.298828125, 16276.4404296875, 16317.80859375, 16068.1396484375, 15955.5771484375, 16685.69140625, 17645.19140625, 17803.861328125, 17817.083984375, 18621.31640625, 18642.232421875, 18370.017578125, 18365.015625, 19104.41015625, 18729.83984375, 17153.9140625, 17112.93359375, 17719.634765625, 18178.322265625, 19633.76953125, 18801.744140625, 19205.92578125, 19446.966796875, 18698.384765625, 19154.1796875, 19343.12890625, 19191.529296875, 18320.884765625, 18553.298828125, 18263.9296875, 18051.3203125, 18806.765625, 19144.4921875, 19246.919921875, 19418.818359375, 21308.3515625, 22806.796875, 23132.865234375, 23861.765625, 23474.455078125, 22794.0390625, 23781.974609375, 23240.203125, 23733.5703125, 24677.015625, 26439.373046875, 26280.822265625, 27081.810546875, 27360.08984375, 28841.57421875, 28994.009765625, 29376.455078125, 32129.408203125, 32810.94921875, 31977.041015625, 34013.61328125, 36833.875, 39381.765625, 40788.640625, 40254.21875, 38346.53125, 35516.359375, 33915.12109375, 37325.109375, 39156.70703125, 36821.6484375, 36163.6484375, 35792.23828125, 36642.234375, 36050.11328125, 35549.3984375, 30817.625, 32985.7578125, 32064.376953125, 32285.798828125, 32358.61328125, 32564.029296875, 30441.041015625, 34318.671875, 34295.93359375, 34270.87890625, 33114.578125, 33533.19921875, 35510.8203125, 37475.10546875, 36931.546875, 38138.38671875, 39250.19140625, 38886.828125, 46184.9921875, 46469.76171875, 44898.7109375, 47877.03515625, 47491.203125, 47114.5078125, 48696.53515625, 47944.45703125, 49207.27734375, 52140.97265625, 51675.98046875, 55887.3359375, 56068.56640625, 57532.73828125, 54204.9296875, 48835.0859375, 49709.08203125, 47180.46484375, 46344.7734375, 46194.015625, 45159.50390625, 49612.10546875, 48415.81640625, 50522.3046875, 48527.03125, 48899.23046875, 48918.6796875, 51174.1171875, 52272.96875, 54824.01171875, 55963.1796875, 57821.21875, 57343.37109375, 61221.1328125, 59267.4296875, 55840.78515625, 56825.828125, 58893.078125, 57850.44140625, 58332.26171875, 58309.9140625, 57517.890625, 54511.66015625, 54710.48828125, 52726.74609375, 51683.01171875, 55111.53515625], \"yaxis\": \"y\"}, {\"customdata\": [[\"An excellent and inspiring introduction to, and reminder of, #Bitcoin's value to the world, all through a comprehen\\u2026 https://t.co/ufUQsqeEoy\"], [\"Bitcoin, Blockchain and the Black Community - CoinDesk https://t.co/3KH6W7Rg0Q\"], [\"JAY-Z/@S_C_ and I are giving 500 BTC to a new endowment named \\u20bftrust to fund #Bitcoin development, initially focuse\\u2026 https://t.co/qsrkBMuNnv\"], [\"RT @bitcoinzay: The Black #Bitcoin Billionaires on Clubhouse are glad to partner with @cashapp \\n\\nThe Satoshi Millionaire Campaign \\ud83d\\ude80\\n\\nSign u\\u2026\"], [\"RT @CryptoPlug3: Crypto Blockchain Plug has locked arms with the Black Bitcoin Billionaires to make sure that 100k families obtain 1 Millio\\u2026\"], [\"The reason I have so much passion for #Bitcoin is largely because of the model it demonstrates: a foundational inte\\u2026 https://t.co/jltt0CC5VB\"], [\"RT @BitcoinMagazine: Proof of Keys Day - Learn Bitcoin Best Practices - Hosted by @ck_SNARKs &amp; @matt_odell https://t.co/Ft5pVFM8fn\"], [\"RT @balajis: It is not possible for the US government to mount a technical attack on #Bitcoin. They're barely able to mail paper checks.\\n\\nH\\u2026\"], [\"Happy birthday #Bitcoin\"], [\"RT @TheBlueMatt: Bitcoin is one of Cypherpunkdom's Greatest Achievements\\n\\nhttps://t.co/8VUTa3qOFH\"], [\"This is very well done @bluewalletio #Bitcoin https://t.co/b8Glsa6YHF\"], [\"RT @BitcoinCritics: Square's #Bitcoin position has now \\ud835\\uddf1\\ud835\\uddfc\\ud835\\ude02\\ud835\\uddef\\ud835\\uddf9\\ud835\\uddf2\\ud835\\uddf1 \\ud835\\uddf6\\ud835\\uddfb \\ud835\\ude03\\ud835\\uddee\\ud835\\uddf9\\ud835\\ude02\\ud835\\uddf2.\\n\\nOn October 7, 2020, Square, Inc. purchased approximately 4,709 bi\\u2026\"], [\"RT @NTmoney: Beautiful post from a Reddit user in Lebanon \\n\\n\\\"Bitcoin is freedom! Bitcoin is our only way out!\\\" https://t.co/Wmrswgvg8Z\"]], \"hovertemplate\": \"Datetime=%{x}<br>price=%{y}<br>polarity_abs=%{marker.size}<br>polarity=%{text}<br>Text=%{customdata[0]}<extra></extra>\", \"legendgroup\": \"\", \"marker\": {\"color\": \"#636efa\", \"size\": [0.75, 0.17, 0.07, 0.17, 0.17, 0.21, 1.0, 0.17, 0.8, 1.0, 0.2, 0.4, 0.5], \"sizemode\": \"area\", \"sizeref\": 0.0025, \"symbol\": \"circle\"}, \"mode\": \"markers+text\", \"name\": \"\", \"orientation\": \"v\", \"showlegend\": false, \"text\": [0.75, -0.17, 0.07, 0.17, 0.17, 0.21, 1.0, 0.17, 0.8, 1.0, 0.2, -0.4, 0.5], \"textposition\": \"top center\", \"type\": \"scatter\", \"x\": [\"2021-03-03\", \"2021-02-25\", \"2021-02-12\", \"2021-02-05\", \"2021-02-04\", \"2021-01-14\", \"2021-01-03\", \"2021-01-03\", \"2021-01-03\", \"2021-01-02\", \"2020-12-23\", \"2020-12-16\", \"2020-12-16\"], \"xaxis\": \"x\", \"y\": [48415.81640625, 49709.08203125, 47877.03515625, 36931.546875, 37475.10546875, 37325.109375, 32129.408203125, 32129.408203125, 32129.408203125, 29376.455078125, 23781.974609375, 19418.818359375, 19418.818359375], \"yaxis\": \"y\"}],                        {\"annotations\": [{\"arrowhead\": 1, \"ax\": 2, \"ay\": 50, \"showarrow\": true, \"text\": \"Elon Musk changes his bio to #bitcoin\", \"x\": \"2021-01-29 00:00:00.00000\", \"y\": 33111}, {\"arrowhead\": 1, \"ax\": 2, \"showarrow\": true, \"text\": \"'That said, BTC & ETH do seem high lol'\", \"x\": \"2021-02-20 00:00:00.00000\", \"y\": 56800}, {\"arrowhead\": 1, \"ax\": -160, \"showarrow\": true, \"text\": \"Tesla's 10-K return shows $1.5bn of bitcoin holdings\", \"x\": \"2021-02-08 10:00:00.00000\", \"y\": 46196}], \"legend\": {\"tracegroupgap\": 0}, \"template\": {\"data\": {\"bar\": [{\"error_x\": {\"color\": \"rgb(36,36,36)\"}, \"error_y\": {\"color\": \"rgb(36,36,36)\"}, \"marker\": {\"line\": {\"color\": \"white\", \"width\": 0.5}}, \"type\": \"bar\"}], \"barpolar\": [{\"marker\": {\"line\": {\"color\": \"white\", \"width\": 0.5}}, \"type\": \"barpolar\"}], \"carpet\": [{\"aaxis\": {\"endlinecolor\": \"rgb(36,36,36)\", \"gridcolor\": \"white\", \"linecolor\": \"white\", \"minorgridcolor\": \"white\", \"startlinecolor\": \"rgb(36,36,36)\"}, \"baxis\": {\"endlinecolor\": \"rgb(36,36,36)\", \"gridcolor\": \"white\", \"linecolor\": \"white\", \"minorgridcolor\": \"white\", \"startlinecolor\": \"rgb(36,36,36)\"}, \"type\": \"carpet\"}], \"choropleth\": [{\"colorbar\": {\"outlinewidth\": 1, \"tickcolor\": \"rgb(36,36,36)\", \"ticks\": \"outside\"}, \"type\": \"choropleth\"}], \"contour\": [{\"colorbar\": {\"outlinewidth\": 1, \"tickcolor\": \"rgb(36,36,36)\", \"ticks\": \"outside\"}, \"colorscale\": [[0.0, \"#440154\"], [0.1111111111111111, \"#482878\"], [0.2222222222222222, \"#3e4989\"], [0.3333333333333333, \"#31688e\"], [0.4444444444444444, \"#26828e\"], [0.5555555555555556, \"#1f9e89\"], [0.6666666666666666, \"#35b779\"], [0.7777777777777778, \"#6ece58\"], [0.8888888888888888, \"#b5de2b\"], [1.0, \"#fde725\"]], \"type\": \"contour\"}], \"contourcarpet\": [{\"colorbar\": {\"outlinewidth\": 1, \"tickcolor\": \"rgb(36,36,36)\", \"ticks\": \"outside\"}, \"type\": \"contourcarpet\"}], \"heatmap\": [{\"colorbar\": {\"outlinewidth\": 1, \"tickcolor\": \"rgb(36,36,36)\", \"ticks\": \"outside\"}, \"colorscale\": [[0.0, \"#440154\"], [0.1111111111111111, \"#482878\"], [0.2222222222222222, \"#3e4989\"], [0.3333333333333333, \"#31688e\"], [0.4444444444444444, \"#26828e\"], [0.5555555555555556, \"#1f9e89\"], [0.6666666666666666, \"#35b779\"], [0.7777777777777778, \"#6ece58\"], [0.8888888888888888, \"#b5de2b\"], [1.0, \"#fde725\"]], \"type\": \"heatmap\"}], \"heatmapgl\": [{\"colorbar\": {\"outlinewidth\": 1, \"tickcolor\": \"rgb(36,36,36)\", \"ticks\": \"outside\"}, \"colorscale\": [[0.0, \"#440154\"], [0.1111111111111111, \"#482878\"], [0.2222222222222222, \"#3e4989\"], [0.3333333333333333, \"#31688e\"], [0.4444444444444444, \"#26828e\"], [0.5555555555555556, \"#1f9e89\"], [0.6666666666666666, \"#35b779\"], [0.7777777777777778, \"#6ece58\"], [0.8888888888888888, \"#b5de2b\"], [1.0, \"#fde725\"]], \"type\": \"heatmapgl\"}], \"histogram\": [{\"marker\": {\"line\": {\"color\": \"white\", \"width\": 0.6}}, \"type\": \"histogram\"}], \"histogram2d\": [{\"colorbar\": {\"outlinewidth\": 1, \"tickcolor\": \"rgb(36,36,36)\", \"ticks\": \"outside\"}, \"colorscale\": [[0.0, \"#440154\"], [0.1111111111111111, \"#482878\"], [0.2222222222222222, \"#3e4989\"], [0.3333333333333333, \"#31688e\"], [0.4444444444444444, \"#26828e\"], [0.5555555555555556, \"#1f9e89\"], [0.6666666666666666, \"#35b779\"], [0.7777777777777778, \"#6ece58\"], [0.8888888888888888, \"#b5de2b\"], [1.0, \"#fde725\"]], \"type\": \"histogram2d\"}], \"histogram2dcontour\": [{\"colorbar\": {\"outlinewidth\": 1, \"tickcolor\": \"rgb(36,36,36)\", \"ticks\": \"outside\"}, \"colorscale\": [[0.0, \"#440154\"], [0.1111111111111111, \"#482878\"], [0.2222222222222222, \"#3e4989\"], [0.3333333333333333, \"#31688e\"], [0.4444444444444444, \"#26828e\"], [0.5555555555555556, \"#1f9e89\"], [0.6666666666666666, \"#35b779\"], [0.7777777777777778, \"#6ece58\"], [0.8888888888888888, \"#b5de2b\"], [1.0, \"#fde725\"]], \"type\": \"histogram2dcontour\"}], \"mesh3d\": [{\"colorbar\": {\"outlinewidth\": 1, \"tickcolor\": \"rgb(36,36,36)\", \"ticks\": \"outside\"}, \"type\": \"mesh3d\"}], \"parcoords\": [{\"line\": {\"colorbar\": {\"outlinewidth\": 1, \"tickcolor\": \"rgb(36,36,36)\", \"ticks\": \"outside\"}}, \"type\": \"parcoords\"}], \"pie\": [{\"automargin\": true, \"type\": \"pie\"}], \"scatter\": [{\"marker\": {\"colorbar\": {\"outlinewidth\": 1, \"tickcolor\": \"rgb(36,36,36)\", \"ticks\": \"outside\"}}, \"type\": \"scatter\"}], \"scatter3d\": [{\"line\": {\"colorbar\": {\"outlinewidth\": 1, \"tickcolor\": \"rgb(36,36,36)\", \"ticks\": \"outside\"}}, \"marker\": {\"colorbar\": {\"outlinewidth\": 1, \"tickcolor\": \"rgb(36,36,36)\", \"ticks\": \"outside\"}}, \"type\": \"scatter3d\"}], \"scattercarpet\": [{\"marker\": {\"colorbar\": {\"outlinewidth\": 1, \"tickcolor\": \"rgb(36,36,36)\", \"ticks\": \"outside\"}}, \"type\": \"scattercarpet\"}], \"scattergeo\": [{\"marker\": {\"colorbar\": {\"outlinewidth\": 1, \"tickcolor\": \"rgb(36,36,36)\", \"ticks\": \"outside\"}}, \"type\": \"scattergeo\"}], \"scattergl\": [{\"marker\": {\"colorbar\": {\"outlinewidth\": 1, \"tickcolor\": \"rgb(36,36,36)\", \"ticks\": \"outside\"}}, \"type\": \"scattergl\"}], \"scattermapbox\": [{\"marker\": {\"colorbar\": {\"outlinewidth\": 1, \"tickcolor\": \"rgb(36,36,36)\", \"ticks\": \"outside\"}}, \"type\": \"scattermapbox\"}], \"scatterpolar\": [{\"marker\": {\"colorbar\": {\"outlinewidth\": 1, \"tickcolor\": \"rgb(36,36,36)\", \"ticks\": \"outside\"}}, \"type\": \"scatterpolar\"}], \"scatterpolargl\": [{\"marker\": {\"colorbar\": {\"outlinewidth\": 1, \"tickcolor\": \"rgb(36,36,36)\", \"ticks\": \"outside\"}}, \"type\": \"scatterpolargl\"}], \"scatterternary\": [{\"marker\": {\"colorbar\": {\"outlinewidth\": 1, \"tickcolor\": \"rgb(36,36,36)\", \"ticks\": \"outside\"}}, \"type\": \"scatterternary\"}], \"surface\": [{\"colorbar\": {\"outlinewidth\": 1, \"tickcolor\": \"rgb(36,36,36)\", \"ticks\": \"outside\"}, \"colorscale\": [[0.0, \"#440154\"], [0.1111111111111111, \"#482878\"], [0.2222222222222222, \"#3e4989\"], [0.3333333333333333, \"#31688e\"], [0.4444444444444444, \"#26828e\"], [0.5555555555555556, \"#1f9e89\"], [0.6666666666666666, \"#35b779\"], [0.7777777777777778, \"#6ece58\"], [0.8888888888888888, \"#b5de2b\"], [1.0, \"#fde725\"]], \"type\": \"surface\"}], \"table\": [{\"cells\": {\"fill\": {\"color\": \"rgb(237,237,237)\"}, \"line\": {\"color\": \"white\"}}, \"header\": {\"fill\": {\"color\": \"rgb(217,217,217)\"}, \"line\": {\"color\": \"white\"}}, \"type\": \"table\"}]}, \"layout\": {\"annotationdefaults\": {\"arrowhead\": 0, \"arrowwidth\": 1}, \"autotypenumbers\": \"strict\", \"coloraxis\": {\"colorbar\": {\"outlinewidth\": 1, \"tickcolor\": \"rgb(36,36,36)\", \"ticks\": \"outside\"}}, \"colorscale\": {\"diverging\": [[0.0, \"rgb(103,0,31)\"], [0.1, \"rgb(178,24,43)\"], [0.2, \"rgb(214,96,77)\"], [0.3, \"rgb(244,165,130)\"], [0.4, \"rgb(253,219,199)\"], [0.5, \"rgb(247,247,247)\"], [0.6, \"rgb(209,229,240)\"], [0.7, \"rgb(146,197,222)\"], [0.8, \"rgb(67,147,195)\"], [0.9, \"rgb(33,102,172)\"], [1.0, \"rgb(5,48,97)\"]], \"sequential\": [[0.0, \"#440154\"], [0.1111111111111111, \"#482878\"], [0.2222222222222222, \"#3e4989\"], [0.3333333333333333, \"#31688e\"], [0.4444444444444444, \"#26828e\"], [0.5555555555555556, \"#1f9e89\"], [0.6666666666666666, \"#35b779\"], [0.7777777777777778, \"#6ece58\"], [0.8888888888888888, \"#b5de2b\"], [1.0, \"#fde725\"]], \"sequentialminus\": [[0.0, \"#440154\"], [0.1111111111111111, \"#482878\"], [0.2222222222222222, \"#3e4989\"], [0.3333333333333333, \"#31688e\"], [0.4444444444444444, \"#26828e\"], [0.5555555555555556, \"#1f9e89\"], [0.6666666666666666, \"#35b779\"], [0.7777777777777778, \"#6ece58\"], [0.8888888888888888, \"#b5de2b\"], [1.0, \"#fde725\"]]}, \"colorway\": [\"#1F77B4\", \"#FF7F0E\", \"#2CA02C\", \"#D62728\", \"#9467BD\", \"#8C564B\", \"#E377C2\", \"#7F7F7F\", \"#BCBD22\", \"#17BECF\"], \"font\": {\"color\": \"rgb(36,36,36)\"}, \"geo\": {\"bgcolor\": \"white\", \"lakecolor\": \"white\", \"landcolor\": \"white\", \"showlakes\": true, \"showland\": true, \"subunitcolor\": \"white\"}, \"hoverlabel\": {\"align\": \"left\"}, \"hovermode\": \"closest\", \"mapbox\": {\"style\": \"light\"}, \"paper_bgcolor\": \"white\", \"plot_bgcolor\": \"white\", \"polar\": {\"angularaxis\": {\"gridcolor\": \"rgb(232,232,232)\", \"linecolor\": \"rgb(36,36,36)\", \"showgrid\": false, \"showline\": true, \"ticks\": \"outside\"}, \"bgcolor\": \"white\", \"radialaxis\": {\"gridcolor\": \"rgb(232,232,232)\", \"linecolor\": \"rgb(36,36,36)\", \"showgrid\": false, \"showline\": true, \"ticks\": \"outside\"}}, \"scene\": {\"xaxis\": {\"backgroundcolor\": \"white\", \"gridcolor\": \"rgb(232,232,232)\", \"gridwidth\": 2, \"linecolor\": \"rgb(36,36,36)\", \"showbackground\": true, \"showgrid\": false, \"showline\": true, \"ticks\": \"outside\", \"zeroline\": false, \"zerolinecolor\": \"rgb(36,36,36)\"}, \"yaxis\": {\"backgroundcolor\": \"white\", \"gridcolor\": \"rgb(232,232,232)\", \"gridwidth\": 2, \"linecolor\": \"rgb(36,36,36)\", \"showbackground\": true, \"showgrid\": false, \"showline\": true, \"ticks\": \"outside\", \"zeroline\": false, \"zerolinecolor\": \"rgb(36,36,36)\"}, \"zaxis\": {\"backgroundcolor\": \"white\", \"gridcolor\": \"rgb(232,232,232)\", \"gridwidth\": 2, \"linecolor\": \"rgb(36,36,36)\", \"showbackground\": true, \"showgrid\": false, \"showline\": true, \"ticks\": \"outside\", \"zeroline\": false, \"zerolinecolor\": \"rgb(36,36,36)\"}}, \"shapedefaults\": {\"fillcolor\": \"black\", \"line\": {\"width\": 0}, \"opacity\": 0.3}, \"ternary\": {\"aaxis\": {\"gridcolor\": \"rgb(232,232,232)\", \"linecolor\": \"rgb(36,36,36)\", \"showgrid\": false, \"showline\": true, \"ticks\": \"outside\"}, \"baxis\": {\"gridcolor\": \"rgb(232,232,232)\", \"linecolor\": \"rgb(36,36,36)\", \"showgrid\": false, \"showline\": true, \"ticks\": \"outside\"}, \"bgcolor\": \"white\", \"caxis\": {\"gridcolor\": \"rgb(232,232,232)\", \"linecolor\": \"rgb(36,36,36)\", \"showgrid\": false, \"showline\": true, \"ticks\": \"outside\"}}, \"title\": {\"x\": 0.05}, \"xaxis\": {\"automargin\": true, \"gridcolor\": \"rgb(232,232,232)\", \"linecolor\": \"rgb(36,36,36)\", \"showgrid\": false, \"showline\": true, \"ticks\": \"outside\", \"title\": {\"standoff\": 15}, \"zeroline\": false, \"zerolinecolor\": \"rgb(36,36,36)\"}, \"yaxis\": {\"automargin\": true, \"gridcolor\": \"rgb(232,232,232)\", \"linecolor\": \"rgb(36,36,36)\", \"showgrid\": false, \"showline\": true, \"ticks\": \"outside\", \"title\": {\"standoff\": 15}, \"zeroline\": false, \"zerolinecolor\": \"rgb(36,36,36)\"}}}, \"title\": {\"text\": \"BTC-USD price against @elonmusk's Tweets\", \"x\": 0.5, \"xanchor\": \"center\", \"y\": 0.92, \"yanchor\": \"top\"}, \"xaxis\": {\"anchor\": \"y\", \"domain\": [0.0, 1.0], \"title\": {\"text\": \"Date\"}}, \"yaxis\": {\"anchor\": \"x\", \"domain\": [0.0, 1.0], \"title\": {\"text\": \"Price at open (USD)\"}}},                        {\"responsive\": true}                    ).then(function(){\n",
       "                            \n",
       "var gd = document.getElementById('5b970d2b-c2b8-4b57-9875-3f199265d074');\n",
       "var x = new MutationObserver(function (mutations, observer) {{\n",
       "        var display = window.getComputedStyle(gd).display;\n",
       "        if (!display || display === 'none') {{\n",
       "            console.log([gd, 'removed!']);\n",
       "            Plotly.purge(gd);\n",
       "            observer.disconnect();\n",
       "        }}\n",
       "}});\n",
       "\n",
       "// Listen for the removal of the full notebook cells\n",
       "var notebookContainer = gd.closest('#notebook-container');\n",
       "if (notebookContainer) {{\n",
       "    x.observe(notebookContainer, {childList: true});\n",
       "}}\n",
       "\n",
       "// Listen for the clearing of the current output cell\n",
       "var outputEl = gd.closest('.output');\n",
       "if (outputEl) {{\n",
       "    x.observe(outputEl, {childList: true});\n",
       "}}\n",
       "\n",
       "                        })                };                });            </script>        </div>"
      ]
     },
     "metadata": {},
     "output_type": "display_data"
    }
   ],
   "source": [
    "\n",
    "fig = px.line(BTC_Data_df, x=\"Date\", y=\"Open\", title = ticker_input + \" price against @\" + username + \"'s Tweets\",template=\"simple_white\")\n",
    "\n",
    "fig2 = px.scatter(df_filtered, x=\"Datetime\", y=\"price\", text = \"polarity\", hover_data=['Text'], size = 'polarity_abs')\n",
    "\n",
    "fig.add_trace(fig2.data[0])\n",
    "\n",
    "\n",
    "#Custom annotation code if required \n",
    "fig.add_annotation(x= \"2021-01-29 00:00:00.00000\", y=33111,ax = 2, ay = 50,\n",
    "            text=\"Elon Musk changes his bio to #bitcoin\",\n",
    "            showarrow=True,\n",
    "            arrowhead=1)\n",
    "\n",
    "fig.add_annotation(x= \"2021-02-20 00:00:00.00000\", y=56800,ax = 2,\n",
    "            text=\"'That said, BTC & ETH do seem high lol'\",\n",
    "            showarrow=True,\n",
    "            arrowhead=1)\n",
    "\n",
    "#A friend showed me this \n",
    "fig.add_annotation(x= \"2021-02-08 10:00:00.00000\", y=46196, ax = -160,\n",
    "           text=\"Tesla's 10-K return shows $1.5bn of bitcoin holdings\",\n",
    "           showarrow=True,\n",
    "           arrowhead=1)\n",
    "\n",
    "fig.update_layout(yaxis_title=\"Price at open (USD)\")\n",
    "\n",
    "fig.update_traces(textposition=\"top center\")\n",
    "\n",
    "fig.update_layout(\n",
    "    title={\n",
    "        'text': ticker_input + \" price against @\" + username + \"'s Tweets\",\n",
    "        'y':0.92,\n",
    "        'x':0.5,\n",
    "        'xanchor': 'center',\n",
    "        'yanchor': 'top'})\n",
    "\n",
    "fig.show()\n",
    "\n"
   ]
  },
  {
   "cell_type": "markdown",
   "metadata": {},
   "source": [
    "# Conclusion\n",
    "\n",
    "The example above reveals some intertesting moments, for example Jan 3rd 2021 - we can see a cluster of positive\n",
    "tweets, subsequently we see the price rise around $10k - of course I'm not saying this is the cause and the more\n",
    "likely truth is that this is part of wider generally positivity towards the currency.\n",
    "\n",
    "Another interesting point is the revelation of Tesla announing significant bitcoin holdings on their balance sheets that seemed an indicator that larger intitutions are starting to pile in  as a hedge or otherwise.\n",
    "\n",
    "------------\n",
    "\n",
    "I've learned a lot doing this - mainly data manipulation as well as some basic web scraping and visualisation, I think the story is relatively interesting though doesn't actually prove or demonstrate anything factually. \n",
    "\n",
    "Next steps could be to look at overall sentiment of a certain asset e.g. take a representitive sample of tweets from the last 30 days and plot 'market' sentiment against the price.\n",
    "\n",
    "Overall I've found that more often than not the answer to a specific coding issue can be found on stack overflow..\n",
    "\n"
   ]
  }
 ],
 "metadata": {
  "kernelspec": {
   "display_name": "Python 3",
   "language": "python",
   "name": "python3"
  },
  "language_info": {
   "codemirror_mode": {
    "name": "ipython",
    "version": 3
   },
   "file_extension": ".py",
   "mimetype": "text/x-python",
   "name": "python",
   "nbconvert_exporter": "python",
   "pygments_lexer": "ipython3",
   "version": "3.8.5"
  }
 },
 "nbformat": 4,
 "nbformat_minor": 4
}
