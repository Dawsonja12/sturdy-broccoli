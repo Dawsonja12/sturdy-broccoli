{
 "cells": [
  {
   "cell_type": "markdown",
   "metadata": {},
   "source": [
    "# Plotting the price of assets against Elon Musk and Tesla Twitter activity "
   ]
  },
  {
   "cell_type": "markdown",
   "metadata": {},
   "source": [
    "## Why?\n",
    "\n",
    "Over the last few months my news feed has been a constant wash of articles about Blockchain, stock markets (GME) and Elon Musk. The first and the last of these topics have been newsworthy regularly over the last few years, meanwhile the GME shortsqueeze appeared overnight.\n",
    "\n",
    "There's no doubt that these topics are interconnected. Homebound US citizens with stimulus checks and too much time seem to be the main participants in these three hot topics.\n",
    "\n",
    "Whilst this has been going on I have found myself increasingly interested in data science, more specifically data visualisation, I was introduced to the field by a colleague and sites like ChartR (https://www.chartr.co/) have gone a long way in furthering that interest. Stories told through a simple vis are compelling. A picture (or chart) speak a thousand words.\n",
    "\n",
    "To attempt to get into the field I have been taking an extended course on data science provided by IBM. I found this course good, but lacking applied projects..so here goes an attempt at applying some of what I have known.\n",
    "\n",
    "\n",
    "## Why this post?\n",
    "\n",
    "This isn't really written to garner an audience - more for me to catalogue my progress over what I hope will be a long while.\n",
    "\n",
    "## The project\n",
    "\n",
    "The plan was to look at the Bitcoin, Dogecoin and GME prices along side Twitter activity to see if I can see any trends. Whilst creating this notebook however I thought it could be much more useful if you could choose your asset and the individual and look at the two together. Therefore the intention is to produce graphs of the asset prices with some form of overlay related to the tweets, with user specified inputs for:\n",
    "\n",
    "- the asset ticker\n",
    "- twitter handle\n",
    "- number of tweets\n",
    "- date range for asset prices.\n",
    "\n",
    "Again whilst creating this I thought about the sentiment of the tweet, i.e. was it positive or negative? Once I knew this I could somehow represent that on the graph. My original plan had been to place the actual tweet text on the graph but this became very messy very quickly. Scroll right to the end for the graphs and what I ended up with..\n",
    "\n",
    "It should be noted this is not a rigerous quantitative approach - more a high level 'lets see what I can achieve in a few days and check what I've learned' approach. If you're after the former then have a look at this: https://papers.ssrn.com/sol3/papers.cfm?abstract_id=3778844"
   ]
  },
  {
   "cell_type": "code",
   "execution_count": 59,
   "metadata": {
    "scrolled": true
   },
   "outputs": [
    {
     "name": "stdout",
     "output_type": "stream",
     "text": [
      "Requirement already satisfied: textblob in /opt/anaconda3/lib/python3.8/site-packages (0.15.3)\r\n",
      "Requirement already satisfied: nltk>=3.1 in /opt/anaconda3/lib/python3.8/site-packages (from textblob) (3.5)\r\n",
      "Requirement already satisfied: click in /opt/anaconda3/lib/python3.8/site-packages (from nltk>=3.1->textblob) (7.1.2)\r\n",
      "Requirement already satisfied: regex in /opt/anaconda3/lib/python3.8/site-packages (from nltk>=3.1->textblob) (2020.10.15)\r\n",
      "Requirement already satisfied: tqdm in /opt/anaconda3/lib/python3.8/site-packages (from nltk>=3.1->textblob) (4.50.2)\r\n",
      "Requirement already satisfied: joblib in /opt/anaconda3/lib/python3.8/site-packages (from nltk>=3.1->textblob) (0.17.0)\r\n"
     ]
    }
   ],
   "source": [
    "#To start import pandas to enable easier data manipulation, Plotly for eventual visualisation, yfinance to obtain our data\n",
    "\n",
    "import pandas as pd\n",
    "\n",
    "import plotly.express as px\n",
    "\n",
    "import yfinance as yf\n",
    "\n",
    "import datetime as dt\n",
    "\n",
    "! pip install textblob\n",
    "\n",
    "from textblob import TextBlob\n",
    "\n"
   ]
  },
  {
   "cell_type": "code",
   "execution_count": 60,
   "metadata": {},
   "outputs": [
    {
     "name": "stdout",
     "output_type": "stream",
     "text": [
      "[*********************100%***********************]  1 of 1 completed\n"
     ]
    },
    {
     "data": {
      "text/html": [
       "<div>\n",
       "<style scoped>\n",
       "    .dataframe tbody tr th:only-of-type {\n",
       "        vertical-align: middle;\n",
       "    }\n",
       "\n",
       "    .dataframe tbody tr th {\n",
       "        vertical-align: top;\n",
       "    }\n",
       "\n",
       "    .dataframe thead th {\n",
       "        text-align: right;\n",
       "    }\n",
       "</style>\n",
       "<table border=\"1\" class=\"dataframe\">\n",
       "  <thead>\n",
       "    <tr style=\"text-align: right;\">\n",
       "      <th></th>\n",
       "      <th>Date</th>\n",
       "      <th>Open</th>\n",
       "      <th>High</th>\n",
       "      <th>Low</th>\n",
       "      <th>Close</th>\n",
       "      <th>Adj Close</th>\n",
       "      <th>Volume</th>\n",
       "    </tr>\n",
       "  </thead>\n",
       "  <tbody>\n",
       "    <tr>\n",
       "      <th>139</th>\n",
       "      <td>2021-03-20</td>\n",
       "      <td>58332.261719</td>\n",
       "      <td>60031.285156</td>\n",
       "      <td>58213.296875</td>\n",
       "      <td>58313.644531</td>\n",
       "      <td>58313.644531</td>\n",
       "      <td>50361731222</td>\n",
       "    </tr>\n",
       "    <tr>\n",
       "      <th>140</th>\n",
       "      <td>2021-03-21</td>\n",
       "      <td>58309.914062</td>\n",
       "      <td>58767.898438</td>\n",
       "      <td>56005.617188</td>\n",
       "      <td>57523.421875</td>\n",
       "      <td>57523.421875</td>\n",
       "      <td>51943414539</td>\n",
       "    </tr>\n",
       "    <tr>\n",
       "      <th>141</th>\n",
       "      <td>2021-03-22</td>\n",
       "      <td>57517.890625</td>\n",
       "      <td>58471.480469</td>\n",
       "      <td>54288.156250</td>\n",
       "      <td>54529.144531</td>\n",
       "      <td>54529.144531</td>\n",
       "      <td>56521454974</td>\n",
       "    </tr>\n",
       "    <tr>\n",
       "      <th>142</th>\n",
       "      <td>2021-03-23</td>\n",
       "      <td>54511.660156</td>\n",
       "      <td>55985.441406</td>\n",
       "      <td>53470.695312</td>\n",
       "      <td>54738.945312</td>\n",
       "      <td>54738.945312</td>\n",
       "      <td>56435023914</td>\n",
       "    </tr>\n",
       "    <tr>\n",
       "      <th>143</th>\n",
       "      <td>2021-03-24</td>\n",
       "      <td>54663.683594</td>\n",
       "      <td>57255.886719</td>\n",
       "      <td>52598.593750</td>\n",
       "      <td>52994.324219</td>\n",
       "      <td>52994.324219</td>\n",
       "      <td>62918037504</td>\n",
       "    </tr>\n",
       "  </tbody>\n",
       "</table>\n",
       "</div>"
      ],
      "text/plain": [
       "           Date          Open          High           Low         Close  \\\n",
       "139  2021-03-20  58332.261719  60031.285156  58213.296875  58313.644531   \n",
       "140  2021-03-21  58309.914062  58767.898438  56005.617188  57523.421875   \n",
       "141  2021-03-22  57517.890625  58471.480469  54288.156250  54529.144531   \n",
       "142  2021-03-23  54511.660156  55985.441406  53470.695312  54738.945312   \n",
       "143  2021-03-24  54663.683594  57255.886719  52598.593750  52994.324219   \n",
       "\n",
       "        Adj Close       Volume  \n",
       "139  58313.644531  50361731222  \n",
       "140  57523.421875  51943414539  \n",
       "141  54529.144531  56521454974  \n",
       "142  54738.945312  56435023914  \n",
       "143  52994.324219  62918037504  "
      ]
     },
     "execution_count": 60,
     "metadata": {},
     "output_type": "execute_result"
    }
   ],
   "source": [
    "# Download the required data from yahoo finance using the appropriate tickers \n",
    "# Using start Dec 2020 to current day\n",
    "# Take daily prices on the assumption tweets are around that frequent\n",
    "\n",
    "\n",
    "\n",
    "#Start by creating variables for the start date (user input) and the end date being today's date - to do that the datetime package is useful\n",
    "\n",
    "today_date = dt.date.today()\n",
    "\n",
    "today_date = today_date.strftime(\"%Y-%m-%d\")\n",
    "\n",
    "start_date = \"2020-11-01\"\n",
    "\n",
    "\n",
    "#BTC\n",
    "BTC_Data = yf.download(tickers='BTC-USD', start = start_date, end = today_date, interval = '1d')\n",
    "\n",
    "#It's worth noting not reseting the index caused a major headache as the 'date' column header was misaligned without it.\n",
    "BTC_Data.reset_index(inplace=True)\n",
    "\n",
    "\n",
    "BTC_Data_df = pd.DataFrame(BTC_Data)\n",
    "\n",
    "BTC_Data_df['Date'] = pd.to_datetime(BTC_Data_df['Date']).dt.date\n",
    "\n",
    "\n",
    "BTC_Data_df.tail(5)\n"
   ]
  },
  {
   "cell_type": "markdown",
   "metadata": {},
   "source": [
    "### Quick note on obtaining tweets\n",
    "\n",
    "How would we obtain the tweet information? My initial thought process was:\n",
    "\n",
    "- Scrape the tweets using the Twitter API \n",
    "- Create a table of the tweets with datestamp and text\n",
    "- Filter by keyword e.g. BTC, Bitcoin etc.\n",
    "- Plot the tweets using date stamp over the price graph \n",
    "\n",
    "this would likely involve appending prices to the table so that we can plot an effective 'x and y' coordinate of date and price and then use the text as a data label - that's the theory at least...\n",
    "\n",
    "In scraping the tweets I came across Tweepy, which is a convinient pre-made package that enables you to scrape tweets without too much prior knowledge. I ended up using it and an article from Martin Beck: https://towardsdatascience.com/how-to-scrape-tweets-from-twitter-59287e20f0f1 to achieve what I wanted. I won't claim I spent too much time examining what was going on in the next cell but I cared more that it worked, and really that's the beauty of the ds community - open knowledge sharing. It's what makes it approachable to a complete novice like myself. The cell below is far better explained by the article above so I won't go into much detail.\n",
    "\n"
   ]
  },
  {
   "cell_type": "code",
   "execution_count": 61,
   "metadata": {},
   "outputs": [],
   "source": [
    "# Import what is required\n",
    "import tweepy\n",
    "import time\n",
    "\n",
    "# Credentials to enable access to the Twitter API\n",
    "\n",
    "consumer_key = \"qSlXdQBHiP3bd45cCOs9Sq0FO\"\n",
    "consumer_secret = \"I3W8CBFDkhgwCFp6VExQj3FhTHEkcuMXMAlgrj88MS7WaEQxP3\"\n",
    "access_token = \"604056369-pGIpZHnepCzzs4yXdF9clWV10UxLy1mX7kEhW4ir\"\n",
    "access_token_secret = \"0pHtZQgE2QHc4tP9JyU5VCKuTjjHdh38Qxzpz8MUlWZex\"\n",
    "\n",
    "auth = tweepy.OAuthHandler(consumer_key, consumer_secret)\n",
    "auth.set_access_token(access_token, access_token_secret)\n",
    "api = tweepy.API(auth,wait_on_rate_limit=True)\n",
    "\n",
    "#Here the code defines a function that we can call later on to get the data we need\n",
    "\n",
    "tweets = []\n",
    "\n",
    "def username_tweets_to_csv(username,count):\n",
    "    try:      \n",
    "        # Creation of query method using parameters\n",
    "        tweets = tweepy.Cursor(api.user_timeline,id=username).items(count)\n",
    "\n",
    "        # Pulling information from tweets iterable object\n",
    "        tweets_list = [[tweet.created_at, tweet.id, tweet.text] for tweet in tweets]\n",
    "\n",
    "        # Creation of dataframe from tweets list\n",
    "        # Add or remove columns as you remove tweet information\n",
    "        tweets_df = pd.DataFrame(tweets_list,columns=['Datetime', 'Tweet Id', 'Text'])\n",
    "\n",
    "        # Converting dataframe to CSV \n",
    "        tweets_df.to_csv('{}-tweets.csv'.format(username), sep=',', index = False)\n",
    "\n",
    "    except BaseException as e:\n",
    "          print('failed on_status,',str(e))\n",
    "          time.sleep(3)\n",
    "        \n",
    "# Input username to scrape tweets and name csv file\n",
    "# Max recent tweets pulls x amount of most recent tweets from that user\n",
    "username = 'Jack'\n",
    "count = 250\n",
    "\n",
    "# Calling function to turn username's past X amount of tweets into a CSV file\n",
    "username_tweets_to_csv(username, count)"
   ]
  },
  {
   "cell_type": "code",
   "execution_count": 62,
   "metadata": {},
   "outputs": [
    {
     "data": {
      "text/html": [
       "<div>\n",
       "<style scoped>\n",
       "    .dataframe tbody tr th:only-of-type {\n",
       "        vertical-align: middle;\n",
       "    }\n",
       "\n",
       "    .dataframe tbody tr th {\n",
       "        vertical-align: top;\n",
       "    }\n",
       "\n",
       "    .dataframe thead th {\n",
       "        text-align: right;\n",
       "    }\n",
       "</style>\n",
       "<table border=\"1\" class=\"dataframe\">\n",
       "  <thead>\n",
       "    <tr style=\"text-align: right;\">\n",
       "      <th></th>\n",
       "      <th>Datetime</th>\n",
       "      <th>Tweet Id</th>\n",
       "      <th>Text</th>\n",
       "    </tr>\n",
       "  </thead>\n",
       "  <tbody>\n",
       "    <tr>\n",
       "      <th>0</th>\n",
       "      <td>2021-03-22 18:53:23</td>\n",
       "      <td>1374071729467707394</td>\n",
       "      <td>Sent to @GiveDirectly Africa fund 🌍Thank you, ...</td>\n",
       "    </tr>\n",
       "    <tr>\n",
       "      <th>1</th>\n",
       "      <td>2021-03-21 03:57:26</td>\n",
       "      <td>1373483866095243267</td>\n",
       "      <td>RT @moneyball: The original goal of 3-4 engine...</td>\n",
       "    </tr>\n",
       "    <tr>\n",
       "      <th>2</th>\n",
       "      <td>2021-03-20 23:03:44</td>\n",
       "      <td>1373409955823415300</td>\n",
       "      <td>RT @sqcrypto: We turned 2 today. Jack’s our dad.</td>\n",
       "    </tr>\n",
       "    <tr>\n",
       "      <th>3</th>\n",
       "      <td>2021-03-20 14:07:46</td>\n",
       "      <td>1373275072392278018</td>\n",
       "      <td>50/50</td>\n",
       "    </tr>\n",
       "    <tr>\n",
       "      <th>4</th>\n",
       "      <td>2021-03-18 21:04:22</td>\n",
       "      <td>1372655138981224450</td>\n",
       "      <td>@EnesKanter @Twitter 🙏🏼</td>\n",
       "    </tr>\n",
       "  </tbody>\n",
       "</table>\n",
       "</div>"
      ],
      "text/plain": [
       "              Datetime             Tweet Id  \\\n",
       "0  2021-03-22 18:53:23  1374071729467707394   \n",
       "1  2021-03-21 03:57:26  1373483866095243267   \n",
       "2  2021-03-20 23:03:44  1373409955823415300   \n",
       "3  2021-03-20 14:07:46  1373275072392278018   \n",
       "4  2021-03-18 21:04:22  1372655138981224450   \n",
       "\n",
       "                                                Text  \n",
       "0  Sent to @GiveDirectly Africa fund 🌍Thank you, ...  \n",
       "1  RT @moneyball: The original goal of 3-4 engine...  \n",
       "2   RT @sqcrypto: We turned 2 today. Jack’s our dad.  \n",
       "3                                              50/50  \n",
       "4                            @EnesKanter @Twitter 🙏🏼  "
      ]
     },
     "execution_count": 62,
     "metadata": {},
     "output_type": "execute_result"
    }
   ],
   "source": [
    "#import the created CSV files and create a pandas data frame\n",
    "\n",
    "csv_path = '/Users/jamesdawson/Desktop/Data analysis /Python/Jack-tweets.csv'\n",
    "\n",
    "df = pd.read_csv(csv_path)\n",
    "\n",
    "df.head(5)"
   ]
  },
  {
   "cell_type": "code",
   "execution_count": 63,
   "metadata": {},
   "outputs": [],
   "source": [
    "#Filter out anything that we don't feel is relevant from the tweets\n",
    "#We need to create three data frames here so we can plot each respective one against a different plot of price\n",
    "\n",
    "df['Datetime'] = pd.to_datetime(df['Datetime']).dt.date\n"
   ]
  },
  {
   "cell_type": "code",
   "execution_count": 64,
   "metadata": {},
   "outputs": [
    {
     "data": {
      "text/html": [
       "<div>\n",
       "<style scoped>\n",
       "    .dataframe tbody tr th:only-of-type {\n",
       "        vertical-align: middle;\n",
       "    }\n",
       "\n",
       "    .dataframe tbody tr th {\n",
       "        vertical-align: top;\n",
       "    }\n",
       "\n",
       "    .dataframe thead th {\n",
       "        text-align: right;\n",
       "    }\n",
       "</style>\n",
       "<table border=\"1\" class=\"dataframe\">\n",
       "  <thead>\n",
       "    <tr style=\"text-align: right;\">\n",
       "      <th></th>\n",
       "      <th>Datetime</th>\n",
       "      <th>Tweet Id</th>\n",
       "      <th>Text</th>\n",
       "      <th>sentiment</th>\n",
       "    </tr>\n",
       "  </thead>\n",
       "  <tbody>\n",
       "    <tr>\n",
       "      <th>0</th>\n",
       "      <td>2021-03-22</td>\n",
       "      <td>1374071729467707394</td>\n",
       "      <td>Sent to @GiveDirectly Africa fund 🌍Thank you, ...</td>\n",
       "      <td>(0.0, 0.0)</td>\n",
       "    </tr>\n",
       "    <tr>\n",
       "      <th>1</th>\n",
       "      <td>2021-03-21</td>\n",
       "      <td>1373483866095243267</td>\n",
       "      <td>RT @moneyball: The original goal of 3-4 engine...</td>\n",
       "      <td>(0.375, 0.75)</td>\n",
       "    </tr>\n",
       "    <tr>\n",
       "      <th>2</th>\n",
       "      <td>2021-03-20</td>\n",
       "      <td>1373409955823415300</td>\n",
       "      <td>RT @sqcrypto: We turned 2 today. Jack’s our dad.</td>\n",
       "      <td>(0.0, 0.0)</td>\n",
       "    </tr>\n",
       "    <tr>\n",
       "      <th>3</th>\n",
       "      <td>2021-03-20</td>\n",
       "      <td>1373275072392278018</td>\n",
       "      <td>50/50</td>\n",
       "      <td>(0.0, 0.0)</td>\n",
       "    </tr>\n",
       "    <tr>\n",
       "      <th>4</th>\n",
       "      <td>2021-03-18</td>\n",
       "      <td>1372655138981224450</td>\n",
       "      <td>@EnesKanter @Twitter 🙏🏼</td>\n",
       "      <td>(0.0, 0.0)</td>\n",
       "    </tr>\n",
       "    <tr>\n",
       "      <th>...</th>\n",
       "      <td>...</td>\n",
       "      <td>...</td>\n",
       "      <td>...</td>\n",
       "      <td>...</td>\n",
       "    </tr>\n",
       "    <tr>\n",
       "      <th>245</th>\n",
       "      <td>2020-11-17</td>\n",
       "      <td>1328721286474788865</td>\n",
       "      <td>Thank you members of the Judiciary Committee f...</td>\n",
       "      <td>(0.0, 0.0)</td>\n",
       "    </tr>\n",
       "    <tr>\n",
       "      <th>246</th>\n",
       "      <td>2020-11-16</td>\n",
       "      <td>1328426021041754112</td>\n",
       "      <td>Welcome, Mudge! https://t.co/hl9HiRjGtg</td>\n",
       "      <td>(1.0, 0.9)</td>\n",
       "    </tr>\n",
       "    <tr>\n",
       "      <th>247</th>\n",
       "      <td>2020-11-15</td>\n",
       "      <td>1327770733401894913</td>\n",
       "      <td>No. https://t.co/X6EWJ73sRx</td>\n",
       "      <td>(0.0, 0.0)</td>\n",
       "    </tr>\n",
       "    <tr>\n",
       "      <th>248</th>\n",
       "      <td>2020-11-14</td>\n",
       "      <td>1327723833080438784</td>\n",
       "      <td>RT @jerrybrito: 1/ Patent trolls are a massive...</td>\n",
       "      <td>(-0.06666666666666667, 0.6333333333333333)</td>\n",
       "    </tr>\n",
       "    <tr>\n",
       "      <th>249</th>\n",
       "      <td>2020-11-12</td>\n",
       "      <td>1327017739190321154</td>\n",
       "      <td>What we learned from our work around the 2020 ...</td>\n",
       "      <td>(0.0, 0.0)</td>\n",
       "    </tr>\n",
       "  </tbody>\n",
       "</table>\n",
       "<p>250 rows × 4 columns</p>\n",
       "</div>"
      ],
      "text/plain": [
       "       Datetime             Tweet Id  \\\n",
       "0    2021-03-22  1374071729467707394   \n",
       "1    2021-03-21  1373483866095243267   \n",
       "2    2021-03-20  1373409955823415300   \n",
       "3    2021-03-20  1373275072392278018   \n",
       "4    2021-03-18  1372655138981224450   \n",
       "..          ...                  ...   \n",
       "245  2020-11-17  1328721286474788865   \n",
       "246  2020-11-16  1328426021041754112   \n",
       "247  2020-11-15  1327770733401894913   \n",
       "248  2020-11-14  1327723833080438784   \n",
       "249  2020-11-12  1327017739190321154   \n",
       "\n",
       "                                                  Text  \\\n",
       "0    Sent to @GiveDirectly Africa fund 🌍Thank you, ...   \n",
       "1    RT @moneyball: The original goal of 3-4 engine...   \n",
       "2     RT @sqcrypto: We turned 2 today. Jack’s our dad.   \n",
       "3                                                50/50   \n",
       "4                              @EnesKanter @Twitter 🙏🏼   \n",
       "..                                                 ...   \n",
       "245  Thank you members of the Judiciary Committee f...   \n",
       "246            Welcome, Mudge! https://t.co/hl9HiRjGtg   \n",
       "247                        No. https://t.co/X6EWJ73sRx   \n",
       "248  RT @jerrybrito: 1/ Patent trolls are a massive...   \n",
       "249  What we learned from our work around the 2020 ...   \n",
       "\n",
       "                                      sentiment  \n",
       "0                                    (0.0, 0.0)  \n",
       "1                                 (0.375, 0.75)  \n",
       "2                                    (0.0, 0.0)  \n",
       "3                                    (0.0, 0.0)  \n",
       "4                                    (0.0, 0.0)  \n",
       "..                                          ...  \n",
       "245                                  (0.0, 0.0)  \n",
       "246                                  (1.0, 0.9)  \n",
       "247                                  (0.0, 0.0)  \n",
       "248  (-0.06666666666666667, 0.6333333333333333)  \n",
       "249                                  (0.0, 0.0)  \n",
       "\n",
       "[250 rows x 4 columns]"
      ]
     },
     "execution_count": 64,
     "metadata": {},
     "output_type": "execute_result"
    }
   ],
   "source": [
    "df['sentiment'] = df['Text'].apply(lambda tweet: TextBlob(tweet).sentiment)\n",
    "\n",
    "\n",
    "df"
   ]
  },
  {
   "cell_type": "code",
   "execution_count": 65,
   "metadata": {},
   "outputs": [
    {
     "data": {
      "text/html": [
       "<div>\n",
       "<style scoped>\n",
       "    .dataframe tbody tr th:only-of-type {\n",
       "        vertical-align: middle;\n",
       "    }\n",
       "\n",
       "    .dataframe tbody tr th {\n",
       "        vertical-align: top;\n",
       "    }\n",
       "\n",
       "    .dataframe thead th {\n",
       "        text-align: right;\n",
       "    }\n",
       "</style>\n",
       "<table border=\"1\" class=\"dataframe\">\n",
       "  <thead>\n",
       "    <tr style=\"text-align: right;\">\n",
       "      <th></th>\n",
       "      <th>Datetime</th>\n",
       "      <th>Tweet Id</th>\n",
       "      <th>Text</th>\n",
       "      <th>sentiment</th>\n",
       "      <th>BTC_price</th>\n",
       "    </tr>\n",
       "  </thead>\n",
       "  <tbody>\n",
       "    <tr>\n",
       "      <th>0</th>\n",
       "      <td>2021-03-22</td>\n",
       "      <td>1374071729467707394</td>\n",
       "      <td>Sent to @GiveDirectly Africa fund 🌍Thank you, ...</td>\n",
       "      <td>(0.0, 0.0)</td>\n",
       "      <td>57517.890625</td>\n",
       "    </tr>\n",
       "    <tr>\n",
       "      <th>1</th>\n",
       "      <td>2021-03-21</td>\n",
       "      <td>1373483866095243267</td>\n",
       "      <td>RT @moneyball: The original goal of 3-4 engine...</td>\n",
       "      <td>(0.375, 0.75)</td>\n",
       "      <td>58309.914062</td>\n",
       "    </tr>\n",
       "    <tr>\n",
       "      <th>2</th>\n",
       "      <td>2021-03-20</td>\n",
       "      <td>1373409955823415300</td>\n",
       "      <td>RT @sqcrypto: We turned 2 today. Jack’s our dad.</td>\n",
       "      <td>(0.0, 0.0)</td>\n",
       "      <td>58332.261719</td>\n",
       "    </tr>\n",
       "    <tr>\n",
       "      <th>3</th>\n",
       "      <td>2021-03-20</td>\n",
       "      <td>1373275072392278018</td>\n",
       "      <td>50/50</td>\n",
       "      <td>(0.0, 0.0)</td>\n",
       "      <td>58332.261719</td>\n",
       "    </tr>\n",
       "    <tr>\n",
       "      <th>4</th>\n",
       "      <td>2021-03-18</td>\n",
       "      <td>1372655138981224450</td>\n",
       "      <td>@EnesKanter @Twitter 🙏🏼</td>\n",
       "      <td>(0.0, 0.0)</td>\n",
       "      <td>58893.078125</td>\n",
       "    </tr>\n",
       "    <tr>\n",
       "      <th>...</th>\n",
       "      <td>...</td>\n",
       "      <td>...</td>\n",
       "      <td>...</td>\n",
       "      <td>...</td>\n",
       "      <td>...</td>\n",
       "    </tr>\n",
       "    <tr>\n",
       "      <th>245</th>\n",
       "      <td>2020-11-17</td>\n",
       "      <td>1328721286474788865</td>\n",
       "      <td>Thank you members of the Judiciary Committee f...</td>\n",
       "      <td>(0.0, 0.0)</td>\n",
       "      <td>16685.691406</td>\n",
       "    </tr>\n",
       "    <tr>\n",
       "      <th>246</th>\n",
       "      <td>2020-11-16</td>\n",
       "      <td>1328426021041754112</td>\n",
       "      <td>Welcome, Mudge! https://t.co/hl9HiRjGtg</td>\n",
       "      <td>(1.0, 0.9)</td>\n",
       "      <td>15955.577148</td>\n",
       "    </tr>\n",
       "    <tr>\n",
       "      <th>247</th>\n",
       "      <td>2020-11-15</td>\n",
       "      <td>1327770733401894913</td>\n",
       "      <td>No. https://t.co/X6EWJ73sRx</td>\n",
       "      <td>(0.0, 0.0)</td>\n",
       "      <td>16068.139648</td>\n",
       "    </tr>\n",
       "    <tr>\n",
       "      <th>248</th>\n",
       "      <td>2020-11-14</td>\n",
       "      <td>1327723833080438784</td>\n",
       "      <td>RT @jerrybrito: 1/ Patent trolls are a massive...</td>\n",
       "      <td>(-0.06666666666666667, 0.6333333333333333)</td>\n",
       "      <td>16317.808594</td>\n",
       "    </tr>\n",
       "    <tr>\n",
       "      <th>249</th>\n",
       "      <td>2020-11-12</td>\n",
       "      <td>1327017739190321154</td>\n",
       "      <td>What we learned from our work around the 2020 ...</td>\n",
       "      <td>(0.0, 0.0)</td>\n",
       "      <td>15701.298828</td>\n",
       "    </tr>\n",
       "  </tbody>\n",
       "</table>\n",
       "<p>250 rows × 5 columns</p>\n",
       "</div>"
      ],
      "text/plain": [
       "       Datetime             Tweet Id  \\\n",
       "0    2021-03-22  1374071729467707394   \n",
       "1    2021-03-21  1373483866095243267   \n",
       "2    2021-03-20  1373409955823415300   \n",
       "3    2021-03-20  1373275072392278018   \n",
       "4    2021-03-18  1372655138981224450   \n",
       "..          ...                  ...   \n",
       "245  2020-11-17  1328721286474788865   \n",
       "246  2020-11-16  1328426021041754112   \n",
       "247  2020-11-15  1327770733401894913   \n",
       "248  2020-11-14  1327723833080438784   \n",
       "249  2020-11-12  1327017739190321154   \n",
       "\n",
       "                                                  Text  \\\n",
       "0    Sent to @GiveDirectly Africa fund 🌍Thank you, ...   \n",
       "1    RT @moneyball: The original goal of 3-4 engine...   \n",
       "2     RT @sqcrypto: We turned 2 today. Jack’s our dad.   \n",
       "3                                                50/50   \n",
       "4                              @EnesKanter @Twitter 🙏🏼   \n",
       "..                                                 ...   \n",
       "245  Thank you members of the Judiciary Committee f...   \n",
       "246            Welcome, Mudge! https://t.co/hl9HiRjGtg   \n",
       "247                        No. https://t.co/X6EWJ73sRx   \n",
       "248  RT @jerrybrito: 1/ Patent trolls are a massive...   \n",
       "249  What we learned from our work around the 2020 ...   \n",
       "\n",
       "                                      sentiment     BTC_price  \n",
       "0                                    (0.0, 0.0)  57517.890625  \n",
       "1                                 (0.375, 0.75)  58309.914062  \n",
       "2                                    (0.0, 0.0)  58332.261719  \n",
       "3                                    (0.0, 0.0)  58332.261719  \n",
       "4                                    (0.0, 0.0)  58893.078125  \n",
       "..                                          ...           ...  \n",
       "245                                  (0.0, 0.0)  16685.691406  \n",
       "246                                  (1.0, 0.9)  15955.577148  \n",
       "247                                  (0.0, 0.0)  16068.139648  \n",
       "248  (-0.06666666666666667, 0.6333333333333333)  16317.808594  \n",
       "249                                  (0.0, 0.0)  15701.298828  \n",
       "\n",
       "[250 rows x 5 columns]"
      ]
     },
     "execution_count": 65,
     "metadata": {},
     "output_type": "execute_result"
    }
   ],
   "source": [
    "#append the price to the line based on datetime - How easy this would be if I was using index match in excel..\n",
    "\n",
    "\n",
    "df['BTC_price'] = df.Datetime.map(BTC_Data_df.set_index('Date')['Open'].to_dict())\n",
    "\n",
    "df"
   ]
  },
  {
   "cell_type": "code",
   "execution_count": 66,
   "metadata": {},
   "outputs": [
    {
     "data": {
      "text/html": [
       "<div>\n",
       "<style scoped>\n",
       "    .dataframe tbody tr th:only-of-type {\n",
       "        vertical-align: middle;\n",
       "    }\n",
       "\n",
       "    .dataframe tbody tr th {\n",
       "        vertical-align: top;\n",
       "    }\n",
       "\n",
       "    .dataframe thead th {\n",
       "        text-align: right;\n",
       "    }\n",
       "</style>\n",
       "<table border=\"1\" class=\"dataframe\">\n",
       "  <thead>\n",
       "    <tr style=\"text-align: right;\">\n",
       "      <th></th>\n",
       "      <th>Datetime</th>\n",
       "      <th>Tweet Id</th>\n",
       "      <th>Text</th>\n",
       "      <th>sentiment</th>\n",
       "      <th>BTC_price</th>\n",
       "      <th>polarity</th>\n",
       "      <th>subjectivity</th>\n",
       "    </tr>\n",
       "  </thead>\n",
       "  <tbody>\n",
       "    <tr>\n",
       "      <th>0</th>\n",
       "      <td>2021-03-22</td>\n",
       "      <td>1374071729467707394</td>\n",
       "      <td>Sent to @GiveDirectly Africa fund 🌍Thank you, ...</td>\n",
       "      <td>(0.0, 0.0)</td>\n",
       "      <td>57517.890625</td>\n",
       "      <td>0.00</td>\n",
       "      <td>0.000000</td>\n",
       "    </tr>\n",
       "    <tr>\n",
       "      <th>1</th>\n",
       "      <td>2021-03-21</td>\n",
       "      <td>1373483866095243267</td>\n",
       "      <td>RT @moneyball: The original goal of 3-4 engine...</td>\n",
       "      <td>(0.375, 0.75)</td>\n",
       "      <td>58309.914062</td>\n",
       "      <td>0.38</td>\n",
       "      <td>0.750000</td>\n",
       "    </tr>\n",
       "    <tr>\n",
       "      <th>2</th>\n",
       "      <td>2021-03-20</td>\n",
       "      <td>1373409955823415300</td>\n",
       "      <td>RT @sqcrypto: We turned 2 today. Jack’s our dad.</td>\n",
       "      <td>(0.0, 0.0)</td>\n",
       "      <td>58332.261719</td>\n",
       "      <td>0.00</td>\n",
       "      <td>0.000000</td>\n",
       "    </tr>\n",
       "    <tr>\n",
       "      <th>3</th>\n",
       "      <td>2021-03-20</td>\n",
       "      <td>1373275072392278018</td>\n",
       "      <td>50/50</td>\n",
       "      <td>(0.0, 0.0)</td>\n",
       "      <td>58332.261719</td>\n",
       "      <td>0.00</td>\n",
       "      <td>0.000000</td>\n",
       "    </tr>\n",
       "    <tr>\n",
       "      <th>4</th>\n",
       "      <td>2021-03-18</td>\n",
       "      <td>1372655138981224450</td>\n",
       "      <td>@EnesKanter @Twitter 🙏🏼</td>\n",
       "      <td>(0.0, 0.0)</td>\n",
       "      <td>58893.078125</td>\n",
       "      <td>0.00</td>\n",
       "      <td>0.000000</td>\n",
       "    </tr>\n",
       "    <tr>\n",
       "      <th>...</th>\n",
       "      <td>...</td>\n",
       "      <td>...</td>\n",
       "      <td>...</td>\n",
       "      <td>...</td>\n",
       "      <td>...</td>\n",
       "      <td>...</td>\n",
       "      <td>...</td>\n",
       "    </tr>\n",
       "    <tr>\n",
       "      <th>245</th>\n",
       "      <td>2020-11-17</td>\n",
       "      <td>1328721286474788865</td>\n",
       "      <td>Thank you members of the Judiciary Committee f...</td>\n",
       "      <td>(0.0, 0.0)</td>\n",
       "      <td>16685.691406</td>\n",
       "      <td>0.00</td>\n",
       "      <td>0.000000</td>\n",
       "    </tr>\n",
       "    <tr>\n",
       "      <th>246</th>\n",
       "      <td>2020-11-16</td>\n",
       "      <td>1328426021041754112</td>\n",
       "      <td>Welcome, Mudge! https://t.co/hl9HiRjGtg</td>\n",
       "      <td>(1.0, 0.9)</td>\n",
       "      <td>15955.577148</td>\n",
       "      <td>1.00</td>\n",
       "      <td>0.900000</td>\n",
       "    </tr>\n",
       "    <tr>\n",
       "      <th>247</th>\n",
       "      <td>2020-11-15</td>\n",
       "      <td>1327770733401894913</td>\n",
       "      <td>No. https://t.co/X6EWJ73sRx</td>\n",
       "      <td>(0.0, 0.0)</td>\n",
       "      <td>16068.139648</td>\n",
       "      <td>0.00</td>\n",
       "      <td>0.000000</td>\n",
       "    </tr>\n",
       "    <tr>\n",
       "      <th>248</th>\n",
       "      <td>2020-11-14</td>\n",
       "      <td>1327723833080438784</td>\n",
       "      <td>RT @jerrybrito: 1/ Patent trolls are a massive...</td>\n",
       "      <td>(-0.06666666666666667, 0.6333333333333333)</td>\n",
       "      <td>16317.808594</td>\n",
       "      <td>-0.07</td>\n",
       "      <td>0.633333</td>\n",
       "    </tr>\n",
       "    <tr>\n",
       "      <th>249</th>\n",
       "      <td>2020-11-12</td>\n",
       "      <td>1327017739190321154</td>\n",
       "      <td>What we learned from our work around the 2020 ...</td>\n",
       "      <td>(0.0, 0.0)</td>\n",
       "      <td>15701.298828</td>\n",
       "      <td>0.00</td>\n",
       "      <td>0.000000</td>\n",
       "    </tr>\n",
       "  </tbody>\n",
       "</table>\n",
       "<p>250 rows × 7 columns</p>\n",
       "</div>"
      ],
      "text/plain": [
       "       Datetime             Tweet Id  \\\n",
       "0    2021-03-22  1374071729467707394   \n",
       "1    2021-03-21  1373483866095243267   \n",
       "2    2021-03-20  1373409955823415300   \n",
       "3    2021-03-20  1373275072392278018   \n",
       "4    2021-03-18  1372655138981224450   \n",
       "..          ...                  ...   \n",
       "245  2020-11-17  1328721286474788865   \n",
       "246  2020-11-16  1328426021041754112   \n",
       "247  2020-11-15  1327770733401894913   \n",
       "248  2020-11-14  1327723833080438784   \n",
       "249  2020-11-12  1327017739190321154   \n",
       "\n",
       "                                                  Text  \\\n",
       "0    Sent to @GiveDirectly Africa fund 🌍Thank you, ...   \n",
       "1    RT @moneyball: The original goal of 3-4 engine...   \n",
       "2     RT @sqcrypto: We turned 2 today. Jack’s our dad.   \n",
       "3                                                50/50   \n",
       "4                              @EnesKanter @Twitter 🙏🏼   \n",
       "..                                                 ...   \n",
       "245  Thank you members of the Judiciary Committee f...   \n",
       "246            Welcome, Mudge! https://t.co/hl9HiRjGtg   \n",
       "247                        No. https://t.co/X6EWJ73sRx   \n",
       "248  RT @jerrybrito: 1/ Patent trolls are a massive...   \n",
       "249  What we learned from our work around the 2020 ...   \n",
       "\n",
       "                                      sentiment     BTC_price  polarity  \\\n",
       "0                                    (0.0, 0.0)  57517.890625      0.00   \n",
       "1                                 (0.375, 0.75)  58309.914062      0.38   \n",
       "2                                    (0.0, 0.0)  58332.261719      0.00   \n",
       "3                                    (0.0, 0.0)  58332.261719      0.00   \n",
       "4                                    (0.0, 0.0)  58893.078125      0.00   \n",
       "..                                          ...           ...       ...   \n",
       "245                                  (0.0, 0.0)  16685.691406      0.00   \n",
       "246                                  (1.0, 0.9)  15955.577148      1.00   \n",
       "247                                  (0.0, 0.0)  16068.139648      0.00   \n",
       "248  (-0.06666666666666667, 0.6333333333333333)  16317.808594     -0.07   \n",
       "249                                  (0.0, 0.0)  15701.298828      0.00   \n",
       "\n",
       "     subjectivity  \n",
       "0        0.000000  \n",
       "1        0.750000  \n",
       "2        0.000000  \n",
       "3        0.000000  \n",
       "4        0.000000  \n",
       "..            ...  \n",
       "245      0.000000  \n",
       "246      0.900000  \n",
       "247      0.000000  \n",
       "248      0.633333  \n",
       "249      0.000000  \n",
       "\n",
       "[250 rows x 7 columns]"
      ]
     },
     "execution_count": 66,
     "metadata": {},
     "output_type": "execute_result"
    }
   ],
   "source": [
    "sentiment_series = df['sentiment'].tolist()\n",
    "\n",
    "df1 = pd.DataFrame(sentiment_series, columns=['polarity','subjectivity'], index=df.index)\n",
    "\n",
    "result = pd.concat([df, df1], axis=1)\n",
    "\n",
    "decimals = 2    \n",
    "result['polarity'] = result['polarity'].apply(lambda x: round(x, decimals))\n",
    "\n",
    "result\n"
   ]
  },
  {
   "cell_type": "markdown",
   "metadata": {},
   "source": []
  },
  {
   "cell_type": "code",
   "execution_count": 67,
   "metadata": {},
   "outputs": [
    {
     "data": {
      "text/html": [
       "<div>\n",
       "<style scoped>\n",
       "    .dataframe tbody tr th:only-of-type {\n",
       "        vertical-align: middle;\n",
       "    }\n",
       "\n",
       "    .dataframe tbody tr th {\n",
       "        vertical-align: top;\n",
       "    }\n",
       "\n",
       "    .dataframe thead th {\n",
       "        text-align: right;\n",
       "    }\n",
       "</style>\n",
       "<table border=\"1\" class=\"dataframe\">\n",
       "  <thead>\n",
       "    <tr style=\"text-align: right;\">\n",
       "      <th></th>\n",
       "      <th>Datetime</th>\n",
       "      <th>Tweet Id</th>\n",
       "      <th>Text</th>\n",
       "      <th>sentiment</th>\n",
       "      <th>BTC_price</th>\n",
       "      <th>polarity</th>\n",
       "      <th>subjectivity</th>\n",
       "    </tr>\n",
       "  </thead>\n",
       "  <tbody>\n",
       "    <tr>\n",
       "      <th>9</th>\n",
       "      <td>2021-03-18</td>\n",
       "      <td>1372590033803284480</td>\n",
       "      <td>beautiful work #bitcoin https://t.co/BErHZ2wUts</td>\n",
       "      <td>(0.85, 1.0)</td>\n",
       "      <td>58893.078125</td>\n",
       "      <td>0.85</td>\n",
       "      <td>1.000000</td>\n",
       "    </tr>\n",
       "    <tr>\n",
       "      <th>11</th>\n",
       "      <td>2021-03-17</td>\n",
       "      <td>1372226044946755586</td>\n",
       "      <td>#bitcoin first https://t.co/vd5fBRSkkn</td>\n",
       "      <td>(0.25, 0.3333333333333333)</td>\n",
       "      <td>56825.828125</td>\n",
       "      <td>0.25</td>\n",
       "      <td>0.333333</td>\n",
       "    </tr>\n",
       "    <tr>\n",
       "      <th>18</th>\n",
       "      <td>2021-03-15</td>\n",
       "      <td>1371549932000313351</td>\n",
       "      <td>RT @signalapp: As a nonprofit organization, we...</td>\n",
       "      <td>(0.0, 0.0)</td>\n",
       "      <td>59267.429688</td>\n",
       "      <td>0.00</td>\n",
       "      <td>0.000000</td>\n",
       "    </tr>\n",
       "    <tr>\n",
       "      <th>25</th>\n",
       "      <td>2021-03-12</td>\n",
       "      <td>1370452409957384198</td>\n",
       "      <td>RT @hello_bitcoin: Many critics think bitcoin ...</td>\n",
       "      <td>(0.1875, 0.4)</td>\n",
       "      <td>57821.218750</td>\n",
       "      <td>0.19</td>\n",
       "      <td>0.400000</td>\n",
       "    </tr>\n",
       "    <tr>\n",
       "      <th>58</th>\n",
       "      <td>2021-02-20</td>\n",
       "      <td>1362946674553856004</td>\n",
       "      <td>RT @jerrybrito: It’s an honor to help in this ...</td>\n",
       "      <td>(0.4, 1.0)</td>\n",
       "      <td>55887.335938</td>\n",
       "      <td>0.40</td>\n",
       "      <td>1.000000</td>\n",
       "    </tr>\n",
       "    <tr>\n",
       "      <th>65</th>\n",
       "      <td>2021-02-10</td>\n",
       "      <td>1359546136785129473</td>\n",
       "      <td>RT @moneyball: Great overview of what the bitc...</td>\n",
       "      <td>(1.0, 0.75)</td>\n",
       "      <td>46469.761719</td>\n",
       "      <td>1.00</td>\n",
       "      <td>0.750000</td>\n",
       "    </tr>\n",
       "    <tr>\n",
       "      <th>73</th>\n",
       "      <td>2021-02-05</td>\n",
       "      <td>1357588751757627393</td>\n",
       "      <td>Running #bitcoin https://t.co/W51ga3yrKb</td>\n",
       "      <td>(0.0, 0.0)</td>\n",
       "      <td>36931.546875</td>\n",
       "      <td>0.00</td>\n",
       "      <td>0.000000</td>\n",
       "    </tr>\n",
       "    <tr>\n",
       "      <th>87</th>\n",
       "      <td>2021-01-27</td>\n",
       "      <td>1354491856650817537</td>\n",
       "      <td>RT @FrancisSuarez: The City of Miami believes ...</td>\n",
       "      <td>(0.0, 0.0)</td>\n",
       "      <td>32564.029297</td>\n",
       "      <td>0.00</td>\n",
       "      <td>0.000000</td>\n",
       "    </tr>\n",
       "    <tr>\n",
       "      <th>133</th>\n",
       "      <td>2021-01-04</td>\n",
       "      <td>1346188219231047686</td>\n",
       "      <td>RT @Square: 2 weeks ago, FinCEN (a bureau of t...</td>\n",
       "      <td>(-0.4, 0.9)</td>\n",
       "      <td>32810.949219</td>\n",
       "      <td>-0.40</td>\n",
       "      <td>0.900000</td>\n",
       "    </tr>\n",
       "    <tr>\n",
       "      <th>134</th>\n",
       "      <td>2021-01-04</td>\n",
       "      <td>1346188092210724864</td>\n",
       "      <td>Our comments on FinCen’s rule proposal on #bit...</td>\n",
       "      <td>(0.0, 0.0)</td>\n",
       "      <td>32810.949219</td>\n",
       "      <td>0.00</td>\n",
       "      <td>0.000000</td>\n",
       "    </tr>\n",
       "    <tr>\n",
       "      <th>144</th>\n",
       "      <td>2021-01-03</td>\n",
       "      <td>1345640594509422592</td>\n",
       "      <td>RT @Diditaihuttu: Happy Birthday #BITCOIN 3 Ja...</td>\n",
       "      <td>(0.8, 1.0)</td>\n",
       "      <td>32129.408203</td>\n",
       "      <td>0.80</td>\n",
       "      <td>1.000000</td>\n",
       "    </tr>\n",
       "    <tr>\n",
       "      <th>163</th>\n",
       "      <td>2020-12-29</td>\n",
       "      <td>1344021380866576384</td>\n",
       "      <td>RT @BleacherReport: Panthers OT Russell Okung ...</td>\n",
       "      <td>(-0.16666666666666666, 0.16666666666666666)</td>\n",
       "      <td>27081.810547</td>\n",
       "      <td>-0.17</td>\n",
       "      <td>0.166667</td>\n",
       "    </tr>\n",
       "    <tr>\n",
       "      <th>172</th>\n",
       "      <td>2020-12-22</td>\n",
       "      <td>1341252113439977473</td>\n",
       "      <td>RT @NeerajKA: It’s great to see ⁦@EFF⁩ join us...</td>\n",
       "      <td>(0.4, 0.375)</td>\n",
       "      <td>22794.039062</td>\n",
       "      <td>0.40</td>\n",
       "      <td>0.375000</td>\n",
       "    </tr>\n",
       "    <tr>\n",
       "      <th>212</th>\n",
       "      <td>2020-12-08</td>\n",
       "      <td>1336354473636085761</td>\n",
       "      <td>RT @milessuter: There’s one input that matters...</td>\n",
       "      <td>(0.3666666666666667, 0.7000000000000001)</td>\n",
       "      <td>19191.529297</td>\n",
       "      <td>0.37</td>\n",
       "      <td>0.700000</td>\n",
       "    </tr>\n",
       "    <tr>\n",
       "      <th>213</th>\n",
       "      <td>2020-12-08</td>\n",
       "      <td>1336354389510877185</td>\n",
       "      <td>#bitcoin https://t.co/7g4WU5b6nh</td>\n",
       "      <td>(0.0, 0.0)</td>\n",
       "      <td>19191.529297</td>\n",
       "      <td>0.00</td>\n",
       "      <td>0.000000</td>\n",
       "    </tr>\n",
       "    <tr>\n",
       "      <th>217</th>\n",
       "      <td>2020-12-03</td>\n",
       "      <td>1334636967095635970</td>\n",
       "      <td>RT @sqcrypto: The lucrative business of crypto...</td>\n",
       "      <td>(0.0, 0.07692307692307693)</td>\n",
       "      <td>19205.925781</td>\n",
       "      <td>0.00</td>\n",
       "      <td>0.076923</td>\n",
       "    </tr>\n",
       "    <tr>\n",
       "      <th>248</th>\n",
       "      <td>2020-11-14</td>\n",
       "      <td>1327723833080438784</td>\n",
       "      <td>RT @jerrybrito: 1/ Patent trolls are a massive...</td>\n",
       "      <td>(-0.06666666666666667, 0.6333333333333333)</td>\n",
       "      <td>16317.808594</td>\n",
       "      <td>-0.07</td>\n",
       "      <td>0.633333</td>\n",
       "    </tr>\n",
       "  </tbody>\n",
       "</table>\n",
       "</div>"
      ],
      "text/plain": [
       "       Datetime             Tweet Id  \\\n",
       "9    2021-03-18  1372590033803284480   \n",
       "11   2021-03-17  1372226044946755586   \n",
       "18   2021-03-15  1371549932000313351   \n",
       "25   2021-03-12  1370452409957384198   \n",
       "58   2021-02-20  1362946674553856004   \n",
       "65   2021-02-10  1359546136785129473   \n",
       "73   2021-02-05  1357588751757627393   \n",
       "87   2021-01-27  1354491856650817537   \n",
       "133  2021-01-04  1346188219231047686   \n",
       "134  2021-01-04  1346188092210724864   \n",
       "144  2021-01-03  1345640594509422592   \n",
       "163  2020-12-29  1344021380866576384   \n",
       "172  2020-12-22  1341252113439977473   \n",
       "212  2020-12-08  1336354473636085761   \n",
       "213  2020-12-08  1336354389510877185   \n",
       "217  2020-12-03  1334636967095635970   \n",
       "248  2020-11-14  1327723833080438784   \n",
       "\n",
       "                                                  Text  \\\n",
       "9      beautiful work #bitcoin https://t.co/BErHZ2wUts   \n",
       "11              #bitcoin first https://t.co/vd5fBRSkkn   \n",
       "18   RT @signalapp: As a nonprofit organization, we...   \n",
       "25   RT @hello_bitcoin: Many critics think bitcoin ...   \n",
       "58   RT @jerrybrito: It’s an honor to help in this ...   \n",
       "65   RT @moneyball: Great overview of what the bitc...   \n",
       "73            Running #bitcoin https://t.co/W51ga3yrKb   \n",
       "87   RT @FrancisSuarez: The City of Miami believes ...   \n",
       "133  RT @Square: 2 weeks ago, FinCEN (a bureau of t...   \n",
       "134  Our comments on FinCen’s rule proposal on #bit...   \n",
       "144  RT @Diditaihuttu: Happy Birthday #BITCOIN 3 Ja...   \n",
       "163  RT @BleacherReport: Panthers OT Russell Okung ...   \n",
       "172  RT @NeerajKA: It’s great to see ⁦@EFF⁩ join us...   \n",
       "212  RT @milessuter: There’s one input that matters...   \n",
       "213                   #bitcoin https://t.co/7g4WU5b6nh   \n",
       "217  RT @sqcrypto: The lucrative business of crypto...   \n",
       "248  RT @jerrybrito: 1/ Patent trolls are a massive...   \n",
       "\n",
       "                                       sentiment     BTC_price  polarity  \\\n",
       "9                                    (0.85, 1.0)  58893.078125      0.85   \n",
       "11                    (0.25, 0.3333333333333333)  56825.828125      0.25   \n",
       "18                                    (0.0, 0.0)  59267.429688      0.00   \n",
       "25                                 (0.1875, 0.4)  57821.218750      0.19   \n",
       "58                                    (0.4, 1.0)  55887.335938      0.40   \n",
       "65                                   (1.0, 0.75)  46469.761719      1.00   \n",
       "73                                    (0.0, 0.0)  36931.546875      0.00   \n",
       "87                                    (0.0, 0.0)  32564.029297      0.00   \n",
       "133                                  (-0.4, 0.9)  32810.949219     -0.40   \n",
       "134                                   (0.0, 0.0)  32810.949219      0.00   \n",
       "144                                   (0.8, 1.0)  32129.408203      0.80   \n",
       "163  (-0.16666666666666666, 0.16666666666666666)  27081.810547     -0.17   \n",
       "172                                 (0.4, 0.375)  22794.039062      0.40   \n",
       "212     (0.3666666666666667, 0.7000000000000001)  19191.529297      0.37   \n",
       "213                                   (0.0, 0.0)  19191.529297      0.00   \n",
       "217                   (0.0, 0.07692307692307693)  19205.925781      0.00   \n",
       "248   (-0.06666666666666667, 0.6333333333333333)  16317.808594     -0.07   \n",
       "\n",
       "     subjectivity  \n",
       "9        1.000000  \n",
       "11       0.333333  \n",
       "18       0.000000  \n",
       "25       0.400000  \n",
       "58       1.000000  \n",
       "65       0.750000  \n",
       "73       0.000000  \n",
       "87       0.000000  \n",
       "133      0.900000  \n",
       "134      0.000000  \n",
       "144      1.000000  \n",
       "163      0.166667  \n",
       "172      0.375000  \n",
       "212      0.700000  \n",
       "213      0.000000  \n",
       "217      0.076923  \n",
       "248      0.633333  "
      ]
     },
     "execution_count": 67,
     "metadata": {},
     "output_type": "execute_result"
    }
   ],
   "source": [
    "df_BTC = result[result['Text'].str.contains(\"bitcoin | crypto\")]\n",
    "\n",
    "df_BTC\n"
   ]
  },
  {
   "cell_type": "markdown",
   "metadata": {},
   "source": [
    "### Comment on data collection\n",
    "\n",
    "Though it would be nice to press run and we get everything we need pulled down without too much manual entry, at the end of the day you need consider whether it's worth it to automate some things. There's certain bits of news that I have in the back of my mind that aren't tweets but I do feel would compliment the analysis - to do this you can create manual annotations and place them onto the graph by eye."
   ]
  },
  {
   "cell_type": "code",
   "execution_count": 68,
   "metadata": {},
   "outputs": [
    {
     "data": {
      "application/vnd.plotly.v1+json": {
       "config": {
        "plotlyServerURL": "https://plot.ly"
       },
       "data": [
        {
         "hovertemplate": "Date=%{x}<br>Open=%{y}<extra></extra>",
         "legendgroup": "",
         "line": {
          "color": "#636efa",
          "dash": "solid"
         },
         "mode": "lines",
         "name": "",
         "orientation": "v",
         "showlegend": false,
         "type": "scatter",
         "x": [
          "2020-11-01",
          "2020-11-02",
          "2020-11-03",
          "2020-11-04",
          "2020-11-05",
          "2020-11-06",
          "2020-11-07",
          "2020-11-08",
          "2020-11-09",
          "2020-11-10",
          "2020-11-11",
          "2020-11-12",
          "2020-11-13",
          "2020-11-14",
          "2020-11-15",
          "2020-11-16",
          "2020-11-17",
          "2020-11-18",
          "2020-11-19",
          "2020-11-20",
          "2020-11-21",
          "2020-11-22",
          "2020-11-23",
          "2020-11-24",
          "2020-11-25",
          "2020-11-26",
          "2020-11-27",
          "2020-11-28",
          "2020-11-29",
          "2020-11-30",
          "2020-12-01",
          "2020-12-02",
          "2020-12-03",
          "2020-12-04",
          "2020-12-05",
          "2020-12-06",
          "2020-12-07",
          "2020-12-08",
          "2020-12-09",
          "2020-12-10",
          "2020-12-11",
          "2020-12-12",
          "2020-12-13",
          "2020-12-14",
          "2020-12-15",
          "2020-12-16",
          "2020-12-17",
          "2020-12-18",
          "2020-12-19",
          "2020-12-20",
          "2020-12-21",
          "2020-12-22",
          "2020-12-23",
          "2020-12-24",
          "2020-12-25",
          "2020-12-26",
          "2020-12-27",
          "2020-12-28",
          "2020-12-29",
          "2020-12-30",
          "2020-12-31",
          "2021-01-01",
          "2021-01-02",
          "2021-01-03",
          "2021-01-04",
          "2021-01-05",
          "2021-01-06",
          "2021-01-07",
          "2021-01-08",
          "2021-01-09",
          "2021-01-10",
          "2021-01-11",
          "2021-01-12",
          "2021-01-13",
          "2021-01-14",
          "2021-01-15",
          "2021-01-16",
          "2021-01-17",
          "2021-01-18",
          "2021-01-19",
          "2021-01-20",
          "2021-01-21",
          "2021-01-22",
          "2021-01-23",
          "2021-01-24",
          "2021-01-25",
          "2021-01-26",
          "2021-01-27",
          "2021-01-28",
          "2021-01-29",
          "2021-01-30",
          "2021-01-31",
          "2021-02-01",
          "2021-02-02",
          "2021-02-03",
          "2021-02-04",
          "2021-02-05",
          "2021-02-06",
          "2021-02-07",
          "2021-02-08",
          "2021-02-09",
          "2021-02-10",
          "2021-02-11",
          "2021-02-12",
          "2021-02-13",
          "2021-02-14",
          "2021-02-15",
          "2021-02-16",
          "2021-02-17",
          "2021-02-18",
          "2021-02-19",
          "2021-02-20",
          "2021-02-21",
          "2021-02-22",
          "2021-02-23",
          "2021-02-24",
          "2021-02-25",
          "2021-02-26",
          "2021-02-27",
          "2021-02-28",
          "2021-03-01",
          "2021-03-02",
          "2021-03-03",
          "2021-03-04",
          "2021-03-05",
          "2021-03-06",
          "2021-03-07",
          "2021-03-08",
          "2021-03-09",
          "2021-03-10",
          "2021-03-11",
          "2021-03-12",
          "2021-03-13",
          "2021-03-14",
          "2021-03-15",
          "2021-03-16",
          "2021-03-17",
          "2021-03-18",
          "2021-03-19",
          "2021-03-20",
          "2021-03-21",
          "2021-03-22",
          "2021-03-23",
          "2021-03-24"
         ],
         "xaxis": "x",
         "y": [
          13780.9951171875,
          13737.0322265625,
          13550.451171875,
          13950.48828125,
          14133.7333984375,
          15579.7294921875,
          15565.880859375,
          14833.75390625,
          15479.595703125,
          15332.3505859375,
          15290.9091796875,
          15701.298828125,
          16276.4404296875,
          16317.80859375,
          16068.1396484375,
          15955.5771484375,
          16685.69140625,
          17645.19140625,
          17803.861328125,
          17817.083984375,
          18621.31640625,
          18642.232421875,
          18370.017578125,
          18365.015625,
          19104.41015625,
          18729.83984375,
          17153.9140625,
          17112.93359375,
          17719.634765625,
          18178.322265625,
          19633.76953125,
          18801.744140625,
          19205.92578125,
          19446.966796875,
          18698.384765625,
          19154.1796875,
          19343.12890625,
          19191.529296875,
          18320.884765625,
          18553.298828125,
          18263.9296875,
          18051.3203125,
          18806.765625,
          19144.4921875,
          19246.919921875,
          19418.818359375,
          21308.3515625,
          22806.796875,
          23132.865234375,
          23861.765625,
          23474.455078125,
          22794.0390625,
          23781.974609375,
          23240.203125,
          23733.5703125,
          24677.015625,
          26439.373046875,
          26280.822265625,
          27081.810546875,
          27360.08984375,
          28841.57421875,
          28994.009765625,
          29376.455078125,
          32129.408203125,
          32810.94921875,
          31977.041015625,
          34013.61328125,
          36833.875,
          39381.765625,
          40788.640625,
          40254.21875,
          38346.53125,
          35516.359375,
          33915.12109375,
          37325.109375,
          39156.70703125,
          36821.6484375,
          36163.6484375,
          35792.23828125,
          36642.234375,
          36050.11328125,
          35549.3984375,
          30817.625,
          32985.7578125,
          32064.376953125,
          32285.798828125,
          32358.61328125,
          32564.029296875,
          30441.041015625,
          34318.671875,
          34295.93359375,
          34270.87890625,
          33114.578125,
          33533.19921875,
          35510.8203125,
          37475.10546875,
          36931.546875,
          38138.38671875,
          39250.19140625,
          38886.828125,
          46184.9921875,
          46469.76171875,
          44898.7109375,
          47877.03515625,
          47491.203125,
          47114.5078125,
          48696.53515625,
          47944.45703125,
          49207.27734375,
          52140.97265625,
          51675.98046875,
          55887.3359375,
          56068.56640625,
          57532.73828125,
          54204.9296875,
          48835.0859375,
          49709.08203125,
          47180.46484375,
          46344.7734375,
          46194.015625,
          45159.50390625,
          49612.10546875,
          48415.81640625,
          50522.3046875,
          48527.03125,
          48899.23046875,
          48918.6796875,
          51174.1171875,
          52272.96875,
          54824.01171875,
          55963.1796875,
          57821.21875,
          57343.37109375,
          61221.1328125,
          59267.4296875,
          55840.78515625,
          56825.828125,
          58893.078125,
          57850.44140625,
          58332.26171875,
          58309.9140625,
          57517.890625,
          54511.66015625,
          54663.68359375
         ],
         "yaxis": "y"
        },
        {
         "customdata": [
          [
           "beautiful work #bitcoin https://t.co/BErHZ2wUts"
          ],
          [
           "#bitcoin first https://t.co/vd5fBRSkkn"
          ],
          [
           "RT @signalapp: As a nonprofit organization, we depend on your support. If you've been patiently waiting for Signal to accept cryptocurrency…"
          ],
          [
           "RT @hello_bitcoin: Many critics think bitcoin has no value. \n\nWe happen to believe that enabling human freedoms at global scale is pretty v…"
          ],
          [
           "RT @jerrybrito: It’s an honor to help in this important endeavor. All orgs developing in crypto — for-profit or nonprofit, even individuals…"
          ],
          [
           "RT @moneyball: Great overview of what the bitcoin design community has been up to, where it is headed, and how you can get involved!"
          ],
          [
           "Running #bitcoin https://t.co/W51ga3yrKb"
          ],
          [
           "RT @FrancisSuarez: The City of Miami believes in #Bitcoin and I’m working day and night to turn Miami into a hub for crypto innovation. \n\nP…"
          ],
          [
           "RT @Square: 2 weeks ago, FinCEN (a bureau of the U.S. Treasury Department) proposed a cryptocurrency rule that creates unnecessary hurdles…"
          ],
          [
           "Our comments on FinCen’s rule proposal on #bitcoin and “cryptocurrency.”\n\nWe believe this rule will do the opposite… https://t.co/qJIASwPXZU"
          ],
          [
           "RT @Diditaihuttu: Happy Birthday #BITCOIN 3 January 2009, the BTC network came into existence. The genesis block of bitcoin (block number 0…"
          ],
          [
           "RT @BleacherReport: Panthers OT Russell Okung will get half of his $13M contract paid in bitcoin 💰  @brgridiron https://t.co/SAZsqeEALy"
          ],
          [
           "RT @NeerajKA: It’s great to see ⁦@EFF⁩ join us in standing up for cryptocurrency and financial privacy  https://t.co/5Jgj7QkSEl"
          ],
          [
           "RT @milessuter: There’s one input that matters in defeating the ‘bitcoin is boiling the oceans’ fallacy: % clean energy usage. \n\nWe are wel…"
          ],
          [
           "#bitcoin https://t.co/7g4WU5b6nh"
          ],
          [
           "RT @sqcrypto: The lucrative business of crypto patent trolling will soon pay about as well as regular trolling. Coinbase joins COPA along w…"
          ],
          [
           "RT @jerrybrito: 1/ Patent trolls are a massive threat to innovation. \n\nEvery crypto firm and project should join the Crypto Open Patent All…"
          ]
         ],
         "hovertemplate": "Datetime=%{x}<br>BTC_price=%{y}<br>polarity=%{text}<br>Text=%{customdata[0]}<extra></extra>",
         "legendgroup": "",
         "marker": {
          "color": "#636efa",
          "symbol": "circle"
         },
         "mode": "markers+text",
         "name": "",
         "orientation": "v",
         "showlegend": false,
         "text": [
          0.85,
          0.25,
          0,
          0.19,
          0.4,
          1,
          0,
          0,
          -0.4,
          0,
          0.8,
          -0.17,
          0.4,
          0.37,
          0,
          0,
          -0.07
         ],
         "type": "scatter",
         "x": [
          "2021-03-18",
          "2021-03-17",
          "2021-03-15",
          "2021-03-12",
          "2021-02-20",
          "2021-02-10",
          "2021-02-05",
          "2021-01-27",
          "2021-01-04",
          "2021-01-04",
          "2021-01-03",
          "2020-12-29",
          "2020-12-22",
          "2020-12-08",
          "2020-12-08",
          "2020-12-03",
          "2020-11-14"
         ],
         "xaxis": "x",
         "y": [
          58893.078125,
          56825.828125,
          59267.4296875,
          57821.21875,
          55887.3359375,
          46469.76171875,
          36931.546875,
          32564.029296875,
          32810.94921875,
          32810.94921875,
          32129.408203125,
          27081.810546875,
          22794.0390625,
          19191.529296875,
          19191.529296875,
          19205.92578125,
          16317.80859375
         ],
         "yaxis": "y"
        }
       ],
       "layout": {
        "annotations": [
         {
          "arrowhead": 1,
          "showarrow": true,
          "text": "Elon Musk changes his bio to #bitcoin",
          "x": "2021-01-29 00:00:00.00000",
          "y": 34111
         }
        ],
        "legend": {
         "tracegroupgap": 0
        },
        "margin": {
         "t": 60
        },
        "template": {
         "data": {
          "bar": [
           {
            "error_x": {
             "color": "#2a3f5f"
            },
            "error_y": {
             "color": "#2a3f5f"
            },
            "marker": {
             "line": {
              "color": "#E5ECF6",
              "width": 0.5
             }
            },
            "type": "bar"
           }
          ],
          "barpolar": [
           {
            "marker": {
             "line": {
              "color": "#E5ECF6",
              "width": 0.5
             }
            },
            "type": "barpolar"
           }
          ],
          "carpet": [
           {
            "aaxis": {
             "endlinecolor": "#2a3f5f",
             "gridcolor": "white",
             "linecolor": "white",
             "minorgridcolor": "white",
             "startlinecolor": "#2a3f5f"
            },
            "baxis": {
             "endlinecolor": "#2a3f5f",
             "gridcolor": "white",
             "linecolor": "white",
             "minorgridcolor": "white",
             "startlinecolor": "#2a3f5f"
            },
            "type": "carpet"
           }
          ],
          "choropleth": [
           {
            "colorbar": {
             "outlinewidth": 0,
             "ticks": ""
            },
            "type": "choropleth"
           }
          ],
          "contour": [
           {
            "colorbar": {
             "outlinewidth": 0,
             "ticks": ""
            },
            "colorscale": [
             [
              0,
              "#0d0887"
             ],
             [
              0.1111111111111111,
              "#46039f"
             ],
             [
              0.2222222222222222,
              "#7201a8"
             ],
             [
              0.3333333333333333,
              "#9c179e"
             ],
             [
              0.4444444444444444,
              "#bd3786"
             ],
             [
              0.5555555555555556,
              "#d8576b"
             ],
             [
              0.6666666666666666,
              "#ed7953"
             ],
             [
              0.7777777777777778,
              "#fb9f3a"
             ],
             [
              0.8888888888888888,
              "#fdca26"
             ],
             [
              1,
              "#f0f921"
             ]
            ],
            "type": "contour"
           }
          ],
          "contourcarpet": [
           {
            "colorbar": {
             "outlinewidth": 0,
             "ticks": ""
            },
            "type": "contourcarpet"
           }
          ],
          "heatmap": [
           {
            "colorbar": {
             "outlinewidth": 0,
             "ticks": ""
            },
            "colorscale": [
             [
              0,
              "#0d0887"
             ],
             [
              0.1111111111111111,
              "#46039f"
             ],
             [
              0.2222222222222222,
              "#7201a8"
             ],
             [
              0.3333333333333333,
              "#9c179e"
             ],
             [
              0.4444444444444444,
              "#bd3786"
             ],
             [
              0.5555555555555556,
              "#d8576b"
             ],
             [
              0.6666666666666666,
              "#ed7953"
             ],
             [
              0.7777777777777778,
              "#fb9f3a"
             ],
             [
              0.8888888888888888,
              "#fdca26"
             ],
             [
              1,
              "#f0f921"
             ]
            ],
            "type": "heatmap"
           }
          ],
          "heatmapgl": [
           {
            "colorbar": {
             "outlinewidth": 0,
             "ticks": ""
            },
            "colorscale": [
             [
              0,
              "#0d0887"
             ],
             [
              0.1111111111111111,
              "#46039f"
             ],
             [
              0.2222222222222222,
              "#7201a8"
             ],
             [
              0.3333333333333333,
              "#9c179e"
             ],
             [
              0.4444444444444444,
              "#bd3786"
             ],
             [
              0.5555555555555556,
              "#d8576b"
             ],
             [
              0.6666666666666666,
              "#ed7953"
             ],
             [
              0.7777777777777778,
              "#fb9f3a"
             ],
             [
              0.8888888888888888,
              "#fdca26"
             ],
             [
              1,
              "#f0f921"
             ]
            ],
            "type": "heatmapgl"
           }
          ],
          "histogram": [
           {
            "marker": {
             "colorbar": {
              "outlinewidth": 0,
              "ticks": ""
             }
            },
            "type": "histogram"
           }
          ],
          "histogram2d": [
           {
            "colorbar": {
             "outlinewidth": 0,
             "ticks": ""
            },
            "colorscale": [
             [
              0,
              "#0d0887"
             ],
             [
              0.1111111111111111,
              "#46039f"
             ],
             [
              0.2222222222222222,
              "#7201a8"
             ],
             [
              0.3333333333333333,
              "#9c179e"
             ],
             [
              0.4444444444444444,
              "#bd3786"
             ],
             [
              0.5555555555555556,
              "#d8576b"
             ],
             [
              0.6666666666666666,
              "#ed7953"
             ],
             [
              0.7777777777777778,
              "#fb9f3a"
             ],
             [
              0.8888888888888888,
              "#fdca26"
             ],
             [
              1,
              "#f0f921"
             ]
            ],
            "type": "histogram2d"
           }
          ],
          "histogram2dcontour": [
           {
            "colorbar": {
             "outlinewidth": 0,
             "ticks": ""
            },
            "colorscale": [
             [
              0,
              "#0d0887"
             ],
             [
              0.1111111111111111,
              "#46039f"
             ],
             [
              0.2222222222222222,
              "#7201a8"
             ],
             [
              0.3333333333333333,
              "#9c179e"
             ],
             [
              0.4444444444444444,
              "#bd3786"
             ],
             [
              0.5555555555555556,
              "#d8576b"
             ],
             [
              0.6666666666666666,
              "#ed7953"
             ],
             [
              0.7777777777777778,
              "#fb9f3a"
             ],
             [
              0.8888888888888888,
              "#fdca26"
             ],
             [
              1,
              "#f0f921"
             ]
            ],
            "type": "histogram2dcontour"
           }
          ],
          "mesh3d": [
           {
            "colorbar": {
             "outlinewidth": 0,
             "ticks": ""
            },
            "type": "mesh3d"
           }
          ],
          "parcoords": [
           {
            "line": {
             "colorbar": {
              "outlinewidth": 0,
              "ticks": ""
             }
            },
            "type": "parcoords"
           }
          ],
          "pie": [
           {
            "automargin": true,
            "type": "pie"
           }
          ],
          "scatter": [
           {
            "marker": {
             "colorbar": {
              "outlinewidth": 0,
              "ticks": ""
             }
            },
            "type": "scatter"
           }
          ],
          "scatter3d": [
           {
            "line": {
             "colorbar": {
              "outlinewidth": 0,
              "ticks": ""
             }
            },
            "marker": {
             "colorbar": {
              "outlinewidth": 0,
              "ticks": ""
             }
            },
            "type": "scatter3d"
           }
          ],
          "scattercarpet": [
           {
            "marker": {
             "colorbar": {
              "outlinewidth": 0,
              "ticks": ""
             }
            },
            "type": "scattercarpet"
           }
          ],
          "scattergeo": [
           {
            "marker": {
             "colorbar": {
              "outlinewidth": 0,
              "ticks": ""
             }
            },
            "type": "scattergeo"
           }
          ],
          "scattergl": [
           {
            "marker": {
             "colorbar": {
              "outlinewidth": 0,
              "ticks": ""
             }
            },
            "type": "scattergl"
           }
          ],
          "scattermapbox": [
           {
            "marker": {
             "colorbar": {
              "outlinewidth": 0,
              "ticks": ""
             }
            },
            "type": "scattermapbox"
           }
          ],
          "scatterpolar": [
           {
            "marker": {
             "colorbar": {
              "outlinewidth": 0,
              "ticks": ""
             }
            },
            "type": "scatterpolar"
           }
          ],
          "scatterpolargl": [
           {
            "marker": {
             "colorbar": {
              "outlinewidth": 0,
              "ticks": ""
             }
            },
            "type": "scatterpolargl"
           }
          ],
          "scatterternary": [
           {
            "marker": {
             "colorbar": {
              "outlinewidth": 0,
              "ticks": ""
             }
            },
            "type": "scatterternary"
           }
          ],
          "surface": [
           {
            "colorbar": {
             "outlinewidth": 0,
             "ticks": ""
            },
            "colorscale": [
             [
              0,
              "#0d0887"
             ],
             [
              0.1111111111111111,
              "#46039f"
             ],
             [
              0.2222222222222222,
              "#7201a8"
             ],
             [
              0.3333333333333333,
              "#9c179e"
             ],
             [
              0.4444444444444444,
              "#bd3786"
             ],
             [
              0.5555555555555556,
              "#d8576b"
             ],
             [
              0.6666666666666666,
              "#ed7953"
             ],
             [
              0.7777777777777778,
              "#fb9f3a"
             ],
             [
              0.8888888888888888,
              "#fdca26"
             ],
             [
              1,
              "#f0f921"
             ]
            ],
            "type": "surface"
           }
          ],
          "table": [
           {
            "cells": {
             "fill": {
              "color": "#EBF0F8"
             },
             "line": {
              "color": "white"
             }
            },
            "header": {
             "fill": {
              "color": "#C8D4E3"
             },
             "line": {
              "color": "white"
             }
            },
            "type": "table"
           }
          ]
         },
         "layout": {
          "annotationdefaults": {
           "arrowcolor": "#2a3f5f",
           "arrowhead": 0,
           "arrowwidth": 1
          },
          "autotypenumbers": "strict",
          "coloraxis": {
           "colorbar": {
            "outlinewidth": 0,
            "ticks": ""
           }
          },
          "colorscale": {
           "diverging": [
            [
             0,
             "#8e0152"
            ],
            [
             0.1,
             "#c51b7d"
            ],
            [
             0.2,
             "#de77ae"
            ],
            [
             0.3,
             "#f1b6da"
            ],
            [
             0.4,
             "#fde0ef"
            ],
            [
             0.5,
             "#f7f7f7"
            ],
            [
             0.6,
             "#e6f5d0"
            ],
            [
             0.7,
             "#b8e186"
            ],
            [
             0.8,
             "#7fbc41"
            ],
            [
             0.9,
             "#4d9221"
            ],
            [
             1,
             "#276419"
            ]
           ],
           "sequential": [
            [
             0,
             "#0d0887"
            ],
            [
             0.1111111111111111,
             "#46039f"
            ],
            [
             0.2222222222222222,
             "#7201a8"
            ],
            [
             0.3333333333333333,
             "#9c179e"
            ],
            [
             0.4444444444444444,
             "#bd3786"
            ],
            [
             0.5555555555555556,
             "#d8576b"
            ],
            [
             0.6666666666666666,
             "#ed7953"
            ],
            [
             0.7777777777777778,
             "#fb9f3a"
            ],
            [
             0.8888888888888888,
             "#fdca26"
            ],
            [
             1,
             "#f0f921"
            ]
           ],
           "sequentialminus": [
            [
             0,
             "#0d0887"
            ],
            [
             0.1111111111111111,
             "#46039f"
            ],
            [
             0.2222222222222222,
             "#7201a8"
            ],
            [
             0.3333333333333333,
             "#9c179e"
            ],
            [
             0.4444444444444444,
             "#bd3786"
            ],
            [
             0.5555555555555556,
             "#d8576b"
            ],
            [
             0.6666666666666666,
             "#ed7953"
            ],
            [
             0.7777777777777778,
             "#fb9f3a"
            ],
            [
             0.8888888888888888,
             "#fdca26"
            ],
            [
             1,
             "#f0f921"
            ]
           ]
          },
          "colorway": [
           "#636efa",
           "#EF553B",
           "#00cc96",
           "#ab63fa",
           "#FFA15A",
           "#19d3f3",
           "#FF6692",
           "#B6E880",
           "#FF97FF",
           "#FECB52"
          ],
          "font": {
           "color": "#2a3f5f"
          },
          "geo": {
           "bgcolor": "white",
           "lakecolor": "white",
           "landcolor": "#E5ECF6",
           "showlakes": true,
           "showland": true,
           "subunitcolor": "white"
          },
          "hoverlabel": {
           "align": "left"
          },
          "hovermode": "closest",
          "mapbox": {
           "style": "light"
          },
          "paper_bgcolor": "white",
          "plot_bgcolor": "#E5ECF6",
          "polar": {
           "angularaxis": {
            "gridcolor": "white",
            "linecolor": "white",
            "ticks": ""
           },
           "bgcolor": "#E5ECF6",
           "radialaxis": {
            "gridcolor": "white",
            "linecolor": "white",
            "ticks": ""
           }
          },
          "scene": {
           "xaxis": {
            "backgroundcolor": "#E5ECF6",
            "gridcolor": "white",
            "gridwidth": 2,
            "linecolor": "white",
            "showbackground": true,
            "ticks": "",
            "zerolinecolor": "white"
           },
           "yaxis": {
            "backgroundcolor": "#E5ECF6",
            "gridcolor": "white",
            "gridwidth": 2,
            "linecolor": "white",
            "showbackground": true,
            "ticks": "",
            "zerolinecolor": "white"
           },
           "zaxis": {
            "backgroundcolor": "#E5ECF6",
            "gridcolor": "white",
            "gridwidth": 2,
            "linecolor": "white",
            "showbackground": true,
            "ticks": "",
            "zerolinecolor": "white"
           }
          },
          "shapedefaults": {
           "line": {
            "color": "#2a3f5f"
           }
          },
          "ternary": {
           "aaxis": {
            "gridcolor": "white",
            "linecolor": "white",
            "ticks": ""
           },
           "baxis": {
            "gridcolor": "white",
            "linecolor": "white",
            "ticks": ""
           },
           "bgcolor": "#E5ECF6",
           "caxis": {
            "gridcolor": "white",
            "linecolor": "white",
            "ticks": ""
           }
          },
          "title": {
           "x": 0.05
          },
          "xaxis": {
           "automargin": true,
           "gridcolor": "white",
           "linecolor": "white",
           "ticks": "",
           "title": {
            "standoff": 15
           },
           "zerolinecolor": "white",
           "zerolinewidth": 2
          },
          "yaxis": {
           "automargin": true,
           "gridcolor": "white",
           "linecolor": "white",
           "ticks": "",
           "title": {
            "standoff": 15
           },
           "zerolinecolor": "white",
           "zerolinewidth": 2
          }
         }
        },
        "xaxis": {
         "anchor": "y",
         "domain": [
          0,
          1
         ],
         "title": {
          "text": "Date"
         }
        },
        "yaxis": {
         "anchor": "x",
         "domain": [
          0,
          1
         ],
         "title": {
          "text": "Open"
         }
        }
       }
      },
      "text/html": [
       "<div>                            <div id=\"91d069c0-b50e-40be-920d-45f3270870ef\" class=\"plotly-graph-div\" style=\"height:525px; width:100%;\"></div>            <script type=\"text/javascript\">                require([\"plotly\"], function(Plotly) {                    window.PLOTLYENV=window.PLOTLYENV || {};                                    if (document.getElementById(\"91d069c0-b50e-40be-920d-45f3270870ef\")) {                    Plotly.newPlot(                        \"91d069c0-b50e-40be-920d-45f3270870ef\",                        [{\"hovertemplate\": \"Date=%{x}<br>Open=%{y}<extra></extra>\", \"legendgroup\": \"\", \"line\": {\"color\": \"#636efa\", \"dash\": \"solid\"}, \"mode\": \"lines\", \"name\": \"\", \"orientation\": \"v\", \"showlegend\": false, \"type\": \"scatter\", \"x\": [\"2020-11-01\", \"2020-11-02\", \"2020-11-03\", \"2020-11-04\", \"2020-11-05\", \"2020-11-06\", \"2020-11-07\", \"2020-11-08\", \"2020-11-09\", \"2020-11-10\", \"2020-11-11\", \"2020-11-12\", \"2020-11-13\", \"2020-11-14\", \"2020-11-15\", \"2020-11-16\", \"2020-11-17\", \"2020-11-18\", \"2020-11-19\", \"2020-11-20\", \"2020-11-21\", \"2020-11-22\", \"2020-11-23\", \"2020-11-24\", \"2020-11-25\", \"2020-11-26\", \"2020-11-27\", \"2020-11-28\", \"2020-11-29\", \"2020-11-30\", \"2020-12-01\", \"2020-12-02\", \"2020-12-03\", \"2020-12-04\", \"2020-12-05\", \"2020-12-06\", \"2020-12-07\", \"2020-12-08\", \"2020-12-09\", \"2020-12-10\", \"2020-12-11\", \"2020-12-12\", \"2020-12-13\", \"2020-12-14\", \"2020-12-15\", \"2020-12-16\", \"2020-12-17\", \"2020-12-18\", \"2020-12-19\", \"2020-12-20\", \"2020-12-21\", \"2020-12-22\", \"2020-12-23\", \"2020-12-24\", \"2020-12-25\", \"2020-12-26\", \"2020-12-27\", \"2020-12-28\", \"2020-12-29\", \"2020-12-30\", \"2020-12-31\", \"2021-01-01\", \"2021-01-02\", \"2021-01-03\", \"2021-01-04\", \"2021-01-05\", \"2021-01-06\", \"2021-01-07\", \"2021-01-08\", \"2021-01-09\", \"2021-01-10\", \"2021-01-11\", \"2021-01-12\", \"2021-01-13\", \"2021-01-14\", \"2021-01-15\", \"2021-01-16\", \"2021-01-17\", \"2021-01-18\", \"2021-01-19\", \"2021-01-20\", \"2021-01-21\", \"2021-01-22\", \"2021-01-23\", \"2021-01-24\", \"2021-01-25\", \"2021-01-26\", \"2021-01-27\", \"2021-01-28\", \"2021-01-29\", \"2021-01-30\", \"2021-01-31\", \"2021-02-01\", \"2021-02-02\", \"2021-02-03\", \"2021-02-04\", \"2021-02-05\", \"2021-02-06\", \"2021-02-07\", \"2021-02-08\", \"2021-02-09\", \"2021-02-10\", \"2021-02-11\", \"2021-02-12\", \"2021-02-13\", \"2021-02-14\", \"2021-02-15\", \"2021-02-16\", \"2021-02-17\", \"2021-02-18\", \"2021-02-19\", \"2021-02-20\", \"2021-02-21\", \"2021-02-22\", \"2021-02-23\", \"2021-02-24\", \"2021-02-25\", \"2021-02-26\", \"2021-02-27\", \"2021-02-28\", \"2021-03-01\", \"2021-03-02\", \"2021-03-03\", \"2021-03-04\", \"2021-03-05\", \"2021-03-06\", \"2021-03-07\", \"2021-03-08\", \"2021-03-09\", \"2021-03-10\", \"2021-03-11\", \"2021-03-12\", \"2021-03-13\", \"2021-03-14\", \"2021-03-15\", \"2021-03-16\", \"2021-03-17\", \"2021-03-18\", \"2021-03-19\", \"2021-03-20\", \"2021-03-21\", \"2021-03-22\", \"2021-03-23\", \"2021-03-24\"], \"xaxis\": \"x\", \"y\": [13780.9951171875, 13737.0322265625, 13550.451171875, 13950.48828125, 14133.7333984375, 15579.7294921875, 15565.880859375, 14833.75390625, 15479.595703125, 15332.3505859375, 15290.9091796875, 15701.298828125, 16276.4404296875, 16317.80859375, 16068.1396484375, 15955.5771484375, 16685.69140625, 17645.19140625, 17803.861328125, 17817.083984375, 18621.31640625, 18642.232421875, 18370.017578125, 18365.015625, 19104.41015625, 18729.83984375, 17153.9140625, 17112.93359375, 17719.634765625, 18178.322265625, 19633.76953125, 18801.744140625, 19205.92578125, 19446.966796875, 18698.384765625, 19154.1796875, 19343.12890625, 19191.529296875, 18320.884765625, 18553.298828125, 18263.9296875, 18051.3203125, 18806.765625, 19144.4921875, 19246.919921875, 19418.818359375, 21308.3515625, 22806.796875, 23132.865234375, 23861.765625, 23474.455078125, 22794.0390625, 23781.974609375, 23240.203125, 23733.5703125, 24677.015625, 26439.373046875, 26280.822265625, 27081.810546875, 27360.08984375, 28841.57421875, 28994.009765625, 29376.455078125, 32129.408203125, 32810.94921875, 31977.041015625, 34013.61328125, 36833.875, 39381.765625, 40788.640625, 40254.21875, 38346.53125, 35516.359375, 33915.12109375, 37325.109375, 39156.70703125, 36821.6484375, 36163.6484375, 35792.23828125, 36642.234375, 36050.11328125, 35549.3984375, 30817.625, 32985.7578125, 32064.376953125, 32285.798828125, 32358.61328125, 32564.029296875, 30441.041015625, 34318.671875, 34295.93359375, 34270.87890625, 33114.578125, 33533.19921875, 35510.8203125, 37475.10546875, 36931.546875, 38138.38671875, 39250.19140625, 38886.828125, 46184.9921875, 46469.76171875, 44898.7109375, 47877.03515625, 47491.203125, 47114.5078125, 48696.53515625, 47944.45703125, 49207.27734375, 52140.97265625, 51675.98046875, 55887.3359375, 56068.56640625, 57532.73828125, 54204.9296875, 48835.0859375, 49709.08203125, 47180.46484375, 46344.7734375, 46194.015625, 45159.50390625, 49612.10546875, 48415.81640625, 50522.3046875, 48527.03125, 48899.23046875, 48918.6796875, 51174.1171875, 52272.96875, 54824.01171875, 55963.1796875, 57821.21875, 57343.37109375, 61221.1328125, 59267.4296875, 55840.78515625, 56825.828125, 58893.078125, 57850.44140625, 58332.26171875, 58309.9140625, 57517.890625, 54511.66015625, 54663.68359375], \"yaxis\": \"y\"}, {\"customdata\": [[\"beautiful work #bitcoin https://t.co/BErHZ2wUts\"], [\"#bitcoin first https://t.co/vd5fBRSkkn\"], [\"RT @signalapp: As a nonprofit organization, we depend on your support. If you've been patiently waiting for Signal to accept cryptocurrency\\u2026\"], [\"RT @hello_bitcoin: Many critics think bitcoin has no value. \\n\\nWe happen to believe that enabling human freedoms at global scale is pretty v\\u2026\"], [\"RT @jerrybrito: It\\u2019s an honor to help in this important endeavor. All orgs developing in crypto \\u2014 for-profit or nonprofit, even individuals\\u2026\"], [\"RT @moneyball: Great overview of what the bitcoin design community has been up to, where it is headed, and how you can get involved!\"], [\"Running #bitcoin https://t.co/W51ga3yrKb\"], [\"RT @FrancisSuarez: The City of Miami believes in #Bitcoin and I\\u2019m working day and night to turn Miami into a hub for crypto innovation. \\n\\nP\\u2026\"], [\"RT @Square: 2 weeks ago, FinCEN (a bureau of the U.S. Treasury Department) proposed a cryptocurrency rule that creates unnecessary hurdles\\u2026\"], [\"Our comments on FinCen\\u2019s rule proposal on #bitcoin and \\u201ccryptocurrency.\\u201d\\n\\nWe believe this rule will do the opposite\\u2026 https://t.co/qJIASwPXZU\"], [\"RT @Diditaihuttu: Happy Birthday #BITCOIN 3 January 2009, the BTC network came into existence. The genesis block of bitcoin (block number 0\\u2026\"], [\"RT @BleacherReport: Panthers OT Russell Okung will get half of his $13M contract paid in bitcoin \\ud83d\\udcb0  @brgridiron https://t.co/SAZsqeEALy\"], [\"RT @NeerajKA: It\\u2019s great to see \\u2066@EFF\\u2069 join us in standing up for cryptocurrency and financial privacy  https://t.co/5Jgj7QkSEl\"], [\"RT @milessuter: There\\u2019s one input that matters in defeating the \\u2018bitcoin is boiling the oceans\\u2019 fallacy: % clean energy usage. \\n\\nWe are wel\\u2026\"], [\"#bitcoin https://t.co/7g4WU5b6nh\"], [\"RT @sqcrypto: The lucrative business of crypto patent trolling will soon pay about as well as regular trolling. Coinbase joins COPA along w\\u2026\"], [\"RT @jerrybrito: 1/ Patent trolls are a massive threat to innovation. \\n\\nEvery crypto firm and project should join the Crypto Open Patent All\\u2026\"]], \"hovertemplate\": \"Datetime=%{x}<br>BTC_price=%{y}<br>polarity=%{text}<br>Text=%{customdata[0]}<extra></extra>\", \"legendgroup\": \"\", \"marker\": {\"color\": \"#636efa\", \"symbol\": \"circle\"}, \"mode\": \"markers+text\", \"name\": \"\", \"orientation\": \"v\", \"showlegend\": false, \"text\": [0.85, 0.25, 0.0, 0.19, 0.4, 1.0, 0.0, 0.0, -0.4, 0.0, 0.8, -0.17, 0.4, 0.37, 0.0, 0.0, -0.07], \"type\": \"scatter\", \"x\": [\"2021-03-18\", \"2021-03-17\", \"2021-03-15\", \"2021-03-12\", \"2021-02-20\", \"2021-02-10\", \"2021-02-05\", \"2021-01-27\", \"2021-01-04\", \"2021-01-04\", \"2021-01-03\", \"2020-12-29\", \"2020-12-22\", \"2020-12-08\", \"2020-12-08\", \"2020-12-03\", \"2020-11-14\"], \"xaxis\": \"x\", \"y\": [58893.078125, 56825.828125, 59267.4296875, 57821.21875, 55887.3359375, 46469.76171875, 36931.546875, 32564.029296875, 32810.94921875, 32810.94921875, 32129.408203125, 27081.810546875, 22794.0390625, 19191.529296875, 19191.529296875, 19205.92578125, 16317.80859375], \"yaxis\": \"y\"}],                        {\"annotations\": [{\"arrowhead\": 1, \"showarrow\": true, \"text\": \"Elon Musk changes his bio to #bitcoin\", \"x\": \"2021-01-29 00:00:00.00000\", \"y\": 34111}], \"legend\": {\"tracegroupgap\": 0}, \"margin\": {\"t\": 60}, \"template\": {\"data\": {\"bar\": [{\"error_x\": {\"color\": \"#2a3f5f\"}, \"error_y\": {\"color\": \"#2a3f5f\"}, \"marker\": {\"line\": {\"color\": \"#E5ECF6\", \"width\": 0.5}}, \"type\": \"bar\"}], \"barpolar\": [{\"marker\": {\"line\": {\"color\": \"#E5ECF6\", \"width\": 0.5}}, \"type\": \"barpolar\"}], \"carpet\": [{\"aaxis\": {\"endlinecolor\": \"#2a3f5f\", \"gridcolor\": \"white\", \"linecolor\": \"white\", \"minorgridcolor\": \"white\", \"startlinecolor\": \"#2a3f5f\"}, \"baxis\": {\"endlinecolor\": \"#2a3f5f\", \"gridcolor\": \"white\", \"linecolor\": \"white\", \"minorgridcolor\": \"white\", \"startlinecolor\": \"#2a3f5f\"}, \"type\": \"carpet\"}], \"choropleth\": [{\"colorbar\": {\"outlinewidth\": 0, \"ticks\": \"\"}, \"type\": \"choropleth\"}], \"contour\": [{\"colorbar\": {\"outlinewidth\": 0, \"ticks\": \"\"}, \"colorscale\": [[0.0, \"#0d0887\"], [0.1111111111111111, \"#46039f\"], [0.2222222222222222, \"#7201a8\"], [0.3333333333333333, \"#9c179e\"], [0.4444444444444444, \"#bd3786\"], [0.5555555555555556, \"#d8576b\"], [0.6666666666666666, \"#ed7953\"], [0.7777777777777778, \"#fb9f3a\"], [0.8888888888888888, \"#fdca26\"], [1.0, \"#f0f921\"]], \"type\": \"contour\"}], \"contourcarpet\": [{\"colorbar\": {\"outlinewidth\": 0, \"ticks\": \"\"}, \"type\": \"contourcarpet\"}], \"heatmap\": [{\"colorbar\": {\"outlinewidth\": 0, \"ticks\": \"\"}, \"colorscale\": [[0.0, \"#0d0887\"], [0.1111111111111111, \"#46039f\"], [0.2222222222222222, \"#7201a8\"], [0.3333333333333333, \"#9c179e\"], [0.4444444444444444, \"#bd3786\"], [0.5555555555555556, \"#d8576b\"], [0.6666666666666666, \"#ed7953\"], [0.7777777777777778, \"#fb9f3a\"], [0.8888888888888888, \"#fdca26\"], [1.0, \"#f0f921\"]], \"type\": \"heatmap\"}], \"heatmapgl\": [{\"colorbar\": {\"outlinewidth\": 0, \"ticks\": \"\"}, \"colorscale\": [[0.0, \"#0d0887\"], [0.1111111111111111, \"#46039f\"], [0.2222222222222222, \"#7201a8\"], [0.3333333333333333, \"#9c179e\"], [0.4444444444444444, \"#bd3786\"], [0.5555555555555556, \"#d8576b\"], [0.6666666666666666, \"#ed7953\"], [0.7777777777777778, \"#fb9f3a\"], [0.8888888888888888, \"#fdca26\"], [1.0, \"#f0f921\"]], \"type\": \"heatmapgl\"}], \"histogram\": [{\"marker\": {\"colorbar\": {\"outlinewidth\": 0, \"ticks\": \"\"}}, \"type\": \"histogram\"}], \"histogram2d\": [{\"colorbar\": {\"outlinewidth\": 0, \"ticks\": \"\"}, \"colorscale\": [[0.0, \"#0d0887\"], [0.1111111111111111, \"#46039f\"], [0.2222222222222222, \"#7201a8\"], [0.3333333333333333, \"#9c179e\"], [0.4444444444444444, \"#bd3786\"], [0.5555555555555556, \"#d8576b\"], [0.6666666666666666, \"#ed7953\"], [0.7777777777777778, \"#fb9f3a\"], [0.8888888888888888, \"#fdca26\"], [1.0, \"#f0f921\"]], \"type\": \"histogram2d\"}], \"histogram2dcontour\": [{\"colorbar\": {\"outlinewidth\": 0, \"ticks\": \"\"}, \"colorscale\": [[0.0, \"#0d0887\"], [0.1111111111111111, \"#46039f\"], [0.2222222222222222, \"#7201a8\"], [0.3333333333333333, \"#9c179e\"], [0.4444444444444444, \"#bd3786\"], [0.5555555555555556, \"#d8576b\"], [0.6666666666666666, \"#ed7953\"], [0.7777777777777778, \"#fb9f3a\"], [0.8888888888888888, \"#fdca26\"], [1.0, \"#f0f921\"]], \"type\": \"histogram2dcontour\"}], \"mesh3d\": [{\"colorbar\": {\"outlinewidth\": 0, \"ticks\": \"\"}, \"type\": \"mesh3d\"}], \"parcoords\": [{\"line\": {\"colorbar\": {\"outlinewidth\": 0, \"ticks\": \"\"}}, \"type\": \"parcoords\"}], \"pie\": [{\"automargin\": true, \"type\": \"pie\"}], \"scatter\": [{\"marker\": {\"colorbar\": {\"outlinewidth\": 0, \"ticks\": \"\"}}, \"type\": \"scatter\"}], \"scatter3d\": [{\"line\": {\"colorbar\": {\"outlinewidth\": 0, \"ticks\": \"\"}}, \"marker\": {\"colorbar\": {\"outlinewidth\": 0, \"ticks\": \"\"}}, \"type\": \"scatter3d\"}], \"scattercarpet\": [{\"marker\": {\"colorbar\": {\"outlinewidth\": 0, \"ticks\": \"\"}}, \"type\": \"scattercarpet\"}], \"scattergeo\": [{\"marker\": {\"colorbar\": {\"outlinewidth\": 0, \"ticks\": \"\"}}, \"type\": \"scattergeo\"}], \"scattergl\": [{\"marker\": {\"colorbar\": {\"outlinewidth\": 0, \"ticks\": \"\"}}, \"type\": \"scattergl\"}], \"scattermapbox\": [{\"marker\": {\"colorbar\": {\"outlinewidth\": 0, \"ticks\": \"\"}}, \"type\": \"scattermapbox\"}], \"scatterpolar\": [{\"marker\": {\"colorbar\": {\"outlinewidth\": 0, \"ticks\": \"\"}}, \"type\": \"scatterpolar\"}], \"scatterpolargl\": [{\"marker\": {\"colorbar\": {\"outlinewidth\": 0, \"ticks\": \"\"}}, \"type\": \"scatterpolargl\"}], \"scatterternary\": [{\"marker\": {\"colorbar\": {\"outlinewidth\": 0, \"ticks\": \"\"}}, \"type\": \"scatterternary\"}], \"surface\": [{\"colorbar\": {\"outlinewidth\": 0, \"ticks\": \"\"}, \"colorscale\": [[0.0, \"#0d0887\"], [0.1111111111111111, \"#46039f\"], [0.2222222222222222, \"#7201a8\"], [0.3333333333333333, \"#9c179e\"], [0.4444444444444444, \"#bd3786\"], [0.5555555555555556, \"#d8576b\"], [0.6666666666666666, \"#ed7953\"], [0.7777777777777778, \"#fb9f3a\"], [0.8888888888888888, \"#fdca26\"], [1.0, \"#f0f921\"]], \"type\": \"surface\"}], \"table\": [{\"cells\": {\"fill\": {\"color\": \"#EBF0F8\"}, \"line\": {\"color\": \"white\"}}, \"header\": {\"fill\": {\"color\": \"#C8D4E3\"}, \"line\": {\"color\": \"white\"}}, \"type\": \"table\"}]}, \"layout\": {\"annotationdefaults\": {\"arrowcolor\": \"#2a3f5f\", \"arrowhead\": 0, \"arrowwidth\": 1}, \"autotypenumbers\": \"strict\", \"coloraxis\": {\"colorbar\": {\"outlinewidth\": 0, \"ticks\": \"\"}}, \"colorscale\": {\"diverging\": [[0, \"#8e0152\"], [0.1, \"#c51b7d\"], [0.2, \"#de77ae\"], [0.3, \"#f1b6da\"], [0.4, \"#fde0ef\"], [0.5, \"#f7f7f7\"], [0.6, \"#e6f5d0\"], [0.7, \"#b8e186\"], [0.8, \"#7fbc41\"], [0.9, \"#4d9221\"], [1, \"#276419\"]], \"sequential\": [[0.0, \"#0d0887\"], [0.1111111111111111, \"#46039f\"], [0.2222222222222222, \"#7201a8\"], [0.3333333333333333, \"#9c179e\"], [0.4444444444444444, \"#bd3786\"], [0.5555555555555556, \"#d8576b\"], [0.6666666666666666, \"#ed7953\"], [0.7777777777777778, \"#fb9f3a\"], [0.8888888888888888, \"#fdca26\"], [1.0, \"#f0f921\"]], \"sequentialminus\": [[0.0, \"#0d0887\"], [0.1111111111111111, \"#46039f\"], [0.2222222222222222, \"#7201a8\"], [0.3333333333333333, \"#9c179e\"], [0.4444444444444444, \"#bd3786\"], [0.5555555555555556, \"#d8576b\"], [0.6666666666666666, \"#ed7953\"], [0.7777777777777778, \"#fb9f3a\"], [0.8888888888888888, \"#fdca26\"], [1.0, \"#f0f921\"]]}, \"colorway\": [\"#636efa\", \"#EF553B\", \"#00cc96\", \"#ab63fa\", \"#FFA15A\", \"#19d3f3\", \"#FF6692\", \"#B6E880\", \"#FF97FF\", \"#FECB52\"], \"font\": {\"color\": \"#2a3f5f\"}, \"geo\": {\"bgcolor\": \"white\", \"lakecolor\": \"white\", \"landcolor\": \"#E5ECF6\", \"showlakes\": true, \"showland\": true, \"subunitcolor\": \"white\"}, \"hoverlabel\": {\"align\": \"left\"}, \"hovermode\": \"closest\", \"mapbox\": {\"style\": \"light\"}, \"paper_bgcolor\": \"white\", \"plot_bgcolor\": \"#E5ECF6\", \"polar\": {\"angularaxis\": {\"gridcolor\": \"white\", \"linecolor\": \"white\", \"ticks\": \"\"}, \"bgcolor\": \"#E5ECF6\", \"radialaxis\": {\"gridcolor\": \"white\", \"linecolor\": \"white\", \"ticks\": \"\"}}, \"scene\": {\"xaxis\": {\"backgroundcolor\": \"#E5ECF6\", \"gridcolor\": \"white\", \"gridwidth\": 2, \"linecolor\": \"white\", \"showbackground\": true, \"ticks\": \"\", \"zerolinecolor\": \"white\"}, \"yaxis\": {\"backgroundcolor\": \"#E5ECF6\", \"gridcolor\": \"white\", \"gridwidth\": 2, \"linecolor\": \"white\", \"showbackground\": true, \"ticks\": \"\", \"zerolinecolor\": \"white\"}, \"zaxis\": {\"backgroundcolor\": \"#E5ECF6\", \"gridcolor\": \"white\", \"gridwidth\": 2, \"linecolor\": \"white\", \"showbackground\": true, \"ticks\": \"\", \"zerolinecolor\": \"white\"}}, \"shapedefaults\": {\"line\": {\"color\": \"#2a3f5f\"}}, \"ternary\": {\"aaxis\": {\"gridcolor\": \"white\", \"linecolor\": \"white\", \"ticks\": \"\"}, \"baxis\": {\"gridcolor\": \"white\", \"linecolor\": \"white\", \"ticks\": \"\"}, \"bgcolor\": \"#E5ECF6\", \"caxis\": {\"gridcolor\": \"white\", \"linecolor\": \"white\", \"ticks\": \"\"}}, \"title\": {\"x\": 0.05}, \"xaxis\": {\"automargin\": true, \"gridcolor\": \"white\", \"linecolor\": \"white\", \"ticks\": \"\", \"title\": {\"standoff\": 15}, \"zerolinecolor\": \"white\", \"zerolinewidth\": 2}, \"yaxis\": {\"automargin\": true, \"gridcolor\": \"white\", \"linecolor\": \"white\", \"ticks\": \"\", \"title\": {\"standoff\": 15}, \"zerolinecolor\": \"white\", \"zerolinewidth\": 2}}}, \"xaxis\": {\"anchor\": \"y\", \"domain\": [0.0, 1.0], \"title\": {\"text\": \"Date\"}}, \"yaxis\": {\"anchor\": \"x\", \"domain\": [0.0, 1.0], \"title\": {\"text\": \"Open\"}}},                        {\"responsive\": true}                    ).then(function(){\n",
       "                            \n",
       "var gd = document.getElementById('91d069c0-b50e-40be-920d-45f3270870ef');\n",
       "var x = new MutationObserver(function (mutations, observer) {{\n",
       "        var display = window.getComputedStyle(gd).display;\n",
       "        if (!display || display === 'none') {{\n",
       "            console.log([gd, 'removed!']);\n",
       "            Plotly.purge(gd);\n",
       "            observer.disconnect();\n",
       "        }}\n",
       "}});\n",
       "\n",
       "// Listen for the removal of the full notebook cells\n",
       "var notebookContainer = gd.closest('#notebook-container');\n",
       "if (notebookContainer) {{\n",
       "    x.observe(notebookContainer, {childList: true});\n",
       "}}\n",
       "\n",
       "// Listen for the clearing of the current output cell\n",
       "var outputEl = gd.closest('.output');\n",
       "if (outputEl) {{\n",
       "    x.observe(outputEl, {childList: true});\n",
       "}}\n",
       "\n",
       "                        })                };                });            </script>        </div>"
      ]
     },
     "metadata": {},
     "output_type": "display_data"
    }
   ],
   "source": [
    "\n",
    "fig_BTC = px.line(BTC_Data_df, x=\"Date\", y=\"Open\")\n",
    "\n",
    "fig2_BTC = px.scatter(df_BTC, x=\"Datetime\", y=\"BTC_price\", text = \"polarity\", hover_data=['Text'])\n",
    "\n",
    "fig_BTC.add_trace(fig2_BTC.data[0])\n",
    "\n",
    "#Custome annotation code if required \n",
    "fig_BTC.add_annotation(x= \"2021-01-29 00:00:00.00000\", y=34111,\n",
    "            text=\"Elon Musk changes his bio to #bitcoin\",\n",
    "            showarrow=True,\n",
    "            arrowhead=1)\n",
    "\n",
    "\n",
    "fig_BTC.show()\n",
    "\n",
    "\n",
    "\n",
    "\n",
    "\n",
    "\n"
   ]
  },
  {
   "cell_type": "code",
   "execution_count": null,
   "metadata": {},
   "outputs": [],
   "source": []
  }
 ],
 "metadata": {
  "kernelspec": {
   "display_name": "Python 3",
   "language": "python",
   "name": "python3"
  },
  "language_info": {
   "codemirror_mode": {
    "name": "ipython",
    "version": 3
   },
   "file_extension": ".py",
   "mimetype": "text/x-python",
   "name": "python",
   "nbconvert_exporter": "python",
   "pygments_lexer": "ipython3",
   "version": "3.8.5"
  }
 },
 "nbformat": 4,
 "nbformat_minor": 4
}
